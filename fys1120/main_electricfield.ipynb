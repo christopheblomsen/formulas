{
 "cells": [
  {
   "cell_type": "markdown",
   "metadata": {},
   "source": [
    "<!-- dom:TITLE: Electric field -->\n",
    "# Electric field\n",
    "<!-- dom:AUTHOR: Anders Malthe-Sorenssen at Deptartment fo Physics, University of Oslo, NorwayPublishing, Future eBook Solutions Ltd. -->\n",
    "<!-- Author: -->  \n",
    "**Anders Malthe-Sorenssen**, Deptartment fo Physics, University of Oslo, NorwayPublishing, Future eBook Solutions Ltd.\n",
    "\n",
    "Date: **Aug 23, 2020**\n",
    "\n",
    "<!-- Externaldocuments: ../nickname1/main_nickname1, ../nickname2/main_nickname2 -->\n",
    "\n",
    "<!-- Common Mako variables and functions -->\n",
    "\n",
    "\n",
    "\n",
    "\n",
    "\n",
    "\n",
    "\n",
    "\n",
    "In this chapter we will introduce the fundamental law for interaction between two charged bodies --- Coulomb's law --- and the corresponding field termed the electric field. Methods to calculate and visualize the electric field analytically and numerically will be discussed.\n",
    "\n",
    "# Coulomb's law\n",
    "\n",
    "\n",
    "If I rub a balloon against my hair and push it towards a wall, it will stick as illustrated in Fig. [fig:field-balloon-010](#fig:field-balloon-010). Why? We know from mechanics that gravity will pull the force down. Since it does not slide down, there must be another force acting in the opposite direction of gravity. What is this force?\n",
    "\n",
    "\n",
    "### Forces between charged objects\n",
    "\n",
    "The force that acts from the wall on the balloon is an electrostatic force. It is a fundamental force, just like gravity, that acts between all *charged* objects. The balloon becomes net charged when we rub it against our hair. Electrostatic forces are along with gravity one of the four fundamental forces of nature. In our everyday lives we mostly meet gravity and electrostatic forces. But we often do not reflect on the electrostatic forces, and we often given these forces other names. For example, the normal force between you and the ground you are standing on is due to electrostatic forces between the atoms on your surface and the surface of the ground. Indeed, all interatomic forces are electrostatic forces that are due to the distribution of charges around the atoms, such as the forces that keep water molecules together to form ice (See Fig. [fig:field-balloon-010](#fig:field-balloon-010)).\n",
    "\n",
    "<!-- dom:FIGURE:[fig-electricfield/field-balloon-010.png, width=600 frac=0.95] (a) Illustration of a balloon hanging on a wall. (b) Illustration of electrostatic forces between the atoms in ice.  <div id=\"fig:field-balloon-010\"></div> -->\n",
    "<!-- begin figure -->\n",
    "<div id=\"fig:field-balloon-010\"></div>\n",
    "\n",
    "<p>(a) Illustration of a balloon hanging on a wall. (b) Illustration of electrostatic forces between the atoms in ice.</p>\n",
    "<img src=\"fig-electricfield/field-balloon-010.png\" width=600>\n",
    "\n",
    "<!-- end figure -->\n",
    "\n",
    "\n",
    "\n",
    "\n",
    "\n",
    "### The electrostatic force law\n",
    "\n",
    "This fundamental force law that acts between all charged objects is *Coulumb's* law. It is a fundamental law like gravity, and the force law has a similar form to that of gravity. The force between point objects with charges $q$ and $Q$ at positions $\\vec{r}_q$ and $\\vec{r}_Q$ respectively is given Coulomb's law (see Fig. [fig:field-coulomb-010](#fig:field-coulomb-010)):\n",
    "\n",
    "**Coulomb's law.**\n",
    "\n",
    "The force *on* a point-particle with charge $q$ at a position $\\vec{r}_q$ *from* a point-particle with charge $Q$ at position $\\vec{r}_Q$ is:"
   ]
  },
  {
   "cell_type": "markdown",
   "metadata": {},
   "source": [
    "<!-- Equation labels as ordinary links -->\n",
    "<div id=\"eq:coulombslaw\"></div>\n",
    "\n",
    "$$\n",
    "\\begin{equation}\n",
    "\\vec{F} = \\frac{q Q}{4 \\pi \\epsilon_0 } \\frac{\\mathbf{\\hat{R}}}{R^2} \\; ,\n",
    "\\label{eq:coulombslaw} \\tag{1}\n",
    "\\end{equation}\n",
    "$$"
   ]
  },
  {
   "cell_type": "markdown",
   "metadata": {},
   "source": [
    "where $\\vec{R} = \\vec{r}_q - \\vec{r}_Q$, $\\mathbf{\\hat{R}} = \\vec{R}/R$, and $R = |\\vec{R}|$.\n",
    "\n",
    "\n",
    "\n",
    "Coulomb's law is an experimentally established law. It is correct as far as we can measure, up to a precision of $10^{-15}$.\n",
    "\n",
    "<!-- dom:FIGURE:[fig-electricfield/field-coulomb-011.png, width=600 frac=0.8] The force from a charge $Q$ at $\\vec{r}_Q$ on a charge $q$ at $\\vec{r}$. <div id=\"fig:field-coulomb-010\"></div> -->\n",
    "<!-- begin figure -->\n",
    "<div id=\"fig:field-coulomb-010\"></div>\n",
    "\n",
    "<p>The force from a charge $Q$ at $\\vec{r}_Q$ on a charge $q$ at $\\vec{r}$.</p>\n",
    "<img src=\"fig-electricfield/field-coulomb-011.png\" width=600>\n",
    "\n",
    "<!-- end figure -->\n",
    "\n",
    "\n",
    "\n",
    "### Similarity to gravity\n",
    "\n",
    "Coulomb's law looks very much like Newton's law of gravity. We recall that the force on a mass $m$ at position $\\vec{r}_m$ from a mass $M$ at a position $\\vec{r}_M$ is"
   ]
  },
  {
   "cell_type": "markdown",
   "metadata": {},
   "source": [
    "<!-- Equation labels as ordinary links -->\n",
    "<div id=\"eq:gravity\"></div>\n",
    "\n",
    "$$\n",
    "\\begin{equation}\n",
    "\\vec{F}_G = -G m M \\frac{\\vec{R}}{R^3} \\; .\n",
    "\\label{eq:gravity} \\tag{2}\n",
    "\\end{equation}\n",
    "$$"
   ]
  },
  {
   "cell_type": "markdown",
   "metadata": {},
   "source": [
    "where $\\vec{R} = \\vec{r}_m - \\vec{r}_M$, $\\mathbf{\\hat{R}} = \\vec{R}/R$, and $R = |\\vec{R}|$. You have a lot of experience with Newton's law: You know how to find its potential energy, you know how to solve the motion of objects affected by this force low, and you know how to solve such problems analytically and numerically. We will build on this intuition when we develop our understanding of Coulomb's law.\n",
    "\n",
    "### Charges versus masses\n",
    "\n",
    "We see that Newton's law of gravity has the opposite sign of Coulomb's law: For gravity two objects always attract each other because the masses $m$ and $M$ are always positive. Whereas for Coloumb's law, two objects with repel each other if $qQ$ is positive and attract each other if $qQ$ is negative. You already have experience and intuition about masses. You know that mass is a fundamental property of matter and that masses only can be positive. What about charge $q$? We need to build a similar understanding and intuition for charge. Charge is also a fundamental property of matter. However, charges may be either positive or negative. This means that the product $qQ$ can be either positive or negative. If the charges have the same sign, the objects will repel each other, but if they have different sign they will attract each other.\n",
    "\n",
    "### Electrons, protons and the conservation of charge\n",
    "\n",
    "The fundamental building block of charges are the charges of electrons and protons: Electrons have a change or $-e$ and protons have a charge $e$. We will therefore often refet to the atomic model of matter when we build our intuition about charged objects. Charges are measured in units of Coulombs, where $e = 1.602 \\times 10^{-19} \\text{C}$ is the charge of the proton. Charge is a *conserved quantity*. The net charge of a system does not change unless we add or remove charges from it. For example, a hydrogen atom has zero net charge. If it is split into an electron and a proton, the net charge is $-e + e = 0$. It is still zero. In the example of the balloon above, we changed the net charge of the balloon when we rubbed it against our hair. Electrons were transferred from the hair to the balloon, making the balloon negatively charged. As a result the balloon had a net charge different from zero and a net force was acting between the wall and the balloon [^balloon01].\n",
    "\n",
    "[^balloon01]: However, the wall would typically have zero net charge before it comes in contact with the balloon. To understand what happened in this case, we need to develop our understanding of electrostatic systems further. We will return to this case when we have developed the necessary concepts.\n",
    "\n",
    "### Adding masses and charges\n",
    "\n",
    "Because charges can be positive and negative, the *net charge* of an object can be zero even if there is internal structure in the charges. For example, the net charge of a hydrogen atom is zero: It has one proton with charge $e$ and one electron with charge $-e$. This is a significant difference from gravity. We will gradually learn the consequences of this difference, but an important effect is that since most objects have approximately zero net charge, the effective electrostatic force falls off more rapidly with distance for electromagnetism than for gravity. Gravity forces always add up. The gravitational force from the Sun is the sum of all the masses in the Sun, which is non-negligigle. Electrostatic forces both add and subtract. The electrostatic force from the Sun is the net sum of all the attractice and repulsive forces from the individual charges in the Sun, which is typically small since the net charge of the Sun is close to zero.\n",
    "\n",
    "### Comparing the magnitude of gravity and electrostatic forces\n",
    "\n",
    "How large are the electrostatic forces compared to gravity? We can compare the electrostatic and gravitational forces between an electron and a proton. The mass of the electron is $m_e = 9.10938356 \\times 10^{-31} \\, \\text{kg}$, the mass of the proton is $m_p = 1.6726219 \\times 10^{-27} \\, \\text{kg}$, the gravitational constant is $G = 6.67430 \\times 10^{-11} \\, \\text{m}^3 \\text{kg}^{-1} s^{-2}$. The gravitational force is $F_G = G m_e m_p / R^2$ and the electrostatic force is $F_C = e^2/(4 \\pi \\epsilon_0 R^2)$. Here $\\epsilon_0$ is called the permittivity of vacuum and its value is $\\epsilon_0 = 8.85 \\times 10^{-12} \\text{C}^{2} \\text{N}^-1 \\text{m}^{-2}$. Both forces depend on $R^2$. If we look at the ratio, the $R$s will cancel out:"
   ]
  },
  {
   "cell_type": "markdown",
   "metadata": {},
   "source": [
    "<!-- Equation labels as ordinary links -->\n",
    "<div id=\"_auto1\"></div>\n",
    "\n",
    "$$\n",
    "\\begin{equation}\n",
    "\\frac{F_G}{F_C} = \\frac{G m_e m_p}{e^2/(4 \\pi \\epsilon_0)} = \\frac{G m_e m_p 4 \\pi \\epsilon_0}{e^2}\n",
    "\\label{_auto1} \\tag{3}\n",
    "\\end{equation}\n",
    "$$"
   ]
  },
  {
   "cell_type": "markdown",
   "metadata": {},
   "source": [
    "0\n",
    " \n",
    "<\n",
    "<\n",
    "<\n",
    "!\n",
    "!\n",
    "C\n",
    "O\n",
    "D\n",
    "E\n",
    "_\n",
    "B\n",
    "L\n",
    "O\n",
    "C\n",
    "K\n",
    " \n",
    " \n",
    "p\n",
    "y\n",
    "c\n",
    "o\n",
    "d"
   ]
  },
  {
   "cell_type": "markdown",
   "metadata": {},
   "source": [
    "        ratio =  4.406772215446942e-40\n"
   ]
  },
  {
   "cell_type": "markdown",
   "metadata": {},
   "source": [
    "The gravitational force between an electron and a proton is therefore very much smaller than the electrostatic force --- irrespective of distance. If we for simplicity assume that all matter consists of electrons and protons (forgetting about neutrons for the argument), this should also hold for the Earth and the Sun. But we must then remember that the *net* charge often is approximately zero, as discussed above. Masses add up, but charges tend to (almost) cancel out.\n",
    "\n",
    "### The permittivity in vacuum\n",
    "\n",
    "The quantity $\\epsilon_0$ is called the permittivity of vacuum. We have written the constant in front of Coulumb's law as $1/(4 \\pi \\epsilon_0)$. This seems a strange choice. Why not simply call it $K = 1/(4 \\pi \\epsilon_0)$? It turns out that this way of writing it is practical, but the reason for this will become apparant in a short while.\n",
    "\n",
    "### Point charges and extended objects\n",
    "\n",
    "We recall from mechanics that we started by describing objects as point objects before we moved on to address extended objects as sums of point objects. We will pursue a similar approach in electromagnetism. We will start by addressing *point charges*, which are charged bodies where the dimensions of the body is much smaller than typical distances between bodies of interest. Electrons and protons are considered point charges, but we will use this concept also as simplified models of macroscopic bodies. We will then also need to apply the superposition principle of forces.\n",
    "\n",
    "\n",
    "\n",
    "### Superposition principle\n",
    "\n",
    "The superposition principle for forces also holds for Coulomb's force law: The force *on* a point charge $q$ at $\\vec{r}_q$ *from* point charges $Q_1$ and $Q_2$ at $\\vec{r}_{Q1}$ and $\\vec{r}_{Q2}$, respectively, is:"
   ]
  },
  {
   "cell_type": "markdown",
   "metadata": {},
   "source": [
    "<!-- Equation labels as ordinary links -->\n",
    "<div id=\"_auto2\"></div>\n",
    "\n",
    "$$\n",
    "\\begin{equation}\n",
    "\\vec{F} = \\vec{F}_1 + \\vec{F}_2 = \\frac{q Q_1}{4 \\pi \\epsilon_0} \\frac{\\mathbf{\\hat{R}}_1}{R_1^2} + \\frac{q Q_2}{4 \\pi \\epsilon_0} \\frac{\\vec{R}_2}{R_2^2} \\, , \n",
    "\\label{_auto2} \\tag{4}\n",
    "\\end{equation}\n",
    "$$"
   ]
  },
  {
   "cell_type": "markdown",
   "metadata": {},
   "source": [
    "where $\\vec{R}_1 = \\vec{r}_q - \\vec{r}_{Q1}$ and $\\vec{R}_2 = \\vec{r}_q- \\vec{r}_{Q2}$. The superposition principle can be extended to any number of point charges. The principle will be used as both a theoretical and as a practical tool in this text --- so spend some time to ensure you master the principle now.\n",
    "\n",
    "**Quiz.**\n",
    "\n",
    "<!-- --- previous heading type: section -->\n",
    "\n",
    "\n",
    "\n",
    "**Question:** *The net force on a system due to all the electrostatic forces between charges in the system is zero*. Is this statement true or false? Explain your answer.\n",
    "\n",
    "**Choice A:**\n",
    " True\n",
    "\n",
    "**Choice B:**\n",
    " False\n",
    "\n",
    "\n",
    "\n",
    "**Quiz.**\n",
    "\n",
    "\n",
    "\n",
    "\n",
    "**Question:** What is the relation between the force $F_A$ on charge A and $F_B$ on charge B?\n",
    "\n",
    "**Choice A:**\n",
    " $F_A = F_B$\n",
    "\n",
    "**Choice B:**\n",
    " $F_A = 3 F_B$\n",
    "\n",
    "**Choice C:**\n",
    " $3F_A = F_B$\n",
    "\n",
    "\n",
    "\n",
    "### No self interaction\n",
    "\n",
    "Just like we have for the gravitational force from a single mass particle, a point charge does not interact with itself. However, just like for gravitational systems, the point charges making up an extended body may interact with other point charges in the same body, but not with themselves.\n",
    "\n",
    "<!-- Student activities / examples / test your understanding -->\n",
    "\n",
    "<!-- Arrow up/down. Is this possible? Why not? -->\n",
    "\n",
    "## Example: Three ways to apply the superposition principle\n",
    "\n",
    "Let us look at three ways to use the superposition principle to find the net force on a charge $q$ in the origin. Fig. [fig:field-superpos-010](#fig:field-superpos-010) shows a system of four charges $Q_1$, $Q_2$, $Q_3$ and $Q_4$ at positions $(a,0)$, $(-a,0)$, $(0,a)$, and $(0,-a)$ respectively.\n",
    "\n",
    "<!-- dom:FIGURE:[fig-electricfield/field-superpos-010.png, height=400 width=600 frac=0.75] A system with four charges $Q_1, \\ldots, Q_4$ in symmetric positions around a charge $q$ in the origin. <div id=\"fig:field-superpos-010\"></div> -->\n",
    "<!-- begin figure -->\n",
    "<div id=\"fig:field-superpos-010\"></div>\n",
    "\n",
    "<p>A system with four charges $Q_1, \\ldots, Q_4$ in symmetric positions around a charge $q$ in the origin.</p>\n",
    "<img src=\"fig-electricfield/field-superpos-010.png\" height=400 width=600>\n",
    "\n",
    "<!-- end figure -->\n",
    "\n",
    "\n",
    "### Graphical vector addition\n",
    "\n",
    "If all the charges are the same ($Q_i = Q$), we can use graphical vector addition to find the solution. As illustrated in Fig. [fig:field-superpos-010](#fig:field-superpos-010)b all the forces sum up to zero.\n",
    "\n",
    "### Analytical vector addition\n",
    "\n",
    "The forces in the $x$-direction *from* charge $Q_1$ *on* charge $q$ depends on $\\vec{R}_1 = \\vec{0} - \\vec{r}_{Q_1} = (-a,0)$:"
   ]
  },
  {
   "cell_type": "markdown",
   "metadata": {},
   "source": [
    "<!-- Equation labels as ordinary links -->\n",
    "<div id=\"_auto3\"></div>\n",
    "\n",
    "$$\n",
    "\\begin{equation}\n",
    "\\vec{F}_1 = \\frac{qQ}{4 \\pi \\epsilon_0}\\frac{\\vec{R}_1}{R_1^2} =\n",
    "\\frac{qQ}{4 \\pi \\epsilon_0}\\frac{(-a,0)}{a^2 + 0^2} =  -\\frac{qQ}{4 \\pi \\epsilon_0 a^2}\\mathbf{\\hat{x}} \\; .  \n",
    "\\label{_auto3} \\tag{5}\n",
    "\\end{equation}\n",
    "$$"
   ]
  },
  {
   "cell_type": "markdown",
   "metadata": {},
   "source": [
    "For charge $Q_2$ we have $\\vec{R}_2 = \\vec{0} - \\vec{r}_{Q_2} = (a,0)$ and the force is:"
   ]
  },
  {
   "cell_type": "markdown",
   "metadata": {},
   "source": [
    "<!-- Equation labels as ordinary links -->\n",
    "<div id=\"_auto4\"></div>\n",
    "\n",
    "$$\n",
    "\\begin{equation}\n",
    "\\vec{F}_2 = \\frac{qQ}{4 \\pi \\epsilon_0}\\frac{\\vec{R}_2}{R_2^2} =\n",
    "\\frac{qQ}{4 \\pi \\epsilon_0}\\frac{(a,0)}{a^2 + 0^2} =  \\frac{qQ}{4 \\pi \\epsilon_0 a^2}\\mathbf{\\hat{x}} \\; ,  \n",
    "\\label{_auto4} \\tag{6}\n",
    "\\end{equation}\n",
    "$$"
   ]
  },
  {
   "cell_type": "markdown",
   "metadata": {},
   "source": [
    "The net force in the $x$-direction is the sum, which we find by component-wise addition:"
   ]
  },
  {
   "cell_type": "markdown",
   "metadata": {},
   "source": [
    "<!-- Equation labels as ordinary links -->\n",
    "<div id=\"_auto5\"></div>\n",
    "\n",
    "$$\n",
    "\\begin{equation}\n",
    "\\vec{F}_x = \\vec{F}_1 + \\vec{F}_2 =  -\\frac{qQ}{4 \\pi \\epsilon_0 a^2}\\mathbf{\\hat{x}}  +\\frac{qQ}{4 \\pi \\epsilon_0 a^2}\\mathbf{\\hat{x}} = \\frac{qQ}{4 \\pi \\epsilon_0 a^2} \\left( \\mathbf{\\hat{x}} - \\mathbf{\\hat{x}} \\right) = 0 \\;.\n",
    "\\label{_auto5} \\tag{7}\n",
    "\\end{equation}\n",
    "$$"
   ]
  },
  {
   "cell_type": "markdown",
   "metadata": {},
   "source": [
    "### Numerical vector addition\n",
    "\n",
    "We can also calculate the sum numerically in Python, using explicit vector addition:"
   ]
  },
  {
   "cell_type": "code",
   "execution_count": 1,
   "metadata": {},
   "outputs": [
    {
     "ename": "NameError",
     "evalue": "name 'array' is not defined",
     "output_type": "error",
     "traceback": [
      "\u001b[0;31m---------------------------------------------------------------------------\u001b[0m",
      "\u001b[0;31mNameError\u001b[0m                                 Traceback (most recent call last)",
      "\u001b[0;32m<ipython-input-1-cc9a4d3f2cfd>\u001b[0m in \u001b[0;36m<module>\u001b[0;34m\u001b[0m\n\u001b[1;32m      6\u001b[0m \u001b[0mR1\u001b[0m \u001b[0;34m=\u001b[0m \u001b[0mrq\u001b[0m \u001b[0;34m-\u001b[0m \u001b[0mrQ1\u001b[0m\u001b[0;34m\u001b[0m\u001b[0;34m\u001b[0m\u001b[0m\n\u001b[1;32m      7\u001b[0m \u001b[0mF1\u001b[0m \u001b[0;34m=\u001b[0m \u001b[0mqQ_div_4piepsilon0\u001b[0m\u001b[0;34m*\u001b[0m\u001b[0mR1\u001b[0m\u001b[0;34m/\u001b[0m\u001b[0mnp\u001b[0m\u001b[0;34m.\u001b[0m\u001b[0mlinalg\u001b[0m\u001b[0;34m.\u001b[0m\u001b[0mnorm\u001b[0m\u001b[0;34m(\u001b[0m\u001b[0mR1\u001b[0m\u001b[0;34m)\u001b[0m\u001b[0;34m**\u001b[0m\u001b[0;36m3\u001b[0m\u001b[0;34m\u001b[0m\u001b[0;34m\u001b[0m\u001b[0m\n\u001b[0;32m----> 8\u001b[0;31m \u001b[0mR2\u001b[0m \u001b[0;34m=\u001b[0m \u001b[0mrq\u001b[0m \u001b[0;34m-\u001b[0m \u001b[0marray\u001b[0m\u001b[0;34m(\u001b[0m\u001b[0;34m[\u001b[0m\u001b[0;34m-\u001b[0m\u001b[0ma\u001b[0m\u001b[0;34m,\u001b[0m\u001b[0;36m0\u001b[0m\u001b[0;34m]\u001b[0m\u001b[0;34m)\u001b[0m\u001b[0;34m\u001b[0m\u001b[0;34m\u001b[0m\u001b[0m\n\u001b[0m\u001b[1;32m      9\u001b[0m \u001b[0mF2\u001b[0m \u001b[0;34m=\u001b[0m \u001b[0mqQ_div_4piepsilon0\u001b[0m\u001b[0;34m*\u001b[0m\u001b[0mR2\u001b[0m\u001b[0;34m/\u001b[0m\u001b[0mnp\u001b[0m\u001b[0;34m.\u001b[0m\u001b[0mlinalg\u001b[0m\u001b[0;34m.\u001b[0m\u001b[0mnorm\u001b[0m\u001b[0;34m(\u001b[0m\u001b[0mR2\u001b[0m\u001b[0;34m)\u001b[0m\u001b[0;34m**\u001b[0m\u001b[0;36m3\u001b[0m\u001b[0;34m\u001b[0m\u001b[0;34m\u001b[0m\u001b[0m\n\u001b[1;32m     10\u001b[0m \u001b[0mR3\u001b[0m \u001b[0;34m=\u001b[0m \u001b[0mrq\u001b[0m \u001b[0;34m-\u001b[0m \u001b[0mnp\u001b[0m\u001b[0;34m.\u001b[0m\u001b[0marray\u001b[0m\u001b[0;34m(\u001b[0m\u001b[0;34m[\u001b[0m\u001b[0;36m0\u001b[0m\u001b[0;34m,\u001b[0m\u001b[0ma\u001b[0m\u001b[0;34m]\u001b[0m\u001b[0;34m)\u001b[0m\u001b[0;34m\u001b[0m\u001b[0;34m\u001b[0m\u001b[0m\n",
      "\u001b[0;31mNameError\u001b[0m: name 'array' is not defined"
     ]
    }
   ],
   "source": [
    "import numpy as np\n",
    "qQ_div_4piepsilon0 = 1.0\n",
    "a = 1.0\n",
    "rq = np.array([0,0])\n",
    "rQ1 = np.array([a,0])\n",
    "R1 = rq - rQ1\n",
    "F1 = qQ_div_4piepsilon0*R1/np.linalg.norm(R1)**3\n",
    "R2 = rq - array([-a,0])\n",
    "F2 = qQ_div_4piepsilon0*R2/np.linalg.norm(R2)**3\n",
    "R3 = rq - np.array([0,a])\n",
    "F3 = qQ_div_4piepsilon0*R3/np.linalg.norm(R3)**3\n",
    "R4 = rq - array([0,-a])\n",
    "F4 = qQ_div_4piepsilon0*R4/np.linalg.norm(R4)**3\n",
    "F = F1+F2+F3+F4\n",
    "print(\"F = \",F)"
   ]
  },
  {
   "cell_type": "markdown",
   "metadata": {},
   "source": [
    "**Test your understanding.**\n",
    "\n",
    "A charge $Q$ is placed in $(a,0)$. What is the force from charge $Q$ on a charge $q$ in $(0,a)$?\n",
    "\n",
    "\n",
    "\n",
    "<!-- One worked example / student exercise with four charges -->\n",
    "\n",
    "# Electric field\n",
    "\n",
    "\n",
    "\n",
    "Coulomb's law allows us to find the force acting on a charge $q$ from a set of charges $Q_i$ in space simply by summing the contributions from the individual forces:"
   ]
  },
  {
   "cell_type": "markdown",
   "metadata": {},
   "source": [
    "<!-- Equation labels as ordinary links -->\n",
    "<div id=\"_auto6\"></div>\n",
    "\n",
    "$$\n",
    "\\begin{equation}\n",
    "\\vec{F} = \\sum_i \\frac{qQ_i}{4 \\pi \\epsilon_0} \\frac{\\vec{R}_i}{R_i^3}\n",
    "= q \\underbrace{\\left( \\sum_i \\frac{Q_i}{4 \\pi \\epsilon_0} \\frac{\\vec{R}_i}{R_i^3} \\right)}_{\\vec{E}} = q \\vec{E}\\; .\n",
    "\\label{_auto6} \\tag{8}\n",
    "\\end{equation}\n",
    "$$"
   ]
  },
  {
   "cell_type": "markdown",
   "metadata": {},
   "source": [
    "We call the term in brackets $\\vec{E}$. It does not depend on the charge $q$, only only on the charges $Q_i$ and their positions relative to the charge $q$. If we were the replace the charge $q$ with $Q$, we only need to change the factor in front of $\\vec{E}$. Similarly, if we were to change the sign of the charge $q$, we still only need to change the prefactor $q$ in $q \\vec{E}$. It is therefore a useful trick to calculate $\\vec{E}$ first. Then we can find the force on any charge $q$ as $q\\vec{E}$.\n",
    "\n",
    "$}\n",
    "\n",
    "### Electric field\n",
    "\n",
    "This motivates the introduction of the *electric field*:\n",
    "\n",
    "**Electric field.**\n",
    "\n",
    "The electric field $\\vec{E}$ is defined as:"
   ]
  },
  {
   "cell_type": "markdown",
   "metadata": {},
   "source": [
    "<!-- Equation labels as ordinary links -->\n",
    "<div id=\"_auto7\"></div>\n",
    "\n",
    "$$\n",
    "\\begin{equation}\n",
    "\\vec{E} = \\frac{\\vec{F}_{q}}{q} \\quad \\left( q \\rightarrow 0 \\right) \\; .\n",
    "\\label{_auto7} \\tag{9}\n",
    "\\end{equation}\n",
    "$$"
   ]
  },
  {
   "cell_type": "markdown",
   "metadata": {},
   "source": [
    "where $\\vec{F}_q$ is the force on test charge $q$ from other charges in space. We assume $q$ is a small[^fieldfootnote] test charge.\n",
    "\n",
    "\n",
    "\n",
    "The force from the electric field $\\vec{E}$ on a test charge $q$ is"
   ]
  },
  {
   "cell_type": "markdown",
   "metadata": {},
   "source": [
    "<!-- Equation labels as ordinary links -->\n",
    "<div id=\"_auto8\"></div>\n",
    "\n",
    "$$\n",
    "\\begin{equation}\n",
    "\\boxed{\\vec{F} = q \\vec{E} \\; .}\n",
    "\\label{_auto8} \\tag{10}\n",
    "\\end{equation}\n",
    "$$"
   ]
  },
  {
   "cell_type": "markdown",
   "metadata": {},
   "source": [
    "[^fieldfootnote]: Why do we say that the test charge is small? This is to make clear that the test charge $q$ does not affect the distribution of charges, $Q_i$, that set up the electric field. The test charge is so small, that we do not have to think about how $q$ would affect any other charge in the system. Why this distinction is important will become more \n",
    "\n",
    "\n",
    "### The electric field is a vector field\n",
    "\n",
    "The electric field depends on the position $\\vec{r}$ in space. It is a vector field: For each position $\\vec{r}$ it provides a vector value, $\\vec{E}(\\vec{r})$.\n",
    "\n",
    "### The electric field is analoguous to the gravitational field\n",
    "\n",
    "You already have intuition about a similar concept --- the gravitational field. You recall that the gravitational force on an object of mass $m$ is $m \\vec{g}$. When the object is close to the Earth's surface, we know that $\\vec{g}$ is approximately constant. The same relation is also valid for an astroid in the Solar system, but then $\\vec{g}(\\vec{r})$ depends on the position of the mass relative to all the other masses in the Solar system. Just like the gravitational field is set up by the distribution of masses in space, the electric field is set up the distribution of charges in space. \n",
    "\n",
    "**Test your understanding.**\n",
    "\n",
    "<div id=\"ex:electricfield-charge-in-origin\"></div>\n",
    "If we place a charge $Q$ in the origin, what is the force $\\vec{F}$ on a charge $q$ in $\\vec{r}$? What is the electric field $\\vec{E}$ in $\\vec{r}$?\n",
    "\n",
    "\n",
    "\n",
    "## Example: The electric field from a point charge\n",
    "\n",
    "What is the electric field from a single point charge $Q_1$? The force from $Q_1$ on $q$ can be found from Coulomb's law. We assume the charge $Q_1$ is in $\\vec{r}_1$. According to Coulomb's law, the force on a charge $q$ in $\\vec{r}$ is:"
   ]
  },
  {
   "cell_type": "markdown",
   "metadata": {},
   "source": [
    "<!-- Equation labels as ordinary links -->\n",
    "<div id=\"_auto9\"></div>\n",
    "\n",
    "$$\n",
    "\\begin{equation}\n",
    "\\vec{F} = \\frac{qQ}{4 \\pi \\epsilon_0} \\frac{\\vec{R}}{R^3} \\; ,\n",
    "\\label{_auto9} \\tag{11}\n",
    "\\end{equation}\n",
    "$$"
   ]
  },
  {
   "cell_type": "markdown",
   "metadata": {},
   "source": [
    "where $\\vec{R}$ is the vector *from* the charge $Q_1$ at $\\vec{r}_1$ *to* the charge $q$ at $\\vec{r}$: $\\vec{R} = \\vec{r} - \\vec{r}_1$:"
   ]
  },
  {
   "cell_type": "markdown",
   "metadata": {},
   "source": [
    "<!-- Equation labels as ordinary links -->\n",
    "<div id=\"_auto10\"></div>\n",
    "\n",
    "$$\n",
    "\\begin{equation}\n",
    "\\vec{F} = \\frac{qQ}{4 \\pi \\epsilon_0} \\frac{\\vec{r}-\\vec{r}_1}{|\\vec{r}-\\vec{r}_1|^3} \\; ,\n",
    "\\label{_auto10} \\tag{12}\n",
    "\\end{equation}\n",
    "$$"
   ]
  },
  {
   "cell_type": "markdown",
   "metadata": {},
   "source": [
    "and the electric field is:"
   ]
  },
  {
   "cell_type": "markdown",
   "metadata": {},
   "source": [
    "<!-- Equation labels as ordinary links -->\n",
    "<div id=\"eq:electricfield-pointcharge\"></div>\n",
    "\n",
    "$$\n",
    "\\begin{equation}\n",
    "\\vec{E} = \\frac{\\vec{F}}{q} = \\frac{Q}{4 \\pi \\epsilon_0} \\frac{\\vec{r}-\\vec{r}_1}{|\\vec{r}-\\vec{r}_1|^3} \\; .\n",
    "\\label{eq:electricfield-pointcharge} \\tag{13}\n",
    "\\end{equation}\n",
    "$$"
   ]
  },
  {
   "cell_type": "markdown",
   "metadata": {},
   "source": [
    "### Electric field in Cartesian coordinates\n",
    "\n",
    "Let us make this more specific. Assume that the charge $Q$ is a $(0,0,a)$. What is the electric field in the position $\\vec{r} = (x,y,z)$? We insert these values in $\\vec{R} = \\vec{r} - \\vec{r}_1$, getting: $\\vec{R} = (x,y,z)-(0,0,a) = (x,y,z-a)$ and $R = (x^2 + y^2 + (z-a)^2)^{1/2}$. We insert this in ([13](#eq:electricfield-pointcharge)), getting"
   ]
  },
  {
   "cell_type": "markdown",
   "metadata": {},
   "source": [
    "<!-- Equation labels as ordinary links -->\n",
    "<div id=\"_auto11\"></div>\n",
    "\n",
    "$$\n",
    "\\begin{equation}\n",
    "\\vec{E} = \\frac{Q}{4 \\pi \\epsilon_0} \\frac{(x,y,z-a)}{|x^2 + y^2 + (z-a)^2|^{3/2}} \\; .\n",
    "\\label{_auto11} \\tag{14}\n",
    "\\end{equation}\n",
    "$$"
   ]
  },
  {
   "cell_type": "markdown",
   "metadata": {},
   "source": [
    "Notice that the electric field indeed depends on the position $(x,y,z)$ in space. The formula is rather complex, even though this problem is about the simplest problem we could think of. We therefore need to develop effective methods to calculate electric fields --- both analytically and numerically.\n",
    "\n",
    "### Visualization of the electric field\n",
    "\n",
    "It is customary to visualize the electric field by drawing small arrows to illustrate the vector field. The arrows indicate the magnitude and direction of the field in a given point in space. We draw a sufficient number of arrows to provide a good illustration of the field. (What you believe to be a sufficient number of arrow is up to your judgement). This is illustrated in Fig. [fig:electricfield-vis-onecharge](#fig:electricfield-vis-onecharge).\n",
    "\n",
    "### Visualization using Python\n",
    "\n",
    "We will address how to visualize vector fields in detail below, but provide a preview here. We can visualize the field $\\vec{E}/(q/(4 \\pi \\epsilon_0))$ in the $xz$-plane by the following simple Python program:"
   ]
  },
  {
   "cell_type": "code",
   "execution_count": null,
   "metadata": {},
   "outputs": [],
   "source": [
    "from pylab import *\n",
    "x = linspace(-5,5,20)\n",
    "z = linspace(-5,5,20)\n",
    "X,Z = meshgrid(x,z)\n",
    "a = 1.0\n",
    "r1z = a*ones((20,20),float)\n",
    "Rnorm = (X*X+(Z-r1z)*(Z-r1z))**0.5\n",
    "quiver(X,Z,X/Rnorm**2,(Z-r1z)/Rnorm**2)"
   ]
  },
  {
   "cell_type": "markdown",
   "metadata": {},
   "source": [
    "The resulting plot is shown in Fig. [fig:electricfield-vis-onecharge](#fig:electricfield-vis-onecharge). We will go through the details of this program and how to visualize vector fields in various ways below.\n",
    "\n",
    "<!-- dom:FIGURE:[fig-electricfield/electricfield-vis-onecharge-ab.png, width=600 frac=0.6] (a) Drawing and (b) Visualization of the electric field from a point charge at $(0,0,a)$. <div id=\"fig:electricfield-vis-onecharge\"></div> -->\n",
    "<!-- begin figure -->\n",
    "<div id=\"fig:electricfield-vis-onecharge\"></div>\n",
    "\n",
    "<p>(a) Drawing and (b) Visualization of the electric field from a point charge at $(0,0,a)$.</p>\n",
    "<img src=\"fig-electricfield/electricfield-vis-onecharge-ab.png\" width=600>\n",
    "\n",
    "<!-- end figure -->\n",
    "\n",
    "\n",
    "## Superposition principle for the electric field\n",
    "\n",
    "Since the superposition principle is valid for the addition of forces from several charges $Q_i$, we can also use the superposition principle for the electric field. To find the total electric field, we sum the contributions from all the charges present. For example, the electric field from a set of charges $Q_i$ at positions $\\vec{r}_i$ is:"
   ]
  },
  {
   "cell_type": "markdown",
   "metadata": {},
   "source": [
    "<!-- Equation labels as ordinary links -->\n",
    "<div id=\"_auto12\"></div>\n",
    "\n",
    "$$\n",
    "\\begin{equation}\n",
    "\\vec{E} = \\frac{1}{q} \\sum_i \\vec{F}_i = \\sum_i \\frac{\\vec{F}_i}{q} = \\sum_i \\vec{E}_i = \\sum_i \\frac{1}{4 \\pi \\epsilon_0} \\frac{Q_i}{R_i^2} \\mathbf{\\hat{R}}_i \\; ,\n",
    "\\label{_auto12} \\tag{15}\n",
    "\\end{equation}\n",
    "$$"
   ]
  },
  {
   "cell_type": "markdown",
   "metadata": {},
   "source": [
    "where $\\vec{E}_i$ is the field from charge $Q_i$, $\\vec{R}_i = \\vec{r} - \\vec{r}_i$, and $R_i = |\\vec{R}_i|$.\n",
    "\n",
    "**Note on the vector $\\vec{R}$.**\n",
    "\n",
    "\n",
    "The vector $\\vec{R}$ plays a special role in the expression for the electric field (and for Coulomb's law). We often write only $\\vec{R}$ for simplicity --- and then leave it to be implicily understood that the vector depends on both the position of the charge $Q_i$ and on the position in space, $\\vec{r}$. For example, in the expression for the field from a set of charges $Q_i$"
   ]
  },
  {
   "cell_type": "markdown",
   "metadata": {},
   "source": [
    "<!-- Equation labels as ordinary links -->\n",
    "<div id=\"_auto13\"></div>\n",
    "\n",
    "$$\n",
    "\\begin{equation}\n",
    "\\vec{E} = \\sum_i \\frac{1}{4 \\pi \\epsilon_0} \\frac{Q_i}{R_i^2} \\mathbf{\\hat{R}}_i \\; ,\n",
    "\\label{_auto13} \\tag{16}\n",
    "\\end{equation}\n",
    "$$"
   ]
  },
  {
   "cell_type": "markdown",
   "metadata": {},
   "source": [
    "each of the vectors $\\vec{R}_i = \\vec{r} - \\vec{r}_i$. A common mistake is the insert $\\vec{r}_i$ instead of $\\vec{R}$.\n",
    "\n",
    "\n",
    "\n",
    "\n",
    "\n",
    "\n",
    "## Example: Electric field from two charges\n",
    "\n",
    "Let us start with a specific example to learn about the use of the $\\vec{R}$-vector. We look at the electric field from two charges $Q_1$ and $Q_2$ at $\\vec{r}_1 = (x_1,y_1,z_1)$ and $\\vec{r}_2 = (x_2,y_2,z_2)$ respectively.\n",
    "\n",
    "How do we find the field? We use the superposition principle, adding the fields from charge $Q_1$ and $Q_2$. We want to find the electric field at some position $\\vec{r}$ as illustrated in Fig. [fig:field-twocharges-010](#fig:field-twocharges-010).\n",
    "\n",
    "<!-- dom:FIGURE:[fig-electricfield/field-twocharges-010.png, width=600 frac=0.6] Illustration of two charges $Q_1$ and $Q_2$. The electric field at a position $\\vec{r}$ is the sum of the contributions from each of the two charges. <div id=\"fig:field-twocharges-010\"></div>.  -->\n",
    "<!-- begin figure -->\n",
    "<div id=\"fig:field-twocharges-010\"></div>\n",
    "\n",
    "<p>Illustration of two charges $Q_1$ and $Q_2$. The electric field at a position $\\vec{r}$ is the sum of the contributions from each of the two charges..</p>\n",
    "<img src=\"fig-electricfield/field-twocharges-010.png\" width=600>\n",
    "\n",
    "<!-- end figure -->\n",
    "\n",
    "\n",
    "First we find an expression for the electric field $\\vec{E}_1(\\vec{r})$ from a single charge:"
   ]
  },
  {
   "cell_type": "markdown",
   "metadata": {},
   "source": [
    "<!-- Equation labels as ordinary links -->\n",
    "<div id=\"_auto14\"></div>\n",
    "\n",
    "$$\n",
    "\\begin{equation}\n",
    "\\vec{E}_1(\\vec{r}) = \\frac{1}{4 \\pi \\epsilon_0} \\frac{Q_1}{R_1^2} \\mathbf{\\hat{R}} = \\frac{1}{4 \\pi \\epsilon_0} \\frac{Q_1}{R_1^2} \\frac{\\vec{R}_1}{R_1} = \\frac{1}{4 \\pi \\epsilon_0} \\frac{Q_1}{R_1^3} \\vec{R}_1 \\; .\n",
    "\\label{_auto14} \\tag{17}\n",
    "\\end{equation}\n",
    "$$"
   ]
  },
  {
   "cell_type": "markdown",
   "metadata": {},
   "source": [
    "We can get an excplicit result by inserting that $\\vec{R}_1 = \\vec{r} - \\vec{r}_1$:"
   ]
  },
  {
   "cell_type": "markdown",
   "metadata": {},
   "source": [
    "<!-- Equation labels as ordinary links -->\n",
    "<div id=\"_auto15\"></div>\n",
    "\n",
    "$$\n",
    "\\begin{equation}\n",
    "\\vec{E}_1(\\vec{r}) = \\frac{1}{4 \\pi \\epsilon_0} \\frac{Q_1}{R_1^3} \\vec{R}_1 = \\frac{1}{4 \\pi \\epsilon_0} \\frac{Q_1}{| \\vec{r} - \\vec{r}_1 |^3} \\left( \\vec{r} - \\vec{r}_1 \\right) \\; .\n",
    "\\label{_auto15} \\tag{18}\n",
    "\\end{equation}\n",
    "$$"
   ]
  },
  {
   "cell_type": "markdown",
   "metadata": {},
   "source": [
    "We can even insert the cartesian coordinates in the expression:"
   ]
  },
  {
   "cell_type": "markdown",
   "metadata": {},
   "source": [
    "<!-- Equation labels as ordinary links -->\n",
    "<div id=\"_auto16\"></div>\n",
    "\n",
    "$$\n",
    "\\begin{equation}\n",
    "\\vec{E}_1(x,y,z) = \\frac{1}{4 \\pi \\epsilon_0} \\frac{Q_1}{\\left( (x-x_1)^2 + (y-y_1)^2 + (z - z_1)^2 \\right)^{3/2}}  \\left( x-x_1,y-y_1,z-z_1 \\right) \\; .\n",
    "\\label{_auto16} \\tag{19}\n",
    "\\end{equation}\n",
    "$$"
   ]
  },
  {
   "cell_type": "markdown",
   "metadata": {},
   "source": [
    "Now, this is a rather complicated expression. We have developed it here in its full to illustate that the $\\vec{R}$-vector tends to simplify the mathematics, but when we do the full calculation we have to include all the details.\n",
    "\n",
    "We can use this to find the electric field from two charges, $Q_1$ and $Q_2$. The general expression becomes complicated, but not difficult to write down.\n",
    "\n",
    "## Example: Electric field from a dipole\n",
    "\n",
    "We can use the same approach to find the electric field from what we call an electric dipole. An electric dipole consists of two charges of the same size, but of opposite sign placed close together. Seen from far away the net charge is zero for this two-particle system, but the electric field is still not zero[^dipole]. An example of a dipole consists of a charge $Q_1 = Q$ at $\\vec{r}_1 = (d/2,0,0)$ and $Q_2 = -Q$ at $\\vec{r}_2 = (-d/2,0,0)$.\n",
    "\n",
    "The electric field at $\\vec{r} = (x,y,z)$ from these two charges is then (from the example above):"
   ]
  },
  {
   "cell_type": "markdown",
   "metadata": {},
   "source": [
    "<!-- Equation labels as ordinary links -->\n",
    "<div id=\"_auto17\"></div>\n",
    "\n",
    "$$\n",
    "\\begin{equation}\n",
    "\\vec{E} = \\vec{E}_1 + \\vec{E}_2 \n",
    "\\label{_auto17} \\tag{20}\n",
    "\\end{equation}\n",
    "$$"
   ]
  },
  {
   "cell_type": "markdown",
   "metadata": {},
   "source": [
    "<!-- Equation labels as ordinary links -->\n",
    "<div id=\"_auto18\"></div>\n",
    "\n",
    "$$\n",
    "\\begin{equation}  \n",
    "= \\frac{1}{4 \\pi \\epsilon_0} \\frac{Q_1 \\left( x-x_1,y-y_1,z-z_1 \\right)}{\\left( (x-x_1)^2 + (y-y_1)^2 + (z - z_1)^2 \\right)^{3/2}}   + \n",
    "\\label{_auto18} \\tag{21}\n",
    "\\end{equation}\n",
    "$$"
   ]
  },
  {
   "cell_type": "markdown",
   "metadata": {},
   "source": [
    "<!-- Equation labels as ordinary links -->\n",
    "<div id=\"_auto19\"></div>\n",
    "\n",
    "$$\n",
    "\\begin{equation}  \n",
    "  \\frac{1}{4 \\pi \\epsilon_0} \\frac{Q_2 \\left( x-x_2,y-y_2,z-z_2 \\right)}{\\left( (x-x_2)^2 + (y-y_2)^2 + (z - z_2)^2 \\right)^{3/2}}   \n",
    "\\label{_auto19} \\tag{22}\n",
    "\\end{equation}\n",
    "$$"
   ]
  },
  {
   "cell_type": "markdown",
   "metadata": {},
   "source": [
    "<!-- Equation labels as ordinary links -->\n",
    "<div id=\"_auto20\"></div>\n",
    "\n",
    "$$\n",
    "\\begin{equation}  \n",
    "= \\frac{Q}{4 \\pi \\epsilon_0} \\left( \\frac{(x,y-d/2,z)}{\\left( x^2 + (y-d/2)^2 + z^2 \\right)^{3/2}} \\right. - \n",
    "\\label{_auto20} \\tag{23}\n",
    "\\end{equation}\n",
    "$$"
   ]
  },
  {
   "cell_type": "markdown",
   "metadata": {},
   "source": [
    "<!-- Equation labels as ordinary links -->\n",
    "<div id=\"_auto21\"></div>\n",
    "\n",
    "$$\n",
    "\\begin{equation}  \n",
    "  \\left. \\frac{(x,y+d/2,z)}{\\left( x^2 + (y+d/2)^2 + z^2 \\right)^{3/2}} \\right) \\; .\n",
    "\\label{_auto21} \\tag{24}\n",
    "\\end{equation}\n",
    "$$"
   ]
  },
  {
   "cell_type": "markdown",
   "metadata": {},
   "source": [
    "Again, this is a complicated, but not difficult result. Later we will find an approximation for this result when $r \\gg d$. Here, we will use this as a basis for visualizing the electric field from a dipole.\n",
    "\n",
    "[^dipole]: The dipole is the simplest perturbation to a trivial system of a single charge --- in some ways similar to an harmonic oscillator as a simplest non-trivial model of an attractive interaction. Indeed, this correspondence is even deeper as we can often write the field from a complex charge distribution in terms of a dipole term, followed by more complicated poles of higher order.\n",
    "\n",
    "## Visualizing electric fields\n",
    "\n",
    "How can we visualize the field from a dipole or more generally from a set of charges $Q_i$ at positions $\\vec{r}_i$? \n",
    "\n",
    "In order to visualize the field, we need to calculate the electric field $\\vec{E}(\\vec{r})$ at various positions $\\vec{r}$ in space, and the illustrate the field for example by drawing a vector in each of these position as illustrated in Fig. [fig:field-findfieldonpoints-010](#fig:field-findfieldonpoints-010).\n",
    "\n",
    "<!-- dom:FIGURE:[fig-electricfield/field-findfieldonpoints-010.png, height=400 width=600 frac=0.5] We visualize the field by find the field on a grid of positions and then draw small arrows to illustrate the field.  <div id=\"fig:field-findfieldonpoints-010\"></div> -->\n",
    "<!-- begin figure -->\n",
    "<div id=\"fig:field-findfieldonpoints-010\"></div>\n",
    "\n",
    "<p>We visualize the field by find the field on a grid of positions and then draw small arrows to illustrate the field.</p>\n",
    "<img src=\"fig-electricfield/field-findfieldonpoints-010.png\" height=400 width=600>\n",
    "\n",
    "<!-- end figure -->\n",
    "\n",
    "\n",
    "### Calculating the field on a grid\n",
    "\n",
    "To do this we need to evaluate the field at various positions $(x,y,z)$. Here, we will illustrate how to do this in two dimensions $(x,y)$. We will do this in four steps: (1) We will write a function to calculate the electric field contribution from a single point charge. (2) We will generate a grid of regularly spaced points on which to calculate the electric field. (3) We will calculate the field at these position using superposition. (4) We visualize the vectors values as arrows or as stream lines.\n",
    "\n",
    "### Function for single point charge\n",
    "\n",
    "We want to write a function `efield(r,q0,r0)` that calculates the electric field at a position $\\vec{r}$ from a charge $q_0$ at position $\\vec{r}_0$. For simplicity, we calculate the field $\\vec{E}'$ without the prefactor: $\\vec{E}' = 4 \\pi \\epsilon_0 \\vec{E}$:"
   ]
  },
  {
   "cell_type": "markdown",
   "metadata": {},
   "source": [
    "<!-- Equation labels as ordinary links -->\n",
    "<div id=\"_auto22\"></div>\n",
    "\n",
    "$$\n",
    "\\begin{equation}\n",
    "\\vec{E}' = \\vec{E} 4 \\pi \\epsilon_0 = Q \\frac{\\vec{R}}{R^3} \\; .\n",
    "\\label{_auto22} \\tag{25}\n",
    "\\end{equation}\n",
    "$$"
   ]
  },
  {
   "cell_type": "markdown",
   "metadata": {},
   "source": [
    "where $\\vec{R} = \\vec{r} - \\vec{r}_0$. The corresponding code to calculate this is:"
   ]
  },
  {
   "cell_type": "code",
   "execution_count": null,
   "metadata": {},
   "outputs": [],
   "source": [
    "%matplotlib inline\n",
    "\n",
    "import numpy as np\n",
    "import matplotlib.pyplot as plt\n",
    "def efield(r,q0,r0):\n",
    "    # Find E*4*pi*epsilon0 at r from a charge q at position r0\n",
    "    R = r-r0\n",
    "    Rnorm = np.linalg.norm(R)\n",
    "    return q0*R/Rnorm**3"
   ]
  },
  {
   "cell_type": "markdown",
   "metadata": {},
   "source": [
    "We test the code by checking the value for $q_0 = 1$, $r = (2,0)$ and $r_0 = (0,0)$, which should give $\\vec{E}' = q_0 (2,0)/2^3 = (1/4,0)$:"
   ]
  },
  {
   "cell_type": "markdown",
   "metadata": {},
   "source": [
    "5\n",
    " \n",
    "<\n",
    "<\n",
    "<\n",
    "!\n",
    "!\n",
    "C\n",
    "O\n",
    "D\n",
    "E\n",
    "_\n",
    "B\n",
    "L\n",
    "O\n",
    "C\n",
    "K\n",
    " \n",
    " \n",
    "p\n",
    "y\n",
    "c\n",
    "o\n",
    "d"
   ]
  },
  {
   "cell_type": "markdown",
   "metadata": {},
   "source": [
    "        [0.25 0.  ]\n"
   ]
  },
  {
   "cell_type": "markdown",
   "metadata": {},
   "source": [
    "This is indeed correct. It is always smart to check the validity of a function with a few simple tests --- and it is good programming practice to write these test into your program as unit tests.\n",
    "\n",
    "\n",
    "### Generating a square grid of points\n",
    "\n",
    "Now, we need to calculate the values of the electric field for $\\vec{r}$-values on a square grid of points, $\\vec{r} = i a\\mathbf{\\hat{x}} + j a\\mathbf{\\hat{y}}$, where $a$ is a length and $i$ and $j$ are integers. If we want to cover an area $-L_x < x < L_x$ and $-L_y < y < L_y$ with 5 points in each direction, we choose $a_x = L_x/5$, $a_y = L_y/5$, $i,j = 0,1, \\ldots, 4$, and $x_i = a_x i - L_x$, $y_i = a_y i -L_y$. The function `meshgrid` makes such a grid from a list `x` of $x$-values and a list `y` of $y$-values:"
   ]
  },
  {
   "cell_type": "code",
   "execution_count": null,
   "metadata": {},
   "outputs": [],
   "source": [
    "Lx = 2\n",
    "Ly = 4\n",
    "x = np.linspace(-Lx,Lx,5)\n",
    "y = np.linspace(-Ly,Ly,5)\n",
    "rx,ry = np.meshgrid(x,y)"
   ]
  },
  {
   "cell_type": "markdown",
   "metadata": {},
   "source": [
    "What are the values of `rx` and `ry`?"
   ]
  },
  {
   "cell_type": "markdown",
   "metadata": {},
   "source": [
    "8\n",
    " \n",
    "<\n",
    "<\n",
    "<\n",
    "!\n",
    "!\n",
    "C\n",
    "O\n",
    "D\n",
    "E\n",
    "_\n",
    "B\n",
    "L\n",
    "O\n",
    "C\n",
    "K\n",
    " \n",
    " \n",
    "p\n",
    "y\n",
    "c\n",
    "o\n",
    "d"
   ]
  },
  {
   "cell_type": "markdown",
   "metadata": {},
   "source": [
    "9\n",
    " \n",
    "<\n",
    "<\n",
    "<\n",
    "!\n",
    "!\n",
    "C\n",
    "O\n",
    "D\n",
    "E\n",
    "_\n",
    "B\n",
    "L\n",
    "O\n",
    "C\n",
    "K\n",
    " \n",
    " \n",
    "d\n",
    "a\n",
    "t"
   ]
  },
  {
   "cell_type": "markdown",
   "metadata": {},
   "source": [
    "1\n",
    "0\n",
    " \n",
    "<\n",
    "<\n",
    "<\n",
    "!\n",
    "!\n",
    "C\n",
    "O\n",
    "D\n",
    "E\n",
    "_\n",
    "B\n",
    "L\n",
    "O\n",
    "C\n",
    "K\n",
    " \n",
    " \n",
    "p\n",
    "y\n",
    "c\n",
    "o\n",
    "d"
   ]
  },
  {
   "cell_type": "markdown",
   "metadata": {},
   "source": [
    "        [[-4. -4. -4. -4. -4.]\n",
    "         [-2. -2. -2. -2. -2.]\n",
    "         [ 0.  0.  0.  0.  0.]\n",
    "         [ 2.  2.  2.  2.  2.]\n",
    "         [ 4.  4.  4.  4.  4.]]\n"
   ]
  },
  {
   "cell_type": "markdown",
   "metadata": {},
   "source": [
    "Notice the numbering used by Python may be confusing: The element `rx[1,0]` is $-2$ and not $-1$, because the first index in the array is the row and the second is the column. Therefore the element `rx[j,i]` corresponds to $r_x(i,j)$. We need to remember this when we generate, visualize and make calculations in Python.\n",
    "\n",
    "### Visualization of $\\vec{r}$\n",
    "\n",
    "First, let us visualize the vector field we have generated, the simple vector function $\\vec{f}(\\vec{r}) = \\vec{r}$. We use the function `quiver` to draw vectors at each of the grid points. The first two arguments provide the grid coordinates, and the second two arguments provide the vector field to be visualized. Fig. [fig:electricfield-vis-r](#fig:electricfield-vis-r) show the result of the following commands. Notice the use of `set_aspect` on the axis to generate a plot with the correct aspect ratio."
   ]
  },
  {
   "cell_type": "code",
   "execution_count": null,
   "metadata": {},
   "outputs": [],
   "source": [
    "fig = figure(figsize=(12,6))\n",
    "ax1 = plt.subplot(1,2,1)\n",
    "plt.quiver(rx,ry,rx,ry)\n",
    "ax2 = plt.subplot(1,2,2)\n",
    "plt.quiver(rx,ry,rx,ry)\n",
    "ax2.set_aspect('equal', 'box')"
   ]
  },
  {
   "cell_type": "markdown",
   "metadata": {},
   "source": [
    "<!-- dom:FIGURE:[fig-electricfield/electricfield-vis-r.png, width=600 frac=0.8] Visualization of the field $\\vec{r}$. (a) Direct visualization. (b) With equal axes. <div id=\"fig:electricfield-vis-r\"></div> -->\n",
    "<!-- begin figure -->\n",
    "<div id=\"fig:electricfield-vis-r\"></div>\n",
    "\n",
    "<p>Visualization of the field $\\vec{r}$. (a) Direct visualization. (b) With equal axes.</p>\n",
    "<img src=\"fig-electricfield/electricfield-vis-r.png\" width=600>\n",
    "\n",
    "<!-- end figure -->\n",
    "\n",
    "\n",
    "### Creating the field with a loop\n",
    "\n",
    "Now, we use this to find the field from a single point charge at $\\vec{r}_0 = 0$ by looping through all the points of the field $\\vec{r}$. For each point, we will calculate the electric field, and we will place the points in a field $\\vec{E}$. This is done in the following program, which uses the function `efield` defined above. Notice that `rx`, `ry`, `Ex` and `Ey` are two-dimensional arrays. To loop through all their elements using only a single index, we can flatten the array to a one-dimensional array using the built-in method `flat`. We use a higher resolution $20 \\times 20$ grid from $-10$ to $10$ in both $x$- and $y$-directions. The resulting plot is shown in Fig. [fig:electricfield-vis-efield-010](#fig:electricfield-vis-efield-010).\n",
    "<!--  -->"
   ]
  },
  {
   "cell_type": "code",
   "execution_count": 2,
   "metadata": {},
   "outputs": [
    {
     "ename": "NameError",
     "evalue": "name 'xvalues' is not defined",
     "output_type": "error",
     "traceback": [
      "\u001b[0;31m---------------------------------------------------------------------------\u001b[0m",
      "\u001b[0;31mNameError\u001b[0m                                 Traceback (most recent call last)",
      "\u001b[0;32m<ipython-input-2-b64759a8d260>\u001b[0m in \u001b[0;36m<module>\u001b[0;34m\u001b[0m\n\u001b[1;32m      6\u001b[0m \u001b[0mx\u001b[0m \u001b[0;34m=\u001b[0m \u001b[0mnp\u001b[0m\u001b[0;34m.\u001b[0m\u001b[0mlinspace\u001b[0m\u001b[0;34m(\u001b[0m\u001b[0;34m-\u001b[0m\u001b[0mLx\u001b[0m\u001b[0;34m,\u001b[0m\u001b[0mLx\u001b[0m\u001b[0;34m,\u001b[0m\u001b[0mN\u001b[0m\u001b[0;34m)\u001b[0m\u001b[0;34m\u001b[0m\u001b[0;34m\u001b[0m\u001b[0m\n\u001b[1;32m      7\u001b[0m \u001b[0my\u001b[0m \u001b[0;34m=\u001b[0m \u001b[0mnp\u001b[0m\u001b[0;34m.\u001b[0m\u001b[0mlinspace\u001b[0m\u001b[0;34m(\u001b[0m\u001b[0;34m-\u001b[0m\u001b[0mLy\u001b[0m\u001b[0;34m,\u001b[0m\u001b[0mLy\u001b[0m\u001b[0;34m,\u001b[0m\u001b[0mN\u001b[0m\u001b[0;34m)\u001b[0m\u001b[0;34m\u001b[0m\u001b[0;34m\u001b[0m\u001b[0m\n\u001b[0;32m----> 8\u001b[0;31m \u001b[0mrx\u001b[0m\u001b[0;34m,\u001b[0m\u001b[0mry\u001b[0m \u001b[0;34m=\u001b[0m \u001b[0mnp\u001b[0m\u001b[0;34m.\u001b[0m\u001b[0mmeshgrid\u001b[0m\u001b[0;34m(\u001b[0m\u001b[0mxvalues\u001b[0m\u001b[0;34m,\u001b[0m\u001b[0myvalues\u001b[0m\u001b[0;34m)\u001b[0m\u001b[0;34m\u001b[0m\u001b[0;34m\u001b[0m\u001b[0m\n\u001b[0m\u001b[1;32m      9\u001b[0m \u001b[0;31m# Set up electric field\u001b[0m\u001b[0;34m\u001b[0m\u001b[0;34m\u001b[0m\u001b[0;34m\u001b[0m\u001b[0m\n\u001b[1;32m     10\u001b[0m \u001b[0mEx\u001b[0m \u001b[0;34m=\u001b[0m \u001b[0mzeros\u001b[0m\u001b[0;34m(\u001b[0m\u001b[0;34m(\u001b[0m\u001b[0mN\u001b[0m\u001b[0;34m,\u001b[0m\u001b[0mN\u001b[0m\u001b[0;34m)\u001b[0m\u001b[0;34m,\u001b[0m\u001b[0mzeros\u001b[0m\u001b[0;34m)\u001b[0m\u001b[0;34m\u001b[0m\u001b[0;34m\u001b[0m\u001b[0m\n",
      "\u001b[0;31mNameError\u001b[0m: name 'xvalues' is not defined"
     ]
    }
   ],
   "source": [
    "r0 = np.array([0,0])\n",
    "q0 = 1.0\n",
    "Lx = 10\n",
    "Ly = 10\n",
    "N = 20\n",
    "x = np.linspace(-Lx,Lx,N)\n",
    "y = np.linspace(-Ly,Ly,N)\n",
    "rx,ry = np.meshgrid(xvalues,yvalues)\n",
    "# Set up electric field\n",
    "Ex = zeros((N,N),zeros)\n",
    "Ey = zeros((N,N),zeros)\n",
    "# Calculate the field\n",
    "for i in range(len(rx.flat)):\n",
    "    r = np.array([rx.flat[i],ry.flat[i]])\n",
    "    Ex.flat[i],Ey.flat[i] = efield(r,q0,r0)\n",
    "# Visualization\n",
    "plt.quiver(X,Y,Ex,Ey)\n",
    "plt.axis('equal')"
   ]
  },
  {
   "cell_type": "markdown",
   "metadata": {},
   "source": [
    "<!-- dom:FIGURE:[fig-electricfield/electricfield-vis-efield-010.png, height=400 width=600 frac=0.9] Visualization of the field from a single charge at the origin using arrows, where the length of the arrow indicate the magnitude of the field (left), and where the color of the arrow indicate the magnitude of the field (right). <div id=\"fig:electricfield-vis-efield-010\"></div> -->\n",
    "<!-- begin figure -->\n",
    "<div id=\"fig:electricfield-vis-efield-010\"></div>\n",
    "\n",
    "<p>Visualization of the field from a single charge at the origin using arrows, where the length of the arrow indicate the magnitude of the field (left), and where the color of the arrow indicate the magnitude of the field (right).</p>\n",
    "<img src=\"fig-electricfield/electricfield-vis-efield-010.png\" height=400 width=600>\n",
    "\n",
    "<!-- end figure -->\n",
    "\n",
    "\n",
    "### Vector visualization using colors\n",
    "\n",
    "For electric fields from point charges, the magnitude of the field diverges close to the charges. This means that the arrows used to visualize the field becomes very large close to the charges and small far away from the charges. It is therefore sometime useful to separate the visualization of the direction and the magnitude of the field. This can be done by drawing unit vectors to indicate the direction of the field and then illustrate the magnitude with a color-scheme. This is done by the following short program. The resulting visualization is shown in Fig. [fig:electricfield-vis-efield-010](#fig:electricfield-vis-efield-010).\n",
    "<!--  -->"
   ]
  },
  {
   "cell_type": "code",
   "execution_count": null,
   "metadata": {},
   "outputs": [],
   "source": [
    "# Calculate the magnitude of the field\n",
    "Emag = np.sqrt(Ex**2 + Ey**2)\n",
    "# Calculate unit vectors in the fields direction\n",
    "nEx = Ex / Emag\n",
    "nEy = Ey / Emag\n",
    "# Visualize\n",
    "plt.quiver(rx,ry,nEx,nEy,np.log10(Emag))\n",
    "colorbar()"
   ]
  },
  {
   "cell_type": "markdown",
   "metadata": {},
   "source": [
    "Here, we have also used the logarithm of the magnitude in order to better visualize the range of values because the range of magnitudes for the field varies by orders of magnitude from far away to close to the charges. Experiment with these methods to find a visualization scheme you like.\n",
    "\n",
    "## Example: Visualizing the field from point charges\n",
    "\n",
    "We now have the tools needed to visualize the electric field set up by various charge distributions. For a set of charges $Q_i$ at positions $\\vec{r}_i$ we use the superposition principle and the methods introduced above to add together the contributions from each charge.\n",
    "\n",
    "### Electric field from a dipole\n",
    "\n",
    "We start by visualizing the field from a dipole with a charge $q_1 = Q$ at $\\vec{r}_1 = (0,a)$ and a charge $q_2 = -Q$ at $\\vec{r}_2 = (0,-a)$, where $a$ is a constant of unit length. The program follows exacly the same structure as above, but we have modified it slightly to instead draw the arrows with logarithmic length and not the actual length. The resulting visualization is shown in Fig. [fig:electricfield-vis-efield-020](#fig:electricfield-vis-efield-020).\n",
    "<!--  -->"
   ]
  },
  {
   "cell_type": "code",
   "execution_count": null,
   "metadata": {},
   "outputs": [],
   "source": [
    "a = 1.0\n",
    "q1 = 1.0\n",
    "r1 = np.array([0,a])\n",
    "q2 = -1.0\n",
    "r2 = np.array([0,-a])\n",
    "Lx = 5\n",
    "Ly = 5\n",
    "N = 21\n",
    "x = np.linspace(-Lx,Lx,N)\n",
    "y = np.linspace(-Ly,Ly,N)\n",
    "rx,ry = np.meshgrid(x,y)\n",
    "# Set up electric field\n",
    "Ex = np.zeros((N,N),float)\n",
    "Ey = np.zeros((N,N),float)\n",
    "# Calculate the field\n",
    "for i in range(len(rx.flat)):\n",
    "    r = np.array([rx.flat[i],ry.flat[i]])\n",
    "    Ex.flat[i],Ey.flat[i] = efield(r,q1,r1) + efield(r,q2,r2)\n",
    "# Calculate field magnitude and unit vectors\n",
    "Emag = np.sqrt(Ex**2 + Ey**2)\n",
    "minlogEmag = min(np.log10(Emag.flat))\n",
    "scaleE = np.log10(Emag) - minlogEmag\n",
    "uEx = Ex / Emag\n",
    "uEy = Ey / Emag\n",
    "# Visualize using both arrows and colors\n",
    "subplot(1,2,1)\n",
    "plt.quiver(rx,ry,uEx*scaleE,uEy*scaleE)\n",
    "subplot(1,2,2)\n",
    "plt.quiver(rx,ry,nEx,nEy,np.log10(Emag))"
   ]
  },
  {
   "cell_type": "markdown",
   "metadata": {},
   "source": [
    "<!-- dom:FIGURE:[fig-electricfield/electricfield-vis-efield-020.png, height=400 width=600 frac=0.9] Visualization of the field from a dipole. <div id=\"fig:electricfield-vis-efield-020\"></div> -->\n",
    "<!-- begin figure -->\n",
    "<div id=\"fig:electricfield-vis-efield-020\"></div>\n",
    "\n",
    "<p>Visualization of the field from a dipole.</p>\n",
    "<img src=\"fig-electricfield/electricfield-vis-efield-020.png\" height=400 width=600>\n",
    "\n",
    "<!-- end figure -->\n",
    "\n",
    "\n",
    "### Electric field from many charges\n",
    "\n",
    "We can update the computational method to include a list of charges, $Q_i$, and a corresponding list of positions, $\\vec{r}_i$. First, we generate a list `Q` and `R`:"
   ]
  },
  {
   "cell_type": "code",
   "execution_count": null,
   "metadata": {},
   "outputs": [],
   "source": [
    "R = []\n",
    "Q = []\n",
    "r0 = np.array([1,0])\n",
    "q0 = 1\n",
    "R.append(r0)\n",
    "Q.append(q0)\n",
    "r0 = np.array([0,0])\n",
    "q0 = -2\n",
    "R.append(r0)\n",
    "Q.append(q0)\n",
    "r0 = np.array([-1,0])\n",
    "q0 = 1\n",
    "R.append(r0)\n",
    "Q.append(q0)"
   ]
  },
  {
   "cell_type": "markdown",
   "metadata": {},
   "source": [
    "We rewrite the function `efieldlist` to calculate the field from a list of charges instead of a single charge:"
   ]
  },
  {
   "cell_type": "code",
   "execution_count": null,
   "metadata": {},
   "outputs": [],
   "source": [
    "def efieldlist(r,Q,R):\n",
    "    # Find E*4*pi*epsilon0 at r from a charge q at position r0\n",
    "    E = np.zeros(np.shape(r))\n",
    "    for i in range(len(R)):\n",
    "        Ri = r - R[i]\n",
    "        qi = Q[i]\n",
    "        Rinorm = np.linalg.norm(Ri)\n",
    "        E = E + qi*Ri/Rinorm**3\n",
    "    return E"
   ]
  },
  {
   "cell_type": "markdown",
   "metadata": {},
   "source": [
    "And finally, we write a function to visualize the field:"
   ]
  },
  {
   "cell_type": "code",
   "execution_count": null,
   "metadata": {},
   "outputs": [],
   "source": [
    "def visfield(R,Q,L,N):\n",
    "    x = np.linspace(-L,L,N)\n",
    "    y = np.linspace(-L,L,N)\n",
    "    rx,ry = np.meshgrid(x,y)\n",
    "    # Set up electric field\n",
    "    Ex = np.zeros((N,N),float)\n",
    "    Ey = np.zeros((N,N),float)\n",
    "    # Calculate the field\n",
    "    for i in range(len(rx.flat)):\n",
    "        r = np.array([rx.flat[i],ry.flat[i]])\n",
    "        Ex.flat[i],Ey.flat[i] = efieldlist(r,Q,R)\n",
    "    # Visualize the field\n",
    "    Emag = np.sqrt(Ex**2 + Ey**2)\n",
    "    uEx = Ex / Emag\n",
    "    uEy = Ey / Emag\n",
    "    plt.quiver(rx,ry,uEx,uEy,np.log10(Emag))\n",
    "    return"
   ]
  },
  {
   "cell_type": "markdown",
   "metadata": {},
   "source": [
    "And we use this function to visualize the field:"
   ]
  },
  {
   "cell_type": "code",
   "execution_count": null,
   "metadata": {},
   "outputs": [],
   "source": [
    "L = 3\n",
    "N = 21\n",
    "visfield(R,Q,L,N)"
   ]
  },
  {
   "cell_type": "markdown",
   "metadata": {},
   "source": [
    "### Random distribution of charges\n",
    "\n",
    "Using this method you can calculate and visualize the field from any distribution of charges you like. For example, you can generate a random distribution of $n$ charges each placed between $-L < x < L$ and $-L < y z L$ and visualize it using:"
   ]
  },
  {
   "cell_type": "markdown",
   "metadata": {},
   "source": [
    "        # Generating a random distribution of charges\n",
    "        L = 3\n",
    "        Q0 = []\n",
    "        R0 = []\n",
    "        n = 10\n",
    "        for i in range(n):\n",
    "            xi = np.random.rand()*2*L-L\n",
    "            yi = np.random.rand()*2*L-L\n",
    "            R0.append(np.array([xi,yi]))\n",
    "            Q0.append(1.0)\n",
    "        visfield(R0,Q0,4,21)\n"
   ]
  },
  {
   "cell_type": "markdown",
   "metadata": {},
   "source": [
    "### Lines of charge\n",
    "\n",
    "Or you can visualize the field from two lines of charge: One line with positive charges at $y = 1.5a$ and one line with negative charges at $y = -1.5a$. This also motivates the next section, where we go from a set of charges to a continuous distribution of charges in space. The resulting visualization is shown in Fig. [fig:electricfield-vis-efield-030](#fig:electricfield-vis-efield-030)."
   ]
  },
  {
   "cell_type": "code",
   "execution_count": null,
   "metadata": {},
   "outputs": [],
   "source": [
    "# Generating two lines of charges\n",
    "L = 3\n",
    "Q0 = []\n",
    "R0 = []\n",
    "n = 50\n",
    "for i in range(n):\n",
    "    xi = i/n*2*L-L\n",
    "    yi = 1.5\n",
    "    R0.append(np.array([xi,yi]))\n",
    "    Q0.append(1.0)\n",
    "    yi = -1.5\n",
    "    R0.append(np.array([xi,yi]))\n",
    "    Q0.append(-1.0)\n",
    "visfield(R0,Q0,5,31)"
   ]
  },
  {
   "cell_type": "markdown",
   "metadata": {},
   "source": [
    "<!-- dom:FIGURE:[fig-electricfield/electricfield-vis-efield-030.png, height=400 width=600 frac=0.9] Visualization of the field from a two lines with opposite charges. <div id=\"fig:electricfield-vis-efield-030\"></div> -->\n",
    "<!-- begin figure -->\n",
    "<div id=\"fig:electricfield-vis-efield-030\"></div>\n",
    "\n",
    "<p>Visualization of the field from a two lines with opposite charges.</p>\n",
    "<img src=\"fig-electricfield/electricfield-vis-efield-030.png\" height=400 width=600>\n",
    "\n",
    "<!-- end figure -->\n",
    "\n",
    "\n",
    "### Dynamic visualization\n",
    "\n",
    "This method also opens for dynamic visualization in Python using the `interact` function. For example, we can visualize a dipole, where the distance between the two charges can be changed by a slider:"
   ]
  },
  {
   "cell_type": "code",
   "execution_count": null,
   "metadata": {},
   "outputs": [],
   "source": [
    "# Generating an interactive dipole\n",
    "from ipywidgets import interact, interactive, fixed, interact_manual\n",
    "import ipywidgets as widgets\n",
    "def f(d):\n",
    "    Q0 = []\n",
    "    R0 = []\n",
    "    R0.append(np.array([0,d/2]))\n",
    "    Q0.append(1.0)\n",
    "    R0.append(np.array([0,-d/2]))\n",
    "    Q0.append(-1.0)\n",
    "    visfield(R0,Q0,10,21)\n",
    "interact(f, d=widgets.IntSlider(min=1, max=18, step=1, value=2));"
   ]
  },
  {
   "cell_type": "markdown",
   "metadata": {},
   "source": [
    "## Visualization using field lines\n",
    "\n",
    "\n",
    "A practical and insightful way to visualize the electric field, and other fields, is through *field lines*. A field line is a continuous curve constructed in such a way that the tangent in any point along the line points in the direction of the electric field in that point. The local density of field lines is proportional to the local magnitude of the electric field: When the field lines are closely spaced, the field is strong, and when they are sparsely spaced, the field is weaker. Field lines radiate from positive charges and terminate on negative charges. However, we may have to consider charges at infinity to make a system neutral. Field lines cannot intersect.\n",
    "\n",
    "You will often find visualizations of field lines in textbooks or illustrations of electromagnetic phenomena. But how can we construct and visualize field lines?\n",
    "\n",
    "### Vector visualization using streamlines\n",
    "\n",
    "It may be tempting to use built-in functions in Python that visualize streamlines, such as `streamplot`. The following program illustrates the use of `streamplot` to visualize the field from a dipole.\n",
    "<!--  -->"
   ]
  },
  {
   "cell_type": "code",
   "execution_count": null,
   "metadata": {},
   "outputs": [],
   "source": [
    "def findfield(R,Q,L,N):\n",
    "    x = np.linspace(-L,L,N)\n",
    "    y = np.linspace(-L,L,N)\n",
    "    rx,ry = np.meshgrid(x,y)\n",
    "    # Set up electric field\n",
    "    Ex = np.zeros((N,N),float)\n",
    "    Ey = np.zeros((N,N),float)\n",
    "    # Calculate the field\n",
    "    for i in range(len(rx.flat)):\n",
    "        r = np.array([rx.flat[i],ry.flat[i]])\n",
    "        Ex.flat[i],Ey.flat[i] = efieldlist(r,Q,R)\n",
    "    return rx,ry,Ex,Ey\n",
    "# Set up the dipole field\n",
    "Q0 = []\n",
    "R0 = []\n",
    "R0.append(np.array([-1,0]))\n",
    "Q0.append(1.0)\n",
    "R0.append(np.array([1,0]))\n",
    "Q0.append(-1.0)\n",
    "rx,ry,Ex,Ey = findfield(R0,Q0,5,21)\n",
    "# Visualize the field\n",
    "plt.subplot(1,2,1)\n",
    "plt.quiver(rx,ry,Ex,Ey)\n",
    "plt.subplot(1,2,2)\n",
    "plt.streamplot(rx,ry,Ex,Ey)"
   ]
  },
  {
   "cell_type": "markdown",
   "metadata": {},
   "source": [
    "<!--  -->\n",
    "The resulting plots are shown in Fig. [fig:electricfield-vis-streamline-010](#fig:electricfield-vis-streamline-010). From this plot it is clear that not all the lines start at the positive charge and end at the negative charge. This plot includes curves lines that have tangents that are directed along the electric field, just as field lines, but the stream lines do not all start at positive charges and terminate at negative charges. The picture does therefore not show the intensity of field lines, which gives information about the strength of the field. The `streamplot` function does therefore not visualize the field lines. It does, however, still provide an interesting and useful visualization of the field. But it does not show the field lines.\n",
    "\n",
    "<!-- dom:FIGURE:[fig-electricfield/electricfield-vis-streamline-010.png, height=400 width=600 frac=0.9] Visualization of the field from a dipole using arrows (of logaritmic length) and stream lines using `streamplot`. <div id=\"fig:electricfield-vis-streamline-010\"></div> -->\n",
    "<!-- begin figure -->\n",
    "<div id=\"fig:electricfield-vis-streamline-010\"></div>\n",
    "\n",
    "<p>Visualization of the field from a dipole using arrows (of logaritmic length) and stream lines using <code>streamplot</code>.</p>\n",
    "<img src=\"fig-electricfield/electricfield-vis-streamline-010.png\" height=400 width=600>\n",
    "\n",
    "<!-- end figure -->\n",
    "\n",
    "\n",
    "\n",
    "### Understanding field lines\n",
    "\n",
    "What are the field lines? We can think of the as the trajectories of positive charges with no inertia moving in the field. (This is like the motion of a particle in a highly viscous fluid or the motion of a submicron particle in water). Newton's second law for this particle would be $q \\vec{E} - D \\vec{v} = m \\vec{a} = 0$, where the $D$-term is due to viscosity and we assume that the mass is very small (no inertia). Therefore, $\\vec{v} = (q/D) \\vec{E}$, that is, the velocity points in the direction of the electric field!\n",
    "\n",
    "This provides us with a nice intuitive notion about the field lines. We also realize that field lines cannot cross each other. Why? Because the direction of a field line out of a point depends on the direction of $\\vec{E}$. If two field lines were to cross, there would have to be two field lines out of a point, which would mean that the field would have to point in two different directions in the same point.\n",
    "\n",
    "To visualize the field lines, we start with a given density of field lines (number) of field lines starting from each charge $q$. For a small sphere with radius $a$ around this charge, the density of field lines would be $N/(4 \\pi a^2)$, where $N$ is the number of field lines. If we are close to the charge, we assume that the electric field is dominated by the field from the charge, which is $q/(4 \\pi \\epsilon_0 a^2)$. We therefore see that if we choose $N$ so that it is proportional to the charge $q$, then the density of field lines is proportional to the electric field. \n",
    "\n",
    "We can therefore visualize the field by starting a number of field lines proportional to the charge at positive charges. (Similarly, we will terminate field lines at negative charges.) Close to the charges, the density of field lines will correspond to the magnitude of the electric field, and this is also true everywhere in space, as we will see later.\n",
    "\n",
    "Notice that this argument is only correct in three dimensions. If we make this construction in two dimensions instead, the density of lines passing through a circle of radius $r$ would be $N/(2 \\pi r)$, which does not go like $1/r^2$.\n",
    "\n",
    "### Finding field lines numerically\n",
    "\n",
    "(*This section is a bit technical. You can skip to the next section without loss of continuity*).\n",
    "We can visualize the field lines by integrating the equations of motion for test charges moving along the field lines --- or you can use a pre-existing Python library. The [mayavi](https://docs.enthought.com/mayavi/mayavi/) package provides excellent 3d visualization of electromagnetic fields, but may be difficult to install and use. The [electrostatics.py](https://github.com/tomduck/electrostatics) package provides tools for calculation and visualization of electrostatic fields. Here, we will implement the drawing explicitely for clarity and completeness.\n",
    "\n",
    "First we build a function to draw a field line starting from a given point. Then we distribute field lines in space. We start a test charge in a point $\\vec{r}_0$ and integrate the equations of motion:"
   ]
  },
  {
   "cell_type": "markdown",
   "metadata": {},
   "source": [
    "<!-- Equation labels as ordinary links -->\n",
    "<div id=\"_auto23\"></div>\n",
    "\n",
    "$$\n",
    "\\begin{equation}\n",
    "\\frac{dr}{dt} = C q\\frac{\\vec{E}}{E}dt \\; .\n",
    "\\label{_auto23} \\tag{26}\n",
    "\\end{equation}\n",
    "$$"
   ]
  },
  {
   "cell_type": "markdown",
   "metadata": {},
   "source": [
    "where $C$ is constant of choice. There is, of course, no real physical time involved, we only want to trace out a line. We continue integrating in both positive and negative direction until (i) the line comes within a distance $d$ from one of the charges, (ii) the line extends beyond a maximum range, or (iii) we have generated a given maximum number of steps. Situation (iii) should not occur, but we include it to catch bugs or unexpected behaviors due to e.g. integration errors. We introduce a maximum range $L$ so that the lines have to stay within $-L<x<L$ and $-L<y<L$. Notice that we integrate in both positive and negative direction from the starting point, that is, for both positive and negative time.\n",
    "<!--  -->"
   ]
  },
  {
   "cell_type": "code",
   "execution_count": null,
   "metadata": {},
   "outputs": [],
   "source": [
    "def findfieldline(R,Q,L,r0,radius):\n",
    "    # R: list of positions of charges\n",
    "    # Q: list of charges\n",
    "    # L: maximum range for calculation\n",
    "    # r0 = starting point\n",
    "    # radius = radius around each charge\n",
    "    dt = 0.01\n",
    "    ri = [r0]\n",
    "    for dir in [-1,1]:\n",
    "        r = r0\n",
    "        stop = 0\n",
    "        nstep = 0\n",
    "        while stop==0 and nstep<10000:\n",
    "            nstep = nstep + 1\n",
    "            E = efieldlist(r,Q,R)\n",
    "            Enorm = E/norm(E)\n",
    "            r = r + dir*Enorm*dt\n",
    "            if (dir>0):\n",
    "                ri.append(r) # Add to end\n",
    "            else:\n",
    "                ri.insert(0,r) # Add before beginning\n",
    "            # Check if outside range\n",
    "            if (r[0]<-L or r[0]>L or r[1]<-L or r[1]>L):\n",
    "                stop = 1\n",
    "                break\n",
    "            # Check if it hits a charge\n",
    "            for ii in range(len(Q)):\n",
    "                dr = r - R[ii]\n",
    "                if (norm(dr)<radius):\n",
    "                    stop = 1\n",
    "                    break\n",
    "    return ri"
   ]
  },
  {
   "cell_type": "markdown",
   "metadata": {},
   "source": [
    "<!--  -->\n",
    "Notice the trick we use to make one continous line by integrating both forward and backward in time: We add each new point at the end when we move forward and at the beginning at the list of points when we move backward.\n",
    "\n",
    "We set up the charge distribution as previously --- here with a dipole:"
   ]
  },
  {
   "cell_type": "code",
   "execution_count": null,
   "metadata": {},
   "outputs": [],
   "source": [
    "Q2 = []\n",
    "R2 = []\n",
    "R2.append(np.array([-1,0]))\n",
    "Q2.append(1.0)\n",
    "R2.append(np.array([1,0]))\n",
    "Q2.append(-1.0)"
   ]
  },
  {
   "cell_type": "markdown",
   "metadata": {},
   "source": [
    "<!--  -->\n",
    "Now, we need to select where to start the field lines. In general, we would like the density of field lines to be proportional to the magnitude of the electric field. For the dipole, we assume that close to one of the charges, the field is dominated by one of the charges. We therefore select the points to be equally spaced on circle with a small radius around the positive charge. (For other problems, you will need to consider where to start field lines. For example, if the system is not neutral, it is useful also to start lines far away from the charges. We will return to this later.) We put all the starting points into a list `pointlist`:\n",
    "<!--  -->"
   ]
  },
  {
   "cell_type": "code",
   "execution_count": null,
   "metadata": {},
   "outputs": [],
   "source": [
    "numlines = 16\n",
    "Ri = np.array([-1,0])\n",
    "rad = 0.5\n",
    "pointlist = []\n",
    "for ni in range(numlines):\n",
    "    ang = 2*pi*ni/numlines\n",
    "    ri = array([Ri[0]+rad*cos(ang),Ri[1]+rad*sin(ang)])\n",
    "    pointlist.append(ri)"
   ]
  },
  {
   "cell_type": "markdown",
   "metadata": {},
   "source": [
    "<!--  -->\n",
    "Then we are ready to find and draw the lines. We select the radius around each charge to be `rad=0.1` and the maximum size of the box to be $L = 30$:\n",
    "<!--  -->"
   ]
  },
  {
   "cell_type": "code",
   "execution_count": null,
   "metadata": {},
   "outputs": [],
   "source": [
    "rad = 0.1\n",
    "L = 30\n",
    "for ni in range(len(pointlist)):\n",
    "    ri = pointlist[ni]\n",
    "    fieldl = findfieldline(R2,Q2,L,ri,rad)\n",
    "    x,y = list(zip(*fieldl))\n",
    "    plot(x,y,'-k')\n",
    "    ni = int(len(x)/2)\n",
    "    arrow(x[ni], y[ni], (x[ni+1]-x[ni]), (y[ni+1]-y[ni]), \\\n",
    "        fc=\"k\", ec=\"k\", head_width=0.2, head_length=0.2)\n",
    "axis('equal')\n",
    "xlim(-5,5)\n",
    "ylim(-5,5)"
   ]
  },
  {
   "cell_type": "markdown",
   "metadata": {},
   "source": [
    "<!--  -->\n",
    "The resulting plot is shown in Fig. [fig:electricfield-vis-fieldline-100](#fig:electricfield-vis-fieldline-100). Notice that a field line is missing. We expected a field line from the right charge in the positive $x$-direction. See if you can understand why this line not was drawn with this algorithm. You can add this line, by adding another initialization point for field lines directly to the right of the negative charge, for example, at $(1.1,0)$. \n",
    "\n",
    "<!-- dom:FIGURE:[fig-electricfield/electricfield-vis-fieldline-100.png, height=400 width=600 frac=0.65] Visualization of the field from a dipole using field lines. <div id=\"fig:electricfield-vis-fieldline-100\"></div> -->\n",
    "<!-- begin figure -->\n",
    "<div id=\"fig:electricfield-vis-fieldline-100\"></div>\n",
    "\n",
    "<p>Visualization of the field from a dipole using field lines.</p>\n",
    "<img src=\"fig-electricfield/electricfield-vis-fieldline-100.png\" height=400 width=600>\n",
    "\n",
    "<!-- end figure -->\n",
    "\n",
    "\n",
    "\n",
    "## Example: Electric field from a dipole\n",
    "\n",
    "\n",
    "What is the electric field from a dipole? A *dipole* is a set of two opposite charges, $q$ and $-q$ placed a distance $d$ apart. Let us assume the system consists of a charge $-q$ at $(-d/2,0,0)$ and a charge $q$ at $(d/2,0,0)$. Let us do this in three ways. First, we find the exact result in one dimension, that is, at a position $x$. Then we explore how this field behaves numerically and find an approximation when $x$ is large. Finally, we find the behavior for a general $\\vec{r}$.\n",
    "\n",
    "### One-dimensional solution\n",
    "\n",
    "We find the electric field in a point $(x,0,0)$ along the $x$-axis using the superposition principle:"
   ]
  },
  {
   "cell_type": "markdown",
   "metadata": {},
   "source": [
    "<!-- Equation labels as ordinary links -->\n",
    "<div id=\"eq:electricfield-dipole-1d-010\"></div>\n",
    "\n",
    "$$\n",
    "\\begin{eqnarray}\n",
    "\\vec{E}\n",
    "&=& \\sum_i \\frac{Q_i}{4 \\pi \\epsilon_0} \\frac{\\vec{r}-\\vec{r}_i}{|\\vec{r}-\\vec{r}_i|^{3}} \\\\ \n",
    "&=& \\frac{1}{4 \\pi \\epsilon_0} \\left( q\\frac{(x,0,0)-(d/2,0,0)}{|x-d/2|^3} - \\frac{q(x,0,0)-(-d/2,0,0)}{|x+d/2|^3} \\right) \\\\ \n",
    "&=& \\frac{q}{4 \\pi \\epsilon_0} \\left( \\frac{1}{(x-d/2)^2} - \\frac{1}{(x+d/2)^2} \\right) \\mathbf{\\hat{x}} \\; .\n",
    "\\label{eq:electricfield-dipole-1d-010} \\tag{27}\n",
    "\\end{eqnarray}\n",
    "$$"
   ]
  },
  {
   "cell_type": "markdown",
   "metadata": {},
   "source": [
    "<!-- dom:FIGURE:[fig-electricfield/electricfield-dipole-1d-010.png, height=400 width=600 frac=0.95] (a) Plot of $E_x(x)$ for a one-dimensional dipole. (b) Plot of $E_x(x)$ when $x \\gg 1$ on a log-log-scale. <div id=\"fig:electricfield-dipole-1d-010\"></div> -->\n",
    "<!-- begin figure -->\n",
    "<div id=\"fig:electricfield-dipole-1d-010\"></div>\n",
    "\n",
    "<p>(a) Plot of $E_x(x)$ for a one-dimensional dipole. (b) Plot of $E_x(x)$ when $x \\gg 1$ on a log-log-scale.</p>\n",
    "<img src=\"fig-electricfield/electricfield-dipole-1d-010.png\" height=400 width=600>\n",
    "\n",
    "<!-- end figure -->\n",
    "\n",
    "\n",
    "\n",
    "### Numerical analysis of behavior for large $x$\n",
    "\n",
    "We plot the behavior of $E_x(x)$ as a function of $x$ in Fig. [fig:electricfield-dipole-1d-010](#fig:electricfield-dipole-1d-010) using the script:"
   ]
  },
  {
   "cell_type": "code",
   "execution_count": null,
   "metadata": {},
   "outputs": [],
   "source": [
    "from pylab import *\n",
    "x = linspace(-100,100,10001)\n",
    "d = 1.0\n",
    "E = -1/(x-d)**2+1/(x+d)**2\n",
    "plot(x,E)\n",
    "xlim(-5,5)"
   ]
  },
  {
   "cell_type": "markdown",
   "metadata": {},
   "source": [
    "We see that $E_x(x)$ decays rapidly for $x>d/2$ (and for $x<-d/2$). But how rapidly? Let us look at the functional form of this decay. We do this by plotting $\\log(E_x)$ as a function of $x$? Using a log-log plot is a commonly used trick to discover a power-law behavior. The electric field, $E_1(x)$ from a single point charge is a power law that decays as $1/x^2$. If we plotted $\\log(E_1)$ as a function of $x$, we would get $\\log(E_1) = \\log(Cx^{-2}) = \\log C - 2 \\log x$. If we plot the data this way, we can read the power law exponent, here -2, directly as the slope of the plot of $\\log(E_1)$ versus $\\log(x)$. We have done the same in Fig. [fig:electricfield-dipole-1d-010](#fig:electricfield-dipole-1d-010). We see that when $x>>d/2$ the curve is approximately a straight line, but for smaller values of $x$, there curve deviates from a line. We can find the behavior of this line by fitting a linear function when $\\log(x)$ is larger than 0.25. We do this using `polyfit` to fit a first order polynomial and plot the resulting fitted values:"
   ]
  },
  {
   "cell_type": "markdown",
   "metadata": {},
   "source": [
    "2\n",
    "9\n",
    " \n",
    "<\n",
    "<\n",
    "<\n",
    "!\n",
    "!\n",
    "C\n",
    "O\n",
    "D\n",
    "E\n",
    "_\n",
    "B\n",
    "L\n",
    "O\n",
    "C\n",
    "K\n",
    " \n",
    " \n",
    "p\n",
    "y\n",
    "c\n",
    "o\n",
    "d"
   ]
  },
  {
   "cell_type": "markdown",
   "metadata": {},
   "source": [
    "        [-3.00893297  0.31654262]\n"
   ]
  },
  {
   "cell_type": "markdown",
   "metadata": {},
   "source": [
    "The output shows that the dipole field approximately behaves as $1/x^3$ when $x \\gg 1$. This is illustrated by the dotted red curve in Fig. [fig:electricfield-dipole-1d-010](#fig:electricfield-dipole-1d-010).\n",
    "\n",
    "### Theoretical analysis of behavior for large $x$\n",
    "\n",
    "We can derive the behavior when $x \\gg 1$ theoretically. We rewrite ([27](#eq:electricfield-dipole-1d-010)) as:\n",
    "<!--  -->"
   ]
  },
  {
   "cell_type": "markdown",
   "metadata": {},
   "source": [
    "$$\n",
    "\\begin{eqnarray}\n",
    "E_x &=& \\frac{q}{4 \\pi \\epsilon_0} \\left( \\frac{1}{(x-d/2)^2} - \\frac{1}{(x+d/2)^2} \\right) \\\\ \n",
    "&=& \\frac{q}{4 \\pi \\epsilon_0} \\frac{(x+d/2)^2-(x-d/2)^2}{(x-d/2)^2(x+d/2)^2} \\\\ \n",
    "&=& \\frac{q}{4 \\pi \\epsilon_0} \\frac{2xd}{(x-d/2)^2(x+d/2)^2} \\; .\n",
    "\\end{eqnarray}\n",
    "$$"
   ]
  },
  {
   "cell_type": "markdown",
   "metadata": {},
   "source": [
    "When $x \\gg 1$, we can approximate $x-d/2 \\simeq x$ and $x+d/2 \\simeq x$, getting:"
   ]
  },
  {
   "cell_type": "markdown",
   "metadata": {},
   "source": [
    "<!-- Equation labels as ordinary links -->\n",
    "<div id=\"_auto24\"></div>\n",
    "\n",
    "$$\n",
    "\\begin{equation}\n",
    "E_x = \\frac{q}{4 \\pi \\epsilon_0} \\left( \\frac{2xd}{(x-d/2)^2(x+d/2)^2} \\right) \\simeq\n",
    "\\frac{1}{4 \\pi \\epsilon_0} \\frac{2dq}{x^3} \\;. \n",
    "\\label{_auto24} \\tag{28}\n",
    "\\end{equation}\n",
    "$$"
   ]
  },
  {
   "cell_type": "markdown",
   "metadata": {},
   "source": [
    "This is the same as we saw numerically. We see that the *strength* of the dipole interaction --- the field set up by the dipole --- depends on $dq$: We can increase the field by increasing either $d$ or $q$. We call this quantity the *dipole moment* and write $p = dq$. Generally, we say that a dipole field decays as $1/r^3$, whereas the field from a single charge decays as $1/r^2$. (Notice, that we if we insert $x-d/2 \\simeq x$ and $x+d/2 \\simeq x$ directly into ([27](#eq:electricfield-dipole-1d-010)) we would get that the field is zero everywhere. This is typically an indication that we inserted the approximation too early.)\n",
    "\n",
    "## Example: Induced dipole interactions in one dimension\n",
    "\n",
    "We started this chapter with a demonstration of a balloon being attracted to (and sticking to) a wall, but we did not describe the details of this demonstration. Another popular demonstration is to show that if we rub a balloon against our hair, it will attract an empty aluminum can as illustrated in Fig. [fig:electricfield-dipole-induced-can-020](#fig:electricfield-dipole-induced-can-020). How can we understand this process? The aluminum does not have a net charge, so why is it attracted to the charge? We call this effect an *induced dipole interaction*. This effect is very important and common on the atomic scale. Let us address this in a simplified situation.\n",
    "\n",
    "<!-- dom:FIGURE:[fig-electricfield/electricfield-dipole-induced-can-020.png, height=400 width=600 frac=0.5] Illustration of how a charged balloon attracts an empty aluminum (soda) can. (Photos by Aurora Malthe-Sørenssen). <div id=\"fig:electricfield-dipole-induced-can-020\"></div> -->\n",
    "<!-- begin figure -->\n",
    "<div id=\"fig:electricfield-dipole-induced-can-020\"></div>\n",
    "\n",
    "<p>Illustration of how a charged balloon attracts an empty aluminum (soda) can. (Photos by Aurora Malthe-Sørenssen).</p>\n",
    "<img src=\"fig-electricfield/electricfield-dipole-induced-can-020.png\" height=400 width=600>\n",
    "\n",
    "<!-- end figure -->\n",
    "\n",
    "\n",
    "\n",
    "### Induced dipole\n",
    "\n",
    "Fig. [fig:electricfield-dipole-induced-010](#fig:electricfield-dipole-induced-010) illustrates a situation where a charge $q$ is placed near a neutral atom, e.g. Argon. We assume that the core of the atom does not move, but that the distribution of charge around the atom may deform. What do we expect to happen? If the charge $q$ is positive, we expect it to pull the electron cloud slightly toward $q$. We assume that $q$ is placed in the origin and that the positive core of the atom is at $x$. The effect of $q$ is to move a charge $-\\Delta q$ a small distance $d$. Since the atom is neutral, this means that the atom will be negative on the left side and positive on the right side, which we model as a charge $-\\Delta q $ at the position $x-d$ and a charge $\\Delta q$ at $x$. We assume that the displacement $d$ is much smaller than $x$.\n",
    "\n",
    "<!-- dom:FIGURE:[fig-electricfield/electricfield-dipole-induced-010.png, height=400 width=600 frac=0.75] Illustration of an induced dipole. We place a charge $q$ near an atom with a center and a charge cloud. (a) Initial situation. (b) Sitation after the charge distribution around the atom has equilibrated to a new configuration. (This usually happens very fast).  <div id=\"fig:electricfield-dipole-induced-010\"></div> -->\n",
    "<!-- begin figure -->\n",
    "<div id=\"fig:electricfield-dipole-induced-010\"></div>\n",
    "\n",
    "<p>Illustration of an induced dipole. We place a charge $q$ near an atom with a center and a charge cloud. (a) Initial situation. (b) Sitation after the charge distribution around the atom has equilibrated to a new configuration. (This usually happens very fast).</p>\n",
    "<img src=\"fig-electricfield/electricfield-dipole-induced-010.png\" height=400 width=600>\n",
    "\n",
    "<!-- end figure -->\n",
    "\n",
    "\n",
    "### Size of the induced dipole\n",
    "\n",
    "The charge $q$ therefore *induces* a dipole of strength $2d \\Delta q$. How large is $2d \\Delta q$? Again, we have to make a simplified model for this: We will assume that the response is linear, that is, that $d \\Delta q$ is proportional to the electric field from the charge $q$ at position $x$:"
   ]
  },
  {
   "cell_type": "markdown",
   "metadata": {},
   "source": [
    "<!-- Equation labels as ordinary links -->\n",
    "<div id=\"_auto25\"></div>\n",
    "\n",
    "$$\n",
    "\\begin{equation}\n",
    "2d \\Delta q = C' \\frac{1}{4 \\pi \\epsilon_0}\\frac{1}{x^2} = C/x^2 \\; ,\n",
    "\\label{_auto25} \\tag{29}\n",
    "\\end{equation}\n",
    "$$"
   ]
  },
  {
   "cell_type": "markdown",
   "metadata": {},
   "source": [
    "where $C = C'/(4 \\pi \\epsilon_0)$ is a constant that we do not know. \n",
    "\n",
    "### Field from the induced dipole\n",
    "\n",
    "We can find the force from the induced dipole on the charge $q$ from the electric field from the dipole. The electric field from the dipole is:"
   ]
  },
  {
   "cell_type": "markdown",
   "metadata": {},
   "source": [
    "<!-- Equation labels as ordinary links -->\n",
    "<div id=\"_auto26\"></div>\n",
    "\n",
    "$$\n",
    "\\begin{equation}\n",
    "E_x = \\frac{2d \\Delta q}{4 \\pi \\epsilon_0 x^3} \\; ,\n",
    "\\label{_auto26} \\tag{30}\n",
    "\\end{equation}\n",
    "$$"
   ]
  },
  {
   "cell_type": "markdown",
   "metadata": {},
   "source": [
    "in the *positive* $x$-direction. (Check the sign with yourself. Can you convince youself that the force on the charge $q$ is attractive independently of the sign of $q$?) Where $2d \\Delta q = C/x^2$. The electric field at the position of the charge $q$, due to the induced dipole at $x$, is therefore:d"
   ]
  },
  {
   "cell_type": "markdown",
   "metadata": {},
   "source": [
    "<!-- Equation labels as ordinary links -->\n",
    "<div id=\"_auto27\"></div>\n",
    "\n",
    "$$\n",
    "\\begin{equation}\n",
    "E_x = \\frac{C}{4 \\pi \\epsilon_0 x^5} \\; .\n",
    "\\label{_auto27} \\tag{31}\n",
    "\\end{equation}\n",
    "$$"
   ]
  },
  {
   "cell_type": "markdown",
   "metadata": {},
   "source": [
    "The force from the dipole on charge $q$ is therefore"
   ]
  },
  {
   "cell_type": "markdown",
   "metadata": {},
   "source": [
    "<!-- Equation labels as ordinary links -->\n",
    "<div id=\"_auto28\"></div>\n",
    "\n",
    "$$\n",
    "\\begin{equation}\n",
    "F_x = q E_x = \\frac{C}{4 \\pi \\epsilon_0 x^5} \\; .\n",
    "\\label{_auto28} \\tag{32}\n",
    "\\end{equation}\n",
    "$$"
   ]
  },
  {
   "cell_type": "markdown",
   "metadata": {},
   "source": [
    "This is an attractive force. The force from the charge on the dipole is the reaction force to this force, and therefore has the same magnitude, but points in the negative $x$-direction.\n",
    "\n",
    "**Modeling a physics system.**\n",
    "\n",
    "\n",
    "An important aspect of our analysis of the induced dipole system is what we call *modeling*. Modeling is to take a physical situation and convert it into a simplified, cartoon system that represents the essential phyiscal properties we need to address the system.\n",
    "\n",
    "The difficult part is to figure out what physical aspects need to be included in our model, and how to model these aspects. This takes experience and a bit of courage. In physics, we want to create a model that is as simple as possible, but not simpler. And we want to model the system using components that we can understand and use in computations.\n",
    "\n",
    "For example, let us analyze a balloon close to a wall as illustrated in the figure part (a).\n",
    "<!-- Fig. [fig:electricfield-modeling-010](#fig:electricfield-modeling-010), -->\n",
    "The balloon has a charge $q$ (b). We simplify it as a point charge $q$ (c). We model the wall as displaced charges (d). The distance from the balloon to the wall is $R_0$ (e). We model the displacement of the charges in the wall as a charge $\\Delta q$ displaced by a distance $d$, where $d \\Delta q$ is proportional to the electric field from $q$ at the surface of the wall: $d \\Delta q \\simeq Cq/R_0^2$. This is similar to a charge $\\Delta q$ attached to a small spring with a deflection proportional to the force. We could continue to refine the model, but stop here. This allows us to explain the phenomenon, and maybe even measure $C$ and $R_0$?\n",
    "\n",
    "<!-- dom:FIGURE:[fig-electricfield/electricfield-modeling-010.png, width=600 frac=0.6] -->\n",
    "<!-- begin figure -->\n",
    "\n",
    "<p></p>\n",
    "<img src=\"fig-electricfield/electricfield-modeling-010.png\" width=600>\n",
    "\n",
    "<!-- end figure -->\n",
    "\n",
    "\n",
    "<!-- Illustrations of the steps in modeling the interactions between a charged balloon and a wall. <div id=\"fig:electricfield-modeling-010\"></div> -->\n",
    "\n",
    "\n",
    "\n",
    "### Implications for the soda can\n",
    "\n",
    "We can use a similar type of argument for the force on the soda can. The soda can is a conductor and the electrons are therefore rather free to move around. Introducing a charge $q$ near the conductor will therefore displace the electrons, forming a structure similar to a dipole, which will lead to an attractive force.\n",
    "\n",
    "# Continous distributions of charge: charge density\n",
    "\n",
    "\n",
    "We have learned that we can use the superposition principle to find the net electric field from many charges. For example, we saw earlier that we could make something that looked like a line of charges by placing many charges close to each other. Fig. [fig:electricfield-chargedist-010](#fig:electricfield-chargedist-010) illustrates a set of charges $Q_i$. The net electric field from these charges is"
   ]
  },
  {
   "cell_type": "markdown",
   "metadata": {},
   "source": [
    "<!-- Equation labels as ordinary links -->\n",
    "<div id=\"_auto29\"></div>\n",
    "\n",
    "$$\n",
    "\\begin{equation}\n",
    "\\vec{E} = \\sum_i \\frac{Q_i}{4 \\pi \\epsilon_0} \\frac{\\vec{R}_i}{R_i^3} \\; .\n",
    "\\label{_auto29} \\tag{33}\n",
    "\\end{equation}\n",
    "$$"
   ]
  },
  {
   "cell_type": "markdown",
   "metadata": {},
   "source": [
    "When there are many, many small charges it becomes simpler to not think of individual point charges, but instead introduce a volume density of charges --- a charge density. If we divide the system in  Fig. [fig:electricfield-chargedist-010](#fig:electricfield-chargedist-010) into small boxes of volume $\\Delta V_j$ containing a net charge $\\Delta Q_j$, then the total electric field is:"
   ]
  },
  {
   "cell_type": "markdown",
   "metadata": {},
   "source": [
    "<!-- Equation labels as ordinary links -->\n",
    "<div id=\"_auto30\"></div>\n",
    "\n",
    "$$\n",
    "\\begin{equation}\n",
    "\\vec{E} = \\sum_j \\frac{\\Delta Q_j}{4 \\pi \\epsilon_0} \\frac{\\vec{R}_j}{R_j^3} \\; ,\n",
    "\\label{_auto30} \\tag{34}\n",
    "\\end{equation}\n",
    "$$"
   ]
  },
  {
   "cell_type": "markdown",
   "metadata": {},
   "source": [
    "where the sum is over all the boxes $j$ and $\\vec{R}_j = \\vec{r}-\\vec{r}_j$ refers to the center $\\vec{r}_j$ of box $j$. As the boxes become smaller and smaller, this approaches an integral over the volume elements $\\Delta V_i$."
   ]
  },
  {
   "cell_type": "markdown",
   "metadata": {},
   "source": [
    "<!-- Equation labels as ordinary links -->\n",
    "<div id=\"_auto31\"></div>\n",
    "\n",
    "$$\n",
    "\\begin{equation}\n",
    "\\vec{E} = \\sum_j \\frac{\\Delta Q_j}{\\Delta V_j }\\frac{\\Delta V_j}{4 \\pi \\epsilon_0} \\frac{\\vec{R}_i}{R_i^3} = \\sum_j \\rho_j \\frac{\\Delta V_i}{4 \\pi \\epsilon_0} \\frac{\\vec{R}_i}{R_i^3} \\rightarrow \\iiint \\frac{\\rho dV}{4 \\pi \\epsilon_0}\\frac{\\vec{R}}{R^3}  \\; ,\n",
    "\\label{_auto31} \\tag{35}\n",
    "\\end{equation}\n",
    "$$"
   ]
  },
  {
   "cell_type": "markdown",
   "metadata": {},
   "source": [
    "where $\\rho(\\vec{r}')$ is the charge density at the position $\\vec{r}'$ of the box and $\\vec{R} = \\vec{r} - \\vec{r}'$. \n",
    "\n",
    "<!-- dom:FIGURE:[fig-electricfield/electricfield-chargedist-010.png, width=600 frac=0.45] Illustration of a set of charged divided into small volumes of size $\\Delta V_i$. Volume $i$ has a net charge $Q_i$.<div id=\"fig:electricfield-chargedist-010\"></div> -->\n",
    "<!-- begin figure -->\n",
    "<div id=\"fig:electricfield-chargedist-010\"></div>\n",
    "\n",
    "<p>Illustration of a set of charged divided into small volumes of size $\\Delta V_i$. Volume $i$ has a net charge $Q_i$.</p>\n",
    "<img src=\"fig-electricfield/electricfield-chargedist-010.png\" width=600>\n",
    "\n",
    "<!-- end figure -->\n",
    "\n",
    "\n",
    "**Charge density.**\n",
    "\n",
    "The volume charge density is:"
   ]
  },
  {
   "cell_type": "markdown",
   "metadata": {},
   "source": [
    "<!-- Equation labels as ordinary links -->\n",
    "<div id=\"_auto32\"></div>\n",
    "\n",
    "$$\n",
    "\\begin{equation}\n",
    "\\rho = \\rho_v = \\frac{dQ}{dv}\n",
    "\\label{_auto32} \\tag{36}\n",
    "\\end{equation}\n",
    "$$"
   ]
  },
  {
   "cell_type": "markdown",
   "metadata": {},
   "source": [
    "with unit $\\text{C}/\\text{m}^3$.\n",
    "\n",
    "\n",
    "\n",
    "### The net charge in a volume\n",
    "\n",
    "The charge density is generally a function of position, $\\rho(\\vec{r})$. The net charge in a volume $v$ is the sum of all the charges inside the volume, which is given by the integral over the volume $v$:"
   ]
  },
  {
   "cell_type": "markdown",
   "metadata": {},
   "source": [
    "<!-- Equation labels as ordinary links -->\n",
    "<div id=\"_auto33\"></div>\n",
    "\n",
    "$$\n",
    "\\begin{equation}\n",
    "Q_v = \\iiint_v \\rho(\\vec{r}) dv \\; .\n",
    "\\label{_auto33} \\tag{37}\n",
    "\\end{equation}\n",
    "$$"
   ]
  },
  {
   "cell_type": "markdown",
   "metadata": {},
   "source": [
    "### Tricks of notation\n",
    "\n",
    "Sometimes we use a compressed notation when we describe distributions of charge. Instead of specifying the volume of a small element as a differential, $dv$, we instead specify the (net) charge of the small volume by writing $dq$. We still think of this as the charge of a small element in a particular point $\\vec{r}$ in space. Sometimes we will write"
   ]
  },
  {
   "cell_type": "markdown",
   "metadata": {},
   "source": [
    "<!-- Equation labels as ordinary links -->\n",
    "<div id=\"_auto34\"></div>\n",
    "\n",
    "$$\n",
    "\\begin{equation}\n",
    "Q = \\int_Q \\rho \\mathrm{d} q v \\; .\n",
    "\\label{_auto34} \\tag{38}\n",
    "\\end{equation}\n",
    "$$"
   ]
  },
  {
   "cell_type": "markdown",
   "metadata": {},
   "source": [
    "What we really mean by this is that the integral is over a volume element $dv$ and that the charge in this volume element is $dq = \\rho{\\vec{r}} dv$ as illustrated in Fig. [fig:electricfield-chargedist-020](#fig:electricfield-chargedist-020) However, this notation also makes it easier to think of other charge elements, such as charges distributed over a surface (an area charge) or charged distributed along a curve (a line charge).\n",
    "\n",
    "<!-- dom:FIGURE:[fig-electricfield/electricfield-chargedist-020.png, height=400 width=600 frac=0.95] Illustration of (a) volume charge distribution, (b) surface charge distribution, and (c) line charge distribution. <div id=\"fig:electricfield-chargedist-020\"></div> -->\n",
    "<!-- begin figure -->\n",
    "<div id=\"fig:electricfield-chargedist-020\"></div>\n",
    "\n",
    "<p>Illustration of (a) volume charge distribution, (b) surface charge distribution, and (c) line charge distribution.</p>\n",
    "<img src=\"fig-electricfield/electricfield-chargedist-020.png\" height=400 width=600>\n",
    "\n",
    "<!-- end figure -->\n",
    "\n",
    "\n",
    "### Surface charge density\n",
    "\n",
    "Following the same reasoning as for a volume charge density, we can describe charges that are distributed on an area with an *area charge density* $\\rho_a(\\vec{r})$ (often written as $\\sigma$) as illustrated in Fig. [fig:electricfield-chargedist-020](#fig:electricfield-chargedist-020). This is the charge per unit surface area"
   ]
  },
  {
   "cell_type": "markdown",
   "metadata": {},
   "source": [
    "<!-- Equation labels as ordinary links -->\n",
    "<div id=\"_auto35\"></div>\n",
    "\n",
    "$$\n",
    "\\begin{equation}\n",
    "\\rho_a = \\sigma = \\frac{dQ}{dA}\n",
    "\\label{_auto35} \\tag{39}\n",
    "\\end{equation}\n",
    "$$"
   ]
  },
  {
   "cell_type": "markdown",
   "metadata": {},
   "source": [
    "with unit $\\text{C}/\\text{m}^2$. The charge in an area $A$ is then given by an integral over the area $A$:"
   ]
  },
  {
   "cell_type": "markdown",
   "metadata": {},
   "source": [
    "<!-- Equation labels as ordinary links -->\n",
    "<div id=\"_auto36\"></div>\n",
    "\n",
    "$$\n",
    "\\begin{equation}\n",
    "Q_A = \\int_A \\rho_A(\\vec{r}) \\mathrm{d} A \\; ,\n",
    "\\label{_auto36} \\tag{40}\n",
    "\\end{equation}\n",
    "$$"
   ]
  },
  {
   "cell_type": "markdown",
   "metadata": {},
   "source": [
    "### Line charge density\n",
    "\n",
    "Finally, we also describe charges that are distributed on a line with a line charge density $\\rho_l$ (or often $\\lambda$) as illustrated in Fig. [fig:electricfield-chargedist-020](#fig:electricfield-chargedist-020). This the charge per unit length:"
   ]
  },
  {
   "cell_type": "markdown",
   "metadata": {},
   "source": [
    "<!-- Equation labels as ordinary links -->\n",
    "<div id=\"_auto37\"></div>\n",
    "\n",
    "$$\n",
    "\\begin{equation}\n",
    "\\rho_l = \\sigma = \\frac{dQ}{dl} \\; ,\n",
    "\\label{_auto37} \\tag{41}\n",
    "\\end{equation}\n",
    "$$"
   ]
  },
  {
   "cell_type": "markdown",
   "metadata": {},
   "source": [
    "with unit $\\text{C}/\\text{m}$. The charge in a length $L$ is then given by an integral over the length $L$:"
   ]
  },
  {
   "cell_type": "markdown",
   "metadata": {},
   "source": [
    "<!-- Equation labels as ordinary links -->\n",
    "<div id=\"_auto38\"></div>\n",
    "\n",
    "$$\n",
    "\\begin{equation}\n",
    "Q_L = \\int_L \\rho_l(\\vec{r}) \\mathrm{d} l \\; .\n",
    "\\label{_auto38} \\tag{42}\n",
    "\\end{equation}\n",
    "$$"
   ]
  },
  {
   "cell_type": "markdown",
   "metadata": {},
   "source": [
    "## Finding the electric field from the charge denstiy\n",
    "\n",
    "\n",
    "How can we use the volume charge density to find the electric field? We will do this by summing up the contributions from all the small charge elements $dq$ making up the system. We need to be very precise with our notation. We want to find the electric field $\\vec{E}(\\vec{r})$ in a point $\\vec{r}$. We call this point the *observation point*. We want to include the contribution to this field from all the charges. For discrete charges, the charges were placed in positions $\\vec{r}_i$ and we summed over all $i$. For a continous distribution of charges, we sum the contributions of all charge elements $dq = \\rho(\\vec{r}')dv'$ at $\\vec{r}'$ to the electric field $\\vec{E}(\\vec{r})$ at $\\vec{r}$. The contribution from one such element is:\n",
    "<!--  -->"
   ]
  },
  {
   "cell_type": "markdown",
   "metadata": {},
   "source": [
    "<!-- Equation labels as ordinary links -->\n",
    "<div id=\"_auto39\"></div>\n",
    "\n",
    "$$\n",
    "\\begin{equation}\n",
    "d \\vec{E} = \\frac{\\rho(\\vec{r}')dv'}{4 \\pi \\epsilon_0} \\frac{\\vec{r}- \\vec{r}'}{|\\vec{r} - \\vec{r}'|^{3}} \\; .\n",
    "\\label{_auto39} \\tag{43}\n",
    "\\end{equation}\n",
    "$$"
   ]
  },
  {
   "cell_type": "markdown",
   "metadata": {},
   "source": [
    "<!--  -->\n",
    "The contributions from all charges in a volume $v$ is then found by the integral:\n",
    "<!--  -->"
   ]
  },
  {
   "cell_type": "markdown",
   "metadata": {},
   "source": [
    "<!-- Equation labels as ordinary links -->\n",
    "<div id=\"eq:electricfield-int-010\"></div>\n",
    "\n",
    "$$\n",
    "\\begin{equation}\n",
    "\\vec{E} = \\int_v \\frac{\\rho(\\vec{r}')\\mathrm{d} v'}{4 \\pi \\epsilon_0} \\frac{\\vec{r}- \\vec{r}'}{|\\vec{r} - \\vec{r}'|^{3}} \\; .\n",
    "\\label{eq:electricfield-int-010} \\tag{44}\n",
    "\\end{equation}\n",
    "$$"
   ]
  },
  {
   "cell_type": "markdown",
   "metadata": {},
   "source": [
    "<!--  -->\n",
    "Notice that the integral is over $dv'$. What does this mean? It may become more obvious in Cartesian coordinates: In this case $\\vec{r}' = (x',y',z')$ and the integral is over $dv' = dx' \\, dy' \\, dz'$. The *integration variable* is $\\vec{r}'$, and $\\vec{r}$ is a *constant* in this integration! We use the triple integral notation if we write the integral explicitely out in Cartesian coordinates:"
   ]
  },
  {
   "cell_type": "markdown",
   "metadata": {},
   "source": [
    "<!-- Equation labels as ordinary links -->\n",
    "<div id=\"eq:electricfield-int-011\"></div>\n",
    "\n",
    "$$\n",
    "\\begin{equation}\n",
    "\\vec{E} = \\iiint_v \\frac{\\rho(\\vec{r}')}{4 \\pi \\epsilon_0} \\frac{\\vec{r}- \\vec{r}'}{|\\vec{r} - \\vec{r}'|^{3}} dx' \\, dy' \\, dz' \\; .\n",
    "\\label{eq:electricfield-int-011} \\tag{45}\n",
    "\\end{equation}\n",
    "$$"
   ]
  },
  {
   "cell_type": "markdown",
   "metadata": {},
   "source": [
    "### Using the $\\vec{R}$ notation\n",
    "\n",
    "It is common and often practical to introduce the vector $\\vec{R} = \\vec{r} - \\vec{r}'$ *from* the element $dv'$ *to* the observation point. We can then rewrite the integral for the electric field as:"
   ]
  },
  {
   "cell_type": "markdown",
   "metadata": {},
   "source": [
    "<!-- Equation labels as ordinary links -->\n",
    "<div id=\"_auto40\"></div>\n",
    "\n",
    "$$\n",
    "\\begin{equation}\n",
    "\\vec{E} = \\int_v \\frac{1}{4 \\pi \\epsilon_0} \\frac{\\rho(\\vec{r}')\\mathrm{d} v'}{R^2} \\mathbf{\\hat{R}} \n",
    "\\label{_auto40} \\tag{46}\n",
    "\\end{equation}\n",
    "$$"
   ]
  },
  {
   "cell_type": "markdown",
   "metadata": {},
   "source": [
    "Here, it is important to remember that $\\vec{R}$ depends on the integration variable $\\vec{r}'$. You can therefore generally not put $\\vec{R}$ or $R$ outside the integration! The are generally not constants. However, there may be special cases where for example the magnitude $R$ is a constant, while the direction $\\mathbf{\\hat{R}}$ is not. We will use the $\\vec{R}$ notation because it is compact, but we will be careful to unpack its meaning in each case. A typically novice mistake is to assume that $\\vec{R}$ is a constant in the integral or to integrate over $\\vec{R}$ (or $\\vec{r}$) instead of over $\\vec{r}'$. \n",
    "\n",
    "### Electric fields from surface and line charge densities\n",
    "\n",
    "We can make exactly the same arguments for surface and line charge densities.\n",
    "\n",
    "For a *surface density* $\\rho_A$, the electric field is from an area $A$ is"
   ]
  },
  {
   "cell_type": "markdown",
   "metadata": {},
   "source": [
    "<!-- Equation labels as ordinary links -->\n",
    "<div id=\"_auto41\"></div>\n",
    "\n",
    "$$\n",
    "\\begin{equation}\n",
    "\\vec{E} = \\int_A \\frac{1}{4 \\pi \\epsilon_0} \\frac{\\rho(\\vec{r}')\\mathrm{d} A'}{R^2} \\mathbf{\\hat{R}} \\; .\n",
    "\\label{_auto41} \\tag{47}\n",
    "\\end{equation}\n",
    "$$"
   ]
  },
  {
   "cell_type": "markdown",
   "metadata": {},
   "source": [
    "For a *line density* $\\rho_l$, the electric field is from a line $L$ is"
   ]
  },
  {
   "cell_type": "markdown",
   "metadata": {},
   "source": [
    "<!-- Equation labels as ordinary links -->\n",
    "<div id=\"_auto42\"></div>\n",
    "\n",
    "$$\n",
    "\\begin{equation}\n",
    "\\vec{E} = \\int_L \\frac{1}{4 \\pi \\epsilon_0} \\frac{\\rho(l')\\mathrm{d} l'}{R^2} \\mathbf{\\hat{R}} \\; .\n",
    "\\label{_auto42} \\tag{48}\n",
    "\\end{equation}\n",
    "$$"
   ]
  },
  {
   "cell_type": "markdown",
   "metadata": {},
   "source": [
    "<!-- ----------------- STUDENT ACTIVITIES --------------- START -->\n",
    "\n",
    "**Question.**\n",
    "\n",
    "There is a uniform charge density $\\rho$ in the region $0<x0<a$, $0<y<b$, $0<z<c$. Write down the integral for the total charge. What is the value of this integral?\n",
    "\n",
    "\n",
    "\n",
    "**Question.**\n",
    "\n",
    "There is a uniform charge density $\\rho$ in the region  $0<x0<a$, $0<y<b$, $0<z<c$. Explain how you would find the electric field in a point $\\vec{r}$ using your own words. Write down the contribution from a small element $dv'$ to the field in $\\vec{r}=(x,y,z)$ using the $\\vec{R}$-vector. Then write it down in Cartesian coordinates ($x,y,z$). Finally, write down the integral you need to solve to find the electric field. Explain which variables are integration variables, what the integration limits are for each coordinate, and what are constants in the integration. (We are not solving this integral --- yet).\n",
    "\n",
    "\n",
    "\n",
    "<!-- ----------------- STUDENT ACTIVITIES --------------- END -->\n",
    "\n",
    "\n",
    "**Method for finding the electric field.**\n",
    "\n",
    "\n",
    "There is a robust method to find the electric field $\\vec{E}(\\vec{r})$ from a discrete or continuous charge distribution. Given the charges and their positions, we find the field using the following procedure:\n",
    "\n",
    " * Model the problem: Choose a coordinate system to describe the system that reflects the symmetries of the system.\n",
    "\n",
    "**Discrete charges**:\n",
    " * Find the distance $R_i$ from the observation point $\\vec{r}$ to charge $Q_i$ at at $\\vec{r}_i$: $\\vec{R}_ = \\vec{r} - \\vec{r}_i$ for each charge.\n",
    "\n",
    " * Sum the contributions from all charges $Q_i$:"
   ]
  },
  {
   "cell_type": "markdown",
   "metadata": {},
   "source": [
    "<!-- Equation labels as ordinary links -->\n",
    "<div id=\"_auto43\"></div>\n",
    "\n",
    "$$\n",
    "\\begin{equation}\n",
    "\\vec{E}(\\vec{r}) = \\sum_i \\frac{Q_i}{4 \\pi \\epsilon_0}{\\vec{R}}{R^3} = \\sum_i \\frac{Q_i}{4 \\pi \\epsilon_0} \\frac{\\vec{r}-\\vec{r}'}{ |\\vec{r} - \\vec{r}_i|^3} \\; .\n",
    "\\label{_auto43} \\tag{49}\n",
    "\\end{equation}\n",
    "$$"
   ]
  },
  {
   "cell_type": "markdown",
   "metadata": {},
   "source": [
    "**Continous charges:**\n",
    " * Describe a small element $dq$ at a position $\\vec{r}'$. Relate $dq$ to a volume; surface; line element $dq = \\rho dV'$; $\\rho_s dS'$; $\\rho_l dl'$.\n",
    "\n",
    " * Find the distance $R$ from the observation point $\\vec{r}$ to the small element at $\\vec{r}'$: $\\vec{R} = \\vec{r} - \\vec{r}'$.\n",
    "\n",
    " * Integrate over all $\\vec{r}'$ that make up the body of interest analytically or numerically. Remember that the integration variable is $\\vec{r}'$ and not $\\vec{r}$! For a volume charge density the integral is:"
   ]
  },
  {
   "cell_type": "markdown",
   "metadata": {},
   "source": [
    "<!-- Equation labels as ordinary links -->\n",
    "<div id=\"_auto44\"></div>\n",
    "\n",
    "$$\n",
    "\\begin{equation}\n",
    "\\vec{E}(\\vec{r}) = \\int_v \\frac{\\rho \\mathrm{d} V'}{4 \\pi \\epsilon_0} \\frac{\\vec{R}}{R^3}\n",
    "= \\int_v \\frac{\\rho \\mathrm{d} V'}{4 \\pi \\epsilon_0} \\frac{\\vec{r}-\\vec{r}'}{|\\vec{r}-\\vec{r}'|^3} \\; .\n",
    "\\label{_auto44} \\tag{50}\n",
    "\\end{equation}\n",
    "$$"
   ]
  },
  {
   "cell_type": "markdown",
   "metadata": {},
   "source": [
    "## Example: Electric field from a ring charge\n",
    "\n",
    "*A ring of radius $a$ in the $xy$-plane with center in the origin has a total charge $Q$ which is uniformly distributed along the ring. Find the electric field along the $z$-axis.*\n",
    "\n",
    "This is an example of a line charge. The length of the ring is $L = 2 \\pi a$ and the line charge density is $\\rho_l = Q/L = Q/(2 \\pi a)$. We find the electric field in the point $\\vec{r} = z \\mathbf{\\hat{z}}$ by summing the contributions from all parts of the ring. A small part of length $dl$ at a position $\\theta$ has a charge $dq = \\rho_l dl$. The situation is illustrated in Fig. [fig:field-ring-010](#fig:field-ring-010).\n",
    "\n",
    "<!-- dom:FIGURE:[fig-electricfield/field-ring-010.png, height=400 width=600 frac=0.7] An illustration of a ring of charge $Q$. <div id=\"fig:field-ring-010\"></div> -->\n",
    "<!-- begin figure -->\n",
    "<div id=\"fig:field-ring-010\"></div>\n",
    "\n",
    "<p>An illustration of a ring of charge $Q$.</p>\n",
    "<img src=\"fig-electricfield/field-ring-010.png\" height=400 width=600>\n",
    "\n",
    "<!-- end figure -->\n",
    "\n",
    "\n",
    "We can describe the position along the ring using the angle $\\theta$. The small length $dl$ is then equal to $dl = a d \\theta$, and the charge $dq = \\rho_l a d \\theta$.\n",
    "\n",
    "The position of the element $dl$ is $\\vec{r}_l = \\left( a \\cos \\theta, a \\sin \\theta, 0 \\right)$. We find the field by summing up all contributions through the integral"
   ]
  },
  {
   "cell_type": "markdown",
   "metadata": {},
   "source": [
    "<!-- Equation labels as ordinary links -->\n",
    "<div id=\"_auto45\"></div>\n",
    "\n",
    "$$\n",
    "\\begin{equation}\n",
    "\\vec{E} = \\int_l \\frac{\\mathrm{d} q}{4 \\pi \\epsilon_0} \\frac{\\vec{R}}{R^3} \\; ,\n",
    "\\label{_auto45} \\tag{51}\n",
    "\\end{equation}\n",
    "$$"
   ]
  },
  {
   "cell_type": "markdown",
   "metadata": {},
   "source": [
    "where the vector $\\vec{R} = \\vec{r} - \\vec{r}_l = (0,0,z) - (a \\cos \\theta, a \\sin \\theta, 0) = (-a \\cos \\theta, - a \\sin \\theta, z)$. We see that"
   ]
  },
  {
   "cell_type": "markdown",
   "metadata": {},
   "source": [
    "<!-- Equation labels as ordinary links -->\n",
    "<div id=\"_auto46\"></div>\n",
    "\n",
    "$$\n",
    "\\begin{equation}\n",
    "R^2 = a^2 \\left( \\cos^2 \\theta + \\sin^2 \\theta \\right) + z^2 = a^2 + z^2 \\; .\n",
    "\\label{_auto46} \\tag{52}\n",
    "\\end{equation}\n",
    "$$"
   ]
  },
  {
   "cell_type": "markdown",
   "metadata": {},
   "source": [
    "This term therefore does not have a $\\theta$ dependence. We rewrite the integral to be an integral over $\\theta$:"
   ]
  },
  {
   "cell_type": "markdown",
   "metadata": {},
   "source": [
    "<!-- Equation labels as ordinary links -->\n",
    "<div id=\"_auto47\"></div>\n",
    "\n",
    "$$\n",
    "\\begin{equation}\n",
    "\\vec{E} = \\int_l \\frac{\\mathrm{d} q}{4 \\pi \\epsilon_0} \\frac{\\vec{R}}{R^3} = \\int_{0}^{2 \\pi} \\frac{\\rho_l a \\mathrm{d} \\theta}{4 \\pi \\epsilon_0} \\frac{\\vec{R}}{R^2} = \\frac{\\rho_l a}{4 \\pi \\epsilon_0} \\int_{0}^{2\\pi} \\frac{\\vec{R}}{R^3} \\mathrm{d} \\theta \\; .\n",
    "\\label{_auto47} \\tag{53}\n",
    "\\end{equation}\n",
    "$$"
   ]
  },
  {
   "cell_type": "markdown",
   "metadata": {},
   "source": [
    "We insert the expression for $\\vec{R}$ and $R$, getting:"
   ]
  },
  {
   "cell_type": "markdown",
   "metadata": {},
   "source": [
    "<!-- Equation labels as ordinary links -->\n",
    "<div id=\"_auto48\"></div>\n",
    "\n",
    "$$\n",
    "\\begin{equation}\n",
    "\\vec{E} = \\frac{\\rho_l a}{4 \\pi \\epsilon_0} \\int_{0}^{2\\pi} \\frac{(-a \\cos \\theta, -a \\sin \\theta, z)}{\\left( a^2 + z^2 \\right)^{3/2}} \\mathrm{d} \\theta \\; .\n",
    "\\label{_auto48} \\tag{54}\n",
    "\\end{equation}\n",
    "$$"
   ]
  },
  {
   "cell_type": "markdown",
   "metadata": {},
   "source": [
    "<!-- Coulombs law - experimental observation -->\n",
    "We see that the integrals over $\\cos \\theta$ and $\\sin \\theta$ are zero. The resulting $\\vec{E}$ therefore only has a componet in the $z$-direction:"
   ]
  },
  {
   "cell_type": "markdown",
   "metadata": {},
   "source": [
    "<!-- Equation labels as ordinary links -->\n",
    "<div id=\"_auto49\"></div>\n",
    "\n",
    "$$\n",
    "\\begin{equation}\n",
    "\\vec{E} = \\frac{\\rho_l a}{4 \\pi \\epsilon_0} 2 \\pi \\frac{z}{\\left( a^2 + z^2 \\right)^{3/2}} =\n",
    "\\frac{Q}{4 \\pi \\epsilon_0} \\frac{z}{\\left( a^2 + z^2 \\right)^{3/2}} \n",
    "\\label{_auto49} \\tag{55}\n",
    "\\end{equation}\n",
    "$$"
   ]
  },
  {
   "cell_type": "markdown",
   "metadata": {},
   "source": [
    "When $z$ is much larger than $a$ this approaches:"
   ]
  },
  {
   "cell_type": "markdown",
   "metadata": {},
   "source": [
    "<!-- Equation labels as ordinary links -->\n",
    "<div id=\"_auto50\"></div>\n",
    "\n",
    "$$\n",
    "\\begin{equation}\n",
    "\\vec{E}  \\rightarrow \\frac{Q}{4 \\pi \\epsilon_0} \\frac{z}{z^3} \\quad z \\gg a \\; . \n",
    "\\label{_auto50} \\tag{56}\n",
    "\\end{equation}\n",
    "$$"
   ]
  },
  {
   "cell_type": "markdown",
   "metadata": {},
   "source": [
    "### Symmetry argument\n",
    "\n",
    "Let us see how we can solve this problem using symmetry instead of brute force. The symmetry argument may be more elegant, but it does require that you are good at finding and using symmetries to solve the problem.\n",
    "\n",
    "In this case, we notice that for each element $d \\theta$, there is also an element on the opposite side (at $\\theta + \\pi$), and that the $xy$ contributions from these two components cancel, thus leaving only the $z$-component. Thus, we can limit ourselved to finding the $z$-component. This simplifies the integral. We can instead formulate an integral in terms of $dl$ and not go to the explicit parameterization of the curve through the angle $\\theta$. In this case, the integral for the $z$-component of $\\vec{E}$, $E_z$, becomes:"
   ]
  },
  {
   "cell_type": "markdown",
   "metadata": {},
   "source": [
    "<!-- Equation labels as ordinary links -->\n",
    "<div id=\"_auto51\"></div>\n",
    "\n",
    "$$\n",
    "\\begin{equation}\n",
    "\\vec{E} = \\int_l \\frac{\\rho_l \\mathrm{d} l}{4 \\pi \\epsilon_0} \\frac{R_z}{R^3} \\; ,\n",
    "\\label{_auto51} \\tag{57}\n",
    "\\end{equation}\n",
    "$$"
   ]
  },
  {
   "cell_type": "markdown",
   "metadata": {},
   "source": [
    "where $R_z$ is the $z$-component of $\\vec{R}$. We see from the geometry that $R_z$ is simply $z$ and that $R^2 = a^2 + z^2$ from Pytagoras. Hence the integral becomes"
   ]
  },
  {
   "cell_type": "markdown",
   "metadata": {},
   "source": [
    "<!-- Equation labels as ordinary links -->\n",
    "<div id=\"_auto52\"></div>\n",
    "\n",
    "$$\n",
    "\\begin{equation}\n",
    "\\vec{E} = \\int_l \\frac{\\rho_l \\mathrm{d} l}{4 \\pi \\epsilon_0} \\frac{z}{R^3} =  \\int_l \\frac{\\rho_l \\mathrm{d} l}{4 \\pi \\epsilon_0} \\frac{z}{\\left( a^2 + z^2 \\right)^{3/2}}\\; ,\n",
    "\\label{_auto52} \\tag{58}\n",
    "\\end{equation}\n",
    "$$"
   ]
  },
  {
   "cell_type": "markdown",
   "metadata": {},
   "source": [
    "where there are no parts inside the integral that depends on the position along the ring. Hence, the integral is:"
   ]
  },
  {
   "cell_type": "markdown",
   "metadata": {},
   "source": [
    "<!-- Equation labels as ordinary links -->\n",
    "<div id=\"_auto53\"></div>\n",
    "\n",
    "$$\n",
    "\\begin{equation}\n",
    "\\vec{E} = \\int_l \\frac{\\rho_l \\mathrm{d} l}{4 \\pi \\epsilon_0} \\frac{z}{\\left( a^2 + z^2 \\right)^{3/2}}\n",
    "= \\frac{\\rho_l}{4 \\pi \\epsilon_0} \\frac{z}{\\left( a^2 + z^2 \\right)^{3/2}} \\int_l \\mathrm{d} l = \n",
    "= \\frac{\\rho_l 2 \\pi a}{4 \\pi \\epsilon_0} \\frac{z}{\\left( a^2 + z^2 \\right)^{3/2}}\n",
    "\\; .\n",
    "\\label{_auto53} \\tag{59}\n",
    "\\end{equation}\n",
    "$$"
   ]
  },
  {
   "cell_type": "markdown",
   "metadata": {},
   "source": [
    "This is indeed the same result as we found above.\n",
    "\n",
    "### Solution outside the $z$-axis\n",
    "\n",
    "If we want to find the solution outside the $z$-axis, we can either follow the same type of argument, but we need to evaluate the integral numerically, or we can start from a discretization of the ring into finite linear segments, and then sum of the contributions from each of these segments. We will address both methods, which essentially are identical, although the discretization is different.\n",
    "\n",
    "### Numerical integration of charged ring with an angular discretization\n",
    "\n",
    "We can use the same approach as introduced above, but instead introduce a general point $\\vec{r} = (x,y,z)$ for $\\vec{R}$ so that"
   ]
  },
  {
   "cell_type": "markdown",
   "metadata": {},
   "source": [
    "<!-- Equation labels as ordinary links -->\n",
    "<div id=\"_auto54\"></div>\n",
    "\n",
    "$$\n",
    "\\begin{equation}\n",
    "\\vec{R} = \\vec{r} - \\vec{r}_l = (x,0,z) - (a \\cos \\theta, a \\sin \\theta, 0) = (x-a \\cos \\theta, y-a \\sin \\theta, z) \\; .\n",
    "\\label{_auto54} \\tag{60}\n",
    "\\end{equation}\n",
    "$$"
   ]
  },
  {
   "cell_type": "markdown",
   "metadata": {},
   "source": [
    "The integral for the electric field is"
   ]
  },
  {
   "cell_type": "markdown",
   "metadata": {},
   "source": [
    "<!-- Equation labels as ordinary links -->\n",
    "<div id=\"_auto55\"></div>\n",
    "\n",
    "$$\n",
    "\\begin{equation}\n",
    "\\vec{E} = \\frac{\\rho_l a}{4 \\pi \\epsilon_0} \\int_{0}^{2\\pi} \\frac{\\vec{R}}{R^3} \\mathrm{d} \\theta \\; ,\n",
    "\\label{_auto55} \\tag{61}\n",
    "\\end{equation}\n",
    "$$"
   ]
  },
  {
   "cell_type": "markdown",
   "metadata": {},
   "source": [
    "when we insert $\\rho_l = Q/(2 \\pi a)$ and $\\vec{R}$ this becomes:"
   ]
  },
  {
   "cell_type": "markdown",
   "metadata": {},
   "source": [
    "<!-- Equation labels as ordinary links -->\n",
    "<div id=\"_auto56\"></div>\n",
    "\n",
    "$$\n",
    "\\begin{equation}\n",
    "\\vec{E} = \\frac{Q}{4 \\pi \\epsilon_0} \\frac{1}{2 \\pi} \\int_{0}^{2\\pi} \\frac{(x-a \\cos \\theta, y - a \\sin \\theta, z)} {\\left( \\left( x - a \\cos \\theta \\right)^2 + \\left( y - a \\sin \\theta \\right)^2 + z^2  \\right)^{3/2}} \\mathrm{d} \\theta \\; .\n",
    "\\label{_auto56} \\tag{62}\n",
    "\\end{equation}\n",
    "$$"
   ]
  },
  {
   "cell_type": "markdown",
   "metadata": {},
   "source": [
    "We measure all units in terms of $a$:"
   ]
  },
  {
   "cell_type": "markdown",
   "metadata": {},
   "source": [
    "<!-- Equation labels as ordinary links -->\n",
    "<div id=\"_auto57\"></div>\n",
    "\n",
    "$$\n",
    "\\begin{equation}\n",
    "\\vec{E} = \\frac{Q}{4 \\pi \\epsilon_0} \\frac{1}{2 \\pi} \\int_{0}^{2\\pi}\n",
    "\\frac{a \\left( \\frac{x}{a} - \\cos \\theta, \\frac{y}{a} - \\sin \\theta, \\frac{z}{a} \\right)}\n",
    "{a^3\\left( \\left( \\frac{x}{a} - \\cos \\theta \\right)^2 +\n",
    "           \\left( \\frac{y}{a} - \\sin \\theta \\right)^2 +\n",
    "\t   \\left( \\frac{z}{a} \\right)^2                     \\right)^{3/2}  } \\mathrm{d} \\theta \\; .\n",
    "\\label{_auto57} \\tag{63}\n",
    "\\end{equation}\n",
    "$$"
   ]
  },
  {
   "cell_type": "markdown",
   "metadata": {},
   "source": [
    "### Numerical integration of charged ring with piecewise linear discretization\n",
    "\n",
    "We can take a different and more physically motivated approach to the discretization of the ring. The idea is to divide the ring into small pieces of length $dl$ placed along the circle, and then add in the contibutions from each of these elements to the electric field at a position $\\vec{r}$ using the same approach as for a dipole above.\n",
    "\n",
    "If we divide the ring into $N$ elements, then the charge of an element is $Q/N$ and the position of element $i$ is $\\vec{r}_i = a (\\cos \\theta_i , \\sin \\theta_i,0)$ where $\\theta_i = i 2 \\pi / N$ for $i = 0,1,\\ldots, N-1$.\n",
    "\n",
    "We can then find the total electric field $\\vec{E}$ as a sum of the contributions from each of the $i$ elements:"
   ]
  },
  {
   "cell_type": "markdown",
   "metadata": {},
   "source": [
    "<!-- Equation labels as ordinary links -->\n",
    "<div id=\"_auto58\"></div>\n",
    "\n",
    "$$\n",
    "\\begin{equation}\n",
    "\\vec{E}(\\vec{r}) = \\sum_i \\vec{E}_i = \\sum_i \\frac{Q_i}{4 \\pi \\epsilon_0} \\frac{\\vec{R}_i}{R_i^3} \\; ,\n",
    "\\label{_auto58} \\tag{64}\n",
    "\\end{equation}\n",
    "$$"
   ]
  },
  {
   "cell_type": "markdown",
   "metadata": {},
   "source": [
    "where $\\vec{R}_i = \\vec{r} - \\vec{r}_i$.\n",
    "\n",
    "This method is simple to implement directly in Python:"
   ]
  },
  {
   "cell_type": "code",
   "execution_count": 3,
   "metadata": {},
   "outputs": [],
   "source": [
    "import numpy as np\n",
    "import matplotlib.pyplot as plt\n",
    "\n",
    "# Find the field from a single charge q at r0\n",
    "def efield(r,q,r0):\n",
    "    # Find E*4*pi*epsilon0 at r from a charge q at position r0\n",
    "    R = r-r0\n",
    "    Rnorm = np.linalg.norm(R)\n",
    "    return q*R/Rnorm**3"
   ]
  },
  {
   "cell_type": "code",
   "execution_count": 4,
   "metadata": {},
   "outputs": [
    {
     "name": "stderr",
     "output_type": "stream",
     "text": [
      "/home/chris/anaconda3/lib/python3.7/site-packages/ipykernel_launcher.py:9: RuntimeWarning: invalid value encountered in true_divide\n",
      "  if __name__ == '__main__':\n"
     ]
    }
   ],
   "source": [
    "# Field from ring of charge with radius a\n",
    "a = 1.0 # radius of ring\n",
    "N = 20 # number of elements in discretization of ring\n",
    "L = 3 # Range of region to find field\n",
    "NL = 61 # Number of elements in region for field\n",
    "Q = 1.0\n",
    "\n",
    "xvalues = np.linspace(-L,L,NL)\n",
    "zvalues = np.linspace(-L,L,NL)\n",
    "X,Z = np.meshgrid(xvalues,zvalues)\n",
    "# Make zero field to fill values into\n",
    "Ex = X.copy()\n",
    "Ex[:]=0\n",
    "Ez = Z.copy()\n",
    "Ez[:]=0\n",
    "\n",
    "# Calculate field for each of these positions\n",
    "Qj = Q/N\n",
    "for i in range(len(X.flat)):\n",
    "    r = np.array([X.flat[i],0,Z.flat[i]]) \n",
    "    # We find field by summing up all contributions\n",
    "    for j in range(N):\n",
    "        thetaj = j/(2*np.pi)\n",
    "        rj = np.array([a*np.cos(thetaj),a*np.sin(thetaj),0])\n",
    "        Rj = r - rj\n",
    "        dE = efield(r,Qj,rj)\n",
    "        Ex.flat[i] = Ex.flat[i] + dE[0]\n",
    "        Ez.flat[i] = Ez.flat[i] + dE[2]"
   ]
  },
  {
   "cell_type": "code",
   "execution_count": 5,
   "metadata": {},
   "outputs": [
    {
     "data": {
      "text/plain": [
       "(-3.0, 3.0000000000000053, -2.9999999999999996, 3.0000000000000053)"
      ]
     },
     "execution_count": 5,
     "metadata": {},
     "output_type": "execute_result"
    },
    {
     "data": {
      "image/png": "[encoded data removed]",
      "text/plain": [
       "<Figure size 1152x576 with 2 Axes>"
      ]
     },
     "metadata": {
      "needs_background": "light"
     },
     "output_type": "display_data"
    }
   ],
   "source": [
    "plt.rcParams['figure.figsize'] = [16,8]\n",
    "plt.subplot(1,2,1)\n",
    "plt.quiver(X,Z,Ex,Ez)\n",
    "plt.axis('equal')\n",
    "plt.subplot(1,2,2)\n",
    "plt.streamplot(xvalues,zvalues,Ex,Ez)\n",
    "plt.axis('equal')"
   ]
  },
  {
   "cell_type": "markdown",
   "metadata": {},
   "source": [
    "The resulting plot can be seen in Fig. [fig:field-ring-020](#fig:field-ring-020).\n",
    "\n",
    "<!-- dom:FIGURE:[fig-electricfield/field-ring-020.png, height=400 width=600 frac=0.9] Plot of the calculated field in the $xz$-plane. <div id=\"fig:field-ring-020\"></div> -->\n",
    "<!-- begin figure -->\n",
    "<div id=\"fig:field-ring-020\"></div>\n",
    "\n",
    "<p>Plot of the calculated field in the $xz$-plane.</p>\n",
    "<img src=\"fig-electricfield/field-ring-020.png\" height=400 width=600>\n",
    "\n",
    "<!-- end figure -->\n",
    "\n",
    "\n",
    "<!-- Integrals over line, surface and volume -->\n",
    "\n",
    "<!-- Examples of each type of integral, use of symmetry -->\n",
    "\n",
    "\n",
    "# Summary\n",
    "\n",
    "### Coulomb's law\n",
    "\n",
    "The force on a point charge $q$ at $\\vec{r}$ from a point charge $Q$ at $\\vec{r}'$ is"
   ]
  },
  {
   "cell_type": "markdown",
   "metadata": {},
   "source": [
    "<!-- Equation labels as ordinary links -->\n",
    "<div id=\"_auto59\"></div>\n",
    "\n",
    "$$\n",
    "\\begin{equation}\n",
    "\\vec{F} = \\frac{qQ}{4 \\pi \\epsilon_0} \\frac{\\vec{R}}{R^3} = \\frac{qQ}{4 \\pi \\epsilon_0} \\frac{\\vec{r}- \\vec{r}1}{|\\vec{r}- \\vec{r}'|^3} \\; .\n",
    "\\label{_auto59} \\tag{65}\n",
    "\\end{equation}\n",
    "$$"
   ]
  },
  {
   "cell_type": "markdown",
   "metadata": {},
   "source": [
    "### Electric field\n",
    "\n",
    "The electric field $\\vec{E}$ at a point $\\vec{r}$ due to a set of charges is defined as"
   ]
  },
  {
   "cell_type": "markdown",
   "metadata": {},
   "source": [
    "<!-- Equation labels as ordinary links -->\n",
    "<div id=\"_auto60\"></div>\n",
    "\n",
    "$$\n",
    "\\begin{equation}\n",
    "\\vec{E} = \\frac{F}{q}\n",
    "\\label{_auto60} \\tag{66}\n",
    "\\end{equation}\n",
    "$$"
   ]
  },
  {
   "cell_type": "markdown",
   "metadata": {},
   "source": [
    "where $\\vec{F}$ is the net force on a test charge $q$ due to the set of charges.\n",
    "\n",
    "### Properties of the electric field\n",
    "\n",
    " * The electric field from a point charge $Q$ at $\\vec{r}'$ is"
   ]
  },
  {
   "cell_type": "markdown",
   "metadata": {},
   "source": [
    "<!-- Equation labels as ordinary links -->\n",
    "<div id=\"_auto61\"></div>\n",
    "\n",
    "$$\n",
    "\\begin{equation}\n",
    "\\vec{E}(\\vec{r}) = \\frac{Q}{4 \\pi \\epsilon_0 } \\frac{\\vec{R}}{R^3} = \\frac{Q}{4 \\pi \\epsilon_0 } \\frac{\\vec{r}- \\vec{r}'}{|\\vec{r} - \\vec{r}'|^3} \\; .\n",
    "\\label{_auto61} \\tag{67}\n",
    "\\end{equation}\n",
    "$$"
   ]
  },
  {
   "cell_type": "markdown",
   "metadata": {},
   "source": [
    "* The vector $\\vec{R}$ is from the charge $Q$ at $\\vec{r}'$ to the observation point at $\\vec{r}$: $\\vec{R} = \\vec{r} - \\vec{r}'$.\n",
    "\n",
    " * The electric field obeys the **superposition principle** : $\\vec{E} = \\sum_i \\vec{E}_i$.\n",
    "\n",
    " * The electric field can be visualized using a vector plot, `quiver(rx,ry,Ex,Ey)` or with a streamline plot `streamplot(rx,ry,Ex,Ey)'\n",
    "\n",
    "### Charge distributions\n",
    "\n",
    "We describe a continous distribution of charges using a volume ; surface; or line charge density with charge elements $dq = \\rho_l dV$; $\\rho_s dA$; $\\rho_l dl$.\n",
    "\n",
    "The electric field from a **volume charge density** is given by an integral over $\\vec{r}'$:"
   ]
  },
  {
   "cell_type": "markdown",
   "metadata": {},
   "source": [
    "<!-- Equation labels as ordinary links -->\n",
    "<div id=\"_auto62\"></div>\n",
    "\n",
    "$$\n",
    "\\begin{equation}\n",
    "\\vec{E} = \\int_V \\frac{\\rho \\mathrm{d} V'}{4 \\pi \\epsilon_0 } \\frac{\\vec{r} - \\vec{r}'}{|\\vec{r} - \\vec{r}'|^3} \\; ,\n",
    "\\label{_auto62} \\tag{68}\n",
    "\\end{equation}\n",
    "$$"
   ]
  },
  {
   "cell_type": "markdown",
   "metadata": {},
   "source": [
    "by a **surface charge density** is:"
   ]
  },
  {
   "cell_type": "markdown",
   "metadata": {},
   "source": [
    "<!-- Equation labels as ordinary links -->\n",
    "<div id=\"_auto63\"></div>\n",
    "\n",
    "$$\n",
    "\\begin{equation}\n",
    "\\vec{E} = \\int_S \\frac{\\rho_s \\mathrm{d} S'}{4 \\pi \\epsilon_0 } \\frac{\\vec{r} - \\vec{r}'}{|\\vec{r} - \\vec{r}'|^3} \\; ,\n",
    "\\label{_auto63} \\tag{69}\n",
    "\\end{equation}\n",
    "$$"
   ]
  },
  {
   "cell_type": "markdown",
   "metadata": {},
   "source": [
    "and by a **line charge density** is:"
   ]
  },
  {
   "cell_type": "markdown",
   "metadata": {},
   "source": [
    "<!-- Equation labels as ordinary links -->\n",
    "<div id=\"_auto64\"></div>\n",
    "\n",
    "$$\n",
    "\\begin{equation}\n",
    "\\vec{E} = \\int_C \\frac{\\rho_l \\mathrm{d} l'}{4 \\pi \\epsilon_0 } \\frac{\\vec{r} - \\vec{r}'}{|\\vec{r} - \\vec{r}'|^3} \\; ,\n",
    "\\label{_auto64} \\tag{70}\n",
    "\\end{equation}\n",
    "$$"
   ]
  },
  {
   "cell_type": "markdown",
   "metadata": {},
   "source": [
    "# Exercises\n",
    "\n",
    "## Test yourself\n",
    "\n",
    "\n",
    "\n",
    "<!-- --- begin exercise --- -->\n",
    "\n",
    "## Exercise 1: Two charges\n",
    "\n",
    "Two charges $q$ and $3q$ are placed as shown in the figure. Draw the forces acting on the charges.\n",
    "\n",
    "<!-- dom:FIGURE:[fig-electricfield/electricfield-ex-twochargesforce.png,  width=600 frac=0.55] -->\n",
    "<!-- begin figure -->\n",
    "\n",
    "<p></p>\n",
    "<img src=\"fig-electricfield/electricfield-ex-twochargesforce.png\" width=600>\n",
    "\n",
    "<!-- end figure -->\n",
    "\n",
    "\n",
    "\n",
    "\n",
    "\n",
    "\n",
    "<!-- --- end exercise --- -->\n",
    "\n",
    "\n",
    "\n",
    "\n",
    "<!-- --- begin exercise --- -->\n",
    "\n",
    "## Exercise 2: Two charges\n",
    "\n",
    "Two charges $3q$ and $q$ are placed on the $x$-axis at $(-a,0)$ and $(a,0)$ as shown in the figure.\n",
    "\n",
    "<!-- dom:FIGURE:[fig-electricfield/electricfield-ex-twochargesfield.png,  width=600 frac=0.65] -->\n",
    "<!-- begin figure -->\n",
    "\n",
    "<p></p>\n",
    "<img src=\"fig-electricfield/electricfield-ex-twochargesfield.png\" width=600>\n",
    "\n",
    "<!-- end figure -->\n",
    "\n",
    "\n",
    "\n",
    "**a)**\n",
    "Draw a vector diagram of the electric field along the $x$-axis.\n",
    "\n",
    "\n",
    "\n",
    "\n",
    "\n",
    "**b)**\n",
    "Sketch the electric field $E_x(x)$ as a function of $x$ along the $x$-axis.\n",
    "\n",
    "\n",
    "\n",
    "\n",
    "\n",
    "<!-- --- end exercise --- -->\n",
    "\n",
    "\n",
    "\n",
    "\n",
    "<!-- --- begin exercise --- -->\n",
    "\n",
    "## Exercise 3: Three charges\n",
    "\n",
    "Three identical charges are placed at the vertices of an equilateral triangle of side $a$ as illustrated in the figure. Draw the electric field in the plane using a vector diagram.\n",
    "\n",
    "<!-- dom:FIGURE:[fig-electricfield/electricfield-ex-threechargesfield.png,  width=600 frac=0.65] -->\n",
    "<!-- begin figure -->\n",
    "\n",
    "<p></p>\n",
    "<img src=\"fig-electricfield/electricfield-ex-threechargesfield.png\" width=600>\n",
    "\n",
    "<!-- end figure -->\n",
    "\n",
    "\n",
    "\n",
    "\n",
    "\n",
    "\n",
    "<!-- --- end exercise --- -->\n",
    "\n",
    "\n",
    "\n",
    "\n",
    "<!-- --- begin exercise --- -->\n",
    "\n",
    "## Exercise 4: Line element\n",
    "\n",
    "The figure below shows a line element of length $dl$ of a material with a uniform line charge density $\\rho_l$.\n",
    "\n",
    "<!-- dom:FIGURE:[fig-electricfield/electricfield-ex-lineelement.png,  width=600 frac=0.45] -->\n",
    "<!-- begin figure -->\n",
    "\n",
    "<p></p>\n",
    "<img src=\"fig-electricfield/electricfield-ex-lineelement.png\" width=600>\n",
    "\n",
    "<!-- end figure -->\n",
    "\n",
    "\n",
    "\n",
    "**a)**\n",
    "What is the contribution $d \\vec{E}$ from the line element $dl$ at $x'$ to the electric field at the origin?\n",
    "\n",
    "\n",
    "\n"
   ]
  },
  {
   "cell_type": "markdown",
   "metadata": {},
   "source": [
    "\n",
    "**b)**\n",
    "What is the contribution $d \\vec{E}$ from the line element $dl$ at the origin to the electric field at $x$?\n",
    "\n",
    "\n",
    "\n"
   ]
  },
  {
   "cell_type": "markdown",
   "metadata": {},
   "source": [
    "\n",
    "<!-- --- end exercise --- -->\n",
    "\n",
    "\n",
    "## Discussion exercises\n",
    "\n",
    "\n",
    "\n",
    "<!-- --- begin exercise --- -->\n",
    "\n",
    "## Exercise 5: Zero field\n",
    "\n",
    "Draw a diagram with two point charges so that the electric field is zero somewhere and show where that position is.\n",
    "\n",
    "<!-- --- end exercise --- -->\n",
    "\n",
    "\n",
    "\n",
    "\n",
    "<!-- --- begin exercise --- -->\n",
    "\n",
    "## Exercise 6: Field and force\n",
    "\n",
    "What is the relationship between the terms \"field\" and \"force\"? What are their units?\n",
    "\n",
    "<!-- --- end exercise --- -->\n",
    "\n",
    "\n",
    "\n",
    "\n",
    "<!-- --- begin exercise --- -->\n",
    "\n",
    "## Exercise 7: Constant field\n",
    "\n",
    "How would you illustrate an electric field that is a constant (in space and time)? How does this field affect a positive and a negative charge at $(0,0)$ and $(1,1)$? Make drawings to illustrate your answers.\n",
    "\n",
    "<!-- --- end exercise --- -->\n",
    "\n",
    "\n",
    "\n",
    "\n",
    "<!-- --- begin exercise --- -->\n",
    "\n",
    "## Exercise 8: Peeling tape\n",
    "\n",
    "If you peel two strips of transparent tape off the same roll and immediately let them hang near each other, they will repel each other. If you then stick the sticky side of one to the shiny side of the other and rip them apart, they will attract each other. Give a plausible explanation.\n",
    "\n",
    "<!-- --- end exercise --- -->\n",
    "\n",
    "\n",
    "\n",
    "\n",
    "<!-- --- begin exercise --- -->\n",
    "\n",
    "## Exercise 9: Mecanisms for charge transfer\n",
    "\n",
    "If a glass rod is rubbed on a silk cloth, the rod becomes positively charged, but if you rub the rod on fur, it becomes negatively charged. How can you explain the mechanisms of charge transfer?\n",
    "\n",
    "<!-- --- end exercise --- -->\n",
    "\n",
    "\n",
    "## Tutorials\n",
    "\n",
    "\n",
    "\n",
    "<!-- --- begin exercise --- -->\n",
    "\n",
    "## Exercise 10: Electric dipole\n",
    "\n",
    "An electric dipole consists of two particles: particle 1 with a charge $Q$ at $\\vec{r}_1 = (a,0,0)$ and particle 2 with a charge $-Q$ at $\\vec{r}_2 = (-a,0,0)$.\n",
    "\n",
    "\n",
    "**a)**\n",
    "Make a sketch of the system. What is the direction of the electric field $\\vec{E}$ for a point on the $y$-axis?\n",
    "\n",
    "\n",
    "\n",
    "\n",
    "\n",
    "**b)**\n",
    "What are the two $\\vec{R}$-vectors you used in this argument?\n",
    "(The $\\vec{R}$-vector appears in the expression for the electric field from a single charge as $\\vec{E} = Q/(4 \\pi \\epsilon_0) \\vec{R}/R^3$.)\n",
    "\n",
    "\n",
    "\n",
    "\n",
    "\n",
    "**c)**\n",
    "For a point in the $yz$-plane, $\\vec{r}=(a,y,z)$, what are the two $\\vec{R}$-vectors needed to find the electric field?\n",
    "\n",
    "\n",
    "\n",
    "\n",
    "\n",
    "**d)**\n",
    "Find an expression for the electric field $\\vec{E}(a,y,z)$.\n",
    "\n",
    "\n",
    "\n"
   ]
  },
  {
   "cell_type": "markdown",
   "metadata": {},
   "source": [
    "\n",
    "**e)**\n",
    "What type of coordinate system would you use to take advantage of the symmetry of the problem? Provide an argument for your choice.\n",
    "\n",
    "\n",
    "\n",
    "\n",
    "\n",
    "**f)**\n",
    "*Challenging* What is the electric field $\\vec{E}$ expressed in this coordinate system for a general point $\\vec{r} = (x,y,z)$?\n",
    "\n",
    "\n",
    "\n"
   ]
  },
  {
   "cell_type": "markdown",
   "metadata": {},
   "source": [
    "\n",
    "<!-- --- end exercise --- -->\n",
    "\n",
    "\n",
    "\n",
    "\n",
    "<!-- --- begin exercise --- -->\n",
    "\n",
    "## Exercise 11: Line charge\n",
    "\n",
    "A rod of length $L$ has a charge $Q$. We place the rod along the $x$-axis with its center at the origin.\n",
    "\n",
    "\n",
    "**a)**\n",
    "Make a drawing of the system. What types of assumptions would you need to make to assume that we can approximate this as a line charge with a line charge density $\\rho_l$? What is $\\rho_l$?\n",
    "\n",
    "\n",
    "\n",
    "\n",
    "\n",
    "**b)**\n",
    "A small piece of the rod from $x$ to $x + dx$ has a length $dx$. What is the charge of this piece?\n",
    "\n",
    "\n",
    "\n",
    "\n",
    "\n",
    "**c)**\n",
    "We want to calculate the electric field $\\vec{E}(0,y,0)$ along the $y$-axis. What is the contribution to the field from the piece of length $dx'$ at $x'$ expressed using the $\\vec{R}$-vector? Write down an explicit expression for the $\\vec{R}$-vector.\n",
    "\n",
    "\n",
    "\n"
   ]
  },
  {
   "cell_type": "markdown",
   "metadata": {},
   "source": [
    "\n",
    "**d)**\n",
    "Write down an expression for the electric field $\\vec{E}(0,y,0)$ in terms of an integral. Explain what variable you integrate over. (Ensure that your result is a vector!)\n",
    "\n",
    "\n",
    "\n"
   ]
  },
  {
   "cell_type": "markdown",
   "metadata": {},
   "source": [
    "\n",
    "**e)**\n",
    "Explain how you can use the symmetry of the problem to simplify the calculation. What type of symmetry do we have in this problem. Use this symmetry to explain where you know the field if you calculate it in the point $(0,y,0)$.\n",
    "\n",
    "\n",
    "\n",
    "\n",
    "<!-- --- end exercise --- -->\n",
    "\n",
    "\n",
    "\n",
    "\n",
    "<!-- --- begin exercise --- -->\n",
    "\n",
    "## Exercise 12: Plane charge\n",
    "\n",
    "An infinite plane with a homogeneous charge density $\\rho_A$ is placed at $z=0$.\n",
    "\n",
    "\n",
    "**a)**\n",
    "What does the word homogeneous mean in this context?\n",
    "\n",
    "\n",
    "\n",
    "\n",
    "\n",
    "**b)**\n",
    "What is the total charge of the plane?\n",
    "\n",
    "\n",
    "\n",
    "\n",
    "\n",
    "**c)**\n",
    "We want to find the field in a point $\\vec{r} = (x,y,z)$. Use a symmetry argument to find the direction of the electric field in this point.\n",
    "\n",
    "\n",
    "\n",
    "**d)**\n",
    "What is the contribution $d \\vec{E}$ to the electric field at $\\vec{r} = (x,y,z)$ from a small piece $(x',x'+dx')$, $(y',y'+dx')$ at $(x',y',0)$. First, make a drawing of the system. Explain why we use $x'$ and not $x$? What is the $\\vec{R}$-vector. Find an expression for $d \\vec{E}$.\n",
    "\n",
    "\n",
    "\n"
   ]
  },
  {
   "cell_type": "markdown",
   "metadata": {},
   "source": [
    "\n",
    "**e)**\n",
    "Find an integral-expression for the electric field $\\vec{E}$ in a point $\\vec{r} = (x,y,z)$ from charges in the region $0<x'<a$, $0<y'<b$, $z'=0$. (You do not need to solve the integral).\n",
    "\n",
    "\n",
    "\n"
   ]
  },
  {
   "cell_type": "markdown",
   "metadata": {},
   "source": [
    "\n",
    "<!-- --- end exercise --- -->\n",
    "\n",
    "\n",
    "\n",
    "\n",
    "<!-- --- begin exercise --- -->\n",
    "\n",
    "## Exercise 13: Angle between suspended charges\n",
    "\n",
    "*(From Danny Caballero)*\n",
    "\n",
    "Two charges of identical mass $m$, one with charge $q_1=q$ and the other with $q_2=4q$, hang from a strings of length $L$ from a common point. Assume that $q$ is sufficiently small that the electric force is small compared with the gravitational force on each charge.\n",
    "\n",
    "\n",
    "**a)**\n",
    "Find an approximate expression for the angles $\\theta_1$ and $\\theta_2$ that each charge makes with respect to the vertical.\n",
    "\n",
    "\n",
    "\n"
   ]
  },
  {
   "cell_type": "markdown",
   "metadata": {},
   "source": [
    "\n",
    "**b)**\n",
    "Describe how this assumption of the relationship between the forces (i.e. that the electric force is small compared to the gravitational force) played out in your calculations, which quantities were approximated and why?\n",
    "\n",
    "\n",
    "\n",
    "**c)**\n",
    "Check (show) that the units of your solution work out.\n",
    "\n",
    "\n",
    "\n",
    "<!-- --- end exercise --- -->\n",
    "\n",
    "\n",
    "\n",
    "\n",
    "<!-- --- begin exercise --- -->\n",
    "\n",
    "## Exercise 14: Superposition as a tool\n",
    "\n",
    "*(From Danny Caballero)*\n",
    "\n",
    "The concept of superposition is critically important to the study of electrodynamics, and we can often use it as a \"trick\" for solving problems in electrostatics. For this problem, before working out the math in detail, think about how superposition helps you reason through the problem.\n",
    "\n",
    "\n",
    "**a)**\n",
    "We place 6 equal charges $q$ at the vertices of a hexagon (edge length $L$). What is the next force on a test charge $Q$ placed at the center of the hexagon?\n",
    "\n",
    "\n",
    "\n",
    "\n",
    "\n",
    "**b)**\n",
    "We remove one of the charges, leaving 5 equal charges at the vertices of the hexagon. What is the net force on the test charge now? Explain your reasoning carefully!\n",
    "\n",
    "\n",
    "\n",
    "\n",
    "\n",
    "**c)**\n",
    "We place 7 equal charges $q$ at the vertices of a heptagon (edge length $L$). What is the next force on a test charge $Q$ placed at the center of the heptagon?\n",
    "\n",
    "\n",
    "\n",
    "\n",
    "\n",
    "**d)**\n",
    "We remove one of the charges, leaving 6 equal charges at the vertices of the heptagon. What is the net force on the test charge now? Explain your reasoning carefully!\n",
    "\n",
    "\n",
    "\n",
    "\n",
    "\n",
    "**e)**\n",
    "How is the reasoning for questions 2 and 4 similar?\n",
    "\n",
    "<!-- --- end exercise --- -->\n",
    "\n",
    "\n",
    "\n",
    "\n",
    "<!-- --- begin exercise --- -->\n",
    "\n",
    "## Exercise 15: Visualization of the electric field\n",
    "\n",
    "<!-- This should provide students with basic skills to calculate and visualize the electric field, this is then used to plot and analyse the electric field in the homework exercise -->\n",
    "\n",
    "\n",
    "**a)**\n",
    "Draw a figure illustrating the electric field from a single, positive point charge in the origin. Use arrows to indicate the direction and magnitude of the field.\n",
    "\n",
    "The following minimally working Python program to find the electric field from a single point charge at the origin."
   ]
  },
  {
   "cell_type": "code",
   "execution_count": 6,
   "metadata": {},
   "outputs": [
    {
     "name": "stderr",
     "output_type": "stream",
     "text": [
      "/home/chris/anaconda3/lib/python3.7/site-packages/ipykernel_launcher.py:12: RuntimeWarning: invalid value encountered in true_divide\n",
      "  if sys.path[0] == '':\n"
     ]
    },
    {
     "data": {
      "text/plain": [
       "(-5.5, 5.5, -5.5, 5.5)"
      ]
     },
     "execution_count": 6,
     "metadata": {},
     "output_type": "execute_result"
    },
    {
     "data": {
      "image/png": "[encoded data removed]",
      "text/plain": [
       "<Figure size 1152x576 with 1 Axes>"
      ]
     },
     "metadata": {
      "needs_background": "light"
     },
     "output_type": "display_data"
    }
   ],
   "source": [
    "import numpy as np\n",
    "import matplotlib.pyplot as plt\n",
    "\n",
    "def efieldq(q0,r,r0):\n",
    "    # Input: charge q in Coulomb\n",
    "    #        r: position to find field (in 1,2 or 3 dimensions) in meters\n",
    "    #        r0: position of charge q0 in meters\n",
    "    # Output: electric field E at position r in N/C\n",
    "    dr = r-r0\n",
    "    drnorm = np.sqrt(dr.dot(dr))\n",
    "    epsilon0 = 8.854187817e-12\n",
    "    return q0/(4.0*np.pi*epsilon0)*dr/drnorm**3\n",
    "\n",
    "r0 = np.array([0.0,0.0])\n",
    "q0 = 1.0\n",
    "L = 5\n",
    "N = 21\n",
    "x = np.linspace(-L,L,N)\n",
    "y = np.linspace(-L,L,N)\n",
    "rx,ry = np.meshgrid(x,y)\n",
    "Ex = np.zeros((N,N),float)\n",
    "Ey = np.zeros((N,N),float)\n",
    "for i in range(len(rx.flat)):\n",
    "    r = np.array([rx.flat[i],ry.flat[i]])\n",
    "    Ex.flat[i],Ey.flat[i] = efieldq(q0,r,r0)\n",
    "plt.quiver(rx,ry,Ex,Ey)\n",
    "plt.axis('equal')"
   ]
  },
  {
   "cell_type": "markdown",
   "metadata": {},
   "source": [
    "**b)**\n",
    "Explain and comment the code - write comments directly into the code. What is the reason for the `copy` commands? What is the use of the `flat` command? How can you change the range and resolution of the visualization?\n",
    "\n",
    "**c)**\n",
    "Use the program to show the visual difference between the fields from a positive and from a negative charge. Are the results reasonable?\n",
    "\n",
    "\n",
    "\n",
    "**d)**\n",
    "Rewrite the program to find the field from a charge $q_0 = 0.1 \\mu \\text{C}$ at $\\vec{r}_0 = (0.01,0) \\text{m}$."
   ]
  },
  {
   "cell_type": "code",
   "execution_count": 7,
   "metadata": {},
   "outputs": [],
   "source": [
    "q0 = 0.1e-6 # C\n",
    "r0 = np.array([0.001,0])"
   ]
  },
  {
   "cell_type": "markdown",
   "metadata": {},
   "source": [
    "\n",
    "**e)**\n",
    "Use the rewritten program to find the force acting an (i) a charge $Q = 0.1 \\text{mC}$ at $\\vec{r} = (1,0)\\text{mm}$; (ii) a charge $Q = -0.1 \\text{mC}$ at $\\vec{r} = (1,0)\\text{mm}$; (iii) a charge $Q = 0.2 \\text{mC}$ at $\\vec{r}_0 = (1,2)\\text{mm}$.\n",
    "\n"
   ]
  },
  {
   "cell_type": "markdown",
   "metadata": {},
   "source": [
    "\n"
   ]
  },
  {
   "cell_type": "markdown",
   "metadata": {},
   "source": [
    "\n",
    "**f)**\n",
    "Use the program to find the field from two positive and equal charges $q = 0.1 \\mu \\text{C}$ at $(0,0)$ and $(0.5,0) \\text{mm}$.\n",
    "\n"
   ]
  },
  {
   "cell_type": "markdown",
   "metadata": {},
   "source": [
    "\n",
    "**g)**\n",
    "Use the program to find the net field from two charges: $q_1 = -0.1 \\mu \\text{C}$ at $\\vec{r}_0 = (0,0)$ and $q_1 = 0.1 \\mu \\text{C}$ at $\\vec{r}_0 = (0.5,0) \\text{mm}$.\n",
    "\n"
   ]
  },
  {
   "cell_type": "markdown",
   "metadata": {},
   "source": [
    "\n",
    "\n",
    "<!-- --- end exercise --- -->\n",
    "\n",
    "\n",
    "## Homework\n",
    "\n",
    "\n",
    "\n",
    "<!-- --- begin exercise --- -->\n",
    "\n",
    "## Exercise 16: Point charges\n",
    "<div id=\"exer:electricfield-pointcharge\"></div>\n",
    "\n",
    "A point charge $q_1 = 4.0 \\text{ nC}$ is on the $x$-axis at $x=2.0 \\text{ m}$. Another point charge, $q_2 = -6.0 \\text{ nC}$, is on the $y$-axis at $y=1.0 \\text{ m}$.\n",
    "\n",
    "\n",
    "**a)**\n",
    "Draw a figure of the charges in a coordinate system and sketch the forces acting on the two charges.\n",
    "\n",
    "\n",
    "\n",
    "**b)**\n",
    "Calculate the force $\\vec{F}_{2}$ on the charge $q_2$ and the magnitude $|\\vec{F}_{2}|$ of the force on the charge $q_2$.\n",
    "\n",
    "\n",
    "\n"
   ]
  },
  {
   "cell_type": "markdown",
   "metadata": {},
   "source": [
    "\n",
    "**c)**\n",
    "What is the force $\\vec{F}_1$ on the charge $q_1$?\n",
    "\n",
    "\n",
    "\n",
    "\n",
    "\n",
    "<!-- --- end exercise --- -->\n",
    "\n",
    "\n",
    "\n",
    "\n",
    "<!-- --- begin exercise --- -->\n",
    "\n",
    "## Exercise 17: The electric field from groups of point charges\n",
    "<div id=\"exer:electricfield-groupofcharges\"></div>\n",
    "\n",
    "We address a system with a single charge $q$ in $\\vec{r} = 0$.\n",
    "\n",
    "\n",
    "**a)**\n",
    "Use Python to make an arrow plot that shows the electric field in the $xy$-plane and a plot that show the stream lines in the $xy$-plane.\n",
    "\n"
   ]
  },
  {
   "cell_type": "markdown",
   "metadata": {},
   "source": [
    "\n",
    "**b)**\n",
    "Plot $E(r)$. Explain how to use a plot of $E(r)$ to find the functional form of $E(r)$ is $E(r) \\propto r^{-2}$ if you did not know this.\n",
    "\n"
   ]
  },
  {
   "cell_type": "markdown",
   "metadata": {},
   "source": [
    "\n",
    "\n",
    "We will then address a system of two charges: a charge $q$ in $\\vec{r} = (a,0)$ and a charge $-q$ in $\\vec{r} = (-a,0)$, where $a$ is a characteristic length.\n",
    "\n",
    "**c)**\n",
    "Use Python to make an arrow plot of the electric field in the $xy$-plane and a plot that shows the stream lines in the $xy$-plane.\n",
    "\n",
    "\n",
    "\n",
    "**d)**\n",
    "Plot $E(r)$. From the plot, find the functional form, $E(r)$, in the limit of large $r$ ($r \\gg a$).\n",
    "\n",
    "\n",
    "\n"
   ]
  },
  {
   "cell_type": "markdown",
   "metadata": {},
   "source": [
    "\n",
    "**e)**\n",
    "Will these results change significantly if both charges have the same sign? How?\n",
    "\n",
    "\n",
    "\n",
    "\n",
    "\n",
    "We will then address a system of four charges: $q$ in $\\vec{r} = (\\pm a,0)$ and $-q$ in $\\vec{r} = (0,\\pm a)$.\n",
    "\n",
    "**f)**\n",
    "Use Python to make an arrow plot of the electric field in the $xy$-plane and a plot of the stream lines in the $xy$-plane.\n",
    "\n",
    "\n",
    "\n",
    "**g)**\n",
    "Using the method you have developed to find the functional form of $E(r)$ in the limit of large $r$ ($r \\gg a$).\n",
    "\n",
    "\n",
    "\n"
   ]
  },
  {
   "cell_type": "markdown",
   "metadata": {},
   "source": [
    "\n",
    "<!-- --- end exercise --- -->\n",
    "\n",
    "\n",
    "\n",
    "\n",
    "<!-- --- begin exercise --- -->\n",
    "\n",
    "## Exercise 18: The electric field above a finite disk\n",
    "<div id=\"exer:electricfield-fieldabovedisk\"></div>\n",
    "\n",
    "In this exercise we study the electric field along the $z$-axis (the symmetry axis) from a disk of radius $a$ and constant surface charge density $\\rho_A$.\n",
    "\n",
    "\n",
    "**a)**\n",
    "What is the contribution to the electric field in a position $z$ from an element from $r$ to $r + dr$ and from $\\theta$ to $\\theta + d \\theta$. (You can assume $z > 0$).\n",
    "\n",
    "\n",
    "\n"
   ]
  },
  {
   "cell_type": "markdown",
   "metadata": {},
   "source": [
    "\n",
    "**b)**\n",
    "What is the electric field in a position $z$ (for $z>0$)?\n",
    "\n",
    "\n",
    "\n"
   ]
  },
  {
   "cell_type": "markdown",
   "metadata": {},
   "source": [
    "\n",
    "**c)**\n",
    "Find the electric field $\\vec{E}$ in the limit where $z$ is small ($z \\to 0$ from above). Interpret the result.\n",
    "\n",
    "\n",
    "\n",
    "\n",
    "\n",
    "\n",
    "**d)**\n",
    "Sketch $|\\vec{E}|$ as a function of $z$ for $z>0$.\n",
    "\n",
    "\n",
    "\n"
   ]
  },
  {
   "cell_type": "markdown",
   "metadata": {},
   "source": [
    "\n",
    "<!-- --- end exercise --- -->\n",
    "\n",
    "\n",
    "\n",
    "\n",
    "<!-- --- begin exercise --- -->\n",
    "\n",
    "## Exercise 19: Work on point charges\n",
    "<div id=\"exer:electricfield-workonpointcharge\"></div>\n",
    "\n",
    "Three point charges with the same charge $Q$ are placed at each corner $A,B,C$ in an equilateral triangle with side $a$. One charge is displaced along the dashed line from $A$ to the midpoint of $A'$ on the side $BC$. The charges in $B$ and $C$ are kept in place throughout the displacement. Calculate the work done to carry out this displacement.\n",
    "\n",
    "\n",
    "\n"
   ]
  },
  {
   "cell_type": "markdown",
   "metadata": {},
   "source": [
    "\n",
    "<!-- --- end exercise --- -->\n",
    "\n",
    "\n",
    "\n",
    "\n",
    "<!-- --- begin exercise --- -->\n",
    "\n",
    "## Exercise 20: Plate with a hole\n",
    "\n",
    "Find $|\\vec{E}|$ at a height $z$ above an infinitely large, plane surface with a hole with radius $a$. The surface has a constant surface charge density  $\\rho_s$.\n",
    "\n",
    "<!-- --- begin hint in exercise --- -->\n",
    "\n",
    "**Hint.**\n",
    "Superposition.\n",
    "\n",
    "<!-- --- end hint in exercise --- -->\n",
    "\n",
    "\n",
    "\n"
   ]
  },
  {
   "cell_type": "markdown",
   "metadata": {},
   "source": [
    "\n",
    "<!-- --- end exercise --- -->\n",
    "\n",
    "\n",
    "\n",
    "\n",
    "<!-- --- begin exercise --- -->\n",
    "\n",
    "## Exercise 21: Half circle\n",
    "\n",
    "We will here study a half-circle shaped line charge with radius $a$ as illustrated in the figure.\n",
    "\n",
    "<!-- dom:FIGURE:[fig-electricfield/electricfield-ex-halfcircle-010.png, width=600 frac=0.4] -->\n",
    "<!-- begin figure -->\n",
    "\n",
    "<p></p>\n",
    "<img src=\"fig-electricfield/electricfield-ex-halfcircle-010.png\" width=600>\n",
    "\n",
    "<!-- end figure -->\n",
    "\n",
    "\n",
    "\n",
    "**a)**\n",
    "Assume that the line has a uniform charge density with a total charge $Q$. Find the electric field $\\vec{E}$ in the center of the half circle, that is, in the origin of the figure.\n",
    "\n",
    "\n",
    "\n"
   ]
  },
  {
   "cell_type": "markdown",
   "metadata": {},
   "source": [
    "\n",
    "**b)**\n",
    "Let as assume that the half circle is *not* uniformly charged, but that the line charge density is given as"
   ]
  },
  {
   "cell_type": "markdown",
   "metadata": {},
   "source": [
    "<!-- Equation labels as ordinary links -->\n",
    "<div id=\"_auto91\"></div>\n",
    "\n",
    "$$\n",
    "\\begin{equation}\n",
    "\\rho_l(\\phi) = \\frac{Q}{2a}\\sin \\phi \\; .\n",
    "\\label{_auto91} \\tag{97}\n",
    "\\end{equation}\n",
    "$$"
   ]
  },
  {
   "cell_type": "markdown",
   "metadata": {},
   "source": [
    "Sketch the line charge density, and show that the total charge for the half circle is still $Q$.\n",
    "\n"
   ]
  },
  {
   "cell_type": "markdown",
   "metadata": {},
   "source": [
    "\n",
    "**c)**\n",
    "Find the magnitude and direction of the electric field in the origin for the charge distribution in **b** . Which of the charge distributions (from **a** or **b**) gives the largest magnitude for the electric field?\n",
    "\n",
    "\n",
    "\n"
   ]
  },
  {
   "cell_type": "markdown",
   "metadata": {},
   "source": [
    "\n",
    "<!-- --- end exercise --- -->\n",
    "\n",
    "\n",
    "\n",
    "\n",
    "<!-- --- begin exercise --- -->\n",
    "\n",
    "## Exercise 22: Dipole in a uniform electric field\n",
    "\n",
    "*(By Sigurd Sørlie Rustad)*\n",
    "\n",
    "In this exercise we will take a look at an electric dipole in a uniform electric field. The distance between the two charges in the dipole is $d$ as shown in the figure.\n",
    "\n",
    "<!-- dom:FIGURE:[fig-electricfield/dipole_efield_fig.png, width=600 frac=0.6] -->\n",
    "<!-- begin figure -->\n",
    "\n",
    "<p></p>\n",
    "<img src=\"fig-electricfield/dipole_efield_fig.png\" width=600>\n",
    "\n",
    "<!-- end figure -->\n",
    "\n",
    "\n",
    "\n",
    "**a)**\n",
    "What is the net force on the dipole?\n",
    "\n",
    "\n",
    "\n",
    "**b)**\n",
    "Find the torque around the center of mass of the dipole in terms of the electric moment $\\vec{p}$ and the electric field $\\vec{E}$.\n",
    "\n",
    "<!-- --- begin hint in exercise --- -->\n",
    "\n",
    "**Hint.**\n",
    "The formula for torque is $\\vec{\\tau} = \\vec{r}\\times\\vec{F}$, where $\\vec{r}$ is the the vector going from the point of rotation to where the force $\\vec{F}$ is applied.\n",
    "\n",
    "<!-- --- end hint in exercise --- -->\n",
    "\n"
   ]
  },
  {
   "cell_type": "markdown",
   "metadata": {},
   "source": [
    "\n",
    "**c)**\n",
    "For what angles $\\theta$ do we have stable and unstable equilibrium? And when do we have maximum torque?\n",
    "\n",
    "\n",
    "\n",
    "**d)**\n",
    "Show that for small values of $\\theta$ you get a simple harmonic motion. Here you need to use the small angle approximation ($sin(\\theta) \\approx \\theta$) and $\\vec{\\tau} = I\\vec{\\alpha}$, where $I$ is the moment of inertia and $\\vec{\\alpha}$ is the angular acceleration.\n",
    "\n",
    "<!-- --- begin hint in exercise --- -->\n",
    "\n",
    "**Hint.**\n",
    "A simple harmonic oscillator has the differential equation"
   ]
  },
  {
   "cell_type": "markdown",
   "metadata": {},
   "source": [
    "<!-- Equation labels as ordinary links -->\n",
    "<div id=\"_auto94\"></div>\n",
    "\n",
    "$$\n",
    "\\begin{equation}\n",
    "m\\frac{\\mathrm{d}^2 x}{\\mathrm{d} t^2} = -kx\n",
    "\\label{_auto94} \\tag{100}\n",
    "\\end{equation}\n",
    "$$"
   ]
  },
  {
   "cell_type": "markdown",
   "metadata": {},
   "source": [
    "Where $m$ and $k$ are constant and $x$ describes the harmonic motion. The solution is"
   ]
  },
  {
   "cell_type": "markdown",
   "metadata": {},
   "source": [
    "<!-- Equation labels as ordinary links -->\n",
    "<div id=\"_auto95\"></div>\n",
    "\n",
    "$$\n",
    "\\begin{equation}\n",
    "x(t) = Acos(\\omega t + \\phi) \\ \\ \\ \\ \\omega = \\sqrt{\\frac{k}{m}}\n",
    "\\label{_auto95} \\tag{101}\n",
    "\\end{equation}\n",
    "$$"
   ]
  },
  {
   "cell_type": "markdown",
   "metadata": {},
   "source": [
    "$A$ and $\\phi$ are constant.\n",
    "\n",
    "<!-- --- end hint in exercise --- -->\n",
    "\n"
   ]
  },
  {
   "cell_type": "markdown",
   "metadata": {},
   "source": [
    "\n",
    "**e)**\n",
    "What is the angular velocity?\n",
    "\n"
   ]
  },
  {
   "cell_type": "markdown",
   "metadata": {},
   "source": [
    "\n",
    "**f)**\n",
    "Find a formula for $\\theta$.\n",
    "\n"
   ]
  },
  {
   "cell_type": "markdown",
   "metadata": {},
   "source": [
    "\n",
    "**g)**\n",
    "Plot the angle over two periods.\n",
    "\n",
    "<!-- --- begin hint in exercise --- -->\n",
    "\n",
    "**Hint.**\n",
    "The formula for moment of inertia for point mass"
   ]
  },
  {
   "cell_type": "markdown",
   "metadata": {},
   "source": [
    "<!-- Equation labels as ordinary links -->\n",
    "<div id=\"_auto102\"></div>\n",
    "\n",
    "$$\n",
    "\\begin{equation}\n",
    "I = \\sum_i m_ir_i² \n",
    "\\label{_auto102} \\tag{108}\n",
    "\\end{equation}\n",
    "$$"
   ]
  },
  {
   "cell_type": "markdown",
   "metadata": {},
   "source": [
    "$m_i$ is the mass and $r_i$ the distance from the point of rotation to the point mass.\n",
    "\n",
    "<!-- --- end hint in exercise --- -->\n",
    "\n"
   ]
  },
  {
   "cell_type": "markdown",
   "metadata": {},
   "source": [
    "\n",
    "**h)**\n",
    "Find the numeric solution (do not use small angle approximation) and plot both results over four periods. Use `SciPy`'s `odeint` package to solve the differential equation. The initial conditions are $q = e$, $d=3\\times 10^{-9}$m, $m=3\\times 10^{-5}$kg and $E=1000$N/C.\n",
    "\n"
   ]
  },
  {
   "cell_type": "markdown",
   "metadata": {},
   "source": [
    "\n",
    "**i)**\n",
    "Expand the code over and plot the difference between the numeric and approximate solution over time. Find where the difference between them is above 0.05 rad. Plot red dots over the numeric solution where that is the case.\n",
    "\n"
   ]
  },
  {
   "cell_type": "markdown",
   "metadata": {},
   "source": [
    "\n",
    "<!-- --- end exercise --- -->\n",
    "\n",
    "\n",
    "\n",
    "\n",
    "<!-- --- begin exercise --- -->\n",
    "\n",
    "## Exercise 23: Milikan oil drop experiment\n",
    "\n",
    "*(By Sigurd Sørlie Rustad)*\n",
    "\n",
    "*In 1909 Robert A. Milikan and Harvey Fletcher tried to measure the elementary electric charge. They did this by measuring the electric field needed to levetate a ionized oil drop. They found the elementary electric charge to be $1.5924(17) \\times 10^{-19}$, about 0.6\\% difference from the current value.*\n",
    "\n",
    "(https://en.wikipedia.org/wiki/Oil\\_drop\\_experiment)\n",
    "\n",
    "In this exercise we are going to do something that resembles the Milkan oil drop experiment. Consider the setup shown on the figure. The oil drop is in equilibrium and the mass is $4.9 \\times X10^{-15} \\text{kg}$.\n",
    "\n",
    "<!-- dom:FIGURE:[fig-electricfield/milikan_experiment.png, width=600 frac=0.6] -->\n",
    "<!-- begin figure -->\n",
    "\n",
    "<p></p>\n",
    "<img src=\"fig-electricfield/milikan_experiment.png\" width=600>\n",
    "\n",
    "<!-- end figure -->\n",
    "\n",
    "\n",
    "\n",
    "**a)**\n",
    "Draw a sketch to show the forces acting on the oil drop.\n",
    "\n",
    "\n",
    "\n",
    "**b)**\n",
    "What is the sign of the charge on the oil drop.\n",
    "\n",
    "\n",
    "\n",
    "**c)**\n",
    "Find the total charge on the oil drop.\n",
    "\n",
    "\n",
    "\n",
    "**d)**\n",
    "How many electrons does that amount to?\n",
    "\n",
    "\n",
    "\n",
    "<!-- --- end exercise --- -->\n",
    "\n",
    "\n",
    "\n",
    "\n",
    "<!-- --- begin exercise --- -->\n",
    "\n",
    "## Exercise 24: Field from a hemisphere shell\n",
    "\n",
    "*(By Sigurd Sørlie Rustad)*\n",
    "\n",
    "In this exercise we are going to calculate the field from a hemisphere shell (see figure \\[fig:hemisphere](#fig:hemisphere)). The shell has constant charge density $\\rho$ and radius $R$.\n",
    "\n",
    "<!-- dom:FIGURE:[fig-electricfield/halvkule.png, width=600 frac=0.8] Illustration of a hemisphere shell. The origin is equidistant to the hemisphere and the hemisphere is oriented such that it has rotational symmetry along the $z$-axis. <div id=\"fig:hemisphere\"></div> -->\n",
    "<!-- begin figure -->\n",
    "<div id=\"fig:hemisphere\"></div>\n",
    "\n",
    "<p>Illustration of a hemisphere shell. The origin is equidistant to the hemisphere and the hemisphere is oriented such that it has rotational symmetry along the $z$-axis.</p>\n",
    "<img src=\"fig-electricfield/halvkule.png\" width=600>\n",
    "\n",
    "<!-- end figure -->\n",
    "\n",
    "\n",
    "\n",
    "**a)**\n",
    "Calculate the electric field, $\\vec{E}$, in the origin.\n",
    "\n",
    "\n",
    "\n"
   ]
  },
  {
   "cell_type": "markdown",
   "metadata": {},
   "source": [
    "\n",
    "<!-- --- end exercise --- -->\n",
    "\n",
    "\n",
    "\n",
    "\n",
    "<!-- --- begin exercise --- -->\n",
    "\n",
    "## Exercise 25: Visualize electric field\n",
    "\n",
    "*(By Sigurd Sørlie Rustad)*\n",
    "\n",
    "Here we are going to visualize the electric field from several particles in two dimensions. We are going to do this in parts.\n",
    "\n",
    "\n",
    "**a)**\n",
    "Consider a particle in $(x_1, y_1)$ with charge $Q$, write down the general electric field from this in position $(x, y)$.\n",
    "\n",
    "\n",
    "\n"
   ]
  },
  {
   "cell_type": "markdown",
   "metadata": {},
   "source": [
    "\n",
    "**b)**\n",
    "Write a Python program that takes in position and charge from a particle, a point in space, and returns the electric field vector in that point. Make a vector arrow plot of the electric field.\n",
    "\n",
    "<!-- --- begin hint in exercise --- -->\n",
    "\n",
    "**Hint 1.**\n",
    "It can be a good idea to scale $\\epsilon _0$ so you get reasonable sizes.\n",
    "\n",
    "<!-- --- end hint in exercise --- -->\n",
    "\n",
    "<!-- --- begin hint in exercise --- -->\n",
    "\n",
    "**Hint 2.**\n",
    "Use `quiver` from `matplotlib.pyplot` to visualize the field.\n",
    "\n",
    "<!-- --- end hint in exercise --- -->\n",
    "\n"
   ]
  },
  {
   "cell_type": "markdown",
   "metadata": {},
   "source": [
    "\n",
    "**c)**\n",
    "Expand the function you made to take in an arbitrary number of particles and then returns the resulting electric field. Make a vector arrow plot.\n",
    "\n"
   ]
  },
  {
   "cell_type": "markdown",
   "metadata": {},
   "source": [
    "\n",
    "\n",
    "<!-- --- end exercise --- -->\n",
    "\n",
    "\n",
    "## Modeling projects\n",
    "\n",
    "<!-- Paper on balloon -->\n",
    "\n",
    "\n",
    "<!-- --- begin exercise --- -->\n",
    "\n",
    "## Exercise 26: Paper on balloon\n",
    "<div id=\"exer:electricfield-paperonballoon\"></div>\n",
    "\n",
    "A small piece of paper attaches to a balloon so strongly that it does not fall down as shown in the figure.\n",
    "\n",
    "<!-- dom:FIGURE:[fig-electricfield/electricfield-ex-paperballoon.jpg, width=600 frac=0.6] -->\n",
    "<!-- begin figure -->\n",
    "\n",
    "<p></p>\n",
    "<img src=\"fig-electricfield/electricfield-ex-paperballoon.jpg\" width=600>\n",
    "\n",
    "<!-- end figure -->\n",
    "\n",
    "\n",
    "Explain how you would model this system.\n",
    "\n",
    "\n",
    "\n",
    "<!-- Wavy surface -->\n",
    "<!-- --- end exercise --- -->\n",
    "\n",
    "\n",
    "\n",
    "\n",
    "<!-- --- begin exercise --- -->\n",
    "\n",
    "## Exercise 27: Wavy surface\n",
    "<div id=\"exer:electricfield-wavysurface\"></div>\n",
    "\n",
    "If you cut into a material such as a mineral, the fresh surfaced may have effective surface charges.\n",
    "\n",
    "\n",
    "**a)**\n",
    "How will you model the electric field from a freshly cut mineral surface?\n",
    "\n",
    "**b)**\n",
    "If the surface is flat, what is the electric field outside the surface?\n",
    "\n",
    "**c)**\n",
    "Assume that the surface is a fracture. We model the fracture as a sinus-wave with amplitude $A$ and wavelength $\\lambda$. Write a Python program find the electric field outside the surface. How can you use the result from the previous exercise to test your results?\n",
    "\n",
    "**d)**\n",
    "A fracture creates two sinus-wave surfaces that are displaced a small distance $d$ from each other. One surface has positive charge and the other negative charge. What is the electric field between the surfaces?\n",
    "\n",
    "**e)**\n",
    "Assume that the surface is carefully constructed to be have a rectangular wave shape with an amplitude $A$ and a wavelength $\\lambda$. Modify your Python program to find the electric field outside the surface. What are the main differences between the two systems?\n",
    "\n",
    "**f)**\n",
    "How would the charged surfaces affect a water molecule? You can assume that you can model the water molecule as a dipole.\n",
    "\n",
    "**g)**\n",
    "(*Challenge*) A real fracture surface has a more complicated shape called a self-affine fractal. An example of a self-affine fractal is a random walk. (Although the scaling behavior of the random walk is different from most fracture surfaces, they both are examples of self-affine fractals). You can generate a random walk of length $L$ with the following script"
   ]
  },
  {
   "cell_type": "code",
   "execution_count": 8,
   "metadata": {},
   "outputs": [
    {
     "data": {
      "text/plain": [
       "(-4.95, 103.95, -8.643176679037953, 2.269304123529981)"
      ]
     },
     "execution_count": 8,
     "metadata": {},
     "output_type": "execute_result"
    },
    {
     "data": {
      "image/png": "[encoded data removed]",
      "text/plain": [
       "<Figure size 1152x576 with 1 Axes>"
      ]
     },
     "metadata": {
      "needs_background": "light"
     },
     "output_type": "display_data"
    }
   ],
   "source": [
    "from pylab import *\n",
    "L = 100\n",
    "y = cumsum(randn(L))\n",
    "x = arange(L)\n",
    "y = y - (y[-1]-y[0])/L*x\n",
    "plot(x,y)\n",
    "axis('equal')"
   ]
  },
  {
   "cell_type": "markdown",
   "metadata": {},
   "source": [
    "Use this model of a fracture to study the electric field inside a fracture.\n",
    "\n",
    "<!-- Water models in MD -->\n",
    "<!-- --- end exercise --- -->\n",
    "\n",
    "\n",
    "\n",
    "\n",
    "<!-- --- begin exercise --- -->\n",
    "\n",
    "## Exercise 28: Water models\n",
    "<div id=\"exer:electricfield-watermodels\"></div>\n",
    "\n",
    "In this project we will develop and study an increasingly complex model for a water molecule. The figure illustrates the charge distribution around a water molecule as calculated by [jmol](http://jmol.org) in the [molview.org](http://molview.org) application, where red are negative charges and blue are positive charges. The dipole moment of water is $1.85 \\text{D}$, where D is a unit called Debye: $1 \\text{D} \\simeq  3.33564 \\cdot 10^{−30} \\text{Cm}$. We will now build a model for a water molecule.\n",
    "\n",
    "<!-- dom:FIGURE:[fig-electricfield/electricfield-ex-watercharges-010.png, width=600 frac=0.55] -->\n",
    "<!-- begin figure -->\n",
    "\n",
    "<p></p>\n",
    "<img src=\"fig-electricfield/electricfield-ex-watercharges-010.png\" width=600>\n",
    "\n",
    "<!-- end figure -->\n",
    "\n",
    "\n",
    "\n",
    "**a)**\n",
    "How would you model a water molecule as a set of point charges based on the illustration in the figure. (You need to look up realistic numbers and make your own assumptions here).\n",
    "\n",
    "**b)**\n",
    "Write a Python script based on your model to find the electric field around the water molecule.\n",
    "\n",
    "**c)**\n",
    "For a dipole, the field far ($r \\gg d$) from the dipole along the dipole axis is $2p/(4 \\pi \\epsilon_0 r^3)$, where $p = d q$ is the dipole moment. How can you use this to estimate the dipole moment from the electric field?\n",
    "\n",
    "**d)**\n",
    "Estimate the dipole moment of your water model and compare with the $p = 1.85 \\text{D}$. Comment on this result.\n",
    "\n",
    "**e)**\n",
    "There are many different types of water models used for molecular-scale modeling where the water molecule is modelled as various set of point charges. Look up and describe the models called SPC and TIP4P. Calculate the electric field for from these two models and compare them. Why do you think the TIP4P model was introduced? Do you think the SPC model an exact description of the system?\n",
    "\n",
    "\n",
    "\n",
    "<!-- Ionic bonds -->\n",
    "<!-- --- end exercise --- -->\n",
    "\n",
    "\n",
    "\n",
    "\n",
    "<!-- --- begin exercise --- -->\n",
    "\n",
    "## Exercise 29: Ionic bonds\n",
    "<div id=\"exer:electricfield-ionicbonds\"></div>\n",
    "\n",
    "*(From Hornyak and Marion.)*\n",
    "\n",
    "An ionic bond occurs between two charged atoms separated by a distance $2a$. For singly charged ions, ions with the charge $\\pm e$, the dipole moment would be $2a e$. We often measure molecular dipole moments in units of $e\\text{\\AA}$, where $e$ is the charge of an electron, $e = 1.602 \\times 10^{-19} \\text{C}$ and one Angstrom is $10^{-10} \\text{m}$. Let us now assume that we know the interatom separation, which can be establish by independent methods such as light scattering. This means that we know $2a$. In this case, if the dipole moment is different from $2a e$ it means that only a part of the charge is displaced or that the charges are not fully displaced the interatomic distance. It depends on the degree the bond is not completely ionic. It is common to characterize the bond by how large a portion it is ionic, that is, by the ratio $p/(2d e)$, where $p$ is the measured dipole moment of the molecule. Most bonds are partly ionic and partly covalent.\n",
    "\n",
    "For example, the lithium fluiride (LiF) diatom has an interatomic separation of $2d = 1.52 \\text{Å}$ and a dipole moment $p = 1.39 e \\text{Å}$, while hydrogen iodide (HI) has an interatomic separation $2d = 1.62 \\text{Å}$ and a dipole moment $p = 0.080 e \\text{Å}$.\n",
    "\n",
    "\n",
    "**a)**\n",
    "What is the degree of ionic bonding in these two molecules?\n",
    "\n",
    "**b)**\n",
    "A water molecule has an angle $\\theta \\simeq 105^{\\circ}$ between the two hydrogen atoms. The O-H distance is $2s = 0.97 \\text{Å}$. The observed dipole moment of H$_2$O is $p = 0.387 e \\text{Å}$. What fraction of the O-H bond is ionic?\n",
    "\n",
    "\n",
    "\n",
    "\n",
    "<!-- Compressed chain of charges -->\n",
    "\n",
    "<!-- --- end exercise --- -->\n",
    "\n",
    "\n",
    "# References"
   ]
  }
 ],
 "metadata": {
  "kernelspec": {
   "display_name": "Python 3",
   "language": "python",
   "name": "python3"
  },
  "language_info": {
   "codemirror_mode": {
    "name": "ipython",
    "version": 3
   },
   "file_extension": ".py",
   "mimetype": "text/x-python",
   "name": "python",
   "nbconvert_exporter": "python",
   "pygments_lexer": "ipython3",
   "version": "3.7.6"
  }
 },
 "nbformat": 4,
 "nbformat_minor": 2
}
