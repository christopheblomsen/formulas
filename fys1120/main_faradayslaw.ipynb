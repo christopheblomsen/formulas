{
 "cells": [
  {
   "cell_type": "markdown",
   "metadata": {},
   "source": [
    "<!-- dom:TITLE: Faraday's law -->\n",
    "# Faraday's law\n",
    "<!-- dom:AUTHOR: Anders Malthe-Sørenssen at Department of Physics, University of Oslo -->\n",
    "<!-- Author: -->  \n",
    "**Anders Malthe-Sørenssen**, Department of Physics, University of Oslo\n",
    "\n",
    "Date: **Nov 27, 2020**\n",
    "\n",
    "<!-- Externaldocuments: ../nickname1/main_nickname1, ../nickname2/main_nickname2 -->\n",
    "\n",
    "<!-- Common Mako variables and functions -->\n",
    "\n",
    "\n",
    "\n",
    "\n",
    "\n",
    "\n",
    "\n",
    "\n",
    "\n",
    "So far we have only studied systems without any time variation, in electro-*statics* and magneto-*statics*. Now, we will start studying dynamic systems, in electro-*dynamics*. So far we have learned that charges generate electric fields (Gauss' law) and that currents generate magnetic fields (Ampere's law). We will now see that we can generate electric and magentic fields in a different way: A magnetic field that charnges (in time) generates an electric field and an electric field that changes (in time) generates a magnetic field. This ensures a nice symmetry, which is essential for the laws of electromagnetics to be the same across inertial systems. We will show that an emf, an electromotoric force, is generated in a circuit moving through a magnetic field. But, in the reference frame of the circuit, this may look like a time-varying magnetic field through the circuit. Faraday's law has this duality built-in: it is the rate of change of the flux through the circuit that induces an electromotoric force, independently of whether the change is due to a moving circuit or a time-varying magnetic field. However, in order to introduce Faraday's law, we need a new concept, the electromotoric force, which means that we need to start from revisting the electric field in circuits.\n",
    "\n",
    "# Emf: Electromotoric force\n",
    "\n",
    "What is driving the current flowing in a circuit? Fig. [fig:faradayslaw-emf-010](#fig:faradayslaw-emf-010) illustrates a circuit with a parallel-plate capacitor $C$, a wire with a finite conductivity and a resistor $R$. If the capacitor is charged up so that there are positive charges on the top side of the capacitor, there will be an electric field along the wire. As we discussed before, after a brief initial reorganization of charges on the surface of the wire, the electric field in the wire will point along the wire. In the resistor, the electric field is pointing from the high to the low potential as illustrated. The current is driven by the potential difference of the capacitor, but will eventually decay as charge is transported from the positive to the negative side of the capacitor.\n",
    "\n",
    "<!-- dom:FIGURE:[fig-faradayslaw/faradayslaw-emf-010.png, width=600 frac=0.9] Illustration of a circuit driven by a charged capacitor (left) and driven by a battery (right). <div id=\"fig:faradayslaw-emf-010\"></div> -->\n",
    "<!-- begin figure -->\n",
    "<div id=\"fig:faradayslaw-emf-010\"></div>\n",
    "\n",
    "<p>Illustration of a circuit driven by a charged capacitor (left) and driven by a battery (right).</p>\n",
    "<img src=\"fig-faradayslaw/faradayslaw-emf-010.png\" width=600>\n",
    "\n",
    "<!-- end figure -->\n",
    "\n",
    "\n",
    "Instead of a capacitor, we could insert a mechanical battery. We could insert a device that would move a positive charge from the lower side to the upper side of the capacitor. This would require an external force. Inside the capacitor, there is an electric field $\\mathbf{E}$. In order to move a charge from the lower side to the upper side of the capacitor, we would need a force per unit charge, $\\mathbf{f}$, which is at least $\\mathbf{f} = - \\mathbf{E}$. This force would a property of the internal mechanics of the battery, or more generally, of any another mechanism that has the same effect as the battery of providing an external force per unit charge.\n",
    "\n",
    "  In this case, there are two forces driving charges around the circuit: one force from the electric field $\\mathbf{E}$ and a force due to external forces per unit charge $\\mathbf{f}$. These external forces may be due to various mechanicsms and there may be several such forces acting around the circuit, for example, a chemical force in a battery, a temperature gradient in a thermocouple, or light in a photoelectric cell. The *net effect* of these forces is the line integral of the force around the circuit:"
   ]
  },
  {
   "cell_type": "markdown",
   "metadata": {},
   "source": [
    "<!-- Equation labels as ordinary links -->\n",
    "<div id=\"_auto1\"></div>\n",
    "\n",
    "$$\n",
    "\\begin{equation}\n",
    "e = \\oint_C \\left( \\mathbf{f} + \\mathbf{E}\\right) \\cdot \\mathrm{d} \\mathbf{l} \\; .\n",
    "\\label{_auto1} \\tag{1}\n",
    "\\end{equation}\n",
    "$$"
   ]
  },
  {
   "cell_type": "markdown",
   "metadata": {},
   "source": [
    "We call $e$ the *electromotive force* or *emf* of the circuit. It is unfortunate that a potential difference is called a force, but this term is so ingrained in electromagnetics that we will use it, even if it is a bit of a misnomer.\n",
    "\n",
    "Notice that since $\\oint_c \\mathbf{E} \\cdot \\mathrm{d} \\mathbf{l} = 0$ for any circuit, we could instead have written $e = \\oint_C \\mathbf{f} \\cdot \\mathrm{d} \\mathbf{l}$.\n",
    "\n",
    "In the case of an *ideal battery*, as illustrated in Fig. [fig:faradayslaw-emf-010](#fig:faradayslaw-emf-010), the net force on the charge in the battery is zero, so that $\\mathbf{f} = - \\mathbf{E}$. The potential difference between the upper and lower terminals of the battery (the upper, $u$, and lower, $l$, plates in the figure) is then"
   ]
  },
  {
   "cell_type": "markdown",
   "metadata": {},
   "source": [
    "<!-- Equation labels as ordinary links -->\n",
    "<div id=\"_auto2\"></div>\n",
    "\n",
    "$$\n",
    "\\begin{equation}\n",
    "V = -\\int_{l}^{u} \\mathbf{E} \\cdot \\mathrm{d} \\mathbf{l} = -\\int_{l}^{u} -\\mathbf{f} \\cdot \\mathrm{d} \\mathbf{l} = \\int_{l}^{u} \\mathbf{f} \\cdot \\mathrm{d} \\mathbf{l} = \\oint_C \\mathbf{f} \\cdot \\mathrm{d} \\mathbf{l} = e \\; ,\n",
    "\\label{_auto2} \\tag{2}\n",
    "\\end{equation}\n",
    "$$"
   ]
  },
  {
   "cell_type": "markdown",
   "metadata": {},
   "source": [
    "where we have extended the integral to the entire loop because $\\mathbf{f}$ is zero outside of the battery in the figure. We can therefore interpret the battery as a voltage source that keeps the potential difference at a given voltage corresponding to the emf of the battery, and we can interpret the emf as the work done per unit charge by the source around the circuit. We include the electric field $\\mathbf{E}$ in our definition of the emf to include sources that are due to $\\oint \\mathbf{E}\\cdot \\mathrm{d} \\mathbf{l}$ not being zero, which we will see is the case for Faraday's law.\n",
    "\n",
    "**Electromotoric force.**\n",
    "\n",
    "The electromotoric force, emf, is defined as"
   ]
  },
  {
   "cell_type": "markdown",
   "metadata": {},
   "source": [
    "<!-- Equation labels as ordinary links -->\n",
    "<div id=\"_auto3\"></div>\n",
    "\n",
    "$$\n",
    "\\begin{equation}\n",
    "e = \\oint_C \\left( \\mathbf{f} + \\mathbf{E} \\right) \\cdot \\mathrm{d} \\mathbf{l}\n",
    "\\label{_auto3} \\tag{3}\n",
    "\\end{equation}\n",
    "$$"
   ]
  },
  {
   "cell_type": "markdown",
   "metadata": {},
   "source": [
    "where $\\mathbf{f}$ is the external force per unit charge acting on charges along some part of the circuit. There may be several external forces acting along the circuit, and we interpret $\\mathbf{f}$ as the superposition of these forces.\n",
    "\n",
    "\n",
    "\n",
    "## Example: Emf sources\n",
    "\n",
    "What determines the voltage difference $V$ of a battery? It is determined by an internal property of the battery, which is the force $\\mathbf{f}$ per unit charge that the battery provides. Thus, it is usually the battery (or the voltage sources) that determines the voltage difference in a circuit.\n",
    "\n",
    "### Mechanical battery\n",
    "\n",
    "In Fig. [fig:faradayslaw-emf-020](#fig:faradayslaw-emf-020) we illustrate a *mechanical battery* illustrated as a conveyor belt that pushes a charge with a force $\\mathbf{f}_{NC}$, where we have used the subindex $_{NC}$ to indicate that the force is Non-Coulombic, that is, an external force. Let us see what happens if we start this system from a neutral state, and then suddenly turn on a force that moves electrons to the right. The force on the first electron will only be from the external force. After a while, electrons will have moved to the left to the right, so that the right side will be negatively charged and the left side positively charged. Thus, there will be an additional force acting on the charges from the electric field. Eventually, the system will reach an equilibrium, so that the external force is equal to the electric field, that is, $\\mathbf{E} = - \\mathbf{f}_{NC}$. In this case, the potential difference will be $V = F_{NC} s /e = f_{NC}s $, where $s$ is the distance between the plates. The potential difference and the emf of the battery therefore depends on the force per unit charge provided by the external mechanisms and by the geometry of the battery, here represented by the distance $s$ between the plates.\n",
    "\n",
    "<!-- dom:FIGURE:[fig-faradayslaw/faradayslaw-emf-020.png, width=600 frac=1.0] Illustration of a mechanical battery.  <div id=\"fig:faradayslaw-emf-020\"></div> -->\n",
    "<!-- begin figure -->\n",
    "<div id=\"fig:faradayslaw-emf-020\"></div>\n",
    "\n",
    "<p>Illustration of a mechanical battery.</p>\n",
    "<img src=\"fig-faradayslaw/faradayslaw-emf-020.png\" width=600>\n",
    "\n",
    "<!-- end figure -->\n",
    "\n",
    "\n",
    "### Chemical battery\n",
    "\n",
    "Fig. [fig:faradayslaw-emf-030](#fig:faradayslaw-emf-030) illustrates a Daniel cell, which is a chemical battery named after the English physicist and chemist John Frederick Daniell (1790-1845). The battery consists of two electrodes, one with Zinc ($\\text{Zn}$) and one with Copper ($\\text{Cu}$) in a solution of $\\text{SO}_4^{2-}$ in water. In the solution, there are dissolved ions of $\\text{Zn}^{2+}$, $\\text{Cu}^{2+}$, and $\\text{SO}_4^{2-}$. There is a membrane separating the two sides of the solution, as illustrated in the figure, and only  $\\text{SO}_4^{2-}$ can pass through the membrane.\n",
    "\n",
    "<!-- dom:FIGURE:[fig-faradayslaw/faradayslaw-emf-030.png, width=600 frac=0.85] Illustration of a chemical Daniell-cell battery. <div id=\"fig:faradayslaw-emf-030\"></div> -->\n",
    "<!-- begin figure -->\n",
    "<div id=\"fig:faradayslaw-emf-030\"></div>\n",
    "\n",
    "<p>Illustration of a chemical Daniell-cell battery.</p>\n",
    "<img src=\"fig-faradayslaw/faradayslaw-emf-030.png\" width=600>\n",
    "\n",
    "<!-- end figure -->\n",
    "\n",
    "\n",
    "What happens in this system? When Zinc dissolves from the Zinc electrode, two electrons are released"
   ]
  },
  {
   "cell_type": "markdown",
   "metadata": {},
   "source": [
    "<!-- Equation labels as ordinary links -->\n",
    "<div id=\"_auto4\"></div>\n",
    "\n",
    "$$\n",
    "\\begin{equation}\n",
    "\\text{Zn} \\rightarrow \\text{Zn}^{2+} + 2 \\text{e}^- \\; .\n",
    "\\label{_auto4} \\tag{4}\n",
    "\\end{equation}\n",
    "$$"
   ]
  },
  {
   "cell_type": "markdown",
   "metadata": {},
   "source": [
    "The electrode reduction potential for this reaction is $-0.76 \\text{V}$. The charge of the two electrons travel to the $\\text{Cu}$-electrode, where Copper ions are absorbed from the solution onto the electrode:"
   ]
  },
  {
   "cell_type": "markdown",
   "metadata": {},
   "source": [
    "<!-- Equation labels as ordinary links -->\n",
    "<div id=\"_auto5\"></div>\n",
    "\n",
    "$$\n",
    "\\begin{equation}\n",
    "\\text{Cu}^{2+} + 2 \\text{e}^- \\rightarrow \\text{Cu} \\; .\n",
    "\\label{_auto5} \\tag{5}\n",
    "\\end{equation}\n",
    "$$"
   ]
  },
  {
   "cell_type": "markdown",
   "metadata": {},
   "source": [
    "The electrode reduction potential of this reaction is $+0.34\\text{V}$. At the same time  $\\text{SO}_4^{2-}$ diffuses through the membrane from the Copper to the Zinc side. The total voltage difference between the two electrodes due to this reaction is $1.1 \\text{V}$ per such cell. You will learn more about the physics underlying such processes when you learn about thermal and statistical physics.\n",
    "\n",
    "# Faraday's law\n",
    "\n",
    "Now, we will address other sources of an emf in a circuit and one such source is either that circuit moves or changes shape or that the magnetic field through a circuit changes. We will demonstrate that these two forms of change are equivalently included in Faraday's law.\n",
    "\n",
    "Fig. [fig:faradayslaw-faraday-010](#fig:faradayslaw-faraday-010) illustrates a circuit moving through space with a velocity $\\mathbf{v}$. We will assume that the magnetic field is stationary and constant, and that we therefore may use the theory we already have developed in electrostatics and magnetostatics. There are two possible situations: Either the circuit is stationary and the magnetic field is moved with a velocity $\\mathbf{v}$ or the magnetic field is stationary and the circuit is moved with a velocity $-\\mathbf{v}$  (as illustrated on the left). The resulting behavior in the circuit must be identical in the two cases. Let us see how we can determine the behavior of the circuit from the theory we have developed.\n",
    "\n",
    "<!-- dom:FIGURE:[fig-faradayslaw/faradayslaw-faraday-010.png, width=600 frac=0.9] (a) Illustration of a circuit moving with a velocity $\\mathbf{v}$. (b,c) Illustrations of a circuit moving with a velocity $\\mathbf{v}$ in a stationary magnetic field or a magnetic field moving with a velocity $-\\mathbf{v}$ through a stationary circuit. <div id=\"fig:faradayslaw-faraday-010\"></div> -->\n",
    "<!-- begin figure -->\n",
    "<div id=\"fig:faradayslaw-faraday-010\"></div>\n",
    "\n",
    "<p>(a) Illustration of a circuit moving with a velocity $\\mathbf{v}$. (b,c) Illustrations of a circuit moving with a velocity $\\mathbf{v}$ in a stationary magnetic field or a magnetic field moving with a velocity $-\\mathbf{v}$ through a stationary circuit.</p>\n",
    "<img src=\"fig-faradayslaw/faradayslaw-faraday-010.png\" width=600>\n",
    "\n",
    "<!-- end figure -->\n",
    "\n",
    "\n",
    "Fig. [fig:faradayslaw-faraday-020](#fig:faradayslaw-faraday-020) illustrates the circuit and a smaller part of the circuit, all moving with the same velocity $\\mathbf{v}$ through a stationary magnetic field $\\mathbf{B}$. What happens to a point charge $Q$ on an element $\\mathrm{d} \\mathbf{l}$ of the circuit? This charge is moving with the velocity $\\mathbf{v}$ in the magnetic field $\\mathbf{B}$ and experiences a force $\\mathbf{F} = Q\\mathbf{v} \\times \\mathbf{B}$. This is an external force on a charge in the circuit, and the force per unit charge due to this interaction is then"
   ]
  },
  {
   "cell_type": "markdown",
   "metadata": {},
   "source": [
    "<!-- Equation labels as ordinary links -->\n",
    "<div id=\"_auto6\"></div>\n",
    "\n",
    "$$\n",
    "\\begin{equation}\n",
    "\\mathbf{f} = \\frac{Q\\mathbf{v}\\times \\mathbf{B}}{Q} = \\mathbf{v} \\times \\mathbf{B} \\; .\n",
    "\\label{_auto6} \\tag{6}\n",
    "\\end{equation}\n",
    "$$"
   ]
  },
  {
   "cell_type": "markdown",
   "metadata": {},
   "source": [
    "What is the emf in the circuit due to this external interaction?"
   ]
  },
  {
   "cell_type": "markdown",
   "metadata": {},
   "source": [
    "<!-- Equation labels as ordinary links -->\n",
    "<div id=\"_auto7\"></div>\n",
    "\n",
    "$$\n",
    "\\begin{equation}\n",
    "e = \\oint_C \\mathbf{f} \\cdot \\mathrm{d} \\mathbf{l} = \\oint_C \\left( \\mathbf{v} \\times \\mathbf{B} \\right) \\cdot \\mathrm{d} \\mathbf{l} \\; .\n",
    "\\label{_auto7} \\tag{7}\n",
    "\\end{equation}\n",
    "$$"
   ]
  },
  {
   "cell_type": "markdown",
   "metadata": {},
   "source": [
    "As illustrated in Fig. [fig:faradayslaw-faraday-020](#fig:faradayslaw-faraday-020), the velocity $\\mathbf{v}$ corresponds to a displacement $\\mathrm{d} \\mathbf{r}$ of the circuit in the time $\\mathrm{d} t$:"
   ]
  },
  {
   "cell_type": "markdown",
   "metadata": {},
   "source": [
    "<!-- Equation labels as ordinary links -->\n",
    "<div id=\"_auto8\"></div>\n",
    "\n",
    "$$\n",
    "\\begin{equation}\n",
    "e = \\oint_C \\left( \\mathbf{v} \\times \\mathbf{B} \\right) \\cdot \\mathrm{d} \\mathbf{l} = \\oint_C \\left( \\frac{\\mathrm{d} \\mathbf{r}}{\\mathrm{d} t} \\times \\mathbf{B} \\right) \\cdot \\mathrm{d} \\mathbf{l} = \\frac{1}{\\mathrm{d} t} \\oint_C \\left( \\mathrm{d} \\mathbf{r}\\times \\mathbf{B} \\right) \\cdot \\mathrm{d} \\mathbf{l} \\; .\n",
    "\\label{_auto8} \\tag{8}\n",
    "\\end{equation}\n",
    "$$"
   ]
  },
  {
   "cell_type": "markdown",
   "metadata": {},
   "source": [
    "Now, we will introduce a trick, and rewrite $\\left( \\mathrm{d} \\mathbf{r}\\times \\mathbf{B} \\right) \\cdot \\mathrm{d} \\mathbf{l}$ using the vector forula $\\left( \\mathbf{a} \\times \\mathbf{b}\\right) \\cdot \\mathbf{v} = \\mathbf{b} \\cdot \\left( \\mathbf{c} \\times \\mathbf{a} \\right)$, which gives us:"
   ]
  },
  {
   "cell_type": "markdown",
   "metadata": {},
   "source": [
    "<!-- Equation labels as ordinary links -->\n",
    "<div id=\"_auto9\"></div>\n",
    "\n",
    "$$\n",
    "\\begin{equation}\n",
    "e = \\frac{1}{\\mathrm{d} t} \\oint_C \\mathbf{B} \\cdot \\left( \\mathrm{d} \\mathbf{l}\\times \\mathrm{d} \\mathbf{r} \\right) = -\n",
    "\\frac{1}{\\mathrm{d} t} \\oint_C \\mathbf{B} \\cdot \\left( \\mathrm{d} \\mathbf{r}\\times \\mathrm{d} \\mathbf{l} \\right) \\; .\n",
    "\\label{_auto9} \\tag{9}\n",
    "\\end{equation}\n",
    "$$"
   ]
  },
  {
   "cell_type": "markdown",
   "metadata": {},
   "source": [
    "From Fig. [fig:faradayslaw-faraday-020](#fig:faradayslaw-faraday-020) we see that $\\mathrm{d} \\mathbf{r} \\times \\mathrm{d} \\mathbf{l}$ is a surface element $\\mathrm{d} \\mathbf{S}$, which is the change in the surface $S$ enclosed by the path $C$ due to the motion of the element $\\mathrm{d} \\mathbf{l}$. The integral of this along all the elements $\\mathrm{d} \\mathbf{l}$ making up the path $C$ gives the change in the integral of $\\mathbf{B} \\cdot \\mathrm{d} \\mathbf{S}$ for the surface, that is, the change in the flux of the magnetic field:"
   ]
  },
  {
   "cell_type": "markdown",
   "metadata": {},
   "source": [
    "<!-- Equation labels as ordinary links -->\n",
    "<div id=\"_auto10\"></div>\n",
    "\n",
    "$$\n",
    "\\begin{equation}\n",
    "e = - \\frac{1}{\\mathrm{d} t} \\oint_C \\mathbf{B} \\cdot \\left( \\mathrm{d} \\mathbf{r}\\times \\mathrm{d} \\mathbf{l} \\right) =\n",
    "- \\frac{1}{\\mathrm{d} t} \\mathrm{d} \\int_S \\mathbf{B} \\cdot \\mathrm{d} \\mathbf{S} = - \\frac{\\mathrm{d}}{\\mathrm{d} t} \\int_S \\mathbf{B} \\cdot \\mathrm{d} \\mathbf{S} = - \\frac{\\mathrm{d}}{\\mathrm{d} t} \\Phi_S \\; .\n",
    "\\label{_auto10} \\tag{10}\n",
    "\\end{equation}\n",
    "$$"
   ]
  },
  {
   "cell_type": "markdown",
   "metadata": {},
   "source": [
    "In this case we proved Faraday's law for what we call motional emf, that is, when the circuit is moving through a stationary field. However, experiments (and theoretical arguments) demonstrate that the law also is true if the change in flux is due to a time varying magnetic field. It does not matter what the origin of the change in flux through a circuit in, a change in flux will induce an emf in the circuit. This law is called *Faraday's law*.\n",
    "\n",
    "<!-- dom:FIGURE:[fig-faradayslaw/faradayslaw-faraday-020.png, width=600 frac=0.95] Illustration of a circuit moving through a magnetic field. The element $\\mathrm{d} \\mathbf{r} \\times \\mathrm{d} \\mathbf{l} = \\mathrm{d} \\mathbf{S}$ corresponds to a change in the surface enclosed by the curve $C$. <div id=\"fig:faradayslaw-faraday-020\"></div> -->\n",
    "<!-- begin figure -->\n",
    "<div id=\"fig:faradayslaw-faraday-020\"></div>\n",
    "\n",
    "<p>Illustration of a circuit moving through a magnetic field. The element $\\mathrm{d} \\mathbf{r} \\times \\mathrm{d} \\mathbf{l} = \\mathrm{d} \\mathbf{S}$ corresponds to a change in the surface enclosed by the curve $C$.</p>\n",
    "<img src=\"fig-faradayslaw/faradayslaw-faraday-020.png\" width=600>\n",
    "\n",
    "<!-- end figure -->\n",
    "\n",
    "\n",
    "**Faraday's law.**\n",
    "\n",
    "**Faraday's law** states that an emf is induced in a circuit $C$ is the magnetic flux changes:"
   ]
  },
  {
   "cell_type": "markdown",
   "metadata": {},
   "source": [
    "<!-- Equation labels as ordinary links -->\n",
    "<div id=\"_auto11\"></div>\n",
    "\n",
    "$$\n",
    "\\begin{equation}\n",
    "e = \\oint_C \\left( \\mathbf{f} + \\mathbf{E} \\right) \\cdot \\mathrm{d} \\mathbf{l} = - \\frac{\\mathrm{d}}{\\mathrm{d} t} \\int_S \\mathbf{B} \\cdot \\mathrm{d} \\mathbf{S} = - \\frac{\\mathrm{d}}{\\mathrm{d} t} \\Phi \\; .\n",
    "\\label{_auto11} \\tag{11}\n",
    "\\end{equation}\n",
    "$$"
   ]
  },
  {
   "cell_type": "markdown",
   "metadata": {},
   "source": [
    "Faraday's law is valid independently of the source of change in the flux, and is true when the circuit is moving through a stationary magnetic field and when the magnetic field is varying in time through a stationary circuit.\n",
    "\n",
    "We call the emf generated by this principle an *induced emf*.\n",
    "\n",
    "\n",
    "\n",
    "The underlying symmetry in Faraday's law ensures that the emf induced in a circuit is the same if you take the circuit with you in a car and drive through a magnetic field which is localized in space or if you keep the circuit stationary and move the magnetic field. Inside the car, the circuit will be stationary and the magnetic field will be changing in time. The behavior in these two situations must be the same if the physics is to be the same in all inertial systems. (We will address these questions in more detail in the exercises).\n",
    "\n",
    "**Student activity.**\n",
    "\n",
    "\n",
    "Clicker questions to build intuition about $\\Phi$ and $\\mathrm{d}\\Phi / \\mathrm{d} t$.\n",
    "\n",
    "\n",
    "\n",
    "**Student activity.**\n",
    "\n",
    "\n",
    "\n",
    "The magnetic field in the figure is uniform $\\mathbf{B} = B_z \\mathbf{\\hat{z}}$ for $y>0$ and $\\mathbf{B} = 0$ for $y<0$. What is the flux of the magnetic field through the $2a \\times 2a$ circuit in the $xy$-plane illustrated in the figure.\n",
    "\n",
    "<!-- dom:FIGURE:[fig-faradayslaw/faradayslaw-activity-005.png, width=600 frac=0.45] -->\n",
    "<!-- begin figure -->\n",
    "\n",
    "<p></p>\n",
    "<img src=\"fig-faradayslaw/faradayslaw-activity-005.png\" width=600>\n",
    "\n",
    "<!-- end figure -->\n",
    "\n",
    "\n",
    "* What is the magnitude of the flux?\n",
    "\n",
    "* What is the sign of the flux?\n",
    "\n",
    "\n",
    "\n",
    "## Emf in a circuit\n",
    "\n",
    "How do we include the magnetically induced emf in a circuit and how does it affect how we use Kirchoff's voltage law? Fig. [fig:faradayslaw-emfincircuit-010](#fig:faradayslaw-emfincircuit-010) illustrates a circuit with a battery $V_b$, which represents one or more voltage sources, and a resistor $R$. There is a magntic field $\\mathbf{B}$ going through the circuit with a resulting flux $\\Phi$, which varies in time, so that an emf $e = - \\mathrm{d} \\Phi / \\mathrm{d} t$ is induced in the circuit. How do we include this emf in the sum of emfs and voltage drops around the circuit?\n",
    "\n",
    "<!-- dom:FIGURE:[fig-faradayslaw/faradayslaw-emfincircuit-010.png, width=600 frac=0.65] Illustration of a circuit with a voltage source $V_b$, a resistor $R$ and a magnetic field $\\mathbf{B}$ is a flux $\\Phi$ through the circuit. <div id=\"fig:faradayslaw-emfincircuit-010\"></div> -->\n",
    "<!-- begin figure -->\n",
    "<div id=\"fig:faradayslaw-emfincircuit-010\"></div>\n",
    "\n",
    "<p>Illustration of a circuit with a voltage source $V_b$, a resistor $R$ and a magnetic field $\\mathbf{B}$ is a flux $\\Phi$ through the circuit.</p>\n",
    "<img src=\"fig-faradayslaw/faradayslaw-emfincircuit-010.png\" width=600>\n",
    "\n",
    "<!-- end figure -->\n",
    "\n",
    "\n",
    "The sum of the emfs in the circuit is:"
   ]
  },
  {
   "cell_type": "markdown",
   "metadata": {},
   "source": [
    "<!-- Equation labels as ordinary links -->\n",
    "<div id=\"_auto12\"></div>\n",
    "\n",
    "$$\n",
    "\\begin{equation}\n",
    "\\sum e = \\oint_C \\left( \\mathbf{f}_b +  \\mathbf{f}_m  + \\mathbf{E} \\right) \\cdot \\mathrm{d} \\mathbf{l} \\; .\n",
    "\\label{_auto12} \\tag{12}\n",
    "\\end{equation}\n",
    "$$"
   ]
  },
  {
   "cell_type": "markdown",
   "metadata": {},
   "source": [
    "Here, $\\mathbf{f}_b$ is the force per unit charge inside the voltage sources in the circuit, such as inside a battery. We did not include this effect in our calculations above, only the magnetic interaction $\\mathbf{f}_m$, for which we found that"
   ]
  },
  {
   "cell_type": "markdown",
   "metadata": {},
   "source": [
    "<!-- Equation labels as ordinary links -->\n",
    "<div id=\"_auto13\"></div>\n",
    "\n",
    "$$\n",
    "\\begin{equation}\n",
    "\\oint_C \\left( \\mathbf{f}_m + \\mathbf{E} \\right) \\cdot \\mathrm{d} \\mathbf{l} = - \\frac{\\mathrm{d} \\Phi}{\\mathrm{d} t}\n",
    "\\label{_auto13} \\tag{13}\n",
    "\\end{equation}\n",
    "$$"
   ]
  },
  {
   "cell_type": "markdown",
   "metadata": {},
   "source": [
    "The emf of the other voltage sources is:"
   ]
  },
  {
   "cell_type": "markdown",
   "metadata": {},
   "source": [
    "<!-- Equation labels as ordinary links -->\n",
    "<div id=\"_auto14\"></div>\n",
    "\n",
    "$$\n",
    "\\begin{equation}\n",
    "\\oint_C \\mathbf{f}_b \\cdot \\mathrm{d} \\mathbf{l} = V_b \\; ,\n",
    "\\label{_auto14} \\tag{14}\n",
    "\\end{equation}\n",
    "$$"
   ]
  },
  {
   "cell_type": "markdown",
   "metadata": {},
   "source": [
    "so that the total emf is:"
   ]
  },
  {
   "cell_type": "markdown",
   "metadata": {},
   "source": [
    "<!-- Equation labels as ordinary links -->\n",
    "<div id=\"_auto15\"></div>\n",
    "\n",
    "$$\n",
    "\\begin{equation}\n",
    "\\sum e = \\oint_C \\left( \\mathbf{f}_b +  \\mathbf{f}_m  + \\mathbf{E} \\right) \\cdot \\mathrm{d} \\mathbf{l} = V_b + \\left( - \\frac{\\mathrm{d} \\Phi}{\\mathrm{d} t} \\right) \\; .\n",
    "\\label{_auto15} \\tag{15}\n",
    "\\end{equation}\n",
    "$$"
   ]
  },
  {
   "cell_type": "markdown",
   "metadata": {},
   "source": [
    "Everywhere except inside the resistor, we have that $\\mathbf{f}_b + \\mathbf{f}_m = - \\mathbf{E}$, so that it is only across the resistor that the integral on the right hand side is non-zero. Therefore:"
   ]
  },
  {
   "cell_type": "markdown",
   "metadata": {},
   "source": [
    "<!-- Equation labels as ordinary links -->\n",
    "<div id=\"_auto16\"></div>\n",
    "\n",
    "$$\n",
    "\\begin{equation}\n",
    "\\sum e = \\int_a^b  \\left( \\mathbf{f}_b +  \\mathbf{f}_m  + \\mathbf{E} \\right) \\cdot \\mathrm{d} \\mathbf{l} \\; ,\n",
    "\\label{_auto16} \\tag{16}\n",
    "\\end{equation}\n",
    "$$"
   ]
  },
  {
   "cell_type": "markdown",
   "metadata": {},
   "source": [
    "across the resistor (from $a$ to $b$). Now, we will assume that $\\mathbf{f}_m$ is small inside the resistor. This is an approximation, just like any circuit is an approximation of the real system, and it is reasonable as long as the resistor is small compared with the whole circuit. If we also assume that there are no other sources inside the resistor, so that $\\mathbf{f}_b$ is zero inside the resistor, we get that"
   ]
  },
  {
   "cell_type": "markdown",
   "metadata": {},
   "source": [
    "<!-- Equation labels as ordinary links -->\n",
    "<div id=\"eq:faradayslaw-circuit-010\"></div>\n",
    "\n",
    "$$\n",
    "\\begin{equation}\n",
    "\\sum e = \\int_a^b  \\mathbf{E} \\cdot \\mathrm{d} \\mathbf{l} \\; ,\n",
    "\\label{eq:faradayslaw-circuit-010} \\tag{17}\n",
    "\\end{equation}\n",
    "$$"
   ]
  },
  {
   "cell_type": "markdown",
   "metadata": {},
   "source": [
    "across the resistor. This argument will be the same if we replace the resistor with any other component $i$ with a voltage drop $\\Delta V_i$. If we have a circuit with several components, we can therefore sum the voltage drops of all the components in the integral on the right of ([17](#eq:faradayslaw-circuit-010)):"
   ]
  },
  {
   "cell_type": "markdown",
   "metadata": {},
   "source": [
    "<!-- Equation labels as ordinary links -->\n",
    "<div id=\"_auto17\"></div>\n",
    "\n",
    "$$\n",
    "\\begin{equation}\n",
    "\\sum e = \\sum_i \\Delta i \\; ,\n",
    "\\label{_auto17} \\tag{18}\n",
    "\\end{equation}\n",
    "$$"
   ]
  },
  {
   "cell_type": "markdown",
   "metadata": {},
   "source": [
    "which we can rewrite as:"
   ]
  },
  {
   "cell_type": "markdown",
   "metadata": {},
   "source": [
    "<!-- Equation labels as ordinary links -->\n",
    "<div id=\"_auto18\"></div>\n",
    "\n",
    "$$\n",
    "\\begin{equation}\n",
    "\\sum_i \\Delta i - \\sum e = 0 \\; .\n",
    "\\label{_auto18} \\tag{19}\n",
    "\\end{equation}\n",
    "$$"
   ]
  },
  {
   "cell_type": "markdown",
   "metadata": {},
   "source": [
    "If we introduce voltage drops for all the voltage sources and a voltage drop $-\\mathrm{d} \\Phi / \\mathrm{d} t$ for the emf due to the change in flux through the circuit we get Kirchoff's voltage law:"
   ]
  },
  {
   "cell_type": "markdown",
   "metadata": {},
   "source": [
    "<!-- Equation labels as ordinary links -->\n",
    "<div id=\"_auto19\"></div>\n",
    "\n",
    "$$\n",
    "\\begin{equation}\n",
    "\\sum_i \\Delta V_i = 0 \\; ,\n",
    "\\label{_auto19} \\tag{20}\n",
    "\\end{equation}\n",
    "$$"
   ]
  },
  {
   "cell_type": "markdown",
   "metadata": {},
   "source": [
    "where $\\Delta V_1 = - \\mathrm{d} \\Phi/ \\mathrm{d} t$ is due to the change in flux, and e.g. $\\Delta V_2 = V_b$ is due to the battery. Kirchoff's voltage law for the circuit in Fig. [fig:faradayslaw-emfincircuit-010](#fig:faradayslaw-emfincircuit-010) then becomes:"
   ]
  },
  {
   "cell_type": "markdown",
   "metadata": {},
   "source": [
    "<!-- Equation labels as ordinary links -->\n",
    "<div id=\"_auto20\"></div>\n",
    "\n",
    "$$\n",
    "\\begin{equation}\n",
    "\\sum_i \\Delta V_i = \\left(- \\frac{\\mathrm{d} \\Phi}{\\mathrm{d} t} \\right) + V_b - RI = 0 \\; .\n",
    "\\label{_auto20} \\tag{21}\n",
    "\\end{equation}\n",
    "$$"
   ]
  },
  {
   "cell_type": "markdown",
   "metadata": {},
   "source": [
    "Notice that we have done some approximations when we have converted a real electromagnetic system into a circuit representation. For example, we have here assumed that we can ignore the effect of the magnetic field inside the resistor, so that we can calculate the properties of the resistor independenly of the magnetic field. This is often an acceptable approximation, but it is useful to remember that this is indeed an *approximation* or a *model* of the real electromagnetic system.\n",
    "\n",
    "## Direction of the induced emf\n",
    "\n",
    "What is the direction of the induced emf and the resulting induced current? Fig. [fig:faradayslaw-direction-010](#fig:faradayslaw-direction-010) illustrates a circuit and a uniform magnetic field pointing into the plane. When we want to calculate the flux of $\\mathbf{B}$ through a surface enclosed by circuit $C$, we need to determine an orientation of the surface. The flux integral is:"
   ]
  },
  {
   "cell_type": "markdown",
   "metadata": {},
   "source": [
    "<!-- Equation labels as ordinary links -->\n",
    "<div id=\"_auto21\"></div>\n",
    "\n",
    "$$\n",
    "\\begin{equation}\n",
    "\\Phi  = \\int_S \\mathbf{B} \\cdot \\mathrm{d} \\mathbf{S}\\; ,\n",
    "\\label{_auto21} \\tag{22}\n",
    "\\end{equation}\n",
    "$$"
   ]
  },
  {
   "cell_type": "markdown",
   "metadata": {},
   "source": [
    "where the direction of the surface is given by the direction of $\\mathrm{d} \\mathbf{S}$, which is given by a normal vector to the surface. For simplicity, let us assume that the circuit is in a plane and we choose a surface in the same plane --- the plane of the paper. We can then choose the normal vector to point either into the plane or out of the plane. The choice of the direction of the normal vector also determines the positive direction of the circuit. The direction of the normal vector is determined by the right hand rule. For the circuit in Fig. [fig:faradayslaw-direction-010](#fig:faradayslaw-direction-010)a, you curve the four fingers from the index finger to your little finger on your right in the direction of the circuit and your thumb points in the direction of the corresponding surface normal. If the circuit is oriented in the positive direction, the normal vector points out of the plane. Whereas, if you choose the circuit to have the opposite direction, the surface normal points into the plane.\n",
    "\n",
    "<!-- dom:FIGURE:[fig-faradayslaw/faradayslaw-direction-010.png, width=600 frac=0.7] Illustration of a circuit moving through a magnetic field. The element $\\mathrm{d} \\mathbf{r} \\times \\mathrm{d} \\mathbf{l} = \\mathrm{d} \\mathbf{S}$ corresponds to a change in the surface enclosed by the curve $C$. <div id=\"fig:faradayslaw-direction-010\"></div> -->\n",
    "<!-- begin figure -->\n",
    "<div id=\"fig:faradayslaw-direction-010\"></div>\n",
    "\n",
    "<p>Illustration of a circuit moving through a magnetic field. The element $\\mathrm{d} \\mathbf{r} \\times \\mathrm{d} \\mathbf{l} = \\mathrm{d} \\mathbf{S}$ corresponds to a change in the surface enclosed by the curve $C$.</p>\n",
    "<img src=\"fig-faradayslaw/faradayslaw-direction-010.png\" width=600>\n",
    "\n",
    "<!-- end figure -->\n",
    "\n",
    "\n",
    "Let us assume that we choose alternative a. The the flux is then"
   ]
  },
  {
   "cell_type": "markdown",
   "metadata": {},
   "source": [
    "<!-- Equation labels as ordinary links -->\n",
    "<div id=\"_auto22\"></div>\n",
    "\n",
    "$$\n",
    "\\begin{equation}\n",
    "\\Phi = \\int_S \\mathbf{B} \\cdot \\mathrm{d} \\mathbf{S} = - B S \\; ,\n",
    "\\label{_auto22} \\tag{23}\n",
    "\\end{equation}\n",
    "$$"
   ]
  },
  {
   "cell_type": "markdown",
   "metadata": {},
   "source": [
    "If the magnetic field increases with time, $\\mathrm{d} B / \\mathrm{d} t>0$, we see that the flux decreases with time, $\\mathrm{d} \\Phi / \\mathrm{d} t <0$, which means that the emf will be $e = - \\mathrm{d} \\Phi / \\mathrm{d} t >0$. We find the associated current $I$ in the circuit by applying Kirchoff's voltage law: $ e - R I = 0$, which gives $e = RI$ and $I = e/R$. Consequentlt, the current will be positive, that is, in the direction the arrow is points.\n",
    "\n",
    "What would have happended if we instead chose alternative b? The flux would then be $\\Phi = B S$. If the magnetic field increases with time, we would get $\\mathrm{d} B/\\mathrm{d} t>0$, and $\\mathrm{d} \\Phi / \\mathrm{d} t >0$, which would give $e = - \\mathrm{d} \\Phi / \\mathrm{d} t <0$. Again, Kirchoff's voltage law gives $e - RI = 0 $ and $I = e/R$, but now $e$ is negative and the current is negative, which means that it is in the opposite direction to the arrow in figure b.\n",
    "\n",
    "As expected, we get the same result for the direction of the emf and the direction of the current, independently of our choice of coordinate system and our choice of the positive direction for the circuit. We just have to be consistent and keep to our choices.\n",
    "\n",
    "**Student activity.**\n",
    "\n",
    "\n",
    "\n",
    "The magnetic field in the figure is uniform. What is the direction of the current?\n",
    "\n",
    "If the size of the circuit decreases?\n",
    "\n",
    "<!-- dom:FIGURE:[fig-faradayslaw/faradayslaw-activity-010.png, width=600 frac=0.7] -->\n",
    "<!-- begin figure -->\n",
    "\n",
    "<p></p>\n",
    "<img src=\"fig-faradayslaw/faradayslaw-activity-010.png\" width=600>\n",
    "\n",
    "<!-- end figure -->\n",
    "\n",
    "\n",
    "\n",
    "\n",
    "If the magnitude of the magnetic field increases?\n",
    "\n",
    "<!-- dom:FIGURE:[fig-faradayslaw/faradayslaw-activity-020.png, width=600 frac=0.7] -->\n",
    "<!-- begin figure -->\n",
    "\n",
    "<p></p>\n",
    "<img src=\"fig-faradayslaw/faradayslaw-activity-020.png\" width=600>\n",
    "\n",
    "<!-- end figure -->\n",
    "\n",
    "\n",
    "\n",
    "## Lenz's law\n",
    "\n",
    "What happens if you move a permanent magnet towards an electric circuit? We have illustrated the field from a permenent magnet in Fig. [fig:faradayslaw-lenzlaw-020](#fig:faradayslaw-lenzlaw-020). When the magnet is moved towards the circuit, the magnetic field through the surface of the circuit increases, and therefore the magnitude of the flux increases. This means that we induce a current in the circuit. However, this current will also set up a magnetic field. What is the direction of the magnetic field set up by the current, which is induced by the moving magnet?\n",
    "\n",
    "\n",
    "<!-- dom:FIGURE:[fig-faradayslaw/faradayslaw-lenzlaw-020.png, width=600 frac=0.95] Illustration of Lenz law. What  is the direction fo the magnetic field set up by the current induced by a permenent magnet moving towards the circuit? <div id=\"fig:faradayslaw-lenzlaw-020\"></div> -->\n",
    "<!-- begin figure -->\n",
    "<div id=\"fig:faradayslaw-lenzlaw-020\"></div>\n",
    "\n",
    "<p>Illustration of Lenz law. What  is the direction fo the magnetic field set up by the current induced by a permenent magnet moving towards the circuit?</p>\n",
    "<img src=\"fig-faradayslaw/faradayslaw-lenzlaw-020.png\" width=600>\n",
    "\n",
    "<!-- end figure -->\n",
    "\n",
    "\n",
    "That was a complicated question, but it has a surprisingly simple answer. Let us analyze the behavior in the system in detail. Let us assume the permanent magnet and the circuit is oriented as in the figure. When the perment magnetic is moved towards the circuit, the magnitude of the magnetic field on the surface $S$ encompassed by the circuit increases with time. Because the flux is negative, this means that the flux decreases with time. The induced emf is $e = - \\mathrm{d} \\Phi / \\mathrm{d} t$ and it increases with time. Therefore, the current $I$ increases with time. The magnetic field $\\mathbf{B}_I$ from this current is oriented in the direction opposite of the magnetic field from the permanent magnet and the magnitude of $B_I$ increases with time. Therefore, the magnetic field set up by the current induced by the change in flux acts in a direction opposite of the change in the field that caused the current.\n",
    "\n",
    "This result is general and is called *Lenz law*: The direction of the current in the circuit is such that the magnetic field generated by the current will counteract the change in magnetic field that caused the current. This was a rather complex formulation. It can be simplified to \"Nature counteracts changes in magnetic flux\". If the flux is changed, the system will set up a current to generate a magnetic field, that will counteract the change. This is a very useful tool the check the sign of Faraday's law.\n",
    "\n",
    "**Student activity.**\n",
    "\n",
    "\n",
    "\n",
    "\n",
    "\n",
    "\n",
    "## Example: Deformed circuit\n",
    "\n",
    "Fig. [fig:faradayslaw-deformedcircuit-010](#fig:faradayslaw-deformedcircuit-010) illustrates a circuit which has an edge consisting of a moving rod. The rod moves with a constant velocity $v$. There is a uniform magnetic field $\\mathbf{B}$ pointing into the plane. What is the current $I$ in the circuit, the power $P$ consumed and the force $F$ acting on the moving rod?\n",
    "\n",
    "<!-- dom:FIGURE:[fig-faradayslaw/faradayslaw-deformedcircuit-010.png, width=600 frac=0.7] Illustration a circuit consisting of a wired circuit with a moving rod forming one edge of the circuit. <div id=\"fig:faradayslaw-deformedcircuit-010\"></div> -->\n",
    "<!-- begin figure -->\n",
    "<div id=\"fig:faradayslaw-deformedcircuit-010\"></div>\n",
    "\n",
    "<p>Illustration a circuit consisting of a wired circuit with a moving rod forming one edge of the circuit.</p>\n",
    "<img src=\"fig-faradayslaw/faradayslaw-deformedcircuit-010.png\" width=600>\n",
    "\n",
    "<!-- end figure -->\n",
    "\n",
    "\n",
    "### Solution\n",
    "\n",
    "First, we plan to find the emf due to the change in flux and use this to find the induced current. The flux is"
   ]
  },
  {
   "cell_type": "markdown",
   "metadata": {},
   "source": [
    "<!-- Equation labels as ordinary links -->\n",
    "<div id=\"_auto23\"></div>\n",
    "\n",
    "$$\n",
    "\\begin{equation}\n",
    "\\Phi = \\int_S \\mathbf{B} \\cdot \\mathrm{d}  \\mathbf{S} = - B S = - B l v t \\; ,\n",
    "\\label{_auto23} \\tag{24}\n",
    "\\end{equation}\n",
    "$$"
   ]
  },
  {
   "cell_type": "markdown",
   "metadata": {},
   "source": [
    "where the negative sign is because with the given orientation of the circuit, the surface normal $\\mathbf{\\hat{n}}$ points upwards while the magnetic field points downward into the plane. The induced emf is then"
   ]
  },
  {
   "cell_type": "markdown",
   "metadata": {},
   "source": [
    "<!-- Equation labels as ordinary links -->\n",
    "<div id=\"_auto24\"></div>\n",
    "\n",
    "$$\n",
    "\\begin{equation}\n",
    "e = - \\frac{d \\Phi }{\\mathrm{d} t} = - \\frac{\\mathrm{d}}{\\mathrm{d} t} \\left( - B l v t \\right) = Blv \\; .\n",
    "\\label{_auto24} \\tag{25}\n",
    "\\end{equation}\n",
    "$$"
   ]
  },
  {
   "cell_type": "markdown",
   "metadata": {},
   "source": [
    "We find the induced current from Kirchoff's voltage law. For the circuit there is a voltage increase $e$ and a voltage drop $RI$ across the resistor, so that $e - RI = 0$ and $I = e/R$. The current is therefore:"
   ]
  },
  {
   "cell_type": "markdown",
   "metadata": {},
   "source": [
    "<!-- Equation labels as ordinary links -->\n",
    "<div id=\"_auto25\"></div>\n",
    "\n",
    "$$\n",
    "\\begin{equation}\n",
    "I = \\frac{e}{R} = \\frac{Blv}{R} \\; .\n",
    "\\label{_auto25} \\tag{26}\n",
    "\\end{equation}\n",
    "$$"
   ]
  },
  {
   "cell_type": "markdown",
   "metadata": {},
   "source": [
    "The direction of the current is in the direction of the arrows in the figure. (Check that the direction of the current is consistent with Lenz law).\n",
    "\n",
    "The dissipated power is"
   ]
  },
  {
   "cell_type": "markdown",
   "metadata": {},
   "source": [
    "<!-- Equation labels as ordinary links -->\n",
    "<div id=\"_auto26\"></div>\n",
    "\n",
    "$$\n",
    "\\begin{equation}\n",
    "P = R I^2 = R \\frac{\\left( Blv \\right)^2}{R^2} = \\frac{\\left( Blv\\right)^2}{R} \\; .\n",
    "\\label{_auto26} \\tag{27}\n",
    "\\end{equation}\n",
    "$$"
   ]
  },
  {
   "cell_type": "markdown",
   "metadata": {},
   "source": [
    "Where does this energy come from? It comes from the work done by the external force $F$ pulling on the moving edge of the circuit. We can find $F$ by comparing the power exerted by the force $F$ to the power dissipated in the circuit:"
   ]
  },
  {
   "cell_type": "markdown",
   "metadata": {},
   "source": [
    "<!-- Equation labels as ordinary links -->\n",
    "<div id=\"_auto27\"></div>\n",
    "\n",
    "$$\n",
    "\\begin{equation}\n",
    "P_{\\text{mechanical}} = F v = P_{\\text{electric}} = \\frac{\\left( Blv\\right)^2}{R} \\; ,\n",
    "\\label{_auto27} \\tag{28}\n",
    "\\end{equation}\n",
    "$$"
   ]
  },
  {
   "cell_type": "markdown",
   "metadata": {},
   "source": [
    "which gives us that"
   ]
  },
  {
   "cell_type": "markdown",
   "metadata": {},
   "source": [
    "<!-- Equation labels as ordinary links -->\n",
    "<div id=\"_auto28\"></div>\n",
    "\n",
    "$$\n",
    "\\begin{equation}\n",
    "F = \\frac{\\mathbf{B}^2l^2 v}{R}\n",
    "\\label{_auto28} \\tag{29}\n",
    "\\end{equation}\n",
    "$$"
   ]
  },
  {
   "cell_type": "markdown",
   "metadata": {},
   "source": [
    "We can check this result by comparing with the magnetic force on the moving rod:"
   ]
  },
  {
   "cell_type": "markdown",
   "metadata": {},
   "source": [
    "<!-- Equation labels as ordinary links -->\n",
    "<div id=\"_auto29\"></div>\n",
    "\n",
    "$$\n",
    "\\begin{equation}\n",
    "\\mathbf{F}_B = \\int_l I \\mathrm{d} \\mathbf{l} \\times \\mathbf{B} = - \\mathbf{\\hat{x}} I B l = - \\frac{B^2 l^2 v}{R} \\mathbf{\\hat{x}} \\; .\n",
    "\\label{_auto29} \\tag{30}\n",
    "\\end{equation}\n",
    "$$"
   ]
  },
  {
   "cell_type": "markdown",
   "metadata": {},
   "source": [
    "When the rod is moving with constant velocity, the net force on the rod in the $x$-direction must be zero. Hence the mechanical force $\\mathbf{F}$ applied to the rod must equal the magnetic force $\\mathbf{F}_B$: $\\mathbf{F} = - \\mathbf{F}_B$, which is the same as we found by comparing the mechanical and electrical power dissipated.\n",
    "\n",
    "## Example: Rotating circuit in static magnetic field\n",
    "\n",
    "\n",
    "\n",
    "A circuit rotates with a constant angular velocity $\\omega$ in a uniform, stationary magnetic field $\\mathbf{B}$ as illustrated in Fig. [fig:faradayslaw-rotcirc-010](#fig:faradayslaw-rotcirc-010). The circuit is rectangular with sides $a$ and $b$ and has a resistance $R$. Find the induced emf and current in the circuit and the time-averaged power dissipated in the circuit. You can ignore the effect of the magnetic field generated by the current in the circuit.\n",
    "\n",
    "<!-- dom:FIGURE:[fig-faradayslaw/faradayslaw-rotcirc-010.png, width=600 frac=0.7] Illustration a circuit rotating in an external magnetic field.  <div id=\"fig:faradayslaw-rotcirc-010\"></div> -->\n",
    "<!-- begin figure -->\n",
    "<div id=\"fig:faradayslaw-rotcirc-010\"></div>\n",
    "\n",
    "<p>Illustration a circuit rotating in an external magnetic field.</p>\n",
    "<img src=\"fig-faradayslaw/faradayslaw-rotcirc-010.png\" width=600>\n",
    "\n",
    "<!-- end figure -->\n",
    "\n",
    "\n",
    "**Solution:**\n",
    "\n",
    "The magnetic flux through the circuit depends on the angle $\\phi$ between the plane of the loop and a plane normal to the magnetic field as illustrated in the figure:"
   ]
  },
  {
   "cell_type": "markdown",
   "metadata": {},
   "source": [
    "<!-- Equation labels as ordinary links -->\n",
    "<div id=\"_auto30\"></div>\n",
    "\n",
    "$$\n",
    "\\begin{equation}\n",
    "\\Phi = \\int_S \\mathbf{B} \\cdot \\mathrm{d} \\mathbf{S} = \\mathbf{B} \\cdot \\mathbf{S} = B S \\cos \\phi \\; ,\n",
    "\\label{_auto30} \\tag{31}\n",
    "\\end{equation}\n",
    "$$"
   ]
  },
  {
   "cell_type": "markdown",
   "metadata": {},
   "source": [
    "where $\\phi = \\omega t$. The induced emf is therefore"
   ]
  },
  {
   "cell_type": "markdown",
   "metadata": {},
   "source": [
    "<!-- Equation labels as ordinary links -->\n",
    "<div id=\"_auto31\"></div>\n",
    "\n",
    "$$\n",
    "\\begin{equation}\n",
    "e = - \\frac{\\mathrm{d} \\phi}{\\mathrm{d} t} = - \\frac{\\mathrm{d}}{\\mathrm{d} t}\\left( B S \\cos \\omega t \\right) = B S \\omega \\sin \\omega t \\; .\n",
    "\\label{_auto31} \\tag{32}\n",
    "\\end{equation}\n",
    "$$"
   ]
  },
  {
   "cell_type": "markdown",
   "metadata": {},
   "source": [
    "This means that in order to induce a large emf we need to have a large magnetic field $B$ or a large surface area $S$ of the circuit. A simple way to increase the surface area is to increase the number of windings, $N$, in the circuit. This is a simple model for a generator that generates an alternating voltage/current with a sinus-shape. To make a generator, you also have to find a smart way to connect two wires to the circuit. This is often done using brushes, which will also turn the polarity of the outgoing wire after a rotation of $180^{\\circ}$.\n",
    "\n",
    "From Kirchoff's voltage law, we find that $e - IR = 0$ and $I = e/R$. The dissipated power is:"
   ]
  },
  {
   "cell_type": "markdown",
   "metadata": {},
   "source": [
    "<!-- Equation labels as ordinary links -->\n",
    "<div id=\"_auto32\"></div>\n",
    "\n",
    "$$\n",
    "\\begin{equation}\n",
    "P = R I^2 = R \\left(\\frac{BS \\omega \\sin \\omega t}{R}\\right)^2 = \\frac{\\omega^2 B^2 S^2}{R}\\sin^2 \\omega t \\; .\n",
    "\\label{_auto32} \\tag{33}\n",
    "\\end{equation}\n",
    "$$"
   ]
  },
  {
   "cell_type": "markdown",
   "metadata": {},
   "source": [
    "This is the instanteneous power. In order to find the time-averaged dissipated power we need to average over one rotational cycle. The average of the $\\sin^2 \\omega t$ term is"
   ]
  },
  {
   "cell_type": "markdown",
   "metadata": {},
   "source": [
    "<!-- Equation labels as ordinary links -->\n",
    "<div id=\"_auto33\"></div>\n",
    "\n",
    "$$\n",
    "\\begin{equation}\n",
    "\\langle \\sin^2 \\omega t \\rangle = \\frac{1}{T}\\int_0^T \\sin^2 \\omega t \\mathrm{d} t\\; ,\n",
    "\\label{_auto33} \\tag{34}\n",
    "\\end{equation}\n",
    "$$"
   ]
  },
  {
   "cell_type": "markdown",
   "metadata": {},
   "source": [
    "where $T = 2 \\pi / \\omega$. We change variable to $u = \\omega t$ so that the integral is from $u = 0$ to $u = T\\omega = 2 \\pi$, where $\\mathrm{d} u = \\omega \\mathrm{d} t$"
   ]
  },
  {
   "cell_type": "markdown",
   "metadata": {},
   "source": [
    "<!-- Equation labels as ordinary links -->\n",
    "<div id=\"_auto34\"></div>\n",
    "\n",
    "$$\n",
    "\\begin{equation}\n",
    "\\langle \\sin^2 \\omega t \\rangle = \\frac{1}{T \\omega} \\int_0^{2 \\pi} \\sin^2 u \\mathrm{d} u\n",
    "\\label{_auto34} \\tag{35}\n",
    "\\end{equation}\n",
    "$$"
   ]
  },
  {
   "cell_type": "markdown",
   "metadata": {},
   "source": [
    "This integral is simple to solve, and you may indeed remember it by heart, but we use `Sympy`:"
   ]
  },
  {
   "cell_type": "markdown",
   "metadata": {},
   "source": [
    "0\n",
    " \n",
    "<\n",
    "<\n",
    "<\n",
    "!\n",
    "!\n",
    "C\n",
    "O\n",
    "D\n",
    "E\n",
    "_\n",
    "B\n",
    "L\n",
    "O\n",
    "C\n",
    "K\n",
    " \n",
    " \n",
    "p\n",
    "y\n",
    "c\n",
    "o\n",
    "d"
   ]
  },
  {
   "cell_type": "markdown",
   "metadata": {},
   "source": [
    "        1/2\n"
   ]
  },
  {
   "cell_type": "markdown",
   "metadata": {},
   "source": [
    "We therefore conclude that"
   ]
  },
  {
   "cell_type": "markdown",
   "metadata": {},
   "source": [
    "<!-- Equation labels as ordinary links -->\n",
    "<div id=\"_auto35\"></div>\n",
    "\n",
    "$$\n",
    "\\begin{equation}\n",
    "\\langle \\sin^2 \\omega t \\rangle = \\frac{1}{2} \\; ,\n",
    "\\label{_auto35} \\tag{36}\n",
    "\\end{equation}\n",
    "$$"
   ]
  },
  {
   "cell_type": "markdown",
   "metadata": {},
   "source": [
    "and that"
   ]
  },
  {
   "cell_type": "markdown",
   "metadata": {},
   "source": [
    "<!-- Equation labels as ordinary links -->\n",
    "<div id=\"_auto36\"></div>\n",
    "\n",
    "$$\n",
    "\\begin{equation}\n",
    "\\langle P \\rangle = \\frac{\\omega^2 B^2 S^2}{R}\\langle \\sin^2 \\omega t \\rangle = \\frac{\\omega^2 B^2 S^2}{2R}\\; .\n",
    "\\label{_auto36} \\tag{37}\n",
    "\\end{equation}\n",
    "$$"
   ]
  },
  {
   "cell_type": "markdown",
   "metadata": {},
   "source": [
    "## Example: Multiple windings\n",
    "\n",
    "Fig. [fig:faradayslaw-windings-010](#fig:faradayslaw-windings-010) illustrates a circular circuit of radius $a$ in the $xy$-plane that has been wound $N$ times. The magnetic field $\\mathbf{B} = B_z\\mathbf{\\hat{z}}$ varies in time. What is the emf and current in the circuit?\n",
    "\n",
    "<!-- dom:FIGURE:[fig-faradayslaw/faradayslaw-windings-010.png, width=600 frac=0.7] Illustration a circular circuit with $N = 3$ windings in a magnetic field. rotating in an external magnetic field.  <div id=\"fig:faradayslaw-windings-010\"></div> -->\n",
    "<!-- begin figure -->\n",
    "<div id=\"fig:faradayslaw-windings-010\"></div>\n",
    "\n",
    "<p>Illustration a circular circuit with $N = 3$ windings in a magnetic field. rotating in an external magnetic field.</p>\n",
    "<img src=\"fig-faradayslaw/faradayslaw-windings-010.png\" width=600>\n",
    "\n",
    "<!-- end figure -->\n",
    "\n",
    "\n",
    "**Solution:**\n",
    "\n",
    "The flux $\\Phi$ of the magnetic field is"
   ]
  },
  {
   "cell_type": "markdown",
   "metadata": {},
   "source": [
    "<!-- Equation labels as ordinary links -->\n",
    "<div id=\"_auto37\"></div>\n",
    "\n",
    "$$\n",
    "\\begin{equation}\n",
    "\\Phi = \\int_S \\mathbf{B} \\cdot \\mathrm{d} \\mathbf{S} \n",
    "\\label{_auto37} \\tag{38}\n",
    "\\end{equation}\n",
    "$$"
   ]
  },
  {
   "cell_type": "markdown",
   "metadata": {},
   "source": [
    "The flux of a single winding is $\\Phi_1 = \\mathbf{B} \\cdot \\mathbf{S} = B_z \\pi a^2$, so that the total flux is $N$ times the flux of a single winding as long as the windings are so close together that they all have the same flux $\\Phi_N = N B_z \\pi a^2$. The induced emf is then"
   ]
  },
  {
   "cell_type": "markdown",
   "metadata": {},
   "source": [
    "<!-- Equation labels as ordinary links -->\n",
    "<div id=\"_auto38\"></div>\n",
    "\n",
    "$$\n",
    "\\begin{equation}\n",
    "e_N = - \\frac{\\mathrm{d} \\Phi}{\\mathrm{d} t} = - \\frac{\\mathrm{d}}{\\mathrm{d} t} \\left( N B_z \\pi a^2 \\right) = - N \\pi a^2 \\frac{\\mathrm{d} B_z}{\\mathrm{d} t} = -N \\frac{\\mathrm{d} Phi_1}{\\mathrm{d} t}\\;.\n",
    "\\label{_auto38} \\tag{39}\n",
    "\\end{equation}\n",
    "$$"
   ]
  },
  {
   "cell_type": "markdown",
   "metadata": {},
   "source": [
    "and the corresponding current is found from $e - RI = 0$ and $I = e/R$.\n",
    "\n",
    "## Example: Spiral coil\n",
    "\n",
    "Fig. [fig:faradayslaw-spiralcoil-010](#fig:faradayslaw-spiralcoil-010) illustrates a spiral coil with $N$ windings varying gradually from a radius $r = a$ to $r = b$. There is a uniform, time-varying magnetic field $\\mathbf{B}$ going into the plane as illustrated in the figure. Find the induced emf in the coil.\n",
    "\n",
    "<!-- dom:FIGURE:[fig-faradayslaw/faradayslaw-spiralcoil-010.png, width=600 frac=0.6] Illustration a spiral coil with inner radius $a$, outer radius $b$ and $N$ windings. There is a uniform, time-varying magnetic field $\\mathbf{B}$ pointing into the plane. <div id=\"fig:faradayslaw-spiralcoil-010\"></div> -->\n",
    "<!-- begin figure -->\n",
    "<div id=\"fig:faradayslaw-spiralcoil-010\"></div>\n",
    "\n",
    "<p>Illustration a spiral coil with inner radius $a$, outer radius $b$ and $N$ windings. There is a uniform, time-varying magnetic field $\\mathbf{B}$ pointing into the plane.</p>\n",
    "<img src=\"fig-faradayslaw/faradayslaw-spiralcoil-010.png\" width=600>\n",
    "\n",
    "<!-- end figure -->\n",
    "\n",
    "\n",
    "**Solution:**\n",
    "\n",
    "Our plan is to first find the flux $\\Phi$ and then find the emf. The flux is the sum of the fluxes for each of the $N$ windings:"
   ]
  },
  {
   "cell_type": "markdown",
   "metadata": {},
   "source": [
    "<!-- Equation labels as ordinary links -->\n",
    "<div id=\"_auto39\"></div>\n",
    "\n",
    "$$\n",
    "\\begin{equation}\n",
    "\\Phi = \\sum_i \\Phi_i \\; ,\n",
    "\\label{_auto39} \\tag{40}\n",
    "\\end{equation}\n",
    "$$"
   ]
  },
  {
   "cell_type": "markdown",
   "metadata": {},
   "source": [
    "where the radius of the windings increase gradually from $r = a$ to $r = b$ over the $N$ windings. Thus"
   ]
  },
  {
   "cell_type": "markdown",
   "metadata": {},
   "source": [
    "<!-- Equation labels as ordinary links -->\n",
    "<div id=\"_auto40\"></div>\n",
    "\n",
    "$$\n",
    "\\begin{equation}\n",
    "\\Phi = \\sum_{i=1}^{N} \\pi r_i^2 B = B \\sum_i \\pi r_i^2 \\; .\n",
    "\\label{_auto40} \\tag{41}\n",
    "\\end{equation}\n",
    "$$"
   ]
  },
  {
   "cell_type": "markdown",
   "metadata": {},
   "source": [
    "If the number of windings is large, we want to replace this with an integral over the radius $r$:"
   ]
  },
  {
   "cell_type": "markdown",
   "metadata": {},
   "source": [
    "<!-- Equation labels as ordinary links -->\n",
    "<div id=\"_auto41\"></div>\n",
    "\n",
    "$$\n",
    "\\begin{equation}\n",
    "\\Phi = B \\sum_i \\pi r_i^2 \\simeq B \\int_a^b \\pi r^2 \\frac{\\mathrm{d} r}{\\delta} \\; ,\n",
    "\\label{_auto41} \\tag{42}\n",
    "\\end{equation}\n",
    "$$"
   ]
  },
  {
   "cell_type": "markdown",
   "metadata": {},
   "source": [
    "where $\\mathrm{d} r/\\delta$ is the number of windings between $r$ and $r + \\mathrm{d} r$, this is, $\\delta = (b-a)/N$. This gives"
   ]
  },
  {
   "cell_type": "markdown",
   "metadata": {},
   "source": [
    "<!-- Equation labels as ordinary links -->\n",
    "<div id=\"_auto42\"></div>\n",
    "\n",
    "$$\n",
    "\\begin{equation}\n",
    "\\Phi = B \\int_a^b \\pi r^2 \\frac{\\mathrm{d} r}{\\delta} = \\frac{B}{\\delta} \\pi \\frac{1}{3}\\left( b^3 - a^3 \\right) \\; .\n",
    "\\label{_auto42} \\tag{43}\n",
    "\\end{equation}\n",
    "$$"
   ]
  },
  {
   "cell_type": "markdown",
   "metadata": {},
   "source": [
    "We insert $\\delta = (b-a)N$ and get:"
   ]
  },
  {
   "cell_type": "markdown",
   "metadata": {},
   "source": [
    "<!-- Equation labels as ordinary links -->\n",
    "<div id=\"_auto43\"></div>\n",
    "\n",
    "$$\n",
    "\\begin{equation}\n",
    "\\Phi = B \\frac{\\pi}{3} \\frac{b^3 - a^3}{(b-a)/N}\n",
    "\\label{_auto43} \\tag{44}\n",
    "\\end{equation}\n",
    "$$"
   ]
  },
  {
   "cell_type": "markdown",
   "metadata": {},
   "source": [
    "We factorize $(b^3 - a^3) = (b^2 + ab + a^2)(b-a)$ and get:"
   ]
  },
  {
   "cell_type": "markdown",
   "metadata": {},
   "source": [
    "<!-- Equation labels as ordinary links -->\n",
    "<div id=\"_auto44\"></div>\n",
    "\n",
    "$$\n",
    "\\begin{equation}\n",
    "\\Phi = B \\frac{\\pi}{3}N \\left( b^2 + ab + a^2\\right) \\; .\n",
    "\\label{_auto44} \\tag{45}\n",
    "\\end{equation}\n",
    "$$"
   ]
  },
  {
   "cell_type": "markdown",
   "metadata": {},
   "source": [
    "And the emf is therefore"
   ]
  },
  {
   "cell_type": "markdown",
   "metadata": {},
   "source": [
    "<!-- Equation labels as ordinary links -->\n",
    "<div id=\"_auto45\"></div>\n",
    "\n",
    "$$\n",
    "\\begin{equation}\n",
    "e = - \\frac{\\mathrm{d} \\Phi}{\\mathrm{d} t } = - \\frac{\\mathrm{d} B}{\\mathrm{d} t} \\frac{\\pi}{3}N \\left( b^2 + ab + a^2\\right)\n",
    "\\label{_auto45} \\tag{46}\n",
    "\\end{equation}\n",
    "$$"
   ]
  },
  {
   "cell_type": "markdown",
   "metadata": {},
   "source": [
    "# Faraday's law on differential form\n",
    "\n",
    "Faraday's law relates the emf to the rate of change of flux the a circuit"
   ]
  },
  {
   "cell_type": "markdown",
   "metadata": {},
   "source": [
    "<!-- Equation labels as ordinary links -->\n",
    "<div id=\"eq:faradayslaw-differential-010\"></div>\n",
    "\n",
    "$$\n",
    "\\begin{equation}\n",
    "e = \\oint_C \\left( \\mathbf{f}_m + \\mathbf{E} \\right) \\cdot \\mathrm{d} \\mathbf{l} = - \\frac{\\mathrm{d}}{\\mathrm{d} t} \\int_S\\mathbf{B} \\cdot \\mathrm{d} \\mathbf{S} \\; .\n",
    "\\label{eq:faradayslaw-differential-010} \\tag{47}\n",
    "\\end{equation}\n",
    "$$"
   ]
  },
  {
   "cell_type": "markdown",
   "metadata": {},
   "source": [
    "This is really two different laws: One law that describes a moving circuit and the corresponding motional emf, and one law that describes a time-varying magnetic field. We call both of these laws Faraday's law, even though there are two different mechanisms underlying the laws. These mechanisms can be united through the concepts of special relativity, but this is beyond the scope of this text.\n",
    "\n",
    "If the circuit is stationary, then there are no magnetic forces on the charges, $\\mathbf{f}_m = 0$, and we can move the derivative in ([47](#eq:faradayslaw-differential-010)) inside the integral, to get:"
   ]
  },
  {
   "cell_type": "markdown",
   "metadata": {},
   "source": [
    "<!-- Equation labels as ordinary links -->\n",
    "<div id=\"_auto46\"></div>\n",
    "\n",
    "$$\n",
    "\\begin{equation}\n",
    "\\oint_C \\mathbf{E} \\cdot \\mathrm{d} \\mathbf{l} = -\\int_S \\frac{\\partial \\mathbf{B}}{\\partial t} \\cdot \\mathrm{d} \\mathbf{S} \\; .\n",
    "\\label{_auto46} \\tag{48}\n",
    "\\end{equation}\n",
    "$$"
   ]
  },
  {
   "cell_type": "markdown",
   "metadata": {},
   "source": [
    "where we can apply Stoke's theorem to get:"
   ]
  },
  {
   "cell_type": "markdown",
   "metadata": {},
   "source": [
    "<!-- Equation labels as ordinary links -->\n",
    "<div id=\"_auto47\"></div>\n",
    "\n",
    "$$\n",
    "\\begin{equation}\n",
    "\\nabla \\times \\mathbf{E} = - \\frac{\\partial \\mathbf{B}}{\\partial t} \\; .\n",
    "\\label{_auto47} \\tag{49}\n",
    "\\end{equation}\n",
    "$$"
   ]
  },
  {
   "cell_type": "markdown",
   "metadata": {},
   "source": [
    "This is Faraday's law on differential form.\n",
    "\n",
    "**Faraday's law on differential form.**"
   ]
  },
  {
   "cell_type": "markdown",
   "metadata": {},
   "source": [
    "<!-- Equation labels as ordinary links -->\n",
    "<div id=\"_auto48\"></div>\n",
    "\n",
    "$$\n",
    "\\begin{equation}\n",
    "\\nabla \\times \\mathbf{E} = - \\frac{\\partial \\mathbf{B}}{\\partial t} \\; .\n",
    "\\label{_auto48} \\tag{50}\n",
    "\\end{equation}\n",
    "$$"
   ]
  },
  {
   "cell_type": "markdown",
   "metadata": {},
   "source": [
    "## Two types of electric field\n",
    "\n",
    "Faraday's law shows that there are two types of electric field: the electric field set up by (stationary) charge distributions, and the electric field associated with magnetic fields. \n",
    "\n",
    "If we write down Faraday's law:"
   ]
  },
  {
   "cell_type": "markdown",
   "metadata": {},
   "source": [
    "<!-- Equation labels as ordinary links -->\n",
    "<div id=\"_auto49\"></div>\n",
    "\n",
    "$$\n",
    "\\begin{equation}\n",
    "\\nabla \\times \\mathbf{E} =  - \\frac{\\partial \\mathbf{B}}{\\partial t} \\; .\n",
    "\\label{_auto49} \\tag{51}\n",
    "\\end{equation}\n",
    "$$"
   ]
  },
  {
   "cell_type": "markdown",
   "metadata": {},
   "source": [
    "We see that it is very similar to Ampere's law for the magnetic field:"
   ]
  },
  {
   "cell_type": "markdown",
   "metadata": {},
   "source": [
    "<!-- Equation labels as ordinary links -->\n",
    "<div id=\"_auto50\"></div>\n",
    "\n",
    "$$\n",
    "\\begin{equation}\n",
    "\\nabla \\times \\mathbf{B} = \\mu_0 \\mathbf{J} \\; .\n",
    "\\label{_auto50} \\tag{52}\n",
    "\\end{equation}\n",
    "$$"
   ]
  },
  {
   "cell_type": "markdown",
   "metadata": {},
   "source": [
    "Indeed, this similarity is even stronger because if the electric field is associated with the magnetic field alone, that is, if there are no charges present, then $\\nabla \\cdot \\mathbf{E} = 0$. Thus we have two equations for the electric field, which is very similar to the equations for the magnetic field in Ampere's law. We can therefore use the intuition and the solution methods we have developed for Ampere's law also to find the electric field for a given rate of change of the magnetic field.\n",
    "\n",
    "## Example: Circular currents\n",
    "\n",
    "A uniform, time-varying magnetic field, $\\mathbf{B} = B_z(t) \\mathbf{\\hat{z}}$, passes through a circular conducting disc in the $xy$-plane. Find the associated electric field and current in the plane. You can assume that the field set up by the currents in the plane is negligible compared to $B_z(t)$.\n",
    "\n",
    "**Solution:**\n",
    "\n",
    "We will attempt two types of solutions to this problem. First, we will solve the differential equation and second we will use the integral formulation inspired by Ampere's law.\n",
    "\n",
    "First, we start from the partial differential equation for the electric field, Faraday's law:"
   ]
  },
  {
   "cell_type": "markdown",
   "metadata": {},
   "source": [
    "<!-- Equation labels as ordinary links -->\n",
    "<div id=\"_auto51\"></div>\n",
    "\n",
    "$$\n",
    "\\begin{equation}\n",
    "\\nabla \\times \\mathbf{E} = - \\frac{\\partial B_z}{\\partial t}\\mathbf{\\hat{z}} \\; .\n",
    "\\label{_auto51} \\tag{53}\n",
    "\\end{equation}\n",
    "$$"
   ]
  },
  {
   "cell_type": "markdown",
   "metadata": {},
   "source": [
    "We rewrite this in cylindrical coordinates, keeping only the $z$-component of the equations:"
   ]
  },
  {
   "cell_type": "markdown",
   "metadata": {},
   "source": [
    "<!-- Equation labels as ordinary links -->\n",
    "<div id=\"_auto52\"></div>\n",
    "\n",
    "$$\n",
    "\\begin{equation}\n",
    "\\frac{1}{r} \\left( \\frac{r \\partial E_{\\phi}}{\\partial r} - \\frac{\\partial E_r}{\\partial \\phi} \\right) = - \\frac{\\partial B_z}{\\partial t} \\; .\n",
    "\\label{_auto52} \\tag{54}\n",
    "\\end{equation}\n",
    "$$"
   ]
  },
  {
   "cell_type": "markdown",
   "metadata": {},
   "source": [
    "From the symmetry of the system, we realize that $E_r$ cannot have any $\\phi$-dependence because the system is rotationally symmetric around the $z$-axis, therefore $\\partial E_r/\\partial \\phi = 0$. We are therefore left with:"
   ]
  },
  {
   "cell_type": "markdown",
   "metadata": {},
   "source": [
    "<!-- Equation labels as ordinary links -->\n",
    "<div id=\"_auto53\"></div>\n",
    "\n",
    "$$\n",
    "\\begin{equation}\n",
    "\\frac{1}{r} \\frac{r \\partial E_{\\phi}}{\\partial r} = - \\frac{\\partial B_z}{\\partial t} \\; ,\n",
    "\\label{_auto53} \\tag{55}\n",
    "\\end{equation}\n",
    "$$"
   ]
  },
  {
   "cell_type": "markdown",
   "metadata": {},
   "source": [
    "which gives"
   ]
  },
  {
   "cell_type": "markdown",
   "metadata": {},
   "source": [
    "<!-- Equation labels as ordinary links -->\n",
    "<div id=\"_auto54\"></div>\n",
    "\n",
    "$$\n",
    "\\begin{equation}\n",
    "\\frac{r \\partial E_{\\phi}}{\\partial r} = - r\\frac{\\partial B_z}{\\partial t} \\; .\n",
    "\\label{_auto54} \\tag{56}\n",
    "\\end{equation}\n",
    "$$"
   ]
  },
  {
   "cell_type": "markdown",
   "metadata": {},
   "source": [
    "With solutions:"
   ]
  },
  {
   "cell_type": "markdown",
   "metadata": {},
   "source": [
    "<!-- Equation labels as ordinary links -->\n",
    "<div id=\"_auto55\"></div>\n",
    "\n",
    "$$\n",
    "\\begin{equation}\n",
    "rE_{\\phi} = -\\frac{1}{2}r^2  \\frac{\\partial B_z}{\\partial t} + C \\; ,\n",
    "\\label{_auto55} \\tag{57}\n",
    "\\end{equation}\n",
    "$$"
   ]
  },
  {
   "cell_type": "markdown",
   "metadata": {},
   "source": [
    "and"
   ]
  },
  {
   "cell_type": "markdown",
   "metadata": {},
   "source": [
    "<!-- Equation labels as ordinary links -->\n",
    "<div id=\"_auto56\"></div>\n",
    "\n",
    "$$\n",
    "\\begin{equation}\n",
    "E_{\\phi} = -\\frac{1}{2}r  \\frac{\\partial B_z}{\\partial t} + \\frac{C}{r} \\; .\n",
    "\\label{_auto56} \\tag{58}\n",
    "\\end{equation}\n",
    "$$"
   ]
  },
  {
   "cell_type": "markdown",
   "metadata": {},
   "source": [
    "The electric field must be finite at $r = 0$, therefore $C = 0$, and we have found the solution:"
   ]
  },
  {
   "cell_type": "markdown",
   "metadata": {},
   "source": [
    "<!-- Equation labels as ordinary links -->\n",
    "<div id=\"_auto57\"></div>\n",
    "\n",
    "$$\n",
    "\\begin{equation}\n",
    "\\mathbf{E} =  -\\frac{1}{2}r  \\frac{\\partial B_z}{\\partial t} \\boldsymbol{\\hat{\\phi}} \\; .\n",
    "\\label{_auto57} \\tag{59}\n",
    "\\end{equation}\n",
    "$$"
   ]
  },
  {
   "cell_type": "markdown",
   "metadata": {},
   "source": [
    "This is a field curling around the direction of the magnetic field, just like we have found from Ampere's law that the magnetic field is curling around the direction of the current.\n",
    "\n",
    "For a conducting material, we know from Ohm's law that $\\mathbf{J} = \\sigma \\mathbf{E}$. The circular electric field induced by the time-varying magnetic field, will therefore induce circular currents. Inside a conducting volume exposed to a varying magnetic field, there will often be a combination of many such circular currents called *eddy currents*.\n",
    "\n",
    "We want to visualize the electric field. We rewrite the expression for the electric field using that $\\boldsymbol{\\hat{\\phi}} = (- y,x)/r$ where $\\mathbf{r} = (x,y)$:"
   ]
  },
  {
   "cell_type": "markdown",
   "metadata": {},
   "source": [
    "<!-- Equation labels as ordinary links -->\n",
    "<div id=\"_auto58\"></div>\n",
    "\n",
    "$$\n",
    "\\begin{equation}\n",
    "\\mathbf{E} =  -\\frac{1}{2}r  \\frac{\\partial B_z}{\\partial t} \\boldsymbol{\\hat{\\phi}} = -\\frac{1}{2}\\frac{\\partial B_z}{\\partial t} \\frac{r(-y,x)}{r} =  -\\frac{1}{2}\\frac{\\partial B_z}{\\partial t} (-y,x) \\; .\n",
    "\\label{_auto58} \\tag{60}\n",
    "\\end{equation}\n",
    "$$"
   ]
  },
  {
   "cell_type": "markdown",
   "metadata": {},
   "source": [
    "This is implemented in the following Python program and visualized in Fig. [fig:faradayslaw-circularfield-020](#fig:faradayslaw-circularfield-020)."
   ]
  },
  {
   "cell_type": "code",
   "execution_count": 1,
   "metadata": {},
   "outputs": [
    {
     "data": {
      "text/plain": [
       "<matplotlib.quiver.Quiver at 0x7f13a98a6150>"
      ]
     },
     "execution_count": 1,
     "metadata": {},
     "output_type": "execute_result"
    },
    {
     "data": {
      "image/png": "[encoded data removed]",
      "text/plain": [
       "<Figure size 432x288 with 1 Axes>"
      ]
     },
     "metadata": {
      "needs_background": "light"
     },
     "output_type": "display_data"
    }
   ],
   "source": [
    "%matplotlib inline\n",
    "\n",
    "import numpy as np\n",
    "import matplotlib.pyplot as plt\n",
    "L = 5\n",
    "NL = 25\n",
    "dBdt = 1.0\n",
    "x = np.linspace(-L,L,NL)\n",
    "y = np.linspace(-L,L,NL)\n",
    "rx,ry = np.meshgrid(x,y)\n",
    "Ex = -(dBdt/2)*(-ry)\n",
    "Ey = -(dBdt/2)*(rx)\n",
    "plt.quiver(rx,ry,Ex,Ey)"
   ]
  },
  {
   "cell_type": "markdown",
   "metadata": {},
   "source": [
    "<!-- dom:FIGURE:[fig-faradayslaw/faradayslaw-circularfield-020.png, width=600 frac=0.5] Plot of the electric field (or the current density) associated with a time-varying magnetic field along the $z$-axis. <div id=\"fig:faradayslaw-circularfield-020\"></div> -->\n",
    "<!-- begin figure -->\n",
    "<div id=\"fig:faradayslaw-circularfield-020\"></div>\n",
    "\n",
    "<p>Plot of the electric field (or the current density) associated with a time-varying magnetic field along the $z$-axis.</p>\n",
    "<img src=\"fig-faradayslaw/faradayslaw-circularfield-020.png\" width=600>\n",
    "\n",
    "<!-- end figure -->\n",
    "\n",
    "\n",
    "We can also solve this by applying an approach similar to Ampere's law by realizing that for a circular path of radius $r$ around the center of the cylinder we have"
   ]
  },
  {
   "cell_type": "markdown",
   "metadata": {},
   "source": [
    "<!-- Equation labels as ordinary links -->\n",
    "<div id=\"_auto59\"></div>\n",
    "\n",
    "$$\n",
    "\\begin{equation}\n",
    "\\oint_C \\mathbf{E} \\cdot \\mathrm{d} \\mathbf{l} = - \\frac{\\mathrm{d} \\Phi}{\\mathrm{d} t } = - B_z \\pi r^2 \\; .\n",
    "\\label{_auto59} \\tag{61}\n",
    "\\end{equation}\n",
    "$$"
   ]
  },
  {
   "cell_type": "markdown",
   "metadata": {},
   "source": [
    "Due to rotational symmetry, we expect $E$ not to have any dependence on $\\phi$, and therefore:"
   ]
  },
  {
   "cell_type": "markdown",
   "metadata": {},
   "source": [
    "<!-- Equation labels as ordinary links -->\n",
    "<div id=\"_auto60\"></div>\n",
    "\n",
    "$$\n",
    "\\begin{equation}\n",
    "\\oint_C \\mathbf{E} \\cdot \\mathrm{d} \\mathbf{l} = 2 \\pi r E_{\\phi} = - B_z \\pi r^2 \\; \n",
    "\\label{_auto60} \\tag{62}\n",
    "\\end{equation}\n",
    "$$"
   ]
  },
  {
   "cell_type": "markdown",
   "metadata": {},
   "source": [
    "and"
   ]
  },
  {
   "cell_type": "markdown",
   "metadata": {},
   "source": [
    "<!-- Equation labels as ordinary links -->\n",
    "<div id=\"_auto61\"></div>\n",
    "\n",
    "$$\n",
    "\\begin{equation}\n",
    "E_{\\phi} = - \\frac{r}{2}B_z \\; ,\n",
    "\\label{_auto61} \\tag{63}\n",
    "\\end{equation}\n",
    "$$"
   ]
  },
  {
   "cell_type": "markdown",
   "metadata": {},
   "source": [
    "which is identical to what we found above. This method is considered a curiosity, demonstrating how the methods we develop can be transfered to new areas if the equations are similar.\n",
    "\n",
    "## Example: Skin effects\n",
    "\n",
    "What is the impact of induced currents on the current distribution in a cylindrical conducting wire of radius $a$ carrying a time-varying current?\n",
    "\n",
    "**Solution:**\n",
    "\n",
    "Fig. [fig:faradayslaw-skin-010](#fig:faradayslaw-skin-010) illustrates a cylindrical conductor carrying an alternating current $I$. If we know the current density $\\mathbf{J}$ in the conductor, we can calculate the magnetic field $\\mathbf{B}$ due to the current, and then we can calculate the current induced by the magnetic field.\n",
    "\n",
    "<!-- dom:FIGURE:[fig-faradayslaw/faradayslaw-skin-010.png, width=600 frac=0.6] Illustration of a cylindrical conductor with a time-varying current $I$. The current induces the magnetic field $\\mathbf{B}$. The integration path $C$ is used with Faraday's law to find the induced emf. <div id=\"fig:faradayslaw-skin-010\"></div> -->\n",
    "<!-- begin figure -->\n",
    "<div id=\"fig:faradayslaw-skin-010\"></div>\n",
    "\n",
    "<p>Illustration of a cylindrical conductor with a time-varying current $I$. The current induces the magnetic field $\\mathbf{B}$. The integration path $C$ is used with Faraday's law to find the induced emf.</p>\n",
    "<img src=\"fig-faradayslaw/faradayslaw-skin-010.png\" width=600>\n",
    "\n",
    "<!-- end figure -->\n",
    "\n",
    "\n",
    "Let us first assume that the current $I$ is uniformly distributed across the cross section. We use Ampere's law on a circular integration curve with radius $r$ around the center of the cylinder and get"
   ]
  },
  {
   "cell_type": "markdown",
   "metadata": {},
   "source": [
    "<!-- Equation labels as ordinary links -->\n",
    "<div id=\"_auto62\"></div>\n",
    "\n",
    "$$\n",
    "\\begin{equation}\n",
    "\\int_C \\mathbf{B} \\cdot \\mathrm{d} \\mathbf{l} = B 2 \\pi r = \\mu_0 I \\frac{\\pi r^2}{\\pi a^2} \\quad \\Rightarrow \\quad \\mathbf{B} = \\frac{\\mu_0 rI}{2 \\pi a^2}\\boldsymbol{\\hat{\\phi}} \\; ,\n",
    "\\label{_auto62} \\tag{64}\n",
    "\\end{equation}\n",
    "$$"
   ]
  },
  {
   "cell_type": "markdown",
   "metadata": {},
   "source": [
    "when $r<a$. We then use Faraday's law around an integration loop $C_2$ as illustrated in the figure"
   ]
  },
  {
   "cell_type": "markdown",
   "metadata": {},
   "source": [
    "<!-- Equation labels as ordinary links -->\n",
    "<div id=\"_auto63\"></div>\n",
    "\n",
    "$$\n",
    "\\begin{equation}\n",
    "e = \\int_C \\mathbf{E} \\cdot \\mathrm{d} \\mathbf{l} = - \\frac{\\mathrm{d} \\Phi }{\\mathrm{d} t} \\; .\n",
    "\\label{_auto63} \\tag{65}\n",
    "\\end{equation}\n",
    "$$"
   ]
  },
  {
   "cell_type": "markdown",
   "metadata": {},
   "source": [
    "Let us analyze what happens if the current $I$ increases. Then $B$ increases and $\\Phi$ increases in magnitude. However, for the loop $C$ the flux is negative, so that the flux decreases and as a result the emf along the loop is positive. This means that the current density will be smaller in the center of the wire and larger at the outer edge of the wire. This effect will increase as higher frequencies for the current variations, because the emf depends on the rate of change of the flux, which increases with higher frequency. At higher frequencies the current will be localized toward the edges of the wire.\n",
    "\n",
    "This problem can be solved by finding the current density $J = J(r)$, which is related to the electric field through $J(r) = \\sigma E(r)$, and then use Ampere's law and Faraday's law on differential form. In this case, we find that the current is concentrated in a region of thickness $\\delta = 1/\\sqrt{\\pi f \\mu \\sigma}$, where $f$ is the frequency for the current oscillations. This means that the current is concentrated in the outer part of the conductor. We call this effect a *skin effect*. For copper we get $\\delta \\simeq 1 \\text{cm}$ for $50$Hz and $\\delta \\simeq 5 \\mu\\text{m}$ for 100MHz. This is why many cables only have a thin layer of highly conducting material on the outside and then a less conducting material and a cheaper or more mechanically strong material in the center.\n",
    "\n",
    "## Example: Numerical solution for electric field\n",
    "\n",
    "# Summary\n",
    "\n",
    "The **electromotoric force**, **emf**, is defined as"
   ]
  },
  {
   "cell_type": "markdown",
   "metadata": {},
   "source": [
    "$$\n",
    "e = \\oint_C \\left( \\mathbf{f}_{NC} + \\mathbf{E} \\right) \\cdot \\mathrm{d} \\mathbf{l} \\; .\n",
    "$$"
   ]
  },
  {
   "cell_type": "markdown",
   "metadata": {},
   "source": [
    "The universal flux rule or **Faraday's law** states that"
   ]
  },
  {
   "cell_type": "markdown",
   "metadata": {},
   "source": [
    "$$\n",
    "e = \\oint_C \\left( \\mathbf{f}_{NC} + \\mathbf{E}\\right) \\cdot \\mathrm{d} \\mathbf{l} = - \\frac{\\mathrm{d}}{\\mathrm{d} t}\\int_S \\mathbf{B} \\cdot \\mathrm{d} \\mathbf{S} = - \\frac{\\mathrm{d}}{\\mathrm{d} t} \\Phi \\; .\n",
    "$$"
   ]
  },
  {
   "cell_type": "markdown",
   "metadata": {},
   "source": [
    "This law is valid both when the change in flux is due to a change in the circuit and when the change in flux is due to a time-varying magnetic field.\n",
    "\n",
    "We can include the emf from Faraday's law in the voltage drops in **Kirchoff's voltage law** so that the sum of voltage drops along a circuit is"
   ]
  },
  {
   "cell_type": "markdown",
   "metadata": {},
   "source": [
    "$$\n",
    "\\sum_i \\Delta V_i = 0\n",
    "$$"
   ]
  },
  {
   "cell_type": "markdown",
   "metadata": {},
   "source": [
    "where we include $\\Delta V_i = - \\mathrm{d} \\Phi/\\mathrm{d} t$ for Faraday's law, $\\Delta V_i = V_b$ for other sources such as a battery, and $\\Delta V_i = -RI$ for a resistor.\n",
    "\n",
    "**Faraday's law on differential form** states:"
   ]
  },
  {
   "cell_type": "markdown",
   "metadata": {},
   "source": [
    "$$\n",
    "\\nabla \\times \\mathbf{E} = - \\frac{\\partial \\mathbf{B}}{\\partial t} \\; .\n",
    "$$"
   ]
  },
  {
   "cell_type": "markdown",
   "metadata": {},
   "source": [
    "# Exercises\n",
    "\n",
    "### Learning outcomes\n",
    "\n",
    "(1) Understand the concept of emf and how various processes can contribute to emf, (2) be able to reason qualitatively using Lenz law, (3) Recognize symmetries to apply Faraday's law to stationary and moving circuits, (4) Use line integrals to find the non-coloumbic $\\mathbf{E}$-field.\n",
    "\n",
    "## Test yourself\n",
    "\n",
    "## Discussion exercises\n",
    "\n",
    "\n",
    "\n",
    "<!-- --- begin exercise --- -->\n",
    "\n",
    "## Exercise 1: Rotasjon av en kvadratisk krets\n",
    "\n",
    "En kvadratisk krets er i et område med et uniformt (i rommet) og konstant (i tiden) magnetfelt. Kan kretsen roteres om en akse langs en av sidene på kretsen uten at en emf dannes i kretsen? Diskuter for forskjellige orienteringer av rotasjonsaksen i forhold til retningen til det magnetiske feltet.\n",
    "\n",
    "<!-- --- end exercise --- -->\n",
    "\n",
    "\n",
    "\n",
    "\n",
    "<!-- --- begin exercise --- -->\n",
    "\n",
    "## Exercise 2: Force on copper plate\n",
    "\n",
    "A copper plate is placed between the poles of an electromagnet with a magnetic field perpendicular to the plate. When the plate is pulled out a noticeable force is necessary and the force required increases with the velocity of the plate. Explain this phenomenon.\n",
    "\n",
    "<!-- --- end exercise --- -->\n",
    "\n",
    "\n",
    "\n",
    "\n",
    "<!-- --- begin exercise --- -->\n",
    "\n",
    "## Exercise 3: Ring på linjen\n",
    "\n",
    "En lang, rett leder passerer gjennom sentrum av en metallring. Lederen står normalt på planet til ringen. Hva skjer hvis strømmen i lederen endres? Forklar!\n",
    "\n",
    "<!-- Hvis strømmen i lederen øker, vil det induseres en strøm i ringen? Forklar. -->\n",
    "<!-- --- end exercise --- -->\n",
    "\n",
    "\n",
    "## Tutorials\n",
    "\n",
    "\n",
    "\n",
    "<!-- --- begin exercise --- -->\n",
    "\n",
    "## Exercise 4: Motional emf\n",
    "\n",
    "(*Based on a tutorial by Steven Pollock*)\n",
    "\n",
    "A neutral metal bar is being pulled at constant velocity, speed $v$, to the right through a uniform magnetic field of magnitude $B$, as shown. The bar has been moving for some long time, and has achieved a dynamic steady-state.\n",
    "\n",
    "<!-- dom:FIGURE:[fig-faradayslaw/faradayslaw-motionalemf-010.png, height=400 width=600 frac=0.5] -->\n",
    "<!-- begin figure -->\n",
    "\n",
    "<p></p>\n",
    "<img src=\"fig-faradayslaw/faradayslaw-motionalemf-010.png\" height=400 width=600>\n",
    "\n",
    "<!-- end figure -->\n",
    "\n",
    "\n",
    "\n",
    "**a)**\n",
    "What is the magnetic force on charges in the bar (direction and magnitude)?\n",
    "\n",
    "\n",
    "\n"
   ]
  },
  {
   "cell_type": "markdown",
   "metadata": {},
   "source": [
    "\n",
    "**b)**\n",
    "In the diagram, sketch the distribution of charges in the bar.\n",
    "\n",
    "\n",
    "\n",
    "**c)**\n",
    "What is the electric field in the bar (direction and magnitude)?\n",
    "\n",
    "<!-- --- begin hint in exercise --- -->\n",
    "\n",
    "**Hint.**\n",
    "Remember that the bar has reached a dynamic steady-state.\n",
    "\n",
    "<!-- --- end hint in exercise --- -->\n",
    "\n",
    "\n",
    "\n",
    "Now consider a rectangular metal loop of height $L$, moving to the right with speed $v$, which is exiting a region with a constant magnetic field, magnitude $B$.\n",
    "\n",
    "<!-- dom:FIGURE:[fig-faradayslaw/faradayslaw-motionalemf-030.png, height=400 width=600 frac=0.5] -->\n",
    "<!-- begin figure -->\n",
    "\n",
    "<p></p>\n",
    "<img src=\"fig-faradayslaw/faradayslaw-motionalemf-030.png\" height=400 width=600>\n",
    "\n",
    "<!-- end figure -->\n",
    "\n",
    "\n",
    "**d)**\n",
    "The emf around any loop, $C$, is defined as $e = \\oint_C \\mathbf{f} \\cdot d \\mathbf{l}$, where $\\mathbf{f}$ is the force per charge. What is the emf around the metal loop? (You should do this without using Faraday's law).\n",
    "\n"
   ]
  },
  {
   "cell_type": "markdown",
   "metadata": {},
   "source": [
    "\n",
    "**e)**\n",
    "What is the magnetic flux, $\\Phi$, through the metal loop? (Define any new symbols used.)\n",
    "\n"
   ]
  },
  {
   "cell_type": "markdown",
   "metadata": {},
   "source": [
    "\n",
    "**f)**\n",
    "Compute the time derivative of the flux through the loop $d\\Phi/dt$ and compare with your computed emf. There is a +/- sign\n",
    "that you should worry about.\n",
    "\n"
   ]
  },
  {
   "cell_type": "markdown",
   "metadata": {},
   "source": [
    "\n",
    "<!-- --- end exercise --- -->\n",
    "\n",
    "\n",
    "\n",
    "\n",
    "<!-- --- begin exercise --- -->\n",
    "\n",
    "## Exercise 5: Faraday's law\n",
    "\n",
    "Faraday's law on differential form is"
   ]
  },
  {
   "cell_type": "markdown",
   "metadata": {},
   "source": [
    "<!-- Equation labels as ordinary links -->\n",
    "<div id=\"_auto71\"></div>\n",
    "\n",
    "$$\n",
    "\\begin{equation}\n",
    "\\nabla \\times E = -\\frac{\\partial \\mathbf{B} }{\\partial t} \\; .\n",
    "\\label{_auto71} \\tag{73}\n",
    "\\end{equation}\n",
    "$$"
   ]
  },
  {
   "cell_type": "markdown",
   "metadata": {},
   "source": [
    "**a)**\n",
    "Consider a very long solenoid of radius $R$ with $n$ turns per length and current $I$. Compute the $\\mathbf{B}$-field everywhere. (You can assume that the $\\mathbf{B}$-field is zero outside the solenoid.)\n",
    "\n",
    "\n",
    "\n"
   ]
  },
  {
   "cell_type": "markdown",
   "metadata": {},
   "source": [
    "\n",
    "**b)**\n",
    "Suppose the current $I$ in the solenoid is increasing at a steady rate $I(t) = C t$, where $C$ is a constant. Where do you think there is an $\\mathbf{E}$-field? (Inside the solenoid? Outside? Everywhere? Nowhere? ) What do you think the $\\mathbf{E}$-field looks like? For now, just use your intuition, we’ll check with calculations later.\n",
    "\n",
    "**c)**\n",
    "Use Faraday’s Law in integral form to compute the electric field inside the solenoid. Specify the loop you chose for the integral.\n",
    "\n",
    "\n",
    "\n",
    "**d)**\n",
    "Use Faraday's law to compute the $\\mathbf{E}$-field outside the solenoid.\n",
    "\n",
    "\n",
    "\n",
    "<!-- --- end exercise --- -->\n",
    "\n",
    "\n",
    "\n",
    "\n",
    "<!-- --- begin exercise --- -->\n",
    "\n",
    "## Exercise 6: Self-inductance\n",
    "\n",
    "*In this tutorial we will focus on the strategy and procedure used to find the self-inductance $L$ of a component. The strategy is similar to the strategies we have used to find the resistance and the capacitance of a component. The general strategy is that (1) we assume that a current $I$ runs through the component, (2) we find the magnetic field $\\mathbf{B}$ due to this current, (3) we find the flux $\\Phi$ of this magnetic field through the curve $C$ with the current $I$, and (4) we find the self-inductance $L = \\Phi / I$.*\n",
    "\n",
    "We will address a long cylindrical solenoid of length $h$, radius $R$ and $N$ turns of the wire.\n",
    "\n",
    "\n",
    "**a)**\n",
    "Make a sketch of the solenoid as seen from above and from the side. Mark the direction of the current $I$ through the solenoid in each of the drawings.\n",
    "\n",
    "\n",
    "\n",
    "**b)**\n",
    "Assume that a current $I$ runs through the wire. Use Amperes law for a well-chosen path to find the magnetic field $\\mathbf{B}$ inside the solenoid. (You can assume that the magnetic field $\\mathbf{B}$ is zero outside the solenoid). The field is a vector and should have a magnitude and a direction!\n",
    "\n"
   ]
  },
  {
   "cell_type": "markdown",
   "metadata": {},
   "source": [
    "\n",
    "**c)**\n",
    "Find the flux of the magnetic field $\\mathbf{B}$ through the loop(s) of the wire. We recall that there are $N$ loops of the wire, hence the relevant area is $N \\pi R^2$:\n",
    "\n"
   ]
  },
  {
   "cell_type": "markdown",
   "metadata": {},
   "source": [
    "\n",
    "**d)**\n",
    "Show that the self-inductance is $L = \\frac{\\mu_0 \\pi R^2 N^2}{h}$.\n",
    "\n",
    "\n",
    "\n",
    "<!-- --- end exercise --- -->\n",
    "\n",
    "\n",
    "## Homework\n",
    "\n",
    "\n",
    "\n",
    "<!-- --- begin exercise --- -->\n",
    "\n",
    "## Exercise 7: Stav på skinner i magnetfelt\n",
    "\n",
    "En stav med masse $m$ går på skinner i et magnetfelt. Skinnene er koblet sammen med en ledning ved $x=0$, slik at staven og skinnene sammen med denne ledningen danner en lukket krets. Avstanden mellom skinnene er $l$, og motstanden i staven er $R$.\n",
    "\n",
    "<!-- dom:FIGURE: [fig-faradayslaw/stav_skinner.png, width=600] -->\n",
    "<!-- begin figure -->\n",
    "\n",
    "<p></p>\n",
    "<img src=\"fig-faradayslaw/stav_skinner.png\" width=600>\n",
    "\n",
    "<!-- end figure -->\n",
    "\n",
    "\n",
    "Vi skal foreløpig anta at skinnene og ledningen er ideelle ledere, slik at den totale motstanden i kretsen er $R$. Ved tiden $t=0$ beveger staven seg i positiv $x$-retning med hastighet $v_0$.\n",
    "\n",
    "\n",
    "**a)**\n",
    "Beregn emf'en i kretsen med Lorentz' kraftlov, og indiker bidraget fra de forskjellige delene av kretsen.\n",
    "\n",
    "\n",
    "\n",
    "**b)**\n",
    "Beregn emf'en med Faradays lov. Stemmer denne med emf'en du regnet ut i forrige oppgave?\n",
    "\n",
    "**c)**\n",
    "Finn størrelse og retning på strømmen i kretsen.\n",
    "\n",
    "**d)**\n",
    "Bestem bevegelsen til staven for $t>0$. Kan du sjekke om svaret stemmer ved å bruke energibevaring?\n",
    "\n",
    "\n",
    "Vi skal i resten av oppgaven anta at det er motstand i skinnene, og at disse skinnene har resistivitet $\\rho$ og tverrsnittareal $A$. Staven og ledningen mellom skinnene antas nå å være ideelle ledere. Vi kan få dette til å bli en god tilnærming ved å velge et litt dårlig ledende materiale for skinnene. \n",
    "\n",
    "**e)**\n",
    "Hva er motstanden i kretsen som funksjon av posisjonen $x$ til staven?\n",
    "\n",
    "**f)**\n",
    "Lag et program som beregner bevegelsen til staven når den starter ved $x=1 \\text{m}$ med hastighet $v_0$.\n",
    "\n",
    "Du skal nå lage en bremsemekanisme for en rollercoaster. Du har tilgjengelig elektromagneter som lar deg sette opp et vilkårlig felt $B(x)$ langs de siste 100 meter av rollercoasteren, og du kan velge selv hvordan du vil plassere kabelen som kobler skinnene sammen. Anta at akslingen mellom bakhjulene på vognene er ledende, mens de øvrige akslingene er isolerende.  \n",
    "\n",
    "**g)**\n",
    "Gjør simuleringer for å avgjøre hva som vil være et fornuftig $B$-felt, og hvor det er lurt å plassere kabelen. (Denne deloppgaven er større enn de andre deloppgavene. Vi stiller som absolutt krav for å få obligen godkjent at du har gjort et ærlig forsøk på denne deloppgaven).\n",
    "\n",
    "<!-- --- begin hint in exercise --- -->\n",
    "\n",
    "**Hint.**\n",
    "Du trenger å finne eller gjette på verdier for massen og hastigheten til vognene når oppbremsingen starter.\n",
    "\n",
    "<!-- --- end hint in exercise --- -->\n",
    "\n",
    "<!-- --- end exercise --- -->\n",
    "\n",
    "\n",
    "\n",
    "\n",
    "<!-- --- begin exercise --- -->\n",
    "\n",
    "## Exercise 8: Inhomogeneous field\n",
    "\n",
    "You pull a quadratic current loop with side $L$ with a constant velocity $v_0$ along the $x$-axis as illustrated in the figure. The current loop is oriented in the $xy$-plane. There is a magnetic field $\\mathbf{B}(x,y,z) = B(x,y,z) \\mathbf{\\hat{z}}$. The current loop has a resistance $R$. You may ignore the magnetic field generated by the current in the loo. At the time $t=0$, the left side of the loop is in the position $x =0$.\n",
    "\n",
    "<!-- dom:FIGURE:[fig-faradayslaw/faradayslaw-ex-movingcircuit-010.png, height=400 width=600 frac=0.4] -->\n",
    "<!-- begin figure -->\n",
    "\n",
    "<p></p>\n",
    "<img src=\"fig-faradayslaw/faradayslaw-ex-movingcircuit-010.png\" height=400 width=600>\n",
    "\n",
    "<!-- end figure -->\n",
    "\n",
    "\n",
    "\n",
    "**a)**\n",
    "Assume that the magnetic field is $\\mathbf{B}(x,y,z) = B_0 \\mathbf{\\hat{z}}$ where $B_0$ is a constant. What is the induced current $I$ in the loop at a time $t$?\n",
    "\n",
    "\n",
    "\n"
   ]
  },
  {
   "cell_type": "markdown",
   "metadata": {},
   "source": [
    "\n",
    "**b)**\n",
    "Assume instead that the magnetic field is $\\mathbf{B}(x,y,z) = B_0 (x/L) \\mathbf{\\hat{z}}$. What i the induced current $I$ in the loop at a time $t$?\n",
    "\n",
    "\n",
    "\n"
   ]
  },
  {
   "cell_type": "markdown",
   "metadata": {},
   "source": [
    "\n",
    "**c)**\n",
    "Assume that the magnetic field has the general form $\\mathbf{B}(x,y,z) = B(x) \\mathbf{\\hat{z}}$. What is the induced current $I$ in the loop at a time $t$?\n",
    "\n",
    "\n",
    "\n"
   ]
  },
  {
   "cell_type": "markdown",
   "metadata": {},
   "source": [
    "\n",
    "\n",
    "\n",
    "<!-- --- end exercise --- -->\n",
    "\n",
    "\n",
    "# References"
   ]
  }
 ],
 "metadata": {
  "kernelspec": {
   "display_name": "Python 3",
   "language": "python",
   "name": "python3"
  },
  "language_info": {
   "codemirror_mode": {
    "name": "ipython",
    "version": 3
   },
   "file_extension": ".py",
   "mimetype": "text/x-python",
   "name": "python",
   "nbconvert_exporter": "python",
   "pygments_lexer": "ipython3",
   "version": "3.7.6"
  }
 },
 "nbformat": 4,
 "nbformat_minor": 2
}
