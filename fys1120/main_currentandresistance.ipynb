{
 "cells": [
  {
   "cell_type": "markdown",
   "metadata": {},
   "source": [
    "<!-- dom:TITLE: Current and resistance -->\n",
    "# Current and resistance\n",
    "<!-- dom:AUTHOR: Anders Malthe-Sørenssen Email:malthe@fys.uio.no at Department of Physics, University of Oslo -->\n",
    "<!-- Author: -->  \n",
    "**Anders Malthe-Sørenssen** (email: `malthe@fys.uio.no`), Department of Physics, University of Oslo\n",
    "\n",
    "Date: **Sep 5, 2020**\n",
    "\n",
    "<!-- Common Mako variables and functions -->\n",
    "\n",
    "\n",
    "\n",
    "\n",
    "\n",
    "\n",
    "\n",
    "\n",
    "\n",
    "We have seen that under equilibrium conditions --- after a very long time --- all charges in conductors have moved to positions so that the system is in equilibrium and there are no more charges moving. In this case, the conductor is an equipotential surface and all field lines are perpendicular to the surface.\n",
    "\n",
    "In this chapter, we will address what happens when charges are moving due to an electric field: The electric field is not zero and charges move. We can induce this situation by applying a potential difference across a resistor.\n",
    "\n",
    "The existence of an electric field means that charges will move inside the conductor, leading to an electric *current*, but in most materials there will also be an internal resistance to flow, corresponding to a *resistance*. In this chapter, we will introduce and quantify the concept of current density and how it is related to the local electric field through Ohm's law through a constant of proportionality called the resistivity. We will introduce the term *resistor* for a component that has a resistivity, and we will introduce a systematic method to calculate the resistance of resistors. We will also introduce conservation laws for currents, which follow from the conservation of charge. Finally, we will introduce numerical methods to calculate the current distribution in non-ideal conductors, so that we can model the flow of charge in complex situations.\n",
    "\n",
    "# Current\n",
    "\n",
    "\n",
    "Fig. [fig:current-definecurrent-010](#fig:current-definecurrent-010) illustrates a cross-section through a resistor conductor. Let us assume that charges are moving along the conductor so that a charge $\\Delta q$ passes through the cross-sectional area $A$ in a short time interval $\\Delta t$. We define the *current*, $I$, through the cross-sectional area $A$ as the instantaneous rate at which positive charges are passing through the surface: $I = \\Delta q/ \\Delta t = dq/dt$.\n",
    "\n",
    "<!-- dom:FIGURE:[fig-currentandresistance/current-definecurrent-010.png, width=600 frac=0.6] Illustration of a conductor of cross-section $A$ passing through a surface $S$. An amount of charge $\\Delta q$ is passing through the surface along the conductor in a short time $\\Delta t$. <div id=\"fig:current-definecurrent-010\"></div> -->\n",
    "<!-- begin figure -->\n",
    "<div id=\"fig:current-definecurrent-010\"></div>\n",
    "\n",
    "<p>Illustration of a conductor of cross-section $A$ passing through a surface $S$. An amount of charge $\\Delta q$ is passing through the surface along the conductor in a short time $\\Delta t$.</p>\n",
    "<img src=\"fig-currentandresistance/current-definecurrent-010.png\" width=600>\n",
    "\n",
    "<!-- end figure -->\n",
    "\n",
    "\n",
    "**Definition of current.**\n",
    "\n",
    "The **current** $I$ through a surface $S$ is defined as the instantanenous rate at which positive charges are passing through the surface:"
   ]
  },
  {
   "cell_type": "markdown",
   "metadata": {},
   "source": [
    "<!-- Equation labels as ordinary links -->\n",
    "<div id=\"_auto1\"></div>\n",
    "\n",
    "$$\n",
    "\\begin{equation}\n",
    "I = \\frac{\\mathrm{d} q}{\\mathrm{d} t}\n",
    "\\label{_auto1} \\tag{1}\n",
    "\\end{equation}\n",
    "$$"
   ]
  },
  {
   "cell_type": "markdown",
   "metadata": {},
   "source": [
    "where $\\mathrm{d} q$ is the amount of charge passing through the surface $S$ in an infinitesimal time $\\mathrm{d} t$. Current is measured in coulombs per second (C/s), which is called **Ampere** in the SI system. Ampere is considered a basic unit in the SI system, such as kg, meters or seconds.\n",
    "\n",
    "\n",
    "\n",
    "## Microscopic picture\n",
    "\n",
    "\n",
    "How can we relate the concept of current to the microscopic picture of charges and electric fields we have introduced so far? What happens to a particle with charge $q$, such as an electron, inside a real  conductor? We often call such a particle a charge carrier. Fig. [fig:current-chargeinmetal-010](#fig:current-chargeinmetal-010) illustrates a real conductor such as a metal. Such a system consists of a sea of electrons that can move and a stationary lattice of positive charges, ions, that are vibrating, but otherwise not moving far from their positions in the lattice. If we apply an electric field $\\vec{E}$ to this system, a small charge $q$, such as an electron, will be subject to a force $\\vec{F} = q \\vec{E}$. \n",
    "\n",
    "<!-- dom:FIGURE:[fig-currentandresistance/current-chargeinmetal-010.png, width=600 frac=0.6] (Top) Illustration of a metal with a sea of freely moving electrons and a vibrating lattice of positive ions. (Middle) An electric field is applied, indicated by black arrows, leading to force on all the electron illustrated by red arrow. (Bottom) The motion of an electron is due to both the force from the external electric field and forces from collisions (interactions) with the lattice ions, resulting in a directed random walk. <div id=\"fig:current-chargeinmetal-010\"></div> -->\n",
    "<!-- begin figure -->\n",
    "<div id=\"fig:current-chargeinmetal-010\"></div>\n",
    "\n",
    "<p>(Top) Illustration of a metal with a sea of freely moving electrons and a vibrating lattice of positive ions. (Middle) An electric field is applied, indicated by black arrows, leading to force on all the electron illustrated by red arrow. (Bottom) The motion of an electron is due to both the force from the external electric field and forces from collisions (interactions) with the lattice ions, resulting in a directed random walk.</p>\n",
    "<img src=\"fig-currentandresistance/current-chargeinmetal-010.png\" width=600>\n",
    "\n",
    "<!-- end figure -->\n",
    "\n",
    "\n",
    " _d$}\n",
    "\n",
    "In Fig. [fig:current-chargeinmetal-010](#fig:current-chargeinmetal-010) we have illustrated the forces on one electron when we apply an external electric field and the subsequent motion. It bounces across the system under the influence of both the force from the external field and due to forces from the ions making up the lattice, creating a motion of many small random steps, but with an overall drift in the direction of the force from the electric field. After a time $\\Delta t$ the charge has moved a distance $\\Delta\\vec{r}$ as illustrated in the figure. This gives rise to an *average* or *drift* velocity, where all the small fluctuations have been averaged out, $\\vec{v}_d = \\Delta \\vec{r}/\\Delta t$.\n",
    "\n",
    "\n",
    "Let us now connect this picture with our definition of current by summing up the contributions from all the charge carriers in a small volume and finding how much charge moves through a surface $\\mathrm{d} \\vec{S}$ per unit time. We describe the charge carriers by $N$, the number of charge carriers per unit volume. The number of charge carriers in a small volume $\\mathrm{d} v$ is then $N \\mathrm{d} v$. We assume that each of these charge carriers have a charge $q$ and move with a drift velocity $\\vec{v}_d$. In a small time interval $\\mathrm{d} t$, each charge moves a distance $\\vec{v}_d d t$. Fig. [fig:current-currentthroughsurface-010](#fig:current-currentthroughsurface-010) illustrates the situation. All the charges that are in a volume $\\mathrm{d} v = v_d \\mathrm{d} t \\cos \\alpha \\, \\mathrm{d} S$ will have moved thorugh the surface $\\mathrm{d} S$ in the time $\\mathrm{d} t$, where $\\alpha$ is the angle between the surface normal to $\\mathrm{d} \\vec{S}$ and the velocity $\\vec{v}_d$ so that $\\mathrm{d} \\vec{S} \\cdot \\vec{v}_d = \\mathrm{d} S v_d \\cos \\alpha$ and $\\mathrm{d} v = \\vec{v}_d dt \\cdot d \\vec{S}$. \n",
    "\n",
    "<!-- dom:FIGURE:[fig-currentandresistance/current-currentthroughsurface-010.png, width=600 frac=1.0] Illustration of the volume $\\mathrm{d} v = v \\mathrm{d} t \\mathrm{d} S \\cos \\alpha$ moving through a surface $\\mathrm{d} \\vec{S}$ in a time interval $\\mathrm{d} t$. <div id=\"fig:current-currentthroughsurface-010\"></div> -->\n",
    "<!-- begin figure -->\n",
    "<div id=\"fig:current-currentthroughsurface-010\"></div>\n",
    "\n",
    "<p>Illustration of the volume $\\mathrm{d} v = v \\mathrm{d} t \\mathrm{d} S \\cos \\alpha$ moving through a surface $\\mathrm{d} \\vec{S}$ in a time interval $\\mathrm{d} t$.</p>\n",
    "<img src=\"fig-currentandresistance/current-currentthroughsurface-010.png\" width=600>\n",
    "\n",
    "<!-- end figure -->\n",
    "\n",
    "\n",
    "The amount of charge in the volume $\\mathrm{d} v$ is then $\\mathrm{d} q = N q \\mathrm{d} v$. The amount of charge flowing through the surface $\\mathrm{d} \\vec{S}$ in the time interval $\\mathrm{d} t$ is $N q \\vec{v}_d \\mathrm{d} t \\cdot \\mathrm{d} \\vec{S}$. This is the $\\mathrm{d} q$ in the definition of the current $\\mathrm{d} I$ through the surface $\\mathrm{d} \\vec{S}$:"
   ]
  },
  {
   "cell_type": "markdown",
   "metadata": {},
   "source": [
    "<!-- Equation labels as ordinary links -->\n",
    "<div id=\"_auto2\"></div>\n",
    "\n",
    "$$\n",
    "\\begin{equation}\n",
    "\\mathrm{d} I = \\frac{\\mathrm{d} q}{\\mathrm{d} t} = \\overbrace{N q \\vec{v}_d}_{\\vec{J}} \\cdot \\mathrm{d} \\vec{S} = \\vec{J} \\cdot \\mathrm{d} \\vec{S} \\; ,\n",
    "\\label{_auto2} \\tag{2}\n",
    "\\end{equation}\n",
    "$$"
   ]
  },
  {
   "cell_type": "markdown",
   "metadata": {},
   "source": [
    "where we introduce the term current density, $\\vec{J}$, so that"
   ]
  },
  {
   "cell_type": "markdown",
   "metadata": {},
   "source": [
    "<!-- Equation labels as ordinary links -->\n",
    "<div id=\"_auto3\"></div>\n",
    "\n",
    "$$\n",
    "\\begin{equation}\n",
    "\\mathrm{d} I = \\vec{J} \\cdot \\mathrm{d} \\vec{S} \\; ,\n",
    "\\label{_auto3} \\tag{3}\n",
    "\\end{equation}\n",
    "$$"
   ]
  },
  {
   "cell_type": "markdown",
   "metadata": {},
   "source": [
    "The total current $I$ through (an open) surface $S$ is therefore the sum of all these elements $\\mathrm{d} I$ integrated (summed) over the whole surface:"
   ]
  },
  {
   "cell_type": "markdown",
   "metadata": {},
   "source": [
    "<!-- Equation labels as ordinary links -->\n",
    "<div id=\"_auto4\"></div>\n",
    "\n",
    "$$\n",
    "\\begin{equation}\n",
    "I = \\int_S \\vec{J} \\cdot \\mathrm{d} \\vec{S} \\; .\n",
    "\\label{_auto4} \\tag{4}\n",
    "\\end{equation}\n",
    "$$"
   ]
  },
  {
   "cell_type": "markdown",
   "metadata": {},
   "source": [
    "$}\n",
    "\n",
    "**Current density.**\n",
    "\n",
    "We define the current density $\\vec{J}$ so that the current $\\mathrm{d} I$ through a surface element $\\mathrm{d} \\vec{S}$ is"
   ]
  },
  {
   "cell_type": "markdown",
   "metadata": {},
   "source": [
    "<!-- Equation labels as ordinary links -->\n",
    "<div id=\"_auto5\"></div>\n",
    "\n",
    "$$\n",
    "\\begin{equation}\n",
    "\\mathrm{d} I = \\vec{J} \\cdot \\mathrm{d} \\vec{S} \\; .\n",
    "\\label{_auto5} \\tag{5}\n",
    "\\end{equation}\n",
    "$$"
   ]
  },
  {
   "cell_type": "markdown",
   "metadata": {},
   "source": [
    "We can relate the current density to the volume density of charge carriers $N$, their charge $q$ and their drift velocity $\\vec{v}_d$ through"
   ]
  },
  {
   "cell_type": "markdown",
   "metadata": {},
   "source": [
    "<!-- Equation labels as ordinary links -->\n",
    "<div id=\"_auto6\"></div>\n",
    "\n",
    "$$\n",
    "\\begin{equation}\n",
    "\\vec{J} = N q \\vec{v}_d \\; .\n",
    "\\label{_auto6} \\tag{6}\n",
    "\\end{equation}\n",
    "$$"
   ]
  },
  {
   "cell_type": "markdown",
   "metadata": {},
   "source": [
    "If there is more than one type of charge carrier, the current density is the sum of the contributions from all the charge carriers, $\\vec{J} = \\sum_i N_i q_i \\vec{v}_{d,j}$.\n",
    "\n",
    "\n",
    "\n",
    "\n",
    "\n",
    "# Ohm's law and a microscopic theory for the drift velocity\n",
    "\n",
    "Our intuition is that the drift velocity $\\vec{v}_d$ must depend on the electric field, $\\vec{E}$. How can we use this to find a relation between the current density $\\vec{J}$ and the electric field? Here, we will introduce a microscopic theory for the motion of charge carriers and use this to derive Ohm's law: $\\vec{J} = \\sigma \\vec{E}$, where $\\sigma$ is called the conductivity of the material.\n",
    "\n",
    "Our goal is to relate the drift velocity $\\vec{v}_d$ to a classical microscopic picture of the processes in a metal by making a *microscopic model* of the process. (Notice that the movement of electrons in a conductor may be better described using quantum mechanics). We will assume that the electrons move about like in a gas, but collide with the vibrating ions in the crystal. Between each collision, we will assume that the electrons are only affected by the force from the electric field. This means that the velocity $\\vec{v}$ a time $t$ after a collision, and before a new collision, is:"
   ]
  },
  {
   "cell_type": "markdown",
   "metadata": {},
   "source": [
    "<!-- Equation labels as ordinary links -->\n",
    "<div id=\"_auto7\"></div>\n",
    "\n",
    "$$\n",
    "\\begin{equation}\n",
    "\\vec{v} = \\vec{v}_0 + (q/m) \\vec{E} t \\; ,\n",
    "\\label{_auto7} \\tag{7}\n",
    "\\end{equation}\n",
    "$$"
   ]
  },
  {
   "cell_type": "markdown",
   "metadata": {},
   "source": [
    "where $m$ is the mass of the electron, $q = -e$ is the charge of the electron, and $\\vec{v}_0$ is the velocity after a collision. Let us assume that time between each collision is $\\tau$. We call this the *mean free time*. How far does it come between each collision? The displacement is $\\Delta \\vec{r}$ (is the integral of $\\vec{v}$ over a time $\\tau$):"
   ]
  },
  {
   "cell_type": "markdown",
   "metadata": {},
   "source": [
    "<!-- Equation labels as ordinary links -->\n",
    "<div id=\"_auto8\"></div>\n",
    "\n",
    "$$\n",
    "\\begin{equation}\n",
    "\\Delta \\vec{r} = \\left( \\vec{v}_0 + \\frac{1}{2}\\frac{q}{m} \\vec{E}\\tau \\right) \\tau\n",
    "\\label{_auto8} \\tag{8}\n",
    "\\end{equation}\n",
    "$$"
   ]
  },
  {
   "cell_type": "markdown",
   "metadata": {},
   "source": [
    "Now, we take the average over many collision. (We use the symbols $\\langle a \\rangle$ to indicate a time average). The initial velocities, $\\vec{v}_0$ are in random directions, thus their average is zero. Averaged over many collisions, we find:"
   ]
  },
  {
   "cell_type": "markdown",
   "metadata": {},
   "source": [
    "<!-- Equation labels as ordinary links -->\n",
    "<div id=\"_auto9\"></div>\n",
    "\n",
    "$$\n",
    "\\begin{equation}\n",
    "\\langle \\Delta \\vec{r} \\rangle = \\frac{1}{2} \\frac{q}{m} \\vec{E} \\tau^2 \\; ,\n",
    "\\label{_auto9} \\tag{9}\n",
    "\\end{equation}\n",
    "$$"
   ]
  },
  {
   "cell_type": "markdown",
   "metadata": {},
   "source": [
    "and the average velocity, the *drift velocity*, is:"
   ]
  },
  {
   "cell_type": "markdown",
   "metadata": {},
   "source": [
    "<!-- Equation labels as ordinary links -->\n",
    "<div id=\"_auto10\"></div>\n",
    "\n",
    "$$\n",
    "\\begin{equation}\n",
    "\\vec{v}_d = \\langle \\vec{v} \\rangle = \\frac{\\langle \\Delta \\vec{r} \\rangle}{\\tau} = \\frac{q \\tau}{2m} \\vec{E} \\; .\n",
    "\\label{_auto10} \\tag{10}\n",
    "\\end{equation}\n",
    "$$"
   ]
  },
  {
   "cell_type": "markdown",
   "metadata": {},
   "source": [
    "The current density is therefore:"
   ]
  },
  {
   "cell_type": "markdown",
   "metadata": {},
   "source": [
    "<!-- Equation labels as ordinary links -->\n",
    "<div id=\"_auto11\"></div>\n",
    "\n",
    "$$\n",
    "\\begin{equation}\n",
    "\\vec{J} = N q \\vec{v}_d = \\frac{N q^2 \\tau}{2m} \\vec{E} = \\sigma \\vec{E} \\; . \n",
    "\\label{_auto11} \\tag{11}\n",
    "\\end{equation}\n",
    "$$"
   ]
  },
  {
   "cell_type": "markdown",
   "metadata": {},
   "source": [
    "This relation is general for many types of materials, and is called *Ohm's law*:"
   ]
  },
  {
   "cell_type": "markdown",
   "metadata": {},
   "source": [
    "<!-- Equation labels as ordinary links -->\n",
    "<div id=\"_auto12\"></div>\n",
    "\n",
    "$$\n",
    "\\begin{equation}\n",
    "\\vec{J} = \\sigma \\vec{E}\n",
    "\\label{_auto12} \\tag{12}\n",
    "\\end{equation}\n",
    "$$"
   ]
  },
  {
   "cell_type": "markdown",
   "metadata": {},
   "source": [
    "**Ohm's law (on local form).**\n",
    "\n",
    "Many real conducturs obey Ohm's law on local form:"
   ]
  },
  {
   "cell_type": "markdown",
   "metadata": {},
   "source": [
    "<!-- Equation labels as ordinary links -->\n",
    "<div id=\"_auto13\"></div>\n",
    "\n",
    "$$\n",
    "\\begin{equation}\n",
    "\\vec{J} = \\sigma \\vec{E} \\; ,\n",
    "\\label{_auto13} \\tag{13}\n",
    "\\end{equation}\n",
    "$$"
   ]
  },
  {
   "cell_type": "markdown",
   "metadata": {},
   "source": [
    "where $\\sigma$ is called the *conductivity*, $\\vec{J}$ is the current density and $\\vec{E}$ is the electric field. It tells us how well a material conducts (electrical) current. For an insulator $\\sigma = 0$, while for a superconductor / ideal conductor $\\sigma = \\infty$.\n",
    "\n",
    "Notice, that the *resistivity* $\\rho$ is $\\rho = 1/\\sigma$, which is what is often found in tables. The conductivity $\\sigma$ depends strongly on the temperature in a material. (In statistical physics you will learn about theories for the temperature dependence of $\\sigma$ based on quantum mechanics.)\n",
    "\n",
    "\n",
    "\n",
    "## Conductors and resistors\n",
    "\n",
    "You may now be confused because we earlier said that the electric field had to be zero inside an ideal conductor. Now we have to modify this picture. For good conductors such as metals, the electric field needed to drive an electric current is so small, that we will usually assume that the voltage drop along a real conductor is negligible: We will assume that the potential is constant along the conductor. However, non-conductors, such as semi-conductors and isolators, are made of poorly conducting materials, where there is a non-negligible field needed to drive a current and where we cannot ignore the potential drop along the insulator. We will usually model systems as combinations of *conductors*, which are the ideal condutors with no potential drop, and *resistors*, which is our model of the parts of a system that has a non-negligible resistivity.\n",
    "\n",
    "We usually group materials into *conductors*, *semi-conductors*, and *insulators*. The following table provides the resistivities for various common conductors (C), semi-conductors (S) and insultars (I) as $20^{\\circ}$ (Data from Handbook of Chemistry and Physics, 78th ed.)\n",
    "\n",
    "\n",
    "<table border=\"1\">\n",
    "<thead>\n",
    "<tr><th align=\"center\">  Material  </th> <th align=\"center\">    $\\rho$ (Ohm/m)   </th> <th align=\"center\">   Material   </th> <th align=\"center\">  $\\rho$  (Ohm/m)   </th> </tr>\n",
    "</thead>\n",
    "<tbody>\n",
    "<tr><td align=\"center\">   Silver (C)      </td> <td align=\"center\">   $1.59 \\times 10^{-8}$    </td> <td align=\"center\">   Salt water (S)    </td> <td align=\"center\">   $4.4 \\times 10^{-2}$    </td> </tr>\n",
    "<tr><td align=\"center\">   Copper (C)      </td> <td align=\"center\">   $1.68 \\times 10^{-8}$    </td> <td align=\"center\">   Diamond    (S)    </td> <td align=\"center\">   $2.7$                   </td> </tr>\n",
    "<tr><td align=\"center\">   Gold   (C)      </td> <td align=\"center\">   $2.21 \\times 10^{-8}$    </td> <td align=\"center\">   Silicon    (S)    </td> <td align=\"center\">   $2.5 \\times 10^{3}$     </td> </tr>\n",
    "<tr><td align=\"center\">   Aluminum (C)    </td> <td align=\"center\">   $2.65 \\times 10^{-8}$    </td> <td align=\"center\">   Water      (I)    </td> <td align=\"center\">   $2.5 \\times 10^{5}$     </td> </tr>\n",
    "<tr><td align=\"center\">   Iron (C)        </td> <td align=\"center\">   $9.61 \\times 10^{-8}$    </td> <td align=\"center\">   Wood       (I)    </td> <td align=\"center\">   $10^{8} - 10^{11}$      </td> </tr>\n",
    "<tr><td align=\"center\">   Graphene (C)    </td> <td align=\"center\">   $1    \\times 10^{-8}$    </td> <td align=\"center\">   Glass      (I)    </td> <td align=\"center\">   $10^{10} - 10^{14}$     </td> </tr>\n",
    "</tbody>\n",
    "</table>\n",
    "<!-- All values a 20 centigrade, source Handbook of Chemistry and Physics, 78th ed. (Boca Raton: eRC Press, Inc., 1997). -->\n",
    "\n",
    "\n",
    "\n",
    "\n",
    "# Resistance\n",
    "\n",
    "Let us apply this theory to find the current through a wire with a given conductivity $\\sigma$, constant cross-sectional area $S$ and length $L$ as illustrated in Fig. [fig:current-resistance-010](#fig:current-resistance-010). One side is at potential $V$ and the other at $V=0$. The wire has the same shape and cross-sectional area all across.\n",
    "\n",
    "<!-- dom:FIGURE:[fig-currentandresistance/current-resistance-010.png, width=600 frac=0.4] A wire with conductivity $\\sigma$ and a constant cross sectional area $S$ and length $L$ is subject to a potential difference $V$. <div id=\"fig:current-resistance-010\"></div> -->\n",
    "<!-- begin figure -->\n",
    "<div id=\"fig:current-resistance-010\"></div>\n",
    "\n",
    "<p>A wire with conductivity $\\sigma$ and a constant cross sectional area $S$ and length $L$ is subject to a potential difference $V$.</p>\n",
    "<img src=\"fig-currentandresistance/current-resistance-010.png\" width=600>\n",
    "\n",
    "<!-- end figure -->\n",
    "\n",
    "\n",
    "In order to find the current, we need to find the current density $\\vec{J}$ and integrate across the cross-section to find the current. How can we find the current density and relate it to the potential difference $V$? Our plan is to use Ohm's law to relate the current density to the electric field through Ohm's law, $\\vec{J} = \\sigma \\vec{E}$, and then use this to relate the current to the potential difference. We can do this by either first finding the electric field and then use this to find the current density, or by first finding the current density using symmetry consideration and use this to find the electric field. We will here demonstrate both these methods.\n",
    "\n",
    "## Method: From electric field to current density\n",
    "\n",
    "Our plan is to find the electric field, and then use the electric field to find both the current density and the potential difference. But how can we find the electric field? It may be tempting to assume that the component is similar to a parallel-plate capacitor. If the cross-sectional area $S$ is large compared to the spacing $L$, we would know that the electric field would be uniform *when there are no moving charges*. However, we now have a different situation. The length $L$ is not small compared to e.g. the diameter $a = 4\\sqrt{S}/\\pi$, and are we sure we can use the same types of arguments when charges are moving as when charges as stationary? We demonstrate in an example below that the electric field inside the conductor indeed is uniform also in this case, as for the parallel-plate capacitor, but for different reasons. (We can still use Laplace's equation, but we need to apply different boundary conditions).\n",
    "\n",
    "We place the system so that $L$ is along the $x$-axis. For a uniform field with a potential difference $V$, we see that the electric field is $E = V/L$ from $\\vec{E} = - \\nabla V$, and $E_x = - \\partial V/\\partial x = \\Delta V/\\Delta x = V/L$. Ohm's law gives the current density as $J_x =  \\sigma E_x = \\sigma V/L$, which also is uniform in space. The current across the area $S$ is then:"
   ]
  },
  {
   "cell_type": "markdown",
   "metadata": {},
   "source": [
    "<!-- Equation labels as ordinary links -->\n",
    "<div id=\"_auto14\"></div>\n",
    "\n",
    "$$\n",
    "\\begin{equation}\n",
    "I = \\int_S \\vec{J} \\cdot \\mathrm{d} S \\mathbf{\\hat{x}} = \\int_S J_x \\mathrm{d} S = \\sigma (V/L) \\int_S \\mathrm{d} S = \\sigma (V/L) S \\; .\n",
    "\\label{_auto14} \\tag{14}\n",
    "\\end{equation}\n",
    "$$"
   ]
  },
  {
   "cell_type": "markdown",
   "metadata": {},
   "source": [
    "We can now express the potential difference in terms of the current:"
   ]
  },
  {
   "cell_type": "markdown",
   "metadata": {},
   "source": [
    "<!-- Equation labels as ordinary links -->\n",
    "<div id=\"_auto15\"></div>\n",
    "\n",
    "$$\n",
    "\\begin{equation}\n",
    "V = \\underbrace{\\frac{L}{\\sigma S}}_{=R} I \n",
    "\\label{_auto15} \\tag{15}\n",
    "\\end{equation}\n",
    "$$"
   ]
  },
  {
   "cell_type": "markdown",
   "metadata": {},
   "source": [
    "The voltage (difference) $V$ is therefore proportional to the current $I$. We call this constant of proportionality the *resistance* $R$. We have now recovered Ohm's law for a resistor:\n",
    "\n",
    "**Ohm's law for a resistor.**\n",
    "\n",
    "The voltage drop $V$ across a resistor is given as"
   ]
  },
  {
   "cell_type": "markdown",
   "metadata": {},
   "source": [
    "<!-- Equation labels as ordinary links -->\n",
    "<div id=\"_auto16\"></div>\n",
    "\n",
    "$$\n",
    "\\begin{equation}\n",
    "V = R I \\; ,\n",
    "\\label{_auto16} \\tag{16}\n",
    "\\end{equation}\n",
    "$$"
   ]
  },
  {
   "cell_type": "markdown",
   "metadata": {},
   "source": [
    "where $R$ is a property of the resistor called the **resistance**. The resistance for a specific resistor can be calculated or measured experimentally. Resistance is measured in Ohm which is defined as Volt/Ampere. This is the law you may recall as Ohm's law. To differentiate it from $\\vec{J} = \\sigma \\vec{E}$, we will call $V = RI$ Ohm's law and $\\vec{J} = \\sigma \\vec{E}$ Ohm's law on local or microscopic form.\n",
    "\n",
    "\n",
    "\n",
    "## Method: From current density to electric field\n",
    "\n",
    "An alternative approach to find the resistance $R$ for a resistor is to assume a particular symmetry for the current density and then use this to find an expression for the electric field and the potential difference.\n",
    "\n",
    "For this particular problem we realize that the system is the same for any cross-section along the component. We therefore expect the current density $\\vec{J}$ also to be uniform along the $x$-axis. Similarly, the conductor is the same at any point in the cross section, so expect the current density also to be uniform across the whole cross section. There are no currents normal to the boundaries, as this would mean that current is leaking from the conductor out into the vacuum. This combined with the requirement that the current density is uniform, means that the current density is $\\vec{J} = J_x \\mathbf{\\hat{x}}$ everywhere inside the conductor and zero outside the conductor.\n",
    "\n",
    "Ohm's law on local form then gives us the electric field as $\\vec{E} = \\vec{J}/\\sigma = (J_x/\\sigma) \\mathbf{\\hat{x}}$. We can then find the potential difference from the left ($0$) to the right ($1$) across the length $L$ by"
   ]
  },
  {
   "cell_type": "markdown",
   "metadata": {},
   "source": [
    "<!-- Equation labels as ordinary links -->\n",
    "<div id=\"_auto17\"></div>\n",
    "\n",
    "$$\n",
    "\\begin{equation}\n",
    "V_1 - V_0 = \\int_0^1 \\vec{E} \\cdot \\mathrm{d} \\vec{l} = \\int_0^L \\frac{J_x}{\\sigma} dx = \\frac{J_x}{\\sigma} L \\; .\n",
    "\\label{_auto17} \\tag{17}\n",
    "\\end{equation}\n",
    "$$"
   ]
  },
  {
   "cell_type": "markdown",
   "metadata": {},
   "source": [
    "which gives $J_x = V \\sigma /L$, where the potential difference $V = V_1 - V_0$. We can also relate the current density to the current by"
   ]
  },
  {
   "cell_type": "markdown",
   "metadata": {},
   "source": [
    "<!-- Equation labels as ordinary links -->\n",
    "<div id=\"_auto18\"></div>\n",
    "\n",
    "$$\n",
    "\\begin{equation}\n",
    "I = \\int_S \\vec{J} \\cdot \\mathrm{d} S \\mathbf{\\hat{x}} = \\int_S J_x \\mathrm{d} S = J_x \\int_S \\mathrm{d} S = J_x S \\; .\n",
    "\\label{_auto18} \\tag{18}\n",
    "\\end{equation}\n",
    "$$"
   ]
  },
  {
   "cell_type": "markdown",
   "metadata": {},
   "source": [
    "So that $J_x = I/S$. We equate these two expressions for the current density, getting:"
   ]
  },
  {
   "cell_type": "markdown",
   "metadata": {},
   "source": [
    "<!-- Equation labels as ordinary links -->\n",
    "<div id=\"_auto19\"></div>\n",
    "\n",
    "$$\n",
    "\\begin{equation}\n",
    "\\frac{V \\sigma}{L} = \\frac{I}{S} \\; \\Rightarrow \\; V = \\frac{L}{\\sigma S} I = R I \\; .\n",
    "\\label{_auto19} \\tag{19}\n",
    "\\end{equation}\n",
    "$$"
   ]
  },
  {
   "cell_type": "markdown",
   "metadata": {},
   "source": [
    "We have therefore found the same result as above, but with a different starting point. The method we have used here is very similar to the method we used to find the capacitance for a capacitor.\n",
    "\n",
    "# Method: Calculating the resistance\n",
    "\n",
    "Finding the resistance of a resistor from first principles in electromagnetism is a process you should understand and a skill that you should learn. From these examples we see the pattern of a general method for calculating the resistance of a resistor --- following an approach which is very similar to what we developed for a capacitor. (We use the numbering from the capacitance method, which is the opposite of the order in which we solve the problem above).\n",
    "\n",
    "**Method: Finding the resistance of a system.**\n",
    "\n",
    "\n",
    "**Method 1: From current density to field to potential**:\n",
    "\n",
    "1. We assume that the current density, $\\vec{J}$, has a particular symmetry or form inside the conductors based on considerations of the physics and geometry of the system.\n",
    "\n",
    "2. We calculate the current, $I$, through a cross-section, $S$, of the conductor using $I = \\int_S \\vec{J} \\cdot \\mathrm{d} \\vec{S}$.\n",
    "\n",
    "3. We calculate the electric field $\\vec{E}$ using Ohm's law on local form: $\\vec{E} = \\vec{J}/\\sigma$.\n",
    "\n",
    "4. We calculate the potential difference between the two ends of the conductor, $V = \\int_0^1 \\vec{E} \\cdot \\mathrm{d} \\vec{S}$, using the electric field we found.\n",
    "\n",
    "5. We find the resistance from $R = V/I$, where we insert our value for $V$ and the value for $I$ we found from the current density. \n",
    "\n",
    "**Method 2: From potential to field to current**:\n",
    "\n",
    "1. We solve Laplace's equation to find the potential $V(\\vec{r})$ for the system. Boundary conditions are given by assuming that there is no flow normal to the conductors.\n",
    "\n",
    "2. We find the electric field $\\vec{E} = - \\nabla V$.\n",
    "\n",
    "3. We find the current density from Ohm's law on local form $\\vec{J} = \\sigma \\vec{E}$. We sum/integrate the current density to find the current through a cross-section $S$ through the conductor: $I = \\int_S \\vec{J} \\cdot \\mathrm{d} \\vec{S}$.\n",
    "\n",
    "4. We find the resistance from $R = V/I$, where we insert our value for $I$ and the potential difference $V = V_1-V_0$ we started with.\n",
    "\n",
    "\n",
    "\n",
    "We will mostly use method 2 in this text. Method 1 is generally more difficult, as you need to solve Laplace's equation with boundary conditions that can be complex for complex geometries.\n",
    "\n",
    "## Example: Spherical resistor\n",
    "\n",
    "Let us now use these methods to solve a more complicated problem: What is the resistance of a system consisting of a spherical shell resistor? The situation is illustrated in Fig. [fig:current-resistance-sphere-010](#fig:current-resistance-sphere-010).\n",
    "\n",
    "<!-- dom:FIGURE:[fig-currentandresistance/current-resistance-sphere-010.png, width=600 frac=1.0] Illustration of a cross-section through a resistor shaped as a spherical shell with inner radius $R_1$ and outer radius $R_2$. A potential difference $V$ is applied across the shell. <div id=\"fig:current-resistance-sphere-010\"></div> -->\n",
    "<!-- begin figure -->\n",
    "<div id=\"fig:current-resistance-sphere-010\"></div>\n",
    "\n",
    "<p>Illustration of a cross-section through a resistor shaped as a spherical shell with inner radius $R_1$ and outer radius $R_2$. A potential difference $V$ is applied across the shell.</p>\n",
    "<img src=\"fig-currentandresistance/current-resistance-sphere-010.png\" width=600>\n",
    "\n",
    "<!-- end figure -->\n",
    "\n",
    "\n",
    "Our plan is to use method 2 to address this problem. We assume that a constant, stationary current $I$ runs from the inner to the outer side of the spherical shell. Because the system has a spherical symmetry, we will assume that the current density also has spherical symmetry so that $\\vec{J} = J_r \\mathbf{\\hat{r}}$. (We do not expect any currents in the $\\Phi$ or $\\theta$ directions). The amount of charge per unit time $I = dq/dt$, through a spherical shell of radius $r$, where $R_1 < r < R_2$, must be the same for all $r$, otherwise charge would disappear. We calculate the current from the current density:"
   ]
  },
  {
   "cell_type": "markdown",
   "metadata": {},
   "source": [
    "<!-- Equation labels as ordinary links -->\n",
    "<div id=\"_auto20\"></div>\n",
    "\n",
    "$$\n",
    "\\begin{equation}\n",
    "I = \\int_S \\vec{J} \\cdot \\mathrm{d} \\vec{S} = 4 \\pi r^2 J_r \\; .\n",
    "\\label{_auto20} \\tag{20}\n",
    "\\end{equation}\n",
    "$$"
   ]
  },
  {
   "cell_type": "markdown",
   "metadata": {},
   "source": [
    "and the current density is"
   ]
  },
  {
   "cell_type": "markdown",
   "metadata": {},
   "source": [
    "<!-- Equation labels as ordinary links -->\n",
    "<div id=\"_auto21\"></div>\n",
    "\n",
    "$$\n",
    "\\begin{equation}\n",
    "\\vec{J} = \\frac{I}{4 \\pi r^2}\\mathbf{\\hat{r}} \\;  \\text{ for } R_1 < r < R_2 \n",
    "\\label{_auto21} \\tag{21}\n",
    "\\end{equation}\n",
    "$$"
   ]
  },
  {
   "cell_type": "markdown",
   "metadata": {},
   "source": [
    "The electric field is found from Ohm's law on local form: $\\vec{J} = \\sigma \\vec{E}$ and therefore $\\vec{E} = \\vec{J}/\\sigma$"
   ]
  },
  {
   "cell_type": "markdown",
   "metadata": {},
   "source": [
    "<!-- Equation labels as ordinary links -->\n",
    "<div id=\"_auto22\"></div>\n",
    "\n",
    "$$\n",
    "\\begin{equation}\n",
    "\\vec{E} = \\frac{I}{4 \\pi \\sigma r^2} \\mathbf{\\hat{r}} \\; . \n",
    "\\label{_auto22} \\tag{22}\n",
    "\\end{equation}\n",
    "$$"
   ]
  },
  {
   "cell_type": "markdown",
   "metadata": {},
   "source": [
    "We find the potential difference, $V$, from the electric field, which is the potential difference between the shell and the sphere, $V(R_2) = 0$ and $V(R_1)=V$. Hence we find"
   ]
  },
  {
   "cell_type": "markdown",
   "metadata": {},
   "source": [
    "<!-- Equation labels as ordinary links -->\n",
    "<div id=\"_auto23\"></div>\n",
    "\n",
    "$$\n",
    "\\begin{equation}\n",
    "V = V(R_1) = \\int_{R_1}^{\\infty} \\vec{E} \\cdot d \\vec{r} = \\int_{R_1}^{R_2} \\frac{I}{4 \\pi \\sigma r^2} dr = -\\frac{I}{4 \\pi \\sigma}\\left(\\frac{1}{R_2} - \\frac{1}{R_1} \\right) \\; .\n",
    "\\label{_auto23} \\tag{23}\n",
    "\\end{equation}\n",
    "$$"
   ]
  },
  {
   "cell_type": "markdown",
   "metadata": {},
   "source": [
    "Now, we are ready to relate $V$ to $I$, finding that"
   ]
  },
  {
   "cell_type": "markdown",
   "metadata": {},
   "source": [
    "<!-- Equation labels as ordinary links -->\n",
    "<div id=\"_auto24\"></div>\n",
    "\n",
    "$$\n",
    "\\begin{equation}\n",
    "R = \\frac{V}{I} = \\frac{1}{4 \\pi \\sigma} \\left( \\frac{1}{R_1} - \\frac{1}{R_2} \\right) \\; .\n",
    "\\label{_auto24} \\tag{24}\n",
    "\\end{equation}\n",
    "$$"
   ]
  },
  {
   "cell_type": "markdown",
   "metadata": {},
   "source": [
    "(Notice how this reminds us of what we did for the spherical capacitor. Indeed this is a general result, that there is a relation between capacitance and resistance of a system. We can see this by looking at the current through a spherical surface, $S$, $I = \\int_S \\vec{J} \\cdot d \\vec{S} = \\int_S \\sigma \\vec{E} \\cdot d \\vec{S} = (\\sigma Q/\\epsilon)$, thus $I/V = (\\sigma/\\epsilon) (Q/V)$, where $G = I/V$ is the conductance and $C$ is the capacitance! This is a nice duality relationship.)\n",
    "\n",
    "## Example: Modeling the grounding of a lighting rod\n",
    "\n",
    "\n",
    "## Example: Using Laplace's equation to find the field\n",
    "\n",
    "Let us revisit the system in Fig. [fig:current-resistance-010](#fig:current-resistance-010): A resistor with a constant cross-sectional area $S$ of length $L$ and let us assume that the cross-section is a circle of radius $a$, $S = \\pi a^2$, so that the resistor is a cylinder of radius $a$ and length $L$. How could we apply method 1 to this system? We would need to solve Laplace's equation within the cylinder.\n",
    "\n",
    "What are the boundary conditions for Laplace's equation? The potential is constant $V_0$ and $V_1$ at boths ends of the cylinder, where we can set $V_0 = 0$. What about the outer surface of the cylinder? We know that there cannot be any charges flowing (leaking) from the resistor into the vacuum outside it. This means that the current density cannot have a component normal to the outer surface, that is, $\\vec{J} \\cdot \\mathbf{\\hat{n}} = 0$. Using Ohm's law on local form where therefore also get that $\\vec{E} \\cdot \\mathbf{\\hat{n}} = 0$, which again means that $\\partial V/ \\partial n = 0$ on the outer surface of the cylinder. This means that either $V$ or its derivative is specified on all the surfaces. The potential $V$ is therefore uniquely determined.\n",
    "\n",
    "We therefore only need to find *a* solution and it will be *the* solution. For this problem, it is easy to guess the solution. If the cylinder is oriented along the $x$-axis, the potential $V = V_1 x /L$ satisfies the boundary conditions.\n",
    "\n",
    "We can then find the electric field:"
   ]
  },
  {
   "cell_type": "markdown",
   "metadata": {},
   "source": [
    "<!-- Equation labels as ordinary links -->\n",
    "<div id=\"_auto25\"></div>\n",
    "\n",
    "$$\n",
    "\\begin{equation}\n",
    "\\vec{E} = - \\nabla V = - \\frac{V_1}{L}\\mathbf{\\hat{x}} \\; ,\n",
    "\\label{_auto25} \\tag{25}\n",
    "\\end{equation}\n",
    "$$"
   ]
  },
  {
   "cell_type": "markdown",
   "metadata": {},
   "source": [
    "which is uniform and has the form we assumed above. Notice that this problem can be solved because we assume that all the current is in the conducting material only (inside the resistor). It would be much more difficult to solve Laplace's equation without the boundary condition $\\partial V/\\partial n = 0$ on the surface, but instead use that the potential is zero at infinity.  \n",
    "\n",
    "<!-- Follows example 7.3 in Griffith -->\n",
    "\n",
    "# Energy loss\n",
    "\n",
    "As the electrons (or any charge carrier) moves along the conductor due to the electric field, they collide with vibrating lattice ions in the the underlying crystal as illustrated in Fig. [fig:current-chargeinmetal-010](#fig:current-chargeinmetal-010). This will transfer energy from the electrons to the lattice vibrations, increasing the thermal energy of the metal (and thus the temperature of the metal). But how much energy is dissipated?\n",
    "\n",
    "Let us see what happens in a small volume unit $\\mathrm{d} v$ with $N \\mathrm{d} v$ charge carriers, where $N$ is the charge carrier volume density. During a small time interval $\\mathrm{d} t$, the charges in this volume will move a length $\\mathrm{d}\\vec{r} = \\vec{v}_d \\mathrm{d} t$. The electric field acts on the electrons. The force on each electron is therefore $\\vec{F} = q\\vec{E}$ (where $q = -e$). The work, $\\mathrm{d} W_1$, done by the electric field on one charge $q$ over the time interval $\\mathrm{d} t$ is"
   ]
  },
  {
   "cell_type": "markdown",
   "metadata": {},
   "source": [
    "<!-- Equation labels as ordinary links -->\n",
    "<div id=\"_auto26\"></div>\n",
    "\n",
    "$$\n",
    "\\begin{equation}\n",
    "\\mathrm{d} W_1 = q \\vec{E} \\cdot \\mathrm{d} \\vec{r} = q \\vec{E} \\cdot \\vec{v}_d \\mathrm{d} t\n",
    "\\label{_auto26} \\tag{26}\n",
    "\\end{equation}\n",
    "$$"
   ]
  },
  {
   "cell_type": "markdown",
   "metadata": {},
   "source": [
    "and the work, $\\mathrm{d} W$, done an all $N\\mathrm{d} v$ charges, each with a charge $q$, is therefore:"
   ]
  },
  {
   "cell_type": "markdown",
   "metadata": {},
   "source": [
    "<!-- Equation labels as ordinary links -->\n",
    "<div id=\"_auto27\"></div>\n",
    "\n",
    "$$\n",
    "\\begin{equation}\n",
    "\\mathrm{d} W = N \\mathrm{d} v \\mathrm{d} W_1 = N \\mathrm{d} v \\, q\\vec{E} \\cdot \\vec{v}_d \\mathrm{d} t = \\underbrace{N q \\vec{v}_d}_{=\\vec{J}} \\cdot \\vec{E}  \\mathrm{d} v  \\mathrm{d} t \\; ,\n",
    "\\label{_auto27} \\tag{27}\n",
    "\\end{equation}\n",
    "$$"
   ]
  },
  {
   "cell_type": "markdown",
   "metadata": {},
   "source": [
    "The power loss, $P$, is $P = \\mathrm{d} W/\\mathrm{d} t = \\vec{J} \\cdot \\vec{E} \\mathrm{d} v$ and the power loss per unit volume, $p_J$, is therefore:"
   ]
  },
  {
   "cell_type": "markdown",
   "metadata": {},
   "source": [
    "<!-- Equation labels as ordinary links -->\n",
    "<div id=\"_auto28\"></div>\n",
    "\n",
    "$$\n",
    "\\begin{equation}\n",
    "p_J = \\frac{\\mathrm{d} W}{\\mathrm{d} v} = \\vec{J} \\cdot \\vec{E} \\; \n",
    "\\label{_auto28} \\tag{28}\n",
    "\\end{equation}\n",
    "$$"
   ]
  },
  {
   "cell_type": "markdown",
   "metadata": {},
   "source": [
    "We call this the power loss, because this is the work the electric field does to move the electrons. This work is therefore converted into thermal energy, and thus \"lost\" from the electric system. We often call this the dissipated energy, and you can feel its effect by an increase in temperature in a system. \n",
    "\n",
    "\n",
    "**Power loss.**\n",
    "\n",
    "The power loss per unit volume, $p_J$, is"
   ]
  },
  {
   "cell_type": "markdown",
   "metadata": {},
   "source": [
    "<!-- Equation labels as ordinary links -->\n",
    "<div id=\"_auto29\"></div>\n",
    "\n",
    "$$\n",
    "\\begin{equation}\n",
    "p_J = \\vec{J} \\cdot \\vec{E} \\; .\n",
    "\\label{_auto29} \\tag{29}\n",
    "\\end{equation}\n",
    "$$"
   ]
  },
  {
   "cell_type": "markdown",
   "metadata": {},
   "source": [
    "We find the total power loss, $P$, for a system (such as a resistor) by integrating the power loss per unit volume:"
   ]
  },
  {
   "cell_type": "markdown",
   "metadata": {},
   "source": [
    "<!-- Equation labels as ordinary links -->\n",
    "<div id=\"_auto30\"></div>\n",
    "\n",
    "$$\n",
    "\\begin{equation}\n",
    "P = \\int_v p_J \\mathrm{d} v = \\int_v \\vec{J} \\cdot \\vec{E} \\mathrm{d} v \\; .\n",
    "\\label{_auto30} \\tag{30}\n",
    "\\end{equation}\n",
    "$$"
   ]
  },
  {
   "cell_type": "markdown",
   "metadata": {},
   "source": [
    "For a resistor, we can relate the work $\\mathrm{d} W$ done on the charge $\\mathrm{d} Q = q N \\mathrm{d} v$ to the electric potential: The work done on a charge $\\mathrm{d} Q$ as it is moved from one side of the resistor with potential $V_1$ to the other side with potential $V_0$ is $\\mathrm{d} W = \\mathrm{d} Q (V_1 - V_0) = \\mathrm{d} Q V$, where $V$ is the potential drop across the resistor. For a constant $V$ and $I$, the stored electric energy will be unchanged, so this energy is dissipated (converted to heat). The power loss is therefore:"
   ]
  },
  {
   "cell_type": "markdown",
   "metadata": {},
   "source": [
    "<!-- Equation labels as ordinary links -->\n",
    "<div id=\"_auto31\"></div>\n",
    "\n",
    "$$\n",
    "\\begin{equation}\n",
    "P = \\frac{\\mathrm{d} W}{\\mathrm{d} t} = \\frac{\\mathrm{d} Q V}{\\mathrm{d} t} = V \\frac{\\mathrm{d} Q}{\\mathrm{d} t} = V I \\; .\n",
    "\\label{_auto31} \\tag{31}\n",
    "\\end{equation}\n",
    "$$"
   ]
  },
  {
   "cell_type": "markdown",
   "metadata": {},
   "source": [
    "**Power loss for a component.**\n",
    "\n",
    "The power loss for a resistor with a current $I$ and potential drop $V$ is"
   ]
  },
  {
   "cell_type": "markdown",
   "metadata": {},
   "source": [
    "<!-- Equation labels as ordinary links -->\n",
    "<div id=\"_auto32\"></div>\n",
    "\n",
    "$$\n",
    "\\begin{equation}\n",
    "P = V I \\; .\n",
    "\\label{_auto32} \\tag{32}\n",
    "\\end{equation}\n",
    "$$"
   ]
  },
  {
   "cell_type": "markdown",
   "metadata": {},
   "source": [
    "We often only call this the *power*, the *power loss* or the *power dissipated* in the component.\n",
    "\n",
    "This is called the **Joule heating law** . For a resistor with resistance $R$, we know that $V = RI$ so that $P = R I^2$ or $P = V^2 / R$.\n",
    "\n",
    "\n",
    "\n",
    "\n",
    "## Example: Power in a spherical resistor\n",
    "What is the power loss in the spherical resistor illustrated in Fig. [fig:current-resistance-sphere-010](#fig:current-resistance-sphere-010)?\n",
    "\n",
    "Let us compare the two methods: either by integrating the power loss per unit volume across the resistor or by using the expression for the power loss, $P$.\n",
    "\n",
    "The power loss per unit volume is $p_J = \\vec{E} \\cdot \\vec{J}$. We found that $\\vec{J} = I/(4 \\pi r^2)\\mathbf{\\hat{r}}$ and that $\\vec{E} = \\vec{J}/\\sigma$. The"
   ]
  },
  {
   "cell_type": "markdown",
   "metadata": {},
   "source": [
    "<!-- Equation labels as ordinary links -->\n",
    "<div id=\"_auto33\"></div>\n",
    "\n",
    "$$\n",
    "\\begin{equation}\n",
    "p_J = \\vec{J} \\cdot \\vec{E} = \\frac{1}{\\sigma} \\left( \\frac{I}{4 \\pi r^2} \\right)^2 \\; .\n",
    "\\label{_auto33} \\tag{33}\n",
    "\\end{equation}\n",
    "$$"
   ]
  },
  {
   "cell_type": "markdown",
   "metadata": {},
   "source": [
    "We find the total power dissipated in the component by integrating over the volume from $R_1$ to $R_2$. A volume component $\\mathrm{d} v = 4 \\pi r^2 \\mathrm{d} r$. The integral is:"
   ]
  },
  {
   "cell_type": "markdown",
   "metadata": {},
   "source": [
    "$$\n",
    "\\begin{eqnarray}\n",
    "P_J &=& \\int_v p_J \\mathrm{d} v  \\\\ \n",
    "&=& \\int_{R_1}^{R_2} \\frac{1}{\\sigma} \\left( \\frac{I}{4 \\pi r^2} \\right)^2  4 \\pi r^2 \\mathrm{d} r \\\\ \n",
    "&=& \\frac{I^2}{4 \\pi \\sigma} \\int_{R_1}^{R_2} \\frac{\\mathrm{d} r}{r^2} \\\\ \n",
    "&=& \\frac{I^2}{4 \\pi \\sigma} \\left( \\frac{1}{R_1} - \\frac{1}{R_2} \\right) \\\\ \n",
    "&=& I^2 R \\; ,\n",
    "\\end{eqnarray}\n",
    "$$"
   ]
  },
  {
   "cell_type": "markdown",
   "metadata": {},
   "source": [
    "where we have used the result we found above that $R =  1/( 4 \\pi \\sigma ) ( \\, (1/R_1) - (1/R_2) \\, )$. This means that we have demonstrated that the result we get is the same as using $V = I^2 R$ directly.\n",
    "\n",
    "# Conservation of charge\n",
    "\n",
    "We know that the net charge is conserved. This is a fundamental principle. Charges can arise, as when an electron is emitted from a neutral atom, creating a negative electron ($-e$) and a positive ion ($+e$), but the net charge is zero. Similarly, a positron with charge $+e$ and an electron with charge $-e$ may form neutral photons (light), but the net charge remains zero. What consequences does the conservation of charge have for the flow of current? It means that charges can move, in the form of current, but they do not disappear.\n",
    "\n",
    "Let us formulate this conservation law --- the conservation of charge --- mathematically and apply it to discuss current. A volume $v$ is enclosed by the surface $S$ as illustrated in Fig. [fig:current-chargeconservation-010](#fig:current-chargeconservation-010). The volume may contain a conductor, as in the figure, or be inside a conductor. The charge $Q$ inside the volume is the integral of the charge density, $\\rho$:"
   ]
  },
  {
   "cell_type": "markdown",
   "metadata": {},
   "source": [
    "<!-- Equation labels as ordinary links -->\n",
    "<div id=\"eq:current-010\"></div>\n",
    "\n",
    "$$\n",
    "\\begin{equation}\n",
    "Q = \\int_V \\rho \\mathrm{d} v \\; ,\n",
    "\\label{eq:current-010} \\tag{34}\n",
    "\\end{equation}\n",
    "$$"
   ]
  },
  {
   "cell_type": "markdown",
   "metadata": {},
   "source": [
    "and the current out of the surface $S$ is the integral of the current density over the surface $S$:"
   ]
  },
  {
   "cell_type": "markdown",
   "metadata": {},
   "source": [
    "<!-- Equation labels as ordinary links -->\n",
    "<div id=\"_auto34\"></div>\n",
    "\n",
    "$$\n",
    "\\begin{equation}\n",
    "I_S = \\oint_S \\vec{J} \\cdot \\mathrm{d} \\vec{S} \\; .\n",
    "\\label{_auto34} \\tag{35}\n",
    "\\end{equation}\n",
    "$$"
   ]
  },
  {
   "cell_type": "markdown",
   "metadata": {},
   "source": [
    "In Fig. [fig:current-chargeconservation-010](#fig:current-chargeconservation-010) the total current $I_S$ out through the surface $S$ is the sum of the currents $I_S = I_1 + I_2 + I_3$. In a small time interval $\\mathrm{d} t$ the total change in charge inside the surface, $\\mathrm{d} Q$ must correspond to the charge flowing through the surface in this time interval, $I_S \\mathrm{d} t$. The charge is reduced (the change is negative), if the flow out of the surface is postive:"
   ]
  },
  {
   "cell_type": "markdown",
   "metadata": {},
   "source": [
    "<!-- Equation labels as ordinary links -->\n",
    "<div id=\"_auto35\"></div>\n",
    "\n",
    "$$\n",
    "\\begin{equation}\n",
    "-\\mathrm{d} Q = I_S \\mathrm{d} t \\; \\Rightarrow \\; -\\frac{\\mathrm{d} Q}{\\mathrm{d} t} = I_S \\; .\n",
    "\\label{_auto35} \\tag{36}\n",
    "\\end{equation}\n",
    "$$"
   ]
  },
  {
   "cell_type": "markdown",
   "metadata": {},
   "source": [
    "As always we check the sign to ensure it is correct: We notice that the integral over the surface tells us the amount of charge flowing *out of the surface*, which must correspond to a reduction in the charge inside, $- \\mathrm{d} Q$. This is a formulation of the principle of conservation of charge.\n",
    "\n",
    "<!-- dom:FIGURE:[fig-currentandresistance/current-chargeconservation-010.png, width=600 frac=0.6] Illustration of a volume $v$ enclosed by the surface $S$. <div id=\"fig:current-chargeconservation-010\"></div> -->\n",
    "<!-- begin figure -->\n",
    "<div id=\"fig:current-chargeconservation-010\"></div>\n",
    "\n",
    "<p>Illustration of a volume $v$ enclosed by the surface $S$.</p>\n",
    "<img src=\"fig-currentandresistance/current-chargeconservation-010.png\" width=600>\n",
    "\n",
    "<!-- end figure -->\n",
    "\n",
    "\n",
    "We can rewrite the conservation of charge in integral form, by using the expression for $Q$ from ([34](#eq:current-010)):"
   ]
  },
  {
   "cell_type": "markdown",
   "metadata": {},
   "source": [
    "<!-- Equation labels as ordinary links -->\n",
    "<div id=\"_auto36\"></div>\n",
    "\n",
    "$$\n",
    "\\begin{equation}\n",
    "\\oint_s \\vec{J} \\cdot \\mathrm{d} \\vec{S} = - \\frac{d}{dt} \\int_v \\rho \\mathrm{d} v \\; ,\n",
    "\\label{_auto36} \\tag{37}\n",
    "\\end{equation}\n",
    "$$"
   ]
  },
  {
   "cell_type": "markdown",
   "metadata": {},
   "source": [
    "If we study systems where all the currents are stationary, that is independent of time, then there cannot be a current into a volume or out of a volume forever, because this would lead to an infinite build-up (removal) or charge. Thus for a stationary system we have that:"
   ]
  },
  {
   "cell_type": "markdown",
   "metadata": {},
   "source": [
    "<!-- Equation labels as ordinary links -->\n",
    "<div id=\"_auto37\"></div>\n",
    "\n",
    "$$\n",
    "\\begin{equation}\n",
    "\\oint_s \\vec{J} \\cdot \\mathrm{d} \\vec{S} = 0 \\; .\n",
    "\\label{_auto37} \\tag{38}\n",
    "\\end{equation}\n",
    "$$"
   ]
  },
  {
   "cell_type": "markdown",
   "metadata": {},
   "source": [
    "We call this equation *Kirchoff's current law*.\n",
    "\n",
    "\n",
    "For an intersection with $n$ wires, as illustrated in Fig. [fig:current-chargeconservation-010](#fig:current-chargeconservation-010), there will only be currents along the wires, and we can rewrite the Kirchoff's current law as a sum of the currents through the wires:"
   ]
  },
  {
   "cell_type": "markdown",
   "metadata": {},
   "source": [
    "<!-- Equation labels as ordinary links -->\n",
    "<div id=\"_auto38\"></div>\n",
    "\n",
    "$$\n",
    "\\begin{equation}\n",
    "\\sum_{i=1}^{n} I_i = 0 \\; .\n",
    "\\label{_auto38} \\tag{39}\n",
    "\\end{equation}\n",
    "$$"
   ]
  },
  {
   "cell_type": "markdown",
   "metadata": {},
   "source": [
    "*Notice*: This is only valid for constant currents. When the currents are time dependent, it is possible to build up charge inside a volume, such as on a capacitor.\n",
    "\n",
    "**Conservation of charge.**\n",
    "\n",
    "For a volume $v$ enclosed by a surface $S$ the net charge flowing out through the surface $S$ must correspond to the reduction in charge inside the volume $v$:"
   ]
  },
  {
   "cell_type": "markdown",
   "metadata": {},
   "source": [
    "<!-- Equation labels as ordinary links -->\n",
    "<div id=\"_auto39\"></div>\n",
    "\n",
    "$$\n",
    "\\begin{equation}\n",
    "\\oint_s \\vec{J} \\cdot \\mathrm{d} \\vec{S} = - \\frac{d}{dt} \\int_v \\rho \\mathrm{d} v \\; .\n",
    "\\label{_auto39} \\tag{40}\n",
    "\\end{equation}\n",
    "$$"
   ]
  },
  {
   "cell_type": "markdown",
   "metadata": {},
   "source": [
    "For a stationary system, where all the currents are constant and there is no build-up or removal of charges, we get **Kirchoff's current law**:"
   ]
  },
  {
   "cell_type": "markdown",
   "metadata": {},
   "source": [
    "<!-- Equation labels as ordinary links -->\n",
    "<div id=\"_auto40\"></div>\n",
    "\n",
    "$$\n",
    "\\begin{equation}\n",
    "\\oint_s \\vec{J} \\cdot \\mathrm{d} \\vec{S} = 0 \\; .\n",
    "\\label{_auto40} \\tag{41}\n",
    "\\end{equation}\n",
    "$$"
   ]
  },
  {
   "cell_type": "markdown",
   "metadata": {},
   "source": [
    "For an intersection of $n$ conductors (wires), **Kirchoff's current law** becomes:"
   ]
  },
  {
   "cell_type": "markdown",
   "metadata": {},
   "source": [
    "<!-- Equation labels as ordinary links -->\n",
    "<div id=\"_auto41\"></div>\n",
    "\n",
    "$$\n",
    "\\begin{equation}\n",
    "\\sum_{i=1}^{n} I_i = 0 \\; .\n",
    "\\label{_auto41} \\tag{42}\n",
    "\\end{equation}\n",
    "$$"
   ]
  },
  {
   "cell_type": "markdown",
   "metadata": {},
   "source": [
    "where each current $I_i$ is the current *out of* the intersection (or *into* the intersection --- the point is that they must all be either into or out of the intersection).\n",
    "\n",
    "\n",
    "\n",
    "## Example: Combining resistors\n",
    "\n",
    "How can we find the effective resistance of a resistor that consists of several parts? Let us demonstrate this through two examples: Two resistors in series and two resistors in parallel.\n",
    "\n",
    "\n",
    "### Resistors in series\n",
    "\n",
    "Fig. [fig:current-combined-010](#fig:current-combined-010) illustrates two resistors $A$ and $B$ with resistances $R_A$ and $R_B$ placed after each other in *series*. They are connected to an ideal conductor on the left side and on the right side and they are joined by an ideal conductor as illustrated in the figure. What is the effective resistance of this combined system, that is, if we replaced this system with a single resistor, what would be the resistance $R$ of this resistor?\n",
    "\n",
    "The effective resistance $R$ relates the voltage across the whole system, $V_2 - V_0 = V$, and the current, $I$, through the system: $R = V/I$. In a stationary state, when no charges are building up inside the system, the current through any cross-section must be the same. The current is therefore the same through both component $A$ and $B$: $I_A = I_B = I$. The voltage drop across component $A$ is $V_A = V_2 - V_1$ and the voltage drop across component $B$ is $V_B = V_1 - V_0$. For each of the components we know that $V_A = R_A I_A = R_A I$ and $V_B = R_B I_B = R_B I$. We therefore see that the total voltage drop, $V$ is:"
   ]
  },
  {
   "cell_type": "markdown",
   "metadata": {},
   "source": [
    "<!-- Equation labels as ordinary links -->\n",
    "<div id=\"_auto42\"></div>\n",
    "\n",
    "$$\n",
    "\\begin{equation}\n",
    "V = V_2 - V_0 = V_A + V_B = R_A I + R_B I = \\underbrace{\\left(R_A + R_B \\right)}_{=R} I = RI \\; ,\n",
    "\\label{_auto42} \\tag{43}\n",
    "\\end{equation}\n",
    "$$"
   ]
  },
  {
   "cell_type": "markdown",
   "metadata": {},
   "source": [
    "where $R = R_A + R_B$ is the effective resistance for the whole componet. We can expand the same reasoning to a seqeuence of $n$ resistors $R_i$ with effective resistance $R = \\sum_i R_i$.\n",
    "\n",
    "### Resistors in parallel\n",
    "\n",
    "Fig. [fig:current-combined-010](#fig:current-combined-010) illustrates two resistors $A$ and $B$ with resistances $R_A$ and $R_B$ placed in parallel. The are connected to an ideal conductor on the left and the right side. What is the effective resistance $R$ of this combined system?\n",
    "\n",
    "Because both resistors are connected to an ideal conductor on the left and on the right side, the potential on the left side is the same for both resistors and the potential on the right side is the same for both resistors. The potential drops across the resistors, $V_A$ and $V_B$, are therefore the same, $V_A = V_B =V$. What about the current? Due to the conservation of current, we know that the current $I$ flowing through the whole system must be the sum of the currents in each of the resistors. (You can also argue for this using Kirchoff's laws of current: The current flowing out of the left junction, that is the left side of the resistors, is $I_A$, $I_B$ and $-I$, so that $-I + I_A + I_B = 0$ according to Kirchoff's law, and $I = I_A + I_B$). The voltage drop across resistor $A$ is then $V_A = V = I_A R_A$ and the voltage drop across resistor $B$ is $V_B = V = I_A R_B$. The currents are therefore $I_A = V/R_A$ and $I_B = V/R_B$. The total current $I$ is:"
   ]
  },
  {
   "cell_type": "markdown",
   "metadata": {},
   "source": [
    "<!-- Equation labels as ordinary links -->\n",
    "<div id=\"_auto43\"></div>\n",
    "\n",
    "$$\n",
    "\\begin{equation}\n",
    "I = I_A + I_B = \\frac{V}{R_A} + \\frac{V}{R_B} = \\underbrace{\\left( \\frac{1}{R_A} + \\frac{1}{R_B} \\right)}_{=R} V = R V \\; , \n",
    "\\label{_auto43} \\tag{44}\n",
    "\\end{equation}\n",
    "$$"
   ]
  },
  {
   "cell_type": "markdown",
   "metadata": {},
   "source": [
    "where $1/R = 1/R_A + 1/R_B$ is the effective resistance for the whole componet. We can expand the same reasoning to a seqeuence of $n$ resistors $R_i$ with effective resistance $1/R = \\sum_i 1/R_i$.\n",
    "\n",
    "<!-- dom:FIGURE:[fig-currentandresistance/current-combined-010.png, width=600 frac=1.0] Illustration of (a) a system of two resistors in series, (b) a system of two resistors in parallel, (c) a system of three resistors, (d) the same system but where the left two resistors in parallel have been combined to a new resistor with resistance $R_L$. <div id=\"fig:current-combined-010\"></div> -->\n",
    "<!-- begin figure -->\n",
    "<div id=\"fig:current-combined-010\"></div>\n",
    "\n",
    "<p>Illustration of (a) a system of two resistors in series, (b) a system of two resistors in parallel, (c) a system of three resistors, (d) the same system but where the left two resistors in parallel have been combined to a new resistor with resistance $R_L$.</p>\n",
    "<img src=\"fig-currentandresistance/current-combined-010.png\" width=600>\n",
    "\n",
    "<!-- end figure -->\n",
    "\n",
    "\n",
    "### More advanced combinations\n",
    "\n",
    "We can address more advanced combinations by grouping the system into parts that are connected in series or parallel. For example for the system illustrated in Fig. [fig:current-combined-010](#fig:current-combined-010), we can first combine the two resistors in parallel on the left into one resitors $R_L = (1/R_1 + 1/R_2)^{-1}$ and then combine this new resistor $R_L$ with the other resistor $R_3$ in series to find the total resisistance $R = R_L + R_3 = (1/R_1 + 1/R_2)^{-1} + R_3$ as illustrated in the figure. (Notice that it would *not* be correct to group resistors $R_1$ and $R_3$ into one resistor in series and then combine this with resistor $R_2$ in parallel.)\n",
    "\n",
    "**Combinations of resistors.**\n",
    "\n",
    "\n",
    "### Series coupling\n",
    "\n",
    "The effective resistance $R$ of $n$ resistors $R_i$ connected in series is"
   ]
  },
  {
   "cell_type": "markdown",
   "metadata": {},
   "source": [
    "$$\n",
    "\\begin{equation}\n",
    "R = \\sum_i R_i \\quad \\text{ (Series coupling) }\n",
    "\\label{}\n",
    "\\end{equation}\n",
    "$$"
   ]
  },
  {
   "cell_type": "markdown",
   "metadata": {},
   "source": [
    "### Parallel coupling\n",
    "\n",
    "The effective resistance $R$ of $n$ resistors $R_i$ connected in parallel is"
   ]
  },
  {
   "cell_type": "markdown",
   "metadata": {},
   "source": [
    "<!-- Equation labels as ordinary links -->\n",
    "<div id=\"_auto44\"></div>\n",
    "\n",
    "$$\n",
    "\\begin{equation}\n",
    "\\frac{1}{R} = \\sum_i \\frac{1}{R_i} \\quad \\text{ (Parallel coupling) }\n",
    "\\label{_auto44} \\tag{45}\n",
    "\\end{equation}\n",
    "$$"
   ]
  },
  {
   "cell_type": "markdown",
   "metadata": {},
   "source": [
    "### Combinations\n",
    "\n",
    "You can find the effective resistance of any combination of resistors in both series and parallel by grouping the resistors hierarchically into groups that are connected in series or parallel.\n",
    "\n",
    "\n",
    "\n",
    "## Conservation of charge on differential form\n",
    "\n",
    "We can rewrite the principle of conservation of charge on differential form in order to make it more generally applicable and so that you may recognize its similarity to other conservation laws. \n",
    "For a volume $v$ enclosed by the surface $S$, the conservation of charge within the volume is formulated as:"
   ]
  },
  {
   "cell_type": "markdown",
   "metadata": {},
   "source": [
    "<!-- Equation labels as ordinary links -->\n",
    "<div id=\"_auto45\"></div>\n",
    "\n",
    "$$\n",
    "\\begin{equation}\n",
    "\\oint_s \\vec{J} \\cdot \\mathrm{d} \\vec{S} = - \\frac{d}{dt} \\int_v \\rho \\mathrm{d} v \\; .\n",
    "\\label{_auto45} \\tag{46}\n",
    "\\end{equation}\n",
    "$$"
   ]
  },
  {
   "cell_type": "markdown",
   "metadata": {},
   "source": [
    "We can reformulate the left side using the divergence theorem:"
   ]
  },
  {
   "cell_type": "markdown",
   "metadata": {},
   "source": [
    "<!-- Equation labels as ordinary links -->\n",
    "<div id=\"_auto46\"></div>\n",
    "\n",
    "$$\n",
    "\\begin{equation}\n",
    "\\int_S \\vec{J} \\cdot \\mathrm{d} \\vec{S} = \\int_v \\nabla \\cdot \\vec{J} \\mathrm{d} v \\; .\n",
    "\\label{_auto46} \\tag{47}\n",
    "\\end{equation}\n",
    "$$"
   ]
  },
  {
   "cell_type": "markdown",
   "metadata": {},
   "source": [
    "We combine this to get:"
   ]
  },
  {
   "cell_type": "markdown",
   "metadata": {},
   "source": [
    "<!-- Equation labels as ordinary links -->\n",
    "<div id=\"_auto47\"></div>\n",
    "\n",
    "$$\n",
    "\\begin{equation}\n",
    "\\int_S \\vec{J} \\cdot \\mathrm{d} \\vec{S} = -\\frac{d}{dt}\\int_v \\rho \\mathrm{d} v = \\int_v \\nabla \\cdot \\vec{J} \\mathrm{d} v \\; .\n",
    "\\label{_auto47} \\tag{48}\n",
    "\\end{equation}\n",
    "$$"
   ]
  },
  {
   "cell_type": "markdown",
   "metadata": {},
   "source": [
    "This is valid for any volume $v$, which means that the equality also must hold for the arguments inside the integrals:"
   ]
  },
  {
   "cell_type": "markdown",
   "metadata": {},
   "source": [
    "<!-- Equation labels as ordinary links -->\n",
    "<div id=\"_auto48\"></div>\n",
    "\n",
    "$$\n",
    "\\begin{equation}\n",
    "\\nabla \\cdot \\vec{J} = - \\frac{\\partial \\rho}{\\partial t} \\; .\n",
    "\\label{_auto48} \\tag{49}\n",
    "\\end{equation}\n",
    "$$"
   ]
  },
  {
   "cell_type": "markdown",
   "metadata": {},
   "source": [
    "And when $\\rho$ is a constant (in time), we get"
   ]
  },
  {
   "cell_type": "markdown",
   "metadata": {},
   "source": [
    "<!-- Equation labels as ordinary links -->\n",
    "<div id=\"_auto49\"></div>\n",
    "\n",
    "$$\n",
    "\\begin{equation}\n",
    "\\nabla \\cdot \\vec{J} = 0 \\; .\n",
    "\\label{_auto49} \\tag{50}\n",
    "\\end{equation}\n",
    "$$"
   ]
  },
  {
   "cell_type": "markdown",
   "metadata": {},
   "source": [
    "**Continuity equation for charges.**\n",
    "\n",
    "The **continuity equation** for charges, which formulates the principle of conservation of charge, is on differential form:"
   ]
  },
  {
   "cell_type": "markdown",
   "metadata": {},
   "source": [
    "<!-- Equation labels as ordinary links -->\n",
    "<div id=\"_auto50\"></div>\n",
    "\n",
    "$$\n",
    "\\begin{equation}\n",
    "\\nabla \\cdot \\vec{J} = - \\frac{\\partial \\rho}{\\partial t} \\; .\n",
    "\\label{_auto50} \\tag{51}\n",
    "\\end{equation}\n",
    "$$"
   ]
  },
  {
   "cell_type": "markdown",
   "metadata": {},
   "source": [
    "## Comparison with continuum mechanics\n",
    "\n",
    "*(You may skip this part without any loss of continuity.)*\n",
    "\n",
    "\n",
    "If you have had continuum mechanics it may be instructional to observe the similarities between conservation of charge, the conservation of mass, and the conservation of energy (heat).\n",
    "\n",
    "In the case of diffusion, we describe the diffusing material with a concentration $c(\\vec{r},t)$, which is the number of particles (atoms) of a particular material per unit volume or, alternatively, the mass of a type of particle per unit volume. The flux (current density) of the the particles is usually formulated using Fick's law, $\\vec{j} = - D \\nabla c$, where $D$ is called the diffusion constant. The amount of particles (mass) in a volume $v$ is then $\\int_v c \\mathrm{d} v$, and the conservation of particles (mass) $c$ can then be written as"
   ]
  },
  {
   "cell_type": "markdown",
   "metadata": {},
   "source": [
    "<!-- Equation labels as ordinary links -->\n",
    "<div id=\"_auto51\"></div>\n",
    "\n",
    "$$\n",
    "\\begin{equation}\n",
    "\\oint_S \\vec{j} \\cdot \\mathrm{d} \\vec{S} = - \\frac{\\partial }{\\partial t}\\int_v c \\mathrm{d} v \n",
    "\\label{_auto51} \\tag{52}\n",
    "\\end{equation}\n",
    "$$"
   ]
  },
  {
   "cell_type": "markdown",
   "metadata": {},
   "source": [
    "on integral form. We can again rewrite the left side using the divergence theorem:"
   ]
  },
  {
   "cell_type": "markdown",
   "metadata": {},
   "source": [
    "<!-- Equation labels as ordinary links -->\n",
    "<div id=\"_auto52\"></div>\n",
    "\n",
    "$$\n",
    "\\begin{equation}\n",
    "\\oint_S \\vec{j} \\cdot \\mathrm{d} \\vec{S} = \\int_v \\nabla \\cdot \\vec{j} \\mathrm{d} v \\; .\n",
    "\\label{_auto52} \\tag{53}\n",
    "\\end{equation}\n",
    "$$"
   ]
  },
  {
   "cell_type": "markdown",
   "metadata": {},
   "source": [
    "On differential form we therefore get"
   ]
  },
  {
   "cell_type": "markdown",
   "metadata": {},
   "source": [
    "<!-- Equation labels as ordinary links -->\n",
    "<div id=\"_auto53\"></div>\n",
    "\n",
    "$$\n",
    "\\begin{equation}\n",
    "\\nabla \\cdot \\vec{j} = - \\frac{\\partial c}{\\partial t} \\; .\n",
    "\\label{_auto53} \\tag{54}\n",
    "\\end{equation}\n",
    "$$"
   ]
  },
  {
   "cell_type": "markdown",
   "metadata": {},
   "source": [
    "If we insert Fick's law, $\\vec{j} = -D \\nabla c$, we get the diffusion equation:"
   ]
  },
  {
   "cell_type": "markdown",
   "metadata": {},
   "source": [
    "<!-- Equation labels as ordinary links -->\n",
    "<div id=\"_auto54\"></div>\n",
    "\n",
    "$$\n",
    "\\begin{equation}\n",
    "\\frac{\\partial c}{\\partial t} = \\nabla \\cdot D \\nabla c \\; ,\n",
    "\\label{_auto54} \\tag{55}\n",
    "\\end{equation}\n",
    "$$"
   ]
  },
  {
   "cell_type": "markdown",
   "metadata": {},
   "source": [
    "which simplifies to"
   ]
  },
  {
   "cell_type": "markdown",
   "metadata": {},
   "source": [
    "<!-- Equation labels as ordinary links -->\n",
    "<div id=\"_auto55\"></div>\n",
    "\n",
    "$$\n",
    "\\begin{equation}\n",
    "\\frac{\\partial c}{\\partial t} = D \\nabla^2 c \\; ,\n",
    "\\label{_auto55} \\tag{56}\n",
    "\\end{equation}\n",
    "$$"
   ]
  },
  {
   "cell_type": "markdown",
   "metadata": {},
   "source": [
    "when $D$ is uniform in space. In the stationary case, when $\\partial c/\\partial t = 0$, we get Laplace's equation, $\\nabla^2 c = 0$.\n",
    "\n",
    "\n",
    "\n",
    "# Numerical calculation of resistance\n",
    "\n",
    "\n",
    "\n",
    "# Summary\n",
    "\n",
    "The **current** $I$ passing through a surface $S$ is the amount of charge $\\mathrm{d} q$ per unit time $\\mathrm{d} t$ passing through the surface: $I = \\mathrm{d} q / \\mathrm{d} t$. Current is measured in **Ampere** which is a basic unit in the SI system.\n",
    "\n",
    "We describe the motion of charges in space with the **current density** $\\vec{J}(\\vec{r})$. The current $\\mathrm{d} I$ passing through a surface element $\\mathrm{d} \\vec{S}$ is"
   ]
  },
  {
   "cell_type": "markdown",
   "metadata": {},
   "source": [
    "$$\n",
    "\\mathrm{d} I 0 = \\vec{J} \\cdot \\mathrm{d} \\vec{S}\n",
    "$$"
   ]
  },
  {
   "cell_type": "markdown",
   "metadata": {},
   "source": [
    "and the current $I$ passing through a surface $S$ is"
   ]
  },
  {
   "cell_type": "markdown",
   "metadata": {},
   "source": [
    "$$\n",
    "I = \\int_S \\vec{J} \\cdot \\mathrm{d} \\vec{S} \\; .\n",
    "$$"
   ]
  },
  {
   "cell_type": "markdown",
   "metadata": {},
   "source": [
    "Most materials obeys **Ohm's law** on microscopic form:"
   ]
  },
  {
   "cell_type": "markdown",
   "metadata": {},
   "source": [
    "<!-- Equation labels as ordinary links -->\n",
    "<div id=\"_auto56\"></div>\n",
    "\n",
    "$$\n",
    "\\begin{equation}\n",
    "\\vec{J} = \\sigma \\vec{E} \\; ,\n",
    "\\label{_auto56} \\tag{57}\n",
    "\\end{equation}\n",
    "$$"
   ]
  },
  {
   "cell_type": "markdown",
   "metadata": {},
   "source": [
    "where $\\sigma$ is a (temperature dependent) material property  called the conductivity. The resistivity $\\rho = 1/\\sigma$.\n",
    "\n",
    "The **resistance** $C$ of a resistor (an non-ideal condutor or an isolator) is defined as $R = V/I$, where $V$ is the voltage drop $V$ across the resistor when a current $I$ passing through it.\n",
    "\n",
    "**Ohm's law** for a resistor is that the voltage drop across the resistor with resistance $R$ is"
   ]
  },
  {
   "cell_type": "markdown",
   "metadata": {},
   "source": [
    "$$\n",
    "V = R I \\; ,\n",
    "$$"
   ]
  },
  {
   "cell_type": "markdown",
   "metadata": {},
   "source": [
    "when a current $I$ is passing through the resistor.\n",
    "\n",
    "\n",
    "The **resistance** $R$ **of a cylindrical resistor** with cross-sectional area $A$, length $L$ and conductivity $\\sigma$ is $R = L/(A \\sigma)$.\n",
    "\n",
    "We find the **resistance** of a system using two main methods. In **method 1**, we assume that the current density $\\vec{J}$ has a particular symmetry and use this to find the current $I$, the electric field $\\vec{E}$, the potential difference $V$ from the electric field, and then the resistance from $R = V/I$. In **method 2**, we find the potential $V(\\vec{r})$ from e.g. Laplace's equation, the electric field from the potential, $\\vec{E} = - \\nabla V$, the current density from the electric field, $\\vec{J} = \\sigma \\vec{E}$, the current from the current density, $I = \\int_S \\vec{J} \\cdot \\mathrm{d} \\vec{S}$ and the resistance from $R = V/I$.\n",
    "\n",
    "We can **combine resistors** $R_1,R_2,\\ldots, R_n$, to one effective resistor $R$ by combining resistors *in series* getting $R = \\sum_i R_i$ or *in parallel* getting $1/R = \\sum_i 1/R_i$. \n",
    "\n",
    "The **power loss** due to resistance is $p_J = \\vec{J} \\cdot \\vec{E}$. The power loss in a volume $v$ is $P = \\int_v p_J \\mathrm{d} v$. The power loss for a resistor is $P = VI = RI^2 = V^2/R$.\n",
    "\n",
    "The **conservation of charges** demand that $\\int_S \\vec{J} \\cdot \\mathrm{d} \\vec{S} = - \\int_v \\rho \\mathrm{d} v$ on integral form and $\\nabla \\cdot \\vec{J} = - \\partial \\rho / \\partial t$, where $\\rho$ is the volume charge density.\n",
    "\n",
    "In a **stationary system** with no build-up of charges $\\nabla \\cdot \\vec{J} = 0$ and **Kirchoff's current law** $\\sum_i I_i = 0$ is valid for any junction. \n",
    "\n",
    "# Exercises\n",
    "\n",
    "### Learning outcomes\n",
    "\n",
    "(1) Understand and use the current density and Ohm's law to find the resistance of a system. Here we will do this in a structured way for a simple system. (2) Use conservation of charge and Kirchoff's laws. Here we will use this to address flow through various cross sections of a conductor, and we will use this to address properties of current densities $\\vec{J}(\\vec{r})$.\n",
    "\n",
    "## Test yourself\n",
    "\n",
    "\n",
    "\n",
    "<!-- --- begin exercise --- -->\n",
    "\n",
    "## Exercise 1: Strøm av ioner\n",
    "\n",
    "Positive ioner strømmer til høyre gjennom en væske, negative ioner strømmer til venstre. Den romlige tettheten og hastigheten til begge typer ioner er identiske. Er det en netto strøm gjennom væsken? (A) Ja, til høyre; (B) Ja, til venstre, (C) Nei, (D) Ikke tilstrekkelig informasjon.\n",
    "\n",
    "\n",
    "\n",
    "<!-- --- end exercise --- -->\n",
    "\n",
    "\n",
    "## Discussion exercises\n",
    "\n",
    "\n",
    "\n",
    "<!-- --- begin exercise --- -->\n",
    "\n",
    "## Exercise 2: Strømtetthet og strøm\n",
    "\n",
    "Du har en lang stav med kvadratisk tverrsnitt og det går en strøm med homogen strømtetthet rettet langsmed staven. Er strømmen gjennom flaten $S_1$ den samme som gjennom flaten $S_2$ og som gjennom $S_3$?\n",
    "\n",
    "<!-- dom:FIGURE:[fig-currentandresistance/current-surfaces.png,  width=600 frac=0.9] -->\n",
    "<!-- begin figure -->\n",
    "\n",
    "<p></p>\n",
    "<img src=\"fig-currentandresistance/current-surfaces.png\" width=600>\n",
    "\n",
    "<!-- end figure -->\n",
    "\n",
    "\n",
    "<!-- --- end exercise --- -->\n",
    "\n",
    "\n",
    "\n",
    "\n",
    "<!-- --- begin exercise --- -->\n",
    "\n",
    "## Exercise 3: Ladningsoppsamling\n",
    "\n",
    "Er netto strøm av ladning ut av en lukket overflate alltid null? Hvis ikke, kan du komme med noen moteksempler?\n",
    "\n",
    "<!-- --- end exercise --- -->\n",
    "\n",
    "\n",
    "## Tutorials\n",
    "\n",
    "\n",
    "\n",
    "<!-- --- begin exercise --- -->\n",
    "\n",
    "## Exercise 4: Current density\n",
    "\n",
    "\n",
    "**a)**\n",
    "For a homogeneous current density $\\vec{J} = J_0 \\hat{x}$, what is the current through all the surfaces of a cube with corners at $(-1,-1,-1)$, $(-1,+1,-1)$, $(+1,-1,-1)$, $(+1,+1,-1)$, $(-1,-1,+1)$, $(-1,+1,+1)$, $(+1,-1,+1)$, and $(+1,+1,+1)$ all measured in units of $a$.\n",
    "\n",
    "\n",
    "\n",
    "\n",
    "\n",
    "**b)**\n",
    "A block with uniform charge density $\\rho$ is moving with a constant velocity $\\vec{v} = v_0\\hat{z}$. What is the current density $\\vec{J}$ at a specific point in space inside the block (the point does not move along with the block). What would the current density $\\vec{J}$ be if the point moved along with the block?\n",
    "\n",
    "\n",
    "\n",
    "\n",
    "\n",
    "<!-- --- end exercise --- -->\n",
    "\n",
    "\n",
    "\n",
    "\n",
    "<!-- --- begin exercise --- -->\n",
    "\n",
    "## Exercise 5: Cylindrical resistor\n",
    "\n",
    "We will now look at charges that are leaking across the cylindrical membrane of a part of the axon of length $L$. We will assume that the myelin sheath is leaky (a conductor with conductivity $\\sigma$) and that there is a radially-symmetric current density $\\vec{J}$ leaking across it due to a potential difference. We will find the resistance $R$ of a piece of the cylinder of length $L$. We assuming that the inner part of the cylidrical shell is connected to a potential $V$ and that the outer part of the shell is connected to a potential $V=0$.\n",
    "\n",
    "We will find the resitance of this system by (i) making a drawing of the system, (ii) drawing the expected current density, (iii) finding the electric field for this current density, (iv) finding the potential by integrating the electric field, and (v) finding the resistance by relating the current to the potential difference. (Notice the similarity of this method and the method you used to find the capacitance!)\n",
    "\n",
    "\n",
    "**a)**\n",
    "Make a drawing of the cylindrical system. Sketch the current density.\n",
    "\n",
    "\n",
    "**b)**\n",
    "Given that there is a radially-symmetric current density, find the current density $\\vec{J}$ expressed in terms of the total current $I$.\n",
    "\n",
    "<!-- --- begin hint in exercise --- -->\n",
    "\n",
    "**Hint.**\n",
    "Integrate the current density along a cylindrical surface.\n",
    "\n",
    "<!-- --- end hint in exercise --- -->\n",
    "\n"
   ]
  },
  {
   "cell_type": "markdown",
   "metadata": {},
   "source": [
    "\n",
    "**c)**\n",
    "Find the electric field $\\vec{E}$ by using the current-density version of Ohm's law.\n",
    "\n",
    "\n",
    "\n"
   ]
  },
  {
   "cell_type": "markdown",
   "metadata": {},
   "source": [
    "\n",
    "**d)**\n",
    "Use the electric field to relate the current $I$ to the voltage difference between the inner $V(r=a)$ and outer $V(r=b)=0$ surfaces of the axon.\n",
    "\n",
    "\n",
    "\n"
   ]
  },
  {
   "cell_type": "markdown",
   "metadata": {},
   "source": [
    "\n",
    "**e)**\n",
    "Find the resistance of the cylinderical shell. Is this the resistance for flow along the axon?\n",
    "\n",
    "\n",
    "\n"
   ]
  },
  {
   "cell_type": "markdown",
   "metadata": {},
   "source": [
    "\n",
    "**f)**\n",
    "Interpret these expressions. Does the current you found actually depend on the length of the axon? Does the resistance?\n",
    "\n",
    "<!-- --- end exercise --- -->\n",
    "\n",
    "\n",
    "## Homework\n",
    "\n",
    "\n",
    "\n",
    "<!-- --- begin exercise --- -->\n",
    "\n",
    "## Exercise 6: Lightning\n",
    "\n",
    "Lightning strikes in one end of a lightning rod of steel and induces a current of $30 000$ A which lasts for $65\\text{ }\\mathrm{\\mu}\\text{s}$. The lightning rod is a $1$ m long and $2$ cm in diameter, and the other end is connected to the ground through a $40$ m copper wire with a diameter of $5$ mm. The conductivity of steel and copper is respectively $\\sigma_{\\text{steel}} = 5.0\\cdot 10^6 \\mathrm{ \\Omega}^{-1}\\text{m}^{-1}$ og $\\sigma_{\\text{copper}} = 5.8\\cdot 10^7 \\mathrm{ \\Omega}^{-1}\\text{m}^{-1}$.\n",
    "\n",
    "\n",
    "**a)**\n",
    "Find the potential difference between the top of the lightning rod and the bottom of the copper wire as the current is passing through.\n",
    "\n",
    "\n",
    "\n"
   ]
  },
  {
   "cell_type": "markdown",
   "metadata": {},
   "source": [
    "\n",
    "**b)**\n",
    "Find the total energy dissipated in the lightning rod and the copper wire from the lightning strike.\n",
    "\n",
    "\n",
    "\n"
   ]
  },
  {
   "cell_type": "markdown",
   "metadata": {},
   "source": [
    "\n",
    "<!-- --- end exercise --- -->\n",
    "\n",
    "\n",
    "\n",
    "\n",
    "<!-- --- begin exercise --- -->\n",
    "\n",
    "## Exercise 7: Sfærisk symmetrisk strøm\n",
    "\n",
    "Vi skal nå se på to konsentriske kuleskall, laget av metall, med radius $a$ og\n",
    "$b$ der $(a<b)$. I sjiktet mellom kuleskallene er det et svakt ledende materiale\n",
    "med konduktivitet $\\sigma$. Husk at konduktivitet er definert som $\\sigma\n",
    "\\equiv1/\\rho$, der $\\rho$ er resistiviteten til materialet.\n",
    "\n",
    "\n",
    "**a)**\n",
    "Anta at ved tiden $t=0$ finnes det en ladning $+Q$ på det\n",
    "innerste kuleskallet, og en ladning $-Q$ på det ytterste skallet. Finn\n",
    "strømtettheten som funksjon av posisjon mellom kuleskallene, $\\vec J = \\vec\n",
    "J(r).$\n",
    "\n"
   ]
  },
  {
   "cell_type": "markdown",
   "metadata": {},
   "source": [
    "\n",
    "**b)**\n",
    "Finn strømmen $I(t=0)$ fra det innerste kuleskallet til det ytterste.\n",
    "\n"
   ]
  },
  {
   "cell_type": "markdown",
   "metadata": {},
   "source": [
    "\n",
    "**c)**\n",
    "Finn resistansen i materialet mellom kuleskallene.\n",
    "\n"
   ]
  },
  {
   "cell_type": "markdown",
   "metadata": {},
   "source": [
    "\n",
    "<!-- --- end exercise --- -->\n",
    "\n",
    "\n",
    "\n",
    "\n",
    "<!-- --- begin exercise --- -->\n",
    "\n",
    "## Exercise 8: Resistivity in a conus-shaped conductor\n",
    "\n",
    "We have a conus-shaped (a cut cone) conductors with resistivity $\\rho$. The radii at the ends are $r_1$ and $r_2$ and the length is $L$.\n",
    "\n",
    "<!-- dom:FIGURE: [fig-currentandresistance/konus.png, width=600] -->\n",
    "<!-- begin figure -->\n",
    "\n",
    "<p></p>\n",
    "<img src=\"fig-currentandresistance/konus.png\" width=600>\n",
    "\n",
    "<!-- end figure -->\n",
    "\n",
    "\n",
    "\n",
    "**a)**\n",
    "Find the resistance between two end disks in the conducutor.\n",
    "\n"
   ]
  },
  {
   "cell_type": "markdown",
   "metadata": {},
   "source": [
    "\n"
   ]
  },
  {
   "cell_type": "markdown",
   "metadata": {},
   "source": [
    "\n",
    "**b)**\n",
    "Sjekk at resultatet ditt er konsistent med motstanden i en sylinderformet leder: $R = \\rho L / \\pi r^2$.\n",
    "\n"
   ]
  },
  {
   "cell_type": "markdown",
   "metadata": {},
   "source": [
    "\n",
    "**c)**\n",
    "På en eller annen måte klarer vi å gi konusen en strømtetthet på $|\\mathbf{J}| = a r$ rettet langs konusaksen. Finn forskjellen i strøm fra den ene enden til den andre. Vil denne lederen forbli nøytral over tid?\n",
    "\n",
    "\n",
    "\n"
   ]
  },
  {
   "cell_type": "markdown",
   "metadata": {},
   "source": [
    "\n",
    "\n",
    "<!-- --- end exercise --- -->\n",
    "\n",
    "\n",
    "\n",
    "\n",
    "<!-- --- begin exercise --- -->\n",
    "\n",
    "## Exercise 9: Leaky coaxial cable\n",
    "\n",
    "A 10 km long coaxial cable lies on the ocean floor. The internal radius is $a = 15$ mm, and the external is $b = 30$ mm. See the figure.\n",
    "The cable itself is made of a superconductor, and the voltage carried by the cable is $V_0 = 520$ V.\n",
    "<!-- dom:FIGURE: [fig-currentandresistance/coaxial.png, width=600] -->\n",
    "<!-- begin figure -->\n",
    "\n",
    "<p></p>\n",
    "<img src=\"fig-currentandresistance/coaxial.png\" width=600>\n",
    "\n",
    "<!-- end figure -->\n",
    "\n",
    "\n",
    "\n",
    "**a)**\n",
    "What is the current density $\\mathbf{J}$ inside the cable?\n",
    "\n",
    "\n",
    "\n"
   ]
  },
  {
   "cell_type": "markdown",
   "metadata": {},
   "source": [
    "\n",
    "**b)**\n",
    "At one point the cable gets a leak and the entire space between the conductors are filled with seawater ($\\sigma = 4$ $\\Omega^{-1}$m$^{-1}$).\\\\ \n",
    "How much power is lost to the seawater inside the cable?\n",
    "\n",
    "\n",
    "\n"
   ]
  },
  {
   "cell_type": "markdown",
   "metadata": {},
   "source": [
    "\n",
    "**c)**\n",
    "There is a generator connected to one of the ends of the cable. When the cable is filled with water, what is the resistance seen by this generator?\n",
    "Comment on this value in regards to the value of $P_J$.\n",
    "\n",
    "\n",
    "\n",
    "<!-- --- end exercise --- -->\n",
    "\n",
    "\n",
    "\n",
    "\n",
    "<!-- --- begin exercise --- -->\n",
    "\n",
    "## Exercise 10: A cylindrical component\n",
    "\n",
    "In this exercise, we will study the behavior of a cylindrical nerve cell as illustrated in the figure. We model a part of the cell as a cylindrical shell. The cylindrical shell has a length $L$. The inner radius is $a$. The thickness of the cylindrical shell is $d$. You can assume that $L$ is much larger that $a$ and $d$ and that the system therefore has cylindrical symmetry.\n",
    "\n",
    "<!-- dom:FIGURE:[fig-currentandresistance/current-cell-cylinder-010.png, height=400 width=600 frac=0.7] -->\n",
    "<!-- begin figure -->\n",
    "\n",
    "<p></p>\n",
    "<img src=\"fig-currentandresistance/current-cell-cylinder-010.png\" height=400 width=600>\n",
    "\n",
    "<!-- end figure -->\n",
    "\n",
    "\n",
    "First, we want to find the **capacitance** of the cylindrical shell. We assume that the regions inside and outside the cylindrical shell are ideal conductors. The cylindric shell is a dieletric material with dielectric constant $\\epsilon$.\n",
    "\n",
    "\n",
    "**a)**\n",
    "Assume that there is a charge $Q$ on the inner surface of the cylindrical shell and a charge $-Q$ on the outer surface of the shell. Find the electric field everywhere in space.\n",
    "\n",
    "\n",
    "\n"
   ]
  },
  {
   "cell_type": "markdown",
   "metadata": {},
   "source": [
    "\n",
    "**b)**\n",
    "Find the scalar potential $V(r)$ as a function of the distance $r$ to the axis of the cylindrical shell.\n",
    "\n",
    "\n",
    "\n"
   ]
  },
  {
   "cell_type": "markdown",
   "metadata": {},
   "source": [
    "\n",
    "**c)**\n",
    "Show that the capacitance of the cylindrical shell is"
   ]
  },
  {
   "cell_type": "markdown",
   "metadata": {},
   "source": [
    "<!-- Equation labels as ordinary links -->\n",
    "<div id=\"_auto75\"></div>\n",
    "\n",
    "$$\n",
    "\\begin{equation}\n",
    "C = \\frac{2 \\pi \\epsilon L}{\\ln \\left(1 + \\frac{d}{a} \\right) } \\; .\n",
    "\\label{_auto75} \\tag{76}\n",
    "\\end{equation}\n",
    "$$"
   ]
  },
  {
   "cell_type": "markdown",
   "metadata": {},
   "source": [
    "\n"
   ]
  },
  {
   "cell_type": "markdown",
   "metadata": {},
   "source": [
    "\n",
    "Second, we want to find the **resistance** of the cylindrical shell. The cylindrical shell is a conductor with conductivity $\\sigma$.\n",
    "\n",
    "**d)**\n",
    "Find the current density $\\vec{J}$ in the cylindrical shel when a current $I$ passes the shell from the inner to the outer surface.\n",
    "\n",
    "\n",
    "\n"
   ]
  },
  {
   "cell_type": "markdown",
   "metadata": {},
   "source": [
    "\n",
    "**e)**\n",
    "Find the electric field $\\vec{E}$ in the cylindrical shell in this case.\n",
    "\n",
    "\n",
    "\n"
   ]
  },
  {
   "cell_type": "markdown",
   "metadata": {},
   "source": [
    "\n",
    "**f)**\n",
    "Find the scalar potential $V(r)$ in the cylindrical shell and use this to show that the resistance of the cylindrical shell is"
   ]
  },
  {
   "cell_type": "markdown",
   "metadata": {},
   "source": [
    "<!-- Equation labels as ordinary links -->\n",
    "<div id=\"_auto79\"></div>\n",
    "\n",
    "$$\n",
    "\\begin{equation}\n",
    "R = \\frac{\\ln \\left( 1 + \\frac{d}{a} \\right) }{2 \\pi \\sigma L} \\; .\n",
    "\\label{_auto79} \\tag{80}\n",
    "\\end{equation}\n",
    "$$"
   ]
  },
  {
   "cell_type": "markdown",
   "metadata": {},
   "source": [
    "\n",
    "<!-- --- end exercise --- -->\n",
    "\n",
    "\n",
    "\n",
    "\n",
    "<!-- --- begin exercise --- -->\n",
    "\n",
    "## Exercise 11: Two resistors\n",
    "\n",
    "In this exercise we will study a cylindrical resistor of length $L$ and radius $a$. The end surfaces of the cylinder are connected to conductors. The cylinder is divided into two cylindrical parts, each with a length $L/2$. One has a conductivity $\\sigma_1$ and the other has a conductivity $\\sigma_2$.\n",
    "\n",
    "\n",
    "**a)**\n",
    "Find the electric field everywhere inside the resistor when it is carrying a current $I$.\n",
    "\n",
    "\n",
    "\n",
    "\n",
    "\n",
    "**b)**\n",
    "Find the electric potential everywhere inside the resistor.\n",
    "\n",
    "\n",
    "\n"
   ]
  },
  {
   "cell_type": "markdown",
   "metadata": {},
   "source": [
    "\n",
    "**c)**\n",
    "Find the resistance $R$ to the resistor.\n",
    "\n",
    "\n",
    "\n"
   ]
  },
  {
   "cell_type": "markdown",
   "metadata": {},
   "source": [
    "\n",
    "<!-- --- end exercise --- -->\n",
    "\n",
    "\n",
    "\n",
    "\n",
    "<!-- --- begin exercise --- -->\n",
    "\n",
    "## Exercise 12: Sylindrisk komponent\n",
    "\n",
    "En sylindrisk komponent består av to sylindriske ledere med radius $a$ og avstand $L$, hvor $L \\ll a$. Området mellom sylindrene er fylt med to sylindre $S_1$ og $S_2$ med radius $a$ som ligger etter hverandre. Hver av de to sylindrene har tykkelsen $L/2$. Systemet er illustrert i figuren.\n",
    "\n",
    "<!-- dom:FIGURE:[fig-currentandresistance/current-cylinder-010.png,  width=600 frac=0.5] -->\n",
    "<!-- begin figure -->\n",
    "\n",
    "<p></p>\n",
    "<img src=\"fig-currentandresistance/current-cylinder-010.png\" width=600>\n",
    "\n",
    "<!-- end figure -->\n",
    "\n",
    "\n",
    "\n",
    "**a)**\n",
    "Anta at $S_1$ har permittivitet $\\epsilon_1$ og $S_2$ har permittivitet $\\epsilon_2$. Finn kapasitansen til sylinderen.\n",
    "\n",
    "**b)**\n",
    "Anta at $S_1$ har konduktiviteten $\\sigma_1$ og $S_2$ har konduktiviteten $\\sigma_2$. Finn resistansen til sylinderen.\n",
    "\n",
    "\n",
    "<!-- --- end exercise --- -->"
   ]
  }
 ],
 "metadata": {
  "kernelspec": {
   "display_name": "Python 3",
   "language": "python",
   "name": "python3"
  },
  "language_info": {
   "codemirror_mode": {
    "name": "ipython",
    "version": 3
   },
   "file_extension": ".py",
   "mimetype": "text/x-python",
   "name": "python",
   "nbconvert_exporter": "python",
   "pygments_lexer": "ipython3",
   "version": "3.7.6"
  }
 },
 "nbformat": 4,
 "nbformat_minor": 2
}
