{
 "cells": [
  {
   "cell_type": "markdown",
   "metadata": {},
   "source": [
    "<!-- dom:TITLE: Magnetization -->\n",
    "# Magnetization\n",
    "<!-- dom:AUTHOR: Anders Malthe-Sørenssen at Department of Physics, University of Oslo -->\n",
    "<!-- Author: -->  \n",
    "**Anders Malthe-Sørenssen**, Department of Physics, University of Oslo\n",
    "\n",
    "Date: **Nov 27, 2020**\n",
    "\n",
    "<!-- Externaldocuments: ../nickname1/main_nickname1, ../nickname2/main_nickname2 -->\n",
    "\n",
    "<!-- Common Mako variables and functions -->\n",
    "\n",
    "\n",
    "\n",
    "\n",
    "\n",
    "\n",
    "\n",
    "\n",
    "\n",
    "We have now introduced Ampere's law for magnetic fields, which plays a role similar to that of Gauss' law for electric fields. However, so far we have only addressed magnetic fields in vacuum. For electric fields, we found that polarization of dielectric materials introduce bound charges in addition to the free charges. We could either treat the bound charges explicitly in Gauss' law, or we could introduce a new concept, the displacement field $\\mathbf{D}$ and reformulate Gauss' law in terms of the displacement field to simplify the treatment of polarized materials. In this chapter, we will introduce a similar type of approach to address magnetization. While polarization occured due to either the alignment of dipoles in a material or the induction of dipoles due to electron cloud distortions due to the electric field, magnetization occurs due to alignment of microscopic, permament currents, which in a classical picture can be interpreted as the motion of electrons spinning around their nuclei. Each of these microcurrents act as electromagnets, generating magnetic fields. These fields will usually cancel each other because they are aligned in random directions, but when a magnetic field is applied, they will align and the material becomes magnetized. Unlike for polarization, the magnetic field set up by magnetization may be parallel to the magnetic field (for paramagnetic materials) or opposite to the magnetic field (for diamagnetic materials). For some magnetic materials, the magnetization remains also after the applied magnetic field is turned off (for ferromagnetic materials). In this chapter we will therefore explain and address the type of magnetism you most probably are familiar with, *permanent magnets*, and we will demonstrate that all magnets, also permanent magnets, are due to moving electric charges. We will introduce the concepts of bound and free currents, the magnetization of a magnetic material, a modified version of Ampere's law in magnetic materials, and boundary conditions for the magnetic field. This will provide us will all the tools we need to find the magnetic field in any physical situation.\n",
    "\n",
    "# Magnetic fields in materials\n",
    "\n",
    "## Classical model\n",
    "\n",
    "We will start from a simple classical model to build a model for the magnetic field in a material. In a classical model for atoms, electrons are orbiting the nucleus as illustrated in Fig. [fig:magnetization-orbit-010](#fig:magnetization-orbit-010). In addition, the electrons have spin and there may be other contributions to the angular momentum of the atom, but let us first see the effect of a moving electron. It moves in a circular orbit with radius $R$ with a period $T = 2 \\pi R/v$, where $v$ is the velocity. This corresponds to a current of $I = e/T = e v /(2 \\pi R)$. The magnetic moment of this orbital is then"
   ]
  },
  {
   "cell_type": "markdown",
   "metadata": {},
   "source": [
    "<!-- Equation labels as ordinary links -->\n",
    "<div id=\"_auto1\"></div>\n",
    "\n",
    "$$\n",
    "\\begin{equation}\n",
    "\\mathbf{m} = - \\frac{1}{2}e v R \\mathbf{\\hat{z}} \\; ,\n",
    "\\label{_auto1} \\tag{1}\n",
    "\\end{equation}\n",
    "$$"
   ]
  },
  {
   "cell_type": "markdown",
   "metadata": {},
   "source": [
    "where $\\mathbf{\\hat{z}}$ points in the direction of the axis of the motion.\n",
    "\n",
    "<!-- dom:FIGURE:[fig-magnetization/magnetization-orbit-010.png, width=600 frac=1.0] (a) Illustration of an electro orbital in a classical interpretation and the resulting magnetic field. (b) A magnetic material consists of many, randomly oriented current loops. (c) When a magnetic moment is placed in a magnetic field, a torque will act on the current loop to align it with the magnetic field. (d) When a magnetic field is applied to a magnetic material with many current loops, they tend to align with the applied magnetic field, modifying the total magnetic field. <div id=\"fig:magnetization-orbit-010\"></div> -->\n",
    "<!-- begin figure -->\n",
    "<div id=\"fig:magnetization-orbit-010\"></div>\n",
    "\n",
    "<p>(a) Illustration of an electro orbital in a classical interpretation and the resulting magnetic field. (b) A magnetic material consists of many, randomly oriented current loops. (c) When a magnetic moment is placed in a magnetic field, a torque will act on the current loop to align it with the magnetic field. (d) When a magnetic field is applied to a magnetic material with many current loops, they tend to align with the applied magnetic field, modifying the total magnetic field.</p>\n",
    "<img src=\"fig-magnetization/magnetization-orbit-010.png\" width=600>\n",
    "\n",
    "<!-- end figure -->\n",
    "\n",
    "\n",
    "The orbiting electron comprising a small microcircuit will set up a magnetic field $\\mathbf{B}_m$ as illustrated in Fig. [fig:magnetization-orbit-010](#fig:magnetization-orbit-010). The magnetic field will point in the direction of the magnetic moment. A simple model of a magnetic material is that is constist of many such microscopic magnetic moments, where each moment corresponds to a small localized or bound current. The net magnetic field from all these microscopic magnetic moments will typically be zero if they are not aligned, but point in random directions.\n",
    "\n",
    "If we apply a magnetic field to such a system, there will be a torque $\\mathbf{\\tau} = \\mathbf{m} \\times \\mathbf{B}$ acting on each such magnetic moment $\\mathbf{m}$, as illustrated in Fig. [fig:magnetization-orbit-010](#fig:magnetization-orbit-010). The torque will act to rotate the dipole so that the magnetic moment aligns with the applied magnetic field. As a consequence, the magnetic field $\\mathbf{B}_m$ set up by the magnetic moments will act in the same direction as the applied magnetic field $\\mathbf{B}$ [^magnetization-footnote-010]. This effect is similar to what we found when we addressed polarization for electric fields, and we will now introduce a magnetization $\\mathbf{M}$ in analogy with the polarization $\\mathbf{P}$. Just as for polarization, we note that the laws we have seen so far in magnetostatics, Biot-Savart's law and Ampere's law, are valid in a magnetic medium, but we need to include all currents, including the effects of the microscopic current loops. Just like for polarization, this is impractical, and we want to modify the theory by introducing a magnetization $\\mathbf{M}$ to take care of the bound currents. Let us see how we can develop that theory.\n",
    "\n",
    "[^magnetization-footnote-010]: Notice that there are also mechanisms that act in the opposite direction, so that the magnetic moment may be turned in a direction opposite the applied magnetic field, an effect we call diamagnetism. We will briefly address mechanisms for diamagnetism below.\n",
    "\n",
    "## Magnetization\n",
    "\n",
    "A magnetic material consists of many microscopic current loops representing the bound currents with magnetic moments $\\mathbf{m}$ as illustrated in Fig. [fig:magnetization-orbit-010](#fig:magnetization-orbit-010). We interpret these magnetic moments as small circuits with current $I$ so that their magnetic moment is"
   ]
  },
  {
   "cell_type": "markdown",
   "metadata": {},
   "source": [
    "<!-- Equation labels as ordinary links -->\n",
    "<div id=\"_auto2\"></div>\n",
    "\n",
    "$$\n",
    "\\begin{equation}\n",
    "\\mathbf{m} = I \\mathbf{S}_m \\; ,\n",
    "\\label{_auto2} \\tag{2}\n",
    "\\end{equation}\n",
    "$$"
   ]
  },
  {
   "cell_type": "markdown",
   "metadata": {},
   "source": [
    "where $\\mathbf{S}_m$ describes both the area and the direction of the magnetic moment (and therefore also the direction of the magnetic field inside the current loop). In a small volume element $\\mathrm{d} v$ of the magnetic material, there will by many magnetic moments. We therefore describe the system by the *magnetization*, which is the sum of the magnetic moments in the volume element divided by the volume of the element (the volume density of magnetic moments):\n",
    "\n",
    " $}\n",
    "\n",
    "**Magnetization.**\n",
    "\n",
    "The magnetization $\\mathbf{M}$ is defined as the net magnetic moment per unit volume:"
   ]
  },
  {
   "cell_type": "markdown",
   "metadata": {},
   "source": [
    "<!-- Equation labels as ordinary links -->\n",
    "<div id=\"_auto3\"></div>\n",
    "\n",
    "$$\n",
    "\\begin{equation}\n",
    "\\mathbf{M} = \\frac{1}{\\mathrm{d} v} \\sum_{i \\text{ in } \\mathrm{d} v} \\mathbf{m}_i \\; .\n",
    "\\label{_auto3} \\tag{3}\n",
    "\\end{equation}\n",
    "$$"
   ]
  },
  {
   "cell_type": "markdown",
   "metadata": {},
   "source": [
    "which means that the total magnetic moment in $\\mathrm{d} v$ is $\\mathbf{M} \\mathrm{d} v$. The magnetization $\\mathbf{M}$ plays a role similar to the polarization $\\mathbf{P}$. We interpret $\\mathbf{M}$ as telling us about the *net* magnetic moment in a volume, which we expect to increase if the microscopic magnetic moments $\\mathbf{m}_i$ are aligned.\n",
    "\n",
    "\n",
    "\n",
    "First, we will simply assume that the material may be magnetized with a given magnetization $\\mathbf{M}$, and see how this will impact Ampere's law. Our plan is to rewrite Ampere's law to discern between bound currents, that are related to the magnetization and the currents in the microscopic current loops, and the free currents, which are due to motion of charged particles over distance and which we can measure using an Ampere-meter.\n",
    "\n",
    "## Rewriting Ampere's law\n",
    "\n",
    "Ampere's law states that"
   ]
  },
  {
   "cell_type": "markdown",
   "metadata": {},
   "source": [
    "<!-- Equation labels as ordinary links -->\n",
    "<div id=\"_auto4\"></div>\n",
    "\n",
    "$$\n",
    "\\begin{equation}\n",
    "\\oint_C \\mathbf{B} \\cdot \\mathrm{d} \\mathbf{l} = \\mu_0 I \\; ,\n",
    "\\label{_auto4} \\tag{4}\n",
    "\\end{equation}\n",
    "$$"
   ]
  },
  {
   "cell_type": "markdown",
   "metadata": {},
   "source": [
    "for any loop $C$ and where the current $I$ includes both the free current and the currents due to the microscopic magnetic moments. Our plan is to sum up the contributions from all the microscopic current loops along a curve $C$. Let us now assume that we can model the magnetization $\\mathbf{M}$ as the effect of identical current loops each with magnetic moment $\\mathbf{m}$ so that $\\mathbf{M} = N \\mathbf{m}$, where $N$ is the number of current loops (magnetic moments) per unit volume. Fig. [fig:magnetization-ampere-010](#fig:magnetization-ampere-010) illustrates the current loop and a small segment $\\mathrm{d} \\mathbf{l}$ along the loop. What are the contributions to the current through $C$ from the microscopic current loops along $\\mathrm{d} \\mathbf{l}$?\n",
    "\n",
    "<!-- dom:FIGURE:[fig-magnetization/magnetization-ampere-010.png, width=600 frac=0.85] Illustration of the current through a loop $C$ and a smaller part of the loop. <div id=\"fig:magnetization-ampere-010\"></div> -->\n",
    "<!-- begin figure -->\n",
    "<div id=\"fig:magnetization-ampere-010\"></div>\n",
    "\n",
    "<p>Illustration of the current through a loop $C$ and a smaller part of the loop.</p>\n",
    "<img src=\"fig-magnetization/magnetization-ampere-010.png\" width=600>\n",
    "\n",
    "<!-- end figure -->\n",
    "\n",
    "\n",
    "First, we notice that it is only the current loops that enclose (run around) $\\mathrm{d} \\mathbf{l}$ that will contribute to the net current through $C$ from the line segment $\\mathrm{d} \\mathbf{l}$. Loops that do not enclose $\\mathrm{d} \\mathbf{l}$ will either not intersect the surface $S$ spanned by $C$ at all, or they will intersect the surface in two points, so that the net contribution to the current through the surface will be zero.\n",
    "\n",
    "Which current loops enclose $\\mathrm{d} \\mathbf{l}$? This depends on the orientation of the loops relative to the orientation of $\\mathrm{d} \\mathbf{l}$. The orientation of the loops are given by the direction of $\\mathbf{M}$. All the current loops with centers that are within the tilted cylinder with area $S_m$ along $\\mathrm{d} \\mathbf{l}$ will intersect the curve $C$ only once, as illustrated in Fig. [fig:magnetization-ampere-010](#fig:magnetization-ampere-010). The volume of this cylinder is $d\\mathbf{v} = \\mathbf{S}_m \\cdot \\mathrm{d} \\mathbf{l}$. The number of magnetic moments in this volume is $N \\mathrm{d} v$, and each magnetic moment will contribute with a current $I$. The contribution to the bound current $I_{b,C}$ through $C$ from this element is therefore"
   ]
  },
  {
   "cell_type": "markdown",
   "metadata": {},
   "source": [
    "<!-- Equation labels as ordinary links -->\n",
    "<div id=\"_auto5\"></div>\n",
    "\n",
    "$$\n",
    "\\begin{equation}\n",
    "\\mathrm{d} I_{b,C} = I \\cdot N \\mathrm{d} v = I \\cdot N \\mathbf{S}_m \\cdot \\mathrm{d} \\mathbf{l} = N \\, I \\mathbf{S}_m \\cdot \\mathrm{d} \\mathbf{l} \\; ,\n",
    "\\label{_auto5} \\tag{5}\n",
    "\\end{equation}\n",
    "$$"
   ]
  },
  {
   "cell_type": "markdown",
   "metadata": {},
   "source": [
    "where we recognize $I \\mathbf{S}_m$ as the magnetic moment of a individual current loop, $\\mathbf{m} = I \\mathbf{S}_m$:"
   ]
  },
  {
   "cell_type": "markdown",
   "metadata": {},
   "source": [
    "<!-- Equation labels as ordinary links -->\n",
    "<div id=\"_auto6\"></div>\n",
    "\n",
    "$$\n",
    "\\begin{equation}\n",
    "\\mathrm{d} I_{b,C} = N \\, \\mathbf{m} \\cdot \\mathrm{d} \\mathbf{l} \\; ,\n",
    "\\label{_auto6} \\tag{6}\n",
    "\\end{equation}\n",
    "$$"
   ]
  },
  {
   "cell_type": "markdown",
   "metadata": {},
   "source": [
    "and we recognize $N \\mathbf{m} = \\mathbf{M}$. We therefore get:"
   ]
  },
  {
   "cell_type": "markdown",
   "metadata": {},
   "source": [
    "<!-- Equation labels as ordinary links -->\n",
    "<div id=\"_auto7\"></div>\n",
    "\n",
    "$$\n",
    "\\begin{equation}\n",
    "d I_{b,C} = \\mathbf{M} \\cdot \\mathrm{d} \\mathbf{l} \\; .\n",
    "\\label{_auto7} \\tag{7}\n",
    "\\end{equation}\n",
    "$$"
   ]
  },
  {
   "cell_type": "markdown",
   "metadata": {},
   "source": [
    "The total contribution from the bound currents along the whole curve $C$ is then found by summing up the contributions from each $\\mathrm{d} \\mathbf{l}$ and integrating along the curve $C$:"
   ]
  },
  {
   "cell_type": "markdown",
   "metadata": {},
   "source": [
    "<!-- Equation labels as ordinary links -->\n",
    "<div id=\"_auto8\"></div>\n",
    "\n",
    "$$\n",
    "\\begin{equation}\n",
    "I_{b,C} = \\oint_C \\mathbf{M} \\cdot \\mathrm{d} \\mathbf{l}\\; .\n",
    "\\label{_auto8} \\tag{8}\n",
    "\\end{equation}\n",
    "$$"
   ]
  },
  {
   "cell_type": "markdown",
   "metadata": {},
   "source": [
    "The total current is therefore $I = I_{b,C} + I_C$, where $I_C$ is the free (non-bound) current through $C$. We insert this back into Ampere's law"
   ]
  },
  {
   "cell_type": "markdown",
   "metadata": {},
   "source": [
    "<!-- Equation labels as ordinary links -->\n",
    "<div id=\"_auto9\"></div>\n",
    "\n",
    "$$\n",
    "\\begin{equation}\n",
    "\\oint_C \\mathbf{B}\\cdot \\mathrm{d} \\mathbf{l} = \\mu_0 I = \\mu_0 \\left( I_C + I_{b,C} \\right) =\\mu_0 I_C + \\mu_0 \\oint_C \\mathbf{M} \\cdot \\mathrm{d} \\mathbf{l} \\; ,\n",
    "\\label{_auto9} \\tag{9}\n",
    "\\end{equation}\n",
    "$$"
   ]
  },
  {
   "cell_type": "markdown",
   "metadata": {},
   "source": [
    "which can be rewritten as"
   ]
  },
  {
   "cell_type": "markdown",
   "metadata": {},
   "source": [
    "<!-- Equation labels as ordinary links -->\n",
    "<div id=\"_auto10\"></div>\n",
    "\n",
    "$$\n",
    "\\begin{equation}\n",
    "\\oint_C \\left( \\mathbf{B} - \\mu_0 \\mathbf{M} \\right) \\mathrm{d} \\mathbf{l} = \\mu_0 I_C \\; .\n",
    "\\label{_auto10} \\tag{10}\n",
    "\\end{equation}\n",
    "$$"
   ]
  },
  {
   "cell_type": "markdown",
   "metadata": {},
   "source": [
    "It is common to divide by $\\mu_0$ on both sides, giving:"
   ]
  },
  {
   "cell_type": "markdown",
   "metadata": {},
   "source": [
    "<!-- Equation labels as ordinary links -->\n",
    "<div id=\"_auto11\"></div>\n",
    "\n",
    "$$\n",
    "\\begin{equation}\n",
    "\\oint_C \\left( \\underbrace{\\frac{1}{\\mu_0}\\mathbf{B} - \\mathbf{M}}_{\\mathbf{H}} \\right) \\mathrm{d} \\mathbf{l} = I_C \\; .\n",
    "\\label{_auto11} \\tag{11}\n",
    "\\end{equation}\n",
    "$$"
   ]
  },
  {
   "cell_type": "markdown",
   "metadata": {},
   "source": [
    "Here, we have defined the $\\mathbf{H}$-field:"
   ]
  },
  {
   "cell_type": "markdown",
   "metadata": {},
   "source": [
    "<!-- Equation labels as ordinary links -->\n",
    "<div id=\"_auto12\"></div>\n",
    "\n",
    "$$\n",
    "\\begin{equation}\n",
    "\\mathbf{H} = \\frac{1}{\\mu_0} \\mathbf{B} - \\mathbf{M} \\; .\n",
    "\\label{_auto12} \\tag{12}\n",
    "\\end{equation}\n",
    "$$"
   ]
  },
  {
   "cell_type": "markdown",
   "metadata": {},
   "source": [
    "We have therefore now reformulated Ampere's law for a magnetic material.\n",
    "\n",
    "**Ampere's law in a magnetic material.**\n",
    "\n",
    "**Ampere's law** in a magnetic material is:"
   ]
  },
  {
   "cell_type": "markdown",
   "metadata": {},
   "source": [
    "<!-- Equation labels as ordinary links -->\n",
    "<div id=\"_auto13\"></div>\n",
    "\n",
    "$$\n",
    "\\begin{equation}\n",
    "\\oint_C \\mathbf{H} \\cdot \\mathrm{d} \\mathbf{l} = I_{C,\\text{free}} \\; ,\n",
    "\\label{_auto13} \\tag{13}\n",
    "\\end{equation}\n",
    "$$"
   ]
  },
  {
   "cell_type": "markdown",
   "metadata": {},
   "source": [
    "for any closed loop $C$. The current $I_{C,text{free}}$ is the free current passing through the closed loop $C$. The $\\mathbf{H}$-field is defined as"
   ]
  },
  {
   "cell_type": "markdown",
   "metadata": {},
   "source": [
    "<!-- Equation labels as ordinary links -->\n",
    "<div id=\"_auto14\"></div>\n",
    "\n",
    "$$\n",
    "\\begin{equation}\n",
    "\\mathbf{H} = \\frac{1}{\\mu_0} \\mathbf{B} - \\mathbf{M} \\; ,\n",
    "\\label{_auto14} \\tag{14}\n",
    "\\end{equation}\n",
    "$$"
   ]
  },
  {
   "cell_type": "markdown",
   "metadata": {},
   "source": [
    "where $\\mathbf{B}$ is the magnetic field and $\\mathbf{M}$ is the magnetization.\n",
    "\n",
    "\n",
    "\n",
    "## Interpretation of the bound current density\n",
    "\n",
    "We know that the current $I$ is related to the current density $\\mathbf{J}$ of the free current through"
   ]
  },
  {
   "cell_type": "markdown",
   "metadata": {},
   "source": [
    "<!-- Equation labels as ordinary links -->\n",
    "<div id=\"_auto15\"></div>\n",
    "\n",
    "$$\n",
    "\\begin{equation}\n",
    "I = \\int_S \\mathbf{J} \\cdot \\mathrm{d} \\mathbf{S} \\; .\n",
    "\\label{_auto15} \\tag{15}\n",
    "\\end{equation}\n",
    "$$"
   ]
  },
  {
   "cell_type": "markdown",
   "metadata": {},
   "source": [
    "Can we find an expression for the bound current density? We found that the bound current through a closed loop $C$ is"
   ]
  },
  {
   "cell_type": "markdown",
   "metadata": {},
   "source": [
    "$$\n",
    "\\begin{equation}\n",
    "I_{b,C} = \\oint_C \\mathbf{M} \\cdot \\mathrm{d} \\mathbf{l} \\; .\n",
    "\\label{}\n",
    "\\end{equation}\n",
    "$$"
   ]
  },
  {
   "cell_type": "markdown",
   "metadata": {},
   "source": [
    "We can rewrite this using Stoke's theorem as:"
   ]
  },
  {
   "cell_type": "markdown",
   "metadata": {},
   "source": [
    "<!-- Equation labels as ordinary links -->\n",
    "<div id=\"_auto16\"></div>\n",
    "\n",
    "$$\n",
    "\\begin{equation}\n",
    "I_{b,C} = \\oint_C \\mathbf{M} \\cdot \\mathrm{d} \\mathbf{l} = \\int_S \\nabla \\times \\mathbf{M} \\cdot \\mathrm{d} \\mathbf{S} \\; ,\n",
    "\\label{_auto16} \\tag{16}\n",
    "\\end{equation}\n",
    "$$"
   ]
  },
  {
   "cell_type": "markdown",
   "metadata": {},
   "source": [
    "where $S$ is the surface enclosed by $C$. We can therefore interpret this as the bound current density:"
   ]
  },
  {
   "cell_type": "markdown",
   "metadata": {},
   "source": [
    "<!-- Equation labels as ordinary links -->\n",
    "<div id=\"_auto17\"></div>\n",
    "\n",
    "$$\n",
    "\\begin{equation}\n",
    "I_{b,C} = \\int_S \\mathbf{J}_b \\cdot \\mathrm{d} \\mathbf{S} = \\int_S \\nabla \\times \\mathbf{M} \\cdot \\mathrm{d} \\mathbf{S} \\; .\n",
    "\\label{_auto17} \\tag{17}\n",
    "\\end{equation}\n",
    "$$"
   ]
  },
  {
   "cell_type": "markdown",
   "metadata": {},
   "source": [
    "Because this is true for any surface $S$, it must also be true for the arguments of the integral, that is, $\\mathbf{J}_b = \\nabla \\times \\mathbf{M}$.\n",
    "\n",
    "## Ampere's law on differential form\n",
    "\n",
    "We can also rewrite Ampere's law on differential form using Stoke's theorem. Ampere's law in a magntic material states that:"
   ]
  },
  {
   "cell_type": "markdown",
   "metadata": {},
   "source": [
    "<!-- Equation labels as ordinary links -->\n",
    "<div id=\"_auto18\"></div>\n",
    "\n",
    "$$\n",
    "\\begin{equation}\n",
    "\\oint_C \\mathbf{H} \\cdot \\mathrm{d} \\mathbf{l} = I_{C, \\text{free}} \\; ,\n",
    "\\label{_auto18} \\tag{18}\n",
    "\\end{equation}\n",
    "$$"
   ]
  },
  {
   "cell_type": "markdown",
   "metadata": {},
   "source": [
    "where the definition of the current is"
   ]
  },
  {
   "cell_type": "markdown",
   "metadata": {},
   "source": [
    "<!-- Equation labels as ordinary links -->\n",
    "<div id=\"_auto19\"></div>\n",
    "\n",
    "$$\n",
    "\\begin{equation}\n",
    "I_{C,\\text{free}} = \\int_S \\mathbf{J} \\cdot \\mathrm{d} \\mathbf{S} \\; ,\n",
    "\\label{_auto19} \\tag{19}\n",
    "\\end{equation}\n",
    "$$"
   ]
  },
  {
   "cell_type": "markdown",
   "metadata": {},
   "source": [
    "and we apply Stoke's theorem to get:"
   ]
  },
  {
   "cell_type": "markdown",
   "metadata": {},
   "source": [
    "<!-- Equation labels as ordinary links -->\n",
    "<div id=\"_auto20\"></div>\n",
    "\n",
    "$$\n",
    "\\begin{equation}\n",
    "\\oint_C \\mathbf{H} \\cdot \\mathrm{d} \\mathbf{l} = \\int_S \\nabla \\times \\mathbf{H} \\cdot \\mathrm{d} \\mathbf{S} = \\int_S \\mathbf{J} \\cdot \\mathrm{d} \\mathbf{S} \\; .\n",
    "\\label{_auto20} \\tag{20}\n",
    "\\end{equation}\n",
    "$$"
   ]
  },
  {
   "cell_type": "markdown",
   "metadata": {},
   "source": [
    "Because this is true for any surface $S$, the arguments of the integral must be identical. This gives us Ampere's law on differential form.\n",
    "\n",
    "**Ampere's law on differential form.**\n",
    "\n",
    "**Ampere's law** on differential form states that"
   ]
  },
  {
   "cell_type": "markdown",
   "metadata": {},
   "source": [
    "<!-- Equation labels as ordinary links -->\n",
    "<div id=\"_auto21\"></div>\n",
    "\n",
    "$$\n",
    "\\begin{equation}\n",
    "\\nabla \\times \\mathbf{H} = \\mathbf{J} \\; ,\n",
    "\\label{_auto21} \\tag{21}\n",
    "\\end{equation}\n",
    "$$"
   ]
  },
  {
   "cell_type": "markdown",
   "metadata": {},
   "source": [
    "where $\\mathbf{J}$ is the free current density and"
   ]
  },
  {
   "cell_type": "markdown",
   "metadata": {},
   "source": [
    "<!-- Equation labels as ordinary links -->\n",
    "<div id=\"_auto22\"></div>\n",
    "\n",
    "$$\n",
    "\\begin{equation}\n",
    "\\mathbf{H} = \\frac{1}{\\mu_0} \\mathbf{B} - \\mathbf{M} \\; ,\n",
    "\\label{_auto22} \\tag{22}\n",
    "\\end{equation}\n",
    "$$"
   ]
  },
  {
   "cell_type": "markdown",
   "metadata": {},
   "source": [
    "and $\\mathbf{M}$ is the magnetization.\n",
    "\n",
    "\n",
    "\n",
    "## Magnetic materials\n",
    "\n",
    "Ampere's law for magnetic material is an analogous extension of Ampere's law to Gauss' law extension to dielectric materials. We can use Ampere's law to find the $\\mathbf{H}$ field for a system, but in order to use that to find the magnetic field $\\mathbf{B}$ we need to either have a theory to relate the magnetization to the magnetic field or a model for the magnetization.\n",
    "\n",
    "### Linear materials\n",
    "\n",
    "For many magnetic materials, the magnetization is proportional to $\\mathbf{H}$:"
   ]
  },
  {
   "cell_type": "markdown",
   "metadata": {},
   "source": [
    "<!-- Equation labels as ordinary links -->\n",
    "<div id=\"_auto23\"></div>\n",
    "\n",
    "$$\n",
    "\\begin{equation}\n",
    "\\mathbf{M} = \\chi_m \\mathbf{H} \\; ,\n",
    "\\label{_auto23} \\tag{23}\n",
    "\\end{equation}\n",
    "$$"
   ]
  },
  {
   "cell_type": "markdown",
   "metadata": {},
   "source": [
    "where $\\chi_m$ is called the *magnetic suscpetibility* of the material. We call such material *linear (magnetic) materials*. For these materials, the magnetic field $\\mathbf{B}$ is proportional to $\\mathbf{H}$, because"
   ]
  },
  {
   "cell_type": "markdown",
   "metadata": {},
   "source": [
    "<!-- Equation labels as ordinary links -->\n",
    "<div id=\"_auto24\"></div>\n",
    "\n",
    "$$\n",
    "\\begin{equation}\n",
    "\\mathbf{H} = \\frac{1}{\\mu_0} \\mathbf{B} - \\mathbf{M} \\quad \\Rightarrow \\quad \\mathbf{B} = \\mu_0 \\left( \\mathbf{H} + \\mathbf{M} \\right)  \\; ,\n",
    "\\label{_auto24} \\tag{24}\n",
    "\\end{equation}\n",
    "$$"
   ]
  },
  {
   "cell_type": "markdown",
   "metadata": {},
   "source": [
    "which when $\\mathbf{M} = \\chi_m \\mathbf{H}$ gives"
   ]
  },
  {
   "cell_type": "markdown",
   "metadata": {},
   "source": [
    "<!-- Equation labels as ordinary links -->\n",
    "<div id=\"_auto25\"></div>\n",
    "\n",
    "$$\n",
    "\\begin{equation}\n",
    "\\mathbf{B} = \\mu_0 \\left( \\mathbf{H} +  \\mathbf{M} \\right) = \\mu_0 \\left( 1 + \\chi_m \\right) \\mathbf{H} = \\mu_r \\mu_0 \\mathbf{H} = \\mu \\mathbf{H} \\; ,\n",
    "\\label{_auto25} \\tag{25}\n",
    "\\end{equation}\n",
    "$$"
   ]
  },
  {
   "cell_type": "markdown",
   "metadata": {},
   "source": [
    "where we have introduced a notation similar to what we used for polarization. The relative permeability $\\mu_r = 1 + \\chi_m$ and the absolute permeability is $\\mu = \\mu_r \\mu_0$. In vacuum, we have that $\\mu = \\mu_0$ and $\\mathbf{B} = \\mu_0 \\mathbf{H}$.\n",
    "\n",
    "**Linear magnetic materials.**\n",
    "\n",
    "For **linear magnetic materials** the magnetic field is proportional to $\\mathbf{H}$:"
   ]
  },
  {
   "cell_type": "markdown",
   "metadata": {},
   "source": [
    "<!-- Equation labels as ordinary links -->\n",
    "<div id=\"_auto26\"></div>\n",
    "\n",
    "$$\n",
    "\\begin{equation}\n",
    "\\mathbf{B} = \\mu_r \\mu_0 \\mathbf{H} = \\mu \\mathbf{H} \\; ,\n",
    "\\label{_auto26} \\tag{26}\n",
    "\\end{equation}\n",
    "$$"
   ]
  },
  {
   "cell_type": "markdown",
   "metadata": {},
   "source": [
    "where $\\mu_r$ is called the *relative permeability* and $\\mu$ is called the *absolute permeability*.\n",
    "\n",
    "\n",
    "\n",
    "### Material constants\n",
    "\n",
    "The relative permeability is a material property. For magnetic materials the relative permeability can be smaller than one, which means that the material is diamagnetic.\n",
    "\n",
    "\n",
    "<table border=\"1\">\n",
    "<thead>\n",
    "<tr><th align=\"center\">Material</th> <th align=\"center\">$\\mu_r$ </th> <th align=\"center\">    Material    </th> <th align=\"center\">    $\\mu_r$    </th> </tr>\n",
    "</thead>\n",
    "<tbody>\n",
    "<tr><td align=\"left\">   Gold        </td> <td align=\"center\">   0.99996     </td> <td align=\"left\">   Air                 </td> <td align=\"center\">   1.0000004          </td> </tr>\n",
    "<tr><td align=\"left\">   Silver      </td> <td align=\"center\">   0.99997     </td> <td align=\"left\">   Aluminum            </td> <td align=\"center\">   1.00002            </td> </tr>\n",
    "<tr><td align=\"left\">   Copper      </td> <td align=\"center\">   0.999991    </td> <td align=\"left\">   Iron (+ Silicon)    </td> <td align=\"center\">   7000               </td> </tr>\n",
    "<tr><td align=\"left\">   Water       </td> <td align=\"center\">   0.999991    </td> <td align=\"left\">   Pure iron           </td> <td align=\"center\">   $2 \\times 10^5$    </td> </tr>\n",
    "<tr><td align=\"left\">   Vacuum      </td> <td align=\"center\">   0.999991    </td> <td align=\"left\">   Suermalloy          </td> <td align=\"center\">   $10^6$             </td> </tr>\n",
    "</tbody>\n",
    "</table>\n",
    "### Magnetic materials\n",
    "\n",
    "We classify magnetic materials as *diamagnetic* when $\\mu_r <1$, *paramagnetic* when $\\mu_r >1$, but $\\mu_r \\simeq 1$, and *ferromagnetic* when $\\mu_r \\gg 1$. \n",
    "\n",
    "\n",
    "\n",
    "### Hysteresis\n",
    "\n",
    "Notice that many ferromagnetic materials have a significant magnetic response, but that they often are non-linear and depend on the history of the material. A typical behavior of the magnetization of a ferromagnetic materials as a function of $\\mathbf{H}$ is illustrated in Fig. [fig:magnetization-hysteresis-010](#fig:magnetization-hysteresis-010). The magnetization does not only depend on the $\\mathbf{H}$-field, but also on the history of the magnetization. Let us assume that both the magnetization $M$ and the applied field $H$ is zero. As we increase the applied field, $H$, the magnitization will also increase. First it increases linearly, but eventually it saturates and does not increase much more, because all domains (all microcurrents) are aligned, and the magnetization cannot increase further even if the $H$-field is increased. As we reduce $H$, the magnetic field will lag, and when the magnetic field $H$ is zero, the magnetization is not zero, which means that there system is now a *permanent magnet*. When $H$ becomes negative, $M$ will reduce further, eventually becoming zero and negative, until the magnetization again saturates at its maximum value in the opposite direction. Notice that this means that at points along the curve, $H$ and $M$ might point in opposite directions.\n",
    "\n",
    "\n",
    "\n",
    "<!-- dom:FIGURE:[fig-magnetization/magnetization-hysteresis-010.png, width=600 frac=0.4] Illustration of hysteresis loop for magnetization. <div id=\"fig:magnetization-hysteresis-010\"></div> -->\n",
    "<!-- begin figure -->\n",
    "<div id=\"fig:magnetization-hysteresis-010\"></div>\n",
    "\n",
    "<p>Illustration of hysteresis loop for magnetization.</p>\n",
    "<img src=\"fig-magnetization/magnetization-hysteresis-010.png\" width=600>\n",
    "\n",
    "<!-- end figure -->\n",
    "\n",
    "\n",
    "## Maxwell's equations for static magnetic fields\n",
    "\n",
    "We now have found maxwell equations for static magnetic fields:"
   ]
  },
  {
   "cell_type": "markdown",
   "metadata": {},
   "source": [
    "<!-- Equation labels as ordinary links -->\n",
    "<div id=\"_auto27\"></div>\n",
    "\n",
    "$$\n",
    "\\begin{equation}\n",
    "\\nabla \\times \\mathbf{H} = \\mathbf{J} \\; ,\n",
    "\\label{_auto27} \\tag{27}\n",
    "\\end{equation}\n",
    "$$"
   ]
  },
  {
   "cell_type": "markdown",
   "metadata": {},
   "source": [
    "and"
   ]
  },
  {
   "cell_type": "markdown",
   "metadata": {},
   "source": [
    "<!-- Equation labels as ordinary links -->\n",
    "<div id=\"_auto28\"></div>\n",
    "\n",
    "$$\n",
    "\\begin{equation}\n",
    "\\nabla \\cdot \\mathbf{B} = 0 \\; .\n",
    "\\label{_auto28} \\tag{28}\n",
    "\\end{equation}\n",
    "$$"
   ]
  },
  {
   "cell_type": "markdown",
   "metadata": {},
   "source": [
    "## Example: Coaxial conductors in magnetic material\n",
    "\n",
    "What is the magnetic field inside a coaxial cable with a magnetic material? We can use the same method as we used for Ampere's law in vacuum.\n",
    "\n",
    "First, we realize that that symmetry of the $\\mathbf{H}$-field is the same as the symmetry of the $\\mathbf{B}$-field. This means that we expect the $\\mathbf{H}$-field to have cylindrical symmetry with only a component in the azimuthal direction that may depend on the distance $r$ to the center of the cylinder:"
   ]
  },
  {
   "cell_type": "markdown",
   "metadata": {},
   "source": [
    "<!-- Equation labels as ordinary links -->\n",
    "<div id=\"_auto29\"></div>\n",
    "\n",
    "$$\n",
    "\\begin{equation}\n",
    "\\mathbf{H} = H_{\\phi}(r) \\boldsymbol{\\hat{\\phi}} \\; ,\n",
    "\\label{_auto29} \\tag{29}\n",
    "\\end{equation}\n",
    "$$"
   ]
  },
  {
   "cell_type": "markdown",
   "metadata": {},
   "source": [
    "We apply Ampere's law to a circular loop of radius $r$:"
   ]
  },
  {
   "cell_type": "markdown",
   "metadata": {},
   "source": [
    "<!-- Equation labels as ordinary links -->\n",
    "<div id=\"_auto30\"></div>\n",
    "\n",
    "$$\n",
    "\\begin{equation}\n",
    "\\oint_C \\mathbf{H} \\cdot \\mathrm{d} \\mathbf{l} = \\oint_C H_{\\phi}(r) \\mathrm{d} l = H \\oint_C \\mathrm{d} l = H \\, 2\\pi r = I \\; ,\n",
    "\\label{_auto30} \\tag{30}\n",
    "\\end{equation}\n",
    "$$"
   ]
  },
  {
   "cell_type": "markdown",
   "metadata": {},
   "source": [
    "The current $I$ is only non-zero in the range $a<r<b$. In this region, we find that"
   ]
  },
  {
   "cell_type": "markdown",
   "metadata": {},
   "source": [
    "<!-- Equation labels as ordinary links -->\n",
    "<div id=\"_auto31\"></div>\n",
    "\n",
    "$$\n",
    "\\begin{equation}\n",
    "\\mathbf{H} = \\frac{I}{2 \\pi r}\\boldsymbol{\\hat{\\phi}} \\; ,\n",
    "\\label{_auto31} \\tag{31}\n",
    "\\end{equation}\n",
    "$$"
   ]
  },
  {
   "cell_type": "markdown",
   "metadata": {},
   "source": [
    "The magnetic field is then"
   ]
  },
  {
   "cell_type": "markdown",
   "metadata": {},
   "source": [
    "<!-- Equation labels as ordinary links -->\n",
    "<div id=\"_auto32\"></div>\n",
    "\n",
    "$$\n",
    "\\begin{equation}\n",
    "\\mathbf{B} = \\mu \\mathbf{H} = \\frac{\\mu I}{2 \\pi r} \\boldsymbol{\\hat{\\phi}} \\; .\n",
    "\\label{_auto32} \\tag{32}\n",
    "\\end{equation}\n",
    "$$"
   ]
  },
  {
   "cell_type": "markdown",
   "metadata": {},
   "source": [
    "This result is identical to the result we found for the same system in vacuum, but we have replaced $\\mu_0$ with $\\mu$.\n",
    "\n",
    "## Surface currents\n",
    "\n",
    "Let us see if we can understand what happens inside a permanent magnet? Fig. [fig:magnetization-permanent-010](#fig:magnetization-permanent-010) describes a cylindrical permanent magnet. Let us assume that the cylinder has a uniform magnetization $\\mathbf{M} = M_0 \\mathbf{\\hat{z}}$. This means that the bound current density inside the magnet is $\\mathbf{J}_b = \\nabla \\times \\mathbf{M} = 0$ inside the magnet. What happended to the bound currents? Fig. [fig:magnetization-permanent-010](#fig:magnetization-permanent-010) illustrates the many parallel microscopic current loops in the material. We see that anywhere inside the material, there is always an adjacent loop. This means that any local current $I$ along a loop is counteracted by an equal and opposite current $I$ from a neighboring loop. Inside the material, the currents from these loops cancel, so that there is no net bound current density. However, at the external boundaries of the magnetic material, there are no counteracting currents. As a result, there is a surface current on the outer surface of the permament magnet, which points in the azimuthal direction. We therefore need to modify out theory of the bound currents to not only include a bound volume current density, but a bound surface current density on the outer surface of a magnetic material.\n",
    "\n",
    "<!-- dom:FIGURE:[fig-magnetization/magnetization-permanent-010.png, width=600 frac=1] Illustration of a permanent magnet with a uniform magnetization $\\mathbf{M} = M_0 \\mathbf{\\hat{z}}$ inside. <div id=\"fig:magnetization-permanent-010\"></div> -->\n",
    "<!-- begin figure -->\n",
    "<div id=\"fig:magnetization-permanent-010\"></div>\n",
    "\n",
    "<p>Illustration of a permanent magnet with a uniform magnetization $\\mathbf{M} = M_0 \\mathbf{\\hat{z}}$ inside.</p>\n",
    "<img src=\"fig-magnetization/magnetization-permanent-010.png\" width=600>\n",
    "\n",
    "<!-- end figure -->\n",
    "\n",
    "\n",
    "### Bound surface current density\n",
    "\n",
    "We have sketched a small part of the surface of a magnetic material in Fig. [fig:magnetization-permanent-020](#fig:magnetization-permanent-020). The surface normal is illustrated as $\\mathbf{\\hat{n}}$ and the magnetization is illustrated at $\\mathbf{M}$. We form a current loop $C$ in the plane formed by $\\mathbf{M}$ and $\\mathbf{\\hat{n}}$. The loop has a length $\\Delta l$ and a thickness $\\Delta h$, where we will let $\\Delta h \\rightarrow 0$. Inside the material, there is a magnetization $\\mathbf{M}$, while outside the material, the magnetization is zero. The bound current flowing through the loop $C$ is then given as:"
   ]
  },
  {
   "cell_type": "markdown",
   "metadata": {},
   "source": [
    "<!-- Equation labels as ordinary links -->\n",
    "<div id=\"_auto33\"></div>\n",
    "\n",
    "$$\n",
    "\\begin{equation}\n",
    "I_b = \\int_C \\mathbf{M} \\cdot \\mathrm{d} \\mathbf{l} = h \\cdot \\mathbf{M} + \\Delta \\mathbf{l} \\cdot \\mathbf{M} - h \\cdot \\mathbf{M} - \\Delta \\mathbf{l} \\cdot \\mathbf{M}_{\\text{outside}} \\; ,\n",
    "\\label{_auto33} \\tag{33}\n",
    "\\end{equation}\n",
    "$$"
   ]
  },
  {
   "cell_type": "markdown",
   "metadata": {},
   "source": [
    "where we let $h \\rightarrow 0$. We therefore get"
   ]
  },
  {
   "cell_type": "markdown",
   "metadata": {},
   "source": [
    "<!-- Equation labels as ordinary links -->\n",
    "<div id=\"_auto34\"></div>\n",
    "\n",
    "$$\n",
    "\\begin{equation}\n",
    "I_b = \\Delta \\mathbf{l}\\cdot \\mathbf{M} = M \\Delta l \\cos \\beta = M \\Delta l \\sin \\alpha \\; ,\n",
    "\\label{_auto34} \\tag{34}\n",
    "\\end{equation}\n",
    "$$"
   ]
  },
  {
   "cell_type": "markdown",
   "metadata": {},
   "source": [
    "where $\\beta$ is the angle between $\\mathbf{M}$ and $\\Delta \\mathbf{l}$ and $\\alpha$ is the angle between $\\mathbf{\\hat{n}}$ and $\\mathbf{M}$. The direction of this current is out of the plane, and we recognize it as a bound surface current density $J_{b,s}$ multiplied with the length $\\Delta l$:"
   ]
  },
  {
   "cell_type": "markdown",
   "metadata": {},
   "source": [
    "<!-- Equation labels as ordinary links -->\n",
    "<div id=\"_auto35\"></div>\n",
    "\n",
    "$$\n",
    "\\begin{equation}\n",
    "I_b = J_{b,s} \\Delta l \\; .\n",
    "\\label{_auto35} \\tag{35}\n",
    "\\end{equation}\n",
    "$$"
   ]
  },
  {
   "cell_type": "markdown",
   "metadata": {},
   "source": [
    "We therefore see that"
   ]
  },
  {
   "cell_type": "markdown",
   "metadata": {},
   "source": [
    "<!-- Equation labels as ordinary links -->\n",
    "<div id=\"_auto36\"></div>\n",
    "\n",
    "$$\n",
    "\\begin{equation}\n",
    "J_{b,s} \\Delta l = I_b = M \\Delta l \\sin \\alpha \\; ,\n",
    "\\label{_auto36} \\tag{36}\n",
    "\\end{equation}\n",
    "$$"
   ]
  },
  {
   "cell_type": "markdown",
   "metadata": {},
   "source": [
    "and"
   ]
  },
  {
   "cell_type": "markdown",
   "metadata": {},
   "source": [
    "<!-- Equation labels as ordinary links -->\n",
    "<div id=\"_auto37\"></div>\n",
    "\n",
    "$$\n",
    "\\begin{equation}\n",
    "J_{b,s} = I_b = M\\sin \\alpha \\; .\n",
    "\\label{_auto37} \\tag{37}\n",
    "\\end{equation}\n",
    "$$"
   ]
  },
  {
   "cell_type": "markdown",
   "metadata": {},
   "source": [
    "The surface current density points out of the plane of the curve $C$, that is, in the direction of $\\mathbf{M} \\times \\mathbf{\\hat{n}}$. We also notice that $\\mathbf{M} \\times \\mathbf{\\hat{n}} = M \\sin \\alpha$, and therefore we write:"
   ]
  },
  {
   "cell_type": "markdown",
   "metadata": {},
   "source": [
    "<!-- Equation labels as ordinary links -->\n",
    "<div id=\"_auto38\"></div>\n",
    "\n",
    "$$\n",
    "\\begin{equation}\n",
    "\\mathbf{J}_{b,s} = \\mathbf{M} \\times \\mathbf{\\hat{n}} \\; .\n",
    "\\label{_auto38} \\tag{38}\n",
    "\\end{equation}\n",
    "$$"
   ]
  },
  {
   "cell_type": "markdown",
   "metadata": {},
   "source": [
    "We therefore have two terms for the bound current densities.\n",
    "\n",
    "**Bound current densities.**\n",
    "\n",
    "The **bound volume current density** $\\mathbf{J}_b$ inside a magnetic material with magnetization $\\mathbf{M}$ is:"
   ]
  },
  {
   "cell_type": "markdown",
   "metadata": {},
   "source": [
    "<!-- Equation labels as ordinary links -->\n",
    "<div id=\"_auto39\"></div>\n",
    "\n",
    "$$\n",
    "\\begin{equation}\n",
    "\\mathbf{J}_b = \\nabla \\times \\mathbf{M} \\; .\n",
    "\\label{_auto39} \\tag{39}\n",
    "\\end{equation}\n",
    "$$"
   ]
  },
  {
   "cell_type": "markdown",
   "metadata": {},
   "source": [
    "and the **bound surface current density** $\\mathbf{J}_{b,s}$ on the surface of a magnetic material (the interface between the magnetic material and vacuum/air) is"
   ]
  },
  {
   "cell_type": "markdown",
   "metadata": {},
   "source": [
    "<!-- Equation labels as ordinary links -->\n",
    "<div id=\"_auto40\"></div>\n",
    "\n",
    "$$\n",
    "\\begin{equation}\n",
    "\\mathbf{J}_{b,s} = \\mathbf{M} \\times \\mathbf{\\hat{n}} \\; ,\n",
    "\\label{_auto40} \\tag{40}\n",
    "\\end{equation}\n",
    "$$"
   ]
  },
  {
   "cell_type": "markdown",
   "metadata": {},
   "source": [
    "where $\\mathbf{\\hat{n}}$ is the local surface normal.\n",
    "\n",
    "\n",
    "\n",
    "<!-- dom:FIGURE:[fig-magnetization/magnetization-permanent-020.png, width=600 frac=1] The surface of a magnetic material with an illustration of the bound surface current. <div id=\"fig:magnetization-permanent-020\"></div> -->\n",
    "<!-- begin figure -->\n",
    "<div id=\"fig:magnetization-permanent-020\"></div>\n",
    "\n",
    "<p>The surface of a magnetic material with an illustration of the bound surface current.</p>\n",
    "<img src=\"fig-magnetization/magnetization-permanent-020.png\" width=600>\n",
    "\n",
    "<!-- end figure -->\n",
    "\n",
    "\n",
    "## Example: Permanent magnet\n",
    "\n",
    "We can apply these new tools to address the magnetic field inside and outside of a cylindrical permanent magnet with a uniform magnetization $\\mathbf{M}$.\n",
    "\n",
    "We know that inside the magnet, the bound volume current density is $\\mathbf{J}_b = \\nabla \\times \\mathbf{M} = 0$. However, at the outer surface of the cylinder, the surface normal vector is $\\mathbf{\\hat{r}}$. The bound surface current density is therefore"
   ]
  },
  {
   "cell_type": "markdown",
   "metadata": {},
   "source": [
    "<!-- Equation labels as ordinary links -->\n",
    "<div id=\"_auto41\"></div>\n",
    "\n",
    "$$\n",
    "\\begin{equation}\n",
    "\\mathbf{J}_{b,s} = \\mathbf{M} \\times \\mathbf{\\hat{n}} = M_z \\mathbf{\\hat{z}} \\times \\mathbf{\\hat{r}} = M_z \\boldsymbol{\\hat{\\phi}} \\; .\n",
    "\\label{_auto41} \\tag{41}\n",
    "\\end{equation}\n",
    "$$"
   ]
  },
  {
   "cell_type": "markdown",
   "metadata": {},
   "source": [
    "Thus, there is a bound current similar to what we have in a finite solenoid. If the permanent magnet is long, we therefore expect the magnetic field to be the same as for a solenoid. That is, we expect the magnetic field to be uniform inside the permanent magnet and directed along the magnetization. We can also find the magnitude of the magnetic field by applying Amperes law to a current loop with a part $\\Delta l$ inside the magnet, a part $\\Delta l$ outside the magnet, and two small pieces $\\Delta h$ connecting them as illustrated in Fig. [fig:magnetization-permanent-030](#fig:magnetization-permanent-030). We assume the magnetic field is zero outside the permanent magnet, similar to what we found for the long solenoid. Ampere's law along this loop gives:"
   ]
  },
  {
   "cell_type": "markdown",
   "metadata": {},
   "source": [
    "<!-- Equation labels as ordinary links -->\n",
    "<div id=\"_auto42\"></div>\n",
    "\n",
    "$$\n",
    "\\begin{equation}\n",
    "\\oint_C \\mathbf{B}\\cdot \\mathrm{d} \\mathbf{l} = B \\Delta l = \\mu_0 I = \\mu_0 J_{s,b} \\Delta l = \\mu_0 M_z \\Delta l \\; .\n",
    "\\label{_auto42} \\tag{42}\n",
    "\\end{equation}\n",
    "$$"
   ]
  },
  {
   "cell_type": "markdown",
   "metadata": {},
   "source": [
    "That is, we found that $\\mathbf{B} = \\mu_0 \\mathbf{M}$ inside the permanent magnet when we are far away from the edges. Because $\\mathbf{B} = \\mu_0 \\left( \\mathbf{H} + \\mathbf{M} \\right)$ this implies that $\\mathbf{H}$ is zero if the cylinder is infintely long.\n",
    "\n",
    "Notice that this approximation is only valid for an infinitely long cylinder. For a finite cylinder we need to perform a more careful calculation, even in the case when the magnetization is uniform. We will leave this for the exercises.\n",
    "\n",
    "<!-- dom:FIGURE:[fig-magnetization/magnetization-permanent-030.png, width=600 frac=0.7] Illustration of the magnetization, the bound surface current density and the integration loop $C$ for a permanent magnet with a uniform magnetization $\\mathbf{M}$ <div id=\"fig:magnetization-permanent-030\"></div> -->\n",
    "<!-- begin figure -->\n",
    "<div id=\"fig:magnetization-permanent-030\"></div>\n",
    "\n",
    "<p>Illustration of the magnetization, the bound surface current density and the integration loop $C$ for a permanent magnet with a uniform magnetization $\\mathbf{M}$</p>\n",
    "<img src=\"fig-magnetization/magnetization-permanent-030.png\" width=600>\n",
    "\n",
    "<!-- end figure -->\n",
    "\n",
    "\n",
    "# Boundary conditions for magnetic fields\n",
    "\n",
    "For the electric field we derived boundary conditions at the interface between materials with different dielectric constants by applying Gauss' law on small volumes or that $\\nabla \\times \\mathbf{E} = 0$ for small closed curves. Let us apply a similar method to find the boundary conditions for the magnetic fields across a boundary.\n",
    "\n",
    "## Normal boundary conditions\n",
    "\n",
    "Fig. [fig:magnetization-boundary-010](#fig:magnetization-boundary-010)a illustrates a boundary between two materials $1$ and $2$ with differing magnetic properties. We relate the normal component of the magnetic field in material 1 and material 2 by introducing a cylindrical Gauss surface with a small height $\\Delta h$ and a surface area $\\Delta S$. The axis of the cylinder is oriented along the local surface normal $\\mathbf{\\hat{n}}$ of the interface. We apply the flux integral:"
   ]
  },
  {
   "cell_type": "markdown",
   "metadata": {},
   "source": [
    "<!-- Equation labels as ordinary links -->\n",
    "<div id=\"_auto43\"></div>\n",
    "\n",
    "$$\n",
    "\\begin{equation}\n",
    "\\int_S \\mathbf{B} \\cdot \\mathrm{d} \\mathbf{S} = 0 \\; ,\n",
    "\\label{_auto43} \\tag{43}\n",
    "\\end{equation}\n",
    "$$"
   ]
  },
  {
   "cell_type": "markdown",
   "metadata": {},
   "source": [
    "where $S$ is the surface of the cylinder. We assume that $\\Delta h \\rightarrow 0$ so that the flux contribution through the cylinder side is zero. The integral is then"
   ]
  },
  {
   "cell_type": "markdown",
   "metadata": {},
   "source": [
    "<!-- Equation labels as ordinary links -->\n",
    "<div id=\"_auto44\"></div>\n",
    "\n",
    "$$\n",
    "\\begin{equation}\n",
    "\\int_S \\mathbf{B}\\cdot \\mathrm{d} \\mathbf{S} \\simeq \\mathbf{B}_1 \\cdot \\mathbf{\\hat{n}} \\Delta S - \\mathbf{B}_2 \\cdot \\mathbf{\\hat{n}} \\Delta S = 0 \\; ,\n",
    "\\label{_auto44} \\tag{44}\n",
    "\\end{equation}\n",
    "$$"
   ]
  },
  {
   "cell_type": "markdown",
   "metadata": {},
   "source": [
    "which gives that"
   ]
  },
  {
   "cell_type": "markdown",
   "metadata": {},
   "source": [
    "<!-- Equation labels as ordinary links -->\n",
    "<div id=\"_auto45\"></div>\n",
    "\n",
    "$$\n",
    "\\begin{equation}\n",
    "\\mathbf{B}_1 \\cdot \\mathbf{\\hat{n}} = \\mathbf{B}_2 \\cdot \\mathbf{\\hat{n}} \\; .\n",
    "\\label{_auto45} \\tag{45}\n",
    "\\end{equation}\n",
    "$$"
   ]
  },
  {
   "cell_type": "markdown",
   "metadata": {},
   "source": [
    "The normal component of the magnetic field is therefore continuous across an internal interface, or equivalently, the normal components of the magnetic field is the same on both sides of an internal interface. (Notice that for electric fields, it was the tangnetial component of the electrical field that was the same on both sides. $E_{1,t} = E_{2,t}$.)\n",
    "\n",
    "<!-- dom:FIGURE:[fig-magnetization/magnetization-boundary-010.png, width=600 frac=1.0] Illustration of a boundary between two magnetic materials used to determine the normal and tangential boundary conditions for the magnetic fields.  <div id=\"fig:magnetization-boundary-010\"></div> -->\n",
    "<!-- begin figure -->\n",
    "<div id=\"fig:magnetization-boundary-010\"></div>\n",
    "\n",
    "<p>Illustration of a boundary between two magnetic materials used to determine the normal and tangential boundary conditions for the magnetic fields.</p>\n",
    "<img src=\"fig-magnetization/magnetization-boundary-010.png\" width=600>\n",
    "\n",
    "<!-- end figure -->\n",
    "\n",
    "\n",
    "## Tangential boundary conditions\n",
    "\n",
    "Fig. [fig:magnetization-boundary-010](#fig:magnetization-boundary-010)b illustrates a boundary between two materials $1$ and $2$ with differing magnetic properties. To compare the tangential components on each side of the interface, we introduce a small current loop $C$ where the thickness $\\Delta h$ of the loop goes to zero, $\\Delta h \\rightarrow 0$. We apply Ampere's law on this loop:"
   ]
  },
  {
   "cell_type": "markdown",
   "metadata": {},
   "source": [
    "<!-- Equation labels as ordinary links -->\n",
    "<div id=\"_auto46\"></div>\n",
    "\n",
    "$$\n",
    "\\begin{equation}\n",
    "\\oint_C \\mathbf{H} \\cdot \\mathrm{d} \\mathbf{l} = \\underbrace{\\oint_h \\mathbf{H} \\cdot \\Delta \\mathbf{l} }_{=0} + \\mathbf{H}_1 \\cdot \\Delta \\mathbf{l} + \\underbrace{\\oint_h \\mathbf{H} \\cdot \\Delta \\mathbf{l} }_{=0} + \\mathbf{H}_2 \\cdot \\left( -\\Delta \\mathbf{l} \\right) = J_s \\Delta l \\; ,\n",
    "\\label{_auto46} \\tag{46}\n",
    "\\end{equation}\n",
    "$$"
   ]
  },
  {
   "cell_type": "markdown",
   "metadata": {},
   "source": [
    "where $J_s$ is the free surface current normal to the tangential direction. In the limit when $h \\rightarrow 0$ we find"
   ]
  },
  {
   "cell_type": "markdown",
   "metadata": {},
   "source": [
    "<!-- Equation labels as ordinary links -->\n",
    "<div id=\"_auto47\"></div>\n",
    "\n",
    "$$\n",
    "\\begin{equation}\n",
    "H_{1,t} - H_{2,t} = J_s \\; ,\n",
    "\\label{_auto47} \\tag{47}\n",
    "\\end{equation}\n",
    "$$"
   ]
  },
  {
   "cell_type": "markdown",
   "metadata": {},
   "source": [
    "which we can rewrite in vector notation as:"
   ]
  },
  {
   "cell_type": "markdown",
   "metadata": {},
   "source": [
    "<!-- Equation labels as ordinary links -->\n",
    "<div id=\"_auto48\"></div>\n",
    "\n",
    "$$\n",
    "\\begin{equation}\n",
    "\\mathbf{\\hat{n}} \\times \\mathbf{H}_1 - \\mathbf{\\hat{n}} \\times \\mathbf{H}_2 = \\mathbf{J}_s \\; .\n",
    "\\label{_auto48} \\tag{48}\n",
    "\\end{equation}\n",
    "$$"
   ]
  },
  {
   "cell_type": "markdown",
   "metadata": {},
   "source": [
    "**Boundary conditions for magnetic fields.**\n",
    "\n",
    "At an interface between a magnetic material 1 and a magnetic material 2 we have the following boundary conditions:"
   ]
  },
  {
   "cell_type": "markdown",
   "metadata": {},
   "source": [
    "<!-- Equation labels as ordinary links -->\n",
    "<div id=\"_auto49\"></div>\n",
    "\n",
    "$$\n",
    "\\begin{equation}\n",
    "\\mathbf{B}_1 \\cdot \\mathbf{\\hat{n}} = \\mathbf{B}_2 \\cdot \\mathbf{\\hat{n}} \\; ,\n",
    "\\label{_auto49} \\tag{49}\n",
    "\\end{equation}\n",
    "$$"
   ]
  },
  {
   "cell_type": "markdown",
   "metadata": {},
   "source": [
    "and"
   ]
  },
  {
   "cell_type": "markdown",
   "metadata": {},
   "source": [
    "<!-- Equation labels as ordinary links -->\n",
    "<div id=\"_auto50\"></div>\n",
    "\n",
    "$$\n",
    "\\begin{equation}\n",
    "\\mathbf{\\hat{n}} \\times \\mathbf{H}_1 - \\mathbf{\\hat{n}} \\times \\mathbf{H}_2 = \\mathbf{J}_s \\; .\n",
    "\\label{_auto50} \\tag{50}\n",
    "\\end{equation}\n",
    "$$"
   ]
  },
  {
   "cell_type": "markdown",
   "metadata": {},
   "source": [
    "## Example: Air-ferromagnet transition\n",
    "\n",
    "Fig. [fig:magnetization-airferro-010](#fig:magnetization-airferro-010) illustrates a curved interface between air (material $a$) and a ferromagnet with $\\mu_b \\gg 1$ (material $b$). What is the implications for the tangential and normal magnetic fields? There are no free surface currents.\n",
    "\n",
    "<!-- dom:FIGURE:[fig-magnetization/magnetization-airferro-010.png, width=600 frac=0.5] Illustration of a boundary between a ferromagnetic material ($b$) and air ($a$). <div id=\"fig:magnetization-airferro-010\"></div> -->\n",
    "<!-- begin figure -->\n",
    "<div id=\"fig:magnetization-airferro-010\"></div>\n",
    "\n",
    "<p>Illustration of a boundary between a ferromagnetic material ($b$) and air ($a$).</p>\n",
    "<img src=\"fig-magnetization/magnetization-airferro-010.png\" width=600>\n",
    "\n",
    "<!-- end figure -->\n",
    "\n",
    "\n",
    "The tangential fields are related by"
   ]
  },
  {
   "cell_type": "markdown",
   "metadata": {},
   "source": [
    "<!-- Equation labels as ordinary links -->\n",
    "<div id=\"_auto51\"></div>\n",
    "\n",
    "$$\n",
    "\\begin{equation}\n",
    "H_{a,t} = H_{b,t} \\quad \\Rightarrow \\quad \\frac{B_{a,t}}{\\mu_a} = \\frac{B_{b,t}}{\\mu_b} \\; ,\n",
    "\\label{_auto51} \\tag{51}\n",
    "\\end{equation}\n",
    "$$"
   ]
  },
  {
   "cell_type": "markdown",
   "metadata": {},
   "source": [
    "where we have used that $\\mathbf{B} = \\mu \\mathbf{H}$. In this case, $\\mu_a \\simeq 1$, so that:"
   ]
  },
  {
   "cell_type": "markdown",
   "metadata": {},
   "source": [
    "<!-- Equation labels as ordinary links -->\n",
    "<div id=\"_auto52\"></div>\n",
    "\n",
    "$$\n",
    "\\begin{equation}\n",
    "B_{b,t} \\simeq \\mu_b B_{a,t} \\; .\n",
    "\\label{_auto52} \\tag{52}\n",
    "\\end{equation}\n",
    "$$"
   ]
  },
  {
   "cell_type": "markdown",
   "metadata": {},
   "source": [
    "For the case of a ferromagnetic material, where $\\mu_b \\gg \\mu_a$, this means the magnetic field outside the ferromagnet will be negligible compared with the field inside the material. However, the normal component is the same in both materials.\n",
    "\n",
    "This means that the magnetic field is much smaller on the outside of a material with a large $\\mu$. The magnetic field therefore tends to follow a ferromagnetic material.\n",
    "\n",
    "# Magnetic circuits\n",
    "\n",
    "This last example demonstrates that the magnetic field tends to follow ferromagnetic materials. A *magnetic circuit* is a circuit made from materials that \"conduct\" magnetic flux so that the field lines close upon themselves. Fig. [fig:magnetization-circuit-010](#fig:magnetization-circuit-010) illustrates an example of a magnetic circuit in the form of a toroidal magnet with a small gap. Magnetic circuits typically consists of ferromagnetic materials with current windings around parts of the cores, and may have small gaps. Here, we will argue that we can use our experience and intuition from electric circuits to discuss magnetic circuits. Magnetic circuits are important for many practical applications of electromagnetism. They can, and maybe should, be addressed by a full detailed study of the propagation of the magnetic field, but in practice we often use simplified rules to discuss their properties.\n",
    "\n",
    "The similarity between magnetic and electric circuits are not perfect. In an electric circuit, the current density $\\mathbf{J}$ is restricted to follow the conducting materials, with essentially zero current outside the conductors, because the conductivity of air or vacuum is practically zero. However, in a magnetic circuit, the corresponding \"conductivity\" ($\\mu$) is not zero outside the ferromagnetic conductors, so there is some leakage of the field out from the conductors into the surrounding air or vacuum. Here, we will assume that this leakage is small or negligible. In addition, a magnetic circuit will typically contain air gaps, where we will assume that the gap is so narrow that the fringe effects near the gap edges will not impact the way the flux is flowing in the circuit.\n",
    "\n",
    "## Analogy between magnetic flux and electric current density\n",
    "\n",
    "Fig. [fig:magnetization-circuit-010](#fig:magnetization-circuit-010) illustrates a magnetic circuit and an electric circuit. What are the similarities between these circuits?\n",
    "\n",
    "<!-- dom:FIGURE:[fig-magnetization/magnetization-circuit-010.png, width=600 frac=0.9] Illustration of a magnetic and an electric circuit. <div id=\"fig:magnetization-circuit-010\"></div> -->\n",
    "<!-- begin figure -->\n",
    "<div id=\"fig:magnetization-circuit-010\"></div>\n",
    "\n",
    "<p>Illustration of a magnetic and an electric circuit.</p>\n",
    "<img src=\"fig-magnetization/magnetization-circuit-010.png\" width=600>\n",
    "\n",
    "<!-- end figure -->\n",
    "\n",
    "\n",
    "### Current and flux\n",
    "\n",
    "In the electric circuit, there is a current $I = \\int_S \\mathbf{J} \\cdot \\mathrm{d} \\mathbf{S}$ through any cross-section of the circuit, and the current is conserved because the conductivity of the region outside the circuit is zero. (The current density $\\mathbf{J}$ does not have a normal component on the boundary). In the magnetic circuit, there is a magnetic flux, $\\Phi = \\int_S \\mathbf{B} \\cdot \\mathrm{d} \\mathbf{S}$ through any cross section of the circuit, and we will assume that the flux is conserved because the magnetic field lines tend to follow the magnetic material. (The magnetic field $\\mathbf{B}$ is very small outside the magnetic material compared to inside the material as argued for above.)\n",
    "\n",
    "### Conservation of current and flux\n",
    "\n",
    "Both the current out of a closed surface $S$ and the flux out of a closed surface $S$ is zero: $\\oint_S \\mathbf{J} \\cdot \\mathrm{d} \\mathbf{S}  = 0$ and $\\oint_S \\mathbf{B} \\cdot \\mathrm{d} \\mathbf{S} = 0$.\n",
    "\n",
    "### Relation to conductivity and permeability\n",
    "\n",
    "The current density is related to the electric field through Ohm's law on microscopic level: $\\mathbf{J} = \\sigma \\mathbf{E}$, while the magnetic field is related to the $\\mathbf{H}$-field through the law for magnetic materials: $\\mathbf{B} = \\mu \\mathbf{H}$.\n",
    "\n",
    "### Drivers for $\\mathbf{E}$ and $\\mathbf{H}$\n",
    "\n",
    "The voltage source is driving the electric field in the electric circuit:"
   ]
  },
  {
   "cell_type": "markdown",
   "metadata": {},
   "source": [
    "<!-- Equation labels as ordinary links -->\n",
    "<div id=\"_auto53\"></div>\n",
    "\n",
    "$$\n",
    "\\begin{equation}\n",
    "\\oint_C \\mathbf{E} \\cdot \\mathrm{d} \\mathbf{l} = V(t) \\; ,\n",
    "\\label{_auto53} \\tag{53}\n",
    "\\end{equation}\n",
    "$$"
   ]
  },
  {
   "cell_type": "markdown",
   "metadata": {},
   "source": [
    "while windings of a current-carrying wire is driving the magnetic field:"
   ]
  },
  {
   "cell_type": "markdown",
   "metadata": {},
   "source": [
    "<!-- Equation labels as ordinary links -->\n",
    "<div id=\"_auto54\"></div>\n",
    "\n",
    "$$\n",
    "\\begin{equation}\n",
    "\\oint_C \\mathbf{H} \\cdot \\mathrm{d} \\mathbf{l} = N I \\; .\n",
    "\\label{_auto54} \\tag{54}\n",
    "\\end{equation}\n",
    "$$"
   ]
  },
  {
   "cell_type": "markdown",
   "metadata": {},
   "source": [
    "### Resistance and reluctance\n",
    "\n",
    "We know that the resistance $R$ relates the driving voltage to the current in an electric circuit:"
   ]
  },
  {
   "cell_type": "markdown",
   "metadata": {},
   "source": [
    "<!-- Equation labels as ordinary links -->\n",
    "<div id=\"_auto55\"></div>\n",
    "\n",
    "$$\n",
    "\\begin{equation}\n",
    "I = \\frac{V}{\\sum R} \\; ,\n",
    "\\label{_auto55} \\tag{55}\n",
    "\\end{equation}\n",
    "$$"
   ]
  },
  {
   "cell_type": "markdown",
   "metadata": {},
   "source": [
    "and we will demonstrate that there is a similar relationship for the *reluctance* of a magnetic circuit:"
   ]
  },
  {
   "cell_type": "markdown",
   "metadata": {},
   "source": [
    "<!-- Equation labels as ordinary links -->\n",
    "<div id=\"_auto56\"></div>\n",
    "\n",
    "$$\n",
    "\\begin{equation}\n",
    "\\Phi = \\frac{NI}{\\sum R_m}\n",
    "\\label{_auto56} \\tag{56}\n",
    "\\end{equation}\n",
    "$$"
   ]
  },
  {
   "cell_type": "markdown",
   "metadata": {},
   "source": [
    "### Summary of mathematical similarities\n",
    "\n",
    "These mathematical similarties allow us to use aspects of our intuition from electrical circuits to address magnetic circuits:\n",
    "\n",
    "<table border=\"1\">\n",
    "<thead>\n",
    "<tr><th align=\"center\">                 Electrical circuit                 </th> <th align=\"center\">                   Magnetic circuit                   </th> </tr>\n",
    "</thead>\n",
    "<tbody>\n",
    "<tr><td align=\"center\">   $\\mathbf{J}$                                            </td> <td align=\"center\">   $\\mathbf{B}$                                              </td> </tr>\n",
    "<tr><td align=\"center\">   $I = \\int_S \\mathbf{J} \\cdot \\mathrm{d} \\mathbf{S}$     </td> <td align=\"center\">   $\\Phi = \\int_S \\mathbf{B} \\cdot \\mathrm{d} \\mathbf{S}$    </td> </tr>\n",
    "<tr><td align=\"center\">   $\\oint_S \\mathbf{J} \\cdot \\mathrm{d} \\mathbf{S} = 0$    </td> <td align=\"center\">   $\\oint_S \\mathbf{B} \\cdot \\mathrm{d} \\mathbf{S} = 0$      </td> </tr>\n",
    "<tr><td align=\"center\">   $\\mathbf{J} = \\sigma \\mathbf{E}$                        </td> <td align=\"center\">   $\\mathbf{B} = \\mu \\mathbf{H}$                             </td> </tr>\n",
    "<tr><td align=\"center\">   $\\sigma$                                                </td> <td align=\"center\">   $\\mu$                                                     </td> </tr>\n",
    "<tr><td align=\"center\">   $\\oint_C \\mathbf{E} \\cdot \\mathrm{d} \\mathbf{l} = V$    </td> <td align=\"center\">   $\\oint_C \\mathbf{H} \\cdot \\mathrm{d} \\mathbf{l} = N I$    </td> </tr>\n",
    "</tbody>\n",
    "</table>\n",
    "## Example: Toroidal circuit\n",
    "\n",
    "Find the magnetic flux through a thin toroid with an air gap of width $d$ as illustrated in Fig. [fig:magnetization-circuit-020](#fig:magnetization-circuit-020), driven by $N$ turns of a wire with a current $I$. You can assume that the permeability of the toroid is so large that all the flux follows the toroid and the air gap is so small that you can assume there is no flux leakage across the gap (the fringe effects are negligible).\n",
    "\n",
    "<!-- dom:FIGURE:[fig-magnetization/magnetization-circuit-020.png, width=600 frac=1.0] (a) Illustration of magnetic circuit, (b) Illustration of the magnetic field from $N$ winded wires with and without a magnetic material. The field tends to follow the magnetic material when $\\mu_r \\gg 1$. <div id=\"fig:magnetization-circuit-020\"></div> -->\n",
    "<!-- begin figure -->\n",
    "<div id=\"fig:magnetization-circuit-020\"></div>\n",
    "\n",
    "<p>(a) Illustration of magnetic circuit, (b) Illustration of the magnetic field from $N$ winded wires with and without a magnetic material. The field tends to follow the magnetic material when $\\mu_r \\gg 1$.</p>\n",
    "<img src=\"fig-magnetization/magnetization-circuit-020.png\" width=600>\n",
    "\n",
    "<!-- end figure -->\n",
    "\n",
    "\n",
    "First, let us address what sets up the magnetic field in the circuit. The $N$ turns of wire are only wrapped around a small part of the toroid. Inside this area we expect the magnetic field to be approximately uniform because the thickness of the toroid ($b$) is small compared with the radius of the toroid ($a$). If there was no magnetic material, we would expect the magnetic field to spread out outside the region where the wires are winded as illustrated in the figure. However, due to the magnetic material and the large ratio in magnetic pemeability between the air and the magnetic material, we expect the magnetic field to follow the magnetic material instead. This is indeed why we call the system a magnetic circuit. The magnetic field follows the magnetic material also outside the region where the wired are winded.\n",
    "\n",
    "We therefore expect the magnetic flux, $\\Phi_B$, to be conserved across any cross section along the wire, and since we have assumed that the magnetic field is uniform across the cross-section and equal to $B$, the flux is:"
   ]
  },
  {
   "cell_type": "markdown",
   "metadata": {},
   "source": [
    "<!-- Equation labels as ordinary links -->\n",
    "<div id=\"_auto57\"></div>\n",
    "\n",
    "$$\n",
    "\\begin{equation}\n",
    "\\Phi_B = \\int_S \\mathbf{B} \\cdot \\mathrm{d} \\mathbf{S} = \\pi b^2 B \\; .\n",
    "\\label{_auto57} \\tag{57}\n",
    "\\end{equation}\n",
    "$$"
   ]
  },
  {
   "cell_type": "markdown",
   "metadata": {},
   "source": [
    "We also expect this relation to hold in the air gap, where we also assume that the magnetic field is uniform. We can therefore assume that the magnetic field $B$ is the same all along the circuit. However, the $H$ field will vary between the magnetic material and the air gap.\n",
    "\n",
    "How can we find $B$? We can use Amperes law along an integration path $C$ following the circuit as illustrated in the figure:"
   ]
  },
  {
   "cell_type": "markdown",
   "metadata": {},
   "source": [
    "<!-- Equation labels as ordinary links -->\n",
    "<div id=\"_auto58\"></div>\n",
    "\n",
    "$$\n",
    "\\begin{equation}\n",
    "\\oint_C \\mathbf{H} \\cdot \\mathrm{d} \\mathbf{l} = N I \\; .\n",
    "\\label{_auto58} \\tag{58}\n",
    "\\end{equation}\n",
    "$$"
   ]
  },
  {
   "cell_type": "markdown",
   "metadata": {},
   "source": [
    "Notice that the current through $S$ is still $NI$, even if this current only passes through one part of the circuit. What is $\\mathbf{H}$ along the circuit? We will assume that $\\mathbf{H}$ is aligned with $\\mathrm{d} \\mathbf{l}$ everywhere: The field follows the circuit and does not leak out into the surrounding air. (This is only an approximation, due to the high ratio between $\\mu$ of the material and $\\mu_0$ of the air, which typically is around $10^5$ to $10^6$). Inside the magnetic material we have that $B = \\mu H = \\mu_0 \\mu_r H$, so that $H = B/(\\mu_0 \\mu_r)$ and inside the air gap we have that $B = \\mu_0 H$ so that $H = B/\\mu_0$. We recall that $B$ is the same along the whole path, because the flux is the same, as we argued above. The length of the path inside the material is $2 \\pi a - d$ and the length inside the air gap is $d$, so that:"
   ]
  },
  {
   "cell_type": "markdown",
   "metadata": {},
   "source": [
    "<!-- Equation labels as ordinary links -->\n",
    "<div id=\"_auto59\"></div>\n",
    "\n",
    "$$\n",
    "\\begin{equation}\n",
    "\\oint_C \\mathbf{H} \\cdot \\mathrm{d} \\mathbf{l} = NI = \\frac{B}{\\mu_0}d + \\frac{B}{\\mu_0 \\mu_r}\\left( 2\\pi a -d \\right) \\; .\n",
    "\\label{_auto59} \\tag{59}\n",
    "\\end{equation}\n",
    "$$"
   ]
  },
  {
   "cell_type": "markdown",
   "metadata": {},
   "source": [
    "We can therefore find $B$ from this equation:"
   ]
  },
  {
   "cell_type": "markdown",
   "metadata": {},
   "source": [
    "<!-- Equation labels as ordinary links -->\n",
    "<div id=\"_auto60\"></div>\n",
    "\n",
    "$$\n",
    "\\begin{equation}\n",
    "B = \\frac{\\mu_0 NI}{d + \\frac{1}{\\mu_r}\\left( 2 \\pi a - d \\right)} \\; .\n",
    "\\label{_auto60} \\tag{60}\n",
    "\\end{equation}\n",
    "$$"
   ]
  },
  {
   "cell_type": "markdown",
   "metadata": {},
   "source": [
    "And the flux is"
   ]
  },
  {
   "cell_type": "markdown",
   "metadata": {},
   "source": [
    "<!-- Equation labels as ordinary links -->\n",
    "<div id=\"_auto61\"></div>\n",
    "\n",
    "$$\n",
    "\\begin{equation}\n",
    "\\Phi_B = BS = \\frac{NI}{\\frac{d}{\\mu_0 S} + \\frac{2 \\pi a - d}{\\mu_0 \\mu_r S}} \\; .\n",
    "\\label{_auto61} \\tag{61}\n",
    "\\end{equation}\n",
    "$$"
   ]
  },
  {
   "cell_type": "markdown",
   "metadata": {},
   "source": [
    "We can rewrite this in a way that demonstrates the similarity with the electrical circuit by introducing the reluctances $R_{m,t}$ for the toroid and $R_{m,g}$ for the air gap:"
   ]
  },
  {
   "cell_type": "markdown",
   "metadata": {},
   "source": [
    "6\n",
    "2\n",
    " \n",
    "<\n",
    "<\n",
    "<\n",
    "!\n",
    "!\n",
    "M\n",
    "A\n",
    "T\n",
    "H\n",
    "_\n",
    "B\n",
    "L\n",
    "O\n",
    "C\n",
    "K"
   ]
  },
  {
   "cell_type": "markdown",
   "metadata": {},
   "source": [
    "<!-- Equation labels as ordinary links -->\n",
    "<div id=\"_auto63\"></div>\n",
    "\n",
    "$$\n",
    "\\begin{equation}\n",
    "R_{m,a} = \\frac{d}{\\mu_0 S} \\; .\n",
    "\\label{_auto63} \\tag{63}\n",
    "\\end{equation}\n",
    "$$"
   ]
  },
  {
   "cell_type": "markdown",
   "metadata": {},
   "source": [
    "We can then rewrite the expression for the flux as:"
   ]
  },
  {
   "cell_type": "markdown",
   "metadata": {},
   "source": [
    "<!-- Equation labels as ordinary links -->\n",
    "<div id=\"_auto64\"></div>\n",
    "\n",
    "$$\n",
    "\\begin{equation}\n",
    "\\Phi_B = \\frac{NI}{R_{m,t}+ R_{m,g}} \\; ,\n",
    "\\label{_auto64} \\tag{64}\n",
    "\\end{equation}\n",
    "$$"
   ]
  },
  {
   "cell_type": "markdown",
   "metadata": {},
   "source": [
    "This is very similar to an expression we would get for an electrical circuit with two resistances $R_t + R_g$ in series, for which the current would be:"
   ]
  },
  {
   "cell_type": "markdown",
   "metadata": {},
   "source": [
    "<!-- Equation labels as ordinary links -->\n",
    "<div id=\"_auto65\"></div>\n",
    "\n",
    "$$\n",
    "\\begin{equation}\n",
    "I = \\frac{N}{R_t + R_g} \\; .\n",
    "\\label{_auto65} \\tag{65}\n",
    "\\end{equation}\n",
    "$$"
   ]
  },
  {
   "cell_type": "markdown",
   "metadata": {},
   "source": [
    "## Example: Magnetic circuit with varying cross section\n",
    "\n",
    "Fig. [fig:magnetization-circuit-030](#fig:magnetization-circuit-030) illustrates a magnetic circuit consisting of two magnetic materials with permeabilities $\\mu_1$ and $\\mu_2$ and with two different cross-sections, $S_1$ and $S_2$. The length of the part of the circuit with cross section $S_1$ is $l_1$ and the length of the part of the circuit with cross section $S_2$ is $l_2$. We assume that $\\mu_1\\gg \\mu_0$ and $\\mu_2 \\gg \\mu_0$ so that the magnetic flux is constrain to the circuit (leakage is negligible). Find the magnetic flux $\\Phi_B$ in the circuit.\n",
    "\n",
    "<!-- dom:FIGURE:[fig-magnetization/magnetization-circuit-030.png, width=600 frac=0.6] Illustration of magnetic circuit of two materials 1 and 2 with different cross sections $S_1$ and $S_2$, different permeability $\\mu_1$ and $\\mu_2$ and different lengths $l1_1$ and $l_2$. <div id=\"fig:magnetization-circuit-030\"></div> -->\n",
    "<!-- begin figure -->\n",
    "<div id=\"fig:magnetization-circuit-030\"></div>\n",
    "\n",
    "<p>Illustration of magnetic circuit of two materials 1 and 2 with different cross sections $S_1$ and $S_2$, different permeability $\\mu_1$ and $\\mu_2$ and different lengths $l1_1$ and $l_2$.</p>\n",
    "<img src=\"fig-magnetization/magnetization-circuit-030.png\" width=600>\n",
    "\n",
    "<!-- end figure -->\n",
    "\n",
    "\n",
    "We assume that the magnetic field $\\mathbf{B}$ everywhere is aligned along the magnetic circuit. (We realize there may be losses at the sharp corners in the drawing, but assume that these losses are negligible). The basic law we will use is that the magnetic flux is conserved along the circuit, so that $\\Phi_B$ is the same across any cross section. This means that the flux in region 1 is the same as in region 2. We will also assume that the magnetic field is uniform across any cross section, that is, that the variations across a cross section is small. The magnetic field will, however, vary along the magnetic circuit. (This is the same as assuming that the current is the same along a circuit, that the current density may vary along the circuit, but that the current density is approximately uniform across a cross section). The conservation of flux gives us:"
   ]
  },
  {
   "cell_type": "markdown",
   "metadata": {},
   "source": [
    "<!-- Equation labels as ordinary links -->\n",
    "<div id=\"_auto66\"></div>\n",
    "\n",
    "$$\n",
    "\\begin{equation}\n",
    "\\Phi_1 = B_1 S_1 = \\Phi_2 = B_2 S_2 = \\Phi \\; .\n",
    "\\label{_auto66} \\tag{66}\n",
    "\\end{equation}\n",
    "$$"
   ]
  },
  {
   "cell_type": "markdown",
   "metadata": {},
   "source": [
    "In addition, we will use Ampere's law along the path $C$ around the circuit. The net current through this path is $NI$:"
   ]
  },
  {
   "cell_type": "markdown",
   "metadata": {},
   "source": [
    "<!-- Equation labels as ordinary links -->\n",
    "<div id=\"_auto67\"></div>\n",
    "\n",
    "$$\n",
    "\\begin{equation}\n",
    "\\oint_C \\mathbf{H} \\cdot \\mathrm{d} \\mathbf{l} = N I \\; .\n",
    "\\label{_auto67} \\tag{67}\n",
    "\\end{equation}\n",
    "$$"
   ]
  },
  {
   "cell_type": "markdown",
   "metadata": {},
   "source": [
    "We will also assume that $\\mathbf{H} = (1/\\mu) \\mathbf{B}$ is aligned with the circuit and therefore parallel with $\\mathrm{d} \\mathbf{l}$ along the whole circuit. We use that $B_1 = \\Phi/S_1$ and $B_2 = \\Phi/S_2$ in the $H$-field:"
   ]
  },
  {
   "cell_type": "markdown",
   "metadata": {},
   "source": [
    "<!-- Equation labels as ordinary links -->\n",
    "<div id=\"_auto68\"></div>\n",
    "\n",
    "$$\n",
    "\\begin{equation}\n",
    "H_1 = \\frac{B_1}{\\mu_1} = \\frac{\\Phi}{\\mu_1 S_1} \\quad , \\quad H_2 = \\frac{B_2}{\\mu_2} = \\frac{\\Phi}{\\mu_2 S_2} \n",
    "\\label{_auto68} \\tag{68}\n",
    "\\end{equation}\n",
    "$$"
   ]
  },
  {
   "cell_type": "markdown",
   "metadata": {},
   "source": [
    "Inserted in Ampere's law this gives:"
   ]
  },
  {
   "cell_type": "markdown",
   "metadata": {},
   "source": [
    "$$\n",
    "\\begin{eqnarray}\n",
    "\\oint_C \\mathbf{H} \\cdot \\mathrm{d} \\mathbf{l} &=& H_1 l_1 + H_2 l_2 \\\\ \n",
    "&=& \\frac{\\Phi l_1}{\\mu_1 S_1} + \\frac{\\Phi l_2}{\\mu_2 S_2} = I N \\; ,\n",
    "\\end{eqnarray}\n",
    "$$"
   ]
  },
  {
   "cell_type": "markdown",
   "metadata": {},
   "source": [
    "which gives"
   ]
  },
  {
   "cell_type": "markdown",
   "metadata": {},
   "source": [
    "<!-- Equation labels as ordinary links -->\n",
    "<div id=\"_auto69\"></div>\n",
    "\n",
    "$$\n",
    "\\begin{equation}\n",
    "\\Phi = \\frac{NI}{\\frac{l_1}{\\mu_1 S_1} + \\frac{l_2}{\\mu_2 S_2}} = \\frac{NI}{R_{m,1} + R_{m,2}} \\; ,\n",
    "\\label{_auto69} \\tag{69}\n",
    "\\end{equation}\n",
    "$$"
   ]
  },
  {
   "cell_type": "markdown",
   "metadata": {},
   "source": [
    "where we have introduced the reluctances"
   ]
  },
  {
   "cell_type": "markdown",
   "metadata": {},
   "source": [
    "<!-- Equation labels as ordinary links -->\n",
    "<div id=\"_auto70\"></div>\n",
    "\n",
    "$$\n",
    "\\begin{equation}\n",
    "R_{m,1} = \\frac{l_1}{\\mu_1 S_1} \\quad , \\quad R_{m,2} = \\frac{l_2}{\\mu_2 S_2} \\; .\n",
    "\\label{_auto70} \\tag{70}\n",
    "\\end{equation}\n",
    "$$"
   ]
  },
  {
   "cell_type": "markdown",
   "metadata": {},
   "source": [
    "Again, like in the previous example, we recognize this as the same law we have for resistances. For reluctances connected in series we therefore expect:"
   ]
  },
  {
   "cell_type": "markdown",
   "metadata": {},
   "source": [
    "<!-- Equation labels as ordinary links -->\n",
    "<div id=\"_auto71\"></div>\n",
    "\n",
    "$$\n",
    "\\begin{equation}\n",
    "R_m = \\sum_i R_{m,i} \\; ,\n",
    "\\label{_auto71} \\tag{71}\n",
    "\\end{equation}\n",
    "$$"
   ]
  },
  {
   "cell_type": "markdown",
   "metadata": {},
   "source": [
    "and that the flux is related to the current $NI$ through the circuit through"
   ]
  },
  {
   "cell_type": "markdown",
   "metadata": {},
   "source": [
    "<!-- Equation labels as ordinary links -->\n",
    "<div id=\"_auto72\"></div>\n",
    "\n",
    "$$\n",
    "\\begin{equation}\n",
    "NI = \\Phi R_m \\quad , \\quad \\Phi = \\frac{NI}{R_m}\n",
    "\\label{_auto72} \\tag{72}\n",
    "\\end{equation}\n",
    "$$"
   ]
  },
  {
   "cell_type": "markdown",
   "metadata": {},
   "source": [
    "Which means that we have a law similar to Ohm's law for the reluctance: $R_m = l / (\\mu S)$, which is similar to what we found for a resistance with constant cross-sectional area $S$ and length $l$: $R = l/(\\sigma S)$, and we have found that we can add reluctances in a way similar to how we add resistances. This again illustrated the close analogy between magnetic and electrical circuits.\n",
    "\n",
    "## Kirchoff's laws for magnetic circuits\n",
    "\n",
    "Based on the theoretical insights and examples from above we are now ready to formulate a set of Kirchoff's laws for magnetic circuits. These laws are not exact, as for electric circuits, but are approximate laws in the sense that they assume that the leakage of electric flux along the circuit is negligible.\n",
    "\n",
    "### Conservation of flux\n",
    "\n",
    "The conservation of flux in magnetic circuits corresponds to conservation of current in electric circuit, and is valid also for junctions in the magnetic circuit. It follow from the lack of divergence of the magnetic field:"
   ]
  },
  {
   "cell_type": "markdown",
   "metadata": {},
   "source": [
    "<!-- Equation labels as ordinary links -->\n",
    "<div id=\"_auto73\"></div>\n",
    "\n",
    "$$\n",
    "\\begin{equation}\n",
    "\\oint_S \\mathbf{B} \\cdot \\mathrm{d} \\mathbf{S} = 0  \\quad \\Rightarrow \\quad \\sum_i B_i S_i = 0 \\; ,\n",
    "\\label{_auto73} \\tag{73}\n",
    "\\end{equation}\n",
    "$$"
   ]
  },
  {
   "cell_type": "markdown",
   "metadata": {},
   "source": [
    "where $S$ is a surface surrounding the magnetic circuit, as illustrated in Fig. [fig:magnetization-kirchoff-010](#fig:magnetization-kirchoff-010), and $S_i$ are the cross-sectional surfaces. This law reduces to the conservation of flux along the circuit, as illustrated by the surface $S^{\\ast}$ in the figure.\n",
    "\n",
    "<!-- dom:FIGURE:[fig-magnetization/magnetization-kirchoff-010.png, width=600 frac=0.6] Illustration of Kirchoff's laws for a magnetic circuit. <div id=\"fig:magnetization-kirchoff-010\"></div> -->\n",
    "<!-- begin figure -->\n",
    "<div id=\"fig:magnetization-kirchoff-010\"></div>\n",
    "\n",
    "<p>Illustration of Kirchoff's laws for a magnetic circuit.</p>\n",
    "<img src=\"fig-magnetization/magnetization-kirchoff-010.png\" width=600>\n",
    "\n",
    "<!-- end figure -->\n",
    "\n",
    "\n",
    "### Generalized Ampere's law\n",
    "\n",
    "A generalized Ampere's law for a magnetic circuit provides us with a law corresponding to Kirchoff's voltage law for magnetic circuits:"
   ]
  },
  {
   "cell_type": "markdown",
   "metadata": {},
   "source": [
    "<!-- Equation labels as ordinary links -->\n",
    "<div id=\"_auto74\"></div>\n",
    "\n",
    "$$\n",
    "\\begin{equation}\n",
    "\\oint_C \\mathbf{H} \\cdot \\mathrm{d} \\mathbf{l} = I \\quad \\Rightarrow \\quad \\sum_j H_j l_j = \\sum_k N_k I_k \\; ,\n",
    "\\label{_auto74} \\tag{74}\n",
    "\\end{equation}\n",
    "$$"
   ]
  },
  {
   "cell_type": "markdown",
   "metadata": {},
   "source": [
    "where the sum over $j$ is a sum over all the line elements of length $l_j$ making up the circuit and the sum over $k$ is the sum over the wire loops winding around the magnetic circuit.\n",
    "\n",
    "# Summary\n",
    "\n",
    "The **magnetization** $\\mathbf{M}$ is the net magnetic moment per unit volume:"
   ]
  },
  {
   "cell_type": "markdown",
   "metadata": {},
   "source": [
    "$$\n",
    "\\mathbf{M} = \\frac{\\sum_i \\mathbf{m_i}}{\\mathrm{d} v} \\; ,\n",
    "$$"
   ]
  },
  {
   "cell_type": "markdown",
   "metadata": {},
   "source": [
    "where the sum is over all the microloops $i$ in the volume element $\\mathrm{d} v$.\n",
    "\n",
    "**Ampere's law in a magnetic material** is"
   ]
  },
  {
   "cell_type": "markdown",
   "metadata": {},
   "source": [
    "$$\n",
    "\\oint_C \\mathbf{H} \\cdot \\mathrm{d} \\mathbf{l} = I_{C,\\text{free}} \\; ,\n",
    "$$"
   ]
  },
  {
   "cell_type": "markdown",
   "metadata": {},
   "source": [
    "where the $\\mathbf{H}$-field is defined as"
   ]
  },
  {
   "cell_type": "markdown",
   "metadata": {},
   "source": [
    "$$\n",
    "\\mathbf{H} = \\frac{1}{\\mu_0} \\mathbf{B} - \\mathbf{M}\n",
    "$$"
   ]
  },
  {
   "cell_type": "markdown",
   "metadata": {},
   "source": [
    "The **bound current density** $\\mathbf{J}_b$ is related to the magnetization through"
   ]
  },
  {
   "cell_type": "markdown",
   "metadata": {},
   "source": [
    "$$\n",
    "\\mathbf{J}_b = \\nabla \\times \\mathbf{M}\n",
    "\\label{}\n",
    "$$"
   ]
  },
  {
   "cell_type": "markdown",
   "metadata": {},
   "source": [
    "and the **bound surface current density** $\\mathbf{J}_{b,s}$ on the interface between a magnetic material and vacuum (air) with surface normal $\\mathbf{\\hat{n}}$ pointing from the magnetic material to the air is:"
   ]
  },
  {
   "cell_type": "markdown",
   "metadata": {},
   "source": [
    "$$\n",
    "\\mathbf{J}_{b,s} = \\mathbf{M} \\times \\mathbf{\\hat{n}} \\; .\n",
    "$$"
   ]
  },
  {
   "cell_type": "markdown",
   "metadata": {},
   "source": [
    "**Ampere's law on differential form** is:"
   ]
  },
  {
   "cell_type": "markdown",
   "metadata": {},
   "source": [
    "$$\n",
    "\\nabla \\times \\mathbf{H} = \\mathbf{J} \\; .\n",
    "$$"
   ]
  },
  {
   "cell_type": "markdown",
   "metadata": {},
   "source": [
    "For **linear magnetic materials** the magnetic field is proportional to $\\mathbf{H}$:"
   ]
  },
  {
   "cell_type": "markdown",
   "metadata": {},
   "source": [
    "$$\n",
    "\\mathbf{B} = \\mu_r \\mu_0 \\mathbf{H} = \\mu \\mathbf{H} \\;\n",
    "$$"
   ]
  },
  {
   "cell_type": "markdown",
   "metadata": {},
   "source": [
    "where $\\mu_r$ is called the relative permeability and $\\mu$ is called the absolute permeability.\n",
    "\n",
    "The **boundary conditions** for the magnetic fields are:"
   ]
  },
  {
   "cell_type": "markdown",
   "metadata": {},
   "source": [
    "$$\n",
    "\\mathbf{B}_1 \\cdot \\mathbf{\\hat{n}} = \\mathbf{B}_2 \\cdot \\mathbf{\\hat{n}} \\; ,\n",
    "$$"
   ]
  },
  {
   "cell_type": "markdown",
   "metadata": {},
   "source": [
    "and"
   ]
  },
  {
   "cell_type": "markdown",
   "metadata": {},
   "source": [
    "$$\n",
    "\\mathbf{\\hat{n}} \\times \\mathbf{H}_1 - \\mathbf{\\hat{n}} \\times \\mathbf{H}_2 = \\mathbf{J}_s \\; .\n",
    "$$"
   ]
  },
  {
   "cell_type": "markdown",
   "metadata": {},
   "source": [
    "For **magnetic circuits** the magentic flux, $\\Phi = \\int_S \\mathbf{B} \\cdot \\mathrm{d} \\mathbf{S}$ is conserved along the circuit as long as $\\mu \\gg \\mu_0$ for the magnetic material. We can use concepts from electrical circuits as an approximation to understand and describe magnetic circuits.\n",
    "\n",
    "# Exercises\n",
    "\n",
    "### Learning outcomes\n",
    "\n",
    "Explain basic concepts from magnetization; use Ampere's law for the $\\mathbf{H}$-field; and find the $\\mathbf{B}$ for magnetized systems.\n",
    "\n",
    "<!-- ===== Test yourself ===== -->\n",
    "\n",
    "## Discussion exercises\n",
    "\n",
    "\n",
    "\n",
    "<!-- --- begin exercise --- -->\n",
    "\n",
    "## Exercise 1: Varm paramagnet\n",
    "\n",
    "Hvorfor forventer vi at permeabiliteten til et paramagnetisk materiale blir mindre ved høyere temperatur?\n",
    "\n",
    "<!-- --- end exercise --- -->\n",
    "\n",
    "\n",
    "\n",
    "\n",
    "<!-- --- begin exercise --- -->\n",
    "\n",
    "## Exercise 2: Evig magnet\n",
    "\n",
    "Else har akkurat fått seg en flott, ny sylindrisk permanent-magnet. Hun har hørt at magneten har et magnetisk felt fordi det går en netto strøm $I$ langs overflaten av magneten. Men hun har lært i elektromagnetisme at en strøm $I$ i et materiale med motand $R$ gir et effekttap $R I^2$. Hun måler $R$ mellom to punkter på overflaten og finner at denne ikke er null. Hvorfor blir ikke magneten da varm?\n",
    "\n",
    "<!-- --- end exercise --- -->\n",
    "\n",
    "\n",
    "\n",
    "\n",
    "<!-- --- begin exercise --- -->\n",
    "\n",
    "## Exercise 3: To halve magneter\n",
    "\n",
    "(*Repetisjon av tidligere oppgave*) Hans har fått en permanent magnet formet som et rektangulært, flatt prisme. Den ene halvdelen er faget rød og har bokstaven N på seg, den andre halvdelen er farget sort og har bokstaven S på seg. Hans deler magneten i to deler, en rød og en sort bit, men blir forundret da hver av bitene igjen oppfører seg som en magnet med en nordpol og en sydpol. Hvordan kan du forklare Hans dette?\n",
    "\n",
    "<!-- --- end exercise --- -->\n",
    "\n",
    "\n",
    "## Tutorials\n",
    "\n",
    "\n",
    "<!-- --- begin exercise --- -->\n",
    "\n",
    "## Exercise 4: Bound currents in a magnet\n",
    "\n",
    "*The focus on this tutorial is to develop an understanding of the concept of bound currents.*\n",
    "\n",
    "\n",
    "\n",
    "You know that currents create magnetic fields, but how much current does it take? You now have all the tools to estimate the bound current of an everyday toy magnet.\n",
    "\n",
    "\n",
    "**a)**\n",
    "A compass needle is a magnet, and the arrow represents its north pole. If the compass needle (on a compass on the surface of the earth) is attracted towards the Earth as shown in Fig. [fig:magnetization-magnetization-110](#fig:magnetization-magnetization-110), label the magnetic poles of the Earth (“N” or “S”).\n",
    "\n",
    "**b)**\n",
    "Which direction is the current flowing inside the Earth? Label it with arrows.\n",
    "\n",
    "**c)**\n",
    "If the compass needle deflects as shown in Fig. [fig:magnetization-magnetization-110](#fig:magnetization-magnetization-110), which pole of the toy magnet is closer to the compass? Label it (“N” or “S”).\n",
    "\n",
    "**d)**\n",
    "Which direction is current flowing on/in the toy magnet? Label it with arrows.\n",
    "\n",
    "<!-- dom:FIGURE:[fig-magnetization/magnetization-magnetization-110.png,  width=600 frac=0.9] Toy compass and the Earth. <div id=\"fig:magnetization-magnetization-110\"></div> -->\n",
    "<!-- begin figure -->\n",
    "<div id=\"fig:magnetization-magnetization-110\"></div>\n",
    "\n",
    "<p>Toy compass and the Earth.</p>\n",
    "<img src=\"fig-magnetization/magnetization-magnetization-110.png\" width=600>\n",
    "\n",
    "<!-- end figure -->\n",
    "\n",
    "\n",
    "\n",
    "**e)**\n",
    "Before you start estimating the bound currents of the toy magnet, do you expect there to be a bound surface current, bound volume current, or both? Sketch the atomic currents in the magnet below to illustrate your claim.\n",
    "\n",
    "<!-- dom:FIGURE:[fig-magnetization/magnetization-magnetization-120.png,  width=600 frac=0.8] -->\n",
    "<!-- begin figure -->\n",
    "\n",
    "<p></p>\n",
    "<img src=\"fig-magnetization/magnetization-magnetization-120.png\" width=600>\n",
    "\n",
    "<!-- end figure -->\n",
    "\n",
    "\n",
    "**f)**\n",
    "With your compass and toy magnet (and the Earth) oriented as shown in Figure 2, estimate the magnetic moment, $m$. You should use a meter stick. The following information may be useful:"
   ]
  },
  {
   "cell_type": "markdown",
   "metadata": {},
   "source": [
    "<!-- Equation labels as ordinary links -->\n",
    "<div id=\"_auto75\"></div>\n",
    "\n",
    "$$\n",
    "\\begin{equation}\n",
    "\\mathbf{B}_{dip}(r) = \\frac{\\mu_0 |\\mathbf{m}|}{4 \\pi r^3} \\left( 2\\cos \\theta \\, \\hat{r} + \\sin \\theta \\, \\hat{\\theta} \\right) \\, \\qquad \\, \\mu_0 = 4 \\pi \\times 10^{-7} \\text{Tm/A} \n",
    "\\label{_auto75} \\tag{75}\n",
    "\\end{equation}\n",
    "$$"
   ]
  },
  {
   "cell_type": "markdown",
   "metadata": {},
   "source": [
    "The Earth's magnetic field is about $5\\times 10^{-5} \\text{T}$.\n",
    "\n"
   ]
  },
  {
   "cell_type": "markdown",
   "metadata": {},
   "source": [
    "\n",
    "**g)**\n",
    "Now you can find M, the magnetic dipole moment per unit volume.\n",
    "\n",
    "\n",
    "\n",
    "**h)**\n",
    "Estimate the bound current, $I_b$.\n",
    "\n"
   ]
  },
  {
   "cell_type": "markdown",
   "metadata": {},
   "source": [
    "\n",
    "<!-- --- end exercise --- -->\n",
    "\n",
    "\n",
    "\n",
    "\n",
    "<!-- --- begin exercise --- -->\n",
    "\n",
    "## Exercise 5: Cylindrical magnet\n",
    "\n",
    "*In this tutorial we will focus on the relation between the external field $\\mathbf{B}_0$, the magnetization, $\\mathbf{M}$, and the $\\mathbf{H}$-field.*\n",
    "\n",
    "A cylindrically shaped linearly magnetic material with magnetic susceptibility $\\xi_m$ is placed in an external, homogeneous magnetic field $\\mathbf{B}_0$. The axis of the cylinder is directed along the magnetic field as illustrated in the figure. You can assume that the magnetic field is homogeneous and parallel to $\\mathbf{B}_0$ inside the cylinder. \n",
    "\n",
    "<!-- dom:FIGURE:[fig-magnetization/magnetization-magneticcylinder-010.png, height=400 width=600 frac=0.6] -->\n",
    "<!-- begin figure -->\n",
    "\n",
    "<p></p>\n",
    "<img src=\"fig-magnetization/magnetization-magneticcylinder-010.png\" height=400 width=600>\n",
    "\n",
    "<!-- end figure -->\n",
    "\n",
    "\n",
    "\n",
    "**a)**\n",
    "What is $\\mathbf{H}$ outside the cylinder?\n",
    "\n",
    "\n",
    "\n",
    "**b)**\n",
    "Write down Ampere's law for a magnetic material.\n",
    "\n"
   ]
  },
  {
   "cell_type": "markdown",
   "metadata": {},
   "source": [
    "\n",
    "**c)**\n",
    "What type of Amperian loop would you choose to find $\\mathbf{H}$ inside the cylinder.\n",
    "\n",
    "\n",
    "\n",
    "**d)**\n",
    "What is $\\mathbf{H}$ inside the cylinder?\n",
    "\n"
   ]
  },
  {
   "cell_type": "markdown",
   "metadata": {},
   "source": [
    "\n",
    "**e)**\n",
    "Check that your result is consistent with the boundary conditions at the boundary between the cylinder and the vacuum outside.\n",
    "\n",
    "\n",
    "\n",
    "**f)**\n",
    "What is $\\mathbf{M}$ inside the cylinder for a diamagnetic and a paramagnetic material?\n",
    "\n",
    "\n",
    "\n",
    "**g)**\n",
    "What is the magnetic field $\\mathbf{B}$ inside the cylinder for a diamagnetic and a paramagnetic material?\n",
    "\n",
    "\n",
    "\n",
    "**h)**\n",
    "How would you argue that the magnetic fields are homogeneous inside the cylinder?\n",
    "\n",
    "<!-- --- end exercise --- -->\n",
    "\n",
    "\n",
    "\n",
    "\n",
    "<!-- --- begin exercise --- -->\n",
    "\n",
    "## Exercise 6: Similarities and differences between Gauss and Ampere\n",
    "\n",
    "*In this tutorial we will focus on the commonalities in the approaches to find the electric field using Gauss' law for a dielectric and to find the magnetic field using Ampere's law for a magnetizable material.*\n",
    "\n",
    "We will study an infinitely long cylinder of radius $a$ in two scenarios. In scenario A the cylinder has a constant charge density $\\rho$ and consists of a dielectric material with dielectric constant $\\epsilon$, while the space outside the cylinder is vacuum. In scenario B the cylinder has a constant current density $\\mathbf{J}$ directed along the axis of the cylinder with a magnetic permeability $\\mu$, while the space outside the cylinder is vacuum.\n",
    "\n",
    "<!-- dom:FIGURE:[fig-magnetization/magnetization-magneticcylinder-110.png, width=600 frac=1.0] -->\n",
    "<!-- begin figure -->\n",
    "\n",
    "<p></p>\n",
    "<img src=\"fig-magnetization/magnetization-magneticcylinder-110.png\" width=600>\n",
    "\n",
    "<!-- end figure -->\n",
    "\n",
    "\n",
    "\n",
    "**a)**\n",
    "Write down Gauss' and Ampere's laws.\n",
    "\n"
   ]
  },
  {
   "cell_type": "markdown",
   "metadata": {},
   "source": [
    "\n",
    "First, we will address the fields $\\mathbf{D}$ (scenario A) and $\\mathbf{H}$ (scenario B) outside the cylinder.\n",
    "\n",
    "**b)**\n",
    "What symmetries would you use to apply Gauss' law to scenario A? What is the free charge? Find the field $\\mathbf{D}$.\n",
    "\n",
    "\n",
    "\n"
   ]
  },
  {
   "cell_type": "markdown",
   "metadata": {},
   "source": [
    "\n",
    "**c)**\n",
    "What symmetries would you use to apply Ampere's law to scenario B? What is the free current? Find the field $\\mathbf{H}$.\n",
    "\n"
   ]
  },
  {
   "cell_type": "markdown",
   "metadata": {},
   "source": [
    "\n",
    "Second, we will address the fields $\\mathbf{D}$ (scenario A) and $\\mathbf{H}$ (scenario B) inside the cylinder.\n",
    "\n",
    "**d)**\n",
    "What symmetries would you use to apply Gauss' law to scenario A? What is the free charge? Find the field $\\mathbf{D}$.\n",
    "\n"
   ]
  },
  {
   "cell_type": "markdown",
   "metadata": {},
   "source": [
    "\n",
    "**e)**\n",
    "What symmetries would you use to apply Ampere's law to scenario B? What is the free current? Find the field $\\mathbf{H}$.\n",
    "\n"
   ]
  },
  {
   "cell_type": "markdown",
   "metadata": {},
   "source": [
    "\n",
    "<!-- --- end exercise --- -->\n",
    "\n",
    "\n",
    "\n",
    "\n",
    "<!-- --- begin exercise --- -->\n",
    "\n",
    "## Exercise 7: Magnetic circuits\n",
    "\n",
    "*The focus on this tutorial is to develop an understanding of the concept of magnetic circuits and how we can apply our intuition from electric circuits to address magnetic circuits.*\n",
    "\n",
    "In this tutorial we will address the correspondence between current flow in an electrical circuit (scenario A) with flux in a magnetic circuit (scenario B) as illustrated in the figure. The circuits consists of cylindrical half-donuts. The electric circuit has a conductivity $\\sigma$ and the magnetic circuit has a magnetic permeability $\\mu \\gg \\mu_0$. You may assume there to be air or vacuum outside the circuit. The electric circuit is driven by a constant emf $V_0$ from a battery. The magnetic circuit is driven by a constant current $I_0$ which is wrapped $N$ times around the circuit cylinder along a very short length along the cylinder as illustrated in the figure.\n",
    "\n",
    "<!-- dom:FIGURE:[fig-magnetization/magnetization-magneticcircuit-010.png, height=400 width=600 frac=1.0] -->\n",
    "<!-- begin figure -->\n",
    "\n",
    "<p></p>\n",
    "<img src=\"fig-magnetization/magnetization-magneticcircuit-010.png\" height=400 width=600>\n",
    "\n",
    "<!-- end figure -->\n",
    "\n",
    "\n",
    "\n",
    "**a)**\n",
    "Sketch the electric field $\\mathbf{E}$ along the circuit in scenario A and the $\\mathbf{H}$-field in scenario B.\n",
    "\n",
    "\n",
    "\n",
    "**b)**\n",
    "What line integral along the circuit would you use to find the electric field in scenario A and the $H$-field in scenario B?\n",
    "\n"
   ]
  },
  {
   "cell_type": "markdown",
   "metadata": {},
   "source": [
    "\n",
    "\n",
    "**c)**\n",
    "Use your results from above to show that $E_1 \\pi R + E_2 \\pi R = V_0$ and that $H_1 \\pi R + H_2 \\pi R = N I_0$ where index $1$ refers to the thick part of the cylinder and index $2$ refers to the thin part of the cylinder.\n",
    "\n"
   ]
  },
  {
   "cell_type": "markdown",
   "metadata": {},
   "source": [
    "\n",
    "**d)**\n",
    "How can you related $\\mathbf{J}$ to $\\mathbf{E}$ and similarly $\\mathbf{B}$ to $\\mathbf{H}$?\n",
    "\n",
    "\n",
    "\n",
    "**e)**\n",
    "What are the currents $I_1$ and $I_2$ expressed in terms of $\\sigma$, $E_i$ and the cross-sectional areas $S_i$? What are the fluxes $\\Phi_1$ and $\\Phi_2$ expressed in terms of $\\mu$, $H_i$ and the cross-sectional areas $S_i$? (You can assume that $\\mathbf{J}$ and $\\mathbf{H}$ are uniform across a cross-section of the circuit).\n",
    "\n"
   ]
  },
  {
   "cell_type": "markdown",
   "metadata": {},
   "source": [
    "\n",
    "**f)**\n",
    "What conservation law relates the currents along the circuit in scenario A and the fluxes along the circuits in scenario B?\n",
    "\n",
    "\n",
    "\n",
    "**g)**\n",
    "Find the electric fields $E_i$ expressed in terms of $I$, $\\sigma$ and $S_i$. Similarly, for scenario B find the magnetic fields $H_i$ expressed in terms of $\\Phi$, $\\mu$ and $S_i$.\n",
    "\n"
   ]
  },
  {
   "cell_type": "markdown",
   "metadata": {},
   "source": [
    "\n",
    "**h)**\n",
    "Finally, put your results back into the integral around the circuit to find Kirchoff's law of voltage drops (scenario A):"
   ]
  },
  {
   "cell_type": "markdown",
   "metadata": {},
   "source": [
    "<!-- Equation labels as ordinary links -->\n",
    "<div id=\"_auto97\"></div>\n",
    "\n",
    "$$\n",
    "\\begin{equation}\n",
    "\\left( \\frac{\\pi R}{\\sigma S_1}\\right) I + \\left( \\frac{\\pi R}{\\sigma S_2}\\right) I = V_0 \n",
    "\\label{_auto97} \\tag{97}\n",
    "\\end{equation}\n",
    "$$"
   ]
  },
  {
   "cell_type": "markdown",
   "metadata": {},
   "source": [
    "and similarly for scenario B:"
   ]
  },
  {
   "cell_type": "markdown",
   "metadata": {},
   "source": [
    "<!-- Equation labels as ordinary links -->\n",
    "<div id=\"_auto98\"></div>\n",
    "\n",
    "$$\n",
    "\\begin{equation}\n",
    "\\left( \\frac{\\pi R}{\\mu S_1}\\right) \\Phi + \\left( \\frac{\\pi R}{\\mu S_2}\\right) \\Phi = N I_0 \n",
    "\\label{_auto98} \\tag{98}\n",
    "\\end{equation}\n",
    "$$"
   ]
  },
  {
   "cell_type": "markdown",
   "metadata": {},
   "source": [
    "<!-- --- end exercise --- -->\n",
    "\n",
    "\n",
    "## Homework\n",
    "\n",
    "\n",
    "\n",
    "<!-- --- begin exercise --- -->\n",
    "\n",
    "## Exercise 8: Sylinder i magnetfelt\n",
    "\n",
    "(Johannes Skaar)\n",
    "\n",
    "I et ellers uniformt magnetfelt bringes det inn et sylindrisk legeme. Sylinderen antas å være uendelig lang. Figur [fig:flukslinjer](#fig:flukslinjer) viser magnetiske flukslinjer i et snitt vinkelrett på sylinderaksen. Oppgaven består i, for hver figur, å angi hva sylinderen består av, av følgende alternativer:\n",
    "\n",
    "\n",
    "**a)**\n",
    "Diamagnetisk materiale, $0 < \\mu_r < 1$.\n",
    "\n",
    "**b)**\n",
    "Ideelt diamagnetisk materiale, $\\mu_r = 0$\n",
    "\n",
    "**c)**\n",
    "Paramagnetisk eller ferromagnetisk materiale, $\\mu_r > 1$\n",
    "\n",
    "**d)**\n",
    "Ideelt ferromagnetisk materiale, $\\mu_r = \\infty$.\n",
    "\n",
    "**e)**\n",
    "Elektrisk leder $(\\mu_r = 1)$, som fører en elektrisk strøm som er jevnt fordelt over lederens *tverrsnitt*.\n",
    "\n",
    "**f)**\n",
    "Elektrisk leder $(\\mu_r = 1)$, som fører en elektrisk strøm som er jevnt fordelt over lederens *overflate*.\n",
    "\n",
    "\n",
    "<!-- dom:FIGURE: [fig-magnetization/flukslinjer.png, width=400] Skisser av magnetiske flukslinjer for en sylinder i et magnetfelt. <div id=\"fig:flukslinjer\"></div> -->\n",
    "<!-- begin figure -->\n",
    "<div id=\"fig:flukslinjer\"></div>\n",
    "\n",
    "<p>Skisser av magnetiske flukslinjer for en sylinder i et magnetfelt.</p>\n",
    "<img src=\"fig-magnetization/flukslinjer.png\" width=400>\n",
    "\n",
    "<!-- end figure -->\n",
    "\n",
    "\n",
    "\n",
    "Gitt en lang, tettviklet solenoide med totalt N viklinger på lengden $l$. Viklingene fører strømmen $I$. Finn den magnetiske flukstettheten $\\mathbf{B}$ inne i solenoiden dersom\n",
    "\n",
    "**g)**\n",
    "Solenoiden er en papirrull med relativ permeabilitet $\\mu_r \\approx 1$.\n",
    "\n",
    "**h)**\n",
    "Solenoiden består av en jernkjerne med $\\mu_r = 5000$.\n",
    "\n",
    "<!-- --- begin hint in exercise --- -->\n",
    "\n",
    "**Hint.**\n",
    "Bruk Ampères lov. Symmetriargumentet for en solenoide kan du ta for gitt, dvs. du kan anta at feltet er i $\\mathbf{\\hat{z}}$-retning (langs aksen), og at det er neglisjerbart utenfor solenoiden.\n",
    "\n",
    "<!-- --- end hint in exercise --- -->\n",
    "\n",
    "\n",
    "\n",
    "<!-- --- end exercise --- -->\n",
    "\n",
    "\n",
    "\n",
    "\n",
    "<!-- --- begin exercise --- -->\n",
    "\n",
    "## Exercise 9: Magnetkrets\n",
    "\n",
    "*(Fra Johannes Skaar)*\n",
    "\n",
    "<!-- dom:FIGURE: [fig-magnetization/magnetkrets.idraw, width=400] -->\n",
    "<!-- begin figure -->\n",
    "\n",
    "<p></p>\n",
    "<img src=\"fig-magnetization/magnetkrets.idraw\" width=400>\n",
    "\n",
    "<!-- end figure -->\n",
    "\n",
    "\n",
    "Figuren over viser en jernkjerne med alle mål gitt i cm. Kjernens tykkelse (vinkelrett på papirplanet) er $1$ cm. Anta at den magnetiske flukstettheten $\\mathbf{B}$ er jevnt fordelt over alle tverrsnittsareal $S$ av kjernen, slik at $\\Phi = \\int_S \\mathbf{B} \\cdot \\mathrm{d} \\mathbf{S} = BS$. Kjernen har en relativ permeabilitet på $5000$. Det er $N=100$ viklinger, og strømmen $I$ er $1$ mA.\n",
    "\n",
    "\n",
    "**a)**\n",
    "Anta at fluksen er konstant gjennom kretsen, dvs. se bort fra spredning av flukslinjer. Bruk Ampères lov til å vise at for denne magnetiske kretsen får vi fluksen"
   ]
  },
  {
   "cell_type": "markdown",
   "metadata": {},
   "source": [
    "<!-- Equation labels as ordinary links -->\n",
    "<div id=\"_auto99\"></div>\n",
    "\n",
    "$$\n",
    "\\begin{equation}\n",
    "\\Phi_m = \\frac{NI}{\\sum_i R_{mi}},\n",
    "\\label{_auto99} \\tag{99}\n",
    "\\end{equation}\n",
    "$$"
   ]
  },
  {
   "cell_type": "markdown",
   "metadata": {},
   "source": [
    "der $R_{mi}$ er reluktansen til del $i$ i kretsen, definert som"
   ]
  },
  {
   "cell_type": "markdown",
   "metadata": {},
   "source": [
    "<!-- Equation labels as ordinary links -->\n",
    "<div id=\"_auto100\"></div>\n",
    "\n",
    "$$\n",
    "\\begin{equation}\n",
    "R_{mi} = \\frac{l_i}{\\mu_i S_i}.\n",
    "\\label{_auto100} \\tag{100}\n",
    "\\end{equation}\n",
    "$$"
   ]
  },
  {
   "cell_type": "markdown",
   "metadata": {},
   "source": [
    "Her er $l_i$, $\\mu_i$, og $S_i$ henholdsvis lengden, permeabiliteten og tverrsnittsarealet til den $i'te$ delen av kretsen. La integrasjonsveien være i midten av jernkjernen, slik at for eksempel den øverste delen av kretsen får lengden $6$ cm og ikk $8$ cm.\n",
    "\n"
   ]
  },
  {
   "cell_type": "markdown",
   "metadata": {},
   "source": [
    "\n",
    "**b)**\n",
    "Finn tallsvar for den magnetiske fluksen $\\Phi_m$ gjennom jernkjernen.\n",
    "\n",
    "\n",
    "\n",
    "**c)**\n",
    "Hvor stor feil gjør vi om vi regner med uendelig relativ permeabilitet i jernkjernen?\n",
    "\n",
    "\n",
    "\n",
    "<!-- --- end exercise --- -->\n",
    "\n",
    "\n",
    "\n",
    "\n",
    "<!-- --- begin exercise --- -->\n",
    "\n",
    "## Exercise 10: Surface current\n",
    "\n",
    "Assume that there is a uniform surface current density in the $x$-direction, $\\mathbf{J}_S = J_S \\hat{x}$, everywhere in the $xy$-planet. This means that a current $I = L J_S$ passes through a line section from $y=0$ til $y=L$ in the positive $x$-direction.\n",
    "\n",
    "\n",
    "**a)**\n",
    "Find the magnetic field $\\mathbf{B}$ everywhere in space.\n",
    "\n",
    "\n",
    "\n"
   ]
  },
  {
   "cell_type": "markdown",
   "metadata": {},
   "source": [
    "\n",
    "I sylinderkoordinater beskriver vi en posisjon med en radius $r$, en azimutal vinkel $\\phi$ og en lengde $z$ langs sylinderaksen. Anta en uniform overflate-strømtetthet $\\mathbf{J} = J_0 \\hat{\\phi}$ på en uendelig lang sylinderflate med radius $a$ og akse langs $z$-aksen.\n",
    "\n",
    "**b)**\n",
    "Find the $\\mathbf{H}$-field and the magnetic field $\\mathbf{B}$ everywhere in space when there is vacuum inside the cylinder.\n",
    "\n",
    "\n",
    "\n"
   ]
  },
  {
   "cell_type": "markdown",
   "metadata": {},
   "source": [
    "\n",
    "**c)**\n",
    "Assume that there instead is a permanent magnet with magnetization $\\mathbf{M} = -J_{0} \\mathbf{\\hat{z}}$ inside the cylinder. What is now $\\mathbf{B}$ and $\\mathbf{H}$ inside the cylinder? Provide a physical explanation for the result.\n",
    "\n",
    "\n",
    "\n",
    "\n",
    "\n",
    "If the length $L$ of the cylinder is much smaller than the radius $a$, we can describe the cylinder as a circular circuit with radius $a$ and current $I = J_{0} L$. Assume that the cylinder is in vacuum.\n",
    "\n",
    "**d)**\n",
    "What is contribution  $d\\mathbf{B}$ to the magnetic field $\\mathbf{B}$ in in the point $\\mathbf{r}=(x,y,z)$ from a small element $\\mathrm{d} \\mathbf{l}$ of the current loop in the position $a(\\cos \\phi,\\sin \\phi,0)$ where $\\phi$ is the angle from the $x$-axis?\n",
    "\n",
    "**e)**\n",
    "Write a program to find the magnetic field $\\mathbf{B}$ in a point $\\mathbf{r}=(x,y,z)$ and visualize the field in the $xz$-plane.\n",
    "\n",
    "<!-- --- end exercise --- -->\n",
    "\n",
    "\n",
    "\n",
    "\n",
    "<!-- --- begin exercise --- -->\n",
    "\n",
    "## Exercise 11: A simple magnetic trap\n",
    "\n",
    "In this exercise we will study the magnetic field $\\mathbf{B} = \\frac{B_0}{b} \\left(  x \\mathbf{\\hat{x}} + y  \\mathbf{\\hat{y}} - 2z \\mathbf{\\hat{z}} \\right)$, where $B_0$ is a constant and $b$ is a length.\n",
    "\n",
    "\n",
    "**a)**\n",
    "Sketch the $\\mathbf{B}$-field in the $xy$-plane.\n",
    "\n",
    "\n",
    "\n",
    "**b)**\n",
    "What is the divergence, $\\nabla \\cdot \\mathbf{B}$, of the magnetic field?\n",
    "\n",
    "\n",
    "\n"
   ]
  },
  {
   "cell_type": "markdown",
   "metadata": {},
   "source": [
    "\n",
    "We place a quadratic circuit with side $L$ in the $xy$-plane centered in the origin and with surface normal in the positive $z$-direction.\n",
    "\n",
    "**c)**\n",
    "What is the magnetic flux, $\\Phi$, through the circuit from the magnetic field?\n",
    "\n",
    "\n",
    "\n"
   ]
  },
  {
   "cell_type": "markdown",
   "metadata": {},
   "source": [
    "\n",
    "**d)**\n",
    "The circuit is moved along the $z$-axis with the velocity. Find the emf, $e$, induced in the circuit.\n",
    "\n",
    "\n",
    "\n"
   ]
  },
  {
   "cell_type": "markdown",
   "metadata": {},
   "source": [
    "\n",
    "**e)**\n",
    "Assume the circuit carries a current $I$. What is the force on the circuit from the magnetic field when $z = 0$?\n",
    "\n",
    "**f)**\n",
    "What is the energy density in this magnetic field?\n",
    "\n",
    "<!-- ===== Modeling projects ===== -->\n",
    "\n",
    "\n",
    "<!-- --- end exercise --- -->\n",
    "\n",
    "\n",
    "# References"
   ]
  }
 ],
 "metadata": {
  "kernelspec": {
   "display_name": "Python 3",
   "language": "python",
   "name": "python3"
  },
  "language_info": {
   "codemirror_mode": {
    "name": "ipython",
    "version": 3
   },
   "file_extension": ".py",
   "mimetype": "text/x-python",
   "name": "python",
   "nbconvert_exporter": "python",
   "pygments_lexer": "ipython3",
   "version": "3.7.6"
  }
 },
 "nbformat": 4,
 "nbformat_minor": 2
}
