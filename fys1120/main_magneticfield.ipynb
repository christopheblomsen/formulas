{
 "cells": [
  {
   "cell_type": "markdown",
   "metadata": {},
   "source": [
    "<!-- dom:TITLE: Magnetic field -->\n",
    "# Magnetic field\n",
    "<!-- dom:AUTHOR: Anders Malthe-Sørenssen at Department of Physics, University of Oslo -->\n",
    "<!-- Author: -->  \n",
    "**Anders Malthe-Sørenssen**, Department of Physics, University of Oslo\n",
    "\n",
    "Date: **Nov 27, 2020**\n",
    "\n",
    "<!-- Externaldocuments: ../nickname1/main_nickname1, ../nickname2/main_nickname2 -->\n",
    "\n",
    "<!-- Common Mako variables and functions -->\n",
    "\n",
    "\n",
    "\n",
    "\n",
    "\n",
    "\n",
    "\n",
    "\n",
    "In this chapter we will introduce Biot-Savart's law, which is the equivalent of Coloumb's law for magnetism. We will introduce the magnetic field in a way similar to how we introduced the electric field and use our intuition about electric fields to build a new intuition for magnetic fields. For while there are clear symmetries between electric and magnetic fields, there are also important differences. We will introduce methods to calculate the magnetic field from distributions of moving charges and currents, both analytically and numerically, and apply these to simple and complex situations. Finally, we will address how magntic fields induce forces and torques on current elements.\n",
    "\n",
    "\n",
    "\n",
    "# The magnetic field\n",
    "\n",
    "While you may have some intuition about electric fields, our intuition about magnetic fields are usually connected to either the Earth's magnetic field, which we and many animals use to navigate, or to permanent magnets. However, to build an understanding of permanent magnets, we first need to build an intuition about magnetic fields and how they arise due to moving charges. Then we will be ready to see how permanent magnets are due to permanent microscopic currents just as polarized materials are due to small charge displacements.\n",
    "\n",
    "While electrostatic is the theory of static charges and time-independent currents, we will now address the behavior of moving charges. We will see that there is an experimentally based law describing the interactions between two moving charges, just as there was an experimentally based law for the interaction between static charges: Coloumb's law. \n",
    "\n",
    "## From Coulomb's law to the magnetic force law\n",
    "\n",
    "We had great success with introducing the electric field in electrostatics. Let us recall how we proceeded to build a theory for electrostatics. We started from the experimental observation, Coulomb's law, which states that the force from a charge $Q_1$ on a charge $Q_2$ is given as"
   ]
  },
  {
   "cell_type": "markdown",
   "metadata": {},
   "source": [
    "<!-- Equation labels as ordinary links -->\n",
    "<div id=\"_auto1\"></div>\n",
    "\n",
    "$$\n",
    "\\begin{equation}\n",
    "\\mathbf{F}_{\\text{on 2 from 1}} = Q_2 \\frac{Q_1}{4 \\pi \\epsilon_0} \\frac{\\hat{\\mathbf{R}}}{R^2} \\; ,\n",
    "\\label{_auto1} \\tag{1}\n",
    "\\end{equation}\n",
    "$$"
   ]
  },
  {
   "cell_type": "markdown",
   "metadata": {},
   "source": [
    "where the vector $\\mathbf{R}$ is the vector from 1 to 2: $\\mathbf{R} = \\mathbf{r}_2 - \\mathbf{r}_1$, where the position of charge $Q_1$ is $\\mathbf{r}_1$ and the position of charge $Q_2$ is $\\mathbf{r}_2$ as illustrated in Fig. [fig:magneticfield-biotsavart-010](#fig:magneticfield-biotsavart-010).\n",
    "\n",
    "<!-- dom:FIGURE:[fig-magneticfield/magneticfield-biotsavart-010.png, height=400 width=600 frac=0.9] (a) Illustration of two charges and the vector $\\mathbf{R}$ between them used to defined Coulomb's law. (b) Illustration of two moving charges and the vector $\\mathbf{R}$ between them. <div id=\"fig:magneticfield-biotsavart-010\"></div> -->\n",
    "<!-- begin figure -->\n",
    "<div id=\"fig:magneticfield-biotsavart-010\"></div>\n",
    "\n",
    "<p>(a) Illustration of two charges and the vector $\\mathbf{R}$ between them used to defined Coulomb's law. (b) Illustration of two moving charges and the vector $\\mathbf{R}$ between them.</p>\n",
    "<img src=\"fig-magneticfield/magneticfield-biotsavart-010.png\" height=400 width=600>\n",
    "\n",
    "<!-- end figure -->\n",
    "\n",
    "\n",
    "### Electric field\n",
    "\n",
    "We realized that it was useful to introduce the electric field, $\\mathbf{E}$, from charge $Q_1$:"
   ]
  },
  {
   "cell_type": "markdown",
   "metadata": {},
   "source": [
    "$$\n",
    "\\begin{equation}\n",
    "\\mathbf{E} = \\frac{Q_1}{4 \\pi \\epsilon_0} \\frac{\\hat{\\mathbf{R}}}{R^2} \\; ,\n",
    "\\label{}\n",
    "\\end{equation}\n",
    "$$"
   ]
  },
  {
   "cell_type": "markdown",
   "metadata": {},
   "source": [
    "and then find the force on a charge $Q_2$ from"
   ]
  },
  {
   "cell_type": "markdown",
   "metadata": {},
   "source": [
    "<!-- Equation labels as ordinary links -->\n",
    "<div id=\"_auto2\"></div>\n",
    "\n",
    "$$\n",
    "\\begin{equation}\n",
    "\\mathbf{F}_{\\text{on 2 from 1}} = Q_2 \\mathbf{E} \\; ,\n",
    "\\label{_auto2} \\tag{2}\n",
    "\\end{equation}\n",
    "$$"
   ]
  },
  {
   "cell_type": "markdown",
   "metadata": {},
   "source": [
    "where we understand that the electric field varies in space: $\\mathbf{E} = \\mathbf{E}(\\mathbf{r})$. We also found that the superposition principle for forces gave us a superposition principle for the electric field: We found the electric field set up by many charges by summing or integrating the electric fields from each of the charges:"
   ]
  },
  {
   "cell_type": "markdown",
   "metadata": {},
   "source": [
    "<!-- Equation labels as ordinary links -->\n",
    "<div id=\"_auto3\"></div>\n",
    "\n",
    "$$\n",
    "\\begin{equation}\n",
    "\\mathbf{E} = \\sum_i \\frac{Q_i}{4 \\pi \\epsilon_0} \\frac{\\hat{\\mathbf{R}_i}}{R_i^2} = \\i_v\n",
    "\\frac{\\rho}{4 \\pi \\epsilon_0} \\frac{\\mathbf{\\hat{R}}}{R^2} \\, \\mathrm{d} v\\; ,\n",
    "\\; .\n",
    "\\label{_auto3} \\tag{3}\n",
    "\\end{equation}\n",
    "$$"
   ]
  },
  {
   "cell_type": "markdown",
   "metadata": {},
   "source": [
    "This allowed us to divide the problem of finding the forces between two charges into two parts:\n",
    "\n",
    " * first find the electric field set up by a distribution of charges\n",
    "\n",
    " * then find the force acting on a specific charge at a specific point\n",
    "\n",
    "We then went on to develop effective methods to calculate and discuss electric fields.\n",
    "\n",
    "### Forces between moving charges\n",
    "\n",
    "We will follow a similar method when introducing the magnetic field. We will first introduce an experimental law for the interaction between *moving* charges, and then use this to introduce the concept of a magnetic field, and the force from a magnetic field.\n",
    "\n",
    "\n",
    "Let us now formulate the experimental law that describes the forces acting between two moving charges in vacuum.\n",
    "\n",
    "**Magnetic force law.**\n",
    "\n",
    "A charge $Q_1$ in position $\\mathbf{r}_1$ has velocity $\\mathbf{v}_1$ and a charge $Q_2$ in $\\mathbf{r}_2$ has velocity $\\mathbf{v}_2$. The force from the *moving charge* $Q_1$ on the *moving charge* 2 is:"
   ]
  },
  {
   "cell_type": "markdown",
   "metadata": {},
   "source": [
    "<!-- Equation labels as ordinary links -->\n",
    "<div id=\"eq:magneticforcelaw\"></div>\n",
    "\n",
    "$$\n",
    "\\begin{equation}\n",
    "\\mathbf{F}_{\\text{from 1 on 2}} = \\frac{\\mu_0}{4 \\pi} \\frac{Q_2 \\mathbf{v}_2 \\times \\left( Q_1 \\mathbf{v}_1 \\times \\mathbf{\\hat{R}} \\right) }{R^2} \\; .\n",
    "\\label{eq:magneticforcelaw} \\tag{4}\n",
    "\\end{equation}\n",
    "$$"
   ]
  },
  {
   "cell_type": "markdown",
   "metadata": {},
   "source": [
    "We call this the magnetic force law and observe that it is very similar to Coulomb's law. The constant $\\mu_0$ is called the *permeability of vacuum* and is given as"
   ]
  },
  {
   "cell_type": "markdown",
   "metadata": {},
   "source": [
    "<!-- Equation labels as ordinary links -->\n",
    "<div id=\"_auto4\"></div>\n",
    "\n",
    "$$\n",
    "\\begin{equation}\n",
    "\\boxed{\\mu_0 = 4 \\pi \\cdot 10^{-7} \\text{H}/\\text{m} \\;  }\n",
    "\\label{_auto4} \\tag{5}\n",
    "\\end{equation}\n",
    "$$"
   ]
  },
  {
   "cell_type": "markdown",
   "metadata": {},
   "source": [
    "where $\\text{H}$, henry, is the unit for inductance. This equation is the results of experiments, but can also be derived from Coulomb's law and the special theory of relativity --- it is a beautiful consequence of the fundamental principle that all laws of physics must be the same in all inertial systems. \n",
    "\n",
    "The vector $\\mathbf{R} = \\mathbf{r}_2 - \\mathbf{r}_1$, pointing from $Q_1$ to $Q_2$, is the same as for Coulomb's law, and we see the similarity between the two laws by replacing $Q_1$ with $Q_1 \\mathbf{v}_1$ and $Q_2$ by $Q_2 \\mathbf{v}_2$.\n",
    "However, the magnetic force law is significantly more complicated because of the cross products. Notice that cross products do no commute, so we cannot remove the paranthesis in Eq. ([4](#eq:magneticforcelaw)), because this would make the expression ambiguous. Let us look at an example application of the law to repeat the use of cross products.\n",
    "\n",
    "## Example: Two moving charges\n",
    "\n",
    "Fig. [fig:magneticfield-twomovingcharges-010](#fig:magneticfield-twomovingcharges-010) illustrates two moving charges. Charge $Q_1$ is moving with a velocity $\\mathbf{v}_1 = v_1 \\mathbf{\\hat{y}}$ and $Q_2$ is moving with a velocity $\\mathbf{v}_2 = v_2 \\mathbf{\\hat{y}}$, that is, they are moving in the same direction.\n",
    "\n",
    "What is the force from charge 1 on charge 2? First, we see that the $\\mathbf{R}$-vector is $\\mathbf{R} = R \\mathbf{\\hat{x}}$. Now, to find the force, we need to first find the term inside the parenthesis in Eq. ([4](#eq:magneticforcelaw)) and then perform the multiplication with $Q_2  \\mathbf{v}_2$.\n",
    "\n",
    "\n",
    "First, we need to find $Q_1 \\mathbf{v}_1 \\times \\mathbf{\\hat{R}}$. We recall that in order to find the cross product we need to apply the *right-hand-rule*: We place the index finger along the first vector, that is along $\\mathbf{v}_1$. Then we orient the hand so that the second vector, that is so that $\\mathbf{\\hat{R}}$, points along the other three fingers. The thumb will then point in the direction of the cross-product. The cross product is *normal* (orthogonal) to the two vectors in the cross-product and the right-hand-rule gives the direction of the normal. We see from this that the vector points in the negative $z$-direction, down into the plane.\n",
    "\n",
    "Second, we now need to find the cross product of $Q_2 \\mathbf{v}_2$ and $Q_1 \\mathbf{v}_1 \\times \\mathbf{\\hat{R}}$. Again, we apply the right-hand-rule and find that the resultant vector points in the negative $x$-direction. The force on charge 2 is therefore towards charge 1: Two charges moving in the same direction attracts each other!\n",
    "\n",
    "What about the magnitude of the cross product? We recall that the cross magnitude of the cross product is given as"
   ]
  },
  {
   "cell_type": "markdown",
   "metadata": {},
   "source": [
    "<!-- Equation labels as ordinary links -->\n",
    "<div id=\"_auto5\"></div>\n",
    "\n",
    "$$\n",
    "\\begin{equation}\n",
    "|\\mathbf{a} \\times \\mathbf{b}| = |\\mathbf{a}||\\mathbf{b}| \\sin \\alpha \\; ,\n",
    "\\label{_auto5} \\tag{6}\n",
    "\\end{equation}\n",
    "$$"
   ]
  },
  {
   "cell_type": "markdown",
   "metadata": {},
   "source": [
    "where $\\alpha$ is the angle between $\\mathbf{a}$ and $\\mathbf{b}$. In both the cases in this example, the angles are $\\pi/2$, so that $\\sin \\alpha = 1$. This gives us the magnitude and direction of the force on charge 2 from charge 1:"
   ]
  },
  {
   "cell_type": "markdown",
   "metadata": {},
   "source": [
    "<!-- Equation labels as ordinary links -->\n",
    "<div id=\"_auto6\"></div>\n",
    "\n",
    "$$\n",
    "\\begin{equation}\n",
    "\\mathbf{F} = -Q_2 v_2 \\left( \\frac{\\mu_0}{4 \\pi} \\frac{Q_1 v_1}{R^2} \\right) \\mathbf{\\hat{x}} \\; .\n",
    "\\label{_auto6} \\tag{7}\n",
    "\\end{equation}\n",
    "$$"
   ]
  },
  {
   "cell_type": "markdown",
   "metadata": {},
   "source": [
    "We notice that in electrostatics, equal charges repell each other, whereas in magnetostatics, equal charge-velocities attract each other.\n",
    "\n",
    "<!-- dom:FIGURE:[fig-magneticfield/magneticfield-twomovingcharges-010.png, height=400 width=600 frac=0.9] (a) Illustration of two moving charges. (b) and (c) Illustration of the cross products involved in finding the force on charge 1 from charge 2. <div id=\"fig:magneticfield-twomovingcharges-010\"></div> -->\n",
    "<!-- begin figure -->\n",
    "<div id=\"fig:magneticfield-twomovingcharges-010\"></div>\n",
    "\n",
    "<p>(a) Illustration of two moving charges. (b) and (c) Illustration of the cross products involved in finding the force on charge 1 from charge 2.</p>\n",
    "<img src=\"fig-magneticfield/magneticfield-twomovingcharges-010.png\" height=400 width=600>\n",
    "\n",
    "<!-- end figure -->\n",
    "\n",
    "\n",
    "**Student activity.**\n",
    "\n",
    "A charge $Q_1>0$ in the origin is moving in the $z$-direction with velocity $\\mathbf{v}_1 = v_1 \\mathbf{\\hat{z}}$. In which direction does the force *on* a charge $Q_2>0$ in $\\mathbf{r}_2$ act for the following velocities $\\mathbf{v}_2$?\n",
    "Make a drawing of the situation and apply the magnetic force law for each situation.\n",
    "\n",
    "<!-- --- previous heading type: exercise -->\n",
    "\n",
    "\n",
    "\n",
    "**Question:** $\\mathbf{v}_2 = v_2 \\mathbf{\\hat{z}}$?\n",
    "\n",
    "**Choice A:**\n",
    " $0$\n",
    "\n",
    "**Choice B:**\n",
    " $\\mathbf{\\hat{x}}$\n",
    "\n",
    "**Choice C:**\n",
    " $\\mathbf{\\hat{y}}$\n",
    "\n",
    "**Choice D:**\n",
    " $\\mathbf{\\hat{z}}$\n",
    "\n",
    "\n",
    "\n",
    "\n",
    "\n",
    "\n",
    "**Question:** $\\mathbf{v}_2 = v_2 \\mathbf{\\hat{y}}$?\n",
    "\n",
    "**Choice A:**\n",
    " $0$\n",
    "\n",
    "**Choice B:**\n",
    " $\\mathbf{\\hat{x}}$\n",
    "\n",
    "**Choice C:**\n",
    " $\\mathbf{\\hat{y}}$\n",
    "\n",
    "**Choice D:**\n",
    " $\\mathbf{\\hat{z}}$\n",
    "\n",
    "\n",
    "\n",
    "\n",
    "\n",
    "\n",
    "**Question:** $\\mathbf{v}_2 = v_2 \\mathbf{\\hat{x}}$?\n",
    "\n",
    "**Choice A:**\n",
    " $0$\n",
    "\n",
    "**Choice B:**\n",
    " $-\\mathbf{\\hat{x}}$\n",
    "\n",
    "**Choice C:**\n",
    " $-\\mathbf{\\hat{y}}$\n",
    "\n",
    "**Choice D:**\n",
    " $-\\mathbf{\\hat{z}}$\n",
    "\n",
    "\n",
    "\n",
    "## From force-law to magnetic field\n",
    "\n",
    " $}\n",
    "\n",
    "The magnetic force law in ([4](#eq:magneticforcelaw)) states that the force on a charge $Q$ at $\\mathbf{r}$ moving with a velocity $\\mathbf{v}$ from a charge $Q_1$ at $\\mathbf{r}_1$ moving with a velocity $\\mathbf{v}_1$ is"
   ]
  },
  {
   "cell_type": "markdown",
   "metadata": {},
   "source": [
    "<!-- Equation labels as ordinary links -->\n",
    "<div id=\"_auto7\"></div>\n",
    "\n",
    "$$\n",
    "\\begin{equation}\n",
    "\\mathbf{F} = Q \\mathbf{v} \\times \\left( \\frac{\\mu_0}{4 \\pi} \\frac{Q_1 \\mathbf{v}_1 \\times \\mathbf{\\hat{R}} }{R^2} \\right) \\; ,\n",
    "\\label{_auto7} \\tag{8}\n",
    "\\end{equation}\n",
    "$$"
   ]
  },
  {
   "cell_type": "markdown",
   "metadata": {},
   "source": [
    "where $\\mathbf{R} = \\mathbf{r} - \\mathbf{r}_1$. The part inside the paranthesis to the right only depends on the positions $\\mathbf{r}$, $\\mathbf{r}_1$ and the charge-velocity $Q_1 \\mathbf{v}_1$. It does not depend on the charge or velocity of charge $Q$. This force is similar to the Coulomb force in that it is a distance force set up by the motion of charge $Q_1$, and the force on $Q$ depends on the position of $Q$ in space. It is therefore useful to introduce a field $\\mathbf{B}$ similar to the field $\\mathbf{E}$ we introduced earlier.\n",
    "\n",
    "\n",
    "**Magnetic field $\\mathbf{B}$.**\n",
    "\n",
    "\n",
    "The **magnetic field** $\\mathbf{B}$ from a charge $Q_1$ with velocity $\\mathbf{v}_1$ in $\\mathbf{r}_1$ in the point $\\mathbf{r}$ is defined as"
   ]
  },
  {
   "cell_type": "markdown",
   "metadata": {},
   "source": [
    "<!-- Equation labels as ordinary links -->\n",
    "<div id=\"_auto8\"></div>\n",
    "\n",
    "$$\n",
    "\\begin{equation}\n",
    "\\mathbf{B} = \\frac{\\mu_0}{4 \\pi} \\frac{Q_1 \\mathbf{v}_1 \\times \\mathbf{\\hat{R}} }{R^2} \\; . \n",
    "\\label{_auto8} \\tag{9}\n",
    "\\end{equation}\n",
    "$$"
   ]
  },
  {
   "cell_type": "markdown",
   "metadata": {},
   "source": [
    "We call the point $\\mathbf{r}$ the *observation point*. The vector $\\mathbf{R}$ is the vector from the charge $Q_1$ to the *observation point* at $\\mathbf{r}$: $\\mathbf{R} = \\mathbf{r} - \\mathbf{r}_1$. We can rewrite the definitions in terms of $\\mathbf{r}_1$ and $\\mathbf{r}$ to make the dependence clear:"
   ]
  },
  {
   "cell_type": "markdown",
   "metadata": {},
   "source": [
    "<!-- Equation labels as ordinary links -->\n",
    "<div id=\"_auto9\"></div>\n",
    "\n",
    "$$\n",
    "\\begin{equation}\n",
    "\\mathbf{B}(\\mathbf{r}) = \\frac{\\mu_0}{4 \\pi} \\frac{Q_1 \\mathbf{v}_1 \\times \\left(\\mathbf{r}- \\mathbf{r}_1 \\right) }{|\\mathbf{r}- \\mathbf{r}_1|^3} \\; . \n",
    "\\label{_auto9} \\tag{10}\n",
    "\\end{equation}\n",
    "$$"
   ]
  },
  {
   "cell_type": "markdown",
   "metadata": {},
   "source": [
    "### The $\\mathbf{R}$-vector is the same as for Coloumb's law\n",
    "\n",
    "Notice that this $\\mathbf{R}$ is the same as we used for Coulomb's law. We should therefore be able to transfer out intuition from Coulomb's law to this new case. Notice that the magnetic field varies in space, $\\mathbf{B} = \\mathbf{B}(\\mathbf{r})$.\n",
    "\n",
    "**Magnetic force on a charge $Q$.**\n",
    "\n",
    "The magnetic force on a charge-velocity $Q \\mathbf{v}$ at a position $\\mathbf{r}$ is then:"
   ]
  },
  {
   "cell_type": "markdown",
   "metadata": {},
   "source": [
    "<!-- Equation labels as ordinary links -->\n",
    "<div id=\"_auto10\"></div>\n",
    "\n",
    "$$\n",
    "\\begin{equation}\n",
    "\\mathbf{F} = Q \\mathbf{v} \\times \\mathbf{B}(\\mathbf{r}) \\; .\n",
    "\\label{_auto10} \\tag{11}\n",
    "\\end{equation}\n",
    "$$"
   ]
  },
  {
   "cell_type": "markdown",
   "metadata": {},
   "source": [
    "## Superposition principle for magnetic fields\n",
    "\n",
    "The superposition principle for forces allow us to find the force from a set of charge-velocities $Q_i \\mathbf{v}_i$ on a charge $Q \\mathbf{v}$ simply by adding the contributions from each $Q_i$:"
   ]
  },
  {
   "cell_type": "markdown",
   "metadata": {},
   "source": [
    "<!-- Equation labels as ordinary links -->\n",
    "<div id=\"_auto11\"></div>\n",
    "\n",
    "$$\n",
    "\\begin{equation}\n",
    "\\mathbf{F} = \\sum_i \\mathbf{F}_i = \\sum_i Q \\mathbf{v} \\times \\mathbf{B}_i (\\mathbf{r}) = Q \\mathbf{v} \\times \\sum_i \\mathbf{B}_i ( \\mathbf{r}) \\;.\n",
    "\\label{_auto11} \\tag{12}\n",
    "\\end{equation}\n",
    "$$"
   ]
  },
  {
   "cell_type": "markdown",
   "metadata": {},
   "source": [
    "We can therefore use the superposition principle for magnetic fields just as we did for electric fields: We can add the fields set up by all moving charges in space to find the total magnetic field.\n",
    "\n",
    "**Superposition principle for magnetic fields.**\n",
    "\n",
    "\n",
    "The total magnetic field in a point $vec{r}$ is the sum of the magnetic fields $\\mathbf{B}_i$ (from charge-velocities $Q_i$, $\\mathbf{v}_i$):"
   ]
  },
  {
   "cell_type": "markdown",
   "metadata": {},
   "source": [
    "<!-- Equation labels as ordinary links -->\n",
    "<div id=\"_auto12\"></div>\n",
    "\n",
    "$$\n",
    "\\begin{equation}\n",
    "\\mathbf{B} = \\sum_i \\mathbf{B}_i \\; .\n",
    "\\label{_auto12} \\tag{13}\n",
    "\\end{equation}\n",
    "$$"
   ]
  },
  {
   "cell_type": "markdown",
   "metadata": {},
   "source": [
    "## Transfer of intuition from electric field to magnetic field\n",
    "\n",
    "We can transfer much of the intuition and methods we have built up for electric fields to magnentic fields:\n",
    "\n",
    "* The magnetic field is a spatial field: It varies in space because the vector $\\mathbf{R}_i$ for each charge $Q_i$, $\\mathbf{v}_i$, is $\\mathbf{R}_i = \\mathbf{r} - \\mathbf{r}_i$, and this depends on $\\mathbf{r}$.\n",
    "\n",
    "* We can use the superposition principle to find the magnetic field from many moving charges.\n",
    "\n",
    "* We can calculate and study the magnetic field itself, just as we did for the electric field. We can build intuition for how the magnetic field varies in space.\n",
    "\n",
    "* We must always keep track for the $\\mathbf{R}$-vector in the expression for the magnetic field, just as we did with the $\\mathbf{R}$-vector for electric fields.\n",
    "\n",
    "**Student activity.**\n",
    "\n",
    "<!-- dom:FIGURE:[fig-magneticfield/clicker-magnetostatic-drawBfield.png, height=400 width=600 frac=0.5]  -->\n",
    "<!-- begin figure -->\n",
    "\n",
    "<p></p>\n",
    "<img src=\"fig-magneticfield/clicker-magnetostatic-drawBfield.png\" height=400 width=600>\n",
    "\n",
    "<!-- end figure -->\n",
    "\n",
    "\n",
    "\n",
    "# Biot-Savart's law\n",
    "\n",
    "\n",
    "We have now introduced the concept of a magnetic field from charge-velocities: Charges that are moving with a velocity. However, we have usually described the motion of charges through currents and current densities. How can we relate our definition of the magnetic field to current densities and currents?\n",
    "\n",
    "## Magnetic field from current elements\n",
    "\n",
    "We will often consider charges that move in conductors and not freely moving charges in space. How can we find the magnetic field set up by charges moving in a conductor?\n",
    "\n",
    "### Biot-Savart's law on differential form\n",
    "\n",
    "We recall that we describe the motion of charges by the current density $\\mathbf{J}$. We recall that the number of charges in a small volume element $\\mathrm{d} v$ at the position $\\mathbf{r}_{\\mathrm{d} v}$ as illustrated in Fig. [fig:magneticfield-biotsavart-050](#fig:magneticfield-biotsavart-050) is $N \\mathrm{d} v$, where $N$ is the number of charges per volume. Because the volume is small, we assume that all these charges move with the same velocity $\\mathbf{v}$ and that each charge has a charge $Q$. The current density $\\mathbf{J}$ is then the sum of the contributions from all of these charges:"
   ]
  },
  {
   "cell_type": "markdown",
   "metadata": {},
   "source": [
    "<!-- Equation labels as ordinary links -->\n",
    "<div id=\"_auto13\"></div>\n",
    "\n",
    "$$\n",
    "\\begin{equation}\n",
    "\\mathbf{J} = N \\mathrm{d} v Q \\mathbf{v} = \\mathbf{J} \\mathrm{d} v \\, \\Rightarrow \\, \\mathbf{J} = N Q \\mathbf{v} \\; .\n",
    "\\label{_auto13} \\tag{14}\n",
    "\\end{equation}\n",
    "$$"
   ]
  },
  {
   "cell_type": "markdown",
   "metadata": {},
   "source": [
    "The contribution from the volume $\\mathrm{d} v$ at the position $\\mathbf{r}_{\\mathrm{d} v}$ to the magnetic field $\\mathbf{B}$ in the point $\\mathbf{r}$ is then found as the sum of the contributions from all $i$ of the $N \\mathrm{d} v$ charges in the volume $\\mathrm{d} v$, where we assume that each of the $i$ charges approximately has the same position $\\mathbf{r}_{\\mathrm{d} v}$:"
   ]
  },
  {
   "cell_type": "markdown",
   "metadata": {},
   "source": [
    "<!-- Equation labels as ordinary links -->\n",
    "<div id=\"_auto14\"></div>\n",
    "\n",
    "$$\n",
    "\\begin{equation}\n",
    "\\mathrm{d} \\mathbf{B} = \\sum_i \\frac{\\mu_0}{ 4 \\pi} \\frac{Q \\mathbf{v} \\times \\mathbf{\\hat{R}}_i }{R_i^2} \\; ,\n",
    "\\label{_auto14} \\tag{15}\n",
    "\\end{equation}\n",
    "$$"
   ]
  },
  {
   "cell_type": "markdown",
   "metadata": {},
   "source": [
    "where all the $\\mathbf{R}_i = \\mathbf{R} = \\mathbf{r} - \\mathbf{r}_{\\mathrm{d} v}$. The magnetic field from the $N\\mathrm{d} v$ charges is therefore:"
   ]
  },
  {
   "cell_type": "markdown",
   "metadata": {},
   "source": [
    "<!-- Equation labels as ordinary links -->\n",
    "<div id=\"_auto15\"></div>\n",
    "\n",
    "$$\n",
    "\\begin{equation}\n",
    "\\mathrm{d}\\mathbf{B} = N \\mathrm{d} v  \\frac{\\mu_0}{4 \\pi} \\frac{Q \\mathbf{v} \\times \\mathbf{\\hat{R}} }{R^2} = \\frac{\\mu_0}{4 \\pi} \\frac{\\mathbf{J} \\mathrm{d} v \\times \\mathbf{\\hat{R}} }{R^2} \\; .\n",
    "\\label{_auto15} \\tag{16}\n",
    "\\end{equation}\n",
    "$$"
   ]
  },
  {
   "cell_type": "markdown",
   "metadata": {},
   "source": [
    "This gives Biot-Savart's law on differential form:\n",
    "\n",
    "**Biot-Savart's law on differential form.**\n",
    "\n",
    "The contribution $\\mathrm{d} \\mathbf{B}$ to the magnetic field at $\\mathbf{r}$ from a current density $\\mathbf{J}$ at $\\mathbf{r}'$ is"
   ]
  },
  {
   "cell_type": "markdown",
   "metadata": {},
   "source": [
    "<!-- Equation labels as ordinary links -->\n",
    "<div id=\"_auto16\"></div>\n",
    "\n",
    "$$\n",
    "\\begin{equation}\n",
    "\\mathrm{d}\\mathbf{B} = \\frac{\\mu_0}{4 \\pi} \\frac{\\mathbf{J} \\mathrm{d} v \\times \\mathbf{\\hat{R}} }{R^2} = \\frac{\\mu_0}{4 \\pi} \\frac{\\mathbf{J} \\mathrm{d} v \\times \\mathbf{R} }{R^3}  \\; ,\n",
    "\\label{_auto16} \\tag{17}\n",
    "\\end{equation}\n",
    "$$"
   ]
  },
  {
   "cell_type": "markdown",
   "metadata": {},
   "source": [
    "where $\\mathbf{R}$ is the vector from the volume element $\\mathrm{d} v$ at $\\mathbf{r}'$ to $\\mathbf{r}$: $\\mathbf{R} = \\mathbf{r} - \\mathbf{r}'$.\n",
    "\n",
    "\n",
    "\n",
    "<!-- dom:FIGURE:[fig-magneticfield/magneticfield-biotsavart-050.png, height=400 width=600 frac=0.45] The contribution from a small volume element $dv$ at $\\mathbf{r}_{dv}$ to the magnetic field at $\\mathbf{r}$. <div id=\"fig:magneticfield-biotsavart-050\"></div> -->\n",
    "<!-- begin figure -->\n",
    "<div id=\"fig:magneticfield-biotsavart-050\"></div>\n",
    "\n",
    "<p>The contribution from a small volume element $dv$ at $\\mathbf{r}_{dv}$ to the magnetic field at $\\mathbf{r}$.</p>\n",
    "<img src=\"fig-magneticfield/magneticfield-biotsavart-050.png\" height=400 width=600>\n",
    "\n",
    "<!-- end figure -->\n",
    "\n",
    "\n",
    "\n",
    "### Biot-Savart's law on integral form\n",
    "\n",
    "We have now found the contribution from a small volume element $\\mathrm{d} v$. What is the magnetic field from a current\n",
    "density $\\mathbf{J}$ in a region $v$ of space? We use the superposition princple for magnetic fields and find this by summing all the contributions from all elements $\\mathrm{d} v$, forming an integral for $\\mathbf{B}$, just like we previously did for $\\mathbf{E}$. (See Fig. [fig:magneticfield-biotsavart-060](#fig:magneticfield-biotsavart-060).) The total field is then"
   ]
  },
  {
   "cell_type": "markdown",
   "metadata": {},
   "source": [
    "<!-- Equation labels as ordinary links -->\n",
    "<div id=\"_auto17\"></div>\n",
    "\n",
    "$$\n",
    "\\begin{equation}\n",
    "\\mathbf{B} = \\int_v \\frac{\\mu_0}{4 \\pi} \\frac{\\mathbf{J} \\mathrm{d} v \\times \\mathbf{\\hat{R}} }{R^2} \\; .\n",
    "\\label{_auto17} \\tag{18}\n",
    "\\end{equation}\n",
    "$$"
   ]
  },
  {
   "cell_type": "markdown",
   "metadata": {},
   "source": [
    "This is called **Biot-Savart's law on integral form**. However, this use of variables for $\\mathbf{r}$ and $\\mathrm{d} v$ may be confusing. It is therefore better to use the term $\\mathrm{d} v'$ for a volume element, which in Cartesian coordinates is $\\mathrm{d} v' = \\mathrm{d} x' \\mathrm{d} y' \\mathrm{d} z'$, and notice that the integral is over all the position $\\mathbf{r}'$ of the volume element:\n",
    "\n",
    "**Biot-Savart's law on integral form.**\n",
    "\n",
    "The magnetic field $\\mathbf{B}(\\mathbf{r})$ in a point $\\mathbf{r}$ due to a current density $\\mathbf{J}$ in a volume $v$ is"
   ]
  },
  {
   "cell_type": "markdown",
   "metadata": {},
   "source": [
    "<!-- Equation labels as ordinary links -->\n",
    "<div id=\"_auto18\"></div>\n",
    "\n",
    "$$\n",
    "\\begin{equation}\n",
    "\\mathbf{B} = \\int_v \\frac{\\mu_0}{4 \\pi} \\frac{\\mathbf{J} \\mathrm{d} v' \\times \\mathbf{\\hat{R}} }{R^2} \\; .\n",
    "\\label{_auto18} \\tag{19}\n",
    "\\end{equation}\n",
    "$$"
   ]
  },
  {
   "cell_type": "markdown",
   "metadata": {},
   "source": [
    "where the integral is over all $\\mathbf{r}'$ that describes the position element $\\mathrm{d} v'$ and $\\mathbf{R} = \\mathbf{r}-\\mathbf{r}'$. For precision we write this out explicitly in terms of $\\mathbf{r}$ and $\\mathbf{r}'$:"
   ]
  },
  {
   "cell_type": "markdown",
   "metadata": {},
   "source": [
    "<!-- Equation labels as ordinary links -->\n",
    "<div id=\"_auto19\"></div>\n",
    "\n",
    "$$\n",
    "\\begin{equation}\n",
    "\\mathbf{B} = \\int_v \\frac{\\mu_0}{4 \\pi} \\frac{\\mathbf{J}(\\mathbf{r}') \\mathrm{d} v' \\times (\\mathbf{r} - \\mathbf{r}')}{|\\mathbf{r} - \\mathbf{r}'|^3} \\; .\n",
    "\\label{_auto19} \\tag{20}\n",
    "\\end{equation}\n",
    "$$"
   ]
  },
  {
   "cell_type": "markdown",
   "metadata": {},
   "source": [
    "Notice that $\\mathbf{r}$ is a constant in this integral and that $\\mathbf{r}' = (x',y',z')$ is the integration variable. You are used to performing similar integrals over the charge density to find the electric field, and you can expand the intuition you have developed for electric fields also to magnetic fields.\n",
    "\n",
    "\n",
    "\n",
    "<!-- dom:FIGURE:[fig-magneticfield/magneticfield-biotsavart-060.png, width=600 frac=0.45] The magnetic field is found by summing up the contributions from all the small volumes $\\mathrm{d} v$. <div id=\"fig:magneticfield-biotsavart-060\"></div> -->\n",
    "<!-- begin figure -->\n",
    "<div id=\"fig:magneticfield-biotsavart-060\"></div>\n",
    "\n",
    "<p>The magnetic field is found by summing up the contributions from all the small volumes $\\mathrm{d} v$.</p>\n",
    "<img src=\"fig-magneticfield/magneticfield-biotsavart-060.png\" width=600>\n",
    "\n",
    "<!-- end figure -->\n",
    "\n",
    "\n",
    "### Applying the superposition principles twice\n",
    "\n",
    "Notice that to find this law we have used *two* superpositions:\n",
    "\n",
    " * The $\\mathbf{B}$-field from $N\\mathrm{d} v$ charges in $\\mathrm{d} v$ is $N\\mathrm{d} v$ times the field from one charge.\n",
    "\n",
    " * We have summed the contributions from all the elements $\\mathrm{d} v$.\n",
    "\n",
    "### Current distributions sets up magnetic fields\n",
    "\n",
    "Biot-Savart's law tells us how the magnetic field is produced by current distributions in space. When there is a current, there will be a magnetic field.\n",
    "\n",
    "\n",
    "## Biot-Savart's law for line and surface currents\n",
    "\n",
    "In many cases we will study currents flowing along a cable and not freely moving charges. Let us look at a small piece of a cable in the form of a small cylinder with cross-section $\\Delta S$ and length $\\mathrm{d} l$. If there is a current in this cable, the current will be flowing along the cable. This means that the current density will be in the same direction as the cylinder, which we describe with a vector $\\mathrm{d} \\mathbf{l}$ pointing along the cylinder. The current density times the volume, $\\mathbf{J} \\mathrm{d} v$, of this element is"
   ]
  },
  {
   "cell_type": "markdown",
   "metadata": {},
   "source": [
    "<!-- Equation labels as ordinary links -->\n",
    "<div id=\"_auto20\"></div>\n",
    "\n",
    "$$\n",
    "\\begin{equation}\n",
    "\\mathbf{J} \\mathrm{d} v = \\mathbf{J} \\mathrm{d} l \\Delta S = J d\\mathbf{l} \\Delta S = J \\Delta S d \\mathbf{l} \\; ,\n",
    "\\label{_auto20} \\tag{21}\n",
    "\\end{equation}\n",
    "$$"
   ]
  },
  {
   "cell_type": "markdown",
   "metadata": {},
   "source": [
    "where we have used that $\\mathbf{J}$ and $d \\mathbf{l}$ are in the same direction. In addition, we realize that $J \\Delta S$ is the current $I$ going through the cylinder. (Since the current is the integral of the current density over the cross-sectional surface of the cylinder, which is $J \\Delta S$ since the current is normal to the cross-sectional surface --- this is the definition of a cross-section). We have therefore found that $\\mathbf{J} \\mathrm{d} v = I \\mathrm{d} \\mathbf{l}$.\n",
    "\n",
    "### Line current element\n",
    "\n",
    "The contribution to the magnetic field from a *current element* $I \\mathrm{d}\\mathbf{l}$ is:"
   ]
  },
  {
   "cell_type": "markdown",
   "metadata": {},
   "source": [
    "<!-- Equation labels as ordinary links -->\n",
    "<div id=\"_auto21\"></div>\n",
    "\n",
    "$$\n",
    "\\begin{equation}\n",
    "\\mathrm{d} \\mathbf{B} = \\frac{\\mu_0}{4 \\pi} \\frac{I \\mathrm{d} \\mathbf{l} \\times \\mathbf{\\hat{R}} } { R^2} \\, .\n",
    "\\label{_auto21} \\tag{22}\n",
    "\\end{equation}\n",
    "$$"
   ]
  },
  {
   "cell_type": "markdown",
   "metadata": {},
   "source": [
    "**Biot-Savart's law for a line current element.**\n",
    "\n",
    "The contribution to the magnetic field at the point $\\mathbf{r}$ from a current element $I \\mathrm{d} \\mathbf{l}$ at $\\mathbf{r}'$ is"
   ]
  },
  {
   "cell_type": "markdown",
   "metadata": {},
   "source": [
    "<!-- Equation labels as ordinary links -->\n",
    "<div id=\"_auto22\"></div>\n",
    "\n",
    "$$\n",
    "\\begin{equation}\n",
    "\\mathrm{d} \\mathbf{B} = \\frac{\\mu_0}{4 \\pi} \\frac{I \\mathrm{d} \\mathbf{l} \\times \\mathbf{\\hat{R}} } { R^2} =\n",
    "\\frac{\\mu_0}{4 \\pi} \\frac{I \\mathrm{d} \\mathbf{l} \\times (\\mathbf{r} - \\mathbf{r}')} { | (\\mathbf{r} - \\mathbf{r}')|^3}\n",
    "\\, .\n",
    "\\label{_auto22} \\tag{23}\n",
    "\\end{equation}\n",
    "$$"
   ]
  },
  {
   "cell_type": "markdown",
   "metadata": {},
   "source": [
    "The contribution from a cable described as a curve $C$ in space is the sum of contributions from all the cylindrical elements along the cable, which is found from the curve integral along the curve $C$ (see Fig. [fig:magneticfield-biotsavart-070](#fig:magneticfield-biotsavart-070))."
   ]
  },
  {
   "cell_type": "markdown",
   "metadata": {},
   "source": [
    "<!-- Equation labels as ordinary links -->\n",
    "<div id=\"_auto23\"></div>\n",
    "\n",
    "$$\n",
    "\\begin{equation}\n",
    "\\mathbf{B} = \\oint_C \\frac{\\mu_0}{4 \\pi} \\frac{I \\mathrm{d} \\mathbf{l} \\times \\mathbf{\\hat{R}}} { R^2} \\, .\n",
    "\\label{_auto23} \\tag{24}\n",
    "\\end{equation}\n",
    "$$"
   ]
  },
  {
   "cell_type": "markdown",
   "metadata": {},
   "source": [
    "Notice that we have here written the closed curve integral. This is because we are currently only addressing time-invariant currents. And it is not possible to have a time-invariant (stationary) current, if the cable is not closed. If the cable is not closed, charges would be removed from one end of the cable and added up at the other end of the cable.\n",
    "\n",
    "<!-- dom:FIGURE:[fig-magneticfield/magneticfield-biotsavart-070.png, height=400 width=600 frac=0.95] (a) Illustration of a small line element $\\mathrm{d}\\mathbf{l}$ from a cable along a curve $C$. (b) Illustration of a small surface element $\\mathrm{d} S$. <div id=\"fig:magneticfield-biotsavart-070\"></div> -->\n",
    "<!-- begin figure -->\n",
    "<div id=\"fig:magneticfield-biotsavart-070\"></div>\n",
    "\n",
    "<p>(a) Illustration of a small line element $\\mathrm{d}\\mathbf{l}$ from a cable along a curve $C$. (b) Illustration of a small surface element $\\mathrm{d} S$.</p>\n",
    "<img src=\"fig-magneticfield/magneticfield-biotsavart-070.png\" height=400 width=600>\n",
    "\n",
    "<!-- end figure -->\n",
    "\n",
    "\n",
    "### Surface current element\n",
    "\n",
    "Similarly, we can assume that there is a surface current $\\mathbf{J}_S$ on a surface as illustrated in Fig. [fig:magneticfield-biotsavart-070](#fig:magneticfield-biotsavart-070). The current element for this surface is then $I \\mathrm{d} \\mathbf{l} = J_s \\mathrm{d} v \\mathrm{d} \\mathbf{l} = \\mathbf{J}_s \\mathrm{d} x \\mathrm{d} l = \\mathbf{J}_S \\mathrm{d} S$. The total field is then a surface integral:"
   ]
  },
  {
   "cell_type": "markdown",
   "metadata": {},
   "source": [
    "<!-- Equation labels as ordinary links -->\n",
    "<div id=\"_auto24\"></div>\n",
    "\n",
    "$$\n",
    "\\begin{equation}\n",
    "\\mathbf{B} = \\frac{\\mu_0}{4 \\pi} \\int_S \\frac{\\mathbf{J}_s \\mathrm{d} S \\times \\mathbf{\\hat{R}} }{R^2} \\; .\n",
    "\\label{_auto24} \\tag{25}\n",
    "\\end{equation}\n",
    "$$"
   ]
  },
  {
   "cell_type": "markdown",
   "metadata": {},
   "source": [
    "This form of Biot-Savart's law is not used that often in practice, but we may use it for theoretical derivations later.\n",
    "\n",
    "\n",
    "## Example: Magnetic field from a circular current\n",
    "\n",
    "We want to find the magnetic field from a circular cable with radius $a$ in the $xy$-plane with the center at the origin. First, we will find the magnetic field on the $z$-axis and then more generally everywhere in space.\n",
    "\n",
    "This looks very much like the case of a circle-shaped charge. However, we must now include the more complicated cross-products to find the magnetic field.\n",
    "\n",
    "### Magnetic field along the $z$-axis\n",
    "\n",
    "First, we find the magnetic field along the $z$-axis, where this can be done analytically.\n",
    "\n",
    "**Strategy:** We plan to divide the circle into small elements, find the contribution from an element, and then integrate over all the elements to find the total field.\n",
    "\n",
    "We divide the circle into small elements $\\mathrm{d} \\mathbf{l}$ as illlustrated in Fig. [fig:magneticfield-biotsavart-100](#fig:magneticfield-biotsavart-100). The contribution from the element $\\mathrm{d} \\mathbf{l}$ to the magnetic field is:"
   ]
  },
  {
   "cell_type": "markdown",
   "metadata": {},
   "source": [
    "<!-- Equation labels as ordinary links -->\n",
    "<div id=\"_auto25\"></div>\n",
    "\n",
    "$$\n",
    "\\begin{equation}\n",
    "d \\mathbf{B} = \\frac{\\mu_0}{4 \\pi} \\frac{I \\mathrm{d} \\mathbf{l} \\times \\mathbf{\\hat{R}} } { R^2} \\, ,\n",
    "\\label{_auto25} \\tag{26}\n",
    "\\end{equation}\n",
    "$$"
   ]
  },
  {
   "cell_type": "markdown",
   "metadata": {},
   "source": [
    "where the $\\mathbf{R}$-vector is illustrated in the figure.\n",
    "\n",
    "<!-- dom:FIGURE:[fig-magneticfield/magneticfield-biotsavart-100.png, height=400 width=600 frac=0.95] (a) Illustration of a small line element $\\mathrm{d}\\mathbf{l}$ from a cable along a curve $C$. (b) Illustration of a cross-section through the circle to show the geometry. <div id=\"fig:magneticfield-biotsavart-100\"></div> -->\n",
    "<!-- begin figure -->\n",
    "<div id=\"fig:magneticfield-biotsavart-100\"></div>\n",
    "\n",
    "<p>(a) Illustration of a small line element $\\mathrm{d}\\mathbf{l}$ from a cable along a curve $C$. (b) Illustration of a cross-section through the circle to show the geometry.</p>\n",
    "<img src=\"fig-magneticfield/magneticfield-biotsavart-100.png\" height=400 width=600>\n",
    "\n",
    "<!-- end figure -->\n",
    "\n",
    "\n",
    "### Using symmetry to simplify the integral\n",
    "\n",
    "We can now use the symmetry of the system to simplify the integral. From the figure we notice that there are two contributions to the $\\mathbf{B}$-field. One contribution $\\mathrm{d} B_z$ along the $z$-axis and one contribution $\\mathrm{d} B_r$ normal to the $z$-axis. However, for each element $\\mathrm{d} \\mathbf{l}$, there will also be another element $\\mathrm{d}\\mathbf{l}'$ on the opposite side of the circle. Both these elements will contribute to with the same $\\mathrm{d} B_z$, but their contributions $\\mathrm{d} B_r$ will be of the same size and directed in the opposite directions. Thus, the $\\mathrm{d} B_r$ components will cancel each other. Therefore, we only need to sum up the contributions $\\mathrm{d} B_z$, and they will all be the same."
   ]
  },
  {
   "cell_type": "markdown",
   "metadata": {},
   "source": [
    "<!-- Equation labels as ordinary links -->\n",
    "<div id=\"_auto26\"></div>\n",
    "\n",
    "$$\n",
    "\\begin{equation}\n",
    "\\mathrm{d} B_z = \\frac{\\mu_0}{4 \\pi} \\frac{I \\mathrm{d} l \\cos \\beta } { R^2} \\, ,\n",
    "\\label{_auto26} \\tag{27}\n",
    "\\end{equation}\n",
    "$$"
   ]
  },
  {
   "cell_type": "markdown",
   "metadata": {},
   "source": [
    "where $\\beta$ is the angle between the $z$ axis and $\\mathrm{d} \\mathbf{B}$ and $\\cos \\beta = a/R$.\n",
    "The integral is therefore simplified to:"
   ]
  },
  {
   "cell_type": "markdown",
   "metadata": {},
   "source": [
    "<!-- Equation labels as ordinary links -->\n",
    "<div id=\"_auto27\"></div>\n",
    "\n",
    "$$\n",
    "\\begin{equation}\n",
    "B_z = \\oint_C \\frac{\\mu_0}{4 \\pi} \\frac{I \\mathrm{d} l \\cos \\beta}{R^2} = \\frac{\\mu_0 I \\cos \\beta}{4 \\pi R^2} \\oint_C \\mathrm{d} l = \\frac{\\mu_0 I (a/R)}{4 \\pi R^2} 2 \\pi a \\; ,\n",
    "\\label{_auto27} \\tag{28}\n",
    "\\end{equation}\n",
    "$$"
   ]
  },
  {
   "cell_type": "markdown",
   "metadata": {},
   "source": [
    "We now use that $R^2 = z^2 + a^2$, getting"
   ]
  },
  {
   "cell_type": "markdown",
   "metadata": {},
   "source": [
    "<!-- Equation labels as ordinary links -->\n",
    "<div id=\"_auto28\"></div>\n",
    "\n",
    "$$\n",
    "\\begin{equation}\n",
    "B_z = \\frac{\\mu_0 I (a/R)}{4 \\pi R^2} 2 \\pi a = \\frac{\\mu_0 I a^2 }{2 R^3} =  \\frac{\\mu_0 I a^2 }{2 \\left( z^2 + a^2 \\right)^{3/2}}  \\; .\n",
    "\\label{_auto28} \\tag{29}\n",
    "\\end{equation}\n",
    "$$"
   ]
  },
  {
   "cell_type": "markdown",
   "metadata": {},
   "source": [
    "### Using vector algebra to determine the integral\n",
    "\n",
    "Instead of using a geometric argument, we can use vector algebra to find the magnetic field. To do this, we introduce a vector representation of the curve integral. We start by representing the two vector quantities, $\\mathbf{R}$ and $\\mathrm{d} \\mathbf{l}$ in a Cartesian coordinate system. We look at an element $\\mathrm{d} \\mathbf{l}$ which is at an angle $\\theta$ with the $x$-axis. This element is at a position $\\mathbf{r}' = (a \\cos \\theta, a \\sin \\theta,0)$, and the element points in a direction which is normal to this (which we can find by $\\mathbf{\\hat{z}} \\times \\mathbf{r}'$): $\\mathrm{d}\\mathbf{l} = \\mathrm{d} l ( - \\sin \\theta , \\cos \\theta, 0)$. We then find $\\mathbf{R} = \\mathbf{r} - \\mathbf{r}'$ for a point $\\mathbf{r} = (0,0,z)$, that is, $\\mathbf{R} = (-a \\cos \\theta, -a \\sin \\theta, z)$. Finally, we find"
   ]
  },
  {
   "cell_type": "markdown",
   "metadata": {},
   "source": [
    "<!-- Equation labels as ordinary links -->\n",
    "<div id=\"_auto29\"></div>\n",
    "\n",
    "$$\n",
    "\\begin{equation}\n",
    "\\mathrm{d} \\mathbf{B} = \\frac{\\mu_0}{4 \\pi} \\frac{I \\mathrm{d} \\mathbf{l}\\times \\mathbf{R}}{R^3} \\; ,\n",
    "\\label{_auto29} \\tag{30}\n",
    "\\end{equation}\n",
    "$$"
   ]
  },
  {
   "cell_type": "markdown",
   "metadata": {},
   "source": [
    "where $dl = a \\mathrm{d} \\theta$, giving"
   ]
  },
  {
   "cell_type": "markdown",
   "metadata": {},
   "source": [
    "<!-- Equation labels as ordinary links -->\n",
    "<div id=\"_auto30\"></div>\n",
    "\n",
    "$$\n",
    "\\begin{equation}\n",
    "\\mathrm{d} \\mathbf{l}\\times \\mathbf{R} = \\mathrm{d} l ( - \\sin \\theta , \\cos \\theta, 0) \\times  (-a \\cos \\theta, -a \\sin \\theta, z) = (\\mathrm{d} l z \\cos \\theta, \\mathrm{d} l z \\sin \\theta, a \\mathrm{d} l ) \\;.\n",
    "\\label{_auto30} \\tag{31}\n",
    "\\end{equation}\n",
    "$$"
   ]
  },
  {
   "cell_type": "markdown",
   "metadata": {},
   "source": [
    "Now, the integral over the circle is an integral for $\\theta$ from $0$ to $2 \\pi$. This means that $\\cos \\theta$ and the $\\sin \\theta$ terms will be zero when we integrate, and we are left with the $z$-component only, giving the same result as above:"
   ]
  },
  {
   "cell_type": "markdown",
   "metadata": {},
   "source": [
    "<!-- Equation labels as ordinary links -->\n",
    "<div id=\"_auto31\"></div>\n",
    "\n",
    "$$\n",
    "\\begin{equation}\n",
    "B_z = \\int_{0}^{2 \\pi} \\frac{\\mu_0}{4 \\pi} \\frac{Ia^2 \\mathrm{d} \\theta}{R^3} = \\frac{\\mu_0 I a^2}{2 \\left( z^2 + a^2 \\right)^{3/2}} \\; .\n",
    "\\label{_auto31} \\tag{32}\n",
    "\\end{equation}\n",
    "$$"
   ]
  },
  {
   "cell_type": "markdown",
   "metadata": {},
   "source": [
    "### Finding the magnetic field numerically\n",
    "\n",
    "To find the magnatic field at any point in space, we need to find the magnetic field numerically. We will do this by first parameterizing the curve carrying the current, in this case the circle, discretizing the curve and finally summing up the contributions to the magnetic field from each discrete element on the circle.\n",
    "\n",
    "We already parameterized the curve above, describing the curve as $\\mathbf{r}' = ( a\\cos \\theta, a \\sin \\theta,0)$, where $\\theta$ is the angle with the $x$-axis. We divide this into $N$ elements of angular extent $\\Delta \\theta = 2 \\pi / N$. Element $i$ has a center at $\\theta_i = i \\Delta \\theta$ and extends an angle $\\Delta \\theta/2$ in each direction. We assume that the element has a length $\\mathrm{d} l$ which is given as the arc length, $\\mathrm{d} l = a \\Delta \\theta$. The direction of $\\mathrm{d} \\mathbf{l}$ of the element is given as above, $\\mathrm{d} \\mathbf{l} = \\mathrm{d} l (- \\sin \\theta_i, \\cos \\theta_i,0)$.\n",
    "\n",
    "With this discretization, we find the contribution to the magnetic field $\\mathrm{d} \\mathbf{B}(\\mathbf{r})$ in a point $\\mathbf{r}$ from element $\\mathrm{d} \\mathbf{l}$ at position $\\mathbf{r}'$ from Biot-Savart's law:"
   ]
  },
  {
   "cell_type": "markdown",
   "metadata": {},
   "source": [
    "<!-- Equation labels as ordinary links -->\n",
    "<div id=\"_auto32\"></div>\n",
    "\n",
    "$$\n",
    "\\begin{equation}\n",
    "\\mathrm{d} \\mathbf{B} = \\frac{\\mu_0}{4 \\pi } \\frac{ I \\mathrm{d} \\mathbf{l} \\times \\mathbf{R}}{R^3} \\; ,\n",
    "\\label{_auto32} \\tag{33}\n",
    "\\end{equation}\n",
    "$$"
   ]
  },
  {
   "cell_type": "markdown",
   "metadata": {},
   "source": [
    "where $\\mathbf{R}$ is the vector from the element at $\\mathbf{r}'$ to the observation point, $\\mathbf{r}$, that is, $\\mathbf{R} = \\mathbf{r} - \\mathbf{r}'$. We can then simply use the `cross`-function in Python to find the cross product.\n",
    "\n",
    "First, we write a function `bfield` that find the magntic field in a point from the circle:"
   ]
  },
  {
   "cell_type": "code",
   "execution_count": 1,
   "metadata": {
    "collapsed": false
   },
   "outputs": [],
   "source": [
    "%matplotlib inline\n",
    "\n",
    "import numpy as np\n",
    "import matplotlib.pyplot as plt\n",
    "def bfield(r,a,N):\n",
    "    # Find the magnetic field in the point r\n",
    "    # N = number of points of resolution\n",
    "    # a = radius of circle\n",
    "    B = np.array([0,0,0])\n",
    "    dtheta = 2*np.pi/N\n",
    "    dl = a*dtheta\n",
    "    for i in range(N):\n",
    "        theta = i*dtheta\n",
    "        rdv = np.array([a*np.cos(theta),a*np.sin(theta),0])\n",
    "        R = r - rdv\n",
    "        dlv = dl*np.array([-np.sin(theta),np.cos(theta),0])\n",
    "        dB = np.cross(dlv,R)/np.linalg.norm(R)**3\n",
    "        B = B + dB\n",
    "    return B"
   ]
  },
  {
   "cell_type": "markdown",
   "metadata": {},
   "source": [
    "Notice that we have here not included the prefactor $\\mu_0/4 \\pi$, and that we define `B` as a vector and then sum up the contributions `dB` from the individual elements. Notice also how we can use a notation in the program which is very similar to the mathematical notation. This simplifies the translation from mathematics to computer program and makes it easier for us to check the mathematics in the program.\n",
    "\n",
    "Using the `bfield`-function, we calculate the magntic field in the $xz$-plane. This provides a good visualization of the field because the field is rotationally symmetric around the $z$-axis. We find the field over a set of $x$ and $z$ values from $-5$ to $+5$."
   ]
  },
  {
   "cell_type": "code",
   "execution_count": 2,
   "metadata": {
    "collapsed": false
   },
   "outputs": [],
   "source": [
    "# Define observer points\n",
    "L = 20\n",
    "N = 100\n",
    "a = 1.6\n",
    "x = np.linspace(-5,5,L+1)\n",
    "z = np.linspace(-5,5,L+1)\n",
    "x,z = np.meshgrid(x,z)\n",
    "Bx = x.copy()\n",
    "Bz = z.copy()\n",
    "for ix in range(len(x)):\n",
    "    for iz in range(len(z)):\n",
    "        r = np.array([x[iz,ix],0,z[iz,ix]])\n",
    "        Bx[iz,ix],By,Bz[iz,ix] = bfield(r,a,N)"
   ]
  },
  {
   "cell_type": "markdown",
   "metadata": {},
   "source": [
    "Finally, we plot the field using both `quiver` and `streamplot`."
   ]
  },
  {
   "cell_type": "code",
   "execution_count": 3,
   "metadata": {
    "collapsed": false
   },
   "outputs": [],
   "source": [
    "plt.figure(figsize=(16,8))\n",
    "plt.subplot(1,2,1)\n",
    "plt.quiver(x,z,Bx,Bz)\n",
    "plt.subplot(1,2,2)\n",
    "plt.streamplot(x,z,Bx,Bz)"
   ]
  },
  {
   "cell_type": "markdown",
   "metadata": {},
   "source": [
    "The resulting plots are shown in Fig. [fig:magneticfield-circle-010](#fig:magneticfield-circle-010). Notice that we here have used a color-coding to show the magnitudes of the field. The code for this visualization is:"
   ]
  },
  {
   "cell_type": "code",
   "execution_count": 4,
   "metadata": {
    "collapsed": false
   },
   "outputs": [],
   "source": [
    "nBx = Bx / np.sqrt(Bx**2 + Bz**2)\n",
    "nBz = Bz / np.sqrt(Bx**2 + Bz**2)\n",
    "BB = np.log10(np.sqrt(Bx**2+Bz**2))\n",
    "plt.figure(figsize=(16,8))\n",
    "plt.subplot(1,2,1)\n",
    "plt.quiver(x,z,nBx,nBz,BB,cmap='jet')\n",
    "plt.axis('equal')\n",
    "plt.subplot(1,2,2)\n",
    "plt.streamplot(x,z,Bx,Bz)\n",
    "plt.axis('equal')"
   ]
  },
  {
   "cell_type": "markdown",
   "metadata": {},
   "source": [
    "<!-- dom:FIGURE:[fig-magneticfield/magneticfield-circle-010.png, width=600 frac=0.99] Plot of the magnetic field in the $xz$-plane from a circular current in the $xy$-plane. <div id=\"fig:magneticfield-circle-010\"></div> -->\n",
    "<!-- begin figure -->\n",
    "<div id=\"fig:magneticfield-circle-010\"></div>\n",
    "\n",
    "<p>Plot of the magnetic field in the $xz$-plane from a circular current in the $xy$-plane.</p>\n",
    "<img src=\"fig-magneticfield/magneticfield-circle-010.png\" width=600>\n",
    "\n",
    "<!-- end figure -->\n",
    "\n",
    "\n",
    "### Comparing with an electric dipole\n",
    "\n",
    "This looks similar to an electric dipole in the limit when the dipole distance becomes zero. We illustrate this similarity by also plotting the electric field in the $xz$-plane from a circular charge in the $xy$-plane. We calculate the field and plot the results."
   ]
  },
  {
   "cell_type": "code",
   "execution_count": 5,
   "metadata": {
    "collapsed": false
   },
   "outputs": [],
   "source": [
    "# Comparing with an electric dipole\n",
    "xx = x.copy()\n",
    "zz = z.copy()\n",
    "Ex = xx.copy()\n",
    "Ez = zz.copy()\n",
    "r1 = np.array([0,0,0.1])\n",
    "q1 = 1.0\n",
    "r2 = np.array([0,0,-0.1])\n",
    "q2 = -1.0\n",
    "for ix in range(len(xx)):\n",
    "    for iz in range(len(zz)):\n",
    "        r = np.array([xx[iz,ix],0,zz[iz,ix]])\n",
    "        dr1 = r - r1\n",
    "        dr2 = r - r2\n",
    "        Ex[iz,ix],Ey,Ez[iz,ix] = q1*dr1/\\\n",
    "\t  np.linalg.norm(dr1)**3+q2*dr2/np.linalg.norm(dr2)**3\n",
    "plt.figure(figsize=(16,8))\n",
    "plt.subplot(1,2,1)\n",
    "plt.quiver(x,z,Ex,Ez)\n",
    "plt.subplot(1,2,2)\n",
    "plt.streamplot(x,z,Ex,Ez)"
   ]
  },
  {
   "cell_type": "markdown",
   "metadata": {},
   "source": [
    "The resulting plot (using a color scale for the vectors) is shown in Fig. [fig:magneticfield-circle-020](#fig:magneticfield-circle-020). We see that there are similarities between the electric field and the magnetic field. The magnet indeed looks like a dipole. However, all the field lines are closed. In every region there are the same number of field lines coming in as therefore are going out. There are therefore no regions with a net divergence of the field. \n",
    "\n",
    "<!-- From magneticfield-circle-010.ipynb -->\n",
    "<!-- dom:FIGURE:[fig-magneticfield/magneticfield-circle-020.png, width=600 frac=0.99] Plot of the electric field in the $xz$-plane from a circular charge in the $xy$-plane. <div id=\"fig:magneticfield-circle-020\"></div> -->\n",
    "<!-- begin figure -->\n",
    "<div id=\"fig:magneticfield-circle-020\"></div>\n",
    "\n",
    "<p>Plot of the electric field in the $xz$-plane from a circular charge in the $xy$-plane.</p>\n",
    "<img src=\"fig-magneticfield/magneticfield-circle-020.png\" width=600>\n",
    "\n",
    "<!-- end figure -->\n",
    "\n",
    "\n",
    "## Example: Magnetic field from arbitrary circuit\n",
    "\n",
    "We have now found a way to find the magnetic field from a circular circuit. However, what if we instead specify a differently shaped circuit, indeed an arbitrarily shaped circuit, how can we find the magnetic field from such a circuit?\n",
    "\n",
    "The idea is to find a way to describe the circuit in discrete form, in the form of small line segments, and then use this discretized form to find the magnetic field by the superposition principle. Fig. [fig:magneticfield-circuit-010](#fig:magneticfield-circuit-010) show the discretization of a cirlce in 10 and 25 line segments. In each case, we can describe the circuit as a set of $N$ points, $\\mathbf{r}_i$, $i = 0,1, \\ldots, N-1$, describing the ends of the line segments. The first line segment is from point $i = 0$ to $i=1$, the second from $i=1$ to $i=2$ and so on. Remember that the circuit is closed, so that the last line segment goes from $i=N-1$ to $i=0$.\n",
    "\n",
    "<!-- dom:FIGURE:[fig-magneticfield/magneticfield-circuit-010.png, width=600 frac=0.5] Illustration of two discretizations of a circle into sets of 10 and 25 points. <div id=\"fig:magneticfield-circuit-010\"></div> -->\n",
    "<!-- begin figure -->\n",
    "<div id=\"fig:magneticfield-circuit-010\"></div>\n",
    "\n",
    "<p>Illustration of two discretizations of a circle into sets of 10 and 25 points.</p>\n",
    "<img src=\"fig-magneticfield/magneticfield-circuit-010.png\" width=600>\n",
    "\n",
    "<!-- end figure -->\n",
    "\n",
    "\n",
    "The contribution to the magnetic field $\\mathbf{B}$ at a point $\\mathbf{r}$ from a line segement from $\\mathbf{r}_i$ to $\\mathbf{r}_{i+1}$ is given by Biot-Savart's law:"
   ]
  },
  {
   "cell_type": "markdown",
   "metadata": {},
   "source": [
    "<!-- Equation labels as ordinary links -->\n",
    "<div id=\"_auto33\"></div>\n",
    "\n",
    "$$\n",
    "\\begin{equation}\n",
    "\\mathrm{d} \\mathbf{B} = \\frac{\\mu_0}{4 \\pi } \\frac{ I \\mathrm{d} \\mathbf{l} \\times \\mathbf{R}}{R^3} \\; .\n",
    "\\label{_auto33} \\tag{34}\n",
    "\\end{equation}\n",
    "$$"
   ]
  },
  {
   "cell_type": "markdown",
   "metadata": {},
   "source": [
    "What are the values for $\\mathrm{d} \\mathbf{l}$ and $\\mathbf{R}$ in this case? First, we see that $\\mathrm{d} \\mathbf{l}$ points along the circuit, that is, it point from point $i$ to point $i+1$, that is, $\\mathrm{d} \\mathbf{l} \\simeq \\mathbf{r}_{i+1} - \\mathbf{r}_i$. Second, we use the center of mass of the line segment as the position of the line segment. That is, the position $\\mathbf{r}_{i,i+1}$ from the line segment from $i$ to $i+1$ is $\\mathbf{r}_{i,i+1} = (\\mathbf{r}_i + \\mathbf{r}_{i+1})/2$. This means that $\\mathbf{R} = \\mathbf{r} - \\mathbf{r}_{i,i+1}$. We include the constants $I \\mu_0 / (4 \\pi)$ into a common constant that we use to scale the results.\n",
    "\n",
    "### Implementation of curve representation\n",
    "\n",
    "We are then ready to implement the representation of the curve. We describe the curve with the list `list`, where each element represents $\\mathbf{r}_i$. We set up such a list to describe a circle of radius $a$ with $N$ elements. The angular distance between two points is then $\\Delta \\theta = 2 \\pi/N$ and the position of point $i$ is $\\mathbf{r}_i = a(\\cos \\theta_i, \\sin \\theta_i,0)$, where $\\theta_i = i \\Delta \\theta$. We implement this with the following code segment:"
   ]
  },
  {
   "cell_type": "code",
   "execution_count": 6,
   "metadata": {
    "collapsed": false
   },
   "outputs": [],
   "source": [
    "# Setup list of point for a circle\n",
    "N = 50\n",
    "list = np.zeros((N,3),float)\n",
    "dtheta = 2*np.pi/N\n",
    "dl = a*dtheta\n",
    "for i in range(N):\n",
    "    theta = i*dtheta\n",
    "    rdv = np.array([a*np.cos(theta),a*np.sin(theta),0])\n",
    "    list[i,:] = rdv"
   ]
  },
  {
   "cell_type": "markdown",
   "metadata": {},
   "source": [
    "### Implementation of function to find the field\n",
    "\n",
    "We then write a function to find the magnetic field in a point $\\mathbf{r}$ due to a current $I$ in the curve described by `list` in the function `bfieldlist`, where the results are scaled with the constant $\\mu_0 I / (4 \\pi)$:"
   ]
  },
  {
   "cell_type": "code",
   "execution_count": 7,
   "metadata": {
    "collapsed": false
   },
   "outputs": [],
   "source": [
    "def bfieldlist(r,list):\n",
    "    # Find the magnetic field in the point r\n",
    "    # list = array(N,3) of points\n",
    "    B = np.array([0,0,0])\n",
    "    N = np.shape(list)[0]\n",
    "    for i in range(N):\n",
    "        i0 = i\n",
    "        i1 = i + 1\n",
    "        if (i1>N-1):\n",
    "            i1 = 0\n",
    "        rdv = 0.5*(list[i1,:]+list[i0,:])\n",
    "        R = r - rdv\n",
    "        dlv = list[i1,:]-list[i0,:]\n",
    "        dB = np.cross(dlv,R)/np.linalg.norm(R)**3\n",
    "        B = B + dB\n",
    "    return B"
   ]
  },
  {
   "cell_type": "markdown",
   "metadata": {},
   "source": [
    "### Find the field in a region in space\n",
    "\n",
    "We use this function to find the magnetic field $\\mathbf{B}(\\mathbf{r})$ on a grid in the $xz$-plane, following methods similar to that we introduced for the electric field."
   ]
  },
  {
   "cell_type": "code",
   "execution_count": 8,
   "metadata": {
    "collapsed": false
   },
   "outputs": [],
   "source": [
    "# Find field in region in space\n",
    "L = 20 # Number of points \n",
    "b = 5 # Range of region\n",
    "x = np.linspace(-b,b,L+1)\n",
    "z = np.linspace(-b,b,L+1)\n",
    "x,z = np.meshgrid(x,z)\n",
    "Bx = x.copy()\n",
    "Bz = z.copy()\n",
    "for ix in range(len(x)):\n",
    "    for iz in range(len(z)):\n",
    "        r = np.array([x[iz,ix],0,z[iz,ix]])\n",
    "        Bx[iz,ix],By,Bz[iz,ix] = bfieldlist(r,list)"
   ]
  },
  {
   "cell_type": "markdown",
   "metadata": {},
   "source": [
    "### Visualization of the magnetic field\n",
    "\n",
    "Finally, we visualize the magnetic field using the methods we have previously developed."
   ]
  },
  {
   "cell_type": "code",
   "execution_count": 9,
   "metadata": {
    "collapsed": false
   },
   "outputs": [],
   "source": [
    "nBx = Bx / np.sqrt(Bx**2 + Bz**2)\n",
    "nBz = Bz / np.sqrt(Bx**2 + Bz**2)\n",
    "BB = np.log10(np.sqrt(Bx**2+Bz**2))\n",
    "plt.figure(figsize=(16,8))\n",
    "ax1 = plt.subplot(1,2,1)\n",
    "plt.quiver(x,z,nBx,nBz,BB,cmap='jet')\n",
    "ax1.set_aspect('equal', 'box')\n",
    "ax2 = plt.subplot(1,2,2)\n",
    "plt.streamplot(x,z,Bx,Bz)\n",
    "ax2.set_aspect('equal', 'box')"
   ]
  },
  {
   "cell_type": "markdown",
   "metadata": {},
   "source": [
    "### Test on more complex circuit\n",
    "\n",
    "Let us now use this method to find the magnetic field from a system of $M$ circular circuits, each with a radius $a$ and spanning from $z = -a$ to $z = a$. First, we set up the `list` of points by extending the approach developed above:"
   ]
  },
  {
   "cell_type": "code",
   "execution_count": 10,
   "metadata": {
    "collapsed": false
   },
   "outputs": [],
   "source": [
    "M = 50\n",
    "N = 50\n",
    "list = np.zeros((N*M,3),float)\n",
    "dtheta = 2*np.pi/N\n",
    "dl = a*dtheta\n",
    "icount = 0\n",
    "for j in range(M):\n",
    "    z = 2*a*j/M-a\n",
    "    for i in range(N):\n",
    "        theta = i*dtheta\n",
    "        rdv = np.array([a*np.cos(theta),a*np.sin(theta),z])\n",
    "        list[icount,:] = rdv\n",
    "        icount = icount +1"
   ]
  },
  {
   "cell_type": "markdown",
   "metadata": {},
   "source": [
    "Then we generate the magnetic field on the lattice of points in exactly the same way as above, and plot the results. The resulting plot is shown in Fig. [fig:magneticfield-circuit-010](#fig:magneticfield-circuit-010). We notice that the magnetic field is approximately constant inside the set of circular circuits. We will explore such systems more in the following chapter while developing simplified methods to find the magnetic fields in systems with high degrees of symmetry.\n",
    "\n",
    "<!-- dom:FIGURE:[fig-magneticfield/magneticfield-circuit-030.png, width=600 frac=0.99] Plot of the magnetic field in the $xz$-plane from a set of circular currents in the $xy$-plane. <div id=\"fig:magneticfield-circuit-030\"></div> -->\n",
    "<!-- begin figure -->\n",
    "<div id=\"fig:magneticfield-circuit-030\"></div>\n",
    "\n",
    "<p>Plot of the magnetic field in the $xz$-plane from a set of circular currents in the $xy$-plane.</p>\n",
    "<img src=\"fig-magneticfield/magneticfield-circuit-030.png\" width=600>\n",
    "\n",
    "<!-- end figure -->\n",
    "\n",
    "\n",
    "### Implement the methods as functions\n",
    "\n",
    "You should now be ready to implement the various methods as functions to simplify the methods and make them simpler to use. For example, you may generate methods to calculate the magnetic field on a given regular grid and to visualize the field."
   ]
  },
  {
   "cell_type": "markdown",
   "metadata": {},
   "source": [
    "1\n",
    "0\n",
    " \n",
    "<\n",
    "<\n",
    "<\n",
    "!\n",
    "!\n",
    "C\n",
    "O\n",
    "D\n",
    "E\n",
    "_\n",
    "B\n",
    "L\n",
    "O\n",
    "C\n",
    "K\n",
    " \n",
    " \n",
    "p\n",
    "y\n",
    "c\n",
    "o\n",
    "d"
   ]
  },
  {
   "cell_type": "code",
   "execution_count": 11,
   "metadata": {
    "collapsed": false
   },
   "outputs": [],
   "source": [
    "def visbfield(x,z,Bx,Bz):\n",
    "    nBx = Bx / np.sqrt(Bx**2 + Bz**2)\n",
    "    nBz = Bz / np.sqrt(Bx**2 + Bz**2)\n",
    "    BB = np.log10(np.sqrt(Bx**2+Bz**2))\n",
    "    ax1 = plt.subplot(1,2,1)\n",
    "    plt.quiver(x,z,nBx,nBz,BB,cmap='jet')\n",
    "    ax1.set_aspect('equal', 'box')\n",
    "    ax1 = plt.subplot(1,2,2)\n",
    "    plt.streamplot(x,z,Bx,Bz)\n",
    "    ax1.set_aspect('equal', 'box')\n",
    "    return"
   ]
  },
  {
   "cell_type": "markdown",
   "metadata": {},
   "source": [
    "The code needed to make and visualize the field is now simplified to:"
   ]
  },
  {
   "cell_type": "code",
   "execution_count": 12,
   "metadata": {
    "collapsed": false
   },
   "outputs": [],
   "source": [
    "x,z,Bx,Bz = gridbfield(line,10,5)\n",
    "visbfield(x,z,Bx,Bz)"
   ]
  },
  {
   "cell_type": "markdown",
   "metadata": {},
   "source": [
    "# Magnetic forces\n",
    "\n",
    "We have now developed effective analytical and numerical methods to find the magnetic field from a given distribution of currents. However, we started from the force law for the force on a moving charge $Q$ with velocity $\\mathbf{v}$ from a moving charge $Q_i$ with velocity $\\mathbf{v}_i$:"
   ]
  },
  {
   "cell_type": "markdown",
   "metadata": {},
   "source": [
    "<!-- Equation labels as ordinary links -->\n",
    "<div id=\"_auto34\"></div>\n",
    "\n",
    "$$\n",
    "\\begin{equation}\n",
    "\\mathbf{F} = Q \\mathbf{v} \\times \\frac{\\mu_0}{4 \\pi} \\frac{\\left( Q_i \\mathbf{v}_i \\times \\mathbf{\\hat{R}} \\right) }{R^2} \\; .\n",
    "\\label{_auto34} \\tag{35}\n",
    "\\end{equation}\n",
    "$$"
   ]
  },
  {
   "cell_type": "markdown",
   "metadata": {},
   "source": [
    "We now know how to find the right-hand part, which is the magnetic field. The force on a particle with charge $Q$ and velocity $\\mathbf{v}$ moving in a magnetic field $\\mathbf{B}$ is therefore:"
   ]
  },
  {
   "cell_type": "markdown",
   "metadata": {},
   "source": [
    "<!-- Equation labels as ordinary links -->\n",
    "<div id=\"_auto35\"></div>\n",
    "\n",
    "$$\n",
    "\\begin{equation}\n",
    "\\mathbf{F} = Q \\mathbf{v} \\times \\mathbf{B} \\; .\n",
    "\\label{_auto35} \\tag{36}\n",
    "\\end{equation}\n",
    "$$"
   ]
  },
  {
   "cell_type": "markdown",
   "metadata": {},
   "source": [
    "This expression is called the **Lorentz force**.\n",
    "\n",
    "## Lorentz force\n",
    "If the charge $Q$ also is moving in an electric field $\\mathbf{E}$, the total force is the sum of the forces from the electric and magnetic fields, which we call the Lorentz force:\n",
    "\n",
    "**Lorentz force law.**\n",
    "\n",
    "The Lorentz force describes the force on a charge moving in an electric and a magnetic field:"
   ]
  },
  {
   "cell_type": "markdown",
   "metadata": {},
   "source": [
    "<!-- Equation labels as ordinary links -->\n",
    "<div id=\"_auto36\"></div>\n",
    "\n",
    "$$\n",
    "\\begin{equation}\n",
    "\\mathbf{F} = Q \\mathbf{E} + Q \\mathbf{v} \\times \\mathbf{B} \\; .\n",
    "\\label{_auto36} \\tag{37}\n",
    "\\end{equation}\n",
    "$$"
   ]
  },
  {
   "cell_type": "markdown",
   "metadata": {},
   "source": [
    "## Example: Charged particle in fields\n",
    "\n",
    "Fig. [fig:magneticfield-force-infield-010](#fig:magneticfield-force-infield-010)a illustrates a charge $Q$ moving with a velocity $\\mathbf{v}$ that is orthogonal to the magnetic field $\\mathbf{B}$. In this case the force, $\\mathbf{F} = Q \\mathbf{v} \\times \\mathbf{B}$, will be normal to both $\\mathbf{B}$ and $\\mathbf{v}$. Thus, the charge will move in a circular orbit.\n",
    "\n",
    "<!-- dom:FIGURE:[fig-magneticfield/magneticfield-force-infield-010.png, width=600 frac=0.95] (a) Illustration of a charged particle moving in a magnetic field. (b) Illustration of a charged particle in an electric and a magnetic field. <div id=\"fig:magneticfield-force-infield-010\"></div> -->\n",
    "<!-- begin figure -->\n",
    "<div id=\"fig:magneticfield-force-infield-010\"></div>\n",
    "\n",
    "<p>(a) Illustration of a charged particle moving in a magnetic field. (b) Illustration of a charged particle in an electric and a magnetic field.</p>\n",
    "<img src=\"fig-magneticfield/magneticfield-force-infield-010.png\" width=600>\n",
    "\n",
    "<!-- end figure -->\n",
    "\n",
    "\n",
    "Will the charge slow down due to the interaction with the magnetic field? No, because the force is always normal to the velocity. The magnetic force therefore does no work on the moving charge. It will continue in a circular orbit indefinitely.\n",
    "\n",
    "What if the particle starts from rest? Unless there are other forces, the particle will remain at rest.\n",
    "\n",
    "What if there is an electric field in the same direction as the magnetic field, as illustrated in Fig.  [fig:magneticfield-force-infield-010](#fig:magneticfield-force-infield-010)b? If the particle starts at rest, the electric field will start to push it in the direction of the field (if $Q$ is positive), In this case, the $\\mathbf{E}$-field will do work, accelerating the particle in the direction of the field. The magnetic field will still only act in the direction normal to the velocity, which will make the particle go in a spiral. We notice that the velocity in the direction of the electric field, and in this case also in the direction of the magnetic field, will not contribute to the magnetic force (because the component is parallel to $\\mathbf{B}$ and hence will be zero in the cross product). The particle will therefore accelerate along the fields, but the circular motion will remain the same as initially.\n",
    "\n",
    "## Example: Hall effect\n",
    "\n",
    "The Hall effect is an effect on charge carriers moving in a semi-conductor. In this case, we do not know if the charge carriers are positive or negative. How can we use the behavior of charges in a magnetic field to determine the sign of the charge carriers?\n",
    "\n",
    "The trick is to apply a uniform magnetic field normal to the semiconductor as illustrated in Fig. [fig:magneticfield-halleffect-010](#fig:magneticfield-halleffect-010)a. We apply an electric potential along the semi-conductor, resulting in a current density $\\mathbf{J}$ along the semi-conductor. For practical purposes we can assume that the semi-conductor is a conductor where we do not know the sign of the charge carriers. Let us therefore analyze the two possibilities: Positive and negative charge carriers.\n",
    "\n",
    "<!-- dom:FIGURE:[fig-magneticfield/magneticfield-halleffect-010.png, height=400 width=600 frac=0.95] (a) Illustration of the magnetic field and the current density in a semi-conductor. (b) Illustration of behavior of a positive charge. (c) Illustration of the behavior of a negative charge.  <div id=\"fig:magneticfield-halleffect-010\"></div> -->\n",
    "<!-- begin figure -->\n",
    "<div id=\"fig:magneticfield-halleffect-010\"></div>\n",
    "\n",
    "<p>(a) Illustration of the magnetic field and the current density in a semi-conductor. (b) Illustration of behavior of a positive charge. (c) Illustration of the behavior of a negative charge.</p>\n",
    "<img src=\"fig-magneticfield/magneticfield-halleffect-010.png\" height=400 width=600>\n",
    "\n",
    "<!-- end figure -->\n",
    "\n",
    "\n",
    "### Positive charge carriers\n",
    "\n",
    "If the charge carriers are positive, the positive charges are moving in the same direction as the current density $\\mathbf{J}$. The magnetic force on a positive charge is therefore in the direction $Q \\mathbf{v} \\times \\mathbf{B}$, which is to the right in Fig. [fig:magneticfield-halleffect-010](#fig:magneticfield-halleffect-010)b. This will mean that positive charges will accumulate on the right hand side, and the left hand side will be depleted of positive charges and hence negatively charged. This will result in an electric field, $\\mathbf{E}_h$ directed towards the left, which is called the *Hall field*. The charges will continue to build up until the force on a charge from the magnetic force is the same as the force from the electric field, $E_h$. In equilibrium the two forces will be the same, and charges will propagate along the semi-conductor: $Q E_h = Q v B$, which gives us that $E_h = v B$. We can measure $E_h$, this is the potential difference between the two sides of the semi-conductor. Thus, we can actually measure $v$ for this system!\n",
    "\n",
    "### Negative charge carriers\n",
    "\n",
    "What happens if the charge carriers are negative? First, we realize that a negative charge will move in the direction opposite of $\\mathbf{J}$ in order to get the same net charge flowing through a cross-section of the semi-conductor. The magnetic force on the charge will therefore be in the same direction, to the right, as for positive charge carriers. But now negative charges will build up on the right-hand side, generating a potential difference $-E_h$. This means that we can determine if the charge carriers are positive or negative by measuring the Hall field or the Hall potential.\n",
    "\n",
    "### But there should not be any electric field inside a conductor\n",
    "\n",
    "Does the argument here counter the assumption we made about conductors --- that there should not be any electric field inside a conductor? No. This was under the assumption that the only force on a charge was $Q \\mathbf{E}$. In this case, there could not be a net force on a charge in a conductor. However, when there is a magnetic field present, we must modify this. In the stationary case, the net force $\\mathbf{F} = Q \\mathbf{E} + Q \\mathbf{v}\\times \\mathbf{B}$ must be zero inside the conductor. And this is indeed the case for the Hall effect.\n",
    "\n",
    "## Magnetic forces on a current element\n",
    "What is the force on a small volume element $\\mathrm{d} v$ with a current density $\\mathbf{J}$? We assume that each charge $Q$ in the element is moving with a velocity $\\mathbf{v}$ and that there are $N \\mathrm{d} v$ charges in $\\mathrm{d} v$. The net force on the element is the sum of the forces on each charge, $\\mathrm{d}\\mathbf{F} = N \\, \\mathrm{d} v \\, Q \\mathbf{v} \\times \\mathbf{B}$, where we recognize $N Q \\mathbf{v} = \\mathbf{J}$, therefore:\n",
    "\n",
    "**Magnetic force on a current density element.**\n",
    "\n",
    "The magnetic force from a current element $\\mathbf{J}\\mathrm{d} v$ from a magnetic field $\\mathbf{B}$ is"
   ]
  },
  {
   "cell_type": "markdown",
   "metadata": {},
   "source": [
    "<!-- Equation labels as ordinary links -->\n",
    "<div id=\"_auto37\"></div>\n",
    "\n",
    "$$\n",
    "\\begin{equation}\n",
    "\\mathrm{d} \\, \\mathbf{F} = \\mathbf{J}\\mathrm{d} v \\times \\mathbf{B} \\, .\n",
    "\\label{_auto37} \\tag{38}\n",
    "\\end{equation}\n",
    "$$"
   ]
  },
  {
   "cell_type": "markdown",
   "metadata": {},
   "source": [
    "### Force on a current element\n",
    "\n",
    "For a current element $I \\mathrm{d} \\mathbf{l} = \\mathbf{J} \\mathrm{d} v$ we get"
   ]
  },
  {
   "cell_type": "markdown",
   "metadata": {},
   "source": [
    "<!-- Equation labels as ordinary links -->\n",
    "<div id=\"_auto38\"></div>\n",
    "\n",
    "$$\n",
    "\\begin{equation}\n",
    "\\mathrm{d} \\, \\mathbf{F} = I \\mathrm{d} \\mathbf{l} \\times \\mathbf{B} \\; .\n",
    "\\label{_auto38} \\tag{39}\n",
    "\\end{equation}\n",
    "$$"
   ]
  },
  {
   "cell_type": "markdown",
   "metadata": {},
   "source": [
    "and similarly for a surface current density $\\mathbf{J}_S$, we get"
   ]
  },
  {
   "cell_type": "markdown",
   "metadata": {},
   "source": [
    "<!-- Equation labels as ordinary links -->\n",
    "<div id=\"_auto39\"></div>\n",
    "\n",
    "$$\n",
    "\\begin{equation}\n",
    "\\mathrm{d} \\, \\mathbf{F} = \\mathbf{J}_S \\mathrm{d} S \\times \\mathbf{B} \\; .\n",
    "\\label{_auto39} \\tag{40}\n",
    "\\end{equation}\n",
    "$$"
   ]
  },
  {
   "cell_type": "markdown",
   "metadata": {},
   "source": [
    "For a piece of a wire of length $L$ normal to the magnetic field, the force is therefore $F = ILB$.\n",
    "\n",
    "### Force on a closed circuit\n",
    "\n",
    "We find the force on a closed circuit by integrating the contributions from each circuit element $\\mathrm{d} \\mathbf{l}$:"
   ]
  },
  {
   "cell_type": "markdown",
   "metadata": {},
   "source": [
    "<!-- Equation labels as ordinary links -->\n",
    "<div id=\"_auto40\"></div>\n",
    "\n",
    "$$\n",
    "\\begin{equation}\n",
    "\\mathbf{F} = \\oint_C I \\mathrm{d} \\mathbf{l} \\times \\mathbf{B} \\; .\n",
    "\\label{_auto40} \\tag{41}\n",
    "\\end{equation}\n",
    "$$"
   ]
  },
  {
   "cell_type": "markdown",
   "metadata": {},
   "source": [
    "For a **uniform magnetic field**, we can place $\\mathbf{B}$ outside the integral, getting:"
   ]
  },
  {
   "cell_type": "markdown",
   "metadata": {},
   "source": [
    "<!-- Equation labels as ordinary links -->\n",
    "<div id=\"_auto41\"></div>\n",
    "\n",
    "$$\n",
    "\\begin{equation}\n",
    "\\mathbf{F} = \\left( \\oint_C I \\mathrm{d} \\mathbf{l} \\right) \\times \\mathbf{B} = 0 \\times \\mathbf{B} = 0\\; .\n",
    "\\label{_auto41} \\tag{42}\n",
    "\\end{equation}\n",
    "$$"
   ]
  },
  {
   "cell_type": "markdown",
   "metadata": {},
   "source": [
    "## Example: Force on a closed circuit\n",
    "\n",
    "Fig. [fig:magneticfield-forceoncircuit-010](#fig:magneticfield-forceoncircuit-010) shows two different situations for a closed circuit with a current $I$ in a magnetic field. In Fig. [fig:magneticfield-forceoncircuit-010](#fig:magneticfield-forceoncircuit-010)a we see that the forces on all the elements are pointing into the center of the circuit, attempting to compress the circuit. The net force is zero. In Fig. [fig:magneticfield-forceoncircuit-010](#fig:magneticfield-forceoncircuit-010)b the forces along the two parts of the circuit ($C_2$ and $C_4$) that are parallel to the magnetic field are zero, whereas the forces on the two other sides ($C_1$ and $C_3$) act out of the plane of the circuit.\n",
    "\n",
    "<!-- dom:FIGURE:[fig-magneticfield/magneticfield-forceoncircuit-010.png, height=400 width=600 frac=0.95] Illustration of a closed circuit in a uniform magnetic field for two orientations of the magnetic field. <div id=\"fig:magneticfield-forceoncircuit-010\"></div> -->\n",
    "<!-- begin figure -->\n",
    "<div id=\"fig:magneticfield-forceoncircuit-010\"></div>\n",
    "\n",
    "<p>Illustration of a closed circuit in a uniform magnetic field for two orientations of the magnetic field.</p>\n",
    "<img src=\"fig-magneticfield/magneticfield-forceoncircuit-010.png\" height=400 width=600>\n",
    "\n",
    "<!-- end figure -->\n",
    "\n",
    "\n",
    "In this case the net force is zero, but the net torque around the $z$-axis is not zero. This is the principle of an electromotor. The torque around an axis $z$ of a force $\\mathbf{F}$ is $\\mathbf{\\tau} = \\mathbf{r} \\times \\mathbf{F}$, where $\\mathbf{r}$ is a vector from the axis to the point where the force acts and $\\mathbf{F}$ is the force. The torque of $\\mathbf{F}_2$ and $\\mathbf{F}_4$ around the $z$-axis is the sum of the torques of each of the forces. The torque of $\\mathbf{F}_4$ is zero since $\\mathbf{r}$ is zero in this case. If the length of $C_4$ is $b$, the torque of $\\mathbf{F}_2$ is"
   ]
  },
  {
   "cell_type": "markdown",
   "metadata": {},
   "source": [
    "<!-- Equation labels as ordinary links -->\n",
    "<div id=\"_auto42\"></div>\n",
    "\n",
    "$$\n",
    "\\begin{equation}\n",
    "\\mathbf{\\tau} = b \\hat{\\mathbf{y}} \\times \\mathbf{F}_2  \\; ,\n",
    "\\label{_auto42} \\tag{43}\n",
    "\\end{equation}\n",
    "$$"
   ]
  },
  {
   "cell_type": "markdown",
   "metadata": {},
   "source": [
    "where"
   ]
  },
  {
   "cell_type": "markdown",
   "metadata": {},
   "source": [
    "<!-- Equation labels as ordinary links -->\n",
    "<div id=\"_auto43\"></div>\n",
    "\n",
    "$$\n",
    "\\begin{equation}\n",
    "\\mathbf{F}_2 = \\int_{C_2} I \\mathrm{d} \\mathbf{l} \\times \\mathbf{B} = I \\int_{C_2} \\mathrm{d} \\mathbf{l} \\times \\mathbf{B} = - I a B \\hat{\\mathbf{x}} \\; .\n",
    "\\label{_auto43} \\tag{44}\n",
    "\\end{equation}\n",
    "$$"
   ]
  },
  {
   "cell_type": "markdown",
   "metadata": {},
   "source": [
    "where $a$ is the length of $C_2$. This gives"
   ]
  },
  {
   "cell_type": "markdown",
   "metadata": {},
   "source": [
    "<!-- Equation labels as ordinary links -->\n",
    "<div id=\"_auto44\"></div>\n",
    "\n",
    "$$\n",
    "\\begin{equation}\n",
    "\\mathbf{\\tau} =  b \\hat{\\mathbf{y}} \\times \\left( - I a B \\hat{\\mathbf{x}} \\right) = b I a B \\hat{\\mathbf{z}} = I S B \\hat{\\mathbf{z}} \\; ,\n",
    "\\label{_auto44} \\tag{45}\n",
    "\\end{equation}\n",
    "$$"
   ]
  },
  {
   "cell_type": "markdown",
   "metadata": {},
   "source": [
    "where $S = ab$ is the area of the circuit. The oriented area of the circuit is $\\mathbf{S}$. The direction of this area is given by the right-hand rule as in the $x$-direction. The torque, $\\mathbf{\\tau}$, can therefore be written as"
   ]
  },
  {
   "cell_type": "markdown",
   "metadata": {},
   "source": [
    "<!-- Equation labels as ordinary links -->\n",
    "<div id=\"_auto45\"></div>\n",
    "\n",
    "$$\n",
    "\\begin{equation}\n",
    "\\mathbf{\\tau} = I \\mathbf{S} \\times \\mathbf{B} \\; .\n",
    "\\label{_auto45} \\tag{46}\n",
    "\\end{equation}\n",
    "$$"
   ]
  },
  {
   "cell_type": "markdown",
   "metadata": {},
   "source": [
    "We call the term $I \\mathbf{S}$ the magnetic moment of the circuit. This is a term you will meet and use in many contexts in your future studies of physics.\n",
    "\n",
    "idc{magnetic moment} $}\n",
    "\n",
    "**Torque of magnetic moment.**\n",
    "\n",
    "This is general result. \n",
    "We call the vector $\\mathbf{m} = I \\mathbf{S}$ the **magnetic moment** of the circuit. The torque of a magnetic moment $\\mathbf{m}$ in the field $\\mathbf{B}$ (around the center of the circuit) is:"
   ]
  },
  {
   "cell_type": "markdown",
   "metadata": {},
   "source": [
    "<!-- Equation labels as ordinary links -->\n",
    "<div id=\"_auto46\"></div>\n",
    "\n",
    "$$\n",
    "\\begin{equation}\n",
    "\\mathbf{\\tau} = \\mathbf{m} \\times \\mathbf{B} \\; . \n",
    "\\label{_auto46} \\tag{47}\n",
    "\\end{equation}\n",
    "$$"
   ]
  },
  {
   "cell_type": "markdown",
   "metadata": {},
   "source": [
    "### What happens to a circuit in a magnetic field and electromotors\n",
    "\n",
    "What happens to the circuit in Fig. [fig:magneticfield-forceoncircuit-010](#fig:magneticfield-forceoncircuit-010)b if it is hinged around the $z$-axis (or around an axis parallel to the $z$-axis through the center of the circuit)? The torque will make the circuit start to rotate. However, if the circuit has rotated an angle $\\pi/2$, the magnetic moment of the circuit will have rotated to be parallel to the magnetic field, and the torque, $\\mathbf{\\tau} = \\mathbf{m} \\times \\mathbf{B}$ will be zero. If the circuit has some inertia, it will rotate past this angle. But the torque from the magnetic field would then stop the rotation. This is therefore only the start of an electromotor. To get the circuit to continue to rotate, we need to change the direction of the magnetic field so that the torque continues to have the same direction (sign) after a rotation of $\\pi/2$. If the magnetic field is from a permanent magnetic, this means that we need to change the direction of the magnet. However, if the magnetic field is generated by the current flowing in a circuit, we can flip the direction of the field by changing the direction of the current in the circuit. This type of motor is called a brush-less motor. (In practice, we do not use a single circle to generate the magnetic field, but instead a series of circles as we will discuss in the next chapter).\n",
    "\n",
    "Why is it called a brush-less motor? Where is the brush? This comes from the way an electromotor is constructed using a permament magnet. Instead of changing the direction of the magnetic field, we can also change the direction of the magnetic moment by changing the direction of the current in the circuit. In practice this is done by having a set of brushes that a part of the circuit slides along, which flips the direction of the current when the circuit has rotated $\\pi/2$. This is illustrated in Fig. [fig:magneticfield-electromotor-010](#fig:magneticfield-electromotor-010).\n",
    "\n",
    "<!-- dom:FIGURE:[fig-magneticfield/magneticfield-electromotor-010.png, width=600 frac=0.95] Illustration of the brushes in an electromotor in a constant magnetic field $\\mathbf{B}$. The direction of the current in the circuit changes direction by dividing the brush into two brushes with different potentials. When the motor rotates so that it is parallel to the magnetic field, the current changes direction. <div id=\"fig:magneticfield-electromotor-010\"></div> -->\n",
    "<!-- begin figure -->\n",
    "<div id=\"fig:magneticfield-electromotor-010\"></div>\n",
    "\n",
    "<p>Illustration of the brushes in an electromotor in a constant magnetic field $\\mathbf{B}$. The direction of the current in the circuit changes direction by dividing the brush into two brushes with different potentials. When the motor rotates so that it is parallel to the magnetic field, the current changes direction.</p>\n",
    "<img src=\"fig-magneticfield/magneticfield-electromotor-010.png\" width=600>\n",
    "\n",
    "<!-- end figure -->\n",
    "\n",
    "\n",
    "\n",
    "# Summary\n",
    "\n",
    "The **magnetic force** from a charge $Q_1$ in $\\mathbf{r}_1$ with velocity $\\mathbf{v}_1$ on a charge $Q_2$ in $\\mathbf{r}_2$ with velocity $\\mathbf{v}_2$ is"
   ]
  },
  {
   "cell_type": "markdown",
   "metadata": {},
   "source": [
    "$$\n",
    "\\mathbf{F}_{\\text{from 1 on 2}} = \\frac{\\mu_0}{4 \\pi} \\frac{Q_2 \\mathbf{v}_2 \\times \\left( Q_1 \\mathbf{v}_1 \\times \\mathbf{\\hat{R}} \\right) }{R^2} \\; .\n",
    "$$"
   ]
  },
  {
   "cell_type": "markdown",
   "metadata": {},
   "source": [
    "The **magnetic field** $\\mathbf{B}$ from a charge $Q_1$ with velocity $\\mathbf{v}_1$ in $\\mathbf{r}_1$ in the point $\\mathbf{r}$ is"
   ]
  },
  {
   "cell_type": "markdown",
   "metadata": {},
   "source": [
    "$$\n",
    "\\mathbf{B} = \\frac{\\mu_0}{4 \\pi} \\frac{Q_1 \\mathbf{v}_1 \\times \\mathbf{\\hat{R}} }{R^2} \\; .\n",
    "$$"
   ]
  },
  {
   "cell_type": "markdown",
   "metadata": {},
   "source": [
    "where $\\mathbf{R} = \\mathbf{r} - \\mathbf{r}_1$.\n",
    "\n",
    "Magnetic fields obey the **superposition principle**:"
   ]
  },
  {
   "cell_type": "markdown",
   "metadata": {},
   "source": [
    "$$\n",
    "\\mathbf{B} = \\sum_i \\mathbf{B}_i\n",
    "$$"
   ]
  },
  {
   "cell_type": "markdown",
   "metadata": {},
   "source": [
    "Biot-Savart's law on differential form states that the contribution $\\mathrm{d} \\mathbf{B}$ to the magnetic field at $\\mathbf{r}$ from a current density $\\mathbf{J}$ at $\\mathbf{r}'$ is"
   ]
  },
  {
   "cell_type": "markdown",
   "metadata": {},
   "source": [
    "$$\n",
    "\\mathrm{d}\\mathbf{B} = \\frac{\\mu_0}{4 \\pi} \\frac{\\mathbf{J} \\mathrm{d} v \\times \\mathbf{\\hat{R}} }{R^2} = \\frac{\\mu_0}{4 \\pi} \\frac{\\mathbf{J} \\mathrm{d} v \\times \\mathbf{R} }{R^3}  \\; ,\n",
    "$$"
   ]
  },
  {
   "cell_type": "markdown",
   "metadata": {},
   "source": [
    "where $\\mathbf{R}$ is the vector from the volume element $\\mathrm{d} v$ at $\\mathbf{r}'$ to $\\mathbf{r}$: $\\mathbf{R} = \\mathbf{r} - \\mathbf{r}'$.\n",
    "\n",
    "Biot-Savart's law for a current element states that the contribution to the magnetic field at the point $\\mathbf{r}$ from a current element $I \\mathrm{d} \\mathbf{l}$ at $\\mathbf{r}'$ is"
   ]
  },
  {
   "cell_type": "markdown",
   "metadata": {},
   "source": [
    "$$\n",
    "\\mathrm{d} \\mathbf{B} = \\frac{\\mu_0}{4 \\pi} \\frac{I \\mathrm{d} \\mathbf{l} \\times \\mathbf{\\hat{R}} } { R^2} =\n",
    "\\frac{\\mu_0}{4 \\pi} \\frac{I \\mathrm{d} \\mathbf{l} \\times (\\mathbf{r} - \\mathbf{r}')} { | (\\mathbf{r} - \\mathbf{r}')|^3}\n",
    "\\, .\n",
    "$$"
   ]
  },
  {
   "cell_type": "markdown",
   "metadata": {},
   "source": [
    "The **Lorentz force** describes the force on a charge $Q$ moving in an electric and a magnetic field:"
   ]
  },
  {
   "cell_type": "markdown",
   "metadata": {},
   "source": [
    "$$\n",
    "\\mathbf{F} = Q \\mathbf{E} + Q \\mathbf{v} \\times \\mathbf{B} \\; .\n",
    "$$"
   ]
  },
  {
   "cell_type": "markdown",
   "metadata": {},
   "source": [
    "The **magnetic force** on a current element $I \\mathrm{d} \\mathbf{l}$ from the interaction with the magnetic field $\\mathbf{B}$ is"
   ]
  },
  {
   "cell_type": "markdown",
   "metadata": {},
   "source": [
    "$$\n",
    "\\mathrm{d} \\, \\mathbf{F} = I \\mathrm{d} \\mathbf{l} \\times \\mathbf{B} \\; .\n",
    "$$"
   ]
  },
  {
   "cell_type": "markdown",
   "metadata": {},
   "source": [
    "We call $\\mathbf{m} = I \\mathbf{S}$ the **magnetic moment** of a circuit. The torque of a magnetic moment $\\mathbf{m}$ in the field $\\mathbf{B}$ is:"
   ]
  },
  {
   "cell_type": "markdown",
   "metadata": {},
   "source": [
    "$$\n",
    "\\mathbf{\\tau} = \\mathbf{m} \\times \\mathbf{B} \\; .\n",
    "$$"
   ]
  },
  {
   "cell_type": "markdown",
   "metadata": {},
   "source": [
    "# Exercises\n",
    "\n",
    "### Learning outcomes\n",
    "\n",
    "Denne uken arbeider vi med å bygge opp forståelse for hvordan $\\mathbf{B}$-feltet oppstår, hvordan vi kan regne det ut, og hvordan det påvirker en ladning i bevegelse eller et strømelement. Vi kommer til å bruke mange av de samme teknikkene som vi brukte til å finne $\\mathbf{E}$-feltet fra ladningsfordelinger. Det er spesielt viktig å lære seg hvordan vi bruker høyrehåndsregelen, hvilken retning $\\mathbf{R}$ vektor har, og hvordan vi utfører linje, flate og volume-integraler over strømfordelinger.\n",
    "\n",
    "\n",
    "\n",
    "## Test yourself\n",
    "\n",
    "\n",
    "\n",
    "<!-- --- begin exercise --- -->\n",
    "\n",
    "## Exercise 1: Biot Savart's law\n",
    "<div id=\"ex:magneticfield-test-biotsavart-010\"></div>\n",
    "\n",
    "\n",
    "**a)**\n",
    "Write down Biot-Savart's law for a line current element.\n",
    "\n"
   ]
  },
  {
   "cell_type": "markdown",
   "metadata": {},
   "source": [
    "\n",
    "**b)**\n",
    "Make a drawing of the line element where you show where you calculate the magnetic field, and where you draw the $\\mathbf{R}$ vector. Also show the direction of the magnetic field.\n",
    "\n",
    "\n",
    "\n",
    "**c)**\n",
    "What happens to the magnetic field if you double the current? If you double the distance from the element to the observation point?\n",
    "\n",
    "\n",
    "\n",
    "<!-- --- end exercise --- -->\n",
    "\n",
    "\n",
    "\n",
    "\n",
    "<!-- --- begin exercise --- -->\n",
    "\n",
    "## Exercise 2: Superposition\n",
    "<div id=\"ex:magneticfield-test-superposition\"></div>\n",
    "\n",
    "The figure below illustrates a line of length $\\mathbf{l}$ with a current $I$.\n",
    "\n",
    "<!-- dom:FIGURE:[fig-magneticfield/magneticfield-test-biotsavart-020.png, width=600 frac=0.8] -->\n",
    "<!-- begin figure -->\n",
    "\n",
    "<p></p>\n",
    "<img src=\"fig-magneticfield/magneticfield-test-biotsavart-020.png\" width=600>\n",
    "\n",
    "<!-- end figure -->\n",
    "\n",
    "\n",
    "\n",
    "**a)**\n",
    "What is the direction of the magnetic field in the point $P$?\n",
    "\n",
    "\n",
    "\n"
   ]
  },
  {
   "cell_type": "markdown",
   "metadata": {},
   "source": [
    "\n",
    "**b)**\n",
    "If the contribution to the magnetic field in part (a) is $\\mathbf{B}_a$, what is the magnetic field due to four such line elements making up a complete circuit?\n",
    "\n",
    "\n",
    "\n",
    "\n",
    "\n",
    "\n",
    "<!-- --- end exercise --- -->\n",
    "\n",
    "\n",
    "## Discussion exercises\n",
    "\n",
    "\n",
    "\n",
    "<!-- --- begin exercise --- -->\n",
    "\n",
    "## Exercise 3: Symmetrier for magnetfeltet\n",
    "\n",
    "Figuren viser en tynn wire med en uniform strøm $I$. Dette setter opp et magnetfelt $\\mathbf{B}$. Hvordan kan vi vite at dette magnetfeltet kun har en tangential (azimuthal) komponent? Hvorfor har det ikke en $z$-komponent eller en radielle komponent? Hvordan vil du argumenter for at det ikke er en $z$ eller $r$-komponent i $\\mathbf{B}$-feltet? Bruk symmetri eller andre egenskaper ved $\\mathbf{B}$-feltet som du kjenner.\n",
    "\n",
    "\n",
    "<!-- dom:FIGURE:[fig-magneticfield/pollock-ampere-010.png, width=600 frac=0.4] -->\n",
    "<!-- begin figure -->\n",
    "\n",
    "<p></p>\n",
    "<img src=\"fig-magneticfield/pollock-ampere-010.png\" width=600>\n",
    "\n",
    "<!-- end figure -->\n",
    "\n",
    "\n",
    "<!-- --- begin hint in exercise --- -->\n",
    "\n",
    "**Hint.**\n",
    "Det kan være lurt å tenke på divergensen til $\\mathbf{B}$-feltet.\n",
    "\n",
    "<!-- --- end hint in exercise --- -->\n",
    "\n",
    "\n",
    "\n",
    "<!-- --- end exercise --- -->\n",
    "\n",
    "\n",
    "\n",
    "\n",
    "<!-- --- begin exercise --- -->\n",
    "\n",
    "## Exercise 4: Model for permanent magnet\n",
    "\n",
    "La oss tenke oss at en modell for en permanent magnet er at magnetfeltet kommer fra ladninger (for eksempel elektroner) som beveger seg i atomene i form av spinn. Hvordan kan du bruke en slik modell til (i) å si noen om det magnetiske feltet rundt en permenent magnet, (ii) å si noe om hva som skjer om man deler en permanent magnet i to.\n",
    "\n",
    "<!-- --- end exercise --- -->\n",
    "\n",
    "\n",
    "\n",
    "\n",
    "<!-- --- begin exercise --- -->\n",
    "\n",
    "## Exercise 5: Magnetisk nord\n",
    "\n",
    "Hvordan kan du relatere jordens magnetfelt til modellene for elektromagneter du har lært om denne uken\n",
    "\n",
    "<!-- --- begin hint in exercise --- -->\n",
    "\n",
    "**Hint.**\n",
    "Jorden har en flytende, metallisk kjerne.\n",
    "\n",
    "<!-- --- end hint in exercise --- -->\n",
    "\n",
    "<!-- --- end exercise --- -->\n",
    "\n",
    "\n",
    "\n",
    "\n",
    "<!-- --- begin exercise --- -->\n",
    "\n",
    "## Exercise 6: Oppvarming med $\\mathbf{B}$-felt\n",
    "\n",
    "Finn $\\mathbf{B}$-feltet i punktene.\n",
    "\n",
    "<!-- dom:FIGURE:[fig-magneticfield/magneticfield-drawbfield-010.png,  width=600 frac=0.8] -->\n",
    "<!-- begin figure -->\n",
    "\n",
    "<p></p>\n",
    "<img src=\"fig-magneticfield/magneticfield-drawbfield-010.png\" width=600>\n",
    "\n",
    "<!-- end figure -->\n",
    "\n",
    "\n",
    "<!-- --- end exercise --- -->\n",
    "\n",
    "\n",
    "## Tutorials\n",
    "\n",
    "\n",
    "\n",
    "<!-- --- begin exercise --- -->\n",
    "\n",
    "## Exercise 7: Finding $\\mathbf{B}$ from a line segment\n",
    "\n",
    "In this tutorial we will focus on building skills in setting up the integrals needed to find the magnetic field from a current distribution using Biot-Savart's law.\n",
    "\n",
    "We will see how we can find the magnetic field from a line current. There is a current $I$ in a wire along the $x$-axis. The current runs in the positive $x$-direction. We want to calculate the resulting field at a position $\\mathbf{r} = (x,y,z)=(0,0,z)$.\n",
    "\n",
    "\n",
    "**a)**\n",
    "Make a drawing of the system. Include a line element $d\\mathbf{l}$ in your drawing, and the vector $\\mathbf{R}$. Also express $\\mathbf{R}$ on coordinate form $\\mathbf{R} = (R_x,R_y,R_z)$.\n",
    "\n",
    "**b)**\n",
    "Find an expression for the contribution $\\mathrm{d}\\mathbf{B}$ to the magnetic field at $\\mathbf{r}$ from the line element $\\mathrm{d}\\mathbf{l}$. First do it geometrically (without writing vector on Cartesian form), then do it using the Cartesian coordinate form for $\\mathbf{R}$. (Notice that vector algebra actually works).\n",
    "\n",
    "\n",
    "\n"
   ]
  },
  {
   "cell_type": "markdown",
   "metadata": {},
   "source": [
    "\n",
    "**c)**\n",
    "Set up the integral to find the magnetic field $\\mathbf{B}$ in the case when (i) the line is inifintely long, (ii) the line goes from minus infinity to $x=0$, (iii) the line goes from $x=-L/2$ to $x=L/2$. (For case (ii) and (iii) we would need to connect the wire to other wires for the system to be physically reasonable with a constant current).\n",
    "\n"
   ]
  },
  {
   "cell_type": "markdown",
   "metadata": {},
   "source": [
    "\n",
    "You may use that"
   ]
  },
  {
   "cell_type": "markdown",
   "metadata": {},
   "source": [
    "<!-- Equation labels as ordinary links -->\n",
    "<div id=\"_auto56\"></div>\n",
    "\n",
    "$$\n",
    "\\begin{equation}\n",
    "\\int \\frac{z}{\\left( x^2 + z^2 \\right)^{3/2}} \\mathrm{d} x = \\frac{x}{z \\sqrt{ x^2 + z^2}} \\; .\n",
    "\\label{_auto56} \\tag{57}\n",
    "\\end{equation}\n",
    "$$"
   ]
  },
  {
   "cell_type": "markdown",
   "metadata": {},
   "source": [
    "**d)**\n",
    "Find the $\\mathbf{B}$-field in case (i), (ii) and (iii).\n",
    "\n"
   ]
  },
  {
   "cell_type": "markdown",
   "metadata": {},
   "source": [
    "\n",
    "**e)**\n",
    "Check that when $z\\gg L$ your result in (iii) gives back Biot-Savart's law.\n",
    "\n"
   ]
  },
  {
   "cell_type": "markdown",
   "metadata": {},
   "source": [
    "\n",
    "<!-- --- end exercise --- -->\n",
    "\n",
    "\n",
    "\n",
    "\n",
    "<!-- --- begin exercise --- -->\n",
    "\n",
    "## Exercise 8: Force on a current element\n",
    "\n",
    "An inifinitely long, straight wire that carries a current $I_1$ is partialle surrounded by the loop shown in the figure. The loop has a length $L$ and a radius $R$, and carries a current $I_2$. The axis of the loop coincides with the infinite wire. Calculate the force that acts on the loop.\n",
    "\n",
    "<!-- dom:FIGURE:[fig-magneticfield/marion-lorentz-010.png,  width=300 frac=0.3] -->\n",
    "<!-- begin figure -->\n",
    "\n",
    "<p></p>\n",
    "<img src=\"fig-magneticfield/marion-lorentz-010.png\" width=300>\n",
    "\n",
    "<!-- end figure -->\n",
    "\n",
    "\n",
    "<!-- --- begin hint in exercise --- -->\n",
    "\n",
    "**Hint.**\n",
    "Divide the loop into four separate segments and find the force on each segment.\n",
    "\n",
    "<!-- --- end hint in exercise --- -->\n",
    "\n",
    "<!-- --- end exercise --- -->\n",
    "\n",
    "\n",
    "\n",
    "\n",
    "<!-- --- begin exercise --- -->\n",
    "\n",
    "## Exercise 9: Magnetic field from a thin sheet\n",
    "\n",
    "The surface current density in a thin sheet at $z=0$ is $\\mathbf{J}_a = J_a\\hat{x}$. Find $\\mathbf{B}$ using Biot-Savart law. Carefully introduce a surface element, $dA = dx \\, dy$, and the vector $\\mathbf{R}$. It may simplify the calculation to use vector coordinates.\n",
    "\n",
    "<!-- --- end exercise --- -->\n",
    "\n",
    "\n",
    "## Homework\n",
    "\n",
    "\n",
    "\n",
    "<!-- --- begin exercise --- -->\n",
    "\n",
    "## Exercise 10: Magnetic field above a circular circuit\n",
    "\n",
    "We will study a circular circuit in the $xy$-plane, with radius $a$ and with its center in the origin. A current $I$ runs in the positive rotational direction (oppsite the clock).\n",
    "\n",
    "\n",
    "**a)**\n",
    "Find an expression for the vector $\\mathbf{R}$ from a point $(x,y,0)_{\\text{Cartesian}} = (a,\\phi,0)_{\\text{cylindric}}$ on the circuit and to a point $(0,0,z)_\\text{Cartesian} = (0,\\phi,z)_\\text{cylindric}$ on the $z$-axis. Express this vector using $a$ and $z$. Also find an expression for $R^2 = |\\mathbf{R}|^2$ og $\\hat{\\mathbf{R}} = \\frac{\\mathbf{R}}{|\\mathbf{R}|}$\n",
    "\n"
   ]
  },
  {
   "cell_type": "markdown",
   "metadata": {},
   "source": [
    "\n",
    "**b)**\n",
    "Find an expression from the contribution $\\mathrm{d}\\mathbf{B}$ to the magnetic field in the point $(0,0,z)$ from an infinitesimal current element $\\mathrm{d} \\mathbf{I} = I \\mathrm{d} \\mathbf{l}$ in the circular circuit.\n",
    "\n"
   ]
  },
  {
   "cell_type": "markdown",
   "metadata": {},
   "source": [
    "\n",
    "**c)**\n",
    "Find the magnetic field in $(0,0,z)$.\n",
    "\n"
   ]
  },
  {
   "cell_type": "markdown",
   "metadata": {},
   "source": [
    "\n",
    "<!-- --- end exercise --- -->\n",
    "\n",
    "\n",
    "\n",
    "\n",
    "<!-- --- begin exercise --- -->\n",
    "\n",
    "## Exercise 11: Infinite bent wire\n",
    "\n",
    "*(By René Ask)*\n",
    "\n",
    "<!-- dom:FIGURE:[fig-magneticfield/magneticfield-halfcircle-010.png, frac=0.7] -->\n",
    "<!-- begin figure -->\n",
    "\n",
    "<p></p>\n",
    "<img src=\"fig-magneticfield/magneticfield-halfcircle-010.png\" >\n",
    "\n",
    "<!-- end figure -->\n",
    "\n",
    "\n",
    "\n",
    "**a)**\n",
    "An infinite thin wire is bent about a point $P$ in a half-circle of radius $a$ with $P$ as its center. Through the wire runs a constant current $I$.\n",
    "Find the magnetic field at point $P$.\n",
    "\n",
    "\n",
    "\n"
   ]
  },
  {
   "cell_type": "markdown",
   "metadata": {},
   "source": [
    "\n",
    "**b)**\n",
    "Now that you have found the analytical expression for the magnetic field at $P$, write a code that computes the magnetic field at $P$ numerically. You should use the answer you found analytically in the last problem to check that\n",
    "your code produces the correct result.\n",
    "\n"
   ]
  },
  {
   "cell_type": "markdown",
   "metadata": {},
   "source": [
    "\n",
    "**c)**\n",
    "Extend your code so that it can compute the magnetic field at any point $\\mathbf{r} = x\\mathbf{\\hat{x}} + y\\mathbf{\\hat{y}} + z\\mathbf{\\hat{z}} $.\n",
    "\n"
   ]
  },
  {
   "cell_type": "markdown",
   "metadata": {},
   "source": [
    "\n",
    "**d)**\n",
    "Extend the code you wrote so that it plots the streamlines of the magnetic field in the $yz$-plane at $x = 0$.\n",
    "\n"
   ]
  },
  {
   "cell_type": "markdown",
   "metadata": {},
   "source": [
    "\n",
    "<!-- --- end exercise --- -->\n",
    "\n",
    "\n",
    "\n",
    "\n",
    "<!-- --- begin exercise --- -->\n",
    "\n",
    "## Exercise 12: Modelling the magnetic field of Earth\n",
    "\n",
    "*(By René Ask)*\n",
    "\n",
    "In this exercise, we want to model the processes that ultimately lead to the production of Earth's magnetic field. From Maxwell's equations (or Biot-Savart's law for that matter), we know that currents produce magnetic fields. Do model this process, we have to make some simplifying assumptions to make our computations tractable. In the core of the Earth, ion-flow (flow of charged iron atoms) of primarily iron create currents that produce magnetic fields both locally and globally. We're more interested in the global field.\n",
    "\n",
    "\n",
    "**a)**\n",
    "To begin this modelling process, we can assume that Earth is simply an empty spherical shell with radius $a$ that is rotating counter-clockwise with an angular velocity $\\omega$ about the $z$-axis. For simplicity, let's assume that its surface is covered with a uniform charge density $\\sigma$ which represents the iron ions. Find the magnetic field at the sphere's center.\n",
    "\n",
    "\n",
    "\n"
   ]
  },
  {
   "cell_type": "markdown",
   "metadata": {},
   "source": [
    "\n",
    "**b)**\n",
    "Now that we're a little more familiar with what we're dealing with, write a program that computes the magnetic field at any point $r = (x,y,z)$ and plot the streamlines of the magnetic field. Can you explain the physical reason behind the behaviour of the magnetic field inside the sphere? Do you think this is a reasonable approximation to Earth's magnetic field?\n",
    "\n",
    "*But before you work out a solution, wait! And read this short introduction to an integration method that will give a much faster code than what ordinary integration methods can. Also, you may not have learnt much probability theory yet so don't get too hung up on the details. Focus on understanding how you implement the algorithm instead*. Since the computation of the magnetic field will involve multi-dimensional integrals, it's far more convenient to use an integration technique known as Monte-Carlo integration. Although this problem can just as easily be solved by simply extending the trapezoidal rule or midpoint rule or any other standard integration technique to two dimensions, such integration methods are computationally expensive in higher dimensions. The simplest form of Monte-Carlo integration boils down to the following: Suppose we have an integral $\\int_a^b f(x)dx$ and suppose $p_x(x)$ is a uniform probability distribution on the interval $(a,b)$. The probability distribution is then given by $p_x(x) = 1/(b-a)$ on this interval and is zero elsewhere. Let $p_u(u) = 1$ be the uniform distribution on the interval $(0,1)$. It's more convenient to work with the distribution at the interval $(0,1)$, so transforming from $p_x(x)$ to $p_u(u)$ is desirable. Such a transformation must conserve probability, which is to say"
   ]
  },
  {
   "cell_type": "markdown",
   "metadata": {},
   "source": [
    "<!-- Equation labels as ordinary links -->\n",
    "<div id=\"_auto100\"></div>\n",
    "\n",
    "$$\n",
    "\\begin{equation}\n",
    "p_u(u)du = du = p_x(x)dx = \\frac{dx}{b-a}\n",
    "\\label{_auto100} \\tag{101}\n",
    "\\end{equation}\n",
    "$$"
   ]
  },
  {
   "cell_type": "markdown",
   "metadata": {},
   "source": [
    "Integrating the equation gives"
   ]
  },
  {
   "cell_type": "markdown",
   "metadata": {},
   "source": [
    "<!-- Equation labels as ordinary links -->\n",
    "<div id=\"_auto101\"></div>\n",
    "\n",
    "$$\n",
    "\\begin{equation}\n",
    "u = \\int_a^x \\frac{dx'}{b-a} = \\frac{1}{b-a}(x-a),\n",
    "\\label{_auto101} \\tag{102}\n",
    "\\end{equation}\n",
    "$$"
   ]
  },
  {
   "cell_type": "markdown",
   "metadata": {},
   "source": [
    "which can be solved for $x$ to give us the following formula"
   ]
  },
  {
   "cell_type": "markdown",
   "metadata": {},
   "source": [
    "<!-- Equation labels as ordinary links -->\n",
    "<div id=\"_auto102\"></div>\n",
    "\n",
    "$$\n",
    "\\begin{equation}\n",
    "x(u) = (b-a)u + a.\n",
    "\\label{_auto102} \\tag{103}\n",
    "\\end{equation}\n",
    "$$"
   ]
  },
  {
   "cell_type": "markdown",
   "metadata": {},
   "source": [
    "Now what is this to be used for? Well, we can now sample $u \\in (0,1)$ and then obtain the actual $x$-values on the interval $(a,b)$. But that's not the whole story. I still haven't explained how this will all help us. Here it goes: we take our integral and rewrite it in the following way (recall that $du = p_u(u)du = p_x(x)dx$):"
   ]
  },
  {
   "cell_type": "markdown",
   "metadata": {},
   "source": [
    "<!-- Equation labels as ordinary links -->\n",
    "<div id=\"_auto103\"></div>\n",
    "\n",
    "$$\n",
    "\\begin{equation}\n",
    "\\int_a^b f(x)dx = \\int_a^b \\frac{f(x)}{p_x(x)}\\underbrace{p_x(x)dx}_{=du} = \\int_0^1\\frac{f(x(u))}{p_x(x(u))}du = (b-a)\\int_0^1 f(x(u))du.\n",
    "\\label{_auto103} \\tag{104}\n",
    "\\end{equation}\n",
    "$$"
   ]
  },
  {
   "cell_type": "markdown",
   "metadata": {},
   "source": [
    "since $p_x(x) = 1/(b-a)$. What do we do with this expression? Well, the integral is now an expectation value of the function $f(x(u))$ with a uniform probability distribution on $(0,1)$.\n",
    "Therefore, we can approximate it in the following way:"
   ]
  },
  {
   "cell_type": "markdown",
   "metadata": {},
   "source": [
    "<!-- Equation labels as ordinary links -->\n",
    "<div id=\"_auto104\"></div>\n",
    "\n",
    "$$\n",
    "\\begin{equation}\n",
    "\\int_a^b f(x)dx  = (b-a)\\int_0^1 f(x(u))du \\approx \\frac{(b-a)}{N}\\sum_{i=1}^N f(x(u_i)).\n",
    "\\label{_auto104} \\tag{105}\n",
    "\\end{equation}\n",
    "$$"
   ]
  },
  {
   "cell_type": "markdown",
   "metadata": {},
   "source": [
    "Now that's simple! And this can be extended to a $d$-dimensional integral in a straight forward manner:"
   ]
  },
  {
   "cell_type": "markdown",
   "metadata": {},
   "source": [
    "<!-- Equation labels as ordinary links -->\n",
    "<div id=\"_auto105\"></div>\n",
    "\n",
    "$$\n",
    "\\begin{equation}\n",
    "\\int f(\\mathbf{x})d^d\\mathbf{x}  = \\int_{a_1}^{b_1} \\cdots \\int_{a_d}^{b_d} f(x_1,...,x_d) dx_1\\cdots dx_d \n",
    "\\label{_auto105} \\tag{106}\n",
    "\\end{equation}\n",
    "$$"
   ]
  },
  {
   "cell_type": "markdown",
   "metadata": {},
   "source": [
    "<!-- Equation labels as ordinary links -->\n",
    "<div id=\"_auto106\"></div>\n",
    "\n",
    "$$\n",
    "\\begin{equation}  \n",
    "                                           = \\prod_{j=1}^{d}(b_j-a_j)\\int_{0}^1\\cdots \\int_0^1 f(x_1(u_1), ..., x_d(u_d))du_1\\cdots du_d \n",
    "\\label{_auto106} \\tag{107}\n",
    "\\end{equation}\n",
    "$$"
   ]
  },
  {
   "cell_type": "markdown",
   "metadata": {},
   "source": [
    "<!-- Equation labels as ordinary links -->\n",
    "<div id=\"_auto107\"></div>\n",
    "\n",
    "$$\n",
    "\\begin{equation}  \n",
    "                                           \\approx \\frac{\\prod_{j=1}^{d}(b_j-a_j)}{N}\\sum_{i=1}^N f(x_1(u_{1,i}), ..., x_d(u_{d,i}))\n",
    "\\label{_auto107} \\tag{108}\n",
    "\\end{equation}\n",
    "$$"
   ]
  },
  {
   "cell_type": "markdown",
   "metadata": {},
   "source": [
    "Let's pause for a minute and think about why this integration method is a better choice in higher dimensions. If we were to approximate a $d$-dimensional integral with, say, the midpoint rule, we would have $d$ sums! With Monte-Carlo integration, there's always only a single sum regardless of how many dimensions we work in.\n",
    "\n"
   ]
  },
  {
   "cell_type": "markdown",
   "metadata": {},
   "source": [
    "\n",
    "**c)**\n",
    "To make our model of Earth's currents a little more realistic, we can fill the inside of our Earth with a uniform (volume) charge density $\\rho$. Modify your code from the previous problem to compute and visualize the magnetic field lines (using streamplot). You should compare the resulting streamlines to the ones you found using the spherical shell model. Which model do you think produce a magnetic field that most closely resemble Earth's?\n",
    "\n"
   ]
  },
  {
   "cell_type": "markdown",
   "metadata": {},
   "source": [
    "\n",
    "<!-- --- end exercise --- -->\n",
    "\n",
    "\n",
    "\n",
    "\n",
    "<!-- --- begin exercise --- -->\n",
    "\n",
    "## Exercise 13: Derive field of magnetic dipole\n",
    "\n",
    "*(By: Sigurd Sørlie Rustad)*\n",
    "\n",
    "In this exercise we are going to derive the magnetic field for a magnetic dipole. First we are going  to consider the field from an electric dipole. Lets say we have two oppositely charged particles a distance $d$ from eachother. We place origin between the two particles and the particles are placed along the $z$-axis.\n",
    "\n",
    "\n",
    "**a)**\n",
    "Find the electric field in $\\mathbf{r} = (x, y, z)$, where $|\\mathbf{r}|\\gg d$.\n",
    "\n"
   ]
  },
  {
   "cell_type": "markdown",
   "metadata": {},
   "source": [
    "\n",
    "**b)**\n",
    "Use the potential to find the electric field $\\mathbf{E}(\\mathbf{r})$.\n",
    "\n"
   ]
  },
  {
   "cell_type": "markdown",
   "metadata": {},
   "source": [
    "\n",
    "**c)**\n",
    "It turns out that the magnetic field from a magnetic dipole has the same form as the field as an electric dipole, if you do the necessary substitutions. Do the substitutions and find the magnetic field $\\mathbf{B}$.\n",
    "\n"
   ]
  },
  {
   "cell_type": "markdown",
   "metadata": {},
   "source": [
    "\n",
    "<!-- --- end exercise --- -->\n",
    "\n",
    "\n",
    "\n",
    "\n",
    "<!-- --- begin exercise --- -->\n",
    "\n",
    "## Exercise 14: Visualize the field from a dipole\n",
    "\n",
    "*(By Sigurd Sørlie Rustad)*\n",
    "\n",
    "In this exercise we are going to visualize the field from a magnetic dipole with a streamplot. The field from a dipole is given by the equation"
   ]
  },
  {
   "cell_type": "markdown",
   "metadata": {},
   "source": [
    "<!-- Equation labels as ordinary links -->\n",
    "<div id=\"_auto143\"></div>\n",
    "\n",
    "$$\n",
    "\\begin{equation}\n",
    "\\mathbf{B}(\\mathbf{r}) = \\frac{\\mu_0}{4\\pi}\\bigg(\\frac{3\\mathbf{r}(\\mathbf{m}\\cdot\\mathbf{r})}{r^5}-\\frac{\\mathbf{m}}{r^3}\\bigg)\n",
    "\\label{_auto143} \\tag{144}\n",
    "\\end{equation}\n",
    "$$"
   ]
  },
  {
   "cell_type": "markdown",
   "metadata": {},
   "source": [
    "Make a function that takes magnetic moment $\\mathbf{m}$, its location and the position $\\mathbf{r}$ you want to evaluate the field.\n",
    "The output should be the resulting magnetic field. You only need to do it in 2D. Make a streamplot to visualize the field.\n",
    "\n",
    "Extra challenge: Try to vectorize your code. If you do it properly it will be compatible with both 2D and 3D. NumPy has several good packages that you can use to vectorize your code. The ones used in the solution are `tensordot` to dotproduct along an axis and `linalg.norm` to find the length of several vectors along an axis.\n",
    "\n",
    "*(By Sigurd Sørlie Rustad)*\n",
    "\n",
    "Here we are going to visualize the magnetic force between two moving particles, in 3D. First we need to find the magnetic force between the two particles.\n",
    "\n",
    "\n",
    "**a)**\n",
    "Write down the equation the for magnetic force between two moving particles.\n",
    "\n"
   ]
  },
  {
   "cell_type": "markdown",
   "metadata": {},
   "source": [
    "\n",
    "**b)**\n",
    "Write a function (in Python or MatLab) that takes in the positions of the particles, their charges and their velocities, and outputs the magnetic force from one of the particles on the other.\n",
    "\n"
   ]
  },
  {
   "cell_type": "markdown",
   "metadata": {},
   "source": [
    "\n",
    "**c)**\n",
    "Plot the velocity vectors for both particles and the force applied on one of the particles. Try for different initial conditions. Do you get what you expected?\n",
    "\n",
    "<!-- --- begin hint in exercise --- -->\n",
    "\n",
    "**Hint 1.**\n",
    "To get reasonable sizes use a scaled version for the marmeability of vacuum.\n",
    "\n",
    "<!-- --- end hint in exercise --- -->\n",
    "\n",
    "<!-- --- begin hint in exercise --- -->\n",
    "\n",
    "**Hint 2.**\n",
    "Reasonable initial conditions are: $\\mu_0 = 1$, $Q_1 = 1$, $Q_2=2$, $\\mathbf{v}_1=[0, -4, 0]$, $\\mathbf{v}_2=[0, 4, 0]$, $\\mathbf{r}_1=[0, 0, 0]$ and $\\mathbf{r}_2=[1, 0, 0]$.\n",
    "\n",
    "<!-- --- end hint in exercise --- -->\n",
    "\n"
   ]
  },
  {
   "cell_type": "markdown",
   "metadata": {},
   "source": [
    "\n"
   ]
  },
  {
   "cell_type": "markdown",
   "metadata": {},
   "source": [
    "\n",
    "<!-- --- end exercise --- -->\n",
    "\n",
    "\n",
    "\n",
    "\n",
    "<!-- --- begin exercise --- -->\n",
    "\n",
    "## Exercise 15: Modelling a 3d ion trap\n",
    "\n",
    "*(By René Ask)*\n",
    "\n",
    "At CERN, physicists trap antihydrogen, antiprotons and positrons in so called *Penning traps* to study their properties.\n",
    "In this exercise, we'll look at how we can go about and create such a trap with theory from electromagnetism. For our purpose we'll assume we're going to trap an ion with a charge $q > 0$ and a mass $m$. We'll assume that the trap is in a vacuum with no charge distibution within.\n",
    "\n",
    "\n",
    "**a)**\n",
    "Imagine we want the particle to stay located in a small area in space. The simplest such area to represent mathematically would be a sphere, wouldn't it? To create a spherical trap, we can imagine that we set up a continuous distribution of charges to create a spherical harmonic oscillator (kinda like three decoupled springs with a mass attached to each) such that its potential is"
   ]
  },
  {
   "cell_type": "markdown",
   "metadata": {},
   "source": [
    "<!-- Equation labels as ordinary links -->\n",
    "<div id=\"_auto145\"></div>\n",
    "\n",
    "$$\n",
    "\\begin{equation}\n",
    "  V(x,y,z) = A(x^2 + y^2 + z^2),\n",
    "\\label{_auto145} \\tag{146}\n",
    "\\end{equation}\n",
    "$$"
   ]
  },
  {
   "cell_type": "markdown",
   "metadata": {},
   "source": [
    "for an appropriate constant $A$. This way the particle would oscillate back and forth about the origin with certainty. Unfortunately, nature is not that simple. Show that this potential cannot exist in a vacuum.\n",
    "\n",
    "<!-- --- begin hint in exercise --- -->\n",
    "\n",
    "**Hint.**\n",
    "Use Laplace's equation.\n",
    "\n",
    "<!-- --- end hint in exercise --- -->\n",
    "\n"
   ]
  },
  {
   "cell_type": "markdown",
   "metadata": {},
   "source": [
    "\n",
    "**b)**\n",
    "To create a potential that can exist in a vacuum, we can modify the former as"
   ]
  },
  {
   "cell_type": "markdown",
   "metadata": {},
   "source": [
    "<!-- Equation labels as ordinary links -->\n",
    "<div id=\"_auto147\"></div>\n",
    "\n",
    "$$\n",
    "\\begin{equation}\n",
    "  V(x,y,z) = A(\\alpha x^2 + \\beta y^2 + \\gamma z^2),\n",
    "\\label{_auto147} \\tag{148}\n",
    "\\end{equation}\n",
    "$$"
   ]
  },
  {
   "cell_type": "markdown",
   "metadata": {},
   "source": [
    "where $\\alpha, \\beta, \\gamma \\neq 0$ are real constants. Find constraints on these constants such that the potential can exist in a vacuum and show that from a suitable choice of constraints we can obtain the potential (there's more than one choice)"
   ]
  },
  {
   "cell_type": "markdown",
   "metadata": {},
   "source": [
    "<!-- Equation labels as ordinary links -->\n",
    "<div id=\"_auto148\"></div>\n",
    "\n",
    "$$\n",
    "\\begin{equation}\n",
    "  V(x,y,z) = A( x^2 +  y^2 - 2z^2),\n",
    "\\label{_auto148} \\tag{149}\n",
    "\\end{equation}\n",
    "$$"
   ]
  },
  {
   "cell_type": "markdown",
   "metadata": {},
   "source": [
    "<!-- --- begin hint in exercise --- -->\n",
    "\n",
    "**Hint.**\n",
    "Again, use Laplace's equation.\n",
    "\n",
    "<!-- --- end hint in exercise --- -->\n",
    "\n"
   ]
  },
  {
   "cell_type": "markdown",
   "metadata": {},
   "source": [
    "\n",
    "<!-- dom:FIGURE:[fig-magneticfield/magneticfield-penningtrap-noB.png, frac=0.5] A simple setup for the trap with potential $V(x,y,z)$. <div id=\"fig:magneticfield-penningtrap-noB\"></div> -->\n",
    "<!-- begin figure -->\n",
    "<div id=\"fig:magneticfield-penningtrap-noB\"></div>\n",
    "\n",
    "<p>A simple setup for the trap with potential $V(x,y,z)$.</p>\n",
    "<img src=\"fig-magneticfield/magneticfield-penningtrap-noB.png\" >\n",
    "\n",
    "<!-- end figure -->\n",
    "\n",
    "\n",
    "**c)**\n",
    "Fig. [fig:magneticfield-penningtrap-noB](#fig:magneticfield-penningtrap-noB) shows as simple setup to create the trap with the same form as the potential we're studying. To trap positive ions, we want the end caps to be held at a static positive potential $V_0$ and the ring  to be held at at static negativ potential $-V_0$. Let the radius of the ring be $r_0$ and the end caps be placed a length $z_0$ from the center of the ring. Using cylindrical coordinates $x = r\\cos\\phi$, $y = r\\sin\\phi$ and $z = z$, the potential can be written as"
   ]
  },
  {
   "cell_type": "markdown",
   "metadata": {},
   "source": [
    "<!-- Equation labels as ordinary links -->\n",
    "<div id=\"_auto151\"></div>\n",
    "\n",
    "$$\n",
    "\\begin{equation}\n",
    "  V(r,z) = A(r^2 - 2z^2).\n",
    "\\label{_auto151} \\tag{152}\n",
    "\\end{equation}\n",
    "$$"
   ]
  },
  {
   "cell_type": "markdown",
   "metadata": {},
   "source": [
    "Find the constant $A$ and the relationship between $r_0$ and $z_0$ and use the results to show that the potential for the trap can be written as"
   ]
  },
  {
   "cell_type": "markdown",
   "metadata": {},
   "source": [
    "<!-- Equation labels as ordinary links -->\n",
    "<div id=\"_auto152\"></div>\n",
    "\n",
    "$$\n",
    "\\begin{equation}\n",
    "  V(r,z) = \\frac{V_0}{r_0^2}(2z^2 - r^2).\n",
    "\\label{_auto152} \\tag{153}\n",
    "\\end{equation}\n",
    "$$"
   ]
  },
  {
   "cell_type": "markdown",
   "metadata": {},
   "source": [
    "\n",
    "**d)**\n",
    "Show that this potential cannot trap the ion.\n",
    "\n",
    "<!-- --- begin hint in exercise --- -->\n",
    "\n",
    "**Hint.**\n",
    "Use the second derivative test (Hessian determinant). Or plot it and use it to explain why you can't trap the ion.\n",
    "\n",
    "<!-- --- end hint in exercise --- -->\n",
    "\n"
   ]
  },
  {
   "cell_type": "markdown",
   "metadata": {},
   "source": [
    "\n",
    "**e)**\n",
    "So using a static electric field doesn't seem to be enough (And indeed it isn't). Maybe we could add some more complicated feature to our trap. But we've already done alot of work with the field we already have, and even though it can't trap the atom in the radial direction, it could trap the ion in the $z$-direction if the ion has low enough energy. The *simplest* idea would be to add a uniform magnetic field. Why? Recall that the Lorentz' force $\\mathbf{F}_m = q\\mathbf{v}\\times\\mathbf{B}$ will bend the particle in a direction that is normal to both the velocity and magnetic field. Now, figure out which direction the magnetic field should point in order to successfully trap the particle.\n",
    "\n",
    "\n",
    "\n",
    "**f)**\n",
    "Combine the electric field and the uniform magnetic field to find the equations of motion of the particle.\n",
    "Solve these numerically to successfully trap a particle and make a 3D plot of its trajectory. You can play around with parameters, but to obtain a stable entrapment, $|\\mathbf{B}| > \\sqrt{8V_0m/qr_0^2}$ is required (to derive this criterium is beyond the scope of this exercise).\n",
    "\n",
    "<!-- --- begin hint in exercise --- -->\n",
    "\n",
    "**Hint.**\n",
    "Use Newton's 2.law. Use Euler-Cromer to solve it numerically (you need an algorithm that conserves energy).\n",
    "\n",
    "<!-- --- end hint in exercise --- -->\n",
    "\n"
   ]
  },
  {
   "cell_type": "markdown",
   "metadata": {},
   "source": [
    "\n",
    "<!-- --- end exercise --- -->\n",
    "\n",
    "\n",
    "\n",
    "\n",
    "<!-- --- begin exercise --- -->\n",
    "\n",
    "## Exercise 16: Magnetfeltet fra et uendelig strømførende plan\n",
    "\n",
    "Vi har en uendelig stor, tynn ladet plate med uniform strømtetthet $\\mathbf{J_s} = J_s\\mathbf{\\hat{x}}$ i $xy$-planet.\n",
    "\n",
    "\n",
    "**a)**\n",
    "Hvilke symmetrier har vi i dette systemet? Hva har disse symmmetriene å si for det magnetiske feltet?\n",
    "\n",
    "\n",
    "\n",
    "**b)**\n",
    "Finn det magnetiske feltet $\\mathbf{B}(x, y, z)$ både over og under platen.\n",
    "\n"
   ]
  },
  {
   "cell_type": "markdown",
   "metadata": {},
   "source": [
    "\n",
    "<!-- dom:FIGURE: [fig-magneticfield/Bfield_semicircular_conductor.png, width=400] En strømførende ledning som delvis ligger i et magnetfelt. Retningen til magnetfeltet er ut av arket. <div id=\"fig:ledning\"></div> -->\n",
    "<!-- begin figure -->\n",
    "<div id=\"fig:ledning\"></div>\n",
    "\n",
    "<p>En strømførende ledning som delvis ligger i et magnetfelt. Retningen til magnetfeltet er ut av arket.</p>\n",
    "<img src=\"fig-magneticfield/Bfield_semicircular_conductor.png\" width=400>\n",
    "\n",
    "<!-- end figure -->\n",
    "\n",
    "\n",
    "\n",
    "I figur [fig:ledning](#fig:ledning) ser vi en strømførende ledning. Den delen av ledningen\n",
    "som har formen til en halvsirkel ligger inne i en region med et uniformt\n",
    "magnetfelt som peker rett ut fra oppgavearket. Retningen til ladningsbærerne\n",
    "indikeres av retningen til pilene. Finn kraften som virker på ledningen på grunn\n",
    "av magnetfeltet.\n",
    "\n",
    "\n"
   ]
  },
  {
   "cell_type": "markdown",
   "metadata": {},
   "source": [
    "\n",
    "<!-- --- end exercise --- -->\n",
    "\n",
    "\n",
    "\n",
    "\n",
    "<!-- --- begin exercise --- -->\n",
    "\n",
    "## Exercise 17: Magnetisk felt fra et linje-element\n",
    "\n",
    "En strømkrets består av flere rette linjestykker som er koblet sammen. For å kunne finne det magnetiske feltet fra en slik strømkrets skal vi utvikle en metode til å finne det magnetiske feltet fra ett enkelt linjestykke.\n",
    "\n",
    "\n",
    "**a)**\n",
    "Det går en strøm $I$ gjennom et infinitesimalt linjestykke $d \\mathbf{l}$ (et strømelement) langs $x$-aksen fra $x_0$ til $x_0 + dx$. Hva er det magnetiske feltet fra dette strømelementer i et punkt $\\mathbf{r} = (x,y,z)$?\n",
    "\n"
   ]
  },
  {
   "cell_type": "markdown",
   "metadata": {},
   "source": [
    "\n",
    "**b)**\n",
    "Anta at du kan finne det magnetiske feltet fra en strøm $I$ gjennom et linjestykke langs $x$-aksen fra $x=a$ til $x=b$ ved å dele linjestykket opp i $N$ like store deler (strømelementer) med lengde $(b-a)/N$ og summere de magnetiske feltene fra hvert slikt strømelement. Skriv et program som finner det elektriske feltet $\\mathbf{B}$ i et oppgitt punkt $\\mathbf{r}$.\n",
    "\n"
   ]
  },
  {
   "cell_type": "markdown",
   "metadata": {},
   "source": [
    "\n",
    "**c)**\n",
    "Forklar hvordan du vil skrive et program for å finne det magnetiske feltet fra en strømløkke som går gjennom punktene $(a,0,0)$, $(b,0,0)$, $(b,d,0)$, $(a,d,0)$. (Du behøver ikke skrive programmet).\n",
    "\n",
    "<!-- --- end exercise --- -->\n",
    "\n",
    "\n",
    "## Modeling projects\n",
    "\n",
    "\n",
    "\n",
    "<!-- --- begin exercise --- -->\n",
    "\n",
    "## Exercise 18: Simulating a particle accelerator\n",
    "\n",
    "*(By Bror Hjemgaard)*\n",
    "\n",
    "The aim of this exercise is to simulate a particle accelerator.\n",
    "But before we construct the accelerator, we need to take a look at the theory behind it.\n",
    "The accelerator can be broken down into two types of sections: linear sections and curved sections. The task of the linear section is to accelerate the particle, while the curved section curves the path of the particle.\n",
    "Our model will consist of 8 parts: 4 linear sections and 4 curved sections, making a loop. See the figure below. The curved sections of the accelerator are all quarts of a circle with radius $R$. The linear sections are all of length $L$.\n",
    "\n",
    "<!-- dom:FIGURE:[fig-magneticfield/magneticfield-ex-accelerator.png, width=600 frac=0.8] The geometry of the accelerator. <div id=\"fig:magneticfield-acceleratorfig\"></div> -->\n",
    "<!-- begin figure -->\n",
    "<div id=\"fig:magneticfield-acceleratorfig\"></div>\n",
    "\n",
    "<p>The geometry of the accelerator.</p>\n",
    "<img src=\"fig-magneticfield/magneticfield-ex-accelerator.png\" width=600>\n",
    "\n",
    "<!-- end figure -->\n",
    "\n",
    "\n",
    "\n",
    "**a)**\n",
    "Each of the sections only rely on one of either the electric force or the magnetic force. Using your knowledge of the electromagnetic fields, which section do you think uses which field?\n",
    "\n",
    "<!-- --- begin hint in exercise --- -->\n",
    "\n",
    "**Hint.**\n",
    "Compare the vector-properties of Coulombs law and the Lorentz force (without $\\mathbf{E}$-field)\n",
    "\n",
    "<!-- --- end hint in exercise --- -->\n",
    "\n",
    "\n",
    "\n",
    "**b)**\n",
    "Write down the mathematical expressions of the force due to\n",
    "* an electric field $\\mathbf{E}$ on a particle with charge $q$.\n",
    "\n",
    "* a magnetic field $\\mathbf{B}$ on a particle with charge $q$ and velocity $\\mathbf{v}$\n",
    "\n",
    "\n",
    "**c)**\n",
    "Using a sophisticated numerical integration method (not forward-Euler), write a (vectorized!) program that calculates the change in velocity and position due to the electric force over a small time interval $dt$\n",
    "\n"
   ]
  },
  {
   "cell_type": "markdown",
   "metadata": {},
   "source": [
    "\n",
    "\n",
    "**d)**\n",
    "Between the linear sections the particle are in the curved sections where there is a magnetic field $\\mathbf{B}$. In order for the field to curve the path of the particle (lets assume it is of positive charge) in the wished direction, what is the direction of the magnetic field?\n",
    "\n",
    "<!-- --- begin hint in exercise --- -->\n",
    "\n",
    "**Hint.**\n",
    "Use the right-hand-rule\n",
    "\n",
    "<!-- --- end hint in exercise --- -->\n",
    "\n",
    "\n",
    "\n",
    "**e)**\n",
    "The curved sections of the accelerator are all quarts of a circle wtih radius $R$, and they are fitted with magnetic field generators that can vary its strength on command. How must we vary $\\mathbf{B}$ in order to assure $R$ is constant?\n",
    "\n",
    "<!-- --- begin hint in exercise --- -->\n",
    "\n",
    "**Hint.**\n",
    "If we wish for the particles to follow a perfect circular path in the curved sections, we must make sure that the magnetic force is a \\textit{centripetal force}. Any centripetal force $F$ on an object of mass $m$ moving in a circle of radius $R$ with constant rotational velocity $v$ obeys $F = m\\frac{v^2}{R}$.\n",
    "\n",
    "<!-- --- end hint in exercise --- -->\n",
    "\n",
    "\n",
    "\n",
    "\n",
    "**f)**\n",
    "Write a program that uses a numerical integration method (again, not forward-Euler) to find the change in position and velocity of a particle in a magnetic field, where the magnetic field is structured as discussed above.\n",
    "\n"
   ]
  },
  {
   "cell_type": "markdown",
   "metadata": {},
   "source": [
    "\n",
    "**g)**\n",
    "We will now do the actual simulation of the particles. Provided is the python-script `CODE.PY` which contains the skeleton of a script that lets us simulate the accelerator. Missing from the code are the sections that actually calculate the particle displacement due to electromagnetic forces. Your job is to use the code you previously wrote to complete the script and run several simulations.\n",
    "\n",
    "If you feel confident in your programming skills, it is highly recommended that you create your own simulator from scratch. The skeleton code is used as follows:"
   ]
  },
  {
   "cell_type": "code",
   "execution_count": 23,
   "metadata": {
    "collapsed": false
   },
   "outputs": [],
   "source": [
    "myAccelerator = Accelerator(L, E, R) # create the accelerator\n",
    "myAccelerator.particle(m, q) # add particle\n",
    "pos, vel = myAccelerator.run(dt, steps) # run the simulation"
   ]
  },
  {
   "cell_type": "markdown",
   "metadata": {},
   "source": [
    "(You are not expected to study or rigorously understand the provided script. If you successfully completed the previous programming exercises, all that should be left is transferring the code to the skeleton.)\n",
    "\n"
   ]
  },
  {
   "cell_type": "markdown",
   "metadata": {},
   "source": [
    "\n",
    "**h)**\n",
    "Run the simulation for a proton. Experiment with different field strengths and dimensions of the accelerator. Plot the path of the particle (animate it), as well as its speed against time. Explain the shape of the speed graph. Are the results as expected? (Please note that the time step $dt$ must be very small.)\n",
    "\n",
    "\n",
    "\n",
    "**i)**\n",
    "Is this simulation realistic? Are there factors we have forgot to take into account?\n",
    "\n",
    "\n",
    "\n",
    "\n",
    "<!-- --- end exercise --- -->\n",
    "\n",
    "\n",
    "# References"
   ]
  }
 ],
 "metadata": {},
 "nbformat": 4,
 "nbformat_minor": 2
}