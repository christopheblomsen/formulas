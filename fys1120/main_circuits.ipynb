{
 "cells": [
  {
   "cell_type": "markdown",
   "metadata": {},
   "source": [
    "<!-- dom:TITLE: Circuits -->\n",
    "# Circuits\n",
    "<!-- dom:AUTHOR: Anders Malthe-Sørenssen Email:malthe@fys.uio.no at Department of Physics, University of Oslo -->\n",
    "<!-- Author: -->  \n",
    "**Anders Malthe-Sørenssen** (email: `malthe@fys.uio.no`), Department of Physics, University of Oslo\n",
    "\n",
    "Date: **Sep 5, 2020**\n",
    "\n",
    "<!-- Externaldocuments: ../nickname1/main_nickname1, ../nickname2/main_nickname2 -->\n",
    "\n",
    "<!-- Common Mako variables and functions -->\n",
    "\n",
    "\n",
    "\n",
    "\n",
    "\n",
    "\n",
    "\n",
    "\n",
    "\n",
    "We now have all the components we need to start to describe and model systems as *circuits*. \n",
    "In this chapter we will introduce the concept of an electric circuit and develop the methods and tools needed to analyze, model and study electric circuits and the systems the are used to model. We will explain why charges are transported along a conductor, independently of its shape. We will introduce an efficient notation for various types of components such as (good) conductors (wires), resistors and capacitors. We will introduce and demonstrate Kirchoff's law of potentials and of currents and how they are used to describe circuits. Circuits can be used as simplified models for complex situation, and we will demonstrate how to simplify physical systems to simplified circuits. We will also introduce analytical and numerical methods to solve complex problems formulated as circuits --- allowing you to understand and explore more complex physical phenomena such as signal propagation along nerve cell membranes, eddy currents and flow in disordered materials.\n",
    "\n",
    "# Electric circuits\n",
    "\n",
    "Fig. [fig:circuits-conductors-011](#fig:circuits-conductors-011) illustrates a system with two ideal conductors at potentials $V_A$ and $V_B$. The left figure illustrates the resulting potential and electric field everywhere in space (found from Laplace's equation), when the system is in vacuum. We notice that the electric field points from $V_A$ to $V_B$, but the field has a complicated shape. What happens if we place a conductor with a conductivity $\\sigma$ into this system as illustrated by the gray region in the right figure? \n",
    "\n",
    "<!-- dom:FIGURE:[fig-circuits/circuits-conductors-011.png, width=600 frac=1.0] (Left) Illustration of a system with two ideal conductors in vacuum at potentials $V_A > V_B$ and the resulting electric field. (Right) Illustration of a system with two ideal conductors at potentials $V_A > V_B$ and a real conductor with conductivity $\\sigma$ (in gray) and the resulting current density $\\vec{J}$. <div id=\"fig:circuits-conductors-011\"></div> -->\n",
    "<!-- begin figure -->\n",
    "<div id=\"fig:circuits-conductors-011\"></div>\n",
    "\n",
    "<p>(Left) Illustration of a system with two ideal conductors in vacuum at potentials $V_A > V_B$ and the resulting electric field. (Right) Illustration of a system with two ideal conductors at potentials $V_A > V_B$ and a real conductor with conductivity $\\sigma$ (in gray) and the resulting current density $\\vec{J}$.</p>\n",
    "<img src=\"fig-circuits/circuits-conductors-011.png\" width=600>\n",
    "\n",
    "<!-- end figure -->\n",
    "\n",
    "\n",
    "We solved this problems previously and found that the current density $\\vec{J} = \\sigma \\vec{E}$ is parallel with the conductor as illustrated in the figure. The current density cannot have any component normal the to condutor, as this would indicate that charges are leaking from the conductor out into the vacuum outside. Therefore, the electric field also cannot have any component normal to the conductor. (In the figure on the right we have shown the current density for clarity. The electric field will generally not be zero outside the conductor, but it will only have a tangential component immediately outside the conductor).\n",
    "\n",
    "But why does the electric field change when the conductor is added? Immediately after the conductor is added to the system, we will expect the electric field to be as illustrated on the left. As a consequence, charges will also move in directions normal to the conductor. However, these charges will not move outside the conductor, but stop at the outer surface of the conductor. This will change the electric field inside the conductor, and this process will continue until the surface charge ensure that there is no electric field normal to the surface of the conductor. Then we will have reached the situation in the figure on the right. This process is very fast, and we can effectively think of it as immediate.\n",
    "\n",
    "A similar process occurs in a conductor that is curved. Fig. [fig:circuits-conductors-012](#fig:circuits-conductors-012) illustrates a conductor with a curve. When an electric potential difference is applied across the ends of this conductor, electric charges will pile up on the surface of the conductor until the electric field, and therefore also the current density, does not have a component normal to the surface of the conductor. The end result is that the electric field will point along the conductor as illustrated in the figure. Again, this process is effectively immediate. This means that we do not need to think about the shape of the conductor. The electric field and the current will follow whatever shape the conductor has. Typically, when we make a drawing of a system with a conducting wire we will not care too much about the shape of the wire, but instead draw the wire in a way that is practical.\n",
    "\n",
    "<!-- dom:FIGURE:[fig-circuits/circuits-conductors-012.png, width=600 frac=1.0] Illustration of curved conductor. The surface charge density will organize in such a way that the electric field does not have a component normal to the surface of the conductor. The electric field will therefore point along the conductor.  <div id=\"fig:circuits-conductors-012\"></div> -->\n",
    "<!-- begin figure -->\n",
    "<div id=\"fig:circuits-conductors-012\"></div>\n",
    "\n",
    "<p>Illustration of curved conductor. The surface charge density will organize in such a way that the electric field does not have a component normal to the surface of the conductor. The electric field will therefore point along the conductor.</p>\n",
    "<img src=\"fig-circuits/circuits-conductors-012.png\" width=600>\n",
    "\n",
    "<!-- end figure -->\n",
    "\n",
    "\n",
    "## Circuit diagrams\n",
    "\n",
    "\n",
    "<!-- What happens to the charges as they move from one side to another? Build up and cancel the electric field, or we need to move them to the other side. Battery or voltage source. Makes a loop. But increases the potential of the charge. Like a charge elevator. -->\n",
    "\n",
    "In Fig. [fig:circuits-diagram-015](#fig:circuits-diagram-015) we have illustrated a system that consists of a good conductor, a wire made of a metal such as copper, and a bad conductor, an isolator used to form a resistor. \n",
    "The top figure shows the real system and the bottom shows the model drawing called a *circuit diagram*. A circuit diagram has several elements that are models of the real system, in this case, ideal conductors drawn as lines and resistors drawn as rectangle. We realize that along the good conductor, the potential is essentially constant. This means that the shape or length of the ideal conductor does not matter. (At least not yet, it will matter later when we introduce inductance). We therefore often draw good conductors as straight lines. We need to remember that all points along these lines have the same potential. In the figure we have illustrated that the potential is the same in several places along the conductor illustrated with small circles.\n",
    "\n",
    "<!-- dom:FIGURE:[fig-circuits/circuits-diagram-015.png, width=600 frac=0.8] (Top) Illustration of a system consisting of a good (ideal) conductor connected to a cylindrical insulator. (Bottom) Model in the form of a circuit diagram. Thin lines show ideal conductors. All points along a thin line has the same potential. Arrows indicate the direction of the currents. <div id=\"fig:circuits-diagram-015\"></div> -->\n",
    "<!-- begin figure -->\n",
    "<div id=\"fig:circuits-diagram-015\"></div>\n",
    "\n",
    "<p>(Top) Illustration of a system consisting of a good (ideal) conductor connected to a cylindrical insulator. (Bottom) Model in the form of a circuit diagram. Thin lines show ideal conductors. All points along a thin line has the same potential. Arrows indicate the direction of the currents.</p>\n",
    "<img src=\"fig-circuits/circuits-diagram-015.png\" width=600>\n",
    "\n",
    "<!-- end figure -->\n",
    "\n",
    "\n",
    "## Drawing resistors\n",
    "\n",
    "The conductor consists of two parts: A good conductor (a copper wire) and a bad conductor (forming a resistor). We have drawn the good conductor as a thin line and we draw the bad conductor as a rectangle, which is still a conductor, but with much lower conductivity than the wire. Notice that the potential is not the same on each side of the resistor: There is a potential drop, $V = V_1 - V_0$, across the resistor. We characterize a resistor with a resistance $R$. (You know how to calculate the resistance if you know the shape of the resistor.) For a resistor we know that the voltage drop is related to the current through $V = R I$, where $V$ is the voltage drop across the resistor, $I$ the current through the resistor and $R$ is the resistance.\n",
    "\n",
    "We have now simplified the real system with an ideal system with two types of components: An ideal conductor drawn as a line and a resistor with resistances $R$ respectively. We will often also simplify a real conductor, with a finite conductivity in this way, as a wire that is effectively an ideal conductor with zero potential drop connected in series with a resistor that represents the potential drop in the wire.\n",
    "\n",
    "## Charge conservation and the water analogy\n",
    "\n",
    "Where do the charges go in the diagram in Fig. [fig:circuits-diagram-015](#fig:circuits-diagram-015)? In this case positive charges are transported from high potential $V_1$ to the lower potential $V_0$. If this was the complete circuit, we would expect charges to build up at $V_0$ and be removed at $V_1$, gradually resulting in an increase in the potential $V_0$ and a decrease in potential at $V_1$ until they are equal an no more current would flow.\n",
    "\n",
    "To keep the potential difference and to keep the current flowing, we insert an element in the circuit called a voltage source or a *battery*. (See the symbol used in the figure). We will not go into the detailed workings of a battery here, but will simply assume that the potential of a charge is increased as it passes through the battery. This is illustrated in Fig. [fig:circuits-diagram-030](#fig:circuits-diagram-030). Here, we have drawn the changes in the electric potential, which corresponds to the changes in the potential energy of a positive charge as it moves through the system. We may use a water analogy to guide our intuition about this system. When the charge moves along a wire, it does not change its potential. This is like a flat water channel. When the charge moves through a resistors, it decreasea its potential. This is like a water-fall. When the charge moves through a battery, it increases its potential. This is like an elevator: It lifts the water up.\n",
    "\n",
    "<!-- dom:FIGURE:[fig-circuits/circuits-diagram-030.png, width=600 frac=1.0] (Top) Plot of the potential as a function of position along the top part of the circuit. (Bottom) Circuit diagram for the circuit. Notice the new symbol for the battery. Thin lines show ideal conductors. All points along a thin line has the same potential. Arrows indicate the direction of the currents. <div id=\"fig:circuits-diagram-030\"></div> -->\n",
    "<!-- begin figure -->\n",
    "<div id=\"fig:circuits-diagram-030\"></div>\n",
    "\n",
    "<p>(Top) Plot of the potential as a function of position along the top part of the circuit. (Bottom) Circuit diagram for the circuit. Notice the new symbol for the battery. Thin lines show ideal conductors. All points along a thin line has the same potential. Arrows indicate the direction of the currents.</p>\n",
    "<img src=\"fig-circuits/circuits-diagram-030.png\" width=600>\n",
    "\n",
    "<!-- end figure -->\n",
    "\n",
    "\n",
    "### Circuits are loops\n",
    "\n",
    "Usually, we draw circuits as loops with batteries as voltage sources. A battery provides a particular voltage difference, and this drives the current in the circuit. We draw circuits as loops, inducating that the current does not disappear, but moves along the various components in the circuit. For the simple diagram illustrated in Fig. [fig:circuits-diagram-030](#fig:circuits-diagram-030) the current is the same in any cross section along the circuit.\n",
    "\n",
    "## Loops and Kirchoff's voltage law\n",
    "\n",
    "How does the electric potential vary along a loop such as the whole or a part of a circuit? We recall that we previously found what we called Kirchoff's voltage law:"
   ]
  },
  {
   "cell_type": "markdown",
   "metadata": {},
   "source": [
    "<!-- Equation labels as ordinary links -->\n",
    "<div id=\"_auto1\"></div>\n",
    "\n",
    "$$\n",
    "\\begin{equation}\n",
    "\\oint_C \\vec{E} \\cdot \\mathrm{d} \\vec{l} = 0 \\; ,\n",
    "\\label{_auto1} \\tag{1}\n",
    "\\end{equation}\n",
    "$$"
   ]
  },
  {
   "cell_type": "markdown",
   "metadata": {},
   "source": [
    "for any closed loop $C$. (We will modify this law later in electrodynamics). But this integral is really the change electric potential around a loop. In Fig. [fig:circuits-diagram-050](#fig:circuits-diagram-050) we illustrate a loop divided into segments and potential drops $\\Delta V_i = V_{i+1}  - V_i$ along the segments. Kirchoff's voltage law for this circuit is then"
   ]
  },
  {
   "cell_type": "markdown",
   "metadata": {},
   "source": [
    "<!-- Equation labels as ordinary links -->\n",
    "<div id=\"_auto2\"></div>\n",
    "\n",
    "$$\n",
    "\\begin{equation}\n",
    "\\sum_{i=1}^{n} \\Delta V_i = 0 \\; ,\n",
    "\\label{_auto2} \\tag{2}\n",
    "\\end{equation}\n",
    "$$"
   ]
  },
  {
   "cell_type": "markdown",
   "metadata": {},
   "source": [
    "where $\\Delta V_n = V_n - V_1$. Notice that for a resistor $R$ we have a voltage *drop*, $V = RI$, whereas for a battery we have a voltage *gain*, $\\epsilon$, which is a property of the battery.\n",
    "\n",
    "Notice also that Kirchoff's law is valid for *any closed circuit* or any *part of a closed circuit*. For example, it is valid along the circuits $C_1$, $C_2$ and $C_3$ illustrated in Fig. [fig:circuits-diagram-050](#fig:circuits-diagram-050). Notice that the orientation of the loop can be in the positive direction ($C_1$) or in the negative direction ($C_2$). You are free to choose what suits you best. However, for loop $C_3$ you must ensure that there is a voltage drop over the top resistor but a voltage increase over the bottom resistor. We have voltage drops when we pass a resistor in the positive direction of the current and a voltage gain when we pass in the direction opposite the positive direction of the current. We therefore discuss the direction of the current in more detail below.\n",
    "\n",
    "<!-- dom:FIGURE:[fig-circuits/circuits-diagram-050.png, width=600 frac=1.0] (a) Illustration of a loop with vertices $i$, voltages $V_i$ and voltage drops $\\Delta V_i = V_{i+1} - V_i$. (b) Illustration of three loops $C_1$, $C_2$ and $C_3$ in a circuit. (c) Simple circuit with a single loop $C$. <div id=\"fig:circuits-diagram-050\"></div> -->\n",
    "<!-- begin figure -->\n",
    "<div id=\"fig:circuits-diagram-050\"></div>\n",
    "\n",
    "<p>(a) Illustration of a loop with vertices $i$, voltages $V_i$ and voltage drops $\\Delta V_i = V_{i+1} - V_i$. (b) Illustration of three loops $C_1$, $C_2$ and $C_3$ in a circuit. (c) Simple circuit with a single loop $C$.</p>\n",
    "<img src=\"fig-circuits/circuits-diagram-050.png\" width=600>\n",
    "\n",
    "<!-- end figure -->\n",
    "\n",
    "\n",
    "**Kirchoff's voltage law.**\n",
    "\n",
    "Kirchoff's voltage law states that the sum of potential drops around any closed circuit (loop) is zero:"
   ]
  },
  {
   "cell_type": "markdown",
   "metadata": {},
   "source": [
    "<!-- Equation labels as ordinary links -->\n",
    "<div id=\"_auto3\"></div>\n",
    "\n",
    "$$\n",
    "\\begin{equation}\n",
    "\\sum_i \\Delta V_i = 0 \\; ,\n",
    "\\label{_auto3} \\tag{3}\n",
    "\\end{equation}\n",
    "$$"
   ]
  },
  {
   "cell_type": "markdown",
   "metadata": {},
   "source": [
    "which follows from $\\oint_C \\vec{E} \\cdot \\mathrm{d} \\vec{l} = 0$ for any loop $C$. Notice that across a component there is a voltage drop in the positive direction of the current and a voltage gain in the direction opposite the current.\n",
    "\n",
    "\n",
    "\n",
    "## Example: Applying Kirchoff's voltage law\n",
    "\n",
    "Let us apply Kirchoff's voltage law to the circuit in Fig. [fig:circuits-diagram-050](#fig:circuits-diagram-050)c. We choose the loop $C$ shown in the figure. Along the loop there are two changes in voltage: across the resistor and across the battery. For the resistor the voltage change is $V_{2 \\rightarrow 1} = - RI$. Notice that this is a voltage drop. The potential $V_1$ is smaller than the potential at $V_2$. For the battery the voltage change is $V_{1 \\rightarrow 2} = e$, which is the voltage delivered by the battery. Kirchoff's voltage law gives:"
   ]
  },
  {
   "cell_type": "markdown",
   "metadata": {},
   "source": [
    "<!-- Equation labels as ordinary links -->\n",
    "<div id=\"_auto4\"></div>\n",
    "\n",
    "$$\n",
    "\\begin{equation}\n",
    "\\sum_i \\Delta V_i = -RI + e = 0 \\quad \\Rightarrow \\quad I = e/V \\; .\n",
    "\\label{_auto4} \\tag{4}\n",
    "\\end{equation}\n",
    "$$"
   ]
  },
  {
   "cell_type": "markdown",
   "metadata": {},
   "source": [
    "We can therefore determine the current, given $R$ and the voltage delivered by the battery.\n",
    "\n",
    "## Drawing directions for the currents\n",
    "\n",
    "The way the conductors are connected provides additional information. In Fig. [fig:circuits-diagram-050](#fig:circuits-diagram-050) the current $I$ is flowing along the left conductor and through the battery. However, in the middle the conductors split. Intuitively, we understand that the current $I$ is split into the currents $I_A$ and $I_B$ so that the current is conserved --- just like current in a river or a garden hose.\n",
    "\n",
    "We can analyze the junction using Kirchoff's current law: $\\sum_i I_i = 0$, but then we need to be careful with the direction of the currents and the signs used: All the currents $I_i$ must either be into the junction or out of the junction. The positive directions are drawn with arrows in the figure. Kirchoff's current law applied to the currents flowing out of the left junction is:"
   ]
  },
  {
   "cell_type": "markdown",
   "metadata": {},
   "source": [
    "<!-- Equation labels as ordinary links -->\n",
    "<div id=\"_auto5\"></div>\n",
    "\n",
    "$$\n",
    "\\begin{equation}\n",
    "\\sum_i I_i = (-I) + I_A + I_B = 0 \\; ,\n",
    "\\label{_auto5} \\tag{5}\n",
    "\\end{equation}\n",
    "$$"
   ]
  },
  {
   "cell_type": "markdown",
   "metadata": {},
   "source": [
    "where $I$ is the current flowing into the junction from the left and therefore $(-I)$ is the current flowing out of the junction to the left.\n",
    "\n",
    "**Kirchoff's current law for circuits.**\n",
    "\n",
    "For any junction in a circuit Kirchoff's current law applies:"
   ]
  },
  {
   "cell_type": "markdown",
   "metadata": {},
   "source": [
    "<!-- Equation labels as ordinary links -->\n",
    "<div id=\"_auto6\"></div>\n",
    "\n",
    "$$\n",
    "\\begin{equation}\n",
    "\\sum_i I_i = 0\n",
    "\\label{_auto6} \\tag{6}\n",
    "\\end{equation}\n",
    "$$"
   ]
  },
  {
   "cell_type": "markdown",
   "metadata": {},
   "source": [
    "where all the currents $I_i$ must flow either into the juction or out of the junction.\n",
    "\n",
    "\n",
    "\n",
    "## Example: Currents and voltage drops\n",
    "\n",
    "We combine Kirchoff's voltage law and Kirchoff's current law to find the currents and voltage drops in the circuit illustrated in Fig. [fig:circuits-diagram-050](#fig:circuits-diagram-050)b. We recall that the lines indicate ideal conductors. All points along a line has the same potential. The potential is illustrated by the color of the dots at the junctions. There are only two potentials $V_1$ and $V_0$ in this system with a voltage difference $V = V_1 - V_0 = e$, which is the voltage delievered by the battery.\n",
    "\n",
    "If we apply Kirchoff's voltage law to the loop $C_1$ we see that the voltage drop across resistor $R_B$, $-I_B R_B$, and the voltage increase $e$ across the battery sums to zero: $\\sum_i \\Delta V_i = -I_B R_B + e = 0$, and we find $I_B = e/R_B$.\n",
    "\n",
    "If we apply Kirchoff's voltage law to the loop $C_2$, we see that the direction of the loop is opposite the direction of the currents, so that the voltage change over that battery is $-e$ and the voltage change over resistor $R_A$ is $R_A I_A$ so that $\\sum_i \\Delta V_i = -e + I_A R_A = 0$ and $I_B = e/R_A$.\n",
    "\n",
    "We can then apply Kirchoff's current law to any of the junctions. We use the currents flowing out of the left junction. The two currents $I_A$ and $I_B$ are flowing out of this junction and the current $-I$ is also flowing out of this junction (since $I$ is flowing into the junction). Kirchoff's current law therefore gives $\\sum_i I_i = -I + I_A + I_B = 0$ and $I = I_A + I_B$, which indeed corresponds to our intuitive understanding: The current $I$ flowing into the junction must equal the currents $I_A$ and $I_B$ flowing out of the junction to converve currents.\n",
    "\n",
    "Instead of applying Kirchoff's voltage law to loop $C_2$ We could also have applied Kirchoff's law to the loop $C_3$: $\\sum_i \\Delta V_i = -I_A R_A + I_B R_B = 0$. Notice that the voltage drop across $R_B$ is positive, because the direction of the loop is in the opposite direction to the direction of the current $I_B$. However, this gives us a relation between $I_A$ and $I_B$, which must be combined with two other equations to find the three unknowns $I$, $I_A$, $I_B$.\n",
    "\n",
    "### Circuits and systems of linear equations\n",
    "\n",
    "The system described in Fig. [fig:circuits-diagram-050](#fig:circuits-diagram-050)b has three unknowns, $I$, $I_A$ and $I_B$. In general, we can think of circuits as setting up systems of linear equations. (Sometimes systems of linear differential equations, as we will soon see). We then need a number of linearly indepedent equations to find the unknowns, and we find these equations from Kirchoff's laws and the definitions of voltage drops across resistors ($\\Delta V = I R$) and other components. For the system in Fig. [fig:circuits-diagram-050](#fig:circuits-diagram-050)b we may get five equations: one for the application of Kirchoff's voltage law for each of the three loops, and two from the application of Kirchoff's current law for each of the two junctions. These equations will not be linearly independent: Kirchoff'c current law for the two junctions will be the same, and there are only two independent equations from the three loops. However, for more complicated circuits, it may be difficult to recognize which laws give independent equations. You should then instead use standard procedures from linear algebra. For example, you can find all the relevant equations, and then reduce them to only the linearly independent ones using numerical or symbolic methods. (We demonstrate this in the exercises.)\n",
    "\n",
    "### Comparing with known results\n",
    "\n",
    "For this particular problem we found that the total current was:"
   ]
  },
  {
   "cell_type": "markdown",
   "metadata": {},
   "source": [
    "<!-- Equation labels as ordinary links -->\n",
    "<div id=\"_auto7\"></div>\n",
    "\n",
    "$$\n",
    "\\begin{equation}\n",
    "I = I_A + I_B = \\frac{V}{R_A} + \\frac{V}{R_B} = \\left( \\frac{1}{R_A} + \\frac{1}{R_B} \\right) V \\; .\n",
    "\\label{_auto7} \\tag{7}\n",
    "\\end{equation}\n",
    "$$"
   ]
  },
  {
   "cell_type": "markdown",
   "metadata": {},
   "source": [
    "From this we also see that we can replace the two resistors in parallel with a single resistor with resistance $R = (1/R_A + 1/R_B)$. This is the rule for combining resistors in parallel, which we found above. Sometimes we simplify problems be replacing complex resistors with simplified resistors, using the rules for combining resitors. This may provide you with better insight and oversight of the problem you are solving.\n",
    "\n",
    "## Example: Circuit analysis\n",
    "\n",
    "We can now use these tools to study the circuits in Fig. [fig:circuits-diagram-070](#fig:circuits-diagram-070). For these systems, the battery voltage and the resistances of the resistors are given. This is a situation that corresponds to a typical physical situation, where we have a circuit and want to figure out what happens. What happens here means to find out what currents are flowing, the potential drops across the various components, and the power consumption of each component and the total circuit.\n",
    "\n",
    "<!-- dom:FIGURE:[fig-circuits/circuits-diagram-070.png, width=600 frac=1.0] Illustration of three circuits. <div id=\"fig:circuits-diagram-070\"></div> -->\n",
    "<!-- begin figure -->\n",
    "<div id=\"fig:circuits-diagram-070\"></div>\n",
    "\n",
    "<p>Illustration of three circuits.</p>\n",
    "<img src=\"fig-circuits/circuits-diagram-070.png\" width=600>\n",
    "\n",
    "<!-- end figure -->\n",
    "\n",
    "\n",
    "### Circuit a\n",
    "\n",
    "In circuit a there are three unknown currents, $I$, $I_A$ and $I_B$. Kirchoff's current law for the currents flowing out of junction $1$ gives us"
   ]
  },
  {
   "cell_type": "markdown",
   "metadata": {},
   "source": [
    "<!-- Equation labels as ordinary links -->\n",
    "<div id=\"eq:circuits-diagram-071\"></div>\n",
    "\n",
    "$$\n",
    "\\begin{equation}\n",
    "\\sum_i I_i = -I + I_1 + I_2\n",
    "\\label{eq:circuits-diagram-071} \\tag{8}\n",
    "\\end{equation}\n",
    "$$"
   ]
  },
  {
   "cell_type": "markdown",
   "metadata": {},
   "source": [
    "We apply Kirchoff's voltage law to loop $C_1$:"
   ]
  },
  {
   "cell_type": "markdown",
   "metadata": {},
   "source": [
    "<!-- Equation labels as ordinary links -->\n",
    "<div id=\"eq:circuits-diagram-072\"></div>\n",
    "\n",
    "$$\n",
    "\\begin{equation}\n",
    "\\sum_i \\Delta V_i = e - R_2 I_2 = 0 \n",
    "\\label{eq:circuits-diagram-072} \\tag{9}\n",
    "\\end{equation}\n",
    "$$"
   ]
  },
  {
   "cell_type": "markdown",
   "metadata": {},
   "source": [
    "and similarly for loop $C_2$:"
   ]
  },
  {
   "cell_type": "markdown",
   "metadata": {},
   "source": [
    "<!-- Equation labels as ordinary links -->\n",
    "<div id=\"eq:circuits-diagram-073\"></div>\n",
    "\n",
    "$$\n",
    "\\begin{equation}\n",
    "\\sum_i \\Delta V_i = -I_1 R_1 - I_1 R_3 + I_2 R_2 = 0 \\; ,\n",
    "\\label{eq:circuits-diagram-073} \\tag{10}\n",
    "\\end{equation}\n",
    "$$"
   ]
  },
  {
   "cell_type": "markdown",
   "metadata": {},
   "source": [
    "This gives us three equations with three unknowns, which can be solved by linear algebra. Here, we see that $I = I_1 + I_2$ from ([8](#eq:circuits-diagram-071)), $I_2 = e/R_2$ from ([9](#eq:circuits-diagram-072)), and that"
   ]
  },
  {
   "cell_type": "markdown",
   "metadata": {},
   "source": [
    "<!-- Equation labels as ordinary links -->\n",
    "<div id=\"_auto8\"></div>\n",
    "\n",
    "$$\n",
    "\\begin{equation}\n",
    "I_1 = \\frac{R_2}{R_1 + R_3} I_2 = \\frac{R_2}{R_1 + R_3} \\frac{e}{R_2} =  \\frac{e}{R_1 + R_3} \\; ,\n",
    "\\label{_auto8} \\tag{11}\n",
    "\\end{equation}\n",
    "$$"
   ]
  },
  {
   "cell_type": "markdown",
   "metadata": {},
   "source": [
    "which we also could have seen by using a different loop through $R_1$, $R_3$ and the battery.\n",
    "\n",
    "### Circuit b\n",
    "\n",
    "Circuit b can be solved using the same approach as for circuit b. Try to redo the arguments and find the resulting currents yourself.\n",
    "\n",
    "### Circuit c\n",
    "\n",
    "What happens if we replace resistor $R_2$ with a wire? This corresponds to *short-circuiting* the circuit. Because we have introduced a wire without any resitance, we know that points $A$ and $B$ will have the same potential. This means that there will not be any current through resistors $R_1$ and $R_3$, because the current will go through the resistanceless wire from $A$ to $B$ instead. Beware such short circuits in your analysis as they may lead to problems.\n",
    "\n",
    "\n",
    "\n",
    "## Power\n",
    "\n",
    "We know that the current is not \"used up\" throughout a circuit. Indeed, the current is conserved because charges are conserved. In the circuit in Fig. [fig:circuits-diagram-050](#fig:circuits-diagram-050)c the current is the same everywhere, but the voltage drops across the resistor. This means that there is a work done on a charge to move it from one side of the resistor to the other, and the resitors heats up as a result. The energy for this work is delivered by the battery. We recall that the power consumption in a resistor is"
   ]
  },
  {
   "cell_type": "markdown",
   "metadata": {},
   "source": [
    "<!-- Equation labels as ordinary links -->\n",
    "<div id=\"_auto9\"></div>\n",
    "\n",
    "$$\n",
    "\\begin{equation}\n",
    "P = V I = R I^2 = \\frac{V^2}{R} \\; .\n",
    "\\label{_auto9} \\tag{12}\n",
    "\\end{equation}\n",
    "$$"
   ]
  },
  {
   "cell_type": "markdown",
   "metadata": {},
   "source": [
    "We could therefore say that energy is used up, or converted from chemical energy in the battery to thermal energy, in the circuit. In physics we prefer not to use the word used up, in particular about energy, as energy conservation is one of the most fundamental laws of physics, and energy only passes from one form to another. We therefore say that energy is dissipated in the system. You will return to these questions when you study thermal and statistical physics.\n",
    "\n",
    "# Circuits with capacitors\n",
    "\n",
    "So far we have only included resistors in our circuits, but we have also studied another component: the capacitor. How do we describe capacitors in circuits and how do circuits with capacitors behave?\n",
    "\n",
    "### A capacitor stores charge\n",
    "\n",
    "We recall that a capacitor can function as a storage device for charge. A capacitor has a properties, capacitance, $C$, which relates the voltage across the capacitor and the charge stored in a capacitor"
   ]
  },
  {
   "cell_type": "markdown",
   "metadata": {},
   "source": [
    "<!-- Equation labels as ordinary links -->\n",
    "<div id=\"_auto10\"></div>\n",
    "\n",
    "$$\n",
    "\\begin{equation}\n",
    "C = \\frac{Q}{V} \\; .\n",
    "\\label{_auto10} \\tag{13}\n",
    "\\end{equation}\n",
    "$$"
   ]
  },
  {
   "cell_type": "markdown",
   "metadata": {},
   "source": [
    "A capacitor typically consists of two conductors (for example two parallel plates) as illustrated in Fig. [fig:circuits-capacitor-010](#fig:circuits-capacitor-010). When a capacitor is charged with a charge $Q$ it has a charge $+Q$ on one of the plates and a charge $-Q$ on the other plate. The two plates are not in contact, so no charge is flowing from one plate to another across the gap between the plates. When the capacitor is charged with a charge $Q$, the side with a charge $+Q$ has a potential $V_1$ and the side with charge $-Q$ has a potential $V_0$ so that the potential difference, $V = V_1 - V_0$ is $V = C Q$.\n",
    "\n",
    "<!-- dom:FIGURE:[fig-circuits/circuits-capacitor-010.png, width=600 frac=1.0] (a) Illustration of a real capacitor with a streamplot of the electric field. (b) Model illustration of a capacitor used in a circuit diagram. <div id=\"fig:circuits-capacitor-010\"></div> -->\n",
    "<!-- begin figure -->\n",
    "<div id=\"fig:circuits-capacitor-010\"></div>\n",
    "\n",
    "<p>(a) Illustration of a real capacitor with a streamplot of the electric field. (b) Model illustration of a capacitor used in a circuit diagram.</p>\n",
    "<img src=\"fig-circuits/circuits-capacitor-010.png\" width=600>\n",
    "\n",
    "<!-- end figure -->\n",
    "\n",
    "\n",
    "### Circuit with capacitor\n",
    "\n",
    "In Fig. [fig:circuits-capacitor-010](#fig:circuits-capacitor-010) we have illustrated the real system consisting of two conductors with an electric field between them on the left and a simplified illustration of the system on the right. In the model we draw the capacitor as two parallel plates independently of how the real capacitor looks like, just like we draw a resistor as a rectangle indepedently of the real shape of the resistor. This is the symbol we use in a circuit diagram to indicate a capacitor. The capacitor then only has the properties described by the model, that the voltage across the capacitor is $V = CQ$ given the charge $Q$ or that the charge $Q = (1/C) V$ given the voltage $V$. The voltage is higher on the $+Q$ side, implying that there is a *voltage drop* of $V = CQ$ from the $+Q$ side to the $-Q$ side across the capacitor.\n",
    "\n",
    "### Switch is open\n",
    "\n",
    "Fig. [fig:circuits-capacitor-020](#fig:circuits-capacitor-020)a illustrates a simple system consisting of a capacitor with capacitance $C$, a resistor with resistance $R$, a switch and a wire. Rememeber that all point along the wire has the same potential. When the switch is open, so that circuit is not connected, no current can flow in the wire. Let us assume that there is an initial charge $Q$ on the capacitor. When the switch is open, there will not by any flow of current. Therefore, there will not be any potential drop across the resistor and $V_2 = V_0$. What happens when we close the switch and circuit becomes connected?\n",
    "\n",
    "\n",
    "\n",
    "<!-- dom:FIGURE:[fig-circuits/circuits-capacitor-020.png, width=600 frac=1.0] (a) Illustration of circuit with capacitor $C$, resistor $R$ and a switch. (b) Illustration of circuit with capacitor $C$, resistor $R$, battery $e$ and a switch. <div id=\"fig:circuits-capacitor-020\"></div> -->\n",
    "<!-- begin figure -->\n",
    "<div id=\"fig:circuits-capacitor-020\"></div>\n",
    "\n",
    "<p>(a) Illustration of circuit with capacitor $C$, resistor $R$ and a switch. (b) Illustration of circuit with capacitor $C$, resistor $R$, battery $e$ and a switch.</p>\n",
    "<img src=\"fig-circuits/circuits-capacitor-020.png\" width=600>\n",
    "\n",
    "<!-- end figure -->\n",
    "\n",
    "\n",
    "### Switch is closed\n",
    "\n",
    "When the switch is closed there is a wire from point $0$ to $2$ so these will have the same potential $V_2 = V_0$. There is a potential difference across the capacitor $V = V_1 - V_0 = (1/C) \\, Q$, and there is a potential difference across the resistor $V_1 - V_0 = R I$. Kirchoff's voltage law along the loop $C_1$ therefore gives"
   ]
  },
  {
   "cell_type": "markdown",
   "metadata": {},
   "source": [
    "<!-- Equation labels as ordinary links -->\n",
    "<div id=\"_auto11\"></div>\n",
    "\n",
    "$$\n",
    "\\begin{equation}\n",
    "-R I - \\frac{1}{C}Q = 0\n",
    "\\label{_auto11} \\tag{14}\n",
    "\\end{equation}\n",
    "$$"
   ]
  },
  {
   "cell_type": "markdown",
   "metadata": {},
   "source": [
    "Notice that there is a *voltage drop* of $-IR$ over the resistor in the direction of the current, but that there is a *voltage gain* of $V = (1/C)\\, Q$ over the capacitor because the voltage is higher on the $+Q$ side than on the $-Q$ side.\n",
    "\n",
    "### Current and charge in the circuit\n",
    "\n",
    "But how are $Q$ and $I$ related? We recall that the current is the rate of change of the charge. There is a positive current $I$ when the charge $Q$ at the capacitor is flowing out of the capacitor into the conductor. Therefore, $I = -\\mathrm{d} Q / \\mathrm{d} t$. We therefore get:"
   ]
  },
  {
   "cell_type": "markdown",
   "metadata": {},
   "source": [
    "<!-- Equation labels as ordinary links -->\n",
    "<div id=\"_auto12\"></div>\n",
    "\n",
    "$$\n",
    "\\begin{equation}\n",
    "R \\frac{\\mathrm{d} Q}{\\mathrm{d} t} + \\frac{1}{C}Q = 0 \\; ,\n",
    "\\label{_auto12} \\tag{15}\n",
    "\\end{equation}\n",
    "$$"
   ]
  },
  {
   "cell_type": "markdown",
   "metadata": {},
   "source": [
    "which can be rewritten as"
   ]
  },
  {
   "cell_type": "markdown",
   "metadata": {},
   "source": [
    "<!-- Equation labels as ordinary links -->\n",
    "<div id=\"eq:circuits-capacitor-020\"></div>\n",
    "\n",
    "$$\n",
    "\\begin{equation}\n",
    "\\frac{\\mathrm{d} Q}{\\mathrm{d} t} = -\\frac{1}{RC}Q \\; .\n",
    "\\label{eq:circuits-capacitor-020} \\tag{16}\n",
    "\\end{equation}\n",
    "$$"
   ]
  },
  {
   "cell_type": "markdown",
   "metadata": {},
   "source": [
    "Instead of a linear equation to find the current from the resistances, as we got for a circuit with only resistors, we now have a linear differential equation for the charge $Q$ on the capacitor. When we have solved this equation, we can find the current by taking the time derivative $I = \\mathrm{d} Q/\\mathrm{d} t$. To solve the differential equation we also need the initial condition. We need to know what the charge $Q$ of the capacitor is at a time $t = t_0$. Let us assume that the initial charge is $Q(t) = Q_0$ at $t = 0$. We recognize the differential equation, and that its solution is an exponential function of the form"
   ]
  },
  {
   "cell_type": "markdown",
   "metadata": {},
   "source": [
    "<!-- Equation labels as ordinary links -->\n",
    "<div id=\"_auto13\"></div>\n",
    "\n",
    "$$\n",
    "\\begin{equation}\n",
    "Q(t) = A e^{-t/(RC)} \\; ,\n",
    "\\label{_auto13} \\tag{17}\n",
    "\\end{equation}\n",
    "$$"
   ]
  },
  {
   "cell_type": "markdown",
   "metadata": {},
   "source": [
    "where $\\tau = RC$ is a characteristic time. We see that $Q(0) = Q_0$ gives that $A = 0$. You should convince yourself that this is a solution to the differential equation by inserting the solution in ([16](#eq:circuits-capacitor-020)). The charge in the system is therefore $Q(t) = Q_0 e^{-t/\\tau}$ and the current is $I = \\mathrm{d} Q / \\mathrm{d} t = -Q_0/\\tau e^{-t/\\tau}$.\n",
    "\n",
    "### Behavior a long time\n",
    "\n",
    "What happens after a long time? As time increases, the charge and the current will decay, effectively reaching zero after a long time. The characteristic time $\\tau$ only depends on the properties of the circuit, the resistance $R$ and the capacitance $C$, and not on the initial charge $Q_0$ on the capacitor.\n",
    "\n",
    "### Adding a battery\n",
    "\n",
    "What happens if we add a battery with voltage $e$ to the system as illustrated in Fig. [fig:circuits-capacitor-020](#fig:circuits-capacitor-020)b? Assume that the initial charge is $Q(t=0) = 0$ and redo the calculation for a system with a battery. What is the charge and current in the system after an infinite time?\n",
    "\n",
    "\n",
    "\n",
    "We apply Kirchoff's voltage law to the loop $C_1$"
   ]
  },
  {
   "cell_type": "markdown",
   "metadata": {},
   "source": [
    "<!-- Equation labels as ordinary links -->\n",
    "<div id=\"_auto14\"></div>\n",
    "\n",
    "$$\n",
    "\\begin{equation}\n",
    "e + V - IR = 0 \n",
    "\\label{_auto14} \\tag{18}\n",
    "\\end{equation}\n",
    "$$"
   ]
  },
  {
   "cell_type": "markdown",
   "metadata": {},
   "source": [
    "where $V = (1/C)Q$ and $I = -\\mathrm{d} Q / \\mathrm{d} t$ as above. We can now decide to solve the problem either in terms of $Q(t)$ or in terms of $V(t) = (1/C)Q(t)$. (If we solve for $V(t)$ we need to use that $Q(t) = C V(t)$ and that $I = -\\mathrm{d} Q / \\mathrm{d} t = -C \\mathrm{d} V/\\mathrm{d} t$). The differential equation in $Q$ is:"
   ]
  },
  {
   "cell_type": "markdown",
   "metadata": {},
   "source": [
    "<!-- Equation labels as ordinary links -->\n",
    "<div id=\"_auto15\"></div>\n",
    "\n",
    "$$\n",
    "\\begin{equation}\n",
    "e + \\frac{1}{C}Q + \\frac{\\mathrm{d} Q}{\\mathrm{d} t}R = 0 \\, \n",
    "\\label{_auto15} \\tag{19}\n",
    "\\end{equation}\n",
    "$$"
   ]
  },
  {
   "cell_type": "markdown",
   "metadata": {},
   "source": [
    "and"
   ]
  },
  {
   "cell_type": "markdown",
   "metadata": {},
   "source": [
    "<!-- Equation labels as ordinary links -->\n",
    "<div id=\"_auto16\"></div>\n",
    "\n",
    "$$\n",
    "\\begin{equation}\n",
    "\\frac{\\mathrm{d} Q}{\\mathrm{d} t}= -\\frac{e}{R} - \\frac{1}{RC}Q \n",
    "\\label{_auto16} \\tag{20}\n",
    "\\end{equation}\n",
    "$$"
   ]
  },
  {
   "cell_type": "markdown",
   "metadata": {},
   "source": [
    "We solve this equation by first finding the homogeneous solution, when $e = 0$, which we found above, and then adding a constant to find the particular solution:"
   ]
  },
  {
   "cell_type": "markdown",
   "metadata": {},
   "source": [
    "<!-- Equation labels as ordinary links -->\n",
    "<div id=\"_auto17\"></div>\n",
    "\n",
    "$$\n",
    "\\begin{equation}\n",
    "Q(t) = A + B e^{-t/\\tau} \\; ,\n",
    "\\label{_auto17} \\tag{21}\n",
    "\\end{equation}\n",
    "$$"
   ]
  },
  {
   "cell_type": "markdown",
   "metadata": {},
   "source": [
    "where we know that $Q(0) = 0$, which gives $A = - B$ so that $Q(t) = A(1-e^{-t/\\tau})$. We also know that $\\mathrm{d} Q/\\mathrm{d} t$ at $t = 0$ is $-e/R$, giving that"
   ]
  },
  {
   "cell_type": "markdown",
   "metadata": {},
   "source": [
    "<!-- Equation labels as ordinary links -->\n",
    "<div id=\"_auto18\"></div>\n",
    "\n",
    "$$\n",
    "\\begin{equation}\n",
    "\\frac{A}{\\tau}e^{-0/\\tau} = - \\frac{e}{R} \\quad \\Rightarrow \\quad A = - \\frac{e \\tau}{R} \\; .\n",
    "\\label{_auto18} \\tag{22}\n",
    "\\end{equation}\n",
    "$$"
   ]
  },
  {
   "cell_type": "markdown",
   "metadata": {},
   "source": [
    "and therefore"
   ]
  },
  {
   "cell_type": "markdown",
   "metadata": {},
   "source": [
    "<!-- Equation labels as ordinary links -->\n",
    "<div id=\"_auto19\"></div>\n",
    "\n",
    "$$\n",
    "\\begin{equation}\n",
    "Q(t) = -\\frac{e \\tau}{R} \\left( 1 - e^{-t/\\tau} \\right) \\; .\n",
    "\\label{_auto19} \\tag{23}\n",
    "\\end{equation}\n",
    "$$"
   ]
  },
  {
   "cell_type": "markdown",
   "metadata": {},
   "source": [
    "Hmmm. Why did we get a negative charge on the capacitor? We need to look back on the figure. We notice that after a long time, we expect that the potential on the top of the battery and on the top of the capacitor must be the same, $e$, and on the bottom of both the battery and the capacitor the potential is zero. However, we have assumed that the charge is positive on the bottom of the capacitor and negative on the top, but our calculate shows that the result is the opposite.\n",
    "\n",
    "If you like, you could instead express the result in terms of the potential drop $V$ across the capacitor, $V = - (1/C) Q$:"
   ]
  },
  {
   "cell_type": "markdown",
   "metadata": {},
   "source": [
    "<!-- Equation labels as ordinary links -->\n",
    "<div id=\"_auto20\"></div>\n",
    "\n",
    "$$\n",
    "\\begin{equation}\n",
    "V(t) = - \\frac{1}{C}Q = e \\left( 1 - e^{-t/\\tau} \\right) \\; .\n",
    "\\label{_auto20} \\tag{24}\n",
    "\\end{equation}\n",
    "$$"
   ]
  },
  {
   "cell_type": "markdown",
   "metadata": {},
   "source": [
    "This shows that at $t = 0$, when the switch is closed, there is no charge and therefore no voltage drop across the capacitor. And after inifinte time the potential drop across the capacitor is the same as the potential gain over the battery, since the current has then decayed to zero as illustrated in Fig. [fig:circuits-capacitor-030](#fig:circuits-capacitor-030)\n",
    "\n",
    "<!-- dom:FIGURE:[fig-circuits/circuits-capacitor-030.png, width=600 frac=1.0] Plot of the voltage $V(t)$ across the capacitor and the current $I$ through the system as a function of time $t$ for a system with a battery $e$, a capacitor $C$ and a resistor $R$ connected in series. <div id=\"fig:circuits-capacitor-030\"></div> -->\n",
    "<!-- begin figure -->\n",
    "<div id=\"fig:circuits-capacitor-030\"></div>\n",
    "\n",
    "<p>Plot of the voltage $V(t)$ across the capacitor and the current $I$ through the system as a function of time $t$ for a system with a battery $e$, a capacitor $C$ and a resistor $R$ connected in series.</p>\n",
    "<img src=\"fig-circuits/circuits-capacitor-030.png\" width=600>\n",
    "\n",
    "<!-- end figure -->\n",
    "\n",
    "\n",
    "\n",
    "\n",
    "\n",
    "## Components\n",
    "\n",
    "We have now introduced several components to describe circuits as illustrated in Fig. [fig:circuits-symbols-010](#fig:circuits-symbols-010).\n",
    "\n",
    "* **Wire**: We draw wire or conductors as lines. We assume that the conductor is ideal and that all points along the line has the same potential.\n",
    "\n",
    "* **Switch**: We introduce a switch that can break the circuit.\n",
    "\n",
    "* **Resitors**: We draw resistors as small rectangles. Sometimes a zig-zag line is also used as symbols for resistors. The voltage drop across a resistor in the direction of the current is $-IR$.\n",
    "\n",
    "* **Capacitors**: We draw capacitors as two parallel lines perpendicular to the wire. The voltage drop across a capacitor is $-(1/C)Q$.\n",
    "\n",
    "* **Battery**: A battery provides a constant potential gain $e$.\n",
    "\n",
    "* **Voltage source**: A voltage source may provide a time-varying voltage gain $V(t)$.\n",
    "\n",
    "These basic components combined with Kirchoff's voltage and current law provides us with the tools to model and describe complex systems and solve their model behavior.\n",
    "\n",
    "<!-- dom:FIGURE:[fig-circuits/circuits-symbols-010.png, width=600 frac=1.0] Illustration of the various circuit symbols we have introduced. (a) Voltage source, (b) battery, (c) switch, (d) resistor, (e) capacitor, and (f) inductor (not introduced yet). <div id=\"fig:circuits-symbols-010\"></div> -->\n",
    "<!-- begin figure -->\n",
    "<div id=\"fig:circuits-symbols-010\"></div>\n",
    "\n",
    "<p>Illustration of the various circuit symbols we have introduced. (a) Voltage source, (b) battery, (c) switch, (d) resistor, (e) capacitor, and (f) inductor (not introduced yet).</p>\n",
    "<img src=\"fig-circuits/circuits-symbols-010.png\" width=600>\n",
    "\n",
    "<!-- end figure -->\n",
    "\n",
    "\n",
    "# Circuits as models\n",
    "\n",
    "Circuits can be real systems that you build yourself or they can be simplified models of real systems that allow us to address them using our knowledge of electromagnetics. For example, we know how to describe a real wire with a finite conductivity as illustrated in Fig. [fig:circuits-models-010](#fig:circuits-models-010). However, if we want to include this wire in a description of a more complex system, we want to simplify its description. This can be done as illustrated in the figure as a system consisting of a wire of an ideal conductor, drawn as a line in the circuit diagram, connected in series with a resistor that represents the resistance of the whole wire. This is an example of a circuit model of a real system. The goal is that you should be able to simplify complex physical systems to simpler circuit-based systems and then analyze them using your knowledge of electromagnetics. Let us demonstrate this by a few examples.\n",
    "\n",
    "<!-- dom:FIGURE:[fig-circuits/circuits-models-010.png, width=600 frac=0.7] Illustration of (a) a real wire with a finite conductivity and (b) the model of the system. <div id=\"fig:circuits-models-010\"></div> -->\n",
    "<!-- begin figure -->\n",
    "<div id=\"fig:circuits-models-010\"></div>\n",
    "\n",
    "<p>Illustration of (a) a real wire with a finite conductivity and (b) the model of the system.</p>\n",
    "<img src=\"fig-circuits/circuits-models-010.png\" width=600>\n",
    "\n",
    "<!-- end figure -->\n",
    "\n",
    "\n",
    "## Example: Cell membrane potential\n",
    "\n",
    "A cell membrane consists of a lipid bilayer with embedded ion channels and ion pumps. The lipid bilayer consists of a set of two layers of lipid molecules. Each lipid molecule is approximately linear, like a somewhat flexible rod. The lipid molecules are amphiphilic, which means that one end of the molecule is hydrophobic and one end is hydrophilic. In the outer lipid layer the hydrophilic end points outwards, while in the inner lipid layer the hydrophilic end point into the cell. The outside of the lipid bilayer is therefore polar, which means that the molecules form hydrogen bonds with the surrounding water molecules. The inner part of the lipid bilayer is non-polar. The lipid bilayer functions as a membrane, so that molecules that are on the outside of the layer cannot easily get through the layer. This allows cells to have different chemistry on the outside and inside of the cell membrane. See Fig. [fig:circuits-cellmembrane-010](#fig:circuits-cellmembrane-010) for an illustration.\n",
    "\n",
    "<!-- dom:FIGURE:[fig-circuits/circuits-cellmembrane-010.png, width=600 frac=0.8] Illustration of a cell membrane. <div id=\"fig:circuits-cellmembrane-010\"></div> -->\n",
    "<!-- begin figure -->\n",
    "<div id=\"fig:circuits-cellmembrane-010\"></div>\n",
    "\n",
    "<p>Illustration of a cell membrane.</p>\n",
    "<img src=\"fig-circuits/circuits-cellmembrane-010.png\" width=600>\n",
    "\n",
    "<!-- end figure -->\n",
    "\n",
    "\n",
    "Cell membranes are not completely impermeable. They have various different types of channels in the form of complex molecules, proteins, that allow some molecules or ions to flow through the cell membrane. *Ion pumps* use energy to pump ions from one side of the membrane to the other. For example, the sodium-potassium pump, in each cycle transports three sodium ions out of the cell and two potassium ions into the cell. Since both ions have a charge of $+e$, this means that the pump builds up a charge difference between the outside and the inside of the cell. Due to this pump, the outside of the cell will have positive charge and the inside will have negative charge. There will therefore be an electric field from the outside of the cell to the inside of the cell. The inside of the cell will therefore have a lower electric potential than the outside. The ion pump uses chemical energy to perform work to transport charges across this potential. In addition, there are leaky ions channels that allows for example potassion ions to flow back into the cell. The net effect of both the ion pumps and ion channels for several types of ions is that there typically is a potential difference across the cell membran is about $-80 \\text{mV}$ called the membrane potential for nerve cells.\n",
    "\n",
    "How can be create a simplified model of this system? Fig. [fig:circuits-cellmembrane-020](#fig:circuits-cellmembrane-020)a contains a first iteration of a model. The cell membrane is illustrated as a dielectric medium of a given thickness and surface area. This represents a capacitor with a capacitance of $C = A \\epsilon/d$. We assume that ion channels and ion pumps are small compared to the area and therefore do not affect the capacitance. But how should we represent the ion pump and ion channels in a model? The ion pump acts as a battery: It lifts charges up through a potential difference. We assume that all the ion pumps in total act as one battery with a voltage $e$. The ion channels acts as a leaky channel for ions: They will flow through the channel if there is a potential difference, but with some resistance. A potential difference is needed to drive the ions through the channel. We therefore model all the ion channels as one resistor with resistance $R$.\n",
    "\n",
    "<!-- dom:FIGURE:[fig-circuits/circuits-cellmembrane-020.png, width=600 frac=1.0] Simplified models of a cell membrane. (a) Showing the cell membrane as a parallel-plate capacitor with ion pumps and ion channels. (b) Showing the corresponding circuit diagram. <div id=\"fig:circuits-cellmembrane-020\"></div> -->\n",
    "<!-- begin figure -->\n",
    "<div id=\"fig:circuits-cellmembrane-020\"></div>\n",
    "\n",
    "<p>Simplified models of a cell membrane. (a) Showing the cell membrane as a parallel-plate capacitor with ion pumps and ion channels. (b) Showing the corresponding circuit diagram.</p>\n",
    "<img src=\"fig-circuits/circuits-cellmembrane-020.png\" width=600>\n",
    "\n",
    "<!-- end figure -->\n",
    "\n",
    "\n",
    "\n",
    "We have now developed a model of the electric current and electric charges across the cell membrane as illustrated in Fig. [fig:circuits-cellmembrane-020](#fig:circuits-cellmembrane-020)b. The model consists of a battery, a capacitor and a resistor in parallel. This is a simplified model of one aspect of the physics of a cell membrane, and we can use this model to address the electrical properties of the cell membrane. We can ask questions like, what happens if the ion pump stops pumping? What happens if we change the number of ion channels and therefore change the resistivity of the leaky channel? We can answer these questions by studying the circuit and describing its behavior.\n",
    "\n",
    "\n",
    "\n",
    "We can also improve this detail of this model. For exampel, we can assume that each ion pump has a voltage $e_0$ and that there is a given density $N_P$ of ion pumps on the surface. The total number of ion pumps is then $N_P A$. The total effect of all of these pumps is like having $N_P A$ batteries in parallel, which is like having one battery with a total voltage of $e = N_P A e_0$. Similarly, we can assume that there is density $N_C$ of ion channels. Each ion channel contributes with a resistivity $R_0$ and there are $N_C A$ such resistors in parallel. The total resistivity is therefore $1/R = N_C A /R_0$.\n",
    "\n",
    "## Example: Cable equation\n",
    "\n",
    "Let us extend the model for a cell to the axon, a long part of a nerve cell which transmits electric signals. The axon is approximately cylindrical in shape and consists of a cell interior, a cell membrane, and the extracellular system outside the cell as illustrated in Fig. [fig:circuits-cableequation-010](#fig:circuits-cableequation-010). To make a model of this system, we divide the cylindrical axon into smaller cylindrical part of length $\\Delta L$. The potential outside the cell is $V_e$. We model the behavior inside each such element by a single voltage $V_i$, in the middle of element $i$. The cell membrane acts as a capacitor with a capacitance $C$ (which you know how to calculate for a cylindrical element), and there is a leaking current through the cell membrane through channels with an effective resistance $R$ for each element. The capacitor $C$ and the resistor $R$ acts in parallel for each such element.\n",
    "\n",
    "In addition, an element is connected to the neighboring elements. Element $i$ is connected to elements $i-1$ and $i+1$. There is a current going between the element with a resistance $r$. This makes up the model illustrated in Fig. [fig:circuits-cableequation-010](#fig:circuits-cableequation-010). For simplicity we set $V_e = 0$.\n",
    "\n",
    "<!-- dom:FIGURE:[fig-circuits/circuits-cableequation-010.jpg, width=600 frac=1.0] Illustration of the physical system for the cable equation and the circuit model for the physical system. <div id=\"fig:circuits-cableequation-010\"></div> -->\n",
    "<!-- begin figure -->\n",
    "<div id=\"fig:circuits-cableequation-010\"></div>\n",
    "\n",
    "<p>Illustration of the physical system for the cable equation and the circuit model for the physical system.</p>\n",
    "<img src=\"fig-circuits/circuits-cableequation-010.jpg\" width=600>\n",
    "\n",
    "<!-- end figure -->\n",
    "\n",
    "\n",
    "### Derivation of the equations of behavior\n",
    "\n",
    "Let us find an equation for the behavior of element $i$ in this system:\n",
    "\n",
    "* We know that the current through the capacitor is related to the charge $Q_i$ on the capacitor, $I_{C,i} = \\mathrm{d} Q_i / \\mathrm{d} t$. We can relate this to the voltage $V_i$ across the capacitor, because $Q_i = CV_i$, getting $I_{C,i}= C \\mathrm{d} V_i / \\mathrm{d} t$. (The voltage drop across the capacitor is $V_i - V_e = V_i$ because $V_e = 0$.)\n",
    "\n",
    "* We know that the current through the resistor $R$ is related to the voltage drop, $I_{R,i} = (V_i - V_e)/R = V_i/R$.\n",
    "\n",
    "* The current $i_i$ through the resistor $r$ is found through Ohm's law: $i_i = (V_i - V_{i+1})/r$.\n",
    "\n",
    "* The current $i_{i-1}$ through the resistor $r$ is found through Ohm's law: $i_{i-1} = (V_{i-1} - V_i)/r$.\n",
    "\n",
    "We combine these results and apply Kirchoff's current law in the point $V_i$ and get:"
   ]
  },
  {
   "cell_type": "markdown",
   "metadata": {},
   "source": [
    "<!-- Equation labels as ordinary links -->\n",
    "<div id=\"_auto21\"></div>\n",
    "\n",
    "$$\n",
    "\\begin{equation}\n",
    "i_{i-1} = i_i + \\left( I_{C,i} + I_{R,i} \\right) \\; ,\n",
    "\\label{_auto21} \\tag{25}\n",
    "\\end{equation}\n",
    "$$"
   ]
  },
  {
   "cell_type": "markdown",
   "metadata": {},
   "source": [
    "which gives"
   ]
  },
  {
   "cell_type": "markdown",
   "metadata": {},
   "source": [
    "<!-- Equation labels as ordinary links -->\n",
    "<div id=\"_auto22\"></div>\n",
    "\n",
    "$$\n",
    "\\begin{equation}\n",
    "\\frac{V_{i-1} - V_i}{r} = \\frac{V_i - V_{i-1}}{r} + \\frac{V_i}{R} + C \\frac{\\mathrm{d} V_i}{\\mathrm{d} t} \\; .\n",
    "\\label{_auto22} \\tag{26}\n",
    "\\end{equation}\n",
    "$$"
   ]
  },
  {
   "cell_type": "markdown",
   "metadata": {},
   "source": [
    "We can rewrite this equation as:"
   ]
  },
  {
   "cell_type": "markdown",
   "metadata": {},
   "source": [
    "<!-- Equation labels as ordinary links -->\n",
    "<div id=\"eq:circuits-cableequations-010\"></div>\n",
    "\n",
    "$$\n",
    "\\begin{equation}\n",
    "C \\frac{\\mathrm{d} V_i}{\\mathrm{d} t} + \\frac{V_i}{R} = \\frac{V_{i+1} - 2 V_i + V_{i-1}}{r} \\; .\n",
    "\\label{eq:circuits-cableequations-010} \\tag{27}\n",
    "\\end{equation}\n",
    "$$"
   ]
  },
  {
   "cell_type": "markdown",
   "metadata": {},
   "source": [
    "### Left boundary element\n",
    "\n",
    "What about the left-most part of the system? We assume that $V_0(t)$ is a given voltage source, which we interpret as the signal sent out by the nerve cell. We therefore get:"
   ]
  },
  {
   "cell_type": "markdown",
   "metadata": {},
   "source": [
    "<!-- Equation labels as ordinary links -->\n",
    "<div id=\"_auto23\"></div>\n",
    "\n",
    "$$\n",
    "\\begin{equation}\n",
    "C \\frac{\\mathrm{d} V_1}{\\mathrm{d} t} + \\frac{V_1}{R} = \\frac{V_{1+1} - 2 V_1 + V_{0}(t)}{r} \\; ,\n",
    "\\label{_auto23} \\tag{28}\n",
    "\\end{equation}\n",
    "$$"
   ]
  },
  {
   "cell_type": "markdown",
   "metadata": {},
   "source": [
    "where $V_0(t)$ is a given function of time.\n",
    "\n",
    "### Right boundary element\n",
    "\n",
    "What about the right-most part of the system? For the last element, $V_N$, there is no element to the right. This means that $i_N$ is zero, since there is no current going to the right of the last element. We therefore get the equation $i_{N-1} = I_{C,N} + I_{R,N}$ and"
   ]
  },
  {
   "cell_type": "markdown",
   "metadata": {},
   "source": [
    "<!-- Equation labels as ordinary links -->\n",
    "<div id=\"_auto24\"></div>\n",
    "\n",
    "$$\n",
    "\\begin{equation}\n",
    "\\frac{V_{N-1} - V_N}{r} = \\frac{V_N}{R} + C \\frac{\\mathrm{d} V_N}{\\mathrm{d} t} \\; .\n",
    "\\label{_auto24} \\tag{29}\n",
    "\\end{equation}\n",
    "$$"
   ]
  },
  {
   "cell_type": "markdown",
   "metadata": {},
   "source": [
    "We can rewrite this equation as:"
   ]
  },
  {
   "cell_type": "markdown",
   "metadata": {},
   "source": [
    "<!-- Equation labels as ordinary links -->\n",
    "<div id=\"eq:circuits-cableequation-020\"></div>\n",
    "\n",
    "$$\n",
    "\\begin{equation}\n",
    "C \\frac{\\mathrm{d} V_N}{\\mathrm{d} t} + \\frac{V_N}{R} = \\frac{V_{N-1}- V_N}{r} \\; .\n",
    "\\label{eq:circuits-cableequation-020} \\tag{30}\n",
    "\\end{equation}\n",
    "$$"
   ]
  },
  {
   "cell_type": "markdown",
   "metadata": {},
   "source": [
    "### Interpretation of the main equation\n",
    "\n",
    "How can we interpret these equations? If we look at ([27](#eq:circuits-cableequations-010)) we see that it is a differential equation in time. But how can we interpret the right-hand side of the equation? This looks similar to the discrete version of Laplace's equation. The index $i$ refers to the spatial position of the various elements. Indeed, we can describe the length of an element at $\\Delta x$ so that $V_i(t) = V(i \\Delta x,t) = V(x,t)$ We can then interpret ([27](#eq:circuits-cableequations-010)) as:"
   ]
  },
  {
   "cell_type": "markdown",
   "metadata": {},
   "source": [
    "<!-- Equation labels as ordinary links -->\n",
    "<div id=\"_auto25\"></div>\n",
    "\n",
    "$$\n",
    "\\begin{equation}\n",
    "C \\frac{\\mathrm{d} V(x,t)}{\\mathrm{d} t} + \\frac{V(x,t)}{R} = \\frac{V(x+\\Delta x,t) - 2 V(x,t) + V(x-\\Delta x,t)}{r} \\; .\n",
    "\\label{_auto25} \\tag{31}\n",
    "\\end{equation}\n",
    "$$"
   ]
  },
  {
   "cell_type": "markdown",
   "metadata": {},
   "source": [
    "We recognize the right hand side as the second derivative of $V(x,t)$ with respect to $x$:"
   ]
  },
  {
   "cell_type": "markdown",
   "metadata": {},
   "source": [
    "<!-- Equation labels as ordinary links -->\n",
    "<div id=\"_auto26\"></div>\n",
    "\n",
    "$$\n",
    "\\begin{equation}\n",
    "\\frac{\\partial^2 V}{\\partial x^2} \\simeq \\frac{V(x+\\Delta x,t) - 2 V(x,t) + V(x-\\Delta x,t)}{\\Delta x^2} \\; .\n",
    "\\label{_auto26} \\tag{32}\n",
    "\\end{equation}\n",
    "$$"
   ]
  },
  {
   "cell_type": "markdown",
   "metadata": {},
   "source": [
    "We can therefore interpret ([27](#eq:circuits-cableequations-010)) as:"
   ]
  },
  {
   "cell_type": "markdown",
   "metadata": {},
   "source": [
    "<!-- Equation labels as ordinary links -->\n",
    "<div id=\"eq:circuits-cableequation-030\"></div>\n",
    "\n",
    "$$\n",
    "\\begin{equation}\n",
    "C \\frac{\\mathrm{d} V(x,t)}{\\mathrm{d} t} + \\frac{V(x,t)}{R} = \\frac{\\Delta x^2}{r} \\frac{\\partial^2 V}{\\partial x^2} \\; .\n",
    "\\label{eq:circuits-cableequation-030} \\tag{33}\n",
    "\\end{equation}\n",
    "$$"
   ]
  },
  {
   "cell_type": "markdown",
   "metadata": {},
   "source": [
    "This is similar to the diffusion equation, at least in the limit whem $R\\rightarrow \\infty$. This equation is called the *Cable equation*.\n",
    "\n",
    "### Interpretation of the equation for element $N$\n",
    "\n",
    "But how can we interpret the condition on the right hand side of the system, given as ([30](#eq:circuits-cableequation-020))? In a stationary state, the time derivative is zero, and we can interpret the right hand side of the equation as the spatial derivative of $V(x,t)$. In the stationary state, we therefore have that"
   ]
  },
  {
   "cell_type": "markdown",
   "metadata": {},
   "source": [
    "<!-- Equation labels as ordinary links -->\n",
    "<div id=\"_auto27\"></div>\n",
    "\n",
    "$$\n",
    "\\begin{equation}\n",
    "\\frac{\\partial V(x,t)}{\\partial x} = 0 \\; ,\n",
    "\\label{_auto27} \\tag{34}\n",
    "\\end{equation}\n",
    "$$"
   ]
  },
  {
   "cell_type": "markdown",
   "metadata": {},
   "source": [
    "which corresponds to a von Neumann boundary condition for $V(x)$ on the right hand side.\n",
    "\n",
    "### Comparison with Laplaces's equation\n",
    "\n",
    "We also notice that in the stationary state, that is when the time derivative in the system is zero, we see from ([33](#eq:circuits-cableequation-030)) that we get:"
   ]
  },
  {
   "cell_type": "markdown",
   "metadata": {},
   "source": [
    "<!-- Equation labels as ordinary links -->\n",
    "<div id=\"_auto28\"></div>\n",
    "\n",
    "$$\n",
    "\\begin{equation}\n",
    "\\frac{V(x,t)}{R} = \\frac{\\Delta x^2}{r} \\frac{\\partial^2 V}{\\partial x^2} \\; .\n",
    "\\label{_auto28} \\tag{35}\n",
    "\\end{equation}\n",
    "$$"
   ]
  },
  {
   "cell_type": "markdown",
   "metadata": {},
   "source": [
    "In the case when $R \\rightarrow \\infty$ this reduces to:"
   ]
  },
  {
   "cell_type": "markdown",
   "metadata": {},
   "source": [
    "<!-- Equation labels as ordinary links -->\n",
    "<div id=\"_auto29\"></div>\n",
    "\n",
    "$$\n",
    "\\begin{equation}\n",
    "\\frac{\\partial^2 V}{\\partial x^2} = 0 \\; ,\n",
    "\\label{_auto29} \\tag{36}\n",
    "\\end{equation}\n",
    "$$"
   ]
  },
  {
   "cell_type": "markdown",
   "metadata": {},
   "source": [
    "which is Laplace's equation.\n",
    "\n",
    "### Numerical scheme\n",
    "\n",
    "The equation we found in  ([27](#eq:circuits-cableequations-010)) are discretized and it is simple to implement these equations in a simple Euler scheme to find the time development:"
   ]
  },
  {
   "cell_type": "markdown",
   "metadata": {},
   "source": [
    "<!-- Equation labels as ordinary links -->\n",
    "<div id=\"_auto30\"></div>\n",
    "\n",
    "$$\n",
    "\\begin{equation}\n",
    "C \\frac{\\mathrm{d} V_i}{\\mathrm{d} t} + \\frac{V_i}{R} = \\frac{V_{i+1} - 2 V_i + V_{i-1}}{r} \\; .\n",
    "\\label{_auto30} \\tag{37}\n",
    "\\end{equation}\n",
    "$$"
   ]
  },
  {
   "cell_type": "markdown",
   "metadata": {},
   "source": [
    "We start from a set of initial conditions, $V_i(t)$, and then find the solution at a time $t + \\Delta t$ by using an explicit scheme where we approximate"
   ]
  },
  {
   "cell_type": "markdown",
   "metadata": {},
   "source": [
    "<!-- Equation labels as ordinary links -->\n",
    "<div id=\"_auto31\"></div>\n",
    "\n",
    "$$\n",
    "\\begin{equation}\n",
    "\\frac{\\mathrm{d} V_i}{\\mathrm{d} t} \\simeq \\frac{V_i(t + \\Delta t)-V_i(t)}{\\Delta t} \\; .\n",
    "\\label{_auto31} \\tag{38}\n",
    "\\end{equation}\n",
    "$$"
   ]
  },
  {
   "cell_type": "markdown",
   "metadata": {},
   "source": [
    "This gives us the scheme:"
   ]
  },
  {
   "cell_type": "markdown",
   "metadata": {},
   "source": [
    "<!-- Equation labels as ordinary links -->\n",
    "<div id=\"_auto32\"></div>\n",
    "\n",
    "$$\n",
    "\\begin{equation}\n",
    "V_i (t + \\Delta t) = V_i(t) - \\frac{\\Delta t}{RC} V_i(t) + \\frac{\\Delta t}{rC} \\left( V_{i+1}(t) - 2 V_i(t) + V_{i-1}(t) \\right) \\; .\n",
    "\\label{_auto32} \\tag{39}\n",
    "\\end{equation}\n",
    "$$"
   ]
  },
  {
   "cell_type": "markdown",
   "metadata": {},
   "source": [
    "For the left hand side, we need to recall that $V_0(t)$ is the external signal provided on the left hand side. This is simply a given function in time, for example a square pulse, a sinus, or some other time-varying signal. For the right hand side, we use the same time discretization to find that:"
   ]
  },
  {
   "cell_type": "markdown",
   "metadata": {},
   "source": [
    "<!-- Equation labels as ordinary links -->\n",
    "<div id=\"_auto33\"></div>\n",
    "\n",
    "$$\n",
    "\\begin{equation}\n",
    "C \\frac{\\mathrm{d} V_N}{\\mathrm{d} t} \\simeq  C \\frac{V_N(t + \\Delta t)-V_N(t)}{\\Delta t} = - \\frac{V_N}{R} + \\frac{V_{N-1}- V_N}{r} \\; ,\n",
    "\\label{_auto33} \\tag{40}\n",
    "\\end{equation}\n",
    "$$"
   ]
  },
  {
   "cell_type": "markdown",
   "metadata": {},
   "source": [
    "which gives"
   ]
  },
  {
   "cell_type": "markdown",
   "metadata": {},
   "source": [
    "<!-- Equation labels as ordinary links -->\n",
    "<div id=\"_auto34\"></div>\n",
    "\n",
    "$$\n",
    "\\begin{equation}\n",
    "V_N(t + \\Delta t) = V_N(t) - \\frac{\\Delta t}{RC} V_N(t) + \\frac{\\Delta t}{rC} \\left( V_{N-1}- V_N \\right) \\; .\n",
    "\\label{_auto34} \\tag{41}\n",
    "\\end{equation}\n",
    "$$"
   ]
  },
  {
   "cell_type": "markdown",
   "metadata": {},
   "source": [
    "### Python implementation\n",
    "\n",
    "This numerical scheme can be almost directly implemented as it is into Python. We need two additional aspects: We need a function to specify the voltage source on the left side: `V0(t)`, and we need to specify the initial values for all the voltages, which corresponds to specifying the initial charges $Q_i$ on the capacitors. Let us first assume that $V_i(0) = 0$. We store the whole time evoluation in the two-dimensional array `V[j,i]`, where `j` represents the time and `i` represents the physical position along the cell."
   ]
  },
  {
   "cell_type": "code",
   "execution_count": 1,
   "metadata": {
    "collapsed": false
   },
   "outputs": [],
   "source": [
    "%matplotlib inline\n",
    "\n",
    "import numpy as np\n",
    "import matplotlib.pyplot as plt\n",
    "# Setting realistic paramters\n",
    "C = 1e-10 #Capacitance\n",
    "R = 1e11\n",
    "r = 1e6\n",
    "V0 = 100e-3\n",
    "# Defining voltage pulse\n",
    "def Vs(t,V0,t0):\n",
    "    return V0*(t<t0)\n",
    "# Setting simulation parameters\n",
    "tau = C*R\n",
    "tau2 = C*r\n",
    "dt = 0.1*tau2\n",
    "f1 = dt/tau2\n",
    "f2 = dt/tau\n",
    "T = tau/100.0 # Total time of simulation\n",
    "t0 = T*0.001 # Length of voltage pulse\n",
    "nsteps = int(T/dt)\n",
    "L = 100 # Number of capacitors\n",
    "V = np.zeros((nsteps,L),float)\n",
    "t = np.zeros((nsteps,1),float)\n",
    "# Starting simulation\n",
    "V[0,0] = V0 # Initial condition, t = 0\n",
    "for j in range(0,nsteps-1):\n",
    "    t[j+1] = t[j] + dt\n",
    "    V[j+1,0] = Vs(t[j+1],V0,t0) # Left boundary condition\n",
    "    for i in range(1,L-1):\n",
    "        V[j+1,i] = V[j,i] + f1*(V[j,i+1]-2*V[j,i]+V[j,i-1]) - V[j,i]*f2\n",
    "    V[j+1,L-1] = V[j,L-1] + f1*(-V[j,L-1]+V[j,L-2]) - V[j,L-1]*f2\n",
    "# Plotting results\n",
    "plt.subplot(2,1,1)\n",
    "for j in range(0,L-1,10):\n",
    "    plt.plot(t,V[:,j]/max(V[:,j]))\n",
    "plt.subplot(2,1,2)\n",
    "for j in range(0,nsteps-1,1000):\n",
    "    plt.plot(V[j,:]/max(V[j,:]))"
   ]
  },
  {
   "cell_type": "markdown",
   "metadata": {},
   "source": [
    "<!--  -->\n",
    "The resulting plots are shown in Fig. [fig:circuits-cableequation-050](#fig:circuits-cableequation-050). In the top figure we show the voltage $V(x,t)$ as a function of time $t$ at 8 different positions along the system. Notice that the value of $V$ falls vary rapidly as we study the system for larger values of $x$. This makes it difficult to interpret the results. We have therefore instead plotted $V(x,t)/V_{\\max}$, where $V_{\\max}$ is chosen so that when we plot $V(x,t)$ as a function of $t$ for a given $x$ it is the maximum of $V$ over $t$ for that given $x$, and similarly when we plot $V(x,t)$ as a function of $x$ for a given $t$ it is the maximum of $V$ over $x$ for that given $t$. This means that we can interpret the functional shapes, but we cannot compare the amplitudes of the curves. We clearly see how the initial signal, which is a square pulse for a short time $t_0$, is transmitted along the cable while being smeared out.\n",
    "\n",
    "<!-- dom:FIGURE:[fig-circuits/circuits-cableequation-050.png, width=600 frac=1.0] Plots of $V(x,t)$ for the cable equation. Top figure illustrates the unscaled plots, whereas bottom figures illustrates normalized plots for clarity. <div id=\"fig:circuits-cableequation-050\"></div> -->\n",
    "<!-- begin figure -->\n",
    "<div id=\"fig:circuits-cableequation-050\"></div>\n",
    "\n",
    "<p>Plots of $V(x,t)$ for the cable equation. Top figure illustrates the unscaled plots, whereas bottom figures illustrates normalized plots for clarity.</p>\n",
    "<img src=\"fig-circuits/circuits-cableequation-050.png\" width=600>\n",
    "\n",
    "<!-- end figure -->\n",
    "\n",
    "\n",
    "### Exploring the model\n",
    "\n",
    "You now have the basic tools needed to study the behavior of a signal traveling along a passive nerve cell. This provides you with a good basis to explore the behavior of this system and to extend the model to also include active components as you will find in real nerve cells and which ensure that the signal does not decay as rapidly as seen in the model presented here. This model can also be used to represent how signals decay in long electric signal cable, such as the telegraph cables laid across the Atlantic ocean in the mid nineteenth century. Indeed, these equations were used by Lord Kelvin for these purposes.\n",
    "\n",
    "### Stability of the numerical scheme\n",
    "\n",
    "Notice that the numerical scheme we have used to solve this problem is an explicit scheme for solving the diffusion equation. In general, we know that this scheme, with $R \\rightarrow \\infty$, is numerically stable only if"
   ]
  },
  {
   "cell_type": "markdown",
   "metadata": {},
   "source": [
    "<!-- Equation labels as ordinary links -->\n",
    "<div id=\"_auto35\"></div>\n",
    "\n",
    "$$\n",
    "\\begin{equation}\n",
    "\\frac{\\Delta t}{RC} \\leq \\frac{1}{2} \\; .\n",
    "\\label{_auto35} \\tag{42}\n",
    "\\end{equation}\n",
    "$$"
   ]
  },
  {
   "cell_type": "markdown",
   "metadata": {},
   "source": [
    "### Mapping onto real physical values\n",
    "\n",
    "<!-- Describe modeled systems: e.g. a wire as an ideal conductor + a resistor in series to model the effect of the resistivity of the wire or parts of the wire. -->\n",
    "\n",
    "# Current distributions in disordered media\n",
    "\n",
    "What would happen if we placed a porous material --- a material with randomly placed holes --- between two voltages? We would expect there to be variations in the currents in various places in the material, but how will the current vary? We now have the tools to model and study such systems by simplifying the problem to a circuit and then study the behavior of the circuit.\n",
    "\n",
    "## Model for porous medium\n",
    "\n",
    "We want to model a two-dimensional simplified model of a random porous material such as a porous metal, a porous insulator, for example, such as in a porous rock which is common in the Earth's (upper) crust. How can we *model* this system as a circuit? Fig. [fig:circuits-porous-020](#fig:circuits-porous-020) illustrates a simplified model of a porous material. In the model material, we have discretized the system into $N \\times N$ voxels of size $d \\times d$ each, which we call elements. Each element can be either present, with a conductivity $\\sigma$, or absent, with zero conductivity as illustrated in the figure. We want to model the voltages and current through this system, when we apply an external voltage $V_A$ on the left side and $V_B$ on the right side, where we set $V_B = 0$ for simplicity.\n",
    "\n",
    "Fig. [fig:circuits-porous-020](#fig:circuits-porous-020) illustrates how we divide the system into a grid. At each grid point $(i,j)$ there is a voltage $V_{i,j}$. We model the current from $(i,j)$ to a neighboring grid point $(i+1,j)$ using Ohm's law:"
   ]
  },
  {
   "cell_type": "markdown",
   "metadata": {},
   "source": [
    "<!-- Equation labels as ordinary links -->\n",
    "<div id=\"eq:circuits-porous-010\"></div>\n",
    "\n",
    "$$\n",
    "\\begin{equation}\n",
    "I_{(i,j);(i+1,j)} = \\frac{1}{R_{(i,j);(i+1,j)}} \\left( V_{i,j} - V_{i+1,j} \\right) \\; .\n",
    "\\label{eq:circuits-porous-010} \\tag{43}\n",
    "\\end{equation}\n",
    "$$"
   ]
  },
  {
   "cell_type": "markdown",
   "metadata": {},
   "source": [
    "Where $R_{(i,j);(i+1,j)}$ is the resistance for the connection between points $(i,j)$ and $(i+1,j)$. For simplicity, we instead introduce the term *conductance*, $G$:"
   ]
  },
  {
   "cell_type": "markdown",
   "metadata": {},
   "source": [
    "<!-- Equation labels as ordinary links -->\n",
    "<div id=\"_auto36\"></div>\n",
    "\n",
    "$$\n",
    "\\begin{equation}\n",
    "G_{(i,j);(i+1,j)} = \\frac{1}{R_{(i,j);(i+1,j)}} \\; .\n",
    "\\label{_auto36} \\tag{44}\n",
    "\\end{equation}\n",
    "$$"
   ]
  },
  {
   "cell_type": "markdown",
   "metadata": {},
   "source": [
    "When we say that we describe porous system or a random material, in this model this means that the conductances vary in space to reflect the porous system. Here, we will introduce a simplfied model for the conductance between the two elements at $(i,j)$ and $(i+1,j)$: The conductance may be either zero, corresponding to a missing connection, or $G$, corresponding to a present connection. We introduce a probability $p$ for the connection between $(i,j)$ and e.g. $(i+1,j)$ to be present.\n",
    "\n",
    "<!-- dom:FIGURE:[fig-circuits/circuits-porous-020.png, width=600 frac=0.8] Illustration of a $4 \\times 4$ simulation system. <div id=\"fig:circuits-porous-020\"></div> -->\n",
    "<!-- begin figure -->\n",
    "<div id=\"fig:circuits-porous-020\"></div>\n",
    "\n",
    "<p>Illustration of a $4 \\times 4$ simulation system.</p>\n",
    "<img src=\"fig-circuits/circuits-porous-020.png\" width=600>\n",
    "\n",
    "<!-- end figure -->\n",
    "\n",
    "\n",
    "## Applying Kirchoff's laws\n",
    "\n",
    "The second step in our model is to realize that Kirchoff's current law for each element means that:"
   ]
  },
  {
   "cell_type": "markdown",
   "metadata": {},
   "source": [
    "<!-- Equation labels as ordinary links -->\n",
    "<div id=\"_auto37\"></div>\n",
    "\n",
    "$$\n",
    "\\begin{equation}\n",
    "\\sum_n I_n = I_{(i,j);(i+1,j)} + I_{(i,j);(i-1,j)} + I_{(i,j);(i,j+1)} + I_{(i,j);(i,j-1)} = 0\n",
    "\\label{_auto37} \\tag{45}\n",
    "\\end{equation}\n",
    "$$"
   ]
  },
  {
   "cell_type": "markdown",
   "metadata": {},
   "source": [
    "We combine this with Ohm's law from ([43](#eq:circuits-porous-010)) and get:"
   ]
  },
  {
   "cell_type": "markdown",
   "metadata": {},
   "source": [
    "<!-- Equation labels as ordinary links -->\n",
    "<div id=\"eq:circuits-porous-020\"></div>\n",
    "\n",
    "$$\n",
    "\\begin{eqnarray}\n",
    "G_{(i,j);(i+1,j)} \\left( V_{i,j} - V_{i+1,j} \\right) + G_{(i,j);(i-1,j)} \\left( V_{i,j} - V_{i-1,j} \\right)\n",
    "&+& \\\\ \n",
    "G_{(i,j);(i,j+1)} \\left( V_{i,j} - V_{i,j+1} \\right) + G_{(i,j);(i,j-1)} \\left( V_{i,j} - V_{i,j-1} \\right) &=& 0 \\; .\n",
    "\\label{eq:circuits-porous-020} \\tag{46}\n",
    "\\end{eqnarray}\n",
    "$$"
   ]
  },
  {
   "cell_type": "markdown",
   "metadata": {},
   "source": [
    "This equation looks very much like the equations we found for voltage when we solved Laplace's equation if we set all the condutances to be the same. We will therefore try to solve this problem numerically using the same implicit scheme we developed for Laplace's equation.\n",
    "\n",
    "## Implicit numerical scheme\n",
    "\n",
    "Let us first develop the numerical scheme for the small $4 \\times 4$ system shown in Fig. [fig:circuits-porous-020](#fig:circuits-porous-020). Each value of $V_{i,j}$ is determined from ([46](#eq:circuits-porous-020)), where we must include both the values for the conductances and the values for the boundaries.\n",
    "\n",
    "Let us first look at an internal element $V_{2,3}$. We also use the same enumeration scheme as we introduced previously, with a single index $n$ for an element, where we form $n$ as $n = (j-1)(N-2)+(i-1)$ so that $n = 0,1,\\ldots,15$. Element $(2,3)$ therefore corresponds to index $n = 9$. We can therefore use the figure directly to read out the neighboring elements. In the figure, we have illustrated elements with zero conductance with a white and elements with a finite conductance ($G$) with gray. This means that the four conductances leading out of element $9$ are: $G_{9,10} = G$, $G_{9,8}=0$, $G_{9,5}=G$, and $G_{9,13}=G$. The equation for $V_9$ is therefore:"
   ]
  },
  {
   "cell_type": "markdown",
   "metadata": {},
   "source": [
    "<!-- Equation labels as ordinary links -->\n",
    "<div id=\"_auto38\"></div>\n",
    "\n",
    "$$\n",
    "\\begin{equation}\n",
    "-V_8 - V_5 - V_13 + 3 V_9 = 0 \\; .\n",
    "\\label{_auto38} \\tag{47}\n",
    "\\end{equation}\n",
    "$$"
   ]
  },
  {
   "cell_type": "markdown",
   "metadata": {},
   "source": [
    "What happens to an element at the boundary? Let us look the element $n=4$. The conductances leading out of element $4$ are: $G_{4,5}=G$, $G_{4,(0,1)}=G$, $G_{4,8}=0$, and $G_{4,0}=G$, where we have used the notation $(0,1)$ for the conductance to a boundary element, $B_{0,2}$. What is the equation for $V_4$?"
   ]
  },
  {
   "cell_type": "markdown",
   "metadata": {},
   "source": [
    "<!-- Equation labels as ordinary links -->\n",
    "<div id=\"_auto39\"></div>\n",
    "\n",
    "$$\n",
    "\\begin{equation}\n",
    "G(V_4 - V_5) + G(V_4 - B_{0,1}) + 0(V_4 - V_8) + G (V_4 - V_0) = 0 \\; ,\n",
    "\\label{_auto39} \\tag{48}\n",
    "\\end{equation}\n",
    "$$"
   ]
  },
  {
   "cell_type": "markdown",
   "metadata": {},
   "source": [
    "where we divide by $G$ and reorder the equation to get:"
   ]
  },
  {
   "cell_type": "markdown",
   "metadata": {},
   "source": [
    "<!-- Equation labels as ordinary links -->\n",
    "<div id=\"_auto40\"></div>\n",
    "\n",
    "$$\n",
    "\\begin{equation}\n",
    "-V_5 - V_8 - V_0 + 4 V_4 = B_{0,2} \\; .\n",
    "\\label{_auto40} \\tag{49}\n",
    "\\end{equation}\n",
    "$$"
   ]
  },
  {
   "cell_type": "markdown",
   "metadata": {},
   "source": [
    "At the top boundary we can either use Dirichlet boundary conditions and provide values for each boundary element $B_{i,j}$ needed, or we can use von Neumann boundary conditions, and instead assume that there is no current across the boundary, and that there is therefore no voltage difference across the boundary. Dirichlet boundary conditions for element $n=13$ gives the equation:"
   ]
  },
  {
   "cell_type": "markdown",
   "metadata": {},
   "source": [
    "<!-- Equation labels as ordinary links -->\n",
    "<div id=\"_auto41\"></div>\n",
    "\n",
    "$$\n",
    "\\begin{equation}\n",
    "-V_{12} - V_{14} - V_{9} + 4 V_{13} = B_{2,5} \\; ,\n",
    "\\label{_auto41} \\tag{50}\n",
    "\\end{equation}\n",
    "$$"
   ]
  },
  {
   "cell_type": "markdown",
   "metadata": {},
   "source": [
    "whereas von Neumann boundary conditions for element $n=13$ gives the equation:"
   ]
  },
  {
   "cell_type": "markdown",
   "metadata": {},
   "source": [
    "<!-- Equation labels as ordinary links -->\n",
    "<div id=\"_auto42\"></div>\n",
    "\n",
    "$$\n",
    "\\begin{equation}\n",
    "-V_{12} - V_{14} - V_{9} + 3 V_{13} = 0 \\; ,\n",
    "\\label{_auto42} \\tag{51}\n",
    "\\end{equation}\n",
    "$$"
   ]
  },
  {
   "cell_type": "markdown",
   "metadata": {},
   "source": [
    "which corresponds to assuming that $B_{2,5} = V_{13}$, which gives zero current into the boundary element $(2,5)$. We will here use von Neumann's boundary condition in the $y$-direction and Dirichlet boundary conditions in the $x$-direction so that there will be a current flowing from the left to the right (or top to bottom in the Python scheme, where the first coordinate is along the vertical axis).\n",
    "\n",
    "### System of equations\n",
    "\n",
    "We write does all the 16 equations for the internal points. On matrix form this gives us the following system of equations using von Neumann boundary conditions in the $y$-direction and Dirichlet boundary conditions in the $x$-direction:"
   ]
  },
  {
   "cell_type": "markdown",
   "metadata": {},
   "source": [
    "$$\n",
    "\\left[ \\begin{array}{cccccccccccccccc}\n",
    " 3 & -1 &  0 &  0 & -1 &  0 &  0 &  0 &  0 &  0 &  0 &  0 &  0 &  0 &  0 &  0 \\\\ \n",
    "-1 &  3 & -1 &  0 &  0 & -1 &  0 &  0 &  0 &  0 &  0 &  0 &  0 &  0 &  0 &  0 \\\\ \n",
    " 0 & -1 &  3 & -1 &  0 &  0 & -1 &  0 &  0 &  0 &  0 &  0 &  0 &  0 &  0 &  0 \\\\ \n",
    " 0 &  0 & -1 &  3 &  0 &  0 &  0 & -1 &  0 &  0 &  0 &  0 &  0 &  0 &  0 &  0 \\\\ \n",
    "-1 &  0 &  0 &  0 &  4 & -1 &  0 &  0 & -1 &  0 &  0 &  0 &  0 &  0 &  0 &  0 \\\\ \n",
    " 0 & -1 &  0 &  0 & -1 &  4 & -1 &  0 &  0 & -1 &  0 &  0 &  0 &  0 &  0 &  0 \\\\ \n",
    " 0 &  0 & -1 &  0 &  0 & -1 &  4 & -1 &  0 &  0 & -1 &  0 &  0 &  0 &  0 &  0 \\\\ \n",
    " 0 &  0 &  0 & -1 &  0 &  0 & -1 &  4 &  0 &  0 &  0 & -1 &  0 &  0 &  0 &  0 \\\\ \n",
    " 0 &  0 &  0 &  0 & -1 &  0 &  0 &  0 &  4 & -1 &  0 &  0 & -1 &  0 &  0 &  0 \\\\ \n",
    " 0 &  0 &  0 &  0 &  0 & -1 &  0 &  0 & -1 &  4 & -1 &  0 &  0 & -1 &  0 &  0 \\\\ \n",
    " 0 &  0 &  0 &  0 &  0 &  0 & -1 &  0 &  0 & -1 &  4 & -1 &  0 &  0 & -1 &  0 \\\\ \n",
    " 0 &  0 &  0 &  0 &  0 &  0 &  0 & -1 &  0 &  0 & -1 &  4 &  0 &  0 &  0 & -1 \\\\ \n",
    " 0 &  0 &  0 &  0 &  0 &  0 &  0 &  0 & -1 &  0 &  0 &  0 &  3 & -1 &  0 &  0 \\\\ \n",
    " 0 &  0 &  0 &  0 &  0 &  0 &  0 &  0 &  0 & -1 &  0 &  0 & -1 &  3 & -1 &  0 \\\\ \n",
    " 0 &  0 &  0 &  0 &  0 &  0 &  0 &  0 &  0 &  0 & -1 &  0 &  0 & -1 &  3 & -1 \\\\ \n",
    " 0 &  0 &  0 &  0 &  0 &  0 &  0 &  0 &  0 &  0 &  0 & -1 &  0 &  0 & -1 &  3\n",
    " \\end{array} \\right]\n",
    "\\left[ \\begin{array}{c}\n",
    "V_{0} \\\\ \n",
    "V_{1} \\\\ \n",
    "V_{2} \\\\ \n",
    "V_{3} \\\\ \n",
    "V_{4} \\\\ \n",
    "V_{5} \\\\ \n",
    "V_{6} \\\\ \n",
    "V_{7} \\\\ \n",
    "V_{8} \\\\ \n",
    "V_{9} \\\\ \n",
    "V_{10} \\\\ \n",
    "V_{11} \\\\ \n",
    "V_{12} \\\\ \n",
    "V_{13} \\\\ \n",
    "V_{14} \\\\ \n",
    "V_{15}\n",
    "\\end{array} \\right]\n",
    "=\n",
    "\\left[ \\begin{array}{c}\n",
    "B_{0,1} \\\\ \n",
    "0  \\\\ \n",
    "0 \\\\ \n",
    "B_{5,1} \\\\ \n",
    "B_{0,2} \\\\ \n",
    "0 \\\\ \n",
    "0 \\\\ \n",
    "B_{5,2} \\\\ \n",
    "B_{0,3} \\\\ \n",
    "0 \\\\ \n",
    "0 \\\\ \n",
    "B_{5,3} \\\\ \n",
    "B_{0,4} \\\\ \n",
    "0 \\\\ \n",
    "0 \\\\ \n",
    "B_{5,4} \n",
    "\\end{array} \\right]\n",
    "$$"
   ]
  },
  {
   "cell_type": "markdown",
   "metadata": {},
   "source": [
    "This is a matrix equation on the form $Ax = B$ where the unknown $x$ here contains the potentials, $V_n$.\n",
    "\n",
    "### Setting up the matrix\n",
    "\n",
    "We now know how to set up the system of linear equations that we can solve with Python's linear equation solvers. However, first we need to set up the matrix $A_{n,m}$ and the vector $B_n$. We do this by looping through all elements $(i,j)$, and then inserting all the relevant values for the equation used to determine $V_{i,j}$. For each neighbor $(k,l)$ to $(i,j)$ we insert the values from the equation $G_{(i,j),(k,l)}(V_{i,j} - V_{k,l}) = 0$, taking into consideration the value for the conductance and the whether the element is a boundary element or and internal element. We write a function to set up the system equations, solve the system, and put the values back into an array of $V_{i,j}$ values as well as two arrays of the currents. This is done in the following program:"
   ]
  },
  {
   "cell_type": "code",
   "execution_count": 2,
   "metadata": {
    "collapsed": false
   },
   "outputs": [],
   "source": [
    "# Make them into subroutines\n",
    "def findvoltagesp(N,p):\n",
    "    # Setting up the boundaries\n",
    "    b = np.zeros((N,N),float)\n",
    "    b[:] = np.float('nan')\n",
    "    b[0,:] = 0.0\n",
    "    b[N-1,:] = 1.0\n",
    "    # Setting up random conductances\n",
    "    gx = 1.0*(np.random.rand(N,N)<p)\n",
    "    gy = 1.0*(np.random.rand(N,N)<p)\n",
    "    # Setting up system of equations\n",
    "    LM = (N-2)*(N-2)\n",
    "    A = np.zeros((LM,LM),float)\n",
    "    B = np.zeros((LM),float)\n",
    "    for j in range(1,N-1):\n",
    "        for i in range(1,N-1):\n",
    "            n = (j-1)*(N-2) + (i-1)\n",
    "            # x- direction\n",
    "            G = gx[j,i-1]\n",
    "            if (i>1):\n",
    "                A[n,n] = A[n,n] + G # Diagonal\n",
    "                A[n,n-1] = -G\n",
    "            # x+ direction\n",
    "            G = gx[j,i]\n",
    "            if (i<N-2):\n",
    "                A[n,n] = A[n,n] + G # Diagonal\n",
    "                A[n,n+1] = -G\n",
    "            # y- direction\n",
    "            G = gy[j-1,i]\n",
    "            A[n,n] = A[n,n] + G # Diagonal\n",
    "            if (j>1):\n",
    "                A[n,n-(N-2)] = -G\n",
    "            else:\n",
    "                B[n] = B[n] + G*b[j-1,i]\n",
    "            # y+ direction\n",
    "            G = gy[j,i]\n",
    "            A[n,n] = A[n,n] + G # Diagonal\n",
    "            if (j<N-2):\n",
    "                A[n,n+(N-2)] = -G\n",
    "            else:\n",
    "                B[n] = B[n] + G*b[j+1,i]\n",
    "    Ainv = np.linalg.pinv(A)\n",
    "    x = np.dot(Ainv,B)\n",
    "    # Generate full V matrix\n",
    "    V = np.zeros((N,N),float)\n",
    "    for j in range(0,N):\n",
    "        for i in range(0,N):\n",
    "            if (i<1)or(i>=N-1)or(j<1)or(j>=N-1):\n",
    "                V[j,i] = b[j,i]\n",
    "            else:\n",
    "                n = (j-1)*(N-2) + (i-1)\n",
    "                V[j,i] = x[n]\n",
    "    return V,gx,gy"
   ]
  },
  {
   "cell_type": "markdown",
   "metadata": {},
   "source": [
    "The code is run with the following command"
   ]
  },
  {
   "cell_type": "code",
   "execution_count": 3,
   "metadata": {
    "collapsed": false
   },
   "outputs": [],
   "source": [
    "V,gx,gy = findvoltagesp(20,0.65)"
   ]
  },
  {
   "cell_type": "markdown",
   "metadata": {},
   "source": [
    "To visualize the results we may visualize the potential as shown in Fig. [fig:circuits-porous-030](#fig:circuits-porous-030). However, this does not provide as much insight into the physics as we would wish, because the varies slowly. Instead, we would like to study the current distribution. For each element, we calculate the absolute value of the current flowing into the element and then we visualize this quantity. This is implemented in the following program:"
   ]
  },
  {
   "cell_type": "code",
   "execution_count": 4,
   "metadata": {
    "collapsed": false
   },
   "outputs": [],
   "source": [
    "def findabscurrent(V,gx,gy):\n",
    "    Nx = V.shape[0]\n",
    "    Ny = V.shape[1]\n",
    "    Ia = np.zeros((Nx,Ny),float)\n",
    "    for i in range(1,Nx-1):\n",
    "        for j in range(1,Ny-1):\n",
    "            # Find contributions to current from each direction\n",
    "            # x- direction\n",
    "            G = gx[j,i-1]\n",
    "            dV = abs(G*(V[j,i]-V[j,i-1]))\n",
    "            # x+ direction\n",
    "            G = gx[j,i]\n",
    "            dV = dV + abs(G*(V[j,i]-V[j,i+1]))\n",
    "            # y- direction\n",
    "            G = gy[j-1,i]\n",
    "            dV = dV + abs(G*(V[j,i]-V[j-1,i]))\n",
    "            # y+ direction\n",
    "            G = gy[j,i]\n",
    "            dV = dV + abs(G*(V[j,i]-V[j+1,i]))\n",
    "            Ia[j,i] = dV\n",
    "    return Ia"
   ]
  },
  {
   "cell_type": "markdown",
   "metadata": {},
   "source": [
    "<!--  -->\n",
    "and the results are plotted using:"
   ]
  },
  {
   "cell_type": "code",
   "execution_count": 5,
   "metadata": {
    "collapsed": false
   },
   "outputs": [],
   "source": [
    "plt.figure(figsize=(6,6))\n",
    "ax1 = plt.subplot(1,1,1)\n",
    "plt.imshow(Ia)\n",
    "plt.gca().invert_yaxis()\n",
    "ax1.set_aspect('equal', 'box')"
   ]
  },
  {
   "cell_type": "markdown",
   "metadata": {},
   "source": [
    "The resulting plot is show in Fig. [fig:circuits-porous-040](#fig:circuits-porous-040) for four different values of $p$. Here, we observe interesting properties of the system. First, we realize that there is a value for $p$ below which there is no flow from one side to another. This values if called the percolation threshold for the system. For the system we have chosen for the random connections, which is called a bond percolation lattice (because it is the bonds, the connections between the elements, that are chosen at random), the percolation threshold for a square lattice is known to be for $p = 1/2$. If we choose $p$ below $1/2$, there is typically no connecting path from one side to another, whereas if $p>1/2$, there is a connecting path. Just at $p = 1/2$ the system behaves as a fractal, with a complex geometrical structure which is clearly evident also from the way the current is distributed in the system in Fig. [fig:circuits-porous-040](#fig:circuits-porous-040). You can read more about disordered systems and percolation theory in [[malthesorenssen_percolation_2020]](#malthesorenssen_percolation_2020).\n",
    "\n",
    "<!-- dom:FIGURE:[fig-circuits/circuits-porous-030.png, width=600 frac=0.55] Plot of $V(x,y)$ for a $100 \\times 100$ simulation with $p = 0.50$. <div id=\"fig:circuits-porous-030\"></div> -->\n",
    "<!-- begin figure -->\n",
    "<div id=\"fig:circuits-porous-030\"></div>\n",
    "\n",
    "<p>Plot of $V(x,y)$ for a $100 \\times 100$ simulation with $p = 0.50$.</p>\n",
    "<img src=\"fig-circuits/circuits-porous-030.png\" width=600>\n",
    "\n",
    "<!-- end figure -->\n",
    "\n",
    "\n",
    "<!-- dom:FIGURE:[fig-circuits/circuits-porous-040.png, width=600 frac=1.0] Plot of $\\sum_i |I_i|$ into each element for systems for various values of $p$. As $p$ becomes larger, the current distribution becomes more homogeneous. For systems with $p<1/2$ there are typically no connecting path from one side to another, and therefore no current. <div id=\"fig:circuits-porous-040\"></div> -->\n",
    "<!-- begin figure -->\n",
    "<div id=\"fig:circuits-porous-040\"></div>\n",
    "\n",
    "<p>Plot of $\\sum_i |I_i|$ into each element for systems for various values of $p$. As $p$ becomes larger, the current distribution becomes more homogeneous. For systems with $p<1/2$ there are typically no connecting path from one side to another, and therefore no current.</p>\n",
    "<img src=\"fig-circuits/circuits-porous-040.png\" width=600>\n",
    "\n",
    "<!-- end figure -->\n",
    "\n",
    "\n",
    "### Using sparse matrix representation\n",
    "\n",
    "The numerical computations can be made much more effective by introducing sparse matrices, which you may have learned in your linear algebra course. We will address a sparse matric implementation of the code in the exercises.\n",
    "\n",
    "\n",
    "\n",
    "## Relation to Laplace's equation\n",
    "\n",
    "If we set all the $G$-values in  ([46](#eq:circuits-porous-020)) to be the same, we get the equation:"
   ]
  },
  {
   "cell_type": "markdown",
   "metadata": {},
   "source": [
    "<!-- Equation labels as ordinary links -->\n",
    "<div id=\"_auto43\"></div>\n",
    "\n",
    "$$\n",
    "\\begin{equation}\n",
    "G \\left( V_{i,j} - V_{i+1,j} \\right) + G \\left( V_{i,j} - V_{i-1,j} \\right) + \n",
    "G \\left( V_{i,j} - V_{i,j+1} \\right) + G \\left( V_{i,j} - V_{i,j-1} \\right) = 0  \\; ,\n",
    "\\label{_auto43} \\tag{52}\n",
    "\\end{equation}\n",
    "$$"
   ]
  },
  {
   "cell_type": "markdown",
   "metadata": {},
   "source": [
    "which also gives"
   ]
  },
  {
   "cell_type": "markdown",
   "metadata": {},
   "source": [
    "<!-- Equation labels as ordinary links -->\n",
    "<div id=\"_auto44\"></div>\n",
    "\n",
    "$$\n",
    "\\begin{equation}\n",
    "\\left( V_{i,j} - V_{i+1,j} \\right) + \\left( V_{i,j} - V_{i-1,j} \\right) + \n",
    "\\left( V_{i,j} - V_{i,j+1} \\right) + \\left( V_{i,j} - V_{i,j-1} \\right) = 0 \\; .\n",
    "\\label{_auto44} \\tag{53}\n",
    "\\end{equation}\n",
    "$$"
   ]
  },
  {
   "cell_type": "markdown",
   "metadata": {},
   "source": [
    "This is identical to the discrete version of Laplace's equation. Can we understand this? We know that Ohm's law on microscopic form is $\\vec{J} = \\sigma \\vec{E}$ where $\\vec{E} = -\\nabla V$. In addition, we know that when there is no local changes in charges, we have that $\\nabla \\cdot \\vec{J} = 0$. This gives us that"
   ]
  },
  {
   "cell_type": "markdown",
   "metadata": {},
   "source": [
    "<!-- Equation labels as ordinary links -->\n",
    "<div id=\"_auto45\"></div>\n",
    "\n",
    "$$\n",
    "\\begin{equation}\n",
    "\\nabla \\cdot \\vec{J} = \\nabla \\cdot \\left( - \\sigma \\nabla V \\right) = - \\sigma \\nabla^2 V = 0 \\; .\n",
    "\\label{_auto45} \\tag{54}\n",
    "\\end{equation}\n",
    "$$"
   ]
  },
  {
   "cell_type": "markdown",
   "metadata": {},
   "source": [
    "This is indeed Laplace's equation.\n",
    "\n",
    "\n",
    "\n",
    "\n",
    "\n",
    "We now also have the tools to model and study how current is flowing through a disordered material.\n",
    "\n",
    "study how current is flowing through a disordered material with a random distribution of \n",
    "\n",
    "\n",
    "# Summary\n",
    "\n",
    "The **electric field** point in the direction along a wire/conductor due to the immediate motion of charges to the surface of the conductor.\n",
    "\n",
    "We analyze circuits using **Kirchoff's laws for circuits**:\n",
    "\n",
    "* **Kirchoff's voltage law** states that the sum of voltage changes along a closed loop along a circuit is zero: $\\sum_i \\Delta V_i = 0$\n",
    "\n",
    "* **Kirchoff's current law** states that the sum of currents flowing into (or out out) a junction is zero: $\\sum_i I_i = 0$\n",
    "\n",
    "The voltage drop of gain across various components are:\n",
    "* Zero along a **wire** . The potential is the same along a wire\n",
    "\n",
    "* $V = -IR$ for a **resistor** in the positive direction of the current\n",
    "\n",
    "* $V = -(1/C) \\, Q$ for a **capacitor** in the positive direction of the current\n",
    "\n",
    "* $V = e$ for a battery\n",
    "\n",
    "We use circuits as models for complex electromagnetic systems, where we simplify the physical situation by combining the components in a circuit diagram and then analyze the circuit.\n",
    "\n",
    "# Exercises\n",
    "\n",
    "## Test yourself\n",
    "\n",
    "## Discussion exercises\n",
    "\n",
    "\n",
    "\n",
    "<!-- --- begin exercise --- -->\n",
    "\n",
    "## Exercise 1: Strøm i en kondensator\n",
    "\n",
    "Er strømmen på hver side av en plate-kondensator alltid den samme? Forklar hvorfor eller hvorfor ikke.\n",
    "\n",
    "<!-- --- end exercise --- -->\n",
    "\n",
    "\n",
    "\n",
    "\n",
    "<!-- --- begin exercise --- -->\n",
    "\n",
    "## Exercise 2: Lyset som gikk\n",
    "\n",
    "Hvorfor går en (elektrisk) lyspære nesten alltid i stykker i det du skrur på lyset og ikke mens den er på?\n",
    "\n",
    "<!-- --- end exercise --- -->\n",
    "\n",
    "\n",
    "## Tutorials\n",
    "\n",
    "\n",
    "\n",
    "<!-- --- begin exercise --- -->\n",
    "\n",
    "## Exercise 3: RC circuits\n",
    "\n",
    "(*Based on a tutorial from University of Wisconsin - Madison*)\n",
    "\n",
    "In this tutorial we will address resistors and capacitors in a circuit.\n",
    "\n",
    "The capacitor $C_1$ has a charge of $1 \\, \\mu\\text{C}$ with the sign as indicated in Fig. [fig:circuits-RC-circuit-010](#fig:circuits-RC-circuit-010)a.\n",
    "\n",
    "<!-- dom:FIGURE:[fig-circuits/circuits-RC-circuit-010.png, width=600 frac=0.8] Illustration of the RC circuit. <div id=\"fig:circuits-RC-circuit-010\"></div> -->\n",
    "<!-- begin figure -->\n",
    "<div id=\"fig:circuits-RC-circuit-010\"></div>\n",
    "\n",
    "<p>Illustration of the RC circuit.</p>\n",
    "<img src=\"fig-circuits/circuits-RC-circuit-010.png\" width=600>\n",
    "\n",
    "<!-- end figure -->\n",
    "\n",
    "\n",
    "\n",
    "**a)**\n",
    "What is the potential difference $V_C - V_D$? (The circuit is as drawn, with A and B the ends of the wires, not connected to anything else).\n",
    "\n",
    "\n",
    "\n",
    "**b)**\n",
    "What is the potential difference $V_A - V_B$? (The circuit is as drawn, with A and B the ends of the wires, not connected to anything else).\n",
    "\n",
    "\n",
    "\n",
    "**c)**\n",
    "Now a 9V battery is connected to the circuit, the + terminal to A and the – terminal to B. What is the current through $R_1$ immediately after connecting the battery? (Current flowing toward the capacitor (from A to C) is defined to be positive).\n",
    "\n"
   ]
  },
  {
   "cell_type": "markdown",
   "metadata": {},
   "source": [
    "\n",
    "**d)**\n",
    "After a very long time, with the battery still connected, what is the total amount of charge that has flowed from the battery through $R_1$?\n",
    "\n"
   ]
  },
  {
   "cell_type": "markdown",
   "metadata": {},
   "source": [
    "\n",
    "**e)**\n",
    "After this very long time, the battery is disconnected, with terminals A and B open again. How much energy is stored in the capacitor?\n",
    "\n",
    "A resistor $R_2 = 50 \\text{k}\\Omega$ is then connected between A and B as shown in Fig. [fig:circuits-RC-circuit-010](#fig:circuits-RC-circuit-010)c.\n",
    "\n",
    "**f)**\n",
    "Immediately after connecting $R_2$, what is the current flowing through $R_1$?\n",
    "\n"
   ]
  },
  {
   "cell_type": "markdown",
   "metadata": {},
   "source": [
    "\n",
    "**g)**\n",
    "Will this current increase, decrease, or stay the same as time goes on?\n",
    "\n",
    "\n",
    "\n",
    "\n",
    "\n",
    "\n",
    "<!-- --- end exercise --- -->\n",
    "\n",
    "\n",
    "## Homework\n",
    "\n",
    "\n",
    "\n",
    "<!-- --- begin exercise --- -->\n",
    "\n",
    "## Exercise 4: A simple circuit\n",
    "\n",
    "Fig. [fig:circuits-simplecircuit-010](#fig:circuits-simplecircuit-010) illustrates a simple circuit driven by a battery with emf $V_0$, and consisting of two resistors $R_1$ and $R_2$.\n",
    "\n",
    "<!-- dom:FIGURE:[fig-circuits/circuits-simplecircuit-010.png, height=400 width=600 frac=0.6] Illustration of a simple circuit. <div id=\"fig:circuits-simplecircuit-010\"></div>. -->\n",
    "<!-- begin figure -->\n",
    "<div id=\"fig:circuits-simplecircuit-010\"></div>\n",
    "\n",
    "<p>Illustration of a simple circuit..</p>\n",
    "<img src=\"fig-circuits/circuits-simplecircuit-010.png\" height=400 width=600>\n",
    "\n",
    "<!-- end figure -->\n",
    "\n",
    "\n",
    "\n",
    "**a)**\n",
    "Find the current $I$ through the battery expressed in terms of $V$, $R_1$ and $R_2$.\n",
    "\n"
   ]
  },
  {
   "cell_type": "markdown",
   "metadata": {},
   "source": [
    "\n"
   ]
  },
  {
   "cell_type": "markdown",
   "metadata": {},
   "source": [
    "\n",
    "**b)**\n",
    "What is the power develived by the battery?\n",
    "\n"
   ]
  },
  {
   "cell_type": "markdown",
   "metadata": {},
   "source": [
    "\n"
   ]
  },
  {
   "cell_type": "markdown",
   "metadata": {},
   "source": [
    "\n",
    "<!-- --- end exercise --- -->\n",
    "\n",
    "\n",
    "\n",
    "\n",
    "<!-- --- begin exercise --- -->\n",
    "\n",
    "## Exercise 5: A circuit-model for a cell\n",
    "\n",
    "We study a circuit as a model for a cell membrane. The circuit consists of a capacitor $C$, a resistor $R$, and a battery with an emf $e$ connected as illustrated in the figure. We measure the potential difference between points A and B, $V_{AB}$.\n",
    "\n",
    "<!-- dom:FIGURE:[fig-circuits/circuits-cell-circuit-010.png, height=400 width=600 frac=0.4] -->\n",
    "<!-- begin figure -->\n",
    "\n",
    "<p></p>\n",
    "<img src=\"fig-circuits/circuits-cell-circuit-010.png\" height=400 width=600>\n",
    "\n",
    "<!-- end figure -->\n",
    "\n",
    "\n",
    "\n",
    "**a)**\n",
    "At the time $t=0$ the capacitor is without charge. What is the current $I_R$ through the resistor at $t=0$?\n",
    "\n",
    "\n",
    "\n",
    "\n",
    "\n",
    "**b)**\n",
    "What is the charge, $Q_{\\infty}$, at the capacitor when $t \\rightarrow \\infty$?\n",
    "\n",
    "\n",
    "\n",
    "\n",
    "\n",
    "**c)**\n",
    "Show that an equation to describe the charge, $Q$, on the capacitor can be written as"
   ]
  },
  {
   "cell_type": "markdown",
   "metadata": {},
   "source": [
    "$$\n",
    "\\begin{equation}\n",
    "\\frac{dQ}{dt} = \\frac{1}{\\tau} \\left( Q_{\\infty} - Q \\right) \\; ,\n",
    "\\label{}\n",
    "\\end{equation}\n",
    "$$"
   ]
  },
  {
   "cell_type": "markdown",
   "metadata": {},
   "source": [
    "where $\\tau = R C$.\n",
    "\n"
   ]
  },
  {
   "cell_type": "markdown",
   "metadata": {},
   "source": [
    "\n",
    "**d)**\n",
    "Write a program to find the voltage $V_{AB}(t)$ as a function of time for this system.\n",
    "\n"
   ]
  },
  {
   "cell_type": "markdown",
   "metadata": {},
   "source": [
    "\n",
    "<!-- --- end exercise --- -->\n",
    "\n",
    "\n",
    "\n",
    "\n",
    "<!-- --- begin exercise --- -->\n",
    "\n",
    "## Exercise 6: Wheatstone bridge\n",
    "\n",
    "Fig. [fig:circuits-wheatstone-010](#fig:circuits-wheatstone-010) illustrates a Wheatstone bridge, which is used to measure resistance. In the circuit, $R_3$ is variable resistance, $R_x$ is the unknow resistance, and $R_1$ and $R_2$ are given, known resistances. The voltmeter has inifinite resistance.\n",
    "\n",
    "<!-- dom:FIGURE:[fig-circuits/circuits-wheatstone-010.png, height=400 width=600 frac=0.6] Illustration of a Wheatstone bridge. <div id=\"fig:circuits-wheatstone-010\"></div>. -->\n",
    "<!-- begin figure -->\n",
    "<div id=\"fig:circuits-wheatstone-010\"></div>\n",
    "\n",
    "<p>Illustration of a Wheatstone bridge..</p>\n",
    "<img src=\"fig-circuits/circuits-wheatstone-010.png\" height=400 width=600>\n",
    "\n",
    "<!-- end figure -->\n",
    "\n",
    "\n",
    "\n",
    "**a)**\n",
    "Find the voltage difference $V_a - V_b$ which is read from the voltmeter expressed in terms of the four resistances.\n",
    "\n",
    "\n",
    "\n"
   ]
  },
  {
   "cell_type": "markdown",
   "metadata": {},
   "source": [
    "\n",
    "**b)**\n",
    "The variable resistance $R_3$ is adjusted until the measured voltage is zero. Find the unknown resistance $R_x$ from the other resistances.\n",
    "\n",
    "\n",
    "\n"
   ]
  },
  {
   "cell_type": "markdown",
   "metadata": {},
   "source": [
    "\n",
    "<!-- --- end exercise --- -->\n",
    "\n",
    "\n",
    "\n",
    "\n",
    "<!-- --- begin exercise --- -->\n",
    "\n",
    "## Exercise 7: Lightning strike\n",
    "\n",
    "In this problem we will develop a simple model for dielectric breakdown in a circuit. You may think of the system as a model for a lightning forming between clouds, or you may think of the model as an example of dielectric breakdown in a capacitor.\n",
    "\n",
    "We start from the system illustrated in Fig. [fig:circuits-dielectricbreakdown-010](#fig:circuits-dielectricbreakdown-010)a consisting of a battery with emf $V_0$, a capacitor $C$ and a resistor $R_0$.\n",
    "\n",
    "<!-- dom:FIGURE:[fig-circuits/circuits-RC-circuit-010.png, width=600 frac=0.8] Illustration of the RC circuit. <div id=\"fig:circuits-dielectricbreakdown-010\"></div> -->\n",
    "<!-- begin figure -->\n",
    "<div id=\"fig:circuits-dielectricbreakdown-010\"></div>\n",
    "\n",
    "<p>Illustration of the RC circuit.</p>\n",
    "<img src=\"fig-circuits/circuits-RC-circuit-010.png\" width=600>\n",
    "\n",
    "<!-- end figure -->\n",
    "\n",
    "\n",
    "\n",
    "**a)**\n",
    "The circuit is open and has been open for a long time. Then at $t = 0$ the circuit becomes closed. What is the charge $Q(0)$ on the capacitor and the potential fall $V(0)$ over the capacitor immediately after the circuit is closed (at $t=0$)?\n",
    "\n",
    "\n",
    "\n",
    "\n",
    "\n",
    "**b)**\n",
    "What is the potential fall $V$ over the capacitor and the charge $Q$ on the capacitor when there is no current flowing in the circuit? (A very long time after the battery has been connected to the circuit).\n",
    "\n",
    "\n",
    "\n",
    "\n",
    "\n",
    "**c)**\n",
    "Find the potential drop over the capacitor, $V(t)$.\n",
    "\n",
    "\n",
    "\n",
    "\n",
    "\n",
    "\\noindent\n",
    "We will model the dielectric breakdown of the capacitor by introducing a voltage-dependent resistor, $R$, in parallel to the capacitor as illustrated in Fig. [fig:circuits-dielectricbreakdown-010](#fig:circuits-dielectricbreakdown-010)b. The resistance depends on the voltage $V$ across the resistor:"
   ]
  },
  {
   "cell_type": "markdown",
   "metadata": {},
   "source": [
    "<!-- Equation labels as ordinary links -->\n",
    "<div id=\"_auto56\"></div>\n",
    "\n",
    "$$\n",
    "\\begin{equation}\n",
    "R(V) = \\left\\{ \\begin{array}{cc}\n",
    "\\infty & \\quad V<V_0/2 \\\\ \n",
    "xR_0 & \\quad V \\ge V_0/2\n",
    "\\end{array}\n",
    "\\right. \\; .\n",
    "\\label{_auto56} \\tag{65}\n",
    "\\end{equation}\n",
    "$$"
   ]
  },
  {
   "cell_type": "markdown",
   "metadata": {},
   "source": [
    "where $x$ is a small number, such as $1/1000$.\n",
    "\n",
    "**d)**\n",
    "Write a python program to model the behavior of the system and plot the $V(t)$, the current $I_0(t)$ through resistor $R_0$ and the current $I(t)$ through the resistor $R$. Model the behavior from $t=0$ when the circuit is closed.\n",
    "\n",
    "<!-- --- end exercise --- -->\n",
    "\n",
    "\n",
    "\n",
    "\n",
    "<!-- --- begin exercise --- -->\n",
    "\n",
    "## Exercise 8: Kirchoff's circuit laws\n",
    "\n",
    "*(B Sigurd Sørlie Rustad)*\n",
    "\n",
    "In this exercise we are going to look at Kirchoff's laws, and solve problems using linear algebra.\n",
    "\n",
    "\n",
    "**a)**\n",
    "Write down Kirchoff's laws.\n",
    "\n",
    "\n",
    "\n",
    "**b)**\n",
    "The voltages are $U_1 = 10\\text{V}$ and $U_2 = 5\\text{V}$. The resistances are $R_1 = 10\\Omega$, $R_2 = 20\\Omega$ and $R_3 = 30\\Omega$. Using Kirchoff's laws, find the equations needed to solve for the currents. Write it as a matrix equation and use Python to inverse the matrix and find the solution.\n",
    "\n",
    "<!-- dom:FIGURE:[fig-circuits/kirchoff_krets1.png, width=600 frac=1.0] -->\n",
    "<!-- begin figure -->\n",
    "\n",
    "<p></p>\n",
    "<img src=\"fig-circuits/kirchoff_krets1.png\" width=600>\n",
    "\n",
    "<!-- end figure -->\n",
    "\n",
    "\n",
    "\n",
    "\n"
   ]
  },
  {
   "cell_type": "markdown",
   "metadata": {},
   "source": [
    "\n",
    "**c)**\n",
    "Do the same for the circuit under as you did for the previous exersice. Use $R_4 = 40\\Omega$, $R_5 = 50\\Omega$, $R_6 = 60\\Omega$, $U_3 = 12\\text{V}$ and $U_4 = 24\\text{V}$. \n",
    "\n",
    "<!-- dom:FIGURE:[fig-circuits/kirchoff_krets2.png, width=600 frac=1.0] -->\n",
    "<!-- begin figure -->\n",
    "\n",
    "<p></p>\n",
    "<img src=\"fig-circuits/kirchoff_krets2.png\" width=600>\n",
    "\n",
    "<!-- end figure -->\n",
    "\n",
    "\n",
    "\n",
    "\n"
   ]
  },
  {
   "cell_type": "markdown",
   "metadata": {},
   "source": [
    "\n",
    "<!-- --- end exercise --- -->\n",
    "\n",
    "\n",
    "## Modeling projects\n",
    "\n",
    "\n",
    "\n",
    "<!-- --- begin exercise --- -->\n",
    "\n",
    "## Exercise 9: Voltage gated ion channels\n",
    "\n",
    "The figure below shows a simple model for a small element in a cell membrane. The resistor $r$ represents an ion channel, but this channel is special: When the potential drop over the resistor is less than $v$, then then resistance is infinite, but when the voltage drop is larger than $v$, the resistance is $r$:"
   ]
  },
  {
   "cell_type": "markdown",
   "metadata": {},
   "source": [
    "<!-- Equation labels as ordinary links -->\n",
    "<div id=\"_auto65\"></div>\n",
    "\n",
    "$$\n",
    "\\begin{equation}\n",
    "r = \\left\\{ \\begin{array}{cc}\n",
    "r & \\; , V_r > v \\\\ \n",
    "\\infty & \\; , V_r \\le v \\end{array} \\right. \\; ,\n",
    "\\label{_auto65} \\tag{74}\n",
    "\\end{equation}\n",
    "$$"
   ]
  },
  {
   "cell_type": "markdown",
   "metadata": {},
   "source": [
    "where $V_r$ is the voltage drop across the resistor.\n",
    "\n",
    "<!-- dom:FIGURE:[fig-circuits/circuits-voltagegated-010.png, height=400 width=600 frac=0.3] -->\n",
    "<!-- begin figure -->\n",
    "\n",
    "<p></p>\n",
    "<img src=\"fig-circuits/circuits-voltagegated-010.png\" height=400 width=600>\n",
    "\n",
    "<!-- end figure -->\n",
    "\n",
    "\n",
    "\n",
    "**a)**\n",
    "Assume that the voltage $V_s$ has been zero for a long time, so that hte system is stationary. What is the voltage $V_C$ over the capacitor and the current through the resistor $R$ immediately after the voltage $V_s$ is set to $V_s>0$?\n",
    "\n",
    "\n",
    "\n",
    "**b)**\n",
    "First, assume that the voltage $V_r$ over the resistor $r$ is less than $v$. Show that the equation for the voltage $V_C$ over the capacitor can be written as:"
   ]
  },
  {
   "cell_type": "markdown",
   "metadata": {},
   "source": [
    "<!-- Equation labels as ordinary links -->\n",
    "<div id=\"_auto66\"></div>\n",
    "\n",
    "$$\n",
    "\\begin{equation}\n",
    "C \\frac{dV_c}{dt} = \\frac{V_s}{R} - \\frac{V_C}{R} \\; .\n",
    "\\label{_auto66} \\tag{75}\n",
    "\\end{equation}\n",
    "$$"
   ]
  },
  {
   "cell_type": "markdown",
   "metadata": {},
   "source": [
    "\n",
    "**c)**\n",
    "Assume that the volrage $V_r$ over the resistor $r$ is larger than $v$. What is now the equation for the volage $V_C$?\n",
    "\n"
   ]
  },
  {
   "cell_type": "markdown",
   "metadata": {},
   "source": [
    "\n",
    "**d)**\n",
    "Write a program to calculate the voltage $V_C$ over the capacitor given the voltage source $V_s(t)$. You may assume that the voltage $V_C(0)$ has the value from part (a).\n",
    "\n"
   ]
  },
  {
   "cell_type": "markdown",
   "metadata": {},
   "source": [
    "\n",
    "\n",
    "\n",
    "<!-- --- end exercise --- -->\n",
    "\n",
    "\n",
    "# References\n",
    "\n",
    "1. <div id=\"malthesorenssen_percolation_2020\"></div> **A. Malthe-Sorenssen**. \n",
    "    *Percolation Theory Using Python*,\n",
    "    Springer,\n",
    "    2020."
   ]
  }
 ],
 "metadata": {},
 "nbformat": 4,
 "nbformat_minor": 2
}