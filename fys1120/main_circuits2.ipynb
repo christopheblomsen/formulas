{
 "cells": [
  {
   "cell_type": "markdown",
   "metadata": {},
   "source": [
    "<!-- dom:TITLE: Electric circuits --- part 2 -->\n",
    "# Electric circuits --- part 2\n",
    "<!-- dom:AUTHOR: Anders Malthe-Sørenssen at Department of Physics, University of Oslo -->\n",
    "<!-- Author: -->  \n",
    "**Anders Malthe-Sørenssen**, Department of Physics, University of Oslo\n",
    "\n",
    "Date: **Nov 27, 2020**\n",
    "\n",
    "<!-- Externaldocuments: ../nickname1/main_nickname1, ../nickname2/main_nickname2 -->\n",
    "\n",
    "<!-- Common Mako variables and functions -->\n",
    "\n",
    "\n",
    "\n",
    "\n",
    "\n",
    "\n",
    "\n",
    "\n",
    "\n",
    "With the introduction of inductance, we have completed the set of standard circuit components. We now have components to model the effect of capacitance, the local storage of charge, resistance, the finite conductivity of conductors and isolators, and inductance, the self-inducante due to interactions between the circuit and the magnetic field. These components provide the basic building blocks of the circuits we build and of the circuit models we use to represent complex, real systems. In this chapter, we will complete the description of circuits with the introduction of the inductor with inductance $L$, we will analyze and study the time dynamics of circuits by direct time integration. We will also introduce a simplified method to represent components and dynamics in systems driven by an alternating current.\n",
    "\n",
    "# Circuit components\n",
    "\n",
    "We have already introduced the main components used in circuit diagrams. We now complete the description by introducing the *inductor* with inductance $L$. The inductor can either be thought of as modeling the effective inductance in a system, such as the inherent inductance in any current loop, or it can be thought of as a circuit element such as a coil with an iron core, which is used to damp out rapid changes in current. The circuit elements are illustrated in Fig. [fig:circuits2-symbols-010](#fig:circuits2-symbols-010). The inductor is illustrated as a small spiral, imitating the look of a small solenoid.\n",
    "\n",
    "<!-- dom:FIGURE:[fig-circuits2/circuits2-symbols-010.png, width=600 frac=0.9] Illustrations of the main circuit elements: (a) Voltage source, (b) battery, (c) switch, (d) resistor, (e) capacitor, (f) inductor. <div id=\"fig:circuits2-symbols-010\"></div> -->\n",
    "<!-- begin figure -->\n",
    "<div id=\"fig:circuits2-symbols-010\"></div>\n",
    "\n",
    "<p>Illustrations of the main circuit elements: (a) Voltage source, (b) battery, (c) switch, (d) resistor, (e) capacitor, (f) inductor.</p>\n",
    "<img src=\"fig-circuits2/circuits2-symbols-010.png\" width=600>\n",
    "\n",
    "<!-- end figure -->\n",
    "\n",
    "\n",
    "An inductor is characterized by its inductance $L$. We know how to calculate or measure the inductance for a given circuit geometry, and we know that it only depend on the geometry of the system and the magnetic materials used. The flux through the circuit due to the inductor is"
   ]
  },
  {
   "cell_type": "markdown",
   "metadata": {},
   "source": [
    "<!-- Equation labels as ordinary links -->\n",
    "<div id=\"_auto1\"></div>\n",
    "\n",
    "$$\n",
    "\\begin{equation}\n",
    "\\Phi = L I \\; ,\n",
    "\\label{_auto1} \\tag{1}\n",
    "\\end{equation}\n",
    "$$"
   ]
  },
  {
   "cell_type": "markdown",
   "metadata": {},
   "source": [
    "and the emf associated with the inductor is"
   ]
  },
  {
   "cell_type": "markdown",
   "metadata": {},
   "source": [
    "<!-- Equation labels as ordinary links -->\n",
    "<div id=\"_auto2\"></div>\n",
    "\n",
    "$$\n",
    "\\begin{equation}\n",
    "e = - \\frac{\\mathrm{d}}{\\mathrm{d} t}\\Phi = -L \\frac{\\mathrm{d} I}{\\mathrm{d} t} \\; ,\n",
    "\\label{_auto2} \\tag{2}\n",
    "\\end{equation}\n",
    "$$"
   ]
  },
  {
   "cell_type": "markdown",
   "metadata": {},
   "source": [
    "where $L$ does not vary with time. The emf from the inductor is included in Kirchoff's voltage law for a circuit.\n",
    "\n",
    "## Description of circuit elements\n",
    "\n",
    "Let us summarize the contributions to Kirchoff's voltage law of the various components in the circuit illustrated in Fig. [fig:circuits2-kirchoff-010](#fig:circuits2-kirchoff-010).\n",
    "\n",
    "<!-- dom:FIGURE:[fig-circuits2/circuits2-kirchoff-010.png, width=600 frac=0.5] Illustration of a circuit with a battery $V_b$, a resistor $R$, a capacitor $C$ and an inductor $L$. <div id=\"fig:circuits2-kirchoff-010\"></div> -->\n",
    "<!-- begin figure -->\n",
    "<div id=\"fig:circuits2-kirchoff-010\"></div>\n",
    "\n",
    "<p>Illustration of a circuit with a battery $V_b$, a resistor $R$, a capacitor $C$ and an inductor $L$.</p>\n",
    "<img src=\"fig-circuits2/circuits2-kirchoff-010.png\" width=600>\n",
    "\n",
    "<!-- end figure -->\n",
    "\n",
    "\n",
    "Kirchoff's voltage law for a complete loop around the circuit is"
   ]
  },
  {
   "cell_type": "markdown",
   "metadata": {},
   "source": [
    "<!-- Equation labels as ordinary links -->\n",
    "<div id=\"_auto3\"></div>\n",
    "\n",
    "$$\n",
    "\\begin{equation}\n",
    "\\sum_i e_i - \\sum_j \\Delta V_j = 0 \\; ,\n",
    "\\label{_auto3} \\tag{3}\n",
    "\\end{equation}\n",
    "$$"
   ]
  },
  {
   "cell_type": "markdown",
   "metadata": {},
   "source": [
    "which in this case is"
   ]
  },
  {
   "cell_type": "markdown",
   "metadata": {},
   "source": [
    "<!-- Equation labels as ordinary links -->\n",
    "<div id=\"_auto4\"></div>\n",
    "\n",
    "$$\n",
    "\\begin{equation}\n",
    "\\underbrace{V_b}_{\\text{emf}} - \\underbrace{L \\frac{\\mathrm{d} I}{\\mathrm{d} t}}_{V_L} - \\underbrace{R I}_{V_R} - \\underbrace{\\frac{1}{C}Q}_{V_C} = 0\n",
    "\\label{_auto4} \\tag{4}\n",
    "\\end{equation}\n",
    "$$"
   ]
  },
  {
   "cell_type": "markdown",
   "metadata": {},
   "source": [
    "Let us address the individual components:\n",
    "\n",
    "### Battery\n",
    "\n",
    "A battery or a voltage source contributes with an emf $V_b(t)$ to the circuit. This corresponds to a voltage increase where the other components corresponds to voltage drops. We recall that a battery may be through of as a mechanical battery lifting charges by an external, non-coulombic force against the electric field.\n",
    "\n",
    "### Resistor\n",
    "\n",
    "The resistor $R$ is drawn either as a small rectangle, illustrating the cylindrical shape often used, or as a zig-zag line. The voltage drop across the resistor is $\\Delta V = RI$, where $R$ is the resistance of the resistor. We recall that we combine resistors in series by adding them: $R = \\sum_i R_i$ and that we combine resistors in parallel by adding their inverse: $1/R = \\sum_i 1/R_i$. The power dissipation in a resistor is $P = RI^2$.\n",
    "\n",
    "### Capacitor\n",
    "\n",
    "The capacitor $C$ acts as a charge storage device and is characterized by its capacitance $C = Q/V$, where $Q$ is the charge on each side of the capacitor when the voltage difference is $V$. The current flowing into a capacitor is related to the change in charge $Q$ on the capacitor: $I = \\mathrm{d} Q/\\mathrm{d} t$. If we insert $Q = CV$, we get"
   ]
  },
  {
   "cell_type": "markdown",
   "metadata": {},
   "source": [
    "<!-- Equation labels as ordinary links -->\n",
    "<div id=\"_auto5\"></div>\n",
    "\n",
    "$$\n",
    "\\begin{equation}\n",
    "\\frac{\\mathrm{d} Q}{\\mathrm{d} t} = I = C \\frac{\\mathrm{d} V}{\\mathrm{d} t} \\; ,\n",
    "\\label{_auto5} \\tag{5}\n",
    "\\end{equation}\n",
    "$$"
   ]
  },
  {
   "cell_type": "markdown",
   "metadata": {},
   "source": [
    "when $C$ does not vary with time. The capacitor cam be thought of as a component that resists changes in voltage in the system. We recall that we combine capacitors in series by adding their inverse capacitances: $1/C = \\sum_i 1/C_i$ and that we combine capacitors in parallel by adding their capacitances: $C = \\sum_i C_i$.\n",
    "\n",
    "### Inductor\n",
    "\n",
    "The inductor $L$ introduces an additional emf $e = - \\mathrm{d} \\Phi / \\mathrm{d} t = -L \\mathrm{d} I/\\mathrm{d} t$. The emf is included as a voltage jump, similar to the battery, or we include $-e$ as a voltage drop in the circuit. The voltage drop across the inductor is then $V = - e = L \\mathrm{d} I / \\mathrm{d} t$.\n",
    "\n",
    "## Combing inductors\n",
    "\n",
    "We have found rules for combining both resistors and capacitors in series and parallel, and this is actively used to analyze circuits. Can we find similar laws for the combination of inductors?\n",
    "\n",
    "### Inductors in series\n",
    "\n",
    "Fig. [fig:circuits2-combining-010](#fig:circuits2-combining-010)a illustrates a series coupling of two inductors $L_1$ and $L_2$. Can we replace these two elements by a single inductor $L$? The same current $I$ runs through both inductors. The voltages drop across each of the two inductors are $V_1 = L_1 \\mathrm{d} I/\\mathrm{d} t$ and $V_2 = L_2 \\mathrm{d} I / \\mathrm{d} t$. The total voltage drop across the two inductors are"
   ]
  },
  {
   "cell_type": "markdown",
   "metadata": {},
   "source": [
    "<!-- Equation labels as ordinary links -->\n",
    "<div id=\"_auto6\"></div>\n",
    "\n",
    "$$\n",
    "\\begin{equation}\n",
    "V = V_1 + V_2 = L_1 \\frac{\\mathrm{d} I}{\\mathrm{d} t} + L_2 \\frac{\\mathrm{d} I}{\\mathrm{d} t} = \\underbrace{\\left( L_1 + L_2 \\right)}_{L} \\frac{\\mathrm{d} I}{\\mathrm{d} t} = L \\frac{\\mathrm{d} I}{\\mathrm{d} t}\\; .\n",
    "\\label{_auto6} \\tag{6}\n",
    "\\end{equation}\n",
    "$$"
   ]
  },
  {
   "cell_type": "markdown",
   "metadata": {},
   "source": [
    "We can therefore replace the two inductors $L_1$ and $L_2$ with a single inductor with inductance $L = L_1 + L_2$. We therefore conclude that we *add inductances in series*.\n",
    "\n",
    "<!-- dom:FIGURE:[fig-circuits2/circuits2-combining-010.png, width=600 frac=0.8] (a) Illustration of a series coupling of two inductors. (b) Illustration of a parallel coupling of two inductors. <div id=\"fig:circuits2-combining-010\"></div> -->\n",
    "<!-- begin figure -->\n",
    "<div id=\"fig:circuits2-combining-010\"></div>\n",
    "\n",
    "<p>(a) Illustration of a series coupling of two inductors. (b) Illustration of a parallel coupling of two inductors.</p>\n",
    "<img src=\"fig-circuits2/circuits2-combining-010.png\" width=600>\n",
    "\n",
    "<!-- end figure -->\n",
    "\n",
    "\n",
    "### Inductors in parallel\n",
    "\n",
    "Fig. [fig:circuits2-combining-010](#fig:circuits2-combining-010)b illustrates a parallel coupling of two inductors $L_1$ and $L_2$. The voltage drop over both inductors are $V$ so that"
   ]
  },
  {
   "cell_type": "markdown",
   "metadata": {},
   "source": [
    "<!-- Equation labels as ordinary links -->\n",
    "<div id=\"_auto7\"></div>\n",
    "\n",
    "$$\n",
    "\\begin{equation}\n",
    "V = L_1\\frac{\\mathrm{d} I_1}{\\mathrm{d} t} = L_2 \\frac{\\mathrm{d} I_2 }{\\mathrm{d} t} \\; ,\n",
    "\\label{_auto7} \\tag{7}\n",
    "\\end{equation}\n",
    "$$"
   ]
  },
  {
   "cell_type": "markdown",
   "metadata": {},
   "source": [
    "giving"
   ]
  },
  {
   "cell_type": "markdown",
   "metadata": {},
   "source": [
    "<!-- Equation labels as ordinary links -->\n",
    "<div id=\"_auto8\"></div>\n",
    "\n",
    "$$\n",
    "\\begin{equation}\n",
    "\\frac{V}{L_1} = \\frac{\\mathrm{d} I_1}{\\mathrm{d} t} \\;  \\text{ and } \\; \\frac{V}{L_2} = \\frac{\\mathrm{d} I_2}{\\mathrm{d} t} \\; ,\n",
    "\\label{_auto8} \\tag{8}\n",
    "\\end{equation}\n",
    "$$"
   ]
  },
  {
   "cell_type": "markdown",
   "metadata": {},
   "source": [
    "where $I = I_1 + I_2$ so that"
   ]
  },
  {
   "cell_type": "markdown",
   "metadata": {},
   "source": [
    "<!-- Equation labels as ordinary links -->\n",
    "<div id=\"_auto9\"></div>\n",
    "\n",
    "$$\n",
    "\\begin{equation}\n",
    "\\frac{V}{L} = \\frac{\\mathrm{d} I }{\\mathrm{d} t} = \\frac{\\mathrm{d} I_1}{\\mathrm{d} t} + \\frac{\\mathrm{d} I_2}{\\mathrm{d} t} = \\frac{V}{L_1} + \\frac{V}{L_2} = V \\left( \\frac{1}{L_1} + \\frac{1}{L_2} \\right) \\; .\n",
    "\\label{_auto9} \\tag{9}\n",
    "\\end{equation}\n",
    "$$"
   ]
  },
  {
   "cell_type": "markdown",
   "metadata": {},
   "source": [
    "We can therefore replace the two inductors $L_1$ and $L_2$ with one inductor with inductance $1/L = 1/L_1 + 1/L_2$ and we conclude that we add the inverses of inductors in parallel.\n",
    "\n",
    "# Circuits in the time domain\n",
    "\n",
    "In order to analyze the time dynamics of circuits, we apply Kirchoff's voltage and current laws to form a set of (differential) equations describing the currents and voltages in the circuits. Let us address some classical examples.\n",
    "\n",
    "## Example: The $RC$ circuit\n",
    "\n",
    "We already analyzed an example of an $RC$-circuit previously. Let us quickly repeat here. Fig. [fig:circuits2-timecircuits-010](#fig:circuits2-timecircuits-010)a illustrates a circuit consisting of a voltage source $V_b(t)$ connected in series with a resistor $R$ and a capacitor $C$. We apply Kirchoff's voltage law to the complete loop:"
   ]
  },
  {
   "cell_type": "markdown",
   "metadata": {},
   "source": [
    "<!-- Equation labels as ordinary links -->\n",
    "<div id=\"_auto10\"></div>\n",
    "\n",
    "$$\n",
    "\\begin{equation}\n",
    "V_b - V_R - V_C = 0 \\; ,\n",
    "\\label{_auto10} \\tag{10}\n",
    "\\end{equation}\n",
    "$$"
   ]
  },
  {
   "cell_type": "markdown",
   "metadata": {},
   "source": [
    "where $V_b$ is the given voltage source, $V_R = R I(t)$ is the voltage drop across the resistor, and $V_C = Q/C$ is the voltage drop across the capacitor.\n",
    "\n",
    "<!-- dom:FIGURE:[fig-circuits2/circuits2-timecircuits-010.png, width=600 frac=1.0] (a) Illustration of a series coupling of two inductors. (b) Illustration of a parallel coupling of two inductors. <div id=\"fig:circuits2-timecircuits-010\"></div> -->\n",
    "<!-- begin figure -->\n",
    "<div id=\"fig:circuits2-timecircuits-010\"></div>\n",
    "\n",
    "<p>(a) Illustration of a series coupling of two inductors. (b) Illustration of a parallel coupling of two inductors.</p>\n",
    "<img src=\"fig-circuits2/circuits2-timecircuits-010.png\" width=600>\n",
    "\n",
    "<!-- end figure -->\n",
    "\n",
    "\n",
    "### Approach 1\n",
    "\n",
    "To solve this we take the time derviative of all the voltages"
   ]
  },
  {
   "cell_type": "markdown",
   "metadata": {},
   "source": [
    "<!-- Equation labels as ordinary links -->\n",
    "<div id=\"_auto11\"></div>\n",
    "\n",
    "$$\n",
    "\\begin{equation}\n",
    "\\frac{\\mathrm{d} V_b}{\\mathrm{d} t} - \\frac{\\mathrm{d} V_R}{\\mathrm{d} t} - \\frac{\\mathrm{d} V}{\\mathrm{d} t} = \\frac{\\mathrm{d} V_b}{\\mathrm{d} t} - R\\frac{\\mathrm{d} I}{\\mathrm{d} t} - \\frac{1}{C} \\underbrace{\\frac{\\mathrm{d} Q}{\\mathrm{d} t}}_{I}  = 0 \\; , \n",
    "\\label{_auto11} \\tag{11}\n",
    "\\end{equation}\n",
    "$$"
   ]
  },
  {
   "cell_type": "markdown",
   "metadata": {},
   "source": [
    "which gives a differential equation for the current $I(t)$:"
   ]
  },
  {
   "cell_type": "markdown",
   "metadata": {},
   "source": [
    "<!-- Equation labels as ordinary links -->\n",
    "<div id=\"_auto12\"></div>\n",
    "\n",
    "$$\n",
    "\\begin{equation}\n",
    "\\frac{\\mathrm{d} V_b}{\\mathrm{d} t} - R\\frac{\\mathrm{d} I}{\\mathrm{d} t} -  \\frac{1}{C}I = 0 \\; ,\n",
    "\\label{_auto12} \\tag{12}\n",
    "\\end{equation}\n",
    "$$"
   ]
  },
  {
   "cell_type": "markdown",
   "metadata": {},
   "source": [
    "### Approach 2\n",
    "\n",
    "Alternatively, we can use that $Q = V_C C$ so that"
   ]
  },
  {
   "cell_type": "markdown",
   "metadata": {},
   "source": [
    "<!-- Equation labels as ordinary links -->\n",
    "<div id=\"_auto13\"></div>\n",
    "\n",
    "$$\n",
    "\\begin{equation}\n",
    "I(t) = \\frac{\\mathrm{d} Q}{\\mathrm{d} t} = C \\frac{\\mathrm{d} V_C}{\\mathrm{d} t} \\; ,\n",
    "\\label{_auto13} \\tag{13}\n",
    "\\end{equation}\n",
    "$$"
   ]
  },
  {
   "cell_type": "markdown",
   "metadata": {},
   "source": [
    "we insert this into $V_R = R I(t)$, getting a differential equation in $V_C$:"
   ]
  },
  {
   "cell_type": "markdown",
   "metadata": {},
   "source": [
    "<!-- Equation labels as ordinary links -->\n",
    "<div id=\"_auto14\"></div>\n",
    "\n",
    "$$\n",
    "\\begin{equation}\n",
    "V_b(t) - RC \\frac{\\mathrm{d} V_C}{\\mathrm{d} t} -  V_C = 0 \\; .\n",
    "\\label{_auto14} \\tag{14}\n",
    "\\end{equation}\n",
    "$$"
   ]
  },
  {
   "cell_type": "markdown",
   "metadata": {},
   "source": [
    "### Characteristic time $\\tau$\n",
    "\n",
    "In both cases we introduce a characteristic time $\\tau = RC$. The second approach can then be rewritten as:"
   ]
  },
  {
   "cell_type": "markdown",
   "metadata": {},
   "source": [
    "<!-- Equation labels as ordinary links -->\n",
    "<div id=\"_auto15\"></div>\n",
    "\n",
    "$$\n",
    "\\begin{equation}\n",
    "V_b(t) - \\tau \\frac{\\mathrm{d} V_C}{\\mathrm{d} t} - V_C = 0 \\; .\n",
    "\\label{_auto15} \\tag{15}\n",
    "\\end{equation}\n",
    "$$"
   ]
  },
  {
   "cell_type": "markdown",
   "metadata": {},
   "source": [
    "### Analytical solution\n",
    "\n",
    "If the $V_b$ is a constant and the circuit is closed at $t = 0$, we expect $V_C(0) = 0$. After an infinite time, we expect that the system has reached a stationary state, so that the time derivative is zero and $V_b - V_C = 0$, that is, $V_C(\\infty) = V_b$. The solution this equation is then"
   ]
  },
  {
   "cell_type": "markdown",
   "metadata": {},
   "source": [
    "<!-- Equation labels as ordinary links -->\n",
    "<div id=\"_auto16\"></div>\n",
    "\n",
    "$$\n",
    "\\begin{equation}\n",
    "V_C(t) = V_b e^{- t/\\tau} \\; ,\n",
    "\\label{_auto16} \\tag{16}\n",
    "\\end{equation}\n",
    "$$"
   ]
  },
  {
   "cell_type": "markdown",
   "metadata": {},
   "source": [
    "which you can check by insertion.\n",
    "\n",
    "### Numerical solution\n",
    "\n",
    "The differential equation can also be solved by e.g. Euler's method for numerical integration of the differential equation"
   ]
  },
  {
   "cell_type": "markdown",
   "metadata": {},
   "source": [
    "<!-- Equation labels as ordinary links -->\n",
    "<div id=\"_auto17\"></div>\n",
    "\n",
    "$$\n",
    "\\begin{equation}\n",
    "\\frac{\\mathrm{d} V_C}{\\mathrm{d} t} = \\frac{1}{\\tau} \\left( V_b - V_C \\right) \\; .\n",
    "\\label{_auto17} \\tag{17}\n",
    "\\end{equation}\n",
    "$$"
   ]
  },
  {
   "cell_type": "markdown",
   "metadata": {},
   "source": [
    "which is done by the stepwise algorithm:"
   ]
  },
  {
   "cell_type": "markdown",
   "metadata": {},
   "source": [
    "<!-- Equation labels as ordinary links -->\n",
    "<div id=\"_auto18\"></div>\n",
    "\n",
    "$$\n",
    "\\begin{equation}\n",
    "V_C(t + \\Delta t) = V_C(t) + \\frac{\\Delta t}{\\tau} \\left( V_b(t) - V_C(t) \\right) \\; ,\n",
    "\\label{_auto18} \\tag{18}\n",
    "\\end{equation}\n",
    "$$"
   ]
  },
  {
   "cell_type": "markdown",
   "metadata": {},
   "source": [
    "with initial condition $V_C(0) = V_0$. This is implemented in the following Python program"
   ]
  },
  {
   "cell_type": "code",
   "execution_count": 1,
   "metadata": {},
   "outputs": [
    {
     "data": {
      "text/plain": [
       "Text(0, 0.5, 'V_C')"
      ]
     },
     "execution_count": 1,
     "metadata": {},
     "output_type": "execute_result"
    },
    {
     "data": {
      "image/png": "[encoded data removed]",
      "text/plain": [
       "<Figure size 432x288 with 1 Axes>"
      ]
     },
     "metadata": {
      "needs_background": "light"
     },
     "output_type": "display_data"
    }
   ],
   "source": [
    "%matplotlib inline\n",
    "\n",
    "import numpy as np\n",
    "import matplotlib.pyplot as plt\n",
    "tau = 1.0\n",
    "dt = 0.01\n",
    "Vb = 1.0\n",
    "time = 10.0\n",
    "N = int(time/dt)\n",
    "VC = np.zeros(N)\n",
    "t = np.zeros(N)\n",
    "VC[0] = 0.0\n",
    "for i in range(N-1):\n",
    "    VC[i+1] = VC[i] + dt/tau*(Vb-VC[i])\n",
    "    t[i+1] = t[i] + dt\n",
    "plt.plot(t,VC)\n",
    "plt.xlabel('t')\n",
    "plt.ylabel('V_C')"
   ]
  },
  {
   "cell_type": "markdown",
   "metadata": {},
   "source": [
    "The resulting plot is shown in Fig. [fig:circuits2-RC-plot](#fig:circuits2-RC-plot). It may seem unnecessary to solve this equation numerically, all the time we have an exact solution. However, the numerical solution opens for studying perturbations or more realistic variants of the system. For example, what if the voltage source $V_b(t)$ had a different shape, such as a square pulse:"
   ]
  },
  {
   "cell_type": "markdown",
   "metadata": {},
   "source": [
    "<!-- Equation labels as ordinary links -->\n",
    "<div id=\"_auto19\"></div>\n",
    "\n",
    "$$\n",
    "\\begin{equation}\n",
    "V_b(t) = \\left\\{ \\begin{array}{cc}\n",
    "0 & t < 0 \\\\ \n",
    "V_0 & 0 \\ge t < t_0 \\\\ \n",
    "0 & t \\ge t_0\n",
    "\\end{array} \\right. \\; ,\n",
    "\\label{_auto19} \\tag{19}\n",
    "\\end{equation}\n",
    "$$"
   ]
  },
  {
   "cell_type": "markdown",
   "metadata": {},
   "source": [
    "or if the capacitor or resistor has a time dependent value or a non-linear behavior? These cases are easily solved by the same numerical approach, but generally cannot be solved by analytical methods.\n",
    "\n",
    "<!-- dom:FIGURE:[fig-circuits2/circuits2-RC-plot.png, width=600 frac=0.65] Plot of $V_C(t)$ for the $RC$-circuit solved by Euler's method. <div id=\"fig:circuits2-RC-plot\"></div> -->\n",
    "<!-- begin figure -->\n",
    "<div id=\"fig:circuits2-RC-plot\"></div>\n",
    "\n",
    "<p>Plot of $V_C(t)$ for the $RC$-circuit solved by Euler's method.</p>\n",
    "<img src=\"fig-circuits2/circuits2-RC-plot.png\" width=600>\n",
    "\n",
    "<!-- end figure -->\n",
    "\n",
    "\n",
    "## Example: The $RL$ circuit\n",
    "\n",
    "Fig. [fig:circuits2-timecircuits-010](#fig:circuits2-timecircuits-010)b illustrates a circuit consisting of a voltage source $V_b(t)$, an inductor $L$ and a resistor $R$ in series. We call such a circuit an $RL$-circuit. Kirchoff's voltage law around the circuit gives:"
   ]
  },
  {
   "cell_type": "markdown",
   "metadata": {},
   "source": [
    "<!-- Equation labels as ordinary links -->\n",
    "<div id=\"_auto20\"></div>\n",
    "\n",
    "$$\n",
    "\\begin{equation}\n",
    "V_b - V_L - V_R = V_b - L \\frac{\\mathrm{d} I}{\\mathrm{d} t} - I R = 0 \\; ,\n",
    "\\label{_auto20} \\tag{20}\n",
    "\\end{equation}\n",
    "$$"
   ]
  },
  {
   "cell_type": "markdown",
   "metadata": {},
   "source": [
    "which gives a differential equation for the current $I$ in the circuit:"
   ]
  },
  {
   "cell_type": "markdown",
   "metadata": {},
   "source": [
    "<!-- Equation labels as ordinary links -->\n",
    "<div id=\"_auto21\"></div>\n",
    "\n",
    "$$\n",
    "\\begin{equation}\n",
    "L \\frac{\\mathrm{d} I}{\\mathrm{d} t} = V_b - R I \\; .\n",
    "\\label{_auto21} \\tag{21}\n",
    "\\end{equation}\n",
    "$$"
   ]
  },
  {
   "cell_type": "markdown",
   "metadata": {},
   "source": [
    "We introduce the characteristic time $\\tau = L/R$:"
   ]
  },
  {
   "cell_type": "markdown",
   "metadata": {},
   "source": [
    "<!-- Equation labels as ordinary links -->\n",
    "<div id=\"_auto22\"></div>\n",
    "\n",
    "$$\n",
    "\\begin{equation}\n",
    "\\frac{L}{R} \\frac{\\mathrm{d} I}{\\mathrm{d} t} = \\frac{V_b}{R} - I = \\tau \\frac{\\mathrm{d} I}{\\mathrm{d} t} \\; .\n",
    "\\label{_auto22} \\tag{22}\n",
    "\\end{equation}\n",
    "$$"
   ]
  },
  {
   "cell_type": "markdown",
   "metadata": {},
   "source": [
    "If we turn the circuit on at $t = 0$ we expect the initial condition $I(0) = 0$. The exact solution to this equation is then"
   ]
  },
  {
   "cell_type": "markdown",
   "metadata": {},
   "source": [
    "<!-- Equation labels as ordinary links -->\n",
    "<div id=\"_auto23\"></div>\n",
    "\n",
    "$$\n",
    "\\begin{equation}\n",
    "I(t) = \\frac{V_b}{R} \\left( 1 - e^{-t/\\tau} \\right) \\; .\n",
    "\\label{_auto23} \\tag{23}\n",
    "\\end{equation}\n",
    "$$"
   ]
  },
  {
   "cell_type": "markdown",
   "metadata": {},
   "source": [
    "The resulting plot is shown in Fig. [fig:circuits2-RL-plot](#fig:circuits2-RL-plot) and shows that the effect of the inductor $L$ is the dampen the rapid onset of current when the circuit is turned on with a characteristic time scale $\\tau = L/R$, which depends on $L$: The larger $L$, the longer time it takes the current to reach its stationary value. This equation can also be solved numerically using Euler's scheme as we did above.\n",
    "\n",
    "<!-- dom:FIGURE:[fig-circuits2/circuits2-RL-plot.png, width=600 frac=0.65] Plot of $I(t)$ for the $RL$-circuit. <div id=\"fig:circuits2-RL-plot\"></div> -->\n",
    "<!-- begin figure -->\n",
    "<div id=\"fig:circuits2-RL-plot\"></div>\n",
    "\n",
    "<p>Plot of $I(t)$ for the $RL$-circuit.</p>\n",
    "<img src=\"fig-circuits2/circuits2-RL-plot.png\" width=600>\n",
    "\n",
    "<!-- end figure -->\n",
    "\n",
    "\n",
    "## Example: The $RLC$ circuit\n",
    "\n",
    "Fig. [fig:circuits2-timecircuits-010](#fig:circuits2-timecircuits-010)c illustrates a circuit consisting of a capacitor $C$, an inductor $L$ and a resistor $R$ in series. We call such a circuit an $RLC$-circuit. Kirchoff's voltage law around the circuit gives:"
   ]
  },
  {
   "cell_type": "markdown",
   "metadata": {},
   "source": [
    "<!-- Equation labels as ordinary links -->\n",
    "<div id=\"eq:circuits2-rlc-010\"></div>\n",
    "\n",
    "$$\n",
    "\\begin{equation}\n",
    "-L\\frac{\\mathrm{d} I}{\\mathrm{d} t} - \\frac{Q}{C} - RI = 0 \\; .\n",
    "\\label{eq:circuits2-rlc-010} \\tag{24}\n",
    "\\end{equation}\n",
    "$$"
   ]
  },
  {
   "cell_type": "markdown",
   "metadata": {},
   "source": [
    "We can relate $Q$ and the current $I$ by $I = \\mathrm{d} Q/\\mathrm{d} t$. Taking the time derivative of ([24](#eq:circuits2-rlc-010)) therefore gives:"
   ]
  },
  {
   "cell_type": "markdown",
   "metadata": {},
   "source": [
    "<!-- Equation labels as ordinary links -->\n",
    "<div id=\"_auto24\"></div>\n",
    "\n",
    "$$\n",
    "\\begin{equation}\n",
    "-L\\frac{\\mathrm{d}^2 I}{\\mathrm{d} t^2} - \\frac{1}{C}I - R \\frac{\\mathrm{d} I}{\\mathrm{d} t} = 0 \\; .\n",
    "\\label{_auto24} \\tag{25}\n",
    "\\end{equation}\n",
    "$$"
   ]
  },
  {
   "cell_type": "markdown",
   "metadata": {},
   "source": [
    "We can rewrite this equation as"
   ]
  },
  {
   "cell_type": "markdown",
   "metadata": {},
   "source": [
    "<!-- Equation labels as ordinary links -->\n",
    "<div id=\"_auto25\"></div>\n",
    "\n",
    "$$\n",
    "\\begin{equation}\n",
    "\\frac{\\mathrm{d}^2 I}{\\mathrm{d} t^2} + \\frac{1}{\\tau} \\frac{\\mathrm{d} I}{\\mathrm{d} t} + \\omega_0^2 I = 0 \\; ,\n",
    "\\label{_auto25} \\tag{26}\n",
    "\\end{equation}\n",
    "$$"
   ]
  },
  {
   "cell_type": "markdown",
   "metadata": {},
   "source": [
    "where $\\tau = \\frac{L}{R}$ and $\\omega_0^2 = \\frac{1}{LC}$. We recognize this equation from mechanics as the equation for damped, harmonic oscillations. We also need two initial conditions. The general solution to this equation is"
   ]
  },
  {
   "cell_type": "markdown",
   "metadata": {},
   "source": [
    "<!-- Equation labels as ordinary links -->\n",
    "<div id=\"_auto26\"></div>\n",
    "\n",
    "$$\n",
    "\\begin{equation}\n",
    "I(t) = I_0 e^{-t/(2\\tau)} \\cos \\left( \\omega_0'  t \\right) \\; ,\n",
    "\\label{_auto26} \\tag{27}\n",
    "\\end{equation}\n",
    "$$"
   ]
  },
  {
   "cell_type": "markdown",
   "metadata": {},
   "source": [
    "where"
   ]
  },
  {
   "cell_type": "markdown",
   "metadata": {},
   "source": [
    "<!-- Equation labels as ordinary links -->\n",
    "<div id=\"_auto27\"></div>\n",
    "\n",
    "$$\n",
    "\\begin{equation}\n",
    "\\omega_0' = \\sqrt{ \\omega_0^2 - \\frac{1}{4 \\tau^2}} \\; .\n",
    "\\label{_auto27} \\tag{28}\n",
    "\\end{equation}\n",
    "$$"
   ]
  },
  {
   "cell_type": "markdown",
   "metadata": {},
   "source": [
    "In the limit when $\\omega_0^2 \\gg 1/\\tau^2$, that is, when $R$ is small, we get that $\\omega_0' \\simeq \\omega_0$. We therefore get damped oscillations with an angular frequence $\\omega_0$ and a damping with a characteristic time $2 \\tau$. Fig. [fig:circuits2-RLC-plot](#fig:circuits2-RLC-plot) illustrates a few cases for the dynamics of the circuit. Notice both the damping and the oscillatory behavior. We will address the various types of damping and applications of such circuits in more detail when we study waves and oscillations.\n",
    "\n",
    "<!-- dom:FIGURE:[fig-circuits2/circuits2-RLC-plot.png, width=600 frac=0.65] Plot of $I(t)$ for the $RLC$-circuit. <div id=\"fig:circuits2-RLC-plot\"></div> -->\n",
    "<!-- begin figure -->\n",
    "<div id=\"fig:circuits2-RLC-plot\"></div>\n",
    "\n",
    "<p>Plot of $I(t)$ for the $RLC$-circuit.</p>\n",
    "<img src=\"fig-circuits2/circuits2-RLC-plot.png\" width=600>\n",
    "\n",
    "<!-- end figure -->\n",
    "\n",
    "\n",
    "## Example: Periodic signal\n",
    "\n",
    "Fig. [fig:circuits2-periodic-010](#fig:circuits2-periodic-010) illustrates a simple circuit consisting of a voltage source $V_b(t) = V_0 \\sin \\omega t$, an inductor $L$ and a resistor $R$. Assume that the system starts with $I(0) = 0$. Find the behavior of the system. Find $V(t)$ numerically in the case when $V_b(t) = V_0 \\text{sign}\\sin \\omega t$, that is, when $V_b(t)$ is s square pulse. Test your numerical solution by comparison with the exact solution for the sinus-pulse.\n",
    "\n",
    "<!-- dom:FIGURE:[fig-circuits2/circuits2-periodic-010.png, width=600 frac=0.65] Illustration of a circuit driven by a periodic voltage source $V_b(t)$. <div id=\"fig:circuits2-periodic-010\"></div> -->\n",
    "<!-- begin figure -->\n",
    "<div id=\"fig:circuits2-periodic-010\"></div>\n",
    "\n",
    "<p>Illustration of a circuit driven by a periodic voltage source $V_b(t)$.</p>\n",
    "<img src=\"fig-circuits2/circuits2-periodic-010.png\" width=600>\n",
    "\n",
    "<!-- end figure -->\n",
    "\n",
    "\n",
    "We apply Kirchoff's voltage law to a loop around the circuit:"
   ]
  },
  {
   "cell_type": "markdown",
   "metadata": {},
   "source": [
    "<!-- Equation labels as ordinary links -->\n",
    "<div id=\"eq:circuits2-periodic-010\"></div>\n",
    "\n",
    "$$\n",
    "\\begin{equation}\n",
    "V_b - V_C - IR = 0 \\; .\n",
    "\\label{eq:circuits2-periodic-010} \\tag{29}\n",
    "\\end{equation}\n",
    "$$"
   ]
  },
  {
   "cell_type": "markdown",
   "metadata": {},
   "source": [
    "To relate $V_C$ and $I$ we use that $V_C = Q/C$ so that"
   ]
  },
  {
   "cell_type": "markdown",
   "metadata": {},
   "source": [
    "<!-- Equation labels as ordinary links -->\n",
    "<div id=\"_auto28\"></div>\n",
    "\n",
    "$$\n",
    "\\begin{equation}\n",
    "\\frac{\\mathrm{d} V_C}{\\mathrm{d} t} = \\frac{1}{C}\\frac{\\mathrm{d} Q}{\\mathrm{d} t} = \\frac{1}{C}I \\quad \\Rightarrow \\quad I = C \\frac{\\mathrm{d} V_C}{\\mathrm{d} t} \\; .\n",
    "\\label{_auto28} \\tag{30}\n",
    "\\end{equation}\n",
    "$$"
   ]
  },
  {
   "cell_type": "markdown",
   "metadata": {},
   "source": [
    "We can therefore rewrite ([29](#eq:circuits2-periodic-010)) by inserting this expression for $I$:"
   ]
  },
  {
   "cell_type": "markdown",
   "metadata": {},
   "source": [
    "<!-- Equation labels as ordinary links -->\n",
    "<div id=\"eq:circuits2-periodic-020\"></div>\n",
    "\n",
    "$$\n",
    "\\begin{equation}\n",
    "V_b(t)  - V_C - RC \\frac{\\mathrm{d} V_C}{\\mathrm{d} t} = 0 \\; .\n",
    "\\label{eq:circuits2-periodic-020} \\tag{31}\n",
    "\\end{equation}\n",
    "$$"
   ]
  },
  {
   "cell_type": "markdown",
   "metadata": {},
   "source": [
    "### Analytical solution\n",
    "\n",
    "We look for the long-term solution after potential initial transients. We expect this solution to have the same periodicity as the driving voltage source: $V_C(t) = A \\sin \\left( \\omega t + \\phi_0 \\right)$, where $A$ and $\\phi_0$ must be determined. We insert this and $V_b = V_0 \\sin \\omega t$ into  ([31](#eq:circuits2-periodic-020)):"
   ]
  },
  {
   "cell_type": "markdown",
   "metadata": {},
   "source": [
    "<!-- Equation labels as ordinary links -->\n",
    "<div id=\"eq:circuits2-periodic-030\"></div>\n",
    "\n",
    "$$\n",
    "\\begin{equation}\n",
    "V_0 \\sin \\omega t - A \\sin ( \\omega t + \\phi_0) - RCA \\omega \\cos ( \\omega t + \\phi_0) \\; .\n",
    "\\label{eq:circuits2-periodic-030} \\tag{32}\n",
    "\\end{equation}\n",
    "$$"
   ]
  },
  {
   "cell_type": "markdown",
   "metadata": {},
   "source": [
    "We write $RC = \\tau$. ([32](#eq:circuits2-periodic-030)) must be true when $t=0$:"
   ]
  },
  {
   "cell_type": "markdown",
   "metadata": {},
   "source": [
    "<!-- Equation labels as ordinary links -->\n",
    "<div id=\"_auto29\"></div>\n",
    "\n",
    "$$\n",
    "\\begin{equation}\n",
    "-A \\sin \\phi_0 - \\tau \\omega A \\cos \\phi_0 = 0 \\quad \\Rightarrow \\quad \\tan \\phi_0 = - \\frac{1}{\\omega \\tau} \\; .\n",
    "\\label{_auto29} \\tag{33}\n",
    "\\end{equation}\n",
    "$$"
   ]
  },
  {
   "cell_type": "markdown",
   "metadata": {},
   "source": [
    "And, simiarly, ([32](#eq:circuits2-periodic-030)) must be true when $\\omega t + \\phi_0 = \\pi/2$ so that"
   ]
  },
  {
   "cell_type": "markdown",
   "metadata": {},
   "source": [
    "<!-- Equation labels as ordinary links -->\n",
    "<div id=\"_auto30\"></div>\n",
    "\n",
    "$$\n",
    "\\begin{equation}\n",
    "V_0 \\sin \\left( \\frac{\\pi}{2}-\\phi_0 \\right) - A = 0 \\quad \\Rightarrow \\quad V_0 = \\frac{A}{\\cos \\phi_0} \\; .\n",
    "\\label{_auto30} \\tag{34}\n",
    "\\end{equation}\n",
    "$$"
   ]
  },
  {
   "cell_type": "markdown",
   "metadata": {},
   "source": [
    "### Numerical solution\n",
    "\n",
    "We rewrite ([31](#eq:circuits2-periodic-020))"
   ]
  },
  {
   "cell_type": "markdown",
   "metadata": {},
   "source": [
    "<!-- Equation labels as ordinary links -->\n",
    "<div id=\"_auto31\"></div>\n",
    "\n",
    "$$\n",
    "\\begin{equation}\n",
    "\\frac{1}{\\tau}\\frac{\\mathrm{d} V_C}{\\mathrm{d} t} = V_b(t) - V_C(t) \\; ,\n",
    "\\label{_auto31} \\tag{35}\n",
    "\\end{equation}\n",
    "$$"
   ]
  },
  {
   "cell_type": "markdown",
   "metadata": {},
   "source": [
    "and introduce a dimensionless time $t' = t/\\tau$ and a dimensionless potential $V_C' = V_C/V_0$ so that"
   ]
  },
  {
   "cell_type": "markdown",
   "metadata": {},
   "source": [
    "<!-- Equation labels as ordinary links -->\n",
    "<div id=\"_auto32\"></div>\n",
    "\n",
    "$$\n",
    "\\begin{equation}\n",
    "\\frac{1}{\\tau}\\frac{\\mathrm{d} V_C'}{\\mathrm{d} t'}\\frac{\\mathrm{d} t'}{\\mathrm{d} t} = \\frac{\\mathrm{d} V_C'}{\\mathrm{d} t'} = \\frac{V_b(t'\\tau)}{V_0} - V_C' \\; .\n",
    "\\label{_auto32} \\tag{36}\n",
    "\\end{equation}\n",
    "$$"
   ]
  },
  {
   "cell_type": "markdown",
   "metadata": {},
   "source": [
    "We solve this equation numerically using a forward Euler integrator:"
   ]
  },
  {
   "cell_type": "markdown",
   "metadata": {},
   "source": [
    "<!-- Equation labels as ordinary links -->\n",
    "<div id=\"_auto33\"></div>\n",
    "\n",
    "$$\n",
    "\\begin{equation}\n",
    "V_C'(t' + \\Delta t') = V_C(t') + \\Delta t' \\left( V_b'(t' \\tau) - V_C'(t') \\right) \\; .\n",
    "\\label{_auto33} \\tag{37}\n",
    "\\end{equation}\n",
    "$$"
   ]
  },
  {
   "cell_type": "markdown",
   "metadata": {},
   "source": [
    "The voltage source is"
   ]
  },
  {
   "cell_type": "markdown",
   "metadata": {},
   "source": [
    "<!-- Equation labels as ordinary links -->\n",
    "<div id=\"_auto34\"></div>\n",
    "\n",
    "$$\n",
    "\\begin{equation}\n",
    "V_b'(t' \\tau) = \\frac{V_0 \\sin \\omega (t' \\tau)}{V_0} = \\sin \\omega' t' \\; ,\n",
    "\\label{_auto34} \\tag{38}\n",
    "\\end{equation}\n",
    "$$"
   ]
  },
  {
   "cell_type": "markdown",
   "metadata": {},
   "source": [
    "where $\\omega' = \\omega \\tau$. We rewrite the exact solution in terms of $t'$ and $V'$, getting"
   ]
  },
  {
   "cell_type": "markdown",
   "metadata": {},
   "source": [
    "<!-- Equation labels as ordinary links -->\n",
    "<div id=\"_auto35\"></div>\n",
    "\n",
    "$$\n",
    "\\begin{equation}\n",
    "V(t) = V_0 \\cos \\phi_0 \\sin ( \\omega t + \\phi_0) \\quad \\Rightarrow \\quad V'(t) = \\cos \\phi_0 \\sin (\\omega' t + \\phi_0)\n",
    "\\label{_auto35} \\tag{39}\n",
    "\\end{equation}\n",
    "$$"
   ]
  },
  {
   "cell_type": "markdown",
   "metadata": {},
   "source": [
    "where $\\phi_0 = \\arctan (-1/\\omega')$. This is implemented in the following program:"
   ]
  },
  {
   "cell_type": "code",
   "execution_count": 2,
   "metadata": {},
   "outputs": [
    {
     "data": {
      "text/plain": [
       "[<matplotlib.lines.Line2D at 0x7f5ae49bcf90>]"
      ]
     },
     "execution_count": 2,
     "metadata": {},
     "output_type": "execute_result"
    },
    {
     "data": {
      "image/png": "[encoded data removed]",
      "text/plain": [
       "<Figure size 432x288 with 1 Axes>"
      ]
     },
     "metadata": {
      "needs_background": "light"
     },
     "output_type": "display_data"
    }
   ],
   "source": [
    "import numpy as np\n",
    "import matplotlib.pyplot as plt\n",
    "dt = 0.001\n",
    "time = 20.0\n",
    "omegam = 1.0 # omega*tau\n",
    "N = int(time/dt)\n",
    "V = np.zeros(N)\n",
    "t = np.zeros(N)\n",
    "for i in range(N-1):\n",
    "    Vb = np.sin(omegam*t[i])\n",
    "    V[i+1] = V[i] + dt*(Vb-V[i])\n",
    "    t[i+1] = t[i] + dt\n",
    "# Plot result\n",
    "plt.plot(t,V)\n",
    "# Compare with analytical solution\n",
    "phi0 = np.arctan(-1/omegam)\n",
    "A =  1.0*np.cos(phi0)\n",
    "Va = A*np.sin(omegam*t+phi0)\n",
    "plt.plot(t,Va,'-r')"
   ]
  },
  {
   "cell_type": "markdown",
   "metadata": {},
   "source": [
    "The resulting plot in Fig. [fig:circuits2-periodic-020](#fig:circuits2-periodic-020) shows that there is a short transiet time when the analytical solution and the numerical solution differ, but that the long term behavior coincides. This provides a test of the numerical solution method. We apply the method also to the square-pulse signal by replacing `Vb = np.sin(omegam*t[i])` with `Vb = np.sign(np.sin(omegam*t[i]))`. The resulting plot is also shown in Fig. [fig:circuits2-periodic-020](#fig:circuits2-periodic-020). You can change the parameters to see what happens to the resulting signal.\n",
    "\n",
    "<!-- dom:FIGURE:[fig-circuits2/circuits2-periodic-020.png, width=600 frac=1.0] Plots of the comparison of the analytical and numerical solution and comparison of the driving voltage pulse and the resulting voltage signal. <div id=\"fig:circuits2-periodic-020\"></div> -->\n",
    "<!-- begin figure -->\n",
    "<div id=\"fig:circuits2-periodic-020\"></div>\n",
    "\n",
    "<p>Plots of the comparison of the analytical and numerical solution and comparison of the driving voltage pulse and the resulting voltage signal.</p>\n",
    "<img src=\"fig-circuits2/circuits2-periodic-020.png\" width=600>\n",
    "\n",
    "<!-- end figure -->\n",
    "\n",
    "\n",
    "# Circuits in the frequency domain\n",
    "\n",
    "We have demonstrated how we can find the behavior of a circuit by applying Kirchoff's voltage law in combination with the description of individual components and that this leads to a set of (differential) equations for the current and voltages in the circuit. In the last example, we saw that if a circuit is driven by a harmonic voltage source, the voltage and current in the circuit also follows the same periodic behavior after a transient time. Here, we will introduce methods to effectively describe the stationary (non-transient) behavior of circuits driven by an harmonic voltage source. We will study circuits that are driven by periodic, harmonic signals with an angular frequency $\\omega$, and then look for solutions with the same frequency $\\omega$. This is a good approximation for the stationary behavior and will provide us with very efficient methods for describing their behavior and with new concepts that are useful to *understand* the behavior of circuits with alternating currents.\n",
    "\n",
    "## Complex representation of a signal\n",
    "\n",
    "We represent a harmonic signal by two values, the frequency $\\omega$ and the phase $\\phi$ as illustrated in Fig. [fig:circuits2-harmonic-010](#fig:circuits2-harmonic-010):"
   ]
  },
  {
   "cell_type": "markdown",
   "metadata": {},
   "source": [
    "<!-- Equation labels as ordinary links -->\n",
    "<div id=\"_auto36\"></div>\n",
    "\n",
    "$$\n",
    "\\begin{equation}\n",
    "V(t) = V_0 \\cos (\\omega t + \\phi) \\; ,\n",
    "\\label{_auto36} \\tag{40}\n",
    "\\end{equation}\n",
    "$$"
   ]
  },
  {
   "cell_type": "markdown",
   "metadata": {},
   "source": [
    "where $\\omega$ is related to the period $T$ through $\\omega = 2 \\pi/T$. The phase $\\phi$ determines how the signal is shifted. The sign of the phase can sometimes be confusing: A negative phase, $\\phi<0$ means that the curve $V(t)$ is shifted to the right, while a positive phase, $\\phi>0$, means that hte curve $V(t)$ is shifted to the left. However, a negative phase also means that the signal is lagging behind: It takes a small time $\\phi/\\omega$ before the signal from $\\cos \\omega t + \\phi$ has the same value as $\\cos \\omega t$.\n",
    "\n",
    "<!-- dom:FIGURE:[fig-circuits2/circuits2-harmonic-010.png, width=600 frac=0.8] Illustration of an harmonic signal $V(t) = V_0 \\cos \\omega t$ and two signals with two different phases, $V_0 \\cos (\\omega t- \\phi)$ and $V_0 \\cos ( \\omega t+ \\phi)$. <div id=\"fig:circuits2-harmonic-010\"></div> -->\n",
    "<!-- begin figure -->\n",
    "<div id=\"fig:circuits2-harmonic-010\"></div>\n",
    "\n",
    "<p>Illustration of an harmonic signal $V(t) = V_0 \\cos \\omega t$ and two signals with two different phases, $V_0 \\cos (\\omega t- \\phi)$ and $V_0 \\cos ( \\omega t+ \\phi)$.</p>\n",
    "<img src=\"fig-circuits2/circuits2-harmonic-010.png\" width=600>\n",
    "\n",
    "<!-- end figure -->\n",
    "\n",
    "\n",
    "Mathematically, it is more convenient to work with complex numbers to represent the signal because this allows us to work with exponential functions instead of sines and cosines. We will therefore introduce a complex representation of a signal"
   ]
  },
  {
   "cell_type": "markdown",
   "metadata": {},
   "source": [
    "<!-- Equation labels as ordinary links -->\n",
    "<div id=\"_auto37\"></div>\n",
    "\n",
    "$$\n",
    "\\begin{equation}\n",
    "V(t) = \\hat{V} e^{i \\omega t}\\; ,\n",
    "\\label{_auto37} \\tag{41}\n",
    "\\end{equation}\n",
    "$$"
   ]
  },
  {
   "cell_type": "markdown",
   "metadata": {},
   "source": [
    "where $\\hat{V}$ is a complex number and"
   ]
  },
  {
   "cell_type": "markdown",
   "metadata": {},
   "source": [
    "<!-- Equation labels as ordinary links -->\n",
    "<div id=\"_auto38\"></div>\n",
    "\n",
    "$$\n",
    "\\begin{equation}\n",
    "e^{i \\omega t} = \\cos \\omega t + i \\, \\sin \\omega t \\; .\n",
    "\\label{_auto38} \\tag{42}\n",
    "\\end{equation}\n",
    "$$"
   ]
  },
  {
   "cell_type": "markdown",
   "metadata": {},
   "source": [
    "We will use this to simplify our calculations, realizing that it is only the real part of the expression that represents the physical part of the signal, so that"
   ]
  },
  {
   "cell_type": "markdown",
   "metadata": {},
   "source": [
    "<!-- Equation labels as ordinary links -->\n",
    "<div id=\"_auto39\"></div>\n",
    "\n",
    "$$\n",
    "\\begin{equation}\n",
    "V(t) = \\text{Re} \\left\\{ \\hat{V} e^{i \\omega t} \\right\\} \\; ,\n",
    "\\label{_auto39} \\tag{43}\n",
    "\\end{equation}\n",
    "$$"
   ]
  },
  {
   "cell_type": "markdown",
   "metadata": {},
   "source": [
    "is the physical voltage. The complex amplitude $\\hat{V}$ represents both the real amplitude and the phase of the signal. In general, we can write a complex number $\\hat{V}$"
   ]
  },
  {
   "cell_type": "markdown",
   "metadata": {},
   "source": [
    "<!-- Equation labels as ordinary links -->\n",
    "<div id=\"_auto40\"></div>\n",
    "\n",
    "$$\n",
    "\\begin{equation}\n",
    "\\hat{V} = |\\hat{V}|e^{i \\phi} \\; ,\n",
    "\\label{_auto40} \\tag{44}\n",
    "\\end{equation}\n",
    "$$"
   ]
  },
  {
   "cell_type": "markdown",
   "metadata": {},
   "source": [
    "where $\\phi$ is the phase. The physical voltage $V(t)$ is"
   ]
  },
  {
   "cell_type": "markdown",
   "metadata": {},
   "source": [
    "<!-- Equation labels as ordinary links -->\n",
    "<div id=\"_auto41\"></div>\n",
    "\n",
    "$$\n",
    "\\begin{equation}\n",
    "V(t) = \\text{Re} \\left\\{ |\\hat{V}|e^{i \\phi}e^{i \\omega t} \\right\\} = |\\hat{V}|\\cos ( \\omega t + \\phi ) \\; .\n",
    "\\label{_auto41} \\tag{45}\n",
    "\\end{equation}\n",
    "$$"
   ]
  },
  {
   "cell_type": "markdown",
   "metadata": {},
   "source": [
    "We call $\\hat{V}$ the complex amplitude or the *phasor* of the signal. Fig. [fig:circuits2-complex-010](#fig:circuits2-complex-010) illustrates a signal with a phase $\\phi = - \\pi/4$ as a function of time and how the phasor is illustrated in the complex plane.\n",
    "\n",
    "<!-- dom:FIGURE:[fig-circuits2/circuits2-complex-010.png, width=600 frac=0.65] Illustration of a signal with a phase $\\phi = - \\pi/4$. <div id=\"fig:circuits2-complex-010\"></div> -->\n",
    "<!-- begin figure -->\n",
    "<div id=\"fig:circuits2-complex-010\"></div>\n",
    "\n",
    "<p>Illustration of a signal with a phase $\\phi = - \\pi/4$.</p>\n",
    "<img src=\"fig-circuits2/circuits2-complex-010.png\" width=600>\n",
    "\n",
    "<!-- end figure -->\n",
    "\n",
    "\n",
    "## Circuits: Complex representation of a resistor\n",
    "\n",
    "How can we use this representation to describe a circuit with a signal generator, the voltage source $V_b$, and a resistor $R$? We represent the voltage and the current using the complex representation:"
   ]
  },
  {
   "cell_type": "markdown",
   "metadata": {},
   "source": [
    "<!-- Equation labels as ordinary links -->\n",
    "<div id=\"_auto42\"></div>\n",
    "\n",
    "$$\n",
    "\\begin{equation}\n",
    "V(t) = \\hat{V} e^{i \\omega t} \\quad , \\quad I(t) = \\hat{I} e^{i \\omega t} \\; .\n",
    "\\label{_auto42} \\tag{46}\n",
    "\\end{equation}\n",
    "$$"
   ]
  },
  {
   "cell_type": "markdown",
   "metadata": {},
   "source": [
    "Kirchoff's voltage law describes relations between the real components of the voltages and currents:"
   ]
  },
  {
   "cell_type": "markdown",
   "metadata": {},
   "source": [
    "<!-- Equation labels as ordinary links -->\n",
    "<div id=\"_auto43\"></div>\n",
    "\n",
    "$$\n",
    "\\begin{equation}\n",
    "\\text{Re}\\left\\{ V(t) \\right\\} = R \\text{Re} \\left\\{ I(t) \\right\\} = \\text{Re}\\left\\{ R \\, I(t) \\right\\} \\; ,\n",
    "\\label{_auto43} \\tag{47}\n",
    "\\end{equation}\n",
    "$$"
   ]
  },
  {
   "cell_type": "markdown",
   "metadata": {},
   "source": [
    "and"
   ]
  },
  {
   "cell_type": "markdown",
   "metadata": {},
   "source": [
    "<!-- Equation labels as ordinary links -->\n",
    "<div id=\"_auto44\"></div>\n",
    "\n",
    "$$\n",
    "\\begin{equation}\n",
    "\\text{Re}\\left\\{ \\hat{V} e^{i \\omega t} \\right\\} = \\text{Re}\\left\\{ R \\, \\hat{I} e^{i \\omega t} \\right\\} \\; .\n",
    "\\label{_auto44} \\tag{48}\n",
    "\\end{equation}\n",
    "$$"
   ]
  },
  {
   "cell_type": "markdown",
   "metadata": {},
   "source": [
    "This means that we have the relation"
   ]
  },
  {
   "cell_type": "markdown",
   "metadata": {},
   "source": [
    "<!-- Equation labels as ordinary links -->\n",
    "<div id=\"_auto45\"></div>\n",
    "\n",
    "$$\n",
    "\\begin{equation}\n",
    "\\boxed{ \\hat{V} = R \\hat{I} } \\; ,\n",
    "\\label{_auto45} \\tag{49}\n",
    "\\end{equation}\n",
    "$$"
   ]
  },
  {
   "cell_type": "markdown",
   "metadata": {},
   "source": [
    "for a resistor. We can therefore use Ohm's law also the relate the complex amplitudes of the voltages and currents. To understand the impact of this relation, let us address how we can represent a capacitor.\n",
    "\n",
    "## Circuits: Complex representation of a capacitor\n",
    "\n",
    "In a circuit consisting of a voltage source $V_b$ and a single capacitor $C$, we know that the voltage drop over the capacitor is related to the charge $Q$ on the capacitor, $C = Q/V$, so that $Q = CV$ and the current $I = \\mathrm{d} Q / \\mathrm{d} t$ is"
   ]
  },
  {
   "cell_type": "markdown",
   "metadata": {},
   "source": [
    "<!-- Equation labels as ordinary links -->\n",
    "<div id=\"_auto46\"></div>\n",
    "\n",
    "$$\n",
    "\\begin{equation}\n",
    "I = \\frac{\\mathrm{d} Q}{\\mathrm{d} t} = C \\frac{\\mathrm{d} V}{\\mathrm{d} t} \\; .\n",
    "\\label{_auto46} \\tag{50}\n",
    "\\end{equation}\n",
    "$$"
   ]
  },
  {
   "cell_type": "markdown",
   "metadata": {},
   "source": [
    "The current $I$ is the real part of the complex current $\\hat{I}e^{i \\omega t}$ and the voltage is the real part of the complex voltage, $\\hat{V}e^{i \\omega t}$:"
   ]
  },
  {
   "cell_type": "markdown",
   "metadata": {},
   "source": [
    "<!-- Equation labels as ordinary links -->\n",
    "<div id=\"_auto47\"></div>\n",
    "\n",
    "$$\n",
    "\\begin{equation}\n",
    "\\text{Re}\\left\\{ \\hat{I} e^{i \\omega t} \\right\\} = C \\frac{\\mathrm{d} }{\\mathrm{d} t}\\text{Re}\\left\\{ \\hat{V}e^{i \\omega t}\\right\\} = \\text{Re}\\left\\{ C \\hat{V} i \\omega e^{i \\omega t}\\right\\} \\; .\n",
    "\\label{_auto47} \\tag{51}\n",
    "\\end{equation}\n",
    "$$"
   ]
  },
  {
   "cell_type": "markdown",
   "metadata": {},
   "source": [
    "This equation implies that the prefactors also must be equal:"
   ]
  },
  {
   "cell_type": "markdown",
   "metadata": {},
   "source": [
    "<!-- Equation labels as ordinary links -->\n",
    "<div id=\"_auto48\"></div>\n",
    "\n",
    "$$\n",
    "\\begin{equation}\n",
    "\\hat{I} = C i \\omega \\hat{V} \\; ,\n",
    "\\label{_auto48} \\tag{52}\n",
    "\\end{equation}\n",
    "$$"
   ]
  },
  {
   "cell_type": "markdown",
   "metadata": {},
   "source": [
    "and"
   ]
  },
  {
   "cell_type": "markdown",
   "metadata": {},
   "source": [
    "<!-- Equation labels as ordinary links -->\n",
    "<div id=\"_auto49\"></div>\n",
    "\n",
    "$$\n",
    "\\begin{equation}\n",
    "\\hat{V} = \\frac{1}{i \\omega C} \\hat{I} = \\hat{Z} \\hat{I} \\; .\n",
    "\\label{_auto49} \\tag{53}\n",
    "\\end{equation}\n",
    "$$"
   ]
  },
  {
   "cell_type": "markdown",
   "metadata": {},
   "source": [
    "We call the term $\\hat{Z}$ the **impedance**. The impedance acts like a complex resistance.\n",
    "\n",
    "### Interpretation of the complex impedance\n",
    "\n",
    "The resistor $R$ had a real impedance $\\hat{Z} = R$, while the capacitor has a complex impedance $\\hat{Z} = 1/(i \\omega C)$. How does a complex impedance affect the current or voltage in a circuit? Let us assume that the current $I$ is real, that is, that the phase of the current in zero and $\\hat{I} = |\\hat{I}|$:"
   ]
  },
  {
   "cell_type": "markdown",
   "metadata": {},
   "source": [
    "<!-- Equation labels as ordinary links -->\n",
    "<div id=\"_auto50\"></div>\n",
    "\n",
    "$$\n",
    "\\begin{equation}\n",
    "I(t) = \\text{Re} \\left\\{ \\hat{I} e^{i \\omega t} \\right\\} = \\hat{I} \\cos \\omega t \\; .\n",
    "\\label{_auto50} \\tag{54}\n",
    "\\end{equation}\n",
    "$$"
   ]
  },
  {
   "cell_type": "markdown",
   "metadata": {},
   "source": [
    "For a circuit with an impedance $\\hat{Z}$, the voltage is $\\hat{V} = \\hat{Z}\\hat{I}$:"
   ]
  },
  {
   "cell_type": "markdown",
   "metadata": {},
   "source": [
    "<!-- Equation labels as ordinary links -->\n",
    "<div id=\"_auto51\"></div>\n",
    "\n",
    "$$\n",
    "\\begin{equation}\n",
    "V(t) = \\text{Re}\\left\\{ \\hat{Z} \\hat{I} e^{i \\omega t} \\right\\} \n",
    "\\label{_auto51} \\tag{55}\n",
    "\\end{equation}\n",
    "$$"
   ]
  },
  {
   "cell_type": "markdown",
   "metadata": {},
   "source": [
    "<!-- Equation labels as ordinary links -->\n",
    "<div id=\"_auto52\"></div>\n",
    "\n",
    "$$\n",
    "\\begin{equation}  \n",
    "= |\\hat{Z}|\\hat{I}\\text{Re} \\left\\{ e^{i \\omega t + \\phi} \\right\\} \n",
    "\\label{_auto52} \\tag{56}\n",
    "\\end{equation}\n",
    "$$"
   ]
  },
  {
   "cell_type": "markdown",
   "metadata": {},
   "source": [
    "<!-- Equation labels as ordinary links -->\n",
    "<div id=\"_auto53\"></div>\n",
    "\n",
    "$$\n",
    "\\begin{equation}  \n",
    "= |\\hat{Z}|\\hat{I} \\cos ( \\omega t + \\phi ) \\; .\n",
    "\\label{_auto53} \\tag{57}\n",
    "\\end{equation}\n",
    "$$"
   ]
  },
  {
   "cell_type": "markdown",
   "metadata": {},
   "source": [
    "This allows us to interpret the role of a complex impedance $\\hat{Z}$:\n",
    "* The norm $|\\hat{Z}|$ descibes the ratio between the voltage and current amplitudes.\n",
    "\n",
    "* The phase $\\phi$ describes the phase shift of the voltage relative to the current: It describes by how much the voltage is before (in time) the current.\n",
    "\n",
    "For the capacitor the complex impedance is:"
   ]
  },
  {
   "cell_type": "markdown",
   "metadata": {},
   "source": [
    "<!-- Equation labels as ordinary links -->\n",
    "<div id=\"_auto54\"></div>\n",
    "\n",
    "$$\n",
    "\\begin{equation}\n",
    "\\hat{Z} = \\frac{1}{i \\omega C} = \\frac{-i}{\\omega C} = \\frac{1}{\\omega C}e^{-i \\frac{\\pi}{2} } \\; .\n",
    "\\label{_auto54} \\tag{58}\n",
    "\\end{equation}\n",
    "$$"
   ]
  },
  {
   "cell_type": "markdown",
   "metadata": {},
   "source": [
    "which corresponds to a phase shift of $- \\pi/2$. The corresponding $I(t)$ and $V(t)$ curves are illustrated in Fig. [fig:circuits2-impedance-010](#fig:circuits2-impedance-010). \n",
    "\n",
    "<!-- dom:FIGURE:[fig-circuits2/circuits2-impedance-010.png, width=600 frac=0.65] Illustration of the current, $I(t)$, and voltage, $V(t)$, for a circuit with a capacitor $C$ and an impedance $\\hat{Z} = 1/(i \\omega C)$. <div id=\"fig:circuits2-impedance-010\"></div> -->\n",
    "<!-- begin figure -->\n",
    "<div id=\"fig:circuits2-impedance-010\"></div>\n",
    "\n",
    "<p>Illustration of the current, $I(t)$, and voltage, $V(t)$, for a circuit with a capacitor $C$ and an impedance $\\hat{Z} = 1/(i \\omega C)$.</p>\n",
    "<img src=\"fig-circuits2/circuits2-impedance-010.png\" width=600>\n",
    "\n",
    "<!-- end figure -->\n",
    "\n",
    "\n",
    "## Circuits: Complex representation of an inductor\n",
    "\n",
    "For a circuit with a voltage source $V_b$ and an inductor $L$, Kirchoff's law for the circuit gives"
   ]
  },
  {
   "cell_type": "markdown",
   "metadata": {},
   "source": [
    "<!-- Equation labels as ordinary links -->\n",
    "<div id=\"_auto55\"></div>\n",
    "\n",
    "$$\n",
    "\\begin{equation}\n",
    "V - L \\frac{\\mathrm{d} I}{\\mathrm{d} t} = 0 \\quad \\Rightarrow \\quad V = L \\frac{\\mathrm{d} I}{\\mathrm{d} t} \\; .\n",
    "\\label{_auto55} \\tag{59}\n",
    "\\end{equation}\n",
    "$$"
   ]
  },
  {
   "cell_type": "markdown",
   "metadata": {},
   "source": [
    "We rewrite this on complex form:"
   ]
  },
  {
   "cell_type": "markdown",
   "metadata": {},
   "source": [
    "<!-- Equation labels as ordinary links -->\n",
    "<div id=\"_auto56\"></div>\n",
    "\n",
    "$$\n",
    "\\begin{equation}\n",
    "\\text{Re}\\left\\{ \\hat{V}e^{i \\omega t}\\right\\} = L \\frac{\\mathrm{d}}{\\mathrm{d} t}\\text{Re}\\left\\{ \\hat{I} e^{i \\omega t} \\right\\} = \\text{Re}\\left\\{ i \\omega L\\hat{I}e^{i \\omega t}\\right\\} \\; .\n",
    "\\label{_auto56} \\tag{60}\n",
    "\\end{equation}\n",
    "$$"
   ]
  },
  {
   "cell_type": "markdown",
   "metadata": {},
   "source": [
    "This means that we again have the relation $\\hat{V} = \\hat{Z} \\hat{I}$ where $\\hat{Z} = i \\omega L$ for the inductor.\n",
    "\n",
    "\n",
    "## Circuits with impedances\n",
    "\n",
    "We have found that we can describe the relation between the complex amplitudes of the current and voltage with an impedance for resistors, capacitors, and inductors.\n",
    "\n",
    "**Impedances for the main components.**\n",
    "\n",
    "We describe a harmonic signal in complex notation as"
   ]
  },
  {
   "cell_type": "markdown",
   "metadata": {},
   "source": [
    "<!-- Equation labels as ordinary links -->\n",
    "<div id=\"_auto57\"></div>\n",
    "\n",
    "$$\n",
    "\\begin{equation}\n",
    "I(t) = \\text{Re}\\left\\{ \\hat{I}e^{i \\omega t}\\right\\} \\quad , \\quad V(t) = \\text{Re}\\left\\{ \\hat{V}e^{i \\omega t}\\right\\} \\; ,\n",
    "\\label{_auto57} \\tag{61}\n",
    "\\end{equation}\n",
    "$$"
   ]
  },
  {
   "cell_type": "markdown",
   "metadata": {},
   "source": [
    "where $\\hat{I}$ and $\\hat{V}$ are called the complex amplitudes or the **phasors** of the signals. The phasor includes both an amplitude and phase information:"
   ]
  },
  {
   "cell_type": "markdown",
   "metadata": {},
   "source": [
    "<!-- Equation labels as ordinary links -->\n",
    "<div id=\"_auto58\"></div>\n",
    "\n",
    "$$\n",
    "\\begin{equation}\n",
    "\\hat{I} = |\\hat{I}|e^{\\phi_I} \\quad , \\quad \\hat{V} = |\\hat{V}|e^{\\phi_V}\n",
    "\\label{_auto58} \\tag{62}\n",
    "\\end{equation}\n",
    "$$"
   ]
  },
  {
   "cell_type": "markdown",
   "metadata": {},
   "source": [
    "For the main components resistor, capacitor and inductor, we find a generalized Ohm's law relating the complex amplitudes to the **impedance** $\\hat{Z}$ of the component:"
   ]
  },
  {
   "cell_type": "markdown",
   "metadata": {},
   "source": [
    "<!-- Equation labels as ordinary links -->\n",
    "<div id=\"_auto59\"></div>\n",
    "\n",
    "$$\n",
    "\\begin{equation}\n",
    "\\hat{V} = \\hat{Z}\\, \\hat{I} \\; ,\n",
    "\\label{_auto59} \\tag{63}\n",
    "\\end{equation}\n",
    "$$"
   ]
  },
  {
   "cell_type": "markdown",
   "metadata": {},
   "source": [
    "where the impedances are\n",
    "* $\\hat{Z} = R$ for a **resistor**\n",
    "\n",
    "* $\\hat{Z} = \\frac{1}{i \\omega C}$ for a **capacitor**\n",
    "\n",
    "* $\\hat{Z} = i \\omega L$ for an **inductor**\n",
    "\n",
    "\n",
    "\n",
    "We can prove[^circuits2-footnote-010] that we can use the same rules for combining impedances as we already know for resistors:\n",
    "\n",
    "* **Two impedances** $\\hat{Z}_1$ and $\\hat{Z}_2$ **in series** can be replaced by a single component with impedance $\\hat{Z} = \\hat{Z}_1 + \\hat{Z}_2$.\n",
    "\n",
    "* **Two impedances**  $\\hat{Z}_1$ and $\\hat{Z}_2$ **in parallel** can be replaced by a single component with impedance $1/\\hat{Z} = 1/\\hat{Z}_1 + 1/\\hat{Z}_2$.\n",
    "\n",
    "[^circuits2-footnote-010]: We leave this proof for the exercises.\n",
    "\n",
    "\n",
    "However, we must remember that impedances are *complex numbers* and we must use correct algebra for complex numbers when we perform these calculations.\n",
    "\n",
    "## Example: RC-circuit in the frequency domain\n",
    "\n",
    "Fig. [fig:circuits2-impedance-020](#fig:circuits2-impedance-020) illustrates two possible circuits consisting of an input signal $V_S(t)$ (a signal generator), a resistor $R$ and a capacitor $C$. Determine how $\\hat{V}$ measured as show in the figure is related to $\\hat{V}_S$ in the two cases.\n",
    "\n",
    "<!-- dom:FIGURE:[fig-circuits2/circuits2-impedance-020.png, width=600 frac=1.0] Illustration of two circuits with a resistor $R$ and a capacitor $C$. What is the signal $V$ compared with the input signal $V_S$? <div id=\"fig:circuits2-impedance-020\"></div> -->\n",
    "<!-- begin figure -->\n",
    "<div id=\"fig:circuits2-impedance-020\"></div>\n",
    "\n",
    "<p>Illustration of two circuits with a resistor $R$ and a capacitor $C$. What is the signal $V$ compared with the input signal $V_S$?</p>\n",
    "<img src=\"fig-circuits2/circuits2-impedance-020.png\" width=600>\n",
    "\n",
    "<!-- end figure -->\n",
    "\n",
    "\n",
    "**Solution:**\n",
    "\n",
    "In both cases, we can combine the two components in series so that"
   ]
  },
  {
   "cell_type": "markdown",
   "metadata": {},
   "source": [
    "<!-- Equation labels as ordinary links -->\n",
    "<div id=\"_auto60\"></div>\n",
    "\n",
    "$$\n",
    "\\begin{equation}\n",
    "\\hat{V}_S = \\hat{I} \\, \\left( \\hat{Z}_C + \\hat{Z}_R \\right) \\; ,\n",
    "\\label{_auto60} \\tag{64}\n",
    "\\end{equation}\n",
    "$$"
   ]
  },
  {
   "cell_type": "markdown",
   "metadata": {},
   "source": [
    "and"
   ]
  },
  {
   "cell_type": "markdown",
   "metadata": {},
   "source": [
    "<!-- Equation labels as ordinary links -->\n",
    "<div id=\"_auto61\"></div>\n",
    "\n",
    "$$\n",
    "\\begin{equation}\n",
    "\\hat{I} = \\frac{\\hat{V}_S}{\\hat{Z}_R + \\hat{Z}_C} \\; .\n",
    "\\label{_auto61} \\tag{65}\n",
    "\\end{equation}\n",
    "$$"
   ]
  },
  {
   "cell_type": "markdown",
   "metadata": {},
   "source": [
    "For the circuit in Fig. [fig:circuits2-impedance-020](#fig:circuits2-impedance-020)a we get:"
   ]
  },
  {
   "cell_type": "markdown",
   "metadata": {},
   "source": [
    "<!-- Equation labels as ordinary links -->\n",
    "<div id=\"_auto62\"></div>\n",
    "\n",
    "$$\n",
    "\\begin{equation}\n",
    "\\hat{V} = \\hat{Z}_C \\, \\hat{I} = \\frac{\\hat{Z}}{R + \\hat{Z}}\\hat{V}_S \n",
    "\\label{_auto62} \\tag{66}\n",
    "\\end{equation}\n",
    "$$"
   ]
  },
  {
   "cell_type": "markdown",
   "metadata": {},
   "source": [
    "<!-- Equation labels as ordinary links -->\n",
    "<div id=\"_auto63\"></div>\n",
    "\n",
    "$$\n",
    "\\begin{equation}  \n",
    "= \\frac{\\frac{1}{i \\omega C}}{R + \\frac{1}{i \\omega C}} \\hat{V_S} \n",
    "\\label{_auto63} \\tag{67}\n",
    "\\end{equation}\n",
    "$$"
   ]
  },
  {
   "cell_type": "markdown",
   "metadata": {},
   "source": [
    "<!-- Equation labels as ordinary links -->\n",
    "<div id=\"_auto64\"></div>\n",
    "\n",
    "$$\n",
    "\\begin{equation}  \n",
    "= \\frac{1}{1 + i \\omega R C } \\hat{V}_S = \\frac{1}{1 + i \\omega \\tau} \\hat{V}_S \\; .\n",
    "\\label{_auto64} \\tag{68}\n",
    "\\end{equation}\n",
    "$$"
   ]
  },
  {
   "cell_type": "markdown",
   "metadata": {},
   "source": [
    "We interpret this by inserting $\\hat{V} = |\\hat{V}| e^{i \\phi}$. We get that"
   ]
  },
  {
   "cell_type": "markdown",
   "metadata": {},
   "source": [
    "<!-- Equation labels as ordinary links -->\n",
    "<div id=\"_auto65\"></div>\n",
    "\n",
    "$$\n",
    "\\begin{equation}\n",
    "|\\hat{V}| = \\frac{1}{\\sqrt{1 + (\\omega \\tau)^2}} |\\hat{V}_S| \\; ,\n",
    "\\label{_auto65} \\tag{69}\n",
    "\\end{equation}\n",
    "$$"
   ]
  },
  {
   "cell_type": "markdown",
   "metadata": {},
   "source": [
    "and"
   ]
  },
  {
   "cell_type": "markdown",
   "metadata": {},
   "source": [
    "<!-- Equation labels as ordinary links -->\n",
    "<div id=\"_auto66\"></div>\n",
    "\n",
    "$$\n",
    "\\begin{equation}\n",
    "\\phi = - \\arctan ( \\omega \\tau ) \\; ,\n",
    "\\label{_auto66} \\tag{70}\n",
    "\\end{equation}\n",
    "$$"
   ]
  },
  {
   "cell_type": "markdown",
   "metadata": {},
   "source": [
    "We see that in the limit when $(\\omega \\tau) \\gg 1$ we get that"
   ]
  },
  {
   "cell_type": "markdown",
   "metadata": {},
   "source": [
    "<!-- Equation labels as ordinary links -->\n",
    "<div id=\"_auto67\"></div>\n",
    "\n",
    "$$\n",
    "\\begin{equation}\n",
    "|\\hat{V}|\\simeq \\frac{1}{\\omega \\tau} |\\hat{V}_S| \\; ,\n",
    "\\label{_auto67} \\tag{71}\n",
    "\\end{equation}\n",
    "$$"
   ]
  },
  {
   "cell_type": "markdown",
   "metadata": {},
   "source": [
    "which implies that $|\\hat{V}| \\ll |\\hat{V}_S|$. This means that this circuit acts as a low-pass filter: Frequencies much larger than $1/\\tau$ as not let through, but frequencies smaller than this as lew through without any significant damping. We call such a circuit a *low-pass filter*.\n",
    "\n",
    "## Power dissipation in complex circuits\n",
    "\n",
    "We recall that the dissipated power in a resistor is"
   ]
  },
  {
   "cell_type": "markdown",
   "metadata": {},
   "source": [
    "<!-- Equation labels as ordinary links -->\n",
    "<div id=\"_auto68\"></div>\n",
    "\n",
    "$$\n",
    "\\begin{equation}\n",
    "P = R I^2 = V(t) I(t) \\; .\n",
    "\\label{_auto68} \\tag{72}\n",
    "\\end{equation}\n",
    "$$"
   ]
  },
  {
   "cell_type": "markdown",
   "metadata": {},
   "source": [
    "Unfortunately, this expression is non-linear (it goes as $I^2$), and we have implicitely assumed that all expressions are linear. However, we can still calculate the power using a smart trick, where we write"
   ]
  },
  {
   "cell_type": "markdown",
   "metadata": {},
   "source": [
    "<!-- Equation labels as ordinary links -->\n",
    "<div id=\"_auto69\"></div>\n",
    "\n",
    "$$\n",
    "\\begin{equation}\n",
    "\\text{Re}\\left\\{ z \\right\\} = \\frac{z + z^{\\ast}}{2} \\; .\n",
    "\\label{_auto69} \\tag{73}\n",
    "\\end{equation}\n",
    "$$"
   ]
  },
  {
   "cell_type": "markdown",
   "metadata": {},
   "source": [
    "We use this to rewrite the expression for the power:"
   ]
  },
  {
   "cell_type": "markdown",
   "metadata": {},
   "source": [
    "<!-- Equation labels as ordinary links -->\n",
    "<div id=\"_auto70\"></div>\n",
    "\n",
    "$$\n",
    "\\begin{equation}\n",
    "P(t) = V(t) I(t) = \\text{Re}\\left\\{ \\hat{V}e^{i \\omega t}\\right\\} \\text{Re} \\left\\{ \\hat{I}e^{i \\omega t} \\right\\} \n",
    "\\label{_auto70} \\tag{74}\n",
    "\\end{equation}\n",
    "$$"
   ]
  },
  {
   "cell_type": "markdown",
   "metadata": {},
   "source": [
    "<!-- Equation labels as ordinary links -->\n",
    "<div id=\"_auto71\"></div>\n",
    "\n",
    "$$\n",
    "\\begin{equation}  \n",
    "= \\frac{1}{2}\\left( \\hat{V}e^{i \\omega t} + \\hat{V}^{\\ast}e^{-i \\omega t}  \\right) \\,\n",
    "\\frac{1}{2}\\left( \\hat{I}e^{i \\omega t} + \\hat{I}^{\\ast}e^{-i \\omega t}  \\right) \n",
    "\\label{_auto71} \\tag{75}\n",
    "\\end{equation}\n",
    "$$"
   ]
  },
  {
   "cell_type": "markdown",
   "metadata": {},
   "source": [
    "<!-- Equation labels as ordinary links -->\n",
    "<div id=\"_auto72\"></div>\n",
    "\n",
    "$$\n",
    "\\begin{equation}  \n",
    "=\n",
    "\\frac{1}{4}\\left( \\hat{V}\\hat{I}e^{2i \\omega t} + \\hat{V}^{\\ast}\\hat{I}^{\\ast}e^{- 2 i \\omega t} + \\hat{V}\\hat{I}^{\\ast} + \\hat{V}^{\\ast}\\hat{I} \\right) \n",
    "\\label{_auto72} \\tag{76}\n",
    "\\end{equation}\n",
    "$$"
   ]
  },
  {
   "cell_type": "markdown",
   "metadata": {},
   "source": [
    "<!-- Equation labels as ordinary links -->\n",
    "<div id=\"_auto73\"></div>\n",
    "\n",
    "$$\n",
    "\\begin{equation}  \n",
    "= \\frac{1}{2} \\text{Re}\\left\\{ \\hat{V}\\hat{I}e^{2i \\omega t} \\right\\} +\n",
    " \\frac{1}{2} \\text{Re}\\left\\{ \\hat{V}\\hat{I}^{\\ast} \\right\\} \\; .\n",
    "\\label{_auto73} \\tag{77}\n",
    "\\end{equation}\n",
    "$$"
   ]
  },
  {
   "cell_type": "markdown",
   "metadata": {},
   "source": [
    "Here, we observe that the left term varies with $\\omega' = 2 \\omega$, which means that if we average over a whole number of half periods this term becomes zero. The average power is therefore only given by the second term:"
   ]
  },
  {
   "cell_type": "markdown",
   "metadata": {},
   "source": [
    "<!-- Equation labels as ordinary links -->\n",
    "<div id=\"_auto74\"></div>\n",
    "\n",
    "$$\n",
    "\\begin{equation}\n",
    "\\langle P \\rangle = \\frac{1}{2} \\text{Re}\\left\\{ \\hat{V}\\hat{I}^{\\ast} \\right\\} \\; .\n",
    "\\label{_auto74} \\tag{78}\n",
    "\\end{equation}\n",
    "$$"
   ]
  },
  {
   "cell_type": "markdown",
   "metadata": {},
   "source": [
    "What is the power dissipation of a component with impedance $\\hat{Z} = |\\hat{Z}|e^{i \\phi} = R + i X$? We use that $\\hat{V} = \\hat{Z}\\hat{I}$ and get:"
   ]
  },
  {
   "cell_type": "markdown",
   "metadata": {},
   "source": [
    "<!-- Equation labels as ordinary links -->\n",
    "<div id=\"_auto75\"></div>\n",
    "\n",
    "$$\n",
    "\\begin{equation}\n",
    "\\langle P \\rangle = \\frac{1}{2} \\text{Re}\\left\\{ \\hat{Z}\\hat{I}\\hat{I}^{\\ast} \\right\\} \\; ,\n",
    "\\label{_auto75} \\tag{79}\n",
    "\\end{equation}\n",
    "$$"
   ]
  },
  {
   "cell_type": "markdown",
   "metadata": {},
   "source": [
    "where we recognize $\\hat{I}\\hat{I}^{\\ast} = |\\hat{I}|^2$, so that"
   ]
  },
  {
   "cell_type": "markdown",
   "metadata": {},
   "source": [
    "<!-- Equation labels as ordinary links -->\n",
    "<div id=\"_auto76\"></div>\n",
    "\n",
    "$$\n",
    "\\begin{equation}\n",
    "\\langle P \\rangle = \\frac{1}{2} \\text{Re}\\left\\{ \\hat{Z}  |\\hat{I}|^2 \\right\\} = \\frac{1}{2}R |\\hat{I}|^2 \\; . \n",
    "\\label{_auto76} \\tag{80}\n",
    "\\end{equation}\n",
    "$$"
   ]
  },
  {
   "cell_type": "markdown",
   "metadata": {},
   "source": [
    "We therefore conclude that only $R$ contributes to the power dissipation, and that the imaginary component $X$ does not lead to any dissipation, that is, the capacitor and inductor changes the phase of the signal, but does not contribute to the power dissipation.\n",
    "\n",
    "# Assumptions underlying circuit models\n",
    "\n",
    "<!-- In the chapter [ch:circuits](#ch:circuits), -->\n",
    "\n",
    "Previously, we discussed how our representation of circuits was an approximation to the physical system. We assume that we can describe the system as a set of separate components that do not interact. This is one of several underlying assumptions that we have implicitly made when we describe real systems as circuits, but also in our treatment of circuits we have built from circuit components. Modeling a system as a circuit is an *approximation* to the full electromagnetic theory described by Maxwell's equation --- an approximation we use because it allows us to understand, predict and explain behavior, and to develop a simplified theory that may guide our intuition. What are the underlying assumptions, and how can we compensate or modify the model to accommodate these deviations? \n",
    "\n",
    "* We assume that the system is quasistatic, which means that we assume that conductors are small compared with the wavelength $\\lambda = c/f$. Long conductors or high frequencies may therefore lead to deviations from this assumption.\n",
    "\n",
    "* We assume that the mutual inductor between circuits and the self induction of a single circuit can be described a set of decoupled inductors. This is often a good approximation, but it ignores how the magnetic field may affect other components in the circuit. We can sometimes compensate by introducing more inductors in the circuit to include these effects.\n",
    "\n",
    "* Junctions and parts of conductors may in reality store some charge, even though we have assumed that they are ideal. This can be addressed by including capacitors in the circuit to model these effects.\n",
    "\n",
    "* The electric or magnetic field from one component may impact another component in the circuit, even though we have assumed that the components are independent. To compensate for this effect, we introduce additions components to reflect these interactions.\n",
    "\n",
    "* Real conductors have a finite resistivity and are not ideal condutors. We compensate for this effect by including resistors to represent the non-ideal aspect of wires.\n",
    "\n",
    "# Summary\n",
    "\n",
    "\n",
    "# Exercises\n",
    "\n",
    "### Learning outcomes\n",
    "\n",
    "(1) Know the basic circuit components of emf, resistance, capacitance, and inductance; (2) Set up equations for circuits using Kirchoffs laws; (3) Solve circuit equations in the time domain; (4) Understand descriptions of current and voltage in the frequency domain; (5) Find complex impedances for simple circuits; (6) Understand and apply the laws for combinations of complex impedances.\n",
    "\n",
    "<!-- ===== Test yourself ===== -->\n",
    "\n",
    "## Discussion exercises\n",
    "\n",
    "\n",
    "\n",
    "<!-- --- begin exercise --- -->\n",
    "\n",
    "## Exercise 1: Snurrig motstand\n",
    "\n",
    "Du skal lage en motstand ved å vikle en wire rundt en sylinder. For å gjøre induktansen så liten som mulig har du blitt foreslått å vikle halvparten av wiren den ene veien og halvparten den andre veien. Vil det gi ønsket effekt? Forklar hvorfor eller hvorfor ikke.\n",
    "\n",
    "<!-- --- end exercise --- -->\n",
    "\n",
    "\n",
    "\n",
    "\n",
    "<!-- --- begin exercise --- -->\n",
    "\n",
    "## Exercise 2: En spole pluss en spole er fire spoler\n",
    "\n",
    "En venninne kommer til deg med et spørsmål:\n",
    "\n",
    "*Hvis du plasserer to spoler med induktansene $L$ etter hverandre i en krets vil de oppføre seg som en spole med induktansen $2L$. Men hvis du legger en spole med induktans $L$ oppå en spole med induktans $L$ blir den totale induktansen $4L$. Hvordan kan dette være mulig?*\n",
    "\n",
    "Hva vil du si til din venninne? Har hun regnet feil eller er det noe annet som er galt med argumentet hennes?\n",
    "\n",
    "\n",
    "<!-- Impedance -->\n",
    "<!-- --- end exercise --- -->\n",
    "\n",
    "\n",
    "\n",
    "\n",
    "<!-- --- begin exercise --- -->\n",
    "\n",
    "## Exercise 3: Energioverføring\n",
    "\n",
    "Strømmen i en vekselsstrømslinje endrer retning et visst antall ganger per sekund og gjennomsnittsverdien er null. Forklar hvordan det er mulig å transportere energi (effekt) i et slikt system.\n",
    "\n",
    "<!-- --- end exercise --- -->\n",
    "\n",
    "\n",
    "\n",
    "\n",
    "<!-- --- begin exercise --- -->\n",
    "\n",
    "## Exercise 4: Kansellerende komponenter\n",
    "\n",
    "En krets består av en vekselsstrømkilde, en lyspære, en kondensator og en spole, alle koblet i serie. Er det mulig at pæren lyser like sterkt hvis man fjerner både kondensatoren og spolen?\n",
    "\n",
    "Beskriv oppførselen til kretsen ved hjelp av impedansen til kondensatoren ($\\hat{Z} = 1/(i \\omega C)$) og spolen ($\\hat{Z} = i \\omega L$).\n",
    "\n",
    "<!-- --- end exercise --- -->\n",
    "\n",
    "\n",
    "## Tutorials\n",
    "\n",
    "\n",
    "\n",
    "<!-- --- begin exercise --- -->\n",
    "\n",
    "## Exercise 5: LR circuit\n",
    "\n",
    "Consider a circuit consisting of a battery with emf $V_0$, a resistance $R$ and an inductance $L$ connected in series in a loop. A current $I$ is flowing due to the emf.\n",
    "\n",
    "\n",
    "**a)**\n",
    "Draw the circuit using standard symbols for the components. Illustrate the positive direction for $I$.\n",
    "\n",
    "**b)**\n",
    "What is the voltage drop $V_R$ across the resistor? (The voltage drop is a positive number in the direction of the current).\n",
    "\n",
    "\n",
    "\n",
    "\n",
    "\n",
    "**c)**\n",
    "For the inductance $L$ the flux is $\\Phi = LI$. What is the emf across the inductance $L$?\n",
    "\n",
    "\n",
    "\n",
    "\n",
    "\n",
    "**d)**\n",
    "Write down the sum of emf and potential drops around the circuit.\n",
    "\n",
    "\n",
    "\n"
   ]
  },
  {
   "cell_type": "markdown",
   "metadata": {},
   "source": [
    "\n",
    "**e)**\n",
    "What is the potential drop $V_L$ over the inductance $L$? Ensure that you get the same sum of emf and potential drops around the circuit when you represent the inductance as a component with a voltage drop as when you represented it by an emf.\n",
    "\n",
    "\n",
    "\n"
   ]
  },
  {
   "cell_type": "markdown",
   "metadata": {},
   "source": [
    "\n",
    "**f)**\n",
    "Find a differential equation for the current, $I$.\n",
    "\n",
    "\n",
    "\n"
   ]
  },
  {
   "cell_type": "markdown",
   "metadata": {},
   "source": [
    "\n",
    "**g)**\n",
    "First, find the solution to this equation when $V_0=0$ and $I(0) = I_0$.\n",
    "\n",
    "\n",
    "\n",
    "\n",
    "\n",
    "**h)**\n",
    "Second, find the solution to this equation when $V_0>0$ and $I(0) = 0$.\n",
    "\n",
    "\n",
    "\n"
   ]
  },
  {
   "cell_type": "markdown",
   "metadata": {},
   "source": [
    "\n",
    "<!-- --- end exercise --- -->\n",
    "\n",
    "\n",
    "\n",
    "\n",
    "<!-- --- begin exercise --- -->\n",
    "\n",
    "## Exercise 6: LC circuit\n",
    "\n",
    "Consider a circuit with a capacitor and an inductor only. Suppose this LC circuit starts at time $t=0$ with charge $Q_0$ on the capacitor and zero initial current.\n",
    "\n",
    "\n",
    "**a)**\n",
    "What is the voltage drop $V_C$ across the capacitor $C$ expressed in terms of the charge $Q$ on the capacitor?\n",
    "\n",
    "\n",
    "\n",
    "**b)**\n",
    "What is the voltage drop $V_L$ across the inductance $L$ in terms of the current $I$. (Ensure that you have the sign correct by a careful reflection on the relation between emf and voltage drops.)\n",
    "\n",
    "\n",
    "\n",
    "**c)**\n",
    "Find a differential equation for the current $I$ in the circuit.\n",
    "\n"
   ]
  },
  {
   "cell_type": "markdown",
   "metadata": {},
   "source": [
    "\n",
    "**d)**\n",
    "Find the solution to the equation for $I$. Use this to find $Q(t)$.\n",
    "\n",
    "\n",
    "\n",
    "**e)**\n",
    "Describe an analogous mechanical system (i.e. one that obeys the same differential equation) and provide \"translations\" between all important variables.\n",
    "\n",
    "\n",
    "\n",
    "\n",
    "<!-- Impedance -->\n",
    "<!-- --- end exercise --- -->\n",
    "\n",
    "\n",
    "\n",
    "\n",
    "<!-- --- begin exercise --- -->\n",
    "\n",
    "## Exercise 7: Complex warm-up\n",
    "\n",
    "*Adapted from Steven Pollock, University of Colorado-Boulder*\n",
    "\n",
    "*In this tutorial we will focus on basic skills in complex numbers. If you master these elements, do them quickly and move on to the next tutorial in the set*\n",
    "\n",
    "Recall that a complex number $z$ can be written in two ways: $z = a + i b$ or $z = A e^{i \\theta}$, where $a$, $b$, $A$ and $\\theta$ are real numbers such that $|z|=A=\\sqrt{a^2 + b^2}$, $a = Re\\left\\{ z \\right\\} = A \\cos( \\theta)$, $b = Im \\left\\{z \\right\\} = A \\sin(\\theta)$. When you multiply two complex numbers, the phase angles add: $z_1 = A_1 e^{i \\theta_1}$, $z_2 = A_2 e^{i \\theta_2}$, $z_1 \\, z_2 = A_1 A_2 e^{i(\\theta_1 + \\theta_2)}$.\n",
    "\n",
    "\n",
    "**a)**\n",
    "Rewrite the following complex numbers in the form $Ae^{i \\theta}$:"
   ]
  },
  {
   "cell_type": "markdown",
   "metadata": {},
   "source": [
    "8\n",
    "7\n",
    " \n",
    "<\n",
    "<\n",
    "<\n",
    "!\n",
    "!\n",
    "M\n",
    "A\n",
    "T\n",
    "H\n",
    "_\n",
    "B\n",
    "L\n",
    "O\n",
    "C\n",
    "K"
   ]
  },
  {
   "cell_type": "markdown",
   "metadata": {},
   "source": [
    "<!-- Equation labels as ordinary links -->\n",
    "<div id=\"_auto85\"></div>\n",
    "\n",
    "$$\n",
    "\\begin{equation}\n",
    "1+i = \\qquad \\, \\frac{1}{1-i} = \\qquad\n",
    "\\label{_auto85} \\tag{89}\n",
    "\\end{equation}\n",
    "$$"
   ]
  },
  {
   "cell_type": "markdown",
   "metadata": {},
   "source": [
    "\n",
    "\n",
    "\n",
    "**b)**\n",
    "Use the last two answers and the rules for multiplying complex exponentials to find"
   ]
  },
  {
   "cell_type": "markdown",
   "metadata": {},
   "source": [
    "<!-- Equation labels as ordinary links -->\n",
    "<div id=\"_auto86\"></div>\n",
    "\n",
    "$$\n",
    "\\begin{equation}\n",
    "\\frac{1+i}{1-i} = \\qquad\n",
    "\\label{_auto86} \\tag{90}\n",
    "\\end{equation}\n",
    "$$"
   ]
  },
  {
   "cell_type": "markdown",
   "metadata": {},
   "source": [
    "What is the magnitude, phase and real part of your answer?\n",
    "\n",
    "\n",
    "\n",
    "\n",
    "\n",
    "**c)**\n",
    "Draw the following complex numbers in the complex plane: $e^{i \\pi/4}$, $-1$, $\\cos(3 \\pi/4) - i \\sin(3 \\pi /4)$, $e^{-i 3 \\pi /4}$.\n",
    "\n",
    "\n",
    "\n",
    "**d)**\n",
    "Draw the following complex numbers $e^{-i \\omega t}$ in the complex plane for the times $\\omega t_1 = \\pi /4$, $\\omega t_2 = \\pi/2$, $\\omega t_3 = 3 \\pi /4$. Would an arrow representing $e^{-i \\omega t}$ in the complex plane rotate *clockwise* or *counter-clockwise* as time advances?\n",
    "\n",
    "\n",
    "\n",
    "\n",
    "**e)**\n",
    "For a circuit with a resistor $R$ and an AC source $V(t) = V_0 e^{i \\omega t}$ ($V_0$ is real), what is the magnitude of the physical current through the resistor when $\\omega t = \\pi/3$.\n",
    "\n",
    "\n",
    "\n",
    "\n",
    "\n",
    "<!-- --- end exercise --- -->\n",
    "\n",
    "\n",
    "\n",
    "\n",
    "<!-- --- begin exercise --- -->\n",
    "\n",
    "## Exercise 8: Complex impedance\n",
    "\n",
    "(*Based on a tutorial from Steven Pollock, University of Colorado-Boulder*)\n",
    "\n",
    "*In this tutorial we will focus on the complex impedance, $Z$, in AC circuits. The goal is for you to build a strong intuition for the concepts and basic skills that allow you to address longer and more elaborate exercises*\n",
    "\n",
    "\n",
    "**a)**\n",
    "Given the impedance $Z = 2 e^{i \\pi/4}$ and the complex number $I$ shown in the figure blow, plot the complex number $V = I \\cdot Z$.\n",
    "\n",
    "<!-- dom:FIGURE:[fig-circuits2/circuits-impedance-010.png,  width=600 frac=0.45] -->\n",
    "<!-- begin figure -->\n",
    "\n",
    "<p></p>\n",
    "<img src=\"fig-circuits2/circuits-impedance-010.png\" width=600>\n",
    "\n",
    "<!-- end figure -->\n",
    "\n",
    "\n",
    "\n",
    "\n",
    "**b)**\n",
    "Given $V = V_0 e^{i \\omega t}$ and $Z = 2 e^{-i \\pi/2}$, plot the complex number $I =V/Z$ at the instant in time shown in the figure below.\n",
    "\n",
    "<!-- dom:FIGURE:[fig-circuits2/circuits-impedance-020.png,  width=600 frac=0.45] -->\n",
    "<!-- begin figure -->\n",
    "\n",
    "<p></p>\n",
    "<img src=\"fig-circuits2/circuits-impedance-020.png\" width=600>\n",
    "\n",
    "<!-- end figure -->\n",
    "\n",
    "\n"
   ]
  },
  {
   "cell_type": "markdown",
   "metadata": {},
   "source": [
    "\n",
    "**c)**\n",
    "For the same situation as above, with $V = V_0 e^{i \\omega t}$ and $Z = 2 e^{-i \\pi/2}$, sketch the real (physical) values of $V$ and $I$ as functions of time in the graphs below.\n",
    "\n",
    "<!-- dom:FIGURE:[fig-circuits2/circuits-impedance-030.png,  width=300 frac=0.5] -->\n",
    "<!-- begin figure -->\n",
    "\n",
    "<p></p>\n",
    "<img src=\"fig-circuits2/circuits-impedance-030.png\" width=300>\n",
    "\n",
    "<!-- end figure -->\n",
    "\n",
    "\n",
    "Does the current *lead* or *lag* the voltage? Make sure your answers on this page are consistent with the phasor diagram you drew on the previous page for the same situation.\n",
    "\n",
    "\n",
    "\n",
    "Before you move on, make sure to check your answers to this part with an instructor!\n",
    "\n",
    "**d)**\n",
    "The complex impedances for the circuit elements in the figure below are: $Z_R = R$, $Z_L = i \\omega L$, $Z_C = \\frac{1}{i \\omega C}$.\n",
    "\n",
    "<!-- dom:FIGURE:[fig-circuits2/circuits-impedance-060.png,  width=300 frac=0.25] -->\n",
    "<!-- begin figure -->\n",
    "\n",
    "<p></p>\n",
    "<img src=\"fig-circuits2/circuits-impedance-060.png\" width=300>\n",
    "\n",
    "<!-- end figure -->\n",
    "\n",
    "\n",
    "\n",
    "What $Z_{TOTAL}$ for this circuit?\n",
    "\n",
    "\n",
    "Write $Z_{TOTAL}$ in the form $a + i b$.\n",
    "\n",
    "$Z_{TOTAL} = Z_R + Z_L + Z_C = R + i\\omega L + \\frac{1}{i \\omega C} = R + i \\left ( \\omega L - \\frac{1}{\\omega C} \\right )$\n",
    "\n",
    "**e)**\n",
    "For graphing purposes, assume that $\\omega L > 1/(\\omega C)$. Sketch $Z_R$, $Z_C$, $Z_L$, and show how they add as vectors to get $Z_{TOTAL}$.\n",
    "\n",
    "<!-- dom:FIGURE:[fig-circuits2/circuits-impedance-050.png,  width=300 frac=0.45] -->\n",
    "<!-- begin figure -->\n",
    "\n",
    "<p></p>\n",
    "<img src=\"fig-circuits2/circuits-impedance-050.png\" width=300>\n",
    "\n",
    "<!-- end figure -->\n",
    "\n",
    "\n",
    "Under what circumstances does the current *lead* the voltage?\n",
    "\n",
    "Under what circumstances are the current and the voltage *in phase*?\n",
    "\n"
   ]
  },
  {
   "cell_type": "markdown",
   "metadata": {},
   "source": [
    "\n",
    "<!-- --- end exercise --- -->\n",
    "\n",
    "\n",
    "## Homework\n",
    "\n",
    "\n",
    "\n",
    "<!-- --- begin exercise --- -->\n",
    "\n",
    "## Exercise 9: Complex capacitor\n",
    "\n",
    "(*From Johannes Skaar*)\n",
    "\n",
    "\n",
    "**a)**\n",
    "A capacitor $C$ is first charged to the voltage $V_0$. After $t=0$ it is discharged through the resistor $R$ as illustrated in Fig. [fig:circuits-complexcapacitor-010](#fig:circuits-complexcapacitor-010)a. Sketch the voltage $V(t)$ across the capacitor as a function of time. How long time, approximately, does it take to charge or discharge a capacitor?\n",
    "\n"
   ]
  },
  {
   "cell_type": "markdown",
   "metadata": {},
   "source": [
    "\n",
    "<!-- dom:FIGURE:[fig-circuits2/circuits-complexcapacitor-010.png, width=300 frac=0.8] Illustration of a circuit with a capacitor. <div id=\"fig:circuits-complexcapacitor-010\"></div> -->\n",
    "<!-- begin figure -->\n",
    "<div id=\"fig:circuits-complexcapacitor-010\"></div>\n",
    "\n",
    "<p>Illustration of a circuit with a capacitor.</p>\n",
    "<img src=\"fig-circuits2/circuits-complexcapacitor-010.png\" width=300>\n",
    "\n",
    "<!-- end figure -->\n",
    "\n",
    "\n",
    "**b)**\n",
    "What is the impedance of the capacitor?\n",
    "\n"
   ]
  },
  {
   "cell_type": "markdown",
   "metadata": {},
   "source": [
    "\n",
    "**c)**\n",
    "We now connect the capacitor directly to an AC source with complex amplitude $\\hat{V}$ as illustrated in Fig. [fig:circuits-complexcapacitor-010](#fig:circuits-complexcapacitor-010)b. What is the complex current $\\hat{I}$ through the capacitor?\n",
    "\n"
   ]
  },
  {
   "cell_type": "markdown",
   "metadata": {},
   "source": [
    "\n"
   ]
  },
  {
   "cell_type": "markdown",
   "metadata": {},
   "source": [
    "\n",
    "**d)**\n",
    "Give an interpretation of the complex circuit equation (the connection between current and voltage) you found in the previous exercise. You should interpret both the absolute value and the imaginary unit $i$ in the equation.\n",
    "\n",
    "<!-- --- begin hint in exercise --- -->\n",
    "\n",
    "**Hint.**\n",
    "$i$ is $e^{i \\pi/2}$ in polar coordinates.\n",
    "\n",
    "<!-- --- end hint in exercise --- -->\n",
    "\n"
   ]
  },
  {
   "cell_type": "markdown",
   "metadata": {},
   "source": [
    "\n",
    "<!-- --- end exercise --- -->\n",
    "\n",
    "\n",
    "\n",
    "\n",
    "<!-- --- begin exercise --- -->\n",
    "\n",
    "## Exercise 10: Complex RL-circuit\n",
    "\n",
    "(*From Johannes Skaar*)\n",
    "\n",
    "An AC voltage source with angular frequency $\\omega$ is connected in series with a resistance $R$ and an inductance $L$ as shown in Fig. [fig:circuits-complexinductance-010](#fig:circuits-complexinductance-010)a.\n",
    "\n",
    "<!-- dom:FIGURE:[fig-circuits2/circuits-complexinductance-010.png,  width=300 frac=0.55] Illustration of a circuit with an inductance. <div id=\"fig:circuits-complexinductance-010\"></div> -->\n",
    "<!-- begin figure -->\n",
    "<div id=\"fig:circuits-complexinductance-010\"></div>\n",
    "\n",
    "<p>Illustration of a circuit with an inductance.</p>\n",
    "<img src=\"fig-circuits2/circuits-complexinductance-010.png\" width=300>\n",
    "\n",
    "<!-- end figure -->\n",
    "\n",
    "\n",
    "\n",
    "**a)**\n",
    "What is the physical, time-varying voltage $V_s(t)$ that corresponds to the complex amplitude $\\hat{V}_s$?\n",
    "\n"
   ]
  },
  {
   "cell_type": "markdown",
   "metadata": {},
   "source": [
    "\n",
    "**b)**\n",
    "Find the complex voltage $\\hat{V}$ expressed in terms of the source $\\hat{V}_s$, the time constant $\\tau = L/R$ and the angular frequency $\\omega$. Also find an expression for $|\\hat{V}|/|\\hat{V}_s|$, plot it and provide an interpretation.\n",
    "\n"
   ]
  },
  {
   "cell_type": "markdown",
   "metadata": {},
   "source": [
    "\n",
    "<!-- --- end exercise --- -->\n",
    "\n",
    "\n",
    "\n",
    "\n",
    "<!-- --- begin exercise --- -->\n",
    "\n",
    "## Exercise 11: RL-krets\n",
    "\n",
    "Vi ser på en modell for en krets som består av en spole med induktans $L$, en motstand med resistans $R$ og et batteri med emf $e$ koblet sammen i en sirkulær krets. Du kan anta at selvinduktansen for kretsen er ubetydelig sammenliknet med $L$.\n",
    "\n",
    "\n",
    "**a)**\n",
    "Vis at strømmen gjennom kretsen kan beskrives med likningen"
   ]
  },
  {
   "cell_type": "markdown",
   "metadata": {},
   "source": [
    "<!-- Equation labels as ordinary links -->\n",
    "<div id=\"_auto96\"></div>\n",
    "\n",
    "$$\n",
    "\\begin{equation}\n",
    "\\frac{dI}{dt} = \\frac{1}{L} \\left( e - I R \\right) \\; .\n",
    "\\label{_auto96} \\tag{100}\n",
    "\\end{equation}\n",
    "$$"
   ]
  },
  {
   "cell_type": "markdown",
   "metadata": {},
   "source": [
    "\n",
    "**b)**\n",
    "Skriv et program som finner $I(t)$.\n",
    "\n"
   ]
  },
  {
   "cell_type": "markdown",
   "metadata": {},
   "source": [
    "\n",
    "<!-- ===== Modeling projects ===== -->\n",
    "\n",
    "<!-- --- end exercise --- -->\n",
    "\n",
    "\n",
    "# References"
   ]
  }
 ],
 "metadata": {
  "kernelspec": {
   "display_name": "Python 3",
   "language": "python",
   "name": "python3"
  },
  "language_info": {
   "codemirror_mode": {
    "name": "ipython",
    "version": 3
   },
   "file_extension": ".py",
   "mimetype": "text/x-python",
   "name": "python",
   "nbconvert_exporter": "python",
   "pygments_lexer": "ipython3",
   "version": "3.7.6"
  }
 },
 "nbformat": 4,
 "nbformat_minor": 2
}
