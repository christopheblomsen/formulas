{
 "cells": [
  {
   "cell_type": "markdown",
   "metadata": {},
   "source": [
    "<!-- dom:TITLE: Maxwell's equations -->\n",
    "# Maxwell's equations\n",
    "<!-- dom:AUTHOR: Anders Malthe-Sørenssen at Department of Physics, University of Oslo -->\n",
    "<!-- Author: -->  \n",
    "**Anders Malthe-Sørenssen**, Department of Physics, University of Oslo\n",
    "\n",
    "Date: **Nov 27, 2020**\n",
    "\n",
    "<!-- Externaldocuments: ../nickname1/main_nickname1, ../nickname2/main_nickname2 -->\n",
    "\n",
    "<!-- Common Mako variables and functions -->\n",
    "\n",
    "\n",
    "\n",
    "\n",
    "\n",
    "\n",
    "\n",
    "\n",
    "<!-- Abstract -->\n",
    "\n",
    "We have so far almost completely introduced the general equations that describe electromagnetism --- Maxwell's equation. Here, we will complete the description by introducing the last term needed to ensure that the equations are consistent. We will introduce an interpretation of the new term as a displacement current. We will formulate the complete set of Maxwell's equations and discuss how they are used to build theories for e.g. electromagenetic waves.\n",
    "\n",
    "# Fixing Maxwell's equation\n",
    "\n",
    "## There is something wrong with the equations\n",
    "\n",
    "We have introduced a set of equations to describe the coupling between the electric and magnetic fields. On differential form, the equations are:"
   ]
  },
  {
   "cell_type": "markdown",
   "metadata": {},
   "source": [
    "0\n",
    " \n",
    "<\n",
    "<\n",
    "<\n",
    "!\n",
    "!\n",
    "M\n",
    "A\n",
    "T\n",
    "H\n",
    "_\n",
    "B\n",
    "L\n",
    "O\n",
    "C\n",
    "K"
   ]
  },
  {
   "cell_type": "markdown",
   "metadata": {},
   "source": [
    "1\n",
    " \n",
    "<\n",
    "<\n",
    "<\n",
    "!\n",
    "!\n",
    "M\n",
    "A\n",
    "T\n",
    "H\n",
    "_\n",
    "B\n",
    "L\n",
    "O\n",
    "C\n",
    "K"
   ]
  },
  {
   "cell_type": "markdown",
   "metadata": {},
   "source": [
    "2\n",
    " \n",
    "<\n",
    "<\n",
    "<\n",
    "!\n",
    "!\n",
    "M\n",
    "A\n",
    "T\n",
    "H\n",
    "_\n",
    "B\n",
    "L\n",
    "O\n",
    "C\n",
    "K"
   ]
  },
  {
   "cell_type": "markdown",
   "metadata": {},
   "source": [
    "<!-- Equation labels as ordinary links -->\n",
    "<div id=\"_auto4\"></div>\n",
    "\n",
    "$$\n",
    "\\begin{equation}\n",
    "\\nabla \\cdot \\mathbf{B} = 0 \\; .\n",
    "\\label{_auto4} \\tag{4}\n",
    "\\end{equation}\n",
    "$$"
   ]
  },
  {
   "cell_type": "markdown",
   "metadata": {},
   "source": [
    "In addition, we have conservation of charge, which is formulated as:"
   ]
  },
  {
   "cell_type": "markdown",
   "metadata": {},
   "source": [
    "<!-- Equation labels as ordinary links -->\n",
    "<div id=\"eq:maxwell-conservationofcharge-010\"></div>\n",
    "\n",
    "$$\n",
    "\\begin{equation}\n",
    "\\nabla \\cdot \\mathbf{J} + \\frac{\\partial \\rho}{\\partial t } = 0 \\; .\n",
    "\\label{eq:maxwell-conservationofcharge-010} \\tag{5}\n",
    "\\end{equation}\n",
    "$$"
   ]
  },
  {
   "cell_type": "markdown",
   "metadata": {},
   "source": [
    "Unfortunately, these equations are not consistent with each other. We can see this by realizing that the divergence of a curl always is zero. This means that"
   ]
  },
  {
   "cell_type": "markdown",
   "metadata": {},
   "source": [
    "<!-- Equation labels as ordinary links -->\n",
    "<div id=\"_auto5\"></div>\n",
    "\n",
    "$$\n",
    "\\begin{equation}\n",
    "\\nabla \\cdot \\left( \\nabla \\times \\mathbf{H} \\right) = 0 \\; .\n",
    "\\label{_auto5} \\tag{6}\n",
    "\\end{equation}\n",
    "$$"
   ]
  },
  {
   "cell_type": "markdown",
   "metadata": {},
   "source": [
    "Which would imply that $\\nabla \\cdot \\mathbf{J} = 0$. But this is not always true, it is only true for static systems. In general we know from the conservation of charge that"
   ]
  },
  {
   "cell_type": "markdown",
   "metadata": {},
   "source": [
    "<!-- Equation labels as ordinary links -->\n",
    "<div id=\"_auto6\"></div>\n",
    "\n",
    "$$\n",
    "\\begin{equation}\n",
    "\\nabla \\cdot \\mathbf{J} = - \\frac{\\partial \\rho}{\\partial t} \\; .\n",
    "\\label{_auto6} \\tag{7}\n",
    "\\end{equation}\n",
    "$$"
   ]
  },
  {
   "cell_type": "markdown",
   "metadata": {},
   "source": [
    "This implies that there must be something wrong with or lacking from the equation $\\nabla \\times \\mathbf{H} = \\mathbf{J}$. In what kinds of situations would this problem appear, and how can we fix this?\n",
    "\n",
    "## Example: Flow into a capacitor\n",
    "\n",
    "Let us examine a problem where charge conservation is essential --- how charge flows into a capacitor. Fig. [fig:maxwell-capacitor-010](#fig:maxwell-capacitor-010) illustrates a simple circuit with a battery, a resistor and a capacitor. When the battery is connected, there will be a current flowing into the capacitor. Over time, the current will decrease as charges are building up across the capacitor, increasing the potential drop $V = Q/C$ across the capacitor until the potential drop equals the emf of the battery. \n",
    "\n",
    "<!-- dom:FIGURE:[fig-maxwell/maxwell-capacitor-010.png, width=600 frac=1.0] (a) Illustration of a circuit with a capacitor, (b) Illustration of the capacitor. <div id=\"fig:maxwell-capacitor-010\"></div> -->\n",
    "<!-- begin figure -->\n",
    "<div id=\"fig:maxwell-capacitor-010\"></div>\n",
    "\n",
    "<p>(a) Illustration of a circuit with a capacitor, (b) Illustration of the capacitor.</p>\n",
    "<img src=\"fig-maxwell/maxwell-capacitor-010.png\" width=600>\n",
    "\n",
    "<!-- end figure -->\n",
    "\n",
    "\n",
    "If we apply Ampere's law to a loop $C$ around the wire leading into the capacitor, as illustrated in the figure, we know that"
   ]
  },
  {
   "cell_type": "markdown",
   "metadata": {},
   "source": [
    "<!-- Equation labels as ordinary links -->\n",
    "<div id=\"_auto7\"></div>\n",
    "\n",
    "$$\n",
    "\\begin{equation}\n",
    "\\oint_S \\mathbf{H} \\cdot \\mathrm{d} \\mathbf{l} = I_S\n",
    "\\label{_auto7} \\tag{8}\n",
    "\\end{equation}\n",
    "$$"
   ]
  },
  {
   "cell_type": "markdown",
   "metadata": {},
   "source": [
    "Where the current $I$ is the current through a surface $S$, which has the loop $C$ as its limit. This equation should hold for any such surface. We have illustrated to surfaces in the figure. For surface $S_1$, the current $I_{S_1}$ is the current $I(t)$ in the wire. However, if we choose a surface $S_2$ which passes through the gap between the capacitor plates, there is no current through this surface, and $I_{S_2} = 0$. Hmmm. This means that also Ampere's law is inconsistent. How can we fix this?\n",
    "\n",
    "We know that the current $I(t)$ in the wire is related to the charge $Q(t)$ on the capacitor, which again is related to the electric field $\\mathbf{D}$ in the space between the capacitors:"
   ]
  },
  {
   "cell_type": "markdown",
   "metadata": {},
   "source": [
    "<!-- Equation labels as ordinary links -->\n",
    "<div id=\"_auto8\"></div>\n",
    "\n",
    "$$\n",
    "\\begin{equation}\n",
    "I(t) = \\frac{\\mathrm{d} Q}{\\mathrm{d} t} \\; ,\n",
    "\\label{_auto8} \\tag{9}\n",
    "\\end{equation}\n",
    "$$"
   ]
  },
  {
   "cell_type": "markdown",
   "metadata": {},
   "source": [
    "We can relate $Q(t)$ to the electric field through Gauss' law:"
   ]
  },
  {
   "cell_type": "markdown",
   "metadata": {},
   "source": [
    "<!-- Equation labels as ordinary links -->\n",
    "<div id=\"_auto9\"></div>\n",
    "\n",
    "$$\n",
    "\\begin{equation}\n",
    "\\int_S \\mathbf{D}(t) \\cdot \\mathrm{d} \\mathbf{S} = Q(t) \\; .\n",
    "\\label{_auto9} \\tag{10}\n",
    "\\end{equation}\n",
    "$$"
   ]
  },
  {
   "cell_type": "markdown",
   "metadata": {},
   "source": [
    "The current $I$ is therefore:"
   ]
  },
  {
   "cell_type": "markdown",
   "metadata": {},
   "source": [
    "<!-- Equation labels as ordinary links -->\n",
    "<div id=\"_auto10\"></div>\n",
    "\n",
    "$$\n",
    "\\begin{equation}\n",
    "I(t) = \\frac{\\mathrm{d} Q}{\\mathrm{d} t} = \\frac{\\mathrm{d} }{\\mathrm{d} t} \\int_S \\mathbf{D}(t) \\cdot \\mathrm{d} \\mathbf{S} \\; .\n",
    "\\label{_auto10} \\tag{11}\n",
    "\\end{equation}\n",
    "$$"
   ]
  },
  {
   "cell_type": "markdown",
   "metadata": {},
   "source": [
    "If the surface $S$ does not change with time, the time variation only comes from the time dependence of the electric field $\\mathbf{D}(t)$, and we can move the time derivate into the integral:"
   ]
  },
  {
   "cell_type": "markdown",
   "metadata": {},
   "source": [
    "<!-- Equation labels as ordinary links -->\n",
    "<div id=\"_auto11\"></div>\n",
    "\n",
    "$$\n",
    "\\begin{equation}\n",
    "I(t) = \\int_S \\frac{\\partial \\mathbf{D}}{\\partial t} \\cdot \\mathrm{d} \\mathbf{S} \\; .\n",
    "\\label{_auto11} \\tag{12}\n",
    "\\end{equation}\n",
    "$$"
   ]
  },
  {
   "cell_type": "markdown",
   "metadata": {},
   "source": [
    "It is useful to consider the right-hand side of this expression like a current that flows across the gap between the capacitor plates, even though there is no actual transport of charges across the gap. This allows us to consider $I(t)$ a current that flows continuously around the whole circuit, including through the capacitor gap.\n",
    "\n",
    "## Displacement current\n",
    "\n",
    "We introduce the term displacement current based on this definition:\n",
    "\n",
    "**Displacement current.**\n",
    "\n",
    "The displacement current $I_d$ through a surface is defined as"
   ]
  },
  {
   "cell_type": "markdown",
   "metadata": {},
   "source": [
    "<!-- Equation labels as ordinary links -->\n",
    "<div id=\"_auto12\"></div>\n",
    "\n",
    "$$\n",
    "\\begin{equation}\n",
    "I_d = \\int_S \\mathbf{D} \\cdot \\mathrm{d} \\mathbf{S} \\; .\n",
    "\\label{_auto12} \\tag{13}\n",
    "\\end{equation}\n",
    "$$"
   ]
  },
  {
   "cell_type": "markdown",
   "metadata": {},
   "source": [
    "Notice that the displacement current comes in addition the conductor current. For example, if a capacitor is filled with a dielectric with a very low conductivity, there would be both an ordinary (conduction) current $I$ and a displacement current $I_d$.\n",
    "\n",
    "## Fixing Maxwell's equations\n",
    "\n",
    "We can now fix Ampere's law by including both types of currents."
   ]
  },
  {
   "cell_type": "markdown",
   "metadata": {},
   "source": [
    "$$\n",
    "\\begin{equation}\n",
    "\\oint_C \\mathbf{H} \\cdot \\mathrm{d} \\mathbf{l} = I + I_d\n",
    "\\label{}\n",
    "\\end{equation}\n",
    "$$"
   ]
  },
  {
   "cell_type": "markdown",
   "metadata": {},
   "source": [
    "We write the conductive current $I(t)$ as the surface integral of the current density $\\mathbf{J}$:"
   ]
  },
  {
   "cell_type": "markdown",
   "metadata": {},
   "source": [
    "<!-- Equation labels as ordinary links -->\n",
    "<div id=\"_auto13\"></div>\n",
    "\n",
    "$$\n",
    "\\begin{equation}\n",
    "I(t) = \\int_S \\mathbf{J} \\cdot \\mathrm{d} \\mathbf{S} \\; ,\n",
    "\\label{_auto13} \\tag{14}\n",
    "\\end{equation}\n",
    "$$"
   ]
  },
  {
   "cell_type": "markdown",
   "metadata": {},
   "source": [
    "where the surface $S$ is a (any) surface with the loop $C$ as its boundary. Similarly, we write the displacement current $I_d$ as:"
   ]
  },
  {
   "cell_type": "markdown",
   "metadata": {},
   "source": [
    "<!-- Equation labels as ordinary links -->\n",
    "<div id=\"_auto14\"></div>\n",
    "\n",
    "$$\n",
    "\\begin{equation}\n",
    "I_d = \\int_S \\frac{\\partial \\mathbf{D}}{\\partial t} \\cdot \\mathrm{d} \\mathbf{S} \\; .\n",
    "\\label{_auto14} \\tag{15}\n",
    "\\end{equation}\n",
    "$$"
   ]
  },
  {
   "cell_type": "markdown",
   "metadata": {},
   "source": [
    "Ampere's law therefore becomes:"
   ]
  },
  {
   "cell_type": "markdown",
   "metadata": {},
   "source": [
    "<!-- Equation labels as ordinary links -->\n",
    "<div id=\"_auto15\"></div>\n",
    "\n",
    "$$\n",
    "\\begin{equation}\n",
    "\\oint_C \\mathbf{H} \\cdot \\mathrm{d} \\mathbf{l} = \\int_S \\left( \\mathbf{J} + \\frac{\\partial \\mathbf{D}}{\\partial t} \\right) \\cdot \\mathrm{d} \\mathbf{S} \\; .\n",
    "\\label{_auto15} \\tag{16}\n",
    "\\end{equation}\n",
    "$$"
   ]
  },
  {
   "cell_type": "markdown",
   "metadata": {},
   "source": [
    "This fixes the problem in the example above. But does it also fix the problem we discovered in Maxwell's equations on differential form? We use Stoke's theorem to rewrite Ampere's law to:"
   ]
  },
  {
   "cell_type": "markdown",
   "metadata": {},
   "source": [
    "<!-- Equation labels as ordinary links -->\n",
    "<div id=\"_auto16\"></div>\n",
    "\n",
    "$$\n",
    "\\begin{equation}\n",
    "\\int_S \\nabla \\times \\mathbf{H} \\cdot \\mathrm{d} \\mathbf{S} = \\int_S \\left( \\mathbf{J} + \\frac{\\partial \\mathbf{D}}{\\partial t} \\right) \\cdot \\mathrm{d} \\mathbf{S} \\; .\n",
    "\\label{_auto16} \\tag{17}\n",
    "\\end{equation}\n",
    "$$"
   ]
  },
  {
   "cell_type": "markdown",
   "metadata": {},
   "source": [
    "This is valid for any surface $S$, and therefore, the equation also holds for the arguments of the integral:"
   ]
  },
  {
   "cell_type": "markdown",
   "metadata": {},
   "source": [
    "<!-- Equation labels as ordinary links -->\n",
    "<div id=\"_auto17\"></div>\n",
    "\n",
    "$$\n",
    "\\begin{equation}\n",
    "\\nabla \\times \\mathbf{H} = \\mathbf{J} + \\frac{\\partial \\mathbf{D}}{\\partial t}  \\; .\n",
    "\\label{_auto17} \\tag{18}\n",
    "\\end{equation}\n",
    "$$"
   ]
  },
  {
   "cell_type": "markdown",
   "metadata": {},
   "source": [
    "Let us check if this now fixes the problem. The divergence of a curl is always zero, so the divergence of the left side is zero:"
   ]
  },
  {
   "cell_type": "markdown",
   "metadata": {},
   "source": [
    "<!-- Equation labels as ordinary links -->\n",
    "<div id=\"_auto18\"></div>\n",
    "\n",
    "$$\n",
    "\\begin{equation}\n",
    "\\nabla \\cdot \\left( \\nabla \\times \\mathbf{H} \\right) = 0 \\; .\n",
    "\\label{_auto18} \\tag{19}\n",
    "\\end{equation}\n",
    "$$"
   ]
  },
  {
   "cell_type": "markdown",
   "metadata": {},
   "source": [
    "What about the right-hand side? We take the divergence and find:"
   ]
  },
  {
   "cell_type": "markdown",
   "metadata": {},
   "source": [
    "<!-- Equation labels as ordinary links -->\n",
    "<div id=\"_auto19\"></div>\n",
    "\n",
    "$$\n",
    "\\begin{equation}\n",
    "\\nabla \\cdot \\left( \\mathbf{J} + \\frac{\\partial \\mathbf{D}}{\\partial t} \\right) = \\nabla \\cdot \\mathbf{J} + \\frac{\\partial}{\\partial t} \\nabla \\cdot \\mathbf{D} \\; .\n",
    "\\label{_auto19} \\tag{20}\n",
    "\\end{equation}\n",
    "$$"
   ]
  },
  {
   "cell_type": "markdown",
   "metadata": {},
   "source": [
    "We can now use Gauss' law on differential form, $\\nabla \\cdot \\mathbf{D} = \\rho$, giving:"
   ]
  },
  {
   "cell_type": "markdown",
   "metadata": {},
   "source": [
    "<!-- Equation labels as ordinary links -->\n",
    "<div id=\"_auto20\"></div>\n",
    "\n",
    "$$\n",
    "\\begin{equation}\n",
    "\\nabla \\cdot \\mathbf{J} + \\frac{\\partial}{\\partial t} \\nabla \\cdot \\mathbf{D} = \\nabla \\cdot \\mathbf{J} + \\frac{\\partial \\rho}{\\partial t}  \\; .\n",
    "\\label{_auto20} \\tag{21}\n",
    "\\end{equation}\n",
    "$$"
   ]
  },
  {
   "cell_type": "markdown",
   "metadata": {},
   "source": [
    "We recognize this as the conservation of charge from ([5](#eq:maxwell-conservationofcharge-010)) and that this is always equal to zero. Hence, we have found that the new formulation at least provides us with a consistent set of the equations: Maxwell's equations, and a new formulation of Ampere's law, which is called Ampere-Maxwell's law:\n",
    "\n",
    "**Ampere-Maxwell's law.**\n",
    "\n",
    "Ampere-Maxwell's law on *integral form* states that for any closed curve $C$ which encloses a surface $S$:"
   ]
  },
  {
   "cell_type": "markdown",
   "metadata": {},
   "source": [
    "<!-- Equation labels as ordinary links -->\n",
    "<div id=\"_auto21\"></div>\n",
    "\n",
    "$$\n",
    "\\begin{equation}\n",
    "\\oint_C \\mathbf{H} \\cdot \\mathrm{d} \\mathbf{l} = \\int_S \\left( \\mathbf{J} + \\frac{\\partial \\mathbf{D}}{\\partial t} \\right) \\cdot \\mathrm{d} \\mathbf{S}\\; .\n",
    "\\label{_auto21} \\tag{22}\n",
    "\\end{equation}\n",
    "$$"
   ]
  },
  {
   "cell_type": "markdown",
   "metadata": {},
   "source": [
    "Ampere-Maxwell's law on *differential form* states that:"
   ]
  },
  {
   "cell_type": "markdown",
   "metadata": {},
   "source": [
    "<!-- Equation labels as ordinary links -->\n",
    "<div id=\"_auto22\"></div>\n",
    "\n",
    "$$\n",
    "\\begin{equation}\n",
    "\\nabla \\times \\mathbf{H} = \\mathbf{J} + \\frac{\\partial \\mathbf{D}}{\\partial t} \\; .\n",
    "\\label{_auto22} \\tag{23}\n",
    "\\end{equation}\n",
    "$$"
   ]
  },
  {
   "cell_type": "markdown",
   "metadata": {},
   "source": [
    "We call the term"
   ]
  },
  {
   "cell_type": "markdown",
   "metadata": {},
   "source": [
    "<!-- Equation labels as ordinary links -->\n",
    "<div id=\"_auto23\"></div>\n",
    "\n",
    "$$\n",
    "\\begin{equation}\n",
    "\\mathbf{J}_D = \\frac{\\partial \\mathbf{D}}{\\partial t} \\; ,\n",
    "\\label{_auto23} \\tag{24}\n",
    "\\end{equation}\n",
    "$$"
   ]
  },
  {
   "cell_type": "markdown",
   "metadata": {},
   "source": [
    "the *displacement current density*.\n",
    "\n",
    " _D$}\n",
    "\n",
    "## Maxwell's equations\n",
    "\n",
    "\n",
    "We now have a complete set of equations, which are called Maxwell's equations, that provide a complete description of all electromagnetic phenomena:\n",
    "\n",
    "**Maxwell's equations.**\n",
    "\n",
    "\n",
    "Maxwell's equations are:"
   ]
  },
  {
   "cell_type": "markdown",
   "metadata": {},
   "source": [
    "2\n",
    "5\n",
    " \n",
    "<\n",
    "<\n",
    "<\n",
    "!\n",
    "!\n",
    "M\n",
    "A\n",
    "T\n",
    "H\n",
    "_\n",
    "B\n",
    "L\n",
    "O\n",
    "C\n",
    "K"
   ]
  },
  {
   "cell_type": "markdown",
   "metadata": {},
   "source": [
    "2\n",
    "6\n",
    " \n",
    "<\n",
    "<\n",
    "<\n",
    "!\n",
    "!\n",
    "M\n",
    "A\n",
    "T\n",
    "H\n",
    "_\n",
    "B\n",
    "L\n",
    "O\n",
    "C\n",
    "K"
   ]
  },
  {
   "cell_type": "markdown",
   "metadata": {},
   "source": [
    "2\n",
    "7\n",
    " \n",
    "<\n",
    "<\n",
    "<\n",
    "!\n",
    "!\n",
    "M\n",
    "A\n",
    "T\n",
    "H\n",
    "_\n",
    "B\n",
    "L\n",
    "O\n",
    "C\n",
    "K"
   ]
  },
  {
   "cell_type": "markdown",
   "metadata": {},
   "source": [
    "<!-- Equation labels as ordinary links -->\n",
    "<div id=\"_auto27\"></div>\n",
    "\n",
    "$$\n",
    "\\begin{equation}\n",
    "\\nabla \\cdot \\mathbf{B} = 0 \\; .\n",
    "\\label{_auto27} \\tag{28}\n",
    "\\end{equation}\n",
    "$$"
   ]
  },
  {
   "cell_type": "markdown",
   "metadata": {},
   "source": [
    "These equations, together with the continuity equation and the definitions of $\\mathbf{D}$ and $\\mathbf{H}$ provide a complete description of the physics of electromagnetism:\n",
    "\n",
    "**Charge continuity.**\n",
    "\n",
    "Charge continuity is formulated as"
   ]
  },
  {
   "cell_type": "markdown",
   "metadata": {},
   "source": [
    "<!-- Equation labels as ordinary links -->\n",
    "<div id=\"_auto28\"></div>\n",
    "\n",
    "$$\n",
    "\\begin{equation}\n",
    "\\nabla \\cdot \\mathbf{J} + \\frac{\\partial \\rho}{\\partial t} = 0 \\; .\n",
    "\\label{_auto28} \\tag{29}\n",
    "\\end{equation}\n",
    "$$"
   ]
  },
  {
   "cell_type": "markdown",
   "metadata": {},
   "source": [
    "**Dielectric and magnetic materials.**\n",
    "\n",
    "For **dielectric materials** we have defined $\\mathbf{D}$ as"
   ]
  },
  {
   "cell_type": "markdown",
   "metadata": {},
   "source": [
    "<!-- Equation labels as ordinary links -->\n",
    "<div id=\"_auto29\"></div>\n",
    "\n",
    "$$\n",
    "\\begin{equation}\n",
    "\\mathbf{D} = \\epsilon_0 \\mathbf{E} + \\mathbf{P}\\; .\n",
    "\\label{_auto29} \\tag{30}\n",
    "\\end{equation}\n",
    "$$"
   ]
  },
  {
   "cell_type": "markdown",
   "metadata": {},
   "source": [
    "For *linear dielectric materials* we have that $\\mathbf{P} = \\chi_e \\epsilon_0 \\mathbf{E}$ and"
   ]
  },
  {
   "cell_type": "markdown",
   "metadata": {},
   "source": [
    "<!-- Equation labels as ordinary links -->\n",
    "<div id=\"_auto30\"></div>\n",
    "\n",
    "$$\n",
    "\\begin{equation}\n",
    "\\mathbf{D} = \\epsilon \\mathbf{E} \\; ,\n",
    "\\label{_auto30} \\tag{31}\n",
    "\\end{equation}\n",
    "$$"
   ]
  },
  {
   "cell_type": "markdown",
   "metadata": {},
   "source": [
    "where $\\epsilon = \\epsilon_r \\epsilon_0$.\n",
    "\n",
    "For **magnetic materials** we have defined $\\mathbf{H}$ as"
   ]
  },
  {
   "cell_type": "markdown",
   "metadata": {},
   "source": [
    "<!-- Equation labels as ordinary links -->\n",
    "<div id=\"_auto31\"></div>\n",
    "\n",
    "$$\n",
    "\\begin{equation}\n",
    "\\mathbf{H} = \\frac{1}{\\mu_0}\\mathbf{B}-\\mathbf{M} \\; .\n",
    "\\label{_auto31} \\tag{32}\n",
    "\\end{equation}\n",
    "$$"
   ]
  },
  {
   "cell_type": "markdown",
   "metadata": {},
   "source": [
    "For a *linear magnetic material* we have that $\\mathbf{M} = \\chi_m \\mathbf{H}$ and"
   ]
  },
  {
   "cell_type": "markdown",
   "metadata": {},
   "source": [
    "<!-- Equation labels as ordinary links -->\n",
    "<div id=\"_auto32\"></div>\n",
    "\n",
    "$$\n",
    "\\begin{equation}\n",
    "\\mathbf{B} = \\mu \\mathbf{H} = \\mu_r \\mu_0 \\mathbf{H} \\; .\n",
    "\\label{_auto32} \\tag{33}\n",
    "\\end{equation}\n",
    "$$"
   ]
  },
  {
   "cell_type": "markdown",
   "metadata": {},
   "source": [
    "# Exercises\n",
    "\n",
    "\n",
    "# References"
   ]
  }
 ],
 "metadata": {
  "kernelspec": {
   "display_name": "Python 3",
   "language": "python",
   "name": "python3"
  },
  "language_info": {
   "codemirror_mode": {
    "name": "ipython",
    "version": 3
   },
   "file_extension": ".py",
   "mimetype": "text/x-python",
   "name": "python",
   "nbconvert_exporter": "python",
   "pygments_lexer": "ipython3",
   "version": "3.7.6"
  }
 },
 "nbformat": 4,
 "nbformat_minor": 2
}
