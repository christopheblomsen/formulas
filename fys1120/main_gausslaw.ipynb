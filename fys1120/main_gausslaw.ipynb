{
 "cells": [
  {
   "cell_type": "markdown",
   "metadata": {},
   "source": [
    "<!-- dom:TITLE: Gauss' lawSome title -->\n",
    "# Gauss' lawSome title\n",
    "<!-- dom:AUTHOR: Anders Malthe-Sorenssen at Department of Physics, University of OsloFuture eBook Solutions Ltd. -->\n",
    "<!-- Author: -->  \n",
    "**Anders Malthe-Sorenssen**, Department of Physics, University of OsloFuture eBook Solutions Ltd.\n",
    "\n",
    "Date: **Aug 24, 2020**\n",
    "\n",
    "<!-- Externaldocuments: ../nickname1/main_nickname1, ../nickname2/main_nickname2 -->\n",
    "\n",
    "<!-- Common Mako variables and functions -->\n",
    "\n",
    "\n",
    "\n",
    "\n",
    "\n",
    "\n",
    "\n",
    "\n",
    "\n",
    "We have learned that we can find the electric field for any distribution of electric charges. In this chapter, we will introduce Gauss' law, which provides a different approach to finding the electric field. We will introduce Gauss' law on integral form and demonstrate how this law can be used to find the electric field in systems with a high degree of symmetry. We will also demonstrate that Coulomb's law is a consequence of Gauss' law and vice versa. Gradually, as you build intuition for electromagnetism, you will see that Gauss' law appears to be more fundamental that Coulomb's law and provides you with a very compact description of the laws of electromagnetism. Gauss' law will also be our first encounter with one of Maxwell's equation which provide a beautify and compact descripion of electromagnetism. Here, we will focus on building up the basic concepts needed to apply Gauss' law: flux, symmetries, and surface and volume integrals. We will learn to apply Gauss' law in a variety of cases, and understand both its limitations and its strength.\n",
    "\n",
    "# Gauss' law on integral form\n",
    "\n",
    "**Gauss' law.**\n",
    "\n",
    "Gauss' law states that the flux of the electric field through a *closed* surface $S$ is proportional to the net total charge in the volume enclosed by the surface:"
   ]
  },
  {
   "cell_type": "markdown",
   "metadata": {},
   "source": [
    "<!-- Equation labels as ordinary links -->\n",
    "<div id=\"_auto1\"></div>\n",
    "\n",
    "$$\n",
    "\\begin{equation}\n",
    "\\oint_S \\vec{E} \\cdot \\mathrm{d} \\vec{S} = \\frac{Q_S}{\\epsilon_0} \n",
    "\\label{_auto1} \\tag{1}\n",
    "\\end{equation}\n",
    "$$"
   ]
  },
  {
   "cell_type": "markdown",
   "metadata": {},
   "source": [
    "Here, $S$ is any closed surface and $Q_S$ is the net charge in the volume inside the surface $S$. (We provide a proof of Gauss' law further down.)\n",
    "\n",
    "\n",
    "\n",
    " * The surface $S$ must be a *closed* surface. The charge $Q_S$ is the net total charge inside the surface $S$. The net charge inside the surface $S$ is either the sum of all the charges in the volume $v$ enclosed by the surface $S$: $Q_S = \\sum_i Q_{i,\\text{in}}$ or the integral of a volume charge density $\\rho_v$ over the volume $v$ enclosed by the surface $S$: $Q_S = \\int_v \\rho_v \\mathrm{d} v$. \n",
    "\n",
    " * The integral $\\oint_S \\vec{E} \\cdot \\mathrm{d} \\vec{S}$ is called the flux of the electric field through the surface $S$. We introduce the electric flux and how to calculate it in the following.\n",
    "\n",
    "## Electric flux\n",
    "\n",
    "The electric flux, $\\mathrm{d} \\phi$, through a small surface $\\mathrm{d} \\vec{S}$ is defined as"
   ]
  },
  {
   "cell_type": "markdown",
   "metadata": {},
   "source": [
    "<!-- Equation labels as ordinary links -->\n",
    "<div id=\"_auto2\"></div>\n",
    "\n",
    "$$\n",
    "\\begin{equation}\n",
    "\\mathrm{d}\\phi = \\vec{E} \\cdot \\mathrm{d} \\vec{S} \\; ,\n",
    "\\label{_auto2} \\tag{2}\n",
    "\\end{equation}\n",
    "$$"
   ]
  },
  {
   "cell_type": "markdown",
   "metadata": {},
   "source": [
    "where $d\\vec{S}$ is an *oriented* surface element that has both an area and a direction. The direction is given by the unit normal vector for the surface $\\mathbf{\\hat{n}}$ so that $\\mathrm{d} \\vec{S} = \\mathbf{\\hat{n}} \\, \\mathrm{d} S$. The directed surface element $\\mathrm{d} \\vec{S}$ points in the direction of the *positive* surface normal.\n",
    "\n",
    "### Flux and surface normal\n",
    "\n",
    "The flux is given by the dot product of the field $\\vec{E}$ and the surface element $d \\vec{S} = \\mathbf{\\hat{n}} \\,  \\mathrm{d} S$. This is illustrated in Fig. [fig:gausslaw-flux-010](#fig:gausslaw-flux-010). It is only the component of the field that is normal to the surface that contributes. Any component normal to the normal vector $\\mathbf{\\hat{n}}$ will not contribute to the flux.\n",
    "\n",
    "<!-- dom:FIGURE:[fig-gausslaw/gausslaw-flux-010.png, width=600 frac=0.7] Illustration of the electric field $\\vec{E}$ and a small surface element with normal vector $\\mathbf{\\hat{n}}$. <div id=\"fig:gausslaw-flux-010\"></div> -->\n",
    "<!-- begin figure -->\n",
    "<div id=\"fig:gausslaw-flux-010\"></div>\n",
    "\n",
    "<p>Illustration of the electric field $\\vec{E}$ and a small surface element with normal vector $\\mathbf{\\hat{n}}$.</p>\n",
    "<img src=\"fig-gausslaw/gausslaw-flux-010.png\" width=600>\n",
    "\n",
    "<!-- end figure -->\n",
    "\n",
    "\n",
    "There are two ways to think about this as illustrated in Fig. [fig:gausslaw-surfacenormal](#fig:gausslaw-surfacenormal): (1) You can think of the flux as the projection of the electric field $\\vec{E}$ onto the surface $\\mathrm{d}\\vec{S}$ with surface normal $\\mathbf{\\hat{n}}$. (2) Or you can think of the flux as the projection of the surface area $\\mathrm{d} \\vec{S}$ onto the electric field. In both cases $\\mathrm{d} \\Phi = E \\mathrm{d} S \\cos \\theta$. In the first case, we interpret $E \\cos \\theta$ as the part of the electric field that is normal to the surface. It is only this part of the field that contributes to the flux. In the second case, we interpret $dS \\cos \\theta$ as the cross-sectional surface area --- the projection of the area onto the direction of the electric field: It is only the part of the surface that has a surface normal parallel to the electric field that contributes to the flux.\n",
    "\n",
    "<!-- dom:FIGURE:[fig-gausslaw/gausslaw-surfacenormal.png, width=600 frac=0.7] Illustration of the electric field $\\vec{E}$ and a small surface element with normal vector $\\mathbf{\\hat{n}}$. <div id=\"fig:gausslaw-surfacenormal\"></div> -->\n",
    "<!-- begin figure -->\n",
    "<div id=\"fig:gausslaw-surfacenormal\"></div>\n",
    "\n",
    "<p>Illustration of the electric field $\\vec{E}$ and a small surface element with normal vector $\\mathbf{\\hat{n}}$.</p>\n",
    "<img src=\"fig-gausslaw/gausslaw-surfacenormal.png\" width=600>\n",
    "\n",
    "<!-- end figure -->\n",
    "\n",
    "\n",
    "\n",
    "### Only the field component normal to a surface contributes to the flux\n",
    "\n",
    "Fig. [fig:gausslaw-flux-020](#fig:gausslaw-flux-020) illustrates an electric field and two possible surfaces. For the case when the normal vector $\\mathbf{\\hat{n}}$ for the surface is in the same direction as the electric field, $\\vec{E}$, the flux is maximum, $\\phi_{\\max}$. For the case when the normal vector $\\mathbf{\\hat{n}}$ for the surface is in a direction normal to the electric field, $\\vec{E}$, the flux is zero.\n",
    "\n",
    "<!-- dom:FIGURE:[fig-gausslaw/gausslaw-flux-020.png, height=400 width=600 frac=0.7] Illustration of the electric field $\\vec{E}$ and a small surface element with normal vector $\\mathbf{\\hat{n}}$ for two possible surfaces. <div id=\"fig:gausslaw-flux-020\"></div> -->\n",
    "<!-- begin figure -->\n",
    "<div id=\"fig:gausslaw-flux-020\"></div>\n",
    "\n",
    "<p>Illustration of the electric field $\\vec{E}$ and a small surface element with normal vector $\\mathbf{\\hat{n}}$ for two possible surfaces.</p>\n",
    "<img src=\"fig-gausslaw/gausslaw-flux-020.png\" height=400 width=600>\n",
    "\n",
    "<!-- end figure -->\n",
    "\n",
    "\n",
    "### Direction of the surface normal\n",
    "\n",
    "Notice that in the surface integral over the closed surface $S$:"
   ]
  },
  {
   "cell_type": "markdown",
   "metadata": {},
   "source": [
    "<!-- Equation labels as ordinary links -->\n",
    "<div id=\"_auto3\"></div>\n",
    "\n",
    "$$\n",
    "\\begin{equation}\n",
    "\\oint_S \\vec{E} \\cdot \\mathrm{d} \\vec{S} =\\oint_S \\vec{E} \\cdot \\mathbf{\\hat{n}} \\mathrm{d} S = \\frac{Q_{\\text{in}}}{\\epsilon_0} \\; ,\n",
    "\\label{_auto3} \\tag{3}\n",
    "\\end{equation}\n",
    "$$"
   ]
  },
  {
   "cell_type": "markdown",
   "metadata": {},
   "source": [
    "the surface normal $\\mathbf{\\hat{n}}$, and the directed surface element $\\mathrm{d} \\vec{S}$, points *outward*. This is the flux *out of the volume* enclosed by $S$. When we calculate this surface integral we need to sum up the contributions from all surfaces.\n",
    "\n",
    "\n",
    "\n",
    "\n",
    "\n",
    "## Example: Gauss' law for a single charge\n",
    "\n",
    "Let us see how we can use Gauss' law to find the electric field for a single charge in the origin?\n",
    "\n",
    "In this case we know that for any closed surface that encloses the origin, then the integral of the field over the surface is"
   ]
  },
  {
   "cell_type": "markdown",
   "metadata": {},
   "source": [
    "<!-- Equation labels as ordinary links -->\n",
    "<div id=\"_auto4\"></div>\n",
    "\n",
    "$$\n",
    "\\begin{equation}\n",
    "\\oint_S \\vec{E} \\cdot \\mathrm{d} \\vec{S} = \\frac{Q}{\\epsilon_0} \\; .\n",
    "\\label{_auto4} \\tag{4}\n",
    "\\end{equation}\n",
    "$$"
   ]
  },
  {
   "cell_type": "markdown",
   "metadata": {},
   "source": [
    "The *trick* is to find a surface on which the electric field is constant, so that the surface integral becomes simple. We use *symmetry arguments* to find where the electric field is constant. For a single charge in the origin, we expect that the field must be the same for all possible rotations of the system --- we expect the system to have spherical symmetry. We write the field in spherical coordinates as"
   ]
  },
  {
   "cell_type": "markdown",
   "metadata": {},
   "source": [
    "<!-- Equation labels as ordinary links -->\n",
    "<div id=\"_auto5\"></div>\n",
    "\n",
    "$$\n",
    "\\begin{equation}\n",
    "\\vec{E} = E_r \\mathbf{\\hat{r}} + E_{\\phi} \\mathbf{\\hat{u}}_{\\phi} + E_{\\theta} \\mathbf{\\hat{u}}_{\\theta} \\; .\n",
    "\\label{_auto5} \\tag{5}\n",
    "\\end{equation}\n",
    "$$"
   ]
  },
  {
   "cell_type": "markdown",
   "metadata": {},
   "source": [
    "We realize that the field only can be directed in the radial direction. Otherwise the field would break the spherical symmetry. Thus we expect the field to have the form"
   ]
  },
  {
   "cell_type": "markdown",
   "metadata": {},
   "source": [
    "<!-- Equation labels as ordinary links -->\n",
    "<div id=\"_auto6\"></div>\n",
    "\n",
    "$$\n",
    "\\begin{equation}\n",
    "\\vec{E} = E_r(r,\\phi,\\theta) \\mathbf{\\hat{r}} \\;.\n",
    "\\label{_auto6} \\tag{6}\n",
    "\\end{equation}\n",
    "$$"
   ]
  },
  {
   "cell_type": "markdown",
   "metadata": {},
   "source": [
    "In addition, the field cannot depend on $\\phi$ or $\\theta$, because this would also break the symmetry. The field canont be larger in one direction, because the orientation of the coordinate system is arbitrary. Thus, we expect the field to have the form:"
   ]
  },
  {
   "cell_type": "markdown",
   "metadata": {},
   "source": [
    "$$\n",
    "\\begin{equation}\n",
    "\\vec{E} = E_r (r) \\mathbf{\\hat{r}} \\; .\n",
    "\\label{}\n",
    "\\end{equation}\n",
    "$$"
   ]
  },
  {
   "cell_type": "markdown",
   "metadata": {},
   "source": [
    "This describes the full symmetry of the field. The field points in the radial direction and only depends on the distance to the origin. The field is therefore constant on a surface that has a constant distance to the origin --- on a sphere. And in this case the normal vector of the surface is $\\mathbf{\\hat{r}}$. The flux gives as the surface integral over a spherical surface at at distance $r$ to the origin therefore simplifies to:"
   ]
  },
  {
   "cell_type": "markdown",
   "metadata": {},
   "source": [
    "<!-- Equation labels as ordinary links -->\n",
    "<div id=\"_auto7\"></div>\n",
    "\n",
    "$$\n",
    "\\begin{equation}\n",
    "\\Phi = E_r(r) \\oint_S dS = E_r(r) 4  \\pi r^2 = \\frac{Q}{\\epsilon_0} \\; .\n",
    "\\label{_auto7} \\tag{7}\n",
    "\\end{equation}\n",
    "$$"
   ]
  },
  {
   "cell_type": "markdown",
   "metadata": {},
   "source": [
    "We can now solve for the electric field $E_r(r)$:"
   ]
  },
  {
   "cell_type": "markdown",
   "metadata": {},
   "source": [
    "<!-- Equation labels as ordinary links -->\n",
    "<div id=\"_auto8\"></div>\n",
    "\n",
    "$$\n",
    "\\begin{equation}\n",
    "E_r(r)  = \\frac{Q}{4 \\pi \\epsilon_0 r^2} \\; .\n",
    "\\label{_auto8} \\tag{8}\n",
    "\\end{equation}\n",
    "$$"
   ]
  },
  {
   "cell_type": "markdown",
   "metadata": {},
   "source": [
    "and"
   ]
  },
  {
   "cell_type": "markdown",
   "metadata": {},
   "source": [
    "<!-- Equation labels as ordinary links -->\n",
    "<div id=\"_auto9\"></div>\n",
    "\n",
    "$$\n",
    "\\begin{equation}\n",
    "\\vec{E} = E_r(r)\\mathbf{\\hat{r}}  = \\frac{Q}{4 \\pi \\epsilon_0 r^2} \\mathbf{\\hat{r}} \\; .\n",
    "\\label{_auto9} \\tag{9}\n",
    "\\end{equation}\n",
    "$$"
   ]
  },
  {
   "cell_type": "markdown",
   "metadata": {},
   "source": [
    "<!--  -->\n",
    "Notice two things in this argument.\n",
    "\n",
    " * First we see that we used symmetry arguments to simplify the description of the electric field.\n",
    "\n",
    " * Second, this method only worked because we chose a surface $S$ where the electric field was constant. It would not have worked if we chose a cubic surface enclosing the charge.\n",
    "\n",
    "It is thererfore essential to be able to recognize and use *symmetries* to use Gauss' law.\n",
    "\n",
    "\n",
    "**Method: Using Gauss' law to find the electric field.**\n",
    "\n",
    "\n",
    "Based on this example, we can propose a general strategy for how to find the electric field for a charge distribution using Gauss' law.\n",
    "\n",
    " * Find a set of surfaces that enclose a volume such that $\\vec{E} \\cdot \\mathbf{\\hat{n}}$ is constant on each such surface element. (It may be zero on some of the surfaces --- zero is a constant!) We call these surfaces *Gauss surfaces* for the problem.\n",
    "\n",
    " * This often requires that you find a simplfied description of the field in a chosen coordinate system, such as $\\vec{E} = E_r(r) \\mathbf{\\hat{r}}$.\n",
    "\n",
    " * Find the flux integral.\n",
    "\n",
    " * Use Gauss' law to find the electric field as a function of charge and position.\n",
    "\n",
    " * Notice that the surface does not have to enclose all the charges --- it is allowed and indeed often necessary to chose a surface that contains only some of the charges. However, the electric field must be a constant on the surfaces you have chosen.\n",
    "\n",
    "\n",
    "\n",
    "## Example: Electric field from an infinite line charge\n",
    "\n",
    "*Find the electric field from an infinite line*\n",
    "\n",
    "### Specifying the problem\n",
    "\n",
    "The line is along the $z$-axis and we assume that it has a uniform line charge density, $\\rho_l$.\n",
    "\n",
    "### Drawing the system\n",
    "\n",
    "We illustrate this system in the drawing in Fig. [fig:gausslaw-linecharge-010](#fig:gausslaw-linecharge-010). \n",
    "\n",
    "<!-- dom:FIGURE:[fig-gausslaw/gausslaw-linecharge-010.png, width=600 frac=0.7] Illustration of the electric field $\\vec{E}$ from an infinite line charge along the $z$-axis. <div id=\"fig:gausslaw-linecharge-010\"></div> -->\n",
    "<!-- begin figure -->\n",
    "<div id=\"fig:gausslaw-linecharge-010\"></div>\n",
    "\n",
    "<p>Illustration of the electric field $\\vec{E}$ from an infinite line charge along the $z$-axis.</p>\n",
    "<img src=\"fig-gausslaw/gausslaw-linecharge-010.png\" width=600>\n",
    "\n",
    "<!-- end figure -->\n",
    "\n",
    "\n",
    "### Symmetry\n",
    "\n",
    "We look for symmetries in this system. First, we notice that the line charge is along the $z$-axis. We therefore expect the field to be symmetric around the $z$-axis. First, let us use a cylindrical coordinate system.  We can write $\\vec{E}$ in cylindrical coordinates $(r, \\theta, z)$, where $r$ is the distance to the $z$-axis, $\\theta$ is the angle around the $z$-axis with $\\theta=0$ along the $x$-axis, and $z$ is the position along the $z$-axis. Using this coordinate system we have that $\\vec{E} = E_r \\mathbf{\\hat{u}}_r + E_{\\theta} \\mathbf{\\hat{u}}_{\\theta} + E_z \\mathbf{\\hat{z}}$, where $\\mathbf{\\hat{u}}_r$, $\\mathbf{\\hat{u}}_{\\theta}$ and $\\mathbf{\\hat{z}}$ are unit vectors.\n",
    "\n",
    "We expect the field to depend on the distance from the $z$-axis, but not on the angle around the axis. The symmetry therefore implies that $E_r(r,\\theta,z)$ only depends on $r$ and $z$, $E_r = E_r(r,z)$.\n",
    "\n",
    "Since the line is infinite along the $z$-axis, we expect the system to look the same no matter where we are along the $z$-axis. Thus we do not expect any $z$-dependence in the field. $E_r = E_r(r)$.\n",
    "\n",
    "This means that the field will look like $\\vec{E} = E_r(r) \\mathbf{\\hat{u}}_r + E_{\\theta}(r) \\mathbf{\\hat{u}}_{\\theta}$. Finally, what about the field in the $\\theta$-direction? Here, there are two arguments: Either we could argue that since the charge distribution is the same in both the positive and negative $z$-direction, we do not expect the $\\theta$-direction to break that symmetry. Alternatively, we can argue that since the electric field around any closed loop, $\\oint \\vec{E} \\cdot \\mathrm{d} \\vec{l} = 0$, then we see that $\\oint E_{\\theta} \\mathrm{d} l = 2 \\pi r E_{\\theta} = 0 \\, \\Rightarrow \\, E_{\\theta} = 0$. \n",
    "\n",
    "Finally, we have the symmetry of the problem written down in terms of how the electric field depends on the various variables. Usually, we do not need to be *this* systematic. I expect that you will be able to see such symmetries immediately and write down the corresponding form of the electric field.\n",
    "\n",
    "### Applying Gauss' law using the found symmetry\n",
    "\n",
    "With a cylindrical symmetry, we use a sylinder around the $z$-axis as the surface for Gauss' law. On the surface of this cylinder, the electric field will be constant, because $E_r(r)$ only depends on $r$. We then apply Gauss' law on the cylinder surface in Fig. [fig:gausslaw-linecharge-010](#fig:gausslaw-linecharge-010):"
   ]
  },
  {
   "cell_type": "markdown",
   "metadata": {},
   "source": [
    "<!-- Equation labels as ordinary links -->\n",
    "<div id=\"_auto10\"></div>\n",
    "\n",
    "$$\n",
    "\\begin{equation}\n",
    "\\oint_S \\vec{E} \\cdot \\mathrm{d} \\vec{S} = \\oint_S \\vec{E} \\cdot \\mathbf{\\hat{n}} \\, \\mathrm{d} S \\; .\n",
    "\\label{_auto10} \\tag{10}\n",
    "\\end{equation}\n",
    "$$"
   ]
  },
  {
   "cell_type": "markdown",
   "metadata": {},
   "source": [
    "We divide the surface into three surfaces: the top and bottom edges of the cylinder and the curved cylinder surface with a radius $r$. On the *bottom* and *top* surfaces the electric field is radial and the surface normal is along the $z$-axis. Therefore $\\vec{E} \\cdot \\mathbf{\\hat{n}}$ is zero here. On the curved cylinder surface the electric field is constant $\\vec{E} = E_r(r) \\mathbf{\\hat{u}}_r$ and directed along the surface normal $\\mathbf{\\hat{n}} = \\mathbf{\\hat{u}}_r$, which points outwards from the center of the cylinder. Therefore, $\\vec{E} \\cdot \\mathbf{\\hat{n}} = E_r(r)$, which is a constant on the whole surface. The integral is therefore simply $E_r(r)$ times the surface integral of the curved cylinder surface, $A = 2 \\pi r L$, where $L$ is the length of the cylinder. We therefore find that the flux is"
   ]
  },
  {
   "cell_type": "markdown",
   "metadata": {},
   "source": [
    "<!-- Equation labels as ordinary links -->\n",
    "<div id=\"_auto11\"></div>\n",
    "\n",
    "$$\n",
    "\\begin{equation}\n",
    "\\oint_S \\vec{E} \\cdot \\mathrm{d} \\vec{S} = 2 \\pi r L E_r \\; .\n",
    "\\label{_auto11} \\tag{11}\n",
    "\\end{equation}\n",
    "$$"
   ]
  },
  {
   "cell_type": "markdown",
   "metadata": {},
   "source": [
    "Gauss's law states that this is equal to the net charge inside the volume:"
   ]
  },
  {
   "cell_type": "markdown",
   "metadata": {},
   "source": [
    "<!-- Equation labels as ordinary links -->\n",
    "<div id=\"_auto12\"></div>\n",
    "\n",
    "$$\n",
    "\\begin{equation}\n",
    "\\oint_S \\vec{E} \\cdot \\mathrm{d}\\vec{S} = \\frac{Q}{\\epsilon_0} \\; .\n",
    "\\label{_auto12} \\tag{12}\n",
    "\\end{equation}\n",
    "$$"
   ]
  },
  {
   "cell_type": "markdown",
   "metadata": {},
   "source": [
    "Here, the amount of charge inside is the charge line density times the length of the line: $Q = \\rho_l L$. Gauss' law therefore gives:"
   ]
  },
  {
   "cell_type": "markdown",
   "metadata": {},
   "source": [
    "<!-- Equation labels as ordinary links -->\n",
    "<div id=\"_auto13\"></div>\n",
    "\n",
    "$$\n",
    "\\begin{equation}\n",
    "\\oint_S \\vec{E} \\cdot \\mathrm{d} \\vec{S} = 2 \\pi r L E_r = \\frac{\\rho_l L}{\\epsilon_0} \\; \\Rightarrow \\; E_r = \\frac{\\rho_l}{2 \\pi \\epsilon_0 r} \\; .\n",
    "\\label{_auto13} \\tag{13}\n",
    "\\end{equation}\n",
    "$$"
   ]
  },
  {
   "cell_type": "markdown",
   "metadata": {},
   "source": [
    "# Gauss' law on differential form\n",
    "Gauss' law as formulated so far is on *integral form*:"
   ]
  },
  {
   "cell_type": "markdown",
   "metadata": {},
   "source": [
    "<!-- Equation labels as ordinary links -->\n",
    "<div id=\"_auto14\"></div>\n",
    "\n",
    "$$\n",
    "\\begin{equation}\n",
    "\\oint_S \\vec{E} \\cdot \\mathrm{d}\\vec{S} = \\frac{Q_{\\text{in}}}{\\epsilon_0} \\; .\n",
    "\\label{_auto14} \\tag{14}\n",
    "\\end{equation}\n",
    "$$"
   ]
  },
  {
   "cell_type": "markdown",
   "metadata": {},
   "source": [
    "This law is true for any surface $S$. In general, the net charge inside the surface is given as an integral over a volume charge density $\\rho$:"
   ]
  },
  {
   "cell_type": "markdown",
   "metadata": {},
   "source": [
    "<!-- Equation labels as ordinary links -->\n",
    "<div id=\"_auto15\"></div>\n",
    "\n",
    "$$\n",
    "\\begin{equation}\n",
    "Q_{\\text{in}} = \\int_v \\rho \\,  \\mathrm{d} v \\; ,\n",
    "\\label{_auto15} \\tag{15}\n",
    "\\end{equation}\n",
    "$$"
   ]
  },
  {
   "cell_type": "markdown",
   "metadata": {},
   "source": [
    "where the volume $v$ is the volume enclosed by the surface $S$.\n",
    "\n",
    "We can rewrite the surface integral using the divergence theorem from vector calculus. This states that for a (continuous) vector field $\\vec{E}$ we have that"
   ]
  },
  {
   "cell_type": "markdown",
   "metadata": {},
   "source": [
    "<!-- Equation labels as ordinary links -->\n",
    "<div id=\"_auto16\"></div>\n",
    "\n",
    "$$\n",
    "\\begin{equation}\n",
    "\\oint_S \\vec{f} \\cdot \\mathrm{d} \\vec{S} = \\int_v \\nabla \\cdot \\vec{f} \\, \\mathrm{d} v \\; ,\n",
    "\\label{_auto16} \\tag{16}\n",
    "\\end{equation}\n",
    "$$"
   ]
  },
  {
   "cell_type": "markdown",
   "metadata": {},
   "source": [
    "where the volume $V$ is the volume enclosed by the surface $S$. We apply this to Gauss' law:"
   ]
  },
  {
   "cell_type": "markdown",
   "metadata": {},
   "source": [
    "<!-- Equation labels as ordinary links -->\n",
    "<div id=\"_auto17\"></div>\n",
    "\n",
    "$$\n",
    "\\begin{equation}\n",
    "\\oint_S \\vec{E} \\cdot \\mathrm{d}\\vec{S} = \\int_v \\nabla \\cdot \\vec{E} \\,  \\mathrm{d} v = \\frac{1}{\\epsilon_0} \\int_v \\rho \\mathrm{d} v \\; .\n",
    "\\label{_auto17} \\tag{17}\n",
    "\\end{equation}\n",
    "$$"
   ]
  },
  {
   "cell_type": "markdown",
   "metadata": {},
   "source": [
    "Because this is true for any volume $V$, the two expressions inside the integrals are also identical:"
   ]
  },
  {
   "cell_type": "markdown",
   "metadata": {},
   "source": [
    "<!-- Equation labels as ordinary links -->\n",
    "<div id=\"_auto18\"></div>\n",
    "\n",
    "$$\n",
    "\\begin{equation}\n",
    "\\boxed{\\nabla \\cdot \\vec{E} = \\frac{\\rho}{\\epsilon_0} }\n",
    "\\label{_auto18} \\tag{18}\n",
    "\\end{equation}\n",
    "$$"
   ]
  },
  {
   "cell_type": "markdown",
   "metadata": {},
   "source": [
    "This is called *Gauss' law on differential form*. This version of Gauss' law will be used frequently when we address electromagnetics waves and it is often the starting point for numerical computations of the electric field.\n",
    "\n",
    "## Example: Electric field from a spherical charge\n",
    "\n",
    "*A sphere with radius $a$ has a uniformly distributed charge $Q$. Find the electric field everywhere in space.*\n",
    "\n",
    "### Specifying the problem\n",
    "\n",
    "The problems sketches a sphere of radius $a$. Inside the sphere there is a constant volume charge density $\\rho_v$. We find the charge density from:"
   ]
  },
  {
   "cell_type": "markdown",
   "metadata": {},
   "source": [
    "<!-- Equation labels as ordinary links -->\n",
    "<div id=\"_auto19\"></div>\n",
    "\n",
    "$$\n",
    "\\begin{equation}\n",
    "Q = \\int_v \\rho_v \\, dv = \\rho_v \\int_v \\mathrm{d} v = \\rho_v \\frac{4}{3} \\pi a^3 = Q \\; \\Rightarrow \\; \\rho_v = \\frac{3 Q}{4 \\pi a^3} \\; .\n",
    "\\label{_auto19} \\tag{19}\n",
    "\\end{equation}\n",
    "$$"
   ]
  },
  {
   "cell_type": "markdown",
   "metadata": {},
   "source": [
    "We can specify this further. The charge density is constant for $r<a$ and zero outside. This means that"
   ]
  },
  {
   "cell_type": "markdown",
   "metadata": {},
   "source": [
    "<!-- Equation labels as ordinary links -->\n",
    "<div id=\"_auto20\"></div>\n",
    "\n",
    "$$\n",
    "\\begin{equation}\n",
    "\\rho_v = \\left\\{ \\begin{array}{cc} \\rho_v & \\text{ when } r \\le q \\\\ 0 & \\text{ when }r > a \\end{array} \\right.\n",
    "\\label{_auto20} \\tag{20}\n",
    "\\end{equation}\n",
    "$$"
   ]
  },
  {
   "cell_type": "markdown",
   "metadata": {},
   "source": [
    "We want to find the electric field everywhere. This means that we want to find the electric field both for $r<a$ and for $r>a$!\n",
    "\n",
    "### Drawing the system\n",
    "\n",
    "We illustrate this system in the drawing in Fig. [fig:gausslaw-sphericalcharge-010](#fig:gausslaw-sphericalcharge-010). \n",
    "\n",
    "<!-- dom:FIGURE:[fig-gausslaw/gausslaw-sphericalcharge-010.png, width=600 frac=0.7] Illustration of the electric field $\\vec{E}$ from a spherical charge. <div id=\"fig:gausslaw-sphericalcharge-010\"></div> -->\n",
    "<!-- begin figure -->\n",
    "<div id=\"fig:gausslaw-sphericalcharge-010\"></div>\n",
    "\n",
    "<p>Illustration of the electric field $\\vec{E}$ from a spherical charge.</p>\n",
    "<img src=\"fig-gausslaw/gausslaw-sphericalcharge-010.png\" width=600>\n",
    "\n",
    "<!-- end figure -->\n",
    "\n",
    "\n",
    "### Symmetry\n",
    "\n",
    "What symmetris does this system have? We realize the system has spherical symmetri. We realize that the symmetry indicates the the electric field is radial $\\vec{E} = E\\mathbf{\\hat{r}}$. If this was not the case, we could have rotated the sphere half a turn around an axis through the center of the sphere, and the electric field would have changed. But this does not change the distribution of charges, therefore the field cannot change. This contradiction means that the field cannot have a component that is not radial. Similarly, we argue that $E$ only depends on $r$ and not on $\\theta$ or $\\phi$. The field is therefore $\\vec{E} = E(r) \\mathbf{\\hat{r}}$.\n",
    "\n",
    "### Applying Gauss' law\n",
    "\n",
    "We can then apply Gauss' law using this symmetry. We choose to apply Gauss' law on a spherical surface centered on the center of the spherical charge distribution. In this case, the electric field $\\vec{E} = E(r) \\mathbf{\\hat{r}}$ is always pointing in the direction of the outward-pointing surface normal $\\mathbf{\\hat{n}} = \\mathbf{\\hat{r}}$. The flux through a spherical surface is then"
   ]
  },
  {
   "cell_type": "markdown",
   "metadata": {},
   "source": [
    "<!-- Equation labels as ordinary links -->\n",
    "<div id=\"_auto21\"></div>\n",
    "\n",
    "$$\n",
    "\\begin{equation}\n",
    "\\Phi = \\oint_S \\vec{E} \\cdot \\mathrm{d} \\vec{A} = E(r) \\oint_S \\mathrm{d} A = E(r) \\, 4 \\pi r^2 = \\frac{Q_{\\text{in}}}{\\epsilon_0} \\; .\n",
    "\\label{_auto21} \\tag{21}\n",
    "\\end{equation}\n",
    "$$"
   ]
  },
  {
   "cell_type": "markdown",
   "metadata": {},
   "source": [
    "Now, what is the charge $Q_{\\text{in}}$? It is the charge *inside* the surface. If $r>a$ the surface encloses the whole charge $Q$ and $Q_{\\text{in}} = Q$. In this case the field is"
   ]
  },
  {
   "cell_type": "markdown",
   "metadata": {},
   "source": [
    "<!-- Equation labels as ordinary links -->\n",
    "<div id=\"_auto22\"></div>\n",
    "\n",
    "$$\n",
    "\\begin{equation}\n",
    "\\vec{E} = \\frac{Q}{4 \\pi \\epsilon_0 r^2} \\mathbf{\\hat{r}} \\; \\; r >a \\;.\n",
    "\\label{_auto22} \\tag{22}\n",
    "\\end{equation}\n",
    "$$"
   ]
  },
  {
   "cell_type": "markdown",
   "metadata": {},
   "source": [
    "However, when $r<a$, the charge $Q_{\\text{in}}$ is only the charge that is inside the sphere of radius $r$. Inside the sphere, the volume charge density if constant. We can therefore find the charge $Q_{\\text{in}}$ as the integral over the volume enclosed by a sphere of radius $r$, $v_r$:"
   ]
  },
  {
   "cell_type": "markdown",
   "metadata": {},
   "source": [
    "$$\n",
    "\\begin{eqnarray}\n",
    "Q_{\\text{in}} &=& \\int_{v_r} \\rho \\mathrm{d} v = \\rho_v \\int_{v_r} dv \\\\ \n",
    "&=& \\rho_v \\frac{4}{3} \\pi r^3 = \\frac{Q}{\\frac{4}{3} \\pi a^3} \\frac{4}{3} \\pi r^3 = Q\\left( \\frac{r}{a} \\right)^3 \\; . \n",
    "\\end{eqnarray}\n",
    "$$"
   ]
  },
  {
   "cell_type": "markdown",
   "metadata": {},
   "source": [
    "We can then find the electric field from"
   ]
  },
  {
   "cell_type": "markdown",
   "metadata": {},
   "source": [
    "<!-- Equation labels as ordinary links -->\n",
    "<div id=\"_auto23\"></div>\n",
    "\n",
    "$$\n",
    "\\begin{equation}\n",
    "E(r) \\,  4 \\pi r^2 = \\frac{Q_{\\text{in}}}{\\epsilon_0} = \\frac{Q(r/a)^3}{\\epsilon_0} \\; \\Rightarrow \\; E(r) = \\frac{Qr}{4 \\pi a^3} \\; .\n",
    "\\label{_auto23} \\tag{23}\n",
    "\\end{equation}\n",
    "$$"
   ]
  },
  {
   "cell_type": "markdown",
   "metadata": {},
   "source": [
    "The electric field is therefore:"
   ]
  },
  {
   "cell_type": "markdown",
   "metadata": {},
   "source": [
    "<!-- Equation labels as ordinary links -->\n",
    "<div id=\"_auto24\"></div>\n",
    "\n",
    "$$\n",
    "\\begin{equation}\n",
    "\\vec{E} = \\left\\{ \\begin{array}{cc}\n",
    "\\frac{Q}{4 \\pi \\epsilon_0 r^2} \\mathbf{\\hat{r}} & \\text{ when } r>a \\\\ \n",
    "\\frac{Qr}{4 \\pi \\epsilon_0 a^3} \\mathbf{\\hat{r}} & \\text{ when } r \\leq a\n",
    "\\end{array} \\right.\n",
    "\\; .\n",
    "\\label{_auto24} \\tag{24}\n",
    "\\end{equation}\n",
    "$$"
   ]
  },
  {
   "cell_type": "markdown",
   "metadata": {},
   "source": [
    "# Proof of Gauss' law\n",
    "\n",
    "Gauss' law is most easily proved by proving it for a single point charge using the divergence theorem. If it is valid for a single point charge, it is also valid for any combination of point charges using the superposition principle. We can assume that the single point charge with charge $Q$ is in the origin. The field from this charge is"
   ]
  },
  {
   "cell_type": "markdown",
   "metadata": {},
   "source": [
    "<!-- Equation labels as ordinary links -->\n",
    "<div id=\"_auto25\"></div>\n",
    "\n",
    "$$\n",
    "\\begin{equation}\n",
    "\\vec{E} = \\frac{Q}{4 \\pi \\epsilon_0 r^2} \\mathbf{\\hat{r}} \\; .\n",
    "\\label{_auto25} \\tag{25}\n",
    "\\end{equation}\n",
    "$$"
   ]
  },
  {
   "cell_type": "markdown",
   "metadata": {},
   "source": [
    "The flux of this field from a closed surface $S$ is:"
   ]
  },
  {
   "cell_type": "markdown",
   "metadata": {},
   "source": [
    "<!-- Equation labels as ordinary links -->\n",
    "<div id=\"_auto26\"></div>\n",
    "\n",
    "$$\n",
    "\\begin{equation}\n",
    "\\Phi = \\oint_S \\vec{E} \\cdot \\mathrm{d} \\vec{S} \\; .\n",
    "\\label{_auto26} \\tag{26}\n",
    "\\end{equation}\n",
    "$$"
   ]
  },
  {
   "cell_type": "markdown",
   "metadata": {},
   "source": [
    "We rewrite this integral using the divergence theorem:"
   ]
  },
  {
   "cell_type": "markdown",
   "metadata": {},
   "source": [
    "<!-- Equation labels as ordinary links -->\n",
    "<div id=\"_auto27\"></div>\n",
    "\n",
    "$$\n",
    "\\begin{equation}\n",
    "\\oint_S \\vec{E} \\cdot \\mathrm{d} \\vec{S} = \\int_v \\nabla \\cdot \\vec{E} \\, \\mathrm{d} v \\; ,\n",
    "\\label{_auto27} \\tag{27}\n",
    "\\end{equation}\n",
    "$$"
   ]
  },
  {
   "cell_type": "markdown",
   "metadata": {},
   "source": [
    "where the integral is over the volume $v$ enclosed by the surface $S$. What is the divergence of $\\vec{E}$ for a single point charge? The divergence in spherical coordinates, where $\\vec{E} = E_r \\mathbf{\\hat{r}} + E_{\\theta} \\mathbf{\\hat{u}}_{\\theta} + E_{\\phi} \\mathbf{\\hat{u}}_{\\phi}$, is"
   ]
  },
  {
   "cell_type": "markdown",
   "metadata": {},
   "source": [
    "$$\n",
    "\\begin{eqnarray}\n",
    "\\nabla \\cdot \\vec{E} = \\frac{1}{r^2} \\frac{\\partial \\left( r^2 E_e \\right) }{\\partial r} + \\frac{1}{r \\sin \\theta }\\frac{\\partial \\left( \\sin \\theta \\, E_{\\theta}\\right) }{\\partial \\theta} + \\frac{1}{r \\sin \\theta}\\frac{\\partial E_{\\phi}}{\\partial \\phi }\n",
    "\\end{eqnarray}\n",
    "$$"
   ]
  },
  {
   "cell_type": "markdown",
   "metadata": {},
   "source": [
    "For a single point charge $E_r = q/(4 \\pi \\epsilon_0 r^2)$, $E_{\\theta} = 0$ and $E_{\\phi}=0$. The divergence is therefore:"
   ]
  },
  {
   "cell_type": "markdown",
   "metadata": {},
   "source": [
    "<!-- Equation labels as ordinary links -->\n",
    "<div id=\"_auto28\"></div>\n",
    "\n",
    "$$\n",
    "\\begin{equation}\n",
    "\\nabla \\cdot \\vec{E} = \\frac{1}{r^2}\\frac{\\partial r^2 q/(4 \\pi \\epsilon_0 r^2)}{\\partial r} = 0 \\;.\n",
    "\\label{_auto28} \\tag{28}\n",
    "\\end{equation}\n",
    "$$"
   ]
  },
  {
   "cell_type": "markdown",
   "metadata": {},
   "source": [
    "for $r>0$. For $r=0$ the divergence is not defined. This means that if the surface does not enclose the origin, then the flux integral is zero. If the surface encloses the origin, we need to introduce a mathematical trick to help us: We divide the surface $v$ into two pieces: a small spherical surface centered on the origin with such a small radius $a$ that it is completely inside $v$, called $v_a$, and the remaining surface, $v-v_a$. Since the remaining surface $v-v_a$ does not enclose the origin, the divergence of $\\vec{E}$ is zero inside this surface. We can therefore write:"
   ]
  },
  {
   "cell_type": "markdown",
   "metadata": {},
   "source": [
    "<!-- Equation labels as ordinary links -->\n",
    "<div id=\"_auto29\"></div>\n",
    "\n",
    "$$\n",
    "\\begin{equation}\n",
    "\\int_v \\nabla \\cdot \\vec{E} \\, \\mathrm{d} v = \\int_{v-v_a} \\nabla \\cdot \\vec{E} \\, \\mathrm{d} v + \\int_{v_a} \\nabla \\cdot \\vec{E} \\, \\mathrm{d} v = 0 + \\int_{v_a} \\nabla \\cdot \\vec{E} \\, \\mathrm{d} v \\; .\n",
    "\\label{_auto29} \\tag{29}\n",
    "\\end{equation}\n",
    "$$"
   ]
  },
  {
   "cell_type": "markdown",
   "metadata": {},
   "source": [
    "We can then use the diverge theorem once more to rewrite the volume integral as a surface integral:"
   ]
  },
  {
   "cell_type": "markdown",
   "metadata": {},
   "source": [
    "<!-- Equation labels as ordinary links -->\n",
    "<div id=\"_auto30\"></div>\n",
    "\n",
    "$$\n",
    "\\begin{equation}\n",
    "\\int_{v_a} \\nabla \\cdot \\vec{E} \\, \\mathrm{d} v = \\oint_{S_a} \\vec{E} \\cdot \\mathrm{d} \\vec{S} \\; ,\n",
    "\\label{_auto30} \\tag{30}\n",
    "\\end{equation}\n",
    "$$"
   ]
  },
  {
   "cell_type": "markdown",
   "metadata": {},
   "source": [
    "where the surface $S_a$ is a spherical surface with radius $a$ centered in the origin. At this surface, the field $\\vec{E} = E_r \\mathbf{\\hat{r}} = Q/(4 \\pi \\epsilon_0 a^2) \\mathbf{\\hat{r}}$, and the surface normal $\\mathbf{\\hat{n}}$ points in the direction of $\\mathbf{\\hat{r}}$. The integral is therefore simply the"
   ]
  },
  {
   "cell_type": "markdown",
   "metadata": {},
   "source": [
    "<!-- Equation labels as ordinary links -->\n",
    "<div id=\"_auto31\"></div>\n",
    "\n",
    "$$\n",
    "\\begin{equation}\n",
    "\\oint_{S_a} \\vec{E} \\cdot \\mathrm{d} \\vec{S} = \\oint_{S_a} E_r \\mathbf{\\hat{r}} \\cdot \\mathbf{\\hat{r}} \\mathrm{d} S = E_r \\oint_{S_a} \\mathrm{d} S = \\frac{Q}{4 \\pi \\epsilon_0 a^2} \\, 4 \\pi a^2 = \\frac{Q}{\\epsilon_0} \\; .\n",
    "\\label{_auto31} \\tag{31}\n",
    "\\end{equation}\n",
    "$$"
   ]
  },
  {
   "cell_type": "markdown",
   "metadata": {},
   "source": [
    "We have therefore proved that for a single point charge $Q$ the flux of the electric field through a surface $S$ is $Q/\\epsilon_0$ if the surface $S$ encloses the charge and zero otherwise. If we apply the superposition principle we realize that for a set of charges $Q_i$, the flux of the total electric field through a surface $S$ is the sum of charges inside the surface divided by $\\epsilon_0$. Thus we have proven Gauss' law.\n",
    "\n",
    "# Summary\n",
    "\n",
    "### Gauss' law on integral form\n",
    "\n",
    "For a close surface $S$:"
   ]
  },
  {
   "cell_type": "markdown",
   "metadata": {},
   "source": [
    "<!-- Equation labels as ordinary links -->\n",
    "<div id=\"_auto32\"></div>\n",
    "\n",
    "$$\n",
    "\\begin{equation}\n",
    "\\oint_S \\vec{E} \\cdot \\mathrm{d} \\vec{S} = \\frac{Q_{\\text{in}}}{\\epsilon_0} \\; ,\n",
    "\\label{_auto32} \\tag{32}\n",
    "\\end{equation}\n",
    "$$"
   ]
  },
  {
   "cell_type": "markdown",
   "metadata": {},
   "source": [
    "where $Q_{\\text{in}}$ is the net charge inside the surface $S$.\n",
    "\n",
    "### Application of Gauss' law\n",
    "\n",
    "We use Gauss' law to determine the electric field for systems with a high degree of symmetry, so that $\\vec{E} \\cdot \\mathrm{d} \\vec{S}$ is constant $E_0$ on the surface. We can then find $E_0$ by applying Gauss' law and calculate the net charge inside the surface: $S E_0 = Q_{\\text{in}}/ \\epsilon_0$, and therefore $E_0 = Q_{\\text{in}}/ (S \\epsilon_0)$, where $S$ is the area of the corresponding surface.\n",
    "\n",
    "### Gauss' law on differential form\n",
    "\n",
    "Gauss' law on differential form is:"
   ]
  },
  {
   "cell_type": "markdown",
   "metadata": {},
   "source": [
    "<!-- Equation labels as ordinary links -->\n",
    "<div id=\"_auto33\"></div>\n",
    "\n",
    "$$\n",
    "\\begin{equation}\n",
    "\\nabla \\cdot \\vec{E} = \\rho / \\epsilon_0 \\; ,\n",
    "\\label{_auto33} \\tag{33}\n",
    "\\end{equation}\n",
    "$$"
   ]
  },
  {
   "cell_type": "markdown",
   "metadata": {},
   "source": [
    "where $\\rho$ is the volume charge density.\n",
    "\n",
    "# Exercises\n",
    "\n",
    "\n",
    "\n",
    "## Test yourself\n",
    "\n",
    "## Discussion exercises\n",
    "\n",
    "\n",
    "\n",
    "\n",
    "<!-- --- begin exercise --- -->\n",
    "\n",
    "## Exercise 1: Rubber balloon\n",
    "\n",
    "*(From Sears and Semanskys)*\n",
    "\n",
    "A rubber balloon has a single point charge in its interior. Does the electric flux through the balloon depend on whether or not it is fully inflated? Explain you reasoning?\n",
    "\n",
    "\n",
    "\n",
    "<!-- --- end exercise --- -->\n",
    "\n",
    "\n",
    "\n",
    "\n",
    "<!-- --- begin exercise --- -->\n",
    "\n",
    "## Exercise 2: Two charges\n",
    "\n",
    "*(From Sears and Semanskys)*\n",
    "For the system in the figure, what would be the fluxes through each of the surfaces A,B,C and D?\n",
    "\n",
    "<!-- dom:FIGURE:[fig-gausslaw/twochargesystem.png,  width=600 frac=0.3] Illustration of fluxes through surface A,B,C, and D. <div id=\"fig:twochargesystem\"></div> -->\n",
    "<!-- begin figure -->\n",
    "<div id=\"fig:twochargesystem\"></div>\n",
    "\n",
    "<p>Illustration of fluxes through surface A,B,C, and D.</p>\n",
    "<img src=\"fig-gausslaw/twochargesystem.png\" width=600>\n",
    "\n",
    "<!-- end figure -->\n",
    "\n",
    "\n",
    "\n",
    "\n",
    "<!-- --- end exercise --- -->\n",
    "\n",
    "\n",
    "\n",
    "\n",
    "<!-- --- begin exercise --- -->\n",
    "\n",
    "## Exercise 3: No charges, no field?\n",
    "\n",
    "*(From Sears and Semanskys)*\n",
    "\n",
    "A certain region of space bounded by an imaginary closed surface contains no charge. Is the electric field always zero everywhere on the surface? Is the flux always zero everywhere on the surface? Gauss’ law relates the total flux to the charge contained by the surface—what will the total flux be here?\n",
    "\n",
    "<!-- --- end exercise --- -->\n",
    "\n",
    "\n",
    "\n",
    "\n",
    "<!-- --- begin exercise --- -->\n",
    "\n",
    "## Exercise 4: Uniform charge density\n",
    "\n",
    "*(From Sears and Semanskys)*\n",
    "\n",
    "\n",
    "**a)**\n",
    "In a certain region of space, the volume charge density $\\rho$ has a uniform, positive value. Can $\\vec{E}$ be uniform in this region?\n",
    "\n"
   ]
  },
  {
   "cell_type": "markdown",
   "metadata": {},
   "source": [
    "\n",
    "\n",
    "**b)**\n",
    "Suppose that in this region of uniform positive $\\rho$ there is a \"bubble\" within which $\\rho = 0$. What, if anything, can you say about the electric field within this bubble using Gauss’ law?\n",
    "\n",
    "\n",
    "\n",
    "<!-- --- end exercise --- -->\n",
    "\n",
    "\n",
    "\n",
    "\n",
    "<!-- --- begin exercise --- -->\n",
    "\n",
    "## Exercise 5: A different Coulumb's law\n",
    "\n",
    "*( From Sears and Semanskys)*\n",
    "If the electric field of a point charge were proportional to $1/r^3$ instead of $1/r^2$, would Gauss' law still be valid? Explain your reasoning?\n",
    "\n",
    "<!-- --- begin hint in exercise --- -->\n",
    "\n",
    "**Hint.**\n",
    "Consider a spherical surface centered around a single point charge.\n",
    "\n",
    "<!-- --- end hint in exercise --- -->\n",
    "\n"
   ]
  },
  {
   "cell_type": "markdown",
   "metadata": {},
   "source": [
    "\n",
    "<!-- --- end exercise --- -->\n",
    "\n",
    "\n",
    "## Tutorials\n",
    "\n",
    "\n",
    "\n",
    "<!-- --- begin exercise --- -->\n",
    "\n",
    "## Exercise 6: Symmetries\n",
    "\n",
    "*(From Steven Pollock.)*\n",
    "\n",
    "In this exercise we will use symmetry arguments and Gauss' law to find an expression for the electric field around an inifinitely long line of charge with constant charge density.\n",
    "\n",
    "Usually, we begin by assuming that the electric field around the charged wire is entirely in the *radial* direction.\n",
    "\n",
    "\n",
    "**a)**\n",
    "Give a brief symmetry argument for why the electric field should *not* have a *longitudinal* component (parallel with the wire).\n",
    "\n",
    "\n",
    "\n",
    "**b)**\n",
    "Give a brief symmetry argument for why the electric field should *not* have a *tangential* component (circling around the wire).\n",
    "\n",
    "\n",
    "\n",
    "**c)**\n",
    "Assuming that the electric field *is* purely radial, why would we choose an imaginary *cylinder* as our Gaussian surface? Why not a sphere or a cube? (Draw how you would orient the cylinder).\n",
    "\n",
    "\n",
    "\n",
    "**d)**\n",
    "For an inifinitely long wire with uniform charge density $\\lambda$, what is the total charge on a small section of this wire of length $L$?\n",
    "\n",
    "\n",
    "\n",
    "\n",
    "\n",
    "**e)**\n",
    "Use Gauss' law (in integral form) to solve for the electric field at any point around the wire. Define any symbols you use.\n",
    "\n",
    "\n",
    "\n",
    "\n",
    "\n",
    "**f)**\n",
    "Challenge question (for fast teams): If the wire was not inifite, but in fact was only a segment of length $L$, would your formulation still hold, assuming you only want to know the electric field around the exact midpoint of the wire segment? Why/why not?\n",
    "\n",
    "\n",
    "\n",
    "<!-- --- end exercise --- -->\n",
    "\n",
    "\n",
    "\n",
    "\n",
    "<!-- --- begin exercise --- -->\n",
    "\n",
    "## Exercise 7: Flux-trix\n",
    "\n",
    "In this exercise you will learn to calculate fluxes for specific surfaces and to use Gauss' law to infer fluxes that may be difficult to calculate.\n",
    "\n",
    "We will study an electric field $\\vec{E} = E_0 \\mathbf{\\hat{y}}$ generated by charges that are far away. We will now study the flux through several surfaces illustrated in the figure (assume all lengths are in units of $a$, which is a given length). Surface A and B are planar, surface E is a cylindrical shell, and surfaces C and D are the top and bottom caps that ensure that the whole volume is closed.\n",
    "\n",
    "<!-- dom:FIGURE:[fig-gausslaw/tutorialgausscylinderv2.png,  width=600 frac=0.5] -->\n",
    "<!-- begin figure -->\n",
    "\n",
    "<p></p>\n",
    "<img src=\"fig-gausslaw/tutorialgausscylinderv2.png\" width=600>\n",
    "\n",
    "<!-- end figure -->\n",
    "\n",
    "\n",
    "\n",
    "**a)**\n",
    "What are the surface normals for surfaces $A$, $B$, $C$, and $D$? How would you describe the surface normal for surface $E$?\n",
    "\n",
    "\n",
    "\n",
    "\n",
    "\n",
    "**b)**\n",
    "Find the flux through surfaces $A$, $B$, $C$, and $D$.\n",
    "\n",
    "\n",
    "\n",
    "\n",
    "\n",
    "**c)**\n",
    "Use Gauss' law to find the flux through surface $E$. How would you find this without using Gauss' law? Discuss how your methods can be generalized to other electric fields.\n",
    "\n",
    "\n",
    "\n"
   ]
  },
  {
   "cell_type": "markdown",
   "metadata": {},
   "source": [
    "\n",
    "Let us now use a similar principle to find the flux in another situation. A charge $q$ is placed at the origin. This is the only charge in the system. The charge sets up an electric field $\\vec{E}(\\vec{r})$.\n",
    "\n",
    "**d)**\n",
    "What is the flux of $\\vec{E}(\\vec{r})$ through a triangular surface with corners at $(a,0,0)$, $(0,a,0)$ and $(0,0,a)$? Does the result depend on the value of $a$?\n",
    "\n",
    "<!-- --- begin hint in exercise --- -->\n",
    "\n",
    "**Hint.**\n",
    "Make a sketch. Is there another surface you can easily find the flux through? How can you use Gauss' law?\n",
    "\n",
    "<!-- --- end hint in exercise --- -->\n",
    "\n",
    "\n",
    "\n",
    "\n",
    "\n",
    "\n",
    "<!-- --- end exercise --- -->\n",
    "\n",
    "\n",
    "\n",
    "\n",
    "<!-- --- begin exercise --- -->\n",
    "\n",
    "## Exercise 8: SLAC lightning strike\n",
    "\n",
    "(*From Steven Pollock, University of Colorado - Boulder*).\n",
    "\n",
    "SLAC (Stanford Linear Accelerator Center) is where quarks (including the charm quark), and the tauon (like a heavier electron) were discovered. Charged particles are accelerated inside a long metal cylindrical pipe, which is 2 miles long and has a radius $R = 6 \\text{cm}$. All the air is pumped out of this pipe, known as the “beam line.”\n",
    "\n",
    "One afternoon, the beam line is struck by lightning, which gives it a uniform surface charge density $\\sigma$. After the lightning strike, Stanford physicists want to start accelerating particles in the beam line, but they are concerned that the charge density might affect the beam particles, causing them to crash into the wall of the pipe and burn a hole through it. Air and dirt would rush into the empty pipe causing months of expensive delay. You will investigate whether the surface charge of the beam line could affect the beam particles.\n",
    "\n",
    "\n",
    "**a)**\n",
    "First, what is the infinitesimal area, $dA$, of a small patch on a cylindrical shell centered on the $z$-axis? Assuming you use this $dA$ in a surface integral over a closed surface, give the vector direction of $dA$.\n",
    "\n",
    "\n",
    "\n",
    "\n",
    "\n",
    "<!-- dom:FIGURE:[fig-gausslaw/slaclightninggausssketch.png,  width=600 frac=0.3] Illustration of the system. <div id=\"fig:slaclightninggausssketch\"></div> -->\n",
    "<!-- begin figure -->\n",
    "<div id=\"fig:slaclightninggausssketch\"></div>\n",
    "\n",
    "<p>Illustration of the system.</p>\n",
    "<img src=\"fig-gausslaw/slaclightninggausssketch.png\" width=600>\n",
    "\n",
    "<!-- end figure -->\n",
    "\n",
    "\n",
    "**b)**\n",
    "What direction does the $E$-field point at all points in space? Explain in detail how you know.\n",
    "\n",
    "\n",
    "\n",
    "**c)**\n",
    "Use Gauss’s Law to find the $E$-field at all points in space.\n",
    "\n"
   ]
  },
  {
   "cell_type": "markdown",
   "metadata": {},
   "source": [
    "\n"
   ]
  },
  {
   "cell_type": "markdown",
   "metadata": {},
   "source": [
    "\n",
    "**d)**\n",
    "Does the charge $\\sigma$ on the beam line affect the particles being accelerated inside it? Could it affect the electronic equipment outside the tunnel?\n",
    "\n",
    "\n",
    "\n",
    "<!-- --- end exercise --- -->\n",
    "\n",
    "\n",
    "\n",
    "\n",
    "<!-- --- begin exercise --- -->\n",
    "\n",
    "## Exercise 9: Overlapping clouds of charge\n",
    "\n",
    "(*From Danny Caballero, Michigan State University*)\n",
    "\n",
    "\n",
    "**a)**\n",
    "For a cloud of charge of radius $R$ with uniform charge density $\\rho_0$, find the electric field inside and outside the cloud using Gauss' law.\n",
    "\n"
   ]
  },
  {
   "cell_type": "markdown",
   "metadata": {},
   "source": [
    "\n"
   ]
  },
  {
   "cell_type": "markdown",
   "metadata": {},
   "source": [
    "\n",
    "**b)**\n",
    "Consider to oppositely charged clouds, both of radii $R$ and uniform charge densities. They overlap with their centers separated by $d$. Find the electric field in the overlapping region.\n",
    "\n",
    "\n",
    "\n"
   ]
  },
  {
   "cell_type": "markdown",
   "metadata": {},
   "source": [
    "\n",
    "**c)**\n",
    "Sketch the electric field lines in the overlapping region.\n",
    "\n",
    "**d)**\n",
    "Discuss what happens as $d$ becomes small compared with $R$. Discuss what the resulting (total, physical) charge distribution in space looks like.\n",
    "\n",
    "**e)**\n",
    "(*Advanced, can be skipped*) Write a Python program to visualize the electric field in space. Place the center of the line connecting the two charges in the origin.\n",
    "\n",
    "\n",
    "<!-- --- end exercise --- -->\n",
    "\n",
    "\n",
    "## Homework\n",
    "\n",
    "\n",
    "\n",
    "<!-- --- begin exercise --- -->\n",
    "\n",
    "## Exercise 10: Fluxes from point charges\n",
    "\n",
    "A point charge $q_1 =4.0$ nC lies on the $x$-axis in $x=2.0$ m. Another point charge $q_2=-6.0$ nC lies on the $y$-axis in $y=1.0$ m.\n",
    "\n",
    "\n",
    "**a)**\n",
    "A spherical surface $S$ is centered in the origin with radius radius $0.5$ m. What is the electric flux out of this surface, that is, $\\Phi_E = \\oint_S \\vec{E}\\cdot \\mathrm{d} \\vec{S}$\n",
    "\n",
    "\n",
    "\n",
    "\n",
    "\n",
    "**b)**\n",
    "What is the flux out of the spherical surface if the radius is $1.5$ m or $2.5$ m?\n",
    "\n",
    "\n",
    "\n"
   ]
  },
  {
   "cell_type": "markdown",
   "metadata": {},
   "source": [
    "\n",
    "**c)**\n",
    "Would it be useful to use Gauss' law to find the electric field $\\vec{E}(x,y,z)$ in this system?\n",
    "\n",
    "\n",
    "\n",
    "\n",
    "\n",
    "<!-- --- end exercise --- -->\n",
    "\n",
    "\n",
    "\n",
    "\n",
    "<!-- --- begin exercise --- -->\n",
    "\n",
    "## Exercise 11: Field from charge distributions\n",
    "\n",
    "We have a total charge $Q$. Find the electric fiedl $\\vec{E}$ everywhere in space when:\n",
    "\n",
    "\n",
    "**a)**\n",
    "$Q$ is a point charge.\n",
    "\n",
    "\n",
    "\n"
   ]
  },
  {
   "cell_type": "markdown",
   "metadata": {},
   "source": [
    "\n",
    "**b)**\n",
    "$Q$ is uniformly distributed over the volume of a sphere with radius $a$ so that the charge density $\\rho_v$ is:"
   ]
  },
  {
   "cell_type": "markdown",
   "metadata": {},
   "source": [
    "<!-- Equation labels as ordinary links -->\n",
    "<div id=\"_auto47\"></div>\n",
    "\n",
    "$$\n",
    "\\begin{equation}\n",
    "\\rho_v = \\frac{Q}{4\\pi a^3 / 3} \\; .\n",
    "\\label{_auto47} \\tag{48}\n",
    "\\end{equation}\n",
    "$$"
   ]
  },
  {
   "cell_type": "markdown",
   "metadata": {},
   "source": [
    "\n"
   ]
  },
  {
   "cell_type": "markdown",
   "metadata": {},
   "source": [
    "\n",
    "**c)**\n",
    "$Q$ is uniformly distributed on a spherical shell with radius $a$ so that the surface charge density $\\rho_s$ is"
   ]
  },
  {
   "cell_type": "markdown",
   "metadata": {},
   "source": [
    "<!-- Equation labels as ordinary links -->\n",
    "<div id=\"_auto49\"></div>\n",
    "\n",
    "$$\n",
    "\\begin{equation}\n",
    "\\rho_s = \\frac{Q}{4\\pi a^2} \\; .\n",
    "\\label{_auto49} \\tag{50}\n",
    "\\end{equation}\n",
    "$$"
   ]
  },
  {
   "cell_type": "markdown",
   "metadata": {},
   "source": [
    "\n"
   ]
  },
  {
   "cell_type": "markdown",
   "metadata": {},
   "source": [
    "\n",
    "**d)**\n",
    "$Q$ is uniformly distributed over the volume of a sphere with radius $a$ so that the charge density is proportional to the distrance $r$ from the center of the sphere, that is, $\\rho_v = kr$ where $k$ is a constant.\n",
    "\n",
    "<!-- --- begin hint in exercise --- -->\n",
    "\n",
    "**Hint.**\n",
    "Determine $k$ by calculating $Q = \\int_v \\rho \\mathrm{d} v$. The geometry in this subexercise indicates that spherical coordinates is a good choice. Remember to use the correct volume element in the integral.\n",
    "\n",
    "<!-- --- end hint in exercise --- -->\n",
    "\n",
    "\n",
    "\n"
   ]
  },
  {
   "cell_type": "markdown",
   "metadata": {},
   "source": [
    "\n",
    "<!-- --- end exercise --- -->\n",
    "\n",
    "\n",
    "\n",
    "\n",
    "<!-- --- begin exercise --- -->\n",
    "\n",
    "## Exercise 12: Two wires (A)\n",
    "\n",
    "Two very long wires lie parallell to each other in vacuum. The magnitude of their linear charge density $\\rho$, is equal, although one is positive and the other is negative. The distance between the wires is $x$.\n",
    "\n",
    "\n",
    "**a)**\n",
    "Find the direction of the $\\vec{E}$-field half-way between the two wires without calculating it.\n",
    "\n",
    "<!-- --- begin hint in exercise --- -->\n",
    "\n",
    "**Hint.**\n",
    "Compare the situation to that of finding the electric field strength in the half-way point between two equal but opposite charges. (Draw field lines)\n",
    "\n",
    "<!-- --- end hint in exercise --- -->\n",
    "\n",
    "\n",
    "\n",
    "\n",
    "**b)**\n",
    "Calculate the field strength at this point.\n",
    "\n",
    "<!-- --- begin hint in exercise --- -->\n",
    "\n",
    "**Hint.**\n",
    "Use cylindrical symmetry and Gauss' law\n",
    "\n",
    "<!-- --- end hint in exercise --- -->\n",
    "\n",
    "\n",
    "\n"
   ]
  },
  {
   "cell_type": "markdown",
   "metadata": {},
   "source": [
    "\n",
    "\n",
    "**c)**\n",
    "Without calculating, compare the $\\vec{E}$-field at a distance $x/3$ from the positive wire (and $2/3 x$ from the negative) to the $\\vec{E}$-field at a distance $x/3$ from the negative wire (and $2/3 x$ from the positive).\n",
    "\n",
    "<!-- --- begin hint in exercise --- -->\n",
    "\n",
    "**Hint.**\n",
    "See hint a)\n",
    "\n",
    "<!-- --- end hint in exercise --- -->\n",
    "\n",
    "\n",
    "\n",
    "**d)**\n",
    "Calculate the field strength at the locations in c).\n",
    "\n",
    "<!-- --- begin hint in exercise --- -->\n",
    "\n",
    "**Hint.**\n",
    "See hint b)\n",
    "\n",
    "<!-- --- end hint in exercise --- -->\n",
    "\n",
    "\n",
    "\n",
    "\n",
    "\n",
    "\n",
    "<!-- --- end exercise --- -->\n",
    "\n",
    "\n",
    "\n",
    "\n",
    "<!-- --- begin exercise --- -->\n",
    "\n",
    "## Exercise 13: Two wires (B)\n",
    "\n",
    "Repeat the previous exercise, but with to positively charged wires.\n",
    "\n",
    "\n",
    "**a)**\n",
    "Find the direction of the $\\vec{E}$-field half-way between the two wires without calculating it.\n",
    "\n",
    "\n",
    "\n",
    "**b)**\n",
    "Calculate the field strength at this point.\n",
    "\n",
    "\n",
    "\n",
    "\n",
    "**c)**\n",
    "Without calculating, compare the $\\vec{E}$-field at a distance $x/3$ from one wire (and $2/3 x$ from the other) to the $\\vec{E}$-field at a distance $x/3$ from the first wire (and $2/3 x$ from the second).\n",
    "\n",
    "\n",
    "\n",
    "\n",
    "**d)**\n",
    "Calculate the field strength at the locations in c).\n",
    "\n",
    "\n",
    "\n",
    "\n",
    "\n",
    "<!-- --- end exercise --- -->\n",
    "\n",
    "\n",
    "\n",
    "\n",
    "<!-- --- begin exercise --- -->\n",
    "\n",
    "## Exercise 14: Concepts in vector calculus\n",
    "\n",
    "Define the following concepts and explain them in your own words:\n",
    "\n",
    "\n",
    "**a)**\n",
    "flux\n",
    "\n"
   ]
  },
  {
   "cell_type": "markdown",
   "metadata": {},
   "source": [
    "\n",
    "**b)**\n",
    "divergence\n",
    "\n"
   ]
  },
  {
   "cell_type": "markdown",
   "metadata": {},
   "source": [
    "\n",
    "**c)**\n",
    "curl\n",
    "\n"
   ]
  },
  {
   "cell_type": "markdown",
   "metadata": {},
   "source": [
    "\n",
    "**d)**\n",
    "conservative field\n",
    "\n",
    "\n",
    "\n",
    "Write down and explain in your own words the contents of the following theorems:\n",
    "\n",
    "**e)**\n",
    "the divergence theorem\n",
    "\n"
   ]
  },
  {
   "cell_type": "markdown",
   "metadata": {},
   "source": [
    "\n",
    "**f)**\n",
    "Stokes' theorem\n",
    "\n"
   ]
  },
  {
   "cell_type": "markdown",
   "metadata": {},
   "source": [
    "\n",
    "<!-- --- end exercise --- -->\n",
    "\n",
    "\n",
    "\n",
    "\n",
    "<!-- --- begin exercise --- -->\n",
    "\n",
    "## Exercise 15: Electrons in a box\n",
    "\n",
    "\n",
    "**a)**\n",
    "A cubic box of sidelength $a = $ 1 meter contains only electrons in a vacuum. You may assume that  the $\\vec{E}$-field is normal on the faces of the cube, and that the electric field strength is constant on all faces with a magnitude of  $E= $ 6.03 $\\mu$N/C. How many electrons are in the box?\n",
    "\n",
    "<!-- --- begin hint in exercise --- -->\n",
    "\n",
    "**Hint.**\n",
    "Use Gauss' law on a Gaussian surface equal to the surface of the box.\n",
    "\n",
    "<!-- --- end hint in exercise --- -->\n",
    "\n",
    "\n",
    "\n",
    "\n",
    "\n",
    "<!-- --- end exercise --- -->\n",
    "\n",
    "\n",
    "\n",
    "\n",
    "<!-- --- begin exercise --- -->\n",
    "\n",
    "## Exercise 16: Integrals in vector calculus\n",
    "\n",
    "\n",
    "**a)**\n",
    "Calculate the integral"
   ]
  },
  {
   "cell_type": "markdown",
   "metadata": {},
   "source": [
    "<!-- Equation labels as ordinary links -->\n",
    "<div id=\"_auto55\"></div>\n",
    "\n",
    "$$\n",
    "\\begin{equation}\n",
    "I = \\int_v (\\nabla \\cdot \\vec{F}) \\mathrm{d} v \\; ,\n",
    "\\label{_auto55} \\tag{56}\n",
    "\\end{equation}\n",
    "$$"
   ]
  },
  {
   "cell_type": "markdown",
   "metadata": {},
   "source": [
    "where $\\vec{F} = r\\mathbf{\\hat{r}}  = x\\mathbf{\\hat{x}} + y\\mathbf{\\hat{y}} + z\\mathbf{\\hat{z}}$ and the volume $v$ is a sphere with radius $R$ placed in the origin:\n",
    "\n",
    " * By direct calculation\n",
    "\n",
    " * By using the divergence theorem.\n"
   ]
  },
  {
   "cell_type": "markdown",
   "metadata": {},
   "source": [
    "\n",
    "**b)**\n",
    "Calculate the curve integral"
   ]
  },
  {
   "cell_type": "markdown",
   "metadata": {},
   "source": [
    "<!-- Equation labels as ordinary links -->\n",
    "<div id=\"_auto58\"></div>\n",
    "\n",
    "$$\n",
    "\\begin{equation}\n",
    "I = \\int_C \\vec{F}\\cdot \\mathrm{d} \\vec{l} \\; ,\n",
    "\\label{_auto58} \\tag{59}\n",
    "\\end{equation}\n",
    "$$"
   ]
  },
  {
   "cell_type": "markdown",
   "metadata": {},
   "source": [
    "where $\\vec{F} = (xy^2 + 2y)\\mathbf{\\hat{x}} + (x^2y+2x)\\mathbf{\\hat{y}}$, \n",
    "\n",
    "  * along the curve $C_1$ consisting of the two straight lines that connects the points $(0,0)$, $(a, 0)$ and $(a,b)$ in the figure.\n",
    "\n",
    "  * along the curve $C_2$ that consitst of the straight line connecting the points $(0,0)$ and $(a, b)$.\n",
    "\n",
    "  * These answers are the same, why? Explain using Stokes' theorem.\n",
    "\n",
    "<!-- dom:FIGURE: [fig-gausslaw/gausslaw-ex-vectorintegral.png, width=600 frac=0.5] -->\n",
    "<!-- begin figure -->\n",
    "\n",
    "<p></p>\n",
    "<img src=\"fig-gausslaw/gausslaw-ex-vectorintegral.png\" width=600>\n",
    "\n",
    "<!-- end figure -->\n",
    "\n",
    "\n"
   ]
  },
  {
   "cell_type": "markdown",
   "metadata": {},
   "source": [
    "\n",
    "<!-- --- end exercise --- -->\n",
    "\n",
    "\n",
    "\n",
    "\n",
    "<!-- --- begin exercise --- -->\n",
    "\n",
    "## Exercise 17: Two line charges\n",
    "\n",
    "\n",
    "**a)**\n",
    "Find the electrical field from an infinitely long line charge directed along the $z$-axis through a point $(a,0,0)$ with uniform line charge density $\\rho_l$.\n",
    "\n",
    "\n",
    "\n"
   ]
  },
  {
   "cell_type": "markdown",
   "metadata": {},
   "source": [
    "\n",
    "**b)**\n",
    "Find the electric field from two infinitely long lines charges directed along the $z$-axis: A line charge with line charge density $\\rho_l$ through $(a,0,0)$ and a line charge with line charge density $- \\rho_l$ through $(-a,0,0)$.\n",
    "\n",
    "\n",
    "\n"
   ]
  },
  {
   "cell_type": "markdown",
   "metadata": {},
   "source": [
    "\n",
    "**c)**\n",
    "Find an approximate value for the electric field when $x^2 + y^2 \\gg a^2$ and $y=0$. Express the result in terms of the dipole moment per unit length, $\\vec{p} = 2 a \\rho_l \\mathbf{\\hat{x}}$.\n",
    "\n",
    "\n",
    "\n"
   ]
  },
  {
   "cell_type": "markdown",
   "metadata": {},
   "source": [
    "\n",
    "<!-- --- end exercise --- -->\n",
    "\n",
    "\n",
    "\n",
    "\n",
    "<!-- --- begin exercise --- -->\n",
    "\n",
    "## Exercise 18: Cylinder\n",
    "\n",
    "Find the electric field from an infintely long cylinder with radius $a$ and a uniform volume charge density $\\rho$.\n",
    "\n",
    "\n",
    "\n"
   ]
  },
  {
   "cell_type": "markdown",
   "metadata": {},
   "source": [
    "\n",
    "<!-- --- end exercise --- -->\n",
    "\n",
    "\n",
    "# References"
   ]
  }
 ],
 "metadata": {},
 "nbformat": 4,
 "nbformat_minor": 2
}