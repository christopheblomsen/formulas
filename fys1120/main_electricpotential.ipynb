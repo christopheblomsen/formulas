{
 "cells": [
  {
   "cell_type": "markdown",
   "metadata": {},
   "source": [
    "<!-- dom:TITLE: Electric potential -->\n",
    "# Electric potential\n",
    "<!-- dom:AUTHOR: Anders Malthe-Sørenssen Email:malthe@fys.uio.no at Department of Physics, University of Oslo -->\n",
    "<!-- Author: -->  \n",
    "**Anders Malthe-Sørenssen** (email: `malthe@fys.uio.no`), Department of Physics, University of Oslo\n",
    "\n",
    "Date: **Sep 5, 2020**\n",
    "\n",
    "<!-- Common Mako variables and functions -->\n",
    "\n",
    "\n",
    "\n",
    "\n",
    "\n",
    "\n",
    "\n",
    "\n",
    "<!-- ADD SOLUTION APPROACHES -->\n",
    "\n",
    "In this chapter we will introduce the concept of electric (scalar) potential. This is a powerful and important concept in electromagnetism both conceptually and computationally. Here, we will develop the concept in analogy with your intuition from gravitational fields and potential energy. We will define the electric potential and demonstrate how we can find the potential from the electric field and the electric field from the potential. We will introduce the potential from a single charge, from a set of charges and from continuous charge distributions. In many situations, it is easier to calculate the electric potential than the electric field. We will therefore use the potential as a method to find the electric field. We will demonstrate how to find the electric potential numerically, visualize the potential and calculate the corresponding electric field. Hopefully, when you have finished this chapter you will have built an intuition for the electric potential and skills on how to calculate it. And you should be able to use the potential to analyze more complex electrostatic situations.\n",
    "\n",
    "# Motivation for the electric potential\n",
    "\n",
    "You most probably have heard the term potential directly or indirectly. You may know that a battery has a voltage of 1.5 Volts. This term voltage refers to the electric potential between the two poles of the battery. Similarly, you may have heard about high voltage as found in power lines or even more extremely in lightning strikes. (Fig. [fig:potential-motivation-010](#fig:potential-motivation-010). But how does this concept of voltage correspond to the concept of the electric field? We will try to build this intuition here.\n",
    "\n",
    "<!-- dom:FIGURE:[fig-electricpotential/potential-motivation-010.jpg, width=600 frac=1.0] Electric potentials in (a) A 1.5 V battery, (b) a 10 kV power line, (c) a 10 GV lightning strike. <div id=\"fig:potential-motivation-010\"></div> -->\n",
    "<!-- begin figure -->\n",
    "<div id=\"fig:potential-motivation-010\"></div>\n",
    "\n",
    "<p>Electric potentials in (a) A 1.5 V battery, (b) a 10 kV power line, (c) a 10 GV lightning strike.</p>\n",
    "<img src=\"fig-electricpotential/potential-motivation-010.jpg\" width=600>\n",
    "\n",
    "<!-- end figure -->\n",
    "\n",
    "\n",
    "You have developed an intuition for the relation between (conservative) forces and potential energy in mechanics, and the relation between the electric field and the electric potential (the voltage) is similar. Gravity is a conservative force field --- a force acting everywhere in space on masses due to particles with masses. You may recall that for a conservative force the potential energy was defined as"
   ]
  },
  {
   "cell_type": "markdown",
   "metadata": {},
   "source": [
    "<!-- Equation labels as ordinary links -->\n",
    "<div id=\"_auto1\"></div>\n",
    "\n",
    "$$\n",
    "\\begin{equation}\n",
    "U(A) - U(0) = \\int_A^0 \\vec{F} \\cdot \\mathrm{d} \\vec{l}\n",
    "\\label{_auto1} \\tag{1}\n",
    "\\end{equation}\n",
    "$$"
   ]
  },
  {
   "cell_type": "markdown",
   "metadata": {},
   "source": [
    "relative to an (arbitrary) reference point. We can find the potential energy from the force field, and similarly, we recall that $\\vec{F} = - \\nabla U$, so we can find the force field from the potential energy. The potential energy provided us with a different way to reason about the motion of gravitational forces --- a supplement to reasoning with forces which proved useful in many situations.\n",
    "\n",
    "We will build on this intuition when we introduce the electrical potential. We will first demonstrate that electrostatic forces are convervative and use this to introduce a potential for the electric field.\n",
    "\n",
    "\n",
    "## Electric forces are conservative\n",
    "\n",
    "First, let us demonstrate the force from an electric field is conservative --- that is, that the work done by the force does not depend on the path taken. Coloumb's law describes the interactions between two charges: a charge $Q_1$ setting up the field and a charge $q$ moving in the field. Let us place the origin of the coordinate system at $Q_1$. The force on $q$ from the field from $Q_1$ is then:"
   ]
  },
  {
   "cell_type": "markdown",
   "metadata": {},
   "source": [
    "<!-- Equation labels as ordinary links -->\n",
    "<div id=\"_auto2\"></div>\n",
    "\n",
    "$$\n",
    "\\begin{equation}\n",
    "\\vec{F} = q \\vec{E} = q \\frac{Q_1}{4 \\pi \\epsilon_0} \\frac{\\mathbf{\\hat{R}}}{R^2} \\; .\n",
    "\\label{_auto2} \\tag{2}\n",
    "\\end{equation}\n",
    "$$"
   ]
  },
  {
   "cell_type": "markdown",
   "metadata": {},
   "source": [
    "where $\\vec{R} = \\vec{r} - \\vec{r}_1 = \\vec{r}$. The work on a charge $q$ as it moves along a path $C$ from $A$ to $B$ is illustrated in Fig. [fig:potential-conservative-010](#fig:potential-conservative-010) and is defined as:"
   ]
  },
  {
   "cell_type": "markdown",
   "metadata": {},
   "source": [
    "<!-- Equation labels as ordinary links -->\n",
    "<div id=\"_auto3\"></div>\n",
    "\n",
    "$$\n",
    "\\begin{equation}\n",
    "W_{AB} = \\int_A^B \\vec{F} \\cdot \\mathrm{d} \\vec{r} = q \\frac{Q}{4 \\pi \\epsilon_0} \\int_A^B \\frac{\\vec{R} \\cdot \\mathrm{d} \\vec{r}}{R^2} \n",
    "\\label{_auto3} \\tag{3}\n",
    "\\end{equation}\n",
    "$$"
   ]
  },
  {
   "cell_type": "markdown",
   "metadata": {},
   "source": [
    "Let us show that the path does not depend on the path $C$: We approximate the path by dividing it into small pieces that are either long a circular arc with $Q_1$ as its center, or along a radial path directly towards $Q_1$. We have illustrated a few such segments in Fig. [fig:potential-conservative-010](#fig:potential-conservative-010). The total integral is (approximately) the sum of the integrals along these smaller paths.\n",
    "\n",
    "<!-- dom:FIGURE:[fig-electricpotential/potential-conservative-010.png, height=400 width=600 frac=1.0] Illustration of the work done on a charge $q$ as it moves along the path $C$ from $A$ to $B$.  <div id=\"fig:potential-conservative-010\"></div> -->\n",
    "<!-- begin figure -->\n",
    "<div id=\"fig:potential-conservative-010\"></div>\n",
    "\n",
    "<p>Illustration of the work done on a charge $q$ as it moves along the path $C$ from $A$ to $B$.</p>\n",
    "<img src=\"fig-electricpotential/potential-conservative-010.png\" height=400 width=600>\n",
    "\n",
    "<!-- end figure -->\n",
    "\n",
    "\n",
    "Along a **circular segment**, such as the segment from $b$ to $c$, $\\vec{R}$ points radially from $Q$, whereas the direction of the path is along the circle segment, $d \\vec{r} = r \\mathrm{d} \\phi \\mathbf{\\hat{u}}_{\\phi}$, where $\\mathbf{\\hat{u}}_{\\phi}$ is a unit vector along the circular arc. But the circular arc is normal to $\\vec{R}$. Therefore, $\\mathbf{\\hat{R}} \\cdot \\mathrm{d} \\vec{r}$ is zero for this segment. The same is true for all the segments that are along circular paths centered on $Q_1$. These segments will not contribute to the integral.\n",
    "\n",
    "Along a **radial segment**, such as the segment from $a$ to $b$, the displacement $d \\vec{r}$ is along the radius vector $\\vec{R}$. This integral is therefore in the scalar $r$. The same is true for all the segments that are along radial paths centered on $Q_1$. The total integral is therefore\n",
    "<!--  -->"
   ]
  },
  {
   "cell_type": "markdown",
   "metadata": {},
   "source": [
    "<!-- Equation labels as ordinary links -->\n",
    "<div id=\"_auto4\"></div>\n",
    "\n",
    "$$\n",
    "\\begin{equation}\n",
    "W_{AB} = q \\frac{Q}{4\\pi \\epsilon_0} \\int_{r_A}^{r_B} \\frac{\\mathrm{d} r}{r^2} = - q \\frac{Q}{4 \\pi \\epsilon_0} \\left( \\frac{1}{r_B} - \\frac{1}{r_A} \\right) \\; .\n",
    "\\label{_auto4} \\tag{4}\n",
    "\\end{equation}\n",
    "$$"
   ]
  },
  {
   "cell_type": "markdown",
   "metadata": {},
   "source": [
    "<!--  -->\n",
    "This means that work does not depend on the path $C$. We recall from mechanics that we call such a force field a *conservative* force field, and that we can introduce a potential energy for the force field from a single charge as the work needed to move the charge from a point $A$ to a reference point:"
   ]
  },
  {
   "cell_type": "markdown",
   "metadata": {},
   "source": [
    "<!-- Equation labels as ordinary links -->\n",
    "<div id=\"_auto5\"></div>\n",
    "\n",
    "$$\n",
    "\\begin{equation}\n",
    "U_A = W_{A,\\text{ref}} = U(r)\n",
    "\\label{_auto5} \\tag{5}\n",
    "\\end{equation}\n",
    "$$"
   ]
  },
  {
   "cell_type": "markdown",
   "metadata": {},
   "source": [
    "<!--  -->\n",
    "We can use the *superposition principle* to argue that if this is true for a single charge, it must also be true for any charge distribution through the superposition principle: The total work is the sum of the work done by the individual forces $\\vec{F}_i$ from each charge, $Q_i$:"
   ]
  },
  {
   "cell_type": "markdown",
   "metadata": {},
   "source": [
    "$$\n",
    "\\begin{eqnarray}\n",
    "U_A &=& W_{A,ref} = \\int_{A}^{ref} \\left(\\vec{F}_1 + \\vec{F}_2 + \\ldots \\right) \\mathrm{d} \\vec{l} \\\\ \n",
    "&=& \\int_A^{ref} \\vec{F}_1 \\cdot \\mathrm{d} \\vec{l} +  \\int_A^{ref} \\vec{F}_2 \\cdot \\mathrm{d} \\vec{l} + \\ldots \\\\ \n",
    "&=& W_1 + W_2 + \\ldots = U_{A,1} + U_{A,2} + \\ldots\n",
    "\\end{eqnarray}\n",
    "$$"
   ]
  },
  {
   "cell_type": "markdown",
   "metadata": {},
   "source": [
    "This is the potential energy for a test particle with charge $q$. We can rewrite this in terms of the electric field instead, since $\\vec{F} = q \\vec{E}$:"
   ]
  },
  {
   "cell_type": "markdown",
   "metadata": {},
   "source": [
    "<!-- Equation labels as ordinary links -->\n",
    "<div id=\"_auto6\"></div>\n",
    "\n",
    "$$\n",
    "\\begin{equation}\n",
    "U_A = \\int_{A}^{ref} \\vec{F} \\cdot \\mathrm{d} \\vec{l} = q \\int_{A}^{ref} \\vec{E} \\cdot \\mathrm{d} \\vec{l} = q V_A\n",
    "\\label{_auto6} \\tag{6}\n",
    "\\end{equation}\n",
    "$$"
   ]
  },
  {
   "cell_type": "markdown",
   "metadata": {},
   "source": [
    "where we have introduced $V_A$, which we call the electric potential. The electric potential is therefore related to the potential energy, just as the electric field is related to the force: We find the potential energy of a charge by multiplying with the charge.\n",
    "\n",
    "# Properties of the electric potential\n",
    "\n",
    "We define the *electric potential* $V(\\vec{r})$ for an electic field $\\vec{E}(\\vec{r})$ as"
   ]
  },
  {
   "cell_type": "markdown",
   "metadata": {},
   "source": [
    "<!-- Equation labels as ordinary links -->\n",
    "<div id=\"_auto7\"></div>\n",
    "\n",
    "$$\n",
    "\\begin{equation}\n",
    "V(\\vec{r}) = \\int_{\\vec{r}}^{\\text{ref}} \\vec{E} \\cdot \\mathrm{d} \\vec{l} \\; .\n",
    "\\label{_auto7} \\tag{7}\n",
    "\\end{equation}\n",
    "$$"
   ]
  },
  {
   "cell_type": "markdown",
   "metadata": {},
   "source": [
    "where the integral is a line integral along any curve from $\\vec{r}$ to a reference point for which $V=0$. It is common to choose the reference point infintely far away.\n",
    "\n",
    "\n",
    "\n",
    " * *The electric potential integral does not depend on the path, only on the end points*.\n",
    "\n",
    " * *The electric potential obeys the superposition principle*.\n",
    "\n",
    "The electric potential in a point A from a set of charges $Q_i$ is the sum of the electric potential for each of the charges:"
   ]
  },
  {
   "cell_type": "markdown",
   "metadata": {},
   "source": [
    "<!-- Equation labels as ordinary links -->\n",
    "<div id=\"_auto8\"></div>\n",
    "\n",
    "$$\n",
    "\\begin{equation}\n",
    "V_A = V_{A,1} + V_{A,2} \\ldots = \\sum_i V_{A,i} \n",
    "\\label{_auto8} \\tag{8}\n",
    "\\end{equation}\n",
    "$$"
   ]
  },
  {
   "cell_type": "markdown",
   "metadata": {},
   "source": [
    "* *The scalar potential is measured in joule/coulomb which is called Volt, V*.\n",
    "\n",
    "The unit of the electric field is then V/m, volt per meter.\n",
    "\n",
    " * *The integral around a closed path is zero*.\n",
    "\n",
    "Because the integral $W_{AB}/q = \\int_C \\vec{E} \\cdot \\mathrm{d} \\vec{l}$ is the same for all paths $C$ from $A$ to $B$, the integral for any closed loop is zero. Why? As illustrated in Fig. [fig:potential-conservative-020](#fig:potential-conservative-020) we can always divide a closed path into two paths, one from A to B and one from B to A. The total integral along the path is the sum of these two integrals:"
   ]
  },
  {
   "cell_type": "markdown",
   "metadata": {},
   "source": [
    "<!-- Equation labels as ordinary links -->\n",
    "<div id=\"_auto9\"></div>\n",
    "\n",
    "$$\n",
    "\\begin{equation}\n",
    "\\oint_C \\vec{E} \\cdot d \\vec{l} = \\int_{C_1} \\vec{E} \\cdot \\mathrm{d} \\vec{l} + \\int_{C_2} \\vec{E}\\cdot \\mathrm{d} \\vec{l} = 0  \\; ,\n",
    "\\label{_auto9} \\tag{9}\n",
    "\\end{equation}\n",
    "$$"
   ]
  },
  {
   "cell_type": "markdown",
   "metadata": {},
   "source": [
    "where the second integral is the negative of the first because it goes in the opposite direction. Thus the total integral around a closed loop is zero.\n",
    "\n",
    "<!-- dom:FIGURE:[fig-electricpotential/potential-conservative-020.png, height=400 width=600 frac=1.0] (a) Illustration of how a closed loop can be divided into two curves $C_1$ from $A$ to $B$ and $C_2$ from $B$ to $A$. (b) Illustration of a closed curve $C$ and a corresponding surface $S$ enclosed by $C$. (c) A circuit with three points $A$, $B$ and $C$. <div id=\"fig:potential-conservative-020\"></div> -->\n",
    "<!-- begin figure -->\n",
    "<div id=\"fig:potential-conservative-020\"></div>\n",
    "\n",
    "<p>(a) Illustration of how a closed loop can be divided into two curves $C_1$ from $A$ to $B$ and $C_2$ from $B$ to $A$. (b) Illustration of a closed curve $C$ and a corresponding surface $S$ enclosed by $C$. (c) A circuit with three points $A$, $B$ and $C$.</p>\n",
    "<img src=\"fig-electricpotential/potential-conservative-020.png\" height=400 width=600>\n",
    "\n",
    "<!-- end figure -->\n",
    "\n",
    "\n",
    " * *The curl of $\\vec{E}$ is zero*.\n",
    "\n",
    "Because the integral around any closed path is zero, we can apply Stoke's theorem:"
   ]
  },
  {
   "cell_type": "markdown",
   "metadata": {},
   "source": [
    "<!-- Equation labels as ordinary links -->\n",
    "<div id=\"_auto10\"></div>\n",
    "\n",
    "$$\n",
    "\\begin{equation}\n",
    "\\oint_C \\vec{E} \\cdot d \\vec{l} = \\iint_S \\nabla \\times  \\vec{E} \\,  d S = 0 \\; ,\n",
    "\\label{_auto10} \\tag{10}\n",
    "\\end{equation}\n",
    "$$"
   ]
  },
  {
   "cell_type": "markdown",
   "metadata": {},
   "source": [
    "where $S$ is a surface enclosed by the closed curve $C$ as illustrated in Fig. [fig:potential-conservative-020](#fig:potential-conservative-020). Since this is true for any surface (and any corresponding closed curve), we find that"
   ]
  },
  {
   "cell_type": "markdown",
   "metadata": {},
   "source": [
    "<!-- Equation labels as ordinary links -->\n",
    "<div id=\"_auto11\"></div>\n",
    "\n",
    "$$\n",
    "\\begin{equation}\n",
    "\\boxed{ \\nabla \\times \\vec{E} = 0 }\n",
    "\\label{_auto11} \\tag{11}\n",
    "\\end{equation}\n",
    "$$"
   ]
  },
  {
   "cell_type": "markdown",
   "metadata": {},
   "source": [
    "This is true for **static** fields. We will later find modifications to this for time-varying fields.\n",
    "\n",
    " * *The electric potential is only defined relative to a reference point*.\n",
    "\n",
    "For finite charge distributions it is common to choose the reference point to be at infinity. The difference in potential, $V_{AB}$, between two points A and B does not depend on the reference point:"
   ]
  },
  {
   "cell_type": "markdown",
   "metadata": {},
   "source": [
    "$$\n",
    "\\begin{eqnarray}\n",
    "V_{AB} &=& V_A - V_B = \\int_A^{\\text{ref}} \\vec{E} \\cdot \\mathrm{d} \\vec{l} - \\int_B^{\\text{ref}} \\vec{E} \\cdot \\mathrm{d} \\vec{l} \\\\ \n",
    "&=& \\int_A^{\\text{ref}} \\vec{E} \\cdot \\mathrm{d} \\vec{l} + \\int_{\\text{ref}}^B \\vec{E} \\cdot \\mathrm{d} \\vec{l} \\\\ \n",
    "&=& \\int_A^B \\vec{E} \\cdot \\mathrm{d} \\vec{l} \\; .\n",
    "\\end{eqnarray}\n",
    "$$"
   ]
  },
  {
   "cell_type": "markdown",
   "metadata": {},
   "source": [
    "* *The electric potential obeys Kirchoff's law of voltages: The sum of potential differences along a closed loop (such as a circuit) is zero*.\n",
    "\n",
    "This is a consequence of the path integral of the electric field around a closed path being zero:"
   ]
  },
  {
   "cell_type": "markdown",
   "metadata": {},
   "source": [
    "<!-- Equation labels as ordinary links -->\n",
    "<div id=\"_auto12\"></div>\n",
    "\n",
    "$$\n",
    "\\begin{equation}\n",
    "V_{AB} + V_{BC} + V_{CA} = \\oint \\vec{E} \\cdot d \\vec{l} = \\int_A^B \\vec{E} \\cdot \\mathrm{d} \\vec{l} + \\int_B^C \\vec{E} \\cdot \\mathrm{d} \\vec{l} + \\int_C^A \\vec{E} \\cdot \\mathrm{d} \\vec{l} = 0\n",
    "\\label{_auto12} \\tag{12}\n",
    "\\end{equation}\n",
    "$$"
   ]
  },
  {
   "cell_type": "markdown",
   "metadata": {},
   "source": [
    "# Electric potentials from charge distributions\n",
    "\n",
    "Let us now see how to find the electric potential $V(\\vec{r})$ at a position $\\vec{r}$ due to various charge distributions: a single charge; a set of charge; and charge densities for lines, surfaces and volumes.\n",
    "\n",
    "## Example: Single charge $Q$ at the origin\n",
    "\n",
    "We find the electric potential by applying the definition. We choose the reference point to be at infinity:"
   ]
  },
  {
   "cell_type": "markdown",
   "metadata": {},
   "source": [
    "<!-- Equation labels as ordinary links -->\n",
    "<div id=\"_auto13\"></div>\n",
    "\n",
    "$$\n",
    "\\begin{equation}\n",
    "V_A = \\int_A^{\\infty} \\vec{E} \\cdot \\mathrm{d} \\vec{r} \\; .\n",
    "\\label{_auto13} \\tag{13}\n",
    "\\end{equation}\n",
    "$$"
   ]
  },
  {
   "cell_type": "markdown",
   "metadata": {},
   "source": [
    "For a single charge $Q$ at the origin, the electric field is:"
   ]
  },
  {
   "cell_type": "markdown",
   "metadata": {},
   "source": [
    "<!-- Equation labels as ordinary links -->\n",
    "<div id=\"_auto14\"></div>\n",
    "\n",
    "$$\n",
    "\\begin{equation}\n",
    "\\vec{E} = \\frac{Q}{4 \\pi \\epsilon_0} \\frac{\\vec{r}}{r^3} \\; ,\n",
    "\\label{_auto14} \\tag{14}\n",
    "\\end{equation}\n",
    "$$"
   ]
  },
  {
   "cell_type": "markdown",
   "metadata": {},
   "source": [
    "which gives"
   ]
  },
  {
   "cell_type": "markdown",
   "metadata": {},
   "source": [
    "<!-- Equation labels as ordinary links -->\n",
    "<div id=\"_auto15\"></div>\n",
    "\n",
    "$$\n",
    "\\begin{equation}\n",
    "V(\\vec{r}) = \\int_{\\vec{r}}^{\\infty} \\frac{Q}{4 \\pi \\epsilon_0} \\frac{\\vec{r} \\cdot \\mathrm{d} \\vec{r}}{r^3} = \\int_r^{\\infty} \\frac{Q}{4 \\pi \\epsilon_0} \\frac{\\mathrm{d} r}{r^2} = \\frac{Q}{4 \\pi \\epsilon_0 r} \\; .\n",
    "\\label{_auto15} \\tag{15}\n",
    "\\end{equation}\n",
    "$$"
   ]
  },
  {
   "cell_type": "markdown",
   "metadata": {},
   "source": [
    "Here, we have used that $\\vec{r} \\cdot d \\vec{r} = r \\, dr$. This result demonstrates that the electric potential decays as $1/r$, while the electric field decays as $1/r^2$ --- as we would guess because the potential is the integral of the field. This is useful rule of thumb that can be extended also to e.g. dipoles where the field decays at $1/r^3$, while the potential decays as $1/r^2$.\n",
    "\n",
    "## Example: Single charge $Q$ at $\\vec{r}_1$\n",
    "\n",
    "How does this result change if the charge $Q_1$ is in the position $\\vec{r}_1$ instead? We introduce a new coordinate system $\\vec{r}' = \\vec{r} - \\vec{r}_1$. In this coordinate system, the charge is in the origin, hence the potential is"
   ]
  },
  {
   "cell_type": "markdown",
   "metadata": {},
   "source": [
    "<!-- Equation labels as ordinary links -->\n",
    "<div id=\"_auto16\"></div>\n",
    "\n",
    "$$\n",
    "\\begin{equation}\n",
    "V(r') = \\frac{Q_1}{4 \\pi \\epsilon_0 r'} \\; ,\n",
    "\\label{_auto16} \\tag{16}\n",
    "\\end{equation}\n",
    "$$"
   ]
  },
  {
   "cell_type": "markdown",
   "metadata": {},
   "source": [
    "and we insert $\\vec{r}' = \\vec{r} - \\vec{r}_1$, getting"
   ]
  },
  {
   "cell_type": "markdown",
   "metadata": {},
   "source": [
    "<!-- Equation labels as ordinary links -->\n",
    "<div id=\"_auto17\"></div>\n",
    "\n",
    "$$\n",
    "\\begin{equation}\n",
    "V(r) = \\frac{Q_1}{4 \\pi \\epsilon_0 |\\vec{r} - \\vec{r}_1| } \\; .\n",
    "\\label{_auto17} \\tag{17}\n",
    "\\end{equation}\n",
    "$$"
   ]
  },
  {
   "cell_type": "markdown",
   "metadata": {},
   "source": [
    "## Example: A set of charges $Q_i$ at $\\vec{r}_i$\n",
    "\n",
    "For a set of charges we can use the superposition principle for the electric potential. The total potential is therefore"
   ]
  },
  {
   "cell_type": "markdown",
   "metadata": {},
   "source": [
    "<!-- Equation labels as ordinary links -->\n",
    "<div id=\"_auto18\"></div>\n",
    "\n",
    "$$\n",
    "\\begin{equation}\n",
    "V = \\sum_i V_i = \\sum_i \\frac{Q_i}{4 \\pi \\epsilon_0 R_i} \\; ,\n",
    "\\label{_auto18} \\tag{18}\n",
    "\\end{equation}\n",
    "$$"
   ]
  },
  {
   "cell_type": "markdown",
   "metadata": {},
   "source": [
    "where $\\vec{R}_i = \\vec{r} - \\vec{r}_i$. As a function of $\\vec{r}$ we get:"
   ]
  },
  {
   "cell_type": "markdown",
   "metadata": {},
   "source": [
    "<!-- Equation labels as ordinary links -->\n",
    "<div id=\"_auto19\"></div>\n",
    "\n",
    "$$\n",
    "\\begin{equation}\n",
    "V(\\vec{r}) = \\sum_i \\frac{Q_i}{4 \\pi \\epsilon_0 |\\vec{r} - \\vec{r}_i| }\\; .\n",
    "\\label{_auto19} \\tag{19}\n",
    "\\end{equation}\n",
    "$$"
   ]
  },
  {
   "cell_type": "markdown",
   "metadata": {},
   "source": [
    "## Example: Continuous charge distibutions\n",
    "\n",
    "We can extend this also to a continuous distribution of charges:\n",
    "\n",
    "For a *volume charge density* $\\rho$, we get:"
   ]
  },
  {
   "cell_type": "markdown",
   "metadata": {},
   "source": [
    "<!-- Equation labels as ordinary links -->\n",
    "<div id=\"_auto20\"></div>\n",
    "\n",
    "$$\n",
    "\\begin{equation}\n",
    "V(\\vec{r}) = \\int_v \\frac{\\rho \\, \\mathrm{d} v}{4 \\pi \\epsilon_0 R} \\; ,\n",
    "\\label{_auto20} \\tag{20}\n",
    "\\end{equation}\n",
    "$$"
   ]
  },
  {
   "cell_type": "markdown",
   "metadata": {},
   "source": [
    "where $R$ is the distance from the point $\\vec{r}$ to the volume element $dv$.\n",
    "\n",
    "For a *surface charge density* $\\rho_A$, we get:"
   ]
  },
  {
   "cell_type": "markdown",
   "metadata": {},
   "source": [
    "<!-- Equation labels as ordinary links -->\n",
    "<div id=\"_auto21\"></div>\n",
    "\n",
    "$$\n",
    "\\begin{equation}\n",
    "V(\\vec{r}) = \\int_S \\frac{\\rho_A \\,  \\mathrm{d} S}{4 \\pi \\epsilon_0 R} \\; ,\n",
    "\\label{_auto21} \\tag{21}\n",
    "\\end{equation}\n",
    "$$"
   ]
  },
  {
   "cell_type": "markdown",
   "metadata": {},
   "source": [
    "where $R$ is the distance from the point $\\vec{r}$ to the surface element $dS$.\n",
    "\n",
    "For a *line charge density* $\\rho_l$, we get:"
   ]
  },
  {
   "cell_type": "markdown",
   "metadata": {},
   "source": [
    "<!-- Equation labels as ordinary links -->\n",
    "<div id=\"_auto22\"></div>\n",
    "\n",
    "$$\n",
    "\\begin{equation}\n",
    "V(\\vec{r}) = \\int_C \\frac{\\rho_l\\,  \\mathrm{d} l}{4 \\pi \\epsilon_0 R} \\; ,\n",
    "\\label{_auto22} \\tag{22}\n",
    "\\end{equation}\n",
    "$$"
   ]
  },
  {
   "cell_type": "markdown",
   "metadata": {},
   "source": [
    "where $R$ is the distance from the point $\\vec{r}$ to the line element $dl$.\n",
    "\n",
    "# Relation between electric potential and electric field\n",
    "\n",
    "You may recall from mechanics that there is a relationship between the force $\\vec{F}$ and the potential energy: $\\vec{F} = - \\nabla U$. This relation transfers directly to the electric potential:"
   ]
  },
  {
   "cell_type": "markdown",
   "metadata": {},
   "source": [
    "$$\n",
    "\\begin{eqnarray}\n",
    "\\vec{E} &=& \\frac{\\vec{F}}{q} = -\\frac{1}{q} \\nabla U = - \\nabla \\left( \\frac{U}{q} \\right) \\\\ \n",
    "&=& - \\nabla V = \\left( -\\frac{\\partial V}{\\partial x}, -\\frac{\\partial V}{\\partial x}, -\\frac{\\partial V}{\\partial x} \\right) \\; .\n",
    "\\end{eqnarray}\n",
    "$$"
   ]
  },
  {
   "cell_type": "markdown",
   "metadata": {},
   "source": [
    "**Relation between the electric field and the electric potential.**\n",
    "\n",
    "The electric potential $V(\\vec{r})$ can be found from the electric field $\\vec{E}$ by:"
   ]
  },
  {
   "cell_type": "markdown",
   "metadata": {},
   "source": [
    "<!-- Equation labels as ordinary links -->\n",
    "<div id=\"_auto23\"></div>\n",
    "\n",
    "$$\n",
    "\\begin{equation}\n",
    "V(\\vec{r}) = \\int_r^{\\text{ref}} \\vec{E} \\cdot \\mathrm{d} \\vec{l} \\; ,\n",
    "\\label{_auto23} \\tag{23}\n",
    "\\end{equation}\n",
    "$$"
   ]
  },
  {
   "cell_type": "markdown",
   "metadata": {},
   "source": [
    "and the electric field $\\vec{E}(\\vec{r})$ can be found from the electric potential $V({\\vec{r}})$ by:"
   ]
  },
  {
   "cell_type": "markdown",
   "metadata": {},
   "source": [
    "<!-- Equation labels as ordinary links -->\n",
    "<div id=\"_auto24\"></div>\n",
    "\n",
    "$$\n",
    "\\begin{equation}\n",
    "\\vec{E} = - \\nabla V \\; .\n",
    "\\label{_auto24} \\tag{24}\n",
    "\\end{equation}\n",
    "$$"
   ]
  },
  {
   "cell_type": "markdown",
   "metadata": {},
   "source": [
    "Notice that in order to find the electric field from the potential, we need to know not only the electric potential in a single point. We must know how the potential varies around that point because the field depends on the (spatial) derivatives of the electric potential. Similarly, in order to find the electric potential from the field, we need to know not only the electric field in a single point or in a few points. We must know the how the electric field varies in space in order to calculate the path integral to determine the potential.\n",
    "\n",
    "### The compactness of the electric potential\n",
    "\n",
    "It may be surprising that the electric field, which is a vector field with three components $E_x, E_y, E_z$, can be represented by the scalar electric potential, $V(x,y,z)$. This is because there are additional conditions for the electric field: It must also satisfy the condition that $\\nabla \\times \\vec{E} = 0$, which essentially brings three additional differential equations for the electric field. Notice also that because the electric field can be written as the gradient of the potential, the curl of the electric field is necessarily zero, because the curl of a gradient is identially zero: $\\nabla \\times ( \\nabla V) = 0$. \n",
    "\n",
    "### Proof of the relation between field and potential\n",
    "\n",
    "If we look at the potential difference between $A$ and a point $B$ which is an infinitesimal displacement $(dx,dy,dz)$ away, we get:"
   ]
  },
  {
   "cell_type": "markdown",
   "metadata": {},
   "source": [
    "$$\n",
    "\\begin{eqnarray}\n",
    "dV &=&\\frac{\\partial V}{\\partial x}dx + \\frac{\\partial V}{\\partial y}dy + \\frac{\\partial V}{\\partial z}dz = V_B - V_A \\\\ \n",
    "&=& -\\int_A^B \\vec{E} \\cdot \\mathrm{d} \\vec{l} = - \\left( E_x \\mathrm{d} x + E_y \\mathrm{d} y + E_z \\mathrm{d} z \\right) \\; ,\n",
    "\\end{eqnarray}\n",
    "$$"
   ]
  },
  {
   "cell_type": "markdown",
   "metadata": {},
   "source": [
    "Since this is valid for any choise of $dx$, $dy$, and $dz$, we get that"
   ]
  },
  {
   "cell_type": "markdown",
   "metadata": {},
   "source": [
    "<!-- Equation labels as ordinary links -->\n",
    "<div id=\"_auto25\"></div>\n",
    "\n",
    "$$\n",
    "\\begin{equation}\n",
    "E_x = -\\frac{\\partial V}{\\partial x} \\, , \\, E_y = -\\frac{\\partial V}{\\partial y}\n",
    "\\, , \\, E_z = -\\frac{\\partial V}{\\partial z}\n",
    " \\; .\n",
    "\\label{_auto25} \\tag{25}\n",
    "\\end{equation}\n",
    "$$"
   ]
  },
  {
   "cell_type": "markdown",
   "metadata": {},
   "source": [
    "**Method for finding the electric potential.**\n",
    "\n",
    "\n",
    "There is a robust method to find the electric potential $V(\\vec{r})$ from a discrete or continuous charge distribution. Given the charges and their positions, we find the potential using the following procedure:\n",
    "\n",
    " * Model the problem: Choose a coordinate system to describe the system that reflects the symmetries of the system.\n",
    "\n",
    "**Discrete charges**:\n",
    " * Find the distance $R_i$ from the observation point $\\vec{r}$ to charge $Q_i$ at at $\\vec{r}_i$: $\\vec{R}_ = \\vec{r} - \\vec{r}_i$ for each charge.\n",
    "\n",
    " * Sum the contributions from all charges $Q_i$:"
   ]
  },
  {
   "cell_type": "markdown",
   "metadata": {},
   "source": [
    "<!-- Equation labels as ordinary links -->\n",
    "<div id=\"_auto26\"></div>\n",
    "\n",
    "$$\n",
    "\\begin{equation}\n",
    "V(\\vec{r}) = \\sum_i \\frac{Q_i}{4 \\pi \\epsilon_0 |\\vec{r} - \\vec{r}_|} \\; .\n",
    "\\label{_auto26} \\tag{26}\n",
    "\\end{equation}\n",
    "$$"
   ]
  },
  {
   "cell_type": "markdown",
   "metadata": {},
   "source": [
    "**Continous charges:**\n",
    " * Describe a small element $dq$ at a position $\\vec{r}'$. Relate $dq$ to a volume; surface; line element $\\mathrm{d} q = \\rho \\mathrm{d} V'$; $\\rho_s \\mathrm{d} S'$; $\\rho_l \\mathrm{d} l'$.\n",
    "\n",
    " * Find the distance $R$ from the observation point $\\vec{r}$ to the small element at $\\vec{r}'$: $\\vec{R} = \\vec{r} - \\vec{r}'$.\n",
    "\n",
    " * Integrate over all $\\vec{r}'$ that make up the body of interest analytically or numerically. Remember that the integration variable is $\\vec{r}'$ and not $\\vec{r}$! For a volume charge density this is:"
   ]
  },
  {
   "cell_type": "markdown",
   "metadata": {},
   "source": [
    "<!-- Equation labels as ordinary links -->\n",
    "<div id=\"_auto27\"></div>\n",
    "\n",
    "$$\n",
    "\\begin{equation}\n",
    "V(\\vec{r}) = \\int_v \\frac{\\rho \\mathrm{d} V'}{4 \\pi \\epsilon_0 |\\vec{r}- \\vec{r}'|} \\; .\n",
    "\\label{_auto27} \\tag{27}\n",
    "\\end{equation}\n",
    "$$"
   ]
  },
  {
   "cell_type": "markdown",
   "metadata": {},
   "source": [
    "# Applications of the electric potential\n",
    "\n",
    "This relationship between the electric potential and the eletric field opens for a new way to calculate the electric field: First we find the electric potential, and then we find the field from the potential. In many cases, it is mathematically simpler to find the potential that to find the field. This approach may also be used numerically.\n",
    "\n",
    "## Interpreting the electric potential\n",
    "\n",
    "### A linear potential\n",
    "\n",
    "Fig. [fig:potential-equipotential-015](#fig:potential-equipotential-015) illustrates the electric potential $V$ for three different cases. In Fig. [fig:potential-equipotential-015](#fig:potential-equipotential-015)a the electric potential decreases linearly from a high potential at $x=0$ to a lower potential at $x=L$. How can we use the potential to gain insight into the electric field? We know that the electric field is given at $E_x = - \\partial V/\\partial x$ in the one-dimensional case. The electric field therefore points from a high potential toward lower potentials. In Fig. [fig:potential-equipotential-015](#fig:potential-equipotential-015)a the electric field points to the right as illustrated by the arrow. The field is proportional to the slope of the potential. Here, the slope is constant, which means that the electric field is uniform. The electric field tells us what direction a force on a positive charge acts. Positive charges will therefore move from high to low potential. Negative charges will move from low to high potential.\n",
    "\n",
    "<!-- dom:FIGURE:[fig-electricpotential/potential-equipotential-015.png, width=600 frac=0.95] Illustration of equipotential surfaces and the eletric field for a linear potential (a), a one-dimensional potential (b), and a two-dimensional potential (c). <div id=\"fig:potential-equipotential-015\"></div> -->\n",
    "<!-- begin figure -->\n",
    "<div id=\"fig:potential-equipotential-015\"></div>\n",
    "\n",
    "<p>Illustration of equipotential surfaces and the eletric field for a linear potential (a), a one-dimensional potential (b), and a two-dimensional potential (c).</p>\n",
    "<img src=\"fig-electricpotential/potential-equipotential-015.png\" width=600>\n",
    "\n",
    "<!-- end figure -->\n",
    "\n",
    "\n",
    "### One-dimensional potential\n",
    "\n",
    "Fig. [fig:potential-equipotential-015](#fig:potential-equipotential-015)b illustrates a more complicated one-dimensional electric potential. The electric field points in the direction the field is decreasing and its magnitude is illustrated by the length of the arrows.\n",
    "\n",
    "### Two-dimensional potential\n",
    "\n",
    "Fig. [fig:potential-equipotential-015](#fig:potential-equipotential-015)c illustrates a two-dimensional electric potential illustrated by its *equipotential surfaces*. An *equipotential surface* is a surface where the potential is a constant: $V = \\text{const.}$. The gradient is normal to the equipotential surface and points in the direction that $V$ increases the fastest. Since $\\vec{E} = - \\nabla V$, we see that the electric field is normal to the equipotential surface and points in the direction that $V$ decreases the fastest. The electric field points from high potential values towards lower potential values.  Fig. [fig:potential-equipotential-015](#fig:potential-equipotential-015)c illustrates the equipotential curves for a two-dimensional electric field. How can you see from the equipotential curves where the gradient is steep? This is seen by regions where the equipotential surfaces are close: The gradient and hence the electric field has a larger magnitude along the $y$-axis than along the $x$-axis because the distance between the equipotential lines (surfaces) are longer along the $x$-axis that along the $y$-axis. In the following examples, we will calculate the electric potential and use equipotential curves and surfaces to visualize the potential.\n",
    "\n",
    "\n",
    "## Example: Dipole\n",
    "\n",
    "### The electric potential from a dipole\n",
    "\n",
    "*Find the electric potential from a dipole consisting of a charge $Q$ at $y=a$ and a charge $-Q$ at $y = -a$.*\n",
    "\n",
    "\n",
    "The system is illustrated in Fig. [fig:potential-dipole-010](#fig:potential-dipole-010). We find the potential using the superposition principle, adding the contributions from the two charges. We want to find the potential in the point $\\vec{r}$. The two charges are at $\\vec{r}_1 = a \\mathbf{\\hat{y}} $ and $\\vec{r}_2 = -a \\mathbf{\\hat{y}}$. The total potential is"
   ]
  },
  {
   "cell_type": "markdown",
   "metadata": {},
   "source": [
    "<!-- Equation labels as ordinary links -->\n",
    "<div id=\"_auto28\"></div>\n",
    "\n",
    "$$\n",
    "\\begin{equation}\n",
    "V = V_1 + V_2 = \\frac{Q}{4 \\pi \\epsilon_0 R_1} + \\frac{-Q}{4 \\pi \\epsilon_0 R_2} \\; ,\n",
    "\\label{_auto28} \\tag{28}\n",
    "\\end{equation}\n",
    "$$"
   ]
  },
  {
   "cell_type": "markdown",
   "metadata": {},
   "source": [
    "where $\\vec{R}_1 = \\vec{r} - \\vec{r}_1$ and $\\vec{R}_2 = \\vec{r} - \\vec{r}_2$.\n",
    "\n",
    "<!-- dom:FIGURE:[fig-electricpotential/potential-dipole-010.png, height=400 width=600 frac=1.0] Illustration of dipole.  <div id=\"fig:potential-dipole-010\"></div> -->\n",
    "<!-- begin figure -->\n",
    "<div id=\"fig:potential-dipole-010\"></div>\n",
    "\n",
    "<p>Illustration of dipole.</p>\n",
    "<img src=\"fig-electricpotential/potential-dipole-010.png\" height=400 width=600>\n",
    "\n",
    "<!-- end figure -->\n",
    "\n",
    "\n",
    "### Electric potential for $r \\gg a$\n",
    "\n",
    "*Find an approximation for the electric field at $\\vec{r}$ when $r \\gg a$.*\n",
    "\n",
    "It is not immediately obvious how we should approximate the potential for large $r$. We need to know a *trick*. I do not expect you to discover such a trick by yourself, but when you have seen it here, you may be able to use such a trick in another situation.\n",
    "\n",
    "The trick is to rewrite the two length $R_1$ and $R_2$ using the angle $\\theta$ from the axis of the dipole to the point $\\vec{r}$. When $r \\gg a$ we can assume that the triangles in the figure are approximately normal. We see from Fig. [fig:potential-dipole-010](#fig:potential-dipole-010) that $R_1 = r - a \\cos \\theta$ and $R_2 = r + a\\cos \\theta$.\n",
    "\n",
    "We can rewrite the potential as"
   ]
  },
  {
   "cell_type": "markdown",
   "metadata": {},
   "source": [
    "<!-- Equation labels as ordinary links -->\n",
    "<div id=\"_auto29\"></div>\n",
    "\n",
    "$$\n",
    "\\begin{equation}\n",
    "V =\\frac{Q}{4 \\pi \\epsilon_0 R_1} + \\frac{-Q}{4 \\pi \\epsilon_0 R_2} = \\frac{Q}{4 \\pi \\epsilon_0} \\left( \\frac{R_2 - R_1}{R_1 R_2} \\right) \\; .\n",
    "\\label{_auto29} \\tag{29}\n",
    "\\end{equation}\n",
    "$$"
   ]
  },
  {
   "cell_type": "markdown",
   "metadata": {},
   "source": [
    "We insert the expressions for $R_1$ and $R_2$ and also approximate $R_1 R_2 = r^2 - a^2 \\cos^2 \\theta \\simeq r^2$ (when $r \\gg a$), getting"
   ]
  },
  {
   "cell_type": "markdown",
   "metadata": {},
   "source": [
    "<!-- Equation labels as ordinary links -->\n",
    "<div id=\"_auto30\"></div>\n",
    "\n",
    "$$\n",
    "\\begin{equation}\n",
    "V = \\frac{Q}{4 \\pi \\epsilon_0} \\left( \\frac{R_2 - R_1}{R_1 R_2} \\right) \\simeq \\frac{Q}{4 \\pi \\epsilon_0} \\left( \\frac{2 a \\cos \\theta}{r^2} \\right) \\; .\n",
    "\\label{_auto30} \\tag{30}\n",
    "\\end{equation}\n",
    "$$"
   ]
  },
  {
   "cell_type": "markdown",
   "metadata": {},
   "source": [
    "(Notice that the dipole decays as $r^{-2}$, whereas a single charge decays as $r^{-1}$.)\n",
    "\n",
    "Again, we introduce a *trick* to rewrite the $\\cos \\theta$ expression as $2Q a \\cos \\theta = 2Q a \\mathbf{\\hat{y}}  \\cdot \\mathbf{\\hat{r}}$. Therefore, we can introduce the quantity $\\vec{p} = Q 2a \\mathbf{\\hat{y}}$, which we call the *dipole moment*, so that the electric potential becomes:"
   ]
  },
  {
   "cell_type": "markdown",
   "metadata": {},
   "source": [
    "$$\n",
    "\\begin{equation}\n",
    "V(\\vec{r}) = \\frac{\\vec{p} \\cdot \\vec{r}}{4 \\pi \\epsilon_0 r^3} \n",
    "\\label{}\n",
    "\\end{equation}\n",
    "$$"
   ]
  },
  {
   "cell_type": "markdown",
   "metadata": {},
   "source": [
    "### Visualization of the dipole potential\n",
    "\n",
    "We visualize the potential using the same approach as for the electric field. First, we introduce a function to find the potential in a point $\\vec{r}$ from a set of charges $Q_i$ at positions $\\vec{r}_i$. We know that the potential from this charge is"
   ]
  },
  {
   "cell_type": "markdown",
   "metadata": {},
   "source": [
    "<!-- Equation labels as ordinary links -->\n",
    "<div id=\"_auto31\"></div>\n",
    "\n",
    "$$\n",
    "\\begin{equation}\n",
    "V(\\vec{r}) = \\sum_i \\frac{Q_i}{4 \\pi \\epsilon_0 R_i} \\; ,\n",
    "\\label{_auto31} \\tag{31}\n",
    "\\end{equation}\n",
    "$$"
   ]
  },
  {
   "cell_type": "markdown",
   "metadata": {},
   "source": [
    "where $\\vec{R}_i = \\vec{r} - \\vec{r}_i$. We calculate this directly in Python:"
   ]
  },
  {
   "cell_type": "code",
   "execution_count": 1,
   "metadata": {
    "collapsed": false
   },
   "outputs": [],
   "source": [
    "%matplotlib inline\n",
    "\n",
    "import numpy as np\n",
    "import matplotlib.pyplot as plt\n",
    "\n",
    "def epotlist(r,Q,R):\n",
    "    # Find V*4*pi*epsilon0 at r from a charges Q at positions R\n",
    "    V = 0\n",
    "    for i in range(len(R)):\n",
    "        Ri = r - R[i]\n",
    "        qi = Q[i]\n",
    "        Rinorm = np.linalg.norm(Ri)\n",
    "        V = V + qi/Rinorm\n",
    "    return V"
   ]
  },
  {
   "cell_type": "markdown",
   "metadata": {},
   "source": [
    "We set up the charges for the dipole:"
   ]
  },
  {
   "cell_type": "code",
   "execution_count": 2,
   "metadata": {
    "collapsed": false
   },
   "outputs": [],
   "source": [
    "# Setup charges\n",
    "R = []\n",
    "Q = []\n",
    "r0 = np.array([1,0])\n",
    "q0 = 1\n",
    "R.append(r0)\n",
    "Q.append(q0)\n",
    "r0 = np.array([-1,0])\n",
    "q0 = -1\n",
    "R.append(r0)\n",
    "Q.append(q0)"
   ]
  },
  {
   "cell_type": "markdown",
   "metadata": {},
   "source": [
    "Then we construct a lattice of $\\vec{r}_j$-values and calculate the value $V_j = V(\\vec{r}_j)$ for each position on the lattice:"
   ]
  },
  {
   "cell_type": "code",
   "execution_count": 3,
   "metadata": {
    "collapsed": false
   },
   "outputs": [],
   "source": [
    "Lx = 3\n",
    "Ly = 3\n",
    "N = 21\n",
    "x = np.linspace(-Lx,Lx,N)\n",
    "y = np.linspace(-Ly,Ly,N)\n",
    "rx,ry = np.meshgrid(x,y)\n",
    "# Set up electric potential\n",
    "V = np.zeros((N,N),float)\n",
    "# Calculate the potential\n",
    "for i in range(len(rx.flat)):\n",
    "    r = np.array([rx.flat[i],ry.flat[i]])\n",
    "    V.flat[i] = epotlist(r,Q,R)"
   ]
  },
  {
   "cell_type": "markdown",
   "metadata": {},
   "source": [
    "Finally, we visualize the resulting potential as a two-dimensional image:"
   ]
  },
  {
   "cell_type": "code",
   "execution_count": 4,
   "metadata": {
    "collapsed": false
   },
   "outputs": [],
   "source": [
    "plt.figure(figsize=(8,8))\n",
    "plt.contour(rx,ry,V,200)\n",
    "plt.colorbar()\n",
    "plt.axis('equal')"
   ]
  },
  {
   "cell_type": "markdown",
   "metadata": {},
   "source": [
    "<!--  -->\n",
    "The resulting plot is show in Fig. [fig:potential-dipole-num-010](#fig:potential-dipole-num-010).\n",
    "\n",
    "<!-- dom:FIGURE:[fig-electricpotential/potential-dipole-num-010.png, height=400 width=600 frac=0.6] Plot of the equipotential surfaces for a dipole. <div id=\"fig:potential-dipole-num-010\"></div> -->\n",
    "<!-- begin figure -->\n",
    "<div id=\"fig:potential-dipole-num-010\"></div>\n",
    "\n",
    "<p>Plot of the equipotential surfaces for a dipole.</p>\n",
    "<img src=\"fig-electricpotential/potential-dipole-num-010.png\" height=400 width=600>\n",
    "\n",
    "<!-- end figure -->\n",
    "\n",
    "\n",
    "### Numerical calculation of the field from the potential for a dipole\n",
    "\n",
    "Based on these results, we want to estimate the electric field using $\\vec{E} = -\\nabla V$. The gradient operator, $\\nabla$, is provided in Python. We can therefore find the gradient directly, using `gradient`, but we must now remember that in Python the first coordinate in a matix refers to the $y$-position, and the second coordinate refers to the $x$-position, whereas we usually use the opposite order in Cartesian coordinates ($x$ first and then $y$, $(x,y)$ ). We must therefore remember to collect `Ex,Ey` in reverse order from the gradient function:"
   ]
  },
  {
   "cell_type": "code",
   "execution_count": 5,
   "metadata": {
    "collapsed": false
   },
   "outputs": [],
   "source": [
    "Ey,Ex = np.gradient(-V) # Notice reverse order Ey,Ex\n",
    "# Calculate field magnitude and unit vectors\n",
    "Emag = np.sqrt(Ex**2 + Ey**2)\n",
    "minlogEmag = min(np.log10(Emag.flat))\n",
    "scaleE = np.log10(Emag) - minlogEmag\n",
    "uEx = Ex / Emag\n",
    "uEy = Ey / Emag\n",
    "# Visualize using both arrows and colors\n",
    "levels = np.arange(-3.5, 1.5+0.2, 0.2)\n",
    "cmap = plt.cm.get_cmap('plasma')\n",
    "plt.figure(figsize=(16,8))\n",
    "ax1 = plt.subplot(1,2,1)\n",
    "plt.contourf(rx,ry,V,10, cmap=cmap, levels=levels, extend='both')\n",
    "plt.quiver(rx,ry,uEx*scaleE,uEy*scaleE)\n",
    "ax1.set_aspect('equal', 'box')\n",
    "ax2 = plt.subplot(1,2,2)\n",
    "plt.contourf(rx,ry,V,10, cmap=cmap, levels=levels, extend='both')\n",
    "plt.streamplot(rx,ry, Ex, Ey)\n",
    "ax2.set_aspect('equal', 'box')"
   ]
  },
  {
   "cell_type": "markdown",
   "metadata": {},
   "source": [
    "Here we have used logarithmic lengths of the vectors to visualize the magnitude of the field, we have scaled the color scale for the potential and used a different colormap. The resulting plot is shown in Fig. [fig:potential-dipole-num-020](#fig:potential-dipole-num-020).\n",
    "\n",
    "<!-- dom:FIGURE:[fig-electricpotential/potential-dipole-num-020.png, height=400 width=600 frac=0.85] Plot of the equipotential surfaces for a dipole. <div id=\"fig:potential-dipole-num-020\"></div> -->\n",
    "<!-- begin figure -->\n",
    "<div id=\"fig:potential-dipole-num-020\"></div>\n",
    "\n",
    "<p>Plot of the equipotential surfaces for a dipole.</p>\n",
    "<img src=\"fig-electricpotential/potential-dipole-num-020.png\" height=400 width=600>\n",
    "\n",
    "<!-- end figure -->\n",
    "\n",
    "\n",
    "Sometimes you would like to calculate the field with a high resolution, but then only draw arrows in some of the points you have calculated. This is done using the `skip` command in Python. The following only plots every 4-th arrow:"
   ]
  },
  {
   "cell_type": "code",
   "execution_count": 6,
   "metadata": {
    "collapsed": false
   },
   "outputs": [],
   "source": [
    "skip = (slice(None, None, 4), slice(None, None, 4))\n",
    "plt.quiver(rx[skip],ry[skip],uEx[skip]*scaleE[skip],uEy[skip]*scaleE[skip])"
   ]
  },
  {
   "cell_type": "markdown",
   "metadata": {},
   "source": [
    "### Symbolic calculation of the field from a dipole\n",
    "\n",
    "We can also find the electric field directly from the potential as $\\vec{E} = - \\nabla V$. We demonstrate how we can do this using Sympy. We use the package `CoordSys3D` to define a three-dimensional Cartesian coordinate system. The various unit vectors are then denoted `R.i`, `R.j` and `R.k` and the coordinates $x,y,z$ are `R.x`, `R.y`, `R.z` respectively. The $\\vec{r}$-vector is then `R.x*R.i + R.y*R.j + R.z*R.k`. We introduce the dipole moment $\\vec{p} = (a,b,c)$ which is `a*R.i + b*R.j + c*R.k` and define the potential as (where we have removed the $1/(4 \\pi \\epsilon_0)$ prefactor for simplicity):\n",
    "<!--  -->"
   ]
  },
  {
   "cell_type": "code",
   "execution_count": 7,
   "metadata": {
    "collapsed": false
   },
   "outputs": [],
   "source": [
    "import sympy as sy\n",
    "from sympy.vector import CoordSys3D,gradient\n",
    "R = CoordSys3D('R')\n",
    "r = R.x*R.i + R.y*R.j + R.z*R.k\n",
    "a = sy.symbols('a')\n",
    "b = sy.symbols('b')\n",
    "c = sy.symbols('c')\n",
    "p = a*R.i + b*R.j + c*R.k\n",
    "V = r.dot(p)/r.dot(r)**1.5\n",
    "E = -sy.gradient(V)"
   ]
  },
  {
   "cell_type": "markdown",
   "metadata": {},
   "source": [
    "The result is:"
   ]
  },
  {
   "cell_type": "markdown",
   "metadata": {},
   "source": [
    "$$\n",
    "\\begin{eqnarray}\n",
    "\\vec{E}' &=& ( \\frac{3.0 x_{R} \\left(x_{R} a + y_{R} b + z_{R} c\\right)}{\\left( x_{R}^{2} + y_{R}^{2} + z_{R}^{2} \\right)^{2.5}} - \\frac{a}{\\left(x_{R}^{2} + y_{R}^{2} + z_{R}^{2} \\right)^{1.5} } ) \\hat{i}_{R} \\\\ \n",
    "&+& ( \\frac{3.0 y_{R} \\left( x_{R} a + y_{R} b + z_{R}  c\\right)} { \\left( x_{R}^{2} + y_{R}^{2} + z_{R}^{2} \\right)^{2.5}} - \\frac{b}{ \\left( x_{R}^{2} + y_{R}^{2} + z_{R}^{2} \\right)^{1.5}} ) \\hat{j}_{R} \\\\ \n",
    "&+& ( \\frac{3.0 z_{R} \\left( x_{R} a + y_{R} b + z_{R} c \\right)} { \\left( x_{R}^{2} + y_{R}^{2} + z_{R}^{2} \\right)^{2.5}} - \\frac{c}{ \\left( x_{R}^{2} + y_{R}^{2} + z_{R}^{2} \\right)^{1.5}} ) \\hat{k}_{R}\n",
    "\\end{eqnarray}\n",
    "$$"
   ]
  },
  {
   "cell_type": "markdown",
   "metadata": {},
   "source": [
    "which we recognize can be simplified to:"
   ]
  },
  {
   "cell_type": "markdown",
   "metadata": {},
   "source": [
    "<!-- Equation labels as ordinary links -->\n",
    "<div id=\"_auto32\"></div>\n",
    "\n",
    "$$\n",
    "\\begin{equation}\n",
    "\\vec{E}' = \\frac{3 \\vec{r} \\left( \\vec{r} \\cdot \\vec{p} \\right) }{r^5} - \\frac{\\vec{p}}{r^3} \\; .\n",
    "\\label{_auto32} \\tag{32}\n",
    "\\end{equation}\n",
    "$$"
   ]
  },
  {
   "cell_type": "markdown",
   "metadata": {},
   "source": [
    "We reintroduce the prefactor $1/(4 \\pi \\epsilon_0)$, getting,"
   ]
  },
  {
   "cell_type": "markdown",
   "metadata": {},
   "source": [
    "<!-- Equation labels as ordinary links -->\n",
    "<div id=\"_auto33\"></div>\n",
    "\n",
    "$$\n",
    "\\begin{equation}\n",
    "\\vec{E} = \\frac{1}{4 \\pi \\epsilon_0} \\left( \\frac{3 \\vec{r} \\left( \\vec{r} \\cdot \\vec{p} \\right) }{r^5} - \\frac{\\vec{p}}{r^3} \\right) \\; .\n",
    "\\label{_auto33} \\tag{33}\n",
    "\\end{equation}\n",
    "$$"
   ]
  },
  {
   "cell_type": "markdown",
   "metadata": {},
   "source": [
    "## Example: Charged ring\n",
    "\n",
    "*Find the electric potential from a uniformly charged ring with charge $Q$ and radius $a$.*\n",
    "\n",
    "\n",
    "### Analytical solution along the axis of the ring\n",
    "\n",
    "The system is illustrated in Fig. [fig:potential-chargedring-010](#fig:potential-chargedring-010). The ring can be described as a line charge with a line charge density $\\rho_l = Q/L = Q/(2 \\pi a)$. The contribution to the potential from an infinitesimal element $d \\phi$ of charge $dq = \\rho_l (a d \\phi)$ is"
   ]
  },
  {
   "cell_type": "markdown",
   "metadata": {},
   "source": [
    "<!-- Equation labels as ordinary links -->\n",
    "<div id=\"_auto34\"></div>\n",
    "\n",
    "$$\n",
    "\\begin{equation}\n",
    "dV = \\frac{dq}{4 \\pi \\epsilon_0 R} \\; ,\n",
    "\\label{_auto34} \\tag{34}\n",
    "\\end{equation}\n",
    "$$"
   ]
  },
  {
   "cell_type": "markdown",
   "metadata": {},
   "source": [
    "where the length $R$ is the distance from the point $\\vec{r} = (0,0,z)$ on the axis to a point at the ring. We see from Fig. [fig:potential-chargedring-010](#fig:potential-chargedring-010) that $R^2 = a^2 + z^2$ for all angles $\\phi$. The potential is therefore"
   ]
  },
  {
   "cell_type": "markdown",
   "metadata": {},
   "source": [
    "$$\n",
    "\\begin{eqnarray}\n",
    "V\n",
    "&=& \\int_{0}^{2 \\pi} \\frac{\\rho_l a \\mathrm{d} \\phi}{4 \\pi \\epsilon_0 \\left( a^2 + z^2 \\right)} \\\\ \n",
    "&=& \\frac{\\rho_l a}{4 \\pi \\epsilon_0 \\left( a^2 + z^2 \\right)^{1/2}} \\int_{0}^{2 \\pi} \\mathrm{d} \\phi \\\\ \n",
    "&=& \\frac{Q}{4 \\pi \\epsilon_0} \\frac{1}{\\left( a^2 + z^2 \\right)^{1/2}} \\; .\n",
    "\\end{eqnarray}\n",
    "$$"
   ]
  },
  {
   "cell_type": "markdown",
   "metadata": {},
   "source": [
    "We see that when $z \\gg a$, the potential is the same as for a point charge $Q$ located at the origin.\n",
    "\n",
    "<!-- dom:FIGURE:[fig-electricpotential/potential-chargedring-010.png, height=400 width=600 frac=0.5] Illustration of a charged ring.  <div id=\"fig:potential-chargedring-010\"></div> -->\n",
    "<!-- begin figure -->\n",
    "<div id=\"fig:potential-chargedring-010\"></div>\n",
    "\n",
    "<p>Illustration of a charged ring.</p>\n",
    "<img src=\"fig-electricpotential/potential-chargedring-010.png\" height=400 width=600>\n",
    "\n",
    "<!-- end figure -->\n",
    "\n",
    "\n",
    "### Numerical calculation of the potential at any point in space\n",
    "\n",
    "In order to find the electric field $V(\\vec{r})$ in an arbitrary point $\\vec{r}$, we need to sum up the contributions from all elements $d \\theta$ of the ring. We will first find the contribution from one element, and then integrate numerically to find the contributions from all elements.\n",
    "\n",
    "A small element $d \\theta$ of the ring has a length $dl = a d \\phi$, a charge $dq = \\rho_l dl = \\rho_l a d \\phi$, and is at a position $\\vec{r}' = (a \\cos \\phi, a \\sin \\phi, 0)$, where $\\phi$ is the angle with the $x$-axis. The contribution from this element to the electric potential is:"
   ]
  },
  {
   "cell_type": "markdown",
   "metadata": {},
   "source": [
    "<!-- Equation labels as ordinary links -->\n",
    "<div id=\"_auto35\"></div>\n",
    "\n",
    "$$\n",
    "\\begin{equation}\n",
    "dV = \\frac{dq}{4 \\pi \\epsilon_0 R} = \\frac{\\rho_l a d \\phi}{4 \\pi \\epsilon_0 R} \\, \n",
    "\\label{_auto35} \\tag{35}\n",
    "\\end{equation}\n",
    "$$"
   ]
  },
  {
   "cell_type": "markdown",
   "metadata": {},
   "source": [
    "where $\\vec{R} = \\vec{r} - \\vec{r}'$.\n",
    "\n",
    "To find the total electric field, we sum the contributions from $\\phi = 0$ to $\\phi=2 \\pi$. We divide the interval into $N$ pieces of size $d \\theta = 2 \\pi/N$, and sum the contributions. This is done in the following Python function:"
   ]
  },
  {
   "cell_type": "code",
   "execution_count": 8,
   "metadata": {
    "collapsed": false
   },
   "outputs": [],
   "source": [
    "iimport numpy as np\n",
    "import matplotlib.pyplot as plt\n",
    "def potentialfromring(r,a,rhol,N):\n",
    "    # dV = \\frac{\\rho a d\\phi}{4 \\pi \\epsilon_0 R}  \n",
    "    V = 0\n",
    "    dphi = 2*np.pi/N\n",
    "    for i in range(N):\n",
    "        phi = i*dphi\n",
    "        dl = a*dphi\n",
    "        r0 = np.array([a*np.cos(phi),a*np.sin(phi),0])\n",
    "        R = np.linalg.norm(r-r0)\n",
    "        dV = rhol*dl/R\n",
    "        V = V+dV\n",
    "    return V"
   ]
  },
  {
   "cell_type": "markdown",
   "metadata": {},
   "source": [
    "We use this function to calculate the potential in the $xz$-plane with $90$ points from $-3$ to $3$ for both $x$ and $z$:"
   ]
  },
  {
   "cell_type": "code",
   "execution_count": 9,
   "metadata": {
    "collapsed": false
   },
   "outputs": [],
   "source": [
    "# Calculate potential in the xz plane\n",
    "NL = 90\n",
    "N = 100\n",
    "L = 3\n",
    "a = 1.0\n",
    "rhol = 1.0\n",
    "x = np.linspace(-L,L,NL)\n",
    "y = np.linspace(-L,L,NL)\n",
    "rx,ry = np.meshgrid(x,y)\n",
    "# Set up electric potential\n",
    "V = np.zeros((NL,NL),float)\n",
    "# Calculate the potential\n",
    "for i in range(len(rx.flat)):\n",
    "    r = np.array([rx.flat[i],0,ry.flat[i]])\n",
    "    V.flat[i] = potentialfromring(r,a,rhol,N)"
   ]
  },
  {
   "cell_type": "markdown",
   "metadata": {},
   "source": [
    "We can then visualize the result using the same methods as demonstrated above. The resulting visualization of the vector field and the stream lines are shown in Fig. [fig:potential-chargedring-020](#fig:potential-chargedring-020).\n",
    "\n",
    "<!-- dom:FIGURE:[fig-electricpotential/potential-chargedring-020.png, height=400 width=600 frac=0.8] Illustration of the electric potential and the electric field from a charged ring.  <div id=\"fig:potential-chargedring-020\"></div> -->\n",
    "<!-- begin figure -->\n",
    "<div id=\"fig:potential-chargedring-020\"></div>\n",
    "\n",
    "<p>Illustration of the electric potential and the electric field from a charged ring.</p>\n",
    "<img src=\"fig-electricpotential/potential-chargedring-020.png\" height=400 width=600>\n",
    "\n",
    "<!-- end figure -->\n",
    "\n",
    "\n",
    "\n",
    "## Example: Charged line segment\n",
    "\n",
    "*Find the electric potential from a finite line charge*\n",
    "\n",
    "First, let us specify the system. We assume the line has a length $L$ and a line charge density $\\rho_l$. We place the line along the $y$-axis from $y = -L/2$ to $y = L/2$ as illustrated in Fig. [fig:potential-linecharge-010](#fig:potential-linecharge-010). Then, let us find the contribution $dV$ to the potential in a point $\\vec{r}$ from a small element of length $dy'$ at the position $\\vec{r}' = (0,y',0)$:"
   ]
  },
  {
   "cell_type": "markdown",
   "metadata": {},
   "source": [
    "<!-- Equation labels as ordinary links -->\n",
    "<div id=\"_auto36\"></div>\n",
    "\n",
    "$$\n",
    "\\begin{equation}\n",
    "dV = \\frac{dq}{4 \\pi \\epsilon_0 R} \\; ,\n",
    "\\label{_auto36} \\tag{36}\n",
    "\\end{equation}\n",
    "$$"
   ]
  },
  {
   "cell_type": "markdown",
   "metadata": {},
   "source": [
    "where $\\vec{R} = \\vec{r} - \\vec{r}'$. We will now use this to find the electric potential at a point on the $x$-axis analytically, and then find the electric potential for any point numerically.\n",
    "\n",
    "<!-- dom:FIGURE:[fig-electricpotential/potential-linecharge-010.png, width=600 frac=0.4] Illustration of a charged line along the $y$-axis. <div id=\"fig:potential-linecharge-010\"></div> -->\n",
    "<!-- begin figure -->\n",
    "<div id=\"fig:potential-linecharge-010\"></div>\n",
    "\n",
    "<p>Illustration of a charged line along the $y$-axis.</p>\n",
    "<img src=\"fig-electricpotential/potential-linecharge-010.png\" width=600>\n",
    "\n",
    "<!-- end figure -->\n",
    "\n",
    "\n",
    "<!-- Start with general description of problem. Find contribution from a small element. Then solve analytically for a point on the $x$-axis, and solve numerically for any point in space and visualize for the $xy$ plane. -->\n",
    "\n",
    "### Analytical solution on an axis normal to the line\n",
    "\n",
    "For a point $\\vec{r} = (x,0,0)$, the contribution to the electric potential from an element at $y'$ is:"
   ]
  },
  {
   "cell_type": "markdown",
   "metadata": {},
   "source": [
    "<!-- Equation labels as ordinary links -->\n",
    "<div id=\"_auto37\"></div>\n",
    "\n",
    "$$\n",
    "\\begin{equation}\n",
    "dV = \\frac{dq}{4 \\pi \\epsilon_0 R} \\; ,\n",
    "\\label{_auto37} \\tag{37}\n",
    "\\end{equation}\n",
    "$$"
   ]
  },
  {
   "cell_type": "markdown",
   "metadata": {},
   "source": [
    "where $\\vec{R} = (x,0,0) - (0,y',0) = (x,-y',0)$ and $R = (x^2 + (y')^2)^{1/2}$. This gives"
   ]
  },
  {
   "cell_type": "markdown",
   "metadata": {},
   "source": [
    "<!-- Equation labels as ordinary links -->\n",
    "<div id=\"_auto38\"></div>\n",
    "\n",
    "$$\n",
    "\\begin{equation}\n",
    "dV = \\frac{\\rho_l(y')dy'}{4 \\pi \\epsilon_0 \\left( x^2 + (y')^2 \\right)^{1/2}} \\; .\n",
    "\\label{_auto38} \\tag{38}\n",
    "\\end{equation}\n",
    "$$"
   ]
  },
  {
   "cell_type": "markdown",
   "metadata": {},
   "source": [
    "We find the potential by summing up all these contributions from $y' = -L/2$ to $y' = L/2$. Notice that the integration variable is $y'$ and not $x$!"
   ]
  },
  {
   "cell_type": "markdown",
   "metadata": {},
   "source": [
    "<!-- Equation labels as ordinary links -->\n",
    "<div id=\"_auto39\"></div>\n",
    "\n",
    "$$\n",
    "\\begin{equation}\n",
    "V = \\int_{-L/2}^{L/2} \\frac{\\rho_l(y')\\mathrm{d} y'}{4 \\pi \\epsilon_0 \\left( x^2 + (y')^2 \\right)^{1/2}} \\; .\n",
    "\\label{_auto39} \\tag{39}\n",
    "\\end{equation}\n",
    "$$"
   ]
  },
  {
   "cell_type": "markdown",
   "metadata": {},
   "source": [
    "How can we solve this integral? You may look it up in a table of integrals or simply use Sympy to solve it:"
   ]
  },
  {
   "cell_type": "markdown",
   "metadata": {},
   "source": [
    "9\n",
    " \n",
    "<\n",
    "<\n",
    "<\n",
    "!\n",
    "!\n",
    "C\n",
    "O\n",
    "D\n",
    "E\n",
    "_\n",
    "B\n",
    "L\n",
    "O\n",
    "C\n",
    "K\n",
    " \n",
    " \n",
    "p\n",
    "y\n",
    "p\n",
    "r\n",
    "o"
   ]
  },
  {
   "cell_type": "markdown",
   "metadata": {},
   "source": [
    "        asinh(y/x)\n"
   ]
  },
  {
   "cell_type": "markdown",
   "metadata": {},
   "source": [
    "We insert the end point $y'=-L/2$ and $y'=L/2$, getting"
   ]
  },
  {
   "cell_type": "markdown",
   "metadata": {},
   "source": [
    "<!-- Equation labels as ordinary links -->\n",
    "<div id=\"_auto40\"></div>\n",
    "\n",
    "$$\n",
    "\\begin{equation}\n",
    "V = \\frac{\\rho_l}{4 \\pi \\epsilon_0} \\left( \\text{asinh}\\left( \\frac{L}{2x} \\right) - \\text{asinh} \\left( \\frac{-L}{2x} \\right) \\right) \\; .\n",
    "\\label{_auto40} \\tag{40}\n",
    "\\end{equation}\n",
    "$$"
   ]
  },
  {
   "cell_type": "markdown",
   "metadata": {},
   "source": [
    "This function is plotted in Fig. [fig:potential-linecharge-020](#fig:potential-linecharge-020).\n",
    "\n",
    "<!-- dom:FIGURE:[fig-electricpotential/potential-linecharge-020.png, width=600 frac=0.9] Electric potential from a line charge from $y=-1$ to $y=1$. (a) Plot of $V(x,0,0)$. (b) Plot of the electric potential and the electric field in the $xy$-plane. <div id=\"fig:potential-linecharge-020\"></div> -->\n",
    "<!-- begin figure -->\n",
    "<div id=\"fig:potential-linecharge-020\"></div>\n",
    "\n",
    "<p>Electric potential from a line charge from $y=-1$ to $y=1$. (a) Plot of $V(x,0,0)$. (b) Plot of the electric potential and the electric field in the $xy$-plane.</p>\n",
    "<img src=\"fig-electricpotential/potential-linecharge-020.png\" width=600>\n",
    "\n",
    "<!-- end figure -->\n",
    "\n",
    "\n",
    "### Numerical solution for an arbitrary point\n",
    "\n",
    "To find the solution at any point $\\vec{r}=(x,y,z)$, we calculate the integral numerically. The contribution from a small element $dy'$ at $y'$ is:"
   ]
  },
  {
   "cell_type": "markdown",
   "metadata": {},
   "source": [
    "<!-- Equation labels as ordinary links -->\n",
    "<div id=\"_auto41\"></div>\n",
    "\n",
    "$$\n",
    "\\begin{equation}\n",
    "dV = \\frac{dq}{4 \\pi \\epsilon_0 R} \\; ,\n",
    "\\label{_auto41} \\tag{41}\n",
    "\\end{equation}\n",
    "$$"
   ]
  },
  {
   "cell_type": "markdown",
   "metadata": {},
   "source": [
    "where $\\vec{R} = (x,y,z) - (0,y',0) = (x,y-y',z)$ and $R = (x^2 + (y-y')^2 + z^2)^{1/2}$. This gives"
   ]
  },
  {
   "cell_type": "markdown",
   "metadata": {},
   "source": [
    "<!-- Equation labels as ordinary links -->\n",
    "<div id=\"_auto42\"></div>\n",
    "\n",
    "$$\n",
    "\\begin{equation}\n",
    "dV = \\frac{\\rho_l(y')dy'}{4 \\pi \\epsilon_0 \\left( x^2 + (y-y')^2 + z^2 \\right)^{1/2}} \\; .\n",
    "\\label{_auto42} \\tag{42}\n",
    "\\end{equation}\n",
    "$$"
   ]
  },
  {
   "cell_type": "markdown",
   "metadata": {},
   "source": [
    "We find the potential by summing up all these contributions from $y' = -L/2$ to $y' = L/2$. We divide the interval into $N$ pieces of length $dy' = L/N$ each and sum the contributions numerically:"
   ]
  },
  {
   "cell_type": "code",
   "execution_count": 10,
   "metadata": {
    "collapsed": false
   },
   "outputs": [],
   "source": [
    "import numpy as np\n",
    "import matplotlib.pyplot as plt\n",
    "def potentialfromline(r,L,rhol,N):\n",
    "    # dV = \\frac{\\rho dy}{4 \\pi \\epsilon_0 R}  \n",
    "    V = 0\n",
    "    dl = L/N\n",
    "    for i in range(N):\n",
    "        y0 = -L/2+i*dl\n",
    "        r0 = np.array([0,y0,0])\n",
    "        R = np.linalg.norm(r-r0)\n",
    "        dV = rhol*dl/R\n",
    "        V = V+dV\n",
    "    return V"
   ]
  },
  {
   "cell_type": "markdown",
   "metadata": {},
   "source": [
    "We visualize the result by calculating the field in the $xy$-plane. The resulting field is shown in Fig. [fig:potential-linecharge-020](#fig:potential-linecharge-020) using the same visualization methods as developed above."
   ]
  },
  {
   "cell_type": "code",
   "execution_count": 11,
   "metadata": {
    "collapsed": false
   },
   "outputs": [],
   "source": [
    "NL = 90\n",
    "N = 100\n",
    "L = 3\n",
    "l = 2.0\n",
    "rhol = 1.0\n",
    "x = np.linspace(-L,L,NL)\n",
    "y = np.linspace(-L,L,NL)\n",
    "rx,ry = np.meshgrid(x,y)\n",
    "V = np.zeros((NL,NL),float)\n",
    "# Calculate the potential\n",
    "for i in range(len(rx.flat)):\n",
    "    r = np.array([rx.flat[i],ry.flat[i],0])\n",
    "    V.flat[i] = potentialfromline(r,l,rhol,N)"
   ]
  },
  {
   "cell_type": "markdown",
   "metadata": {},
   "source": [
    "## Example: Three-dimensional visualization\n",
    "\n",
    "So far, we have addressed how to visualize the potential and the electric field in two dimensions. It is, however, simple to visualize both the electric potential and the electric field in three dimensions using the module `plotly`.\n",
    "\n",
    "### Installing `plotly`\n",
    "\n",
    "To install `plotly` using anaconda you write the following command in a terminal:"
   ]
  },
  {
   "cell_type": "markdown",
   "metadata": {},
   "source": [
    "        conda install plotly\n"
   ]
  },
  {
   "cell_type": "markdown",
   "metadata": {},
   "source": [
    "### Generating a 3d potential field\n",
    "\n",
    "The methods we have developed to compute the electric potential are easily extended to three dimensions. The `epotlist` function indeed already supports calculations in one, two, and three dimensions. We can therefore set up a potential from a single charge $Q$ in the origin with the following program:"
   ]
  },
  {
   "cell_type": "code",
   "execution_count": 12,
   "metadata": {
    "collapsed": false
   },
   "outputs": [],
   "source": [
    "import numpy as np\n",
    "def epotlist(r,Q,R):\n",
    "    # Find V*4*pi*epsilon0 at r from a charges Q at positions R\n",
    "    V = 0\n",
    "    for i in range(len(R)):\n",
    "        Ri = r - R[i]\n",
    "        qi = Q[i]\n",
    "        Rinorm = np.linalg.norm(Ri)\n",
    "        V = V + qi/Rinorm\n",
    "    return V\n",
    "Q = []\n",
    "R = []\n",
    "Q1 = 1.0\n",
    "R1 = np.array([0,0,0])\n",
    "Q.append(Q1)\n",
    "R.append(R1)"
   ]
  },
  {
   "cell_type": "markdown",
   "metadata": {},
   "source": [
    "To visualize the potential, we need to calculate it on a three-dimensional grid of $\\vec{r}$-values. We generate this grid using `np.meshgrid` as we did in two dimensions:"
   ]
  },
  {
   "cell_type": "code",
   "execution_count": 13,
   "metadata": {
    "collapsed": false
   },
   "outputs": [],
   "source": [
    "# Calculate the potential\n",
    "Lx = 3\n",
    "Ly = 3\n",
    "Lz = 3\n",
    "N = 21\n",
    "x = np.linspace(-Lx,Lx,N)\n",
    "y = np.linspace(-Ly,Ly,N)\n",
    "z = np.linspace(-Lz,Lz,N)\n",
    "rx,ry,rz = np.meshgrid(x,y,z)"
   ]
  },
  {
   "cell_type": "markdown",
   "metadata": {},
   "source": [
    "We then need to loop through all the $\\vec{r}$-values, and find the electric potential in each such point. This is done by using the `rx.flat[i]` method, where we only use a single variable `i` to loop through the entire three-dimensional matrix:"
   ]
  },
  {
   "cell_type": "code",
   "execution_count": 14,
   "metadata": {
    "collapsed": false
   },
   "outputs": [],
   "source": [
    "# Set up electric potential\n",
    "V = np.zeros((N,N,N),float) # Initialize V\n",
    "for i in range(len(rx.flat)):\n",
    "    r = np.array([rx.flat[i],ry.flat[i],rz.flat[i]])\n",
    "    V.flat[i] = epotlist(r,Q,R)"
   ]
  },
  {
   "cell_type": "markdown",
   "metadata": {},
   "source": [
    "### Visualization of the potential with isosurfaces\n",
    "\n",
    "In two dimensions, we visualized the electric potential $V(\\vec{r})$ using isopotential contours. That is, we found the points $\\vec{r}$ where $V(\\vec{r}) = V_i$ for a set of values $V_i$ of the potential. We know that the gradient $\\nabla V$ is normal to the contour, so the contour provides a useful insight also to the electric field: The electric field is normal to the contour and since $\\vec{E} = - \\nabla V$, and $\\nabla V$ points the direction the electric potential increases the most, then the electric field points in the direction the electric potential decreases the most.\n",
    "\n",
    "This concept can be extend to three dimensions by plotting the isosurface, that is, the surfaces that consists of points $\\vec{r}$ so that $V(\\vec{r}) = V_i$ for a sequence of values $V_i$. Again, we can interpret these surfaces the same way as the contour lines in the two-dimensional plot. We visualize these using `plotly` with the following program:"
   ]
  },
  {
   "cell_type": "code",
   "execution_count": 15,
   "metadata": {
    "collapsed": false
   },
   "outputs": [],
   "source": [
    "import plotly.graph_objects as go\n",
    "fig = go.Figure(data=go.Isosurface(\n",
    "    x=rx.flatten(),\n",
    "    y=ry.flatten(),\n",
    "    z=rz.flatten(),\n",
    "    value=V.flatten(),\n",
    "    isomin=0.0,\n",
    "    isomax=0.5,\n",
    "    surface_count=5, # nr of isosurfaces\n",
    "    caps=dict(x_show=False, y_show=False)\n",
    "    ))\n",
    "fig.show()"
   ]
  },
  {
   "cell_type": "markdown",
   "metadata": {},
   "source": [
    "Notice how we use `flatten` inside the call to pass on the values for the $x$, $y$, and $z$ positions of the grid values and the values of the potential at these points. The values `isomin` and `isomax` sets the lower and upper limits for the isosurface, and `surface_count` sets the number of isosurfaces. The resulting plot is shown in Fig. [fig:electricpotential-3dvis-010](#fig:electricpotential-3dvis-010)a.\n",
    "\n",
    "<!-- dom:FIGURE:[fig-electricpotential/electricpotential-3dvis-010.png, width=600 frac=1.0] (a) Plot of isosurfaces of $V(\\vec{r})$ from a single charge $+Q$ in the origin. (b) Translucent plot of the electric potential $V(\\vec{r})$ from a single charge $+Q$ in the origin. <div id=\"fig:electricpotential-3dvis-010\"></div> -->\n",
    "<!-- begin figure -->\n",
    "<div id=\"fig:electricpotential-3dvis-010\"></div>\n",
    "\n",
    "<p>(a) Plot of isosurfaces of $V(\\vec{r})$ from a single charge $+Q$ in the origin. (b) Translucent plot of the electric potential $V(\\vec{r})$ from a single charge $+Q$ in the origin.</p>\n",
    "<img src=\"fig-electricpotential/electricpotential-3dvis-010.png\" width=600>\n",
    "\n",
    "<!-- end figure -->\n",
    "\n",
    "\n",
    "**Activity.**\n",
    "\n",
    "Change the potential to that of a dipole with $Q_1=1$ at $\\vec{r}_1 = (1,0,0)$ and $Q_1 = -1$ at $\\vec{r}_2 = (-1,0,0)$ measured in dimensionless simulation units. Remember to change the range of isosurfaces, because the potential is not negative close to the negative charge and positive close to the positive charge.\n",
    "\n",
    "\n",
    "\n",
    "### Visualization of the potential using volume visualization\n",
    "\n",
    "We can also visualize the isosurfaces by making them semi-transparent and color-coding them with the potential. This is done using the `volume` visualization tool in `plotly`. The following program visualizes the field from a single charge $Q = 1$ in the origin, and the resulting plot is show in Fig. [fig:electricpotential-3dvis-010](#fig:electricpotential-3dvis-010)b."
   ]
  },
  {
   "cell_type": "code",
   "execution_count": 16,
   "metadata": {
    "collapsed": false
   },
   "outputs": [],
   "source": [
    "fig = go.Figure(data=go.Volume(\n",
    "    x=rx.flatten(),\n",
    "    y=ry.flatten(),\n",
    "    z=rz.flatten(),\n",
    "    value=V.flatten(),\n",
    "    isomin=0.0,\n",
    "    isomax=0.5,\n",
    "    opacity=0.1,\n",
    "    surface_count=20, # nr of isosurfaces\n",
    "    ))\n",
    "fig.show()"
   ]
  },
  {
   "cell_type": "markdown",
   "metadata": {},
   "source": [
    "### Visualization of the electric field\n",
    "\n",
    "We can find the electric field from the electric potential using a numerical derivative approximation for $\\vec{E} = \\nabla (-V)$ using the `np.gradient` function in `numpy`:"
   ]
  },
  {
   "cell_type": "code",
   "execution_count": 17,
   "metadata": {
    "collapsed": false
   },
   "outputs": [],
   "source": [
    "Ey,Ex,Ez = np.gradient(-V)"
   ]
  },
  {
   "cell_type": "markdown",
   "metadata": {},
   "source": [
    "Notice the ordering of the components to reflect the Python indexing scheme. We can visualize this field in three dimensions by drawing small arrows, in this case cones, the are directed in the direction of the field and colored by the magnitude of the field. This is done using the `cone` command in `plotly`:"
   ]
  },
  {
   "cell_type": "code",
   "execution_count": 18,
   "metadata": {
    "collapsed": false
   },
   "outputs": [],
   "source": [
    "fig = go.Figure(data=go.Cone(\n",
    "    x=rx.flatten(),\n",
    "    y=ry.flatten(),\n",
    "    z=rz.flatten(),\n",
    "    u=Ex.flatten(),\n",
    "    v=Ey.flatten(),\n",
    "    w=Ez.flatten(),\n",
    "    sizemode=\"absolute\",\n",
    "    sizeref=2,\n",
    "    anchor=\"tip\",\n",
    "    ))\n",
    "fig.show()"
   ]
  },
  {
   "cell_type": "markdown",
   "metadata": {},
   "source": [
    "Here, you see that we transfer the $x$, $y$, and $z$ coordinate of the grid in the same way as before, and that we transfer the $x$, $y$, and $z$ components of the electric field to the `u`, `v`, and `w` variables inside the function. The last three options are not necessary here, but are useful options that you may want to explore to make your visualizations more interesting. The resulting plot for a single charge $+Q$ in the origin and for a dipole charge $Q_1 = +Q$, $Q_2 = -Q$ in $\\vec{r}_1 = (1,0,0)$ and $\\vec{r}_2 = (-1,0,0)$ are shown in Fig. [fig:electricpotential-3dvis-020](#fig:electricpotential-3dvis-020).\n",
    "\n",
    "<!-- dom:FIGURE:[fig-electricpotential/electricpotential-3dvis-020.png, width=600 frac=1.0] Plot of the electric field $\\vec{E}$ using cones to represent the direction and magnitude of the field for (a) a single charge $+Q$ in the origin, and (b) a dipole in the  Translucent plot of the electric potential $V(\\vec{r})$ from a single charge $+Q$ in the origin. <div id=\"fig:electricpotential-3dvis-020\"></div> -->\n",
    "<!-- begin figure -->\n",
    "<div id=\"fig:electricpotential-3dvis-020\"></div>\n",
    "\n",
    "<p>Plot of the electric field $\\vec{E}$ using cones to represent the direction and magnitude of the field for (a) a single charge $+Q$ in the origin, and (b) a dipole in the  Translucent plot of the electric potential $V(\\vec{r})$ from a single charge $+Q$ in the origin.</p>\n",
    "<img src=\"fig-electricpotential/electricpotential-3dvis-020.png\" width=600>\n",
    "\n",
    "<!-- end figure -->\n",
    "\n",
    "\n",
    "## Example: Electric potential from a water molecule\n",
    "\n",
    "An important aspect in physics is *modeling* --- how we take a physical system and develop a simplified model that we can address theoretically. How can we address a problem like finding the electric potential from a water molecule? We do not really know what the charge distribution is for a water molecule. And the charge distribution may depend on the situation: Is the water molecule alone? Is it close to other water molecules? Is it close to a charged surface? When we model, we need to make reasonable assumptions, and we will train making such assumptions gradually. However, to some degree this requires courage and curiosity --- you need to dare to make a simple model and you need to explore the consequences.\n",
    "\n",
    "How would we model a water molecule? A simplified model would be to assume that we can model the molecule as a set of point charges at the positions of the atoms in the molecule: a charge $Q_{\\text{O}} = -0.7e$ at the oxygen atom and a charge $Q_{\\text{H}} = 0.35e$ at the hydrogen atoms [[martin2005]](#martin2005) (See e.g. [Fyta](https://www2.icp.uni-stuttgart.de/~icp/mediawiki/images/3/35/SimmethodsII_ss13_lecture6_watermodels.pdf) for data). We will then assume that the angle between the hydrogen atoms is $\\theta = 104.5^{\\circ}$ and that the distance between the oxygen and the hydrogen atom is $a = 0.95 \\text{\\AA}$ [[csaszar2005]](#csaszar2005). These values are taken from scientific articles, but you could also have chosen reasonable values --- at least reasonable enough for our purposes from a simple web search. However, you should always provide information about where you have found the values you use.\n",
    "\n",
    "We place the oxygen atom at the origin and then place the hydrogen atoms symmetrically around the $y$-axis. The position of the two hydrogen atoms are then $\\vec{r}_i = a( \\pm \\sin \\theta/2, \\cos \\theta/2)$. We set up this system in Python\n",
    "<!--  -->"
   ]
  },
  {
   "cell_type": "code",
   "execution_count": 19,
   "metadata": {
    "collapsed": false
   },
   "outputs": [],
   "source": [
    "theta = 104.5/180.0*np.pi # degrees -> rad\n",
    "a = 0.95 # AAngstrom\n",
    "QO = -0.7 # e\n",
    "QH = -QO/2\n",
    "# Setup charges\n",
    "R = []\n",
    "Q = []\n",
    "r0 = np.array([0,0])\n",
    "R.append(r0)\n",
    "Q.append(QO)\n",
    "r0 = a*np.array([np.sin(theta/2),np.cos(theta/2)])\n",
    "R.append(r0)\n",
    "Q.append(QH)\n",
    "r0 = a*np.array([-np.sin(theta/2),np.cos(theta/2)])\n",
    "R.append(r0)\n",
    "Q.append(QH)"
   ]
  },
  {
   "cell_type": "markdown",
   "metadata": {},
   "source": [
    "And generate the electric potential with a reasonable resolution:"
   ]
  },
  {
   "cell_type": "code",
   "execution_count": 20,
   "metadata": {
    "collapsed": false
   },
   "outputs": [],
   "source": [
    "# Calculate the potential\n",
    "Lx = 3\n",
    "Ly = 3\n",
    "N = 101\n",
    "x = np.linspace(-Lx,Lx,N)\n",
    "y = np.linspace(-Ly,Ly,N)\n",
    "rx,ry = np.meshgrid(x,y)\n",
    "# Set up electric potential\n",
    "V = np.zeros((N,N),float)\n",
    "# Calculate the potential\n",
    "for i in range(len(rx.flat)):\n",
    "    r = np.array([rx.flat[i],ry.flat[i]])\n",
    "    V.flat[i] = epotlist(r,Q,R)"
   ]
  },
  {
   "cell_type": "markdown",
   "metadata": {},
   "source": [
    "The resulting electric potential and the electric field is visualized using the same methods we developed above, giving the result shown in Fig. [fig:potential-watermodel-020](#fig:potential-watermodel-020).\n",
    "\n",
    "<!-- dom:FIGURE:[fig-electricpotential/potential-watermodel-020.png, width=600 frac=0.5] Electric potential from a simplified model of a water molecule. <div id=\"fig:potential-watermodel-020\"></div> -->\n",
    "<!-- begin figure -->\n",
    "<div id=\"fig:potential-watermodel-020\"></div>\n",
    "\n",
    "<p>Electric potential from a simplified model of a water molecule.</p>\n",
    "<img src=\"fig-electricpotential/potential-watermodel-020.png\" width=600>\n",
    "\n",
    "<!-- end figure -->\n",
    "\n",
    "\n",
    "<!-- or an isolated H216O, H217O or H218O molecule, the more exact calculated O-H length is 0.957854 Å, and the H-O-H angle is 104.500° (D216O, 0.957835 Å, 104.490°) -->\n",
    "\n",
    "<!-- A. G. Császár, G. Czakó, T. Furtenbacher, J. Tennyson, V. Szalay, S. V. Shirin, N. F. Zobov and O. L. Polyansky, On equilibrium structures of the water molecule, Journal of Chemical Physics,122 (2005) 214305. -->\n",
    "\n",
    "<!-- . Martin and H. Zipse, Charge distribution in the water molecule - A comparison of methods, Journal of Computational Chemistry, 26 (2005) 97-105. -->\n",
    "\n",
    "# Summary\n",
    "\n",
    "### Electrical potential\n",
    "\n",
    " * The electrical potential $V(\\vec{r})$ for an electrical field $\\vec{V}(\\vec{r})$ is defined as"
   ]
  },
  {
   "cell_type": "markdown",
   "metadata": {},
   "source": [
    "<!-- Equation labels as ordinary links -->\n",
    "<div id=\"_auto43\"></div>\n",
    "\n",
    "$$\n",
    "\\begin{equation}\n",
    "V(\\vec{r}) = \\int_{\\vec{r}}^{\\text{ref}} \\vec{E}\\cdot \\mathrm{d} \\vec{r} \\; ,\n",
    "\\label{_auto43} \\tag{43}\n",
    "\\end{equation}\n",
    "$$"
   ]
  },
  {
   "cell_type": "markdown",
   "metadata": {},
   "source": [
    "where the integral is a path integral along any line from $\\vec{r}$ to the reference point where $V=0$.\n",
    "\n",
    " * The electrical potential is defined relative to a reference point. It is only differences in electrical potential that have physical significance.\n",
    "\n",
    "### Electric field\n",
    "\n",
    " * The electric field is related to the electric potential through $\\vec{E} = - \\nabla V(\\vec{r})$.\n",
    "\n",
    " * The divergence of a (static) electric field is 0: $\\nabla \\times \\vec{E} = 0$.\n",
    "\n",
    "### Electric potential from a charge distribution\n",
    "\n",
    " * The electric potential in $\\vec{r}$ from a single point charge $Q$ in $\\vec{r}'$ is"
   ]
  },
  {
   "cell_type": "markdown",
   "metadata": {},
   "source": [
    "<!-- Equation labels as ordinary links -->\n",
    "<div id=\"_auto44\"></div>\n",
    "\n",
    "$$\n",
    "\\begin{equation}\n",
    "V(\\vec{r}) = \\frac{q}{4 \\pi \\epsilon_0 R} \\; , \\; \\vec{R} = \\vec{r} - \\vec{r}' \\; .\n",
    "\\label{_auto44} \\tag{44}\n",
    "\\end{equation}\n",
    "$$"
   ]
  },
  {
   "cell_type": "markdown",
   "metadata": {},
   "source": [
    "* The electrical potential obeys the *superposition principle*: $V(\\vec{r}) = \\sum_i V_(\\vec{r})$.\n",
    "\n",
    " * The electrical potential from a volume charge density $\\rho$ is:"
   ]
  },
  {
   "cell_type": "markdown",
   "metadata": {},
   "source": [
    "<!-- Equation labels as ordinary links -->\n",
    "<div id=\"_auto45\"></div>\n",
    "\n",
    "$$\n",
    "\\begin{equation}\n",
    "V(\\vec{r}) = \\int_v \\frac{\\rho(\\vec{r}') \\mathrm{d} V'}{4 \\pi \\epsilon_0 |\\vec{r}- \\vec{r}'|}\n",
    "\\label{_auto45} \\tag{45}\n",
    "\\end{equation}\n",
    "$$"
   ]
  },
  {
   "cell_type": "markdown",
   "metadata": {},
   "source": [
    "* The electrical potential from a surface charge density $\\rho_s$ is:"
   ]
  },
  {
   "cell_type": "markdown",
   "metadata": {},
   "source": [
    "<!-- Equation labels as ordinary links -->\n",
    "<div id=\"_auto46\"></div>\n",
    "\n",
    "$$\n",
    "\\begin{equation}\n",
    "V(\\vec{r}) = \\int_S \\frac{\\rho_s(\\vec{r}') \\mathrm{d} S'}{4 \\pi \\epsilon_0 |\\vec{r}- \\vec{r}'|}\n",
    "\\label{_auto46} \\tag{46}\n",
    "\\end{equation}\n",
    "$$"
   ]
  },
  {
   "cell_type": "markdown",
   "metadata": {},
   "source": [
    "* The electrical potential from a line charge density $\\rho_s$ is:"
   ]
  },
  {
   "cell_type": "markdown",
   "metadata": {},
   "source": [
    "<!-- Equation labels as ordinary links -->\n",
    "<div id=\"_auto47\"></div>\n",
    "\n",
    "$$\n",
    "\\begin{equation}\n",
    "V(\\vec{r}) = \\int_C \\frac{\\rho_l(\\vec{r}') \\mathrm{d} l'}{4 \\pi \\epsilon_0 |\\vec{r}- \\vec{r}'|}\n",
    "\\label{_auto47} \\tag{47}\n",
    "\\end{equation}\n",
    "$$"
   ]
  },
  {
   "cell_type": "markdown",
   "metadata": {},
   "source": [
    "# Exercises\n",
    "\n",
    "## Test yourself\n",
    "\n",
    "\n",
    "\n",
    "<!-- --- begin exercise --- -->\n",
    "\n",
    "## Exercise 1: From field to potential\n",
    "\n",
    "The figure below illustrates two electric fields $\\vec{E}$ in the $xy$-plane. Sketch the electric potential $V(x,0)$ along the $x$-axis and $V(0,y)$ along the $y$-axis for the two situations. (Assume $V(0,0) = 0$).\n",
    "\n",
    "<!-- dom:FIGURE: [fig-electricpotential/potential-ex-test-fieldtopot-010.png, width=400 frac=1.0] -->\n",
    "<!-- begin figure -->\n",
    "\n",
    "<p></p>\n",
    "<img src=\"fig-electricpotential/potential-ex-test-fieldtopot-010.png\" width=400>\n",
    "\n",
    "<!-- end figure -->\n",
    "\n",
    "\n",
    "\n",
    "\n",
    "<!-- --- end exercise --- -->\n",
    "\n",
    "\n",
    "\n",
    "\n",
    "<!-- --- begin exercise --- -->\n",
    "\n",
    "## Exercise 2: From potential to field\n",
    "\n",
    "The figure below illustrates electric potentials, $V(x)$, for different physical situations. Sketch the corresponding electrical fields with arrows on top of the figure. Can you also sketch the electric field $E_x(x)$?\n",
    "\n",
    "<!-- dom:FIGURE: [fig-electricpotential/potential-ex-test-pottofield-010.png, width=400 frac=1.0] -->\n",
    "<!-- begin figure -->\n",
    "\n",
    "<p></p>\n",
    "<img src=\"fig-electricpotential/potential-ex-test-pottofield-010.png\" width=400>\n",
    "\n",
    "<!-- end figure -->\n",
    "\n",
    "\n",
    "\n",
    "\n",
    "<!-- --- end exercise --- -->\n",
    "\n",
    "\n",
    "\n",
    "\n",
    "<!-- --- begin exercise --- -->\n",
    "\n",
    "## Exercise 3: Maximum and minimum of the potential\n",
    "\n",
    "The figure illustrates the electric field around a dipole. The electric potential is zero at infinity.\n",
    "\n",
    "<!-- dom:FIGURE: [fig-electricpotential/potential-ex-test-potmaxmin-010.png, width=400 frac=0.45] -->\n",
    "<!-- begin figure -->\n",
    "\n",
    "<p></p>\n",
    "<img src=\"fig-electricpotential/potential-ex-test-potmaxmin-010.png\" width=400>\n",
    "\n",
    "<!-- end figure -->\n",
    "\n",
    "\n",
    "\n",
    "**a)**\n",
    "Where is the minimal value for the electric potential?\n",
    "\n",
    "\n",
    "\n",
    "\n",
    "\n",
    "**b)**\n",
    "Where is the maximum value for the electric potential?\n",
    "\n",
    "\n",
    "\n",
    "\n",
    "\n",
    "**c)**\n",
    "Where is the electric potential zero?\n",
    "\n",
    "\n",
    "\n",
    "\n",
    "\n",
    "<!-- --- end exercise --- -->\n",
    "\n",
    "\n",
    "\n",
    "\n",
    "<!-- --- begin exercise --- -->\n",
    "\n",
    "## Exercise 4: Potentials and sparks\n",
    "\n",
    "A spark in air occurs where the electric field exceeds a maximum value beyond which the air becomes a conducting plasma. You may have experienced sparks between your finger and another object if you are charged with static electricity. Let us model this process by assuming that your finger has an electrical potential $V$ and that for example your table lamp has potential zero. Explain what happens to the electric field as your finger approaches the lamp. (You can assume that the potential of your finger and the lamp does not change before a spark occurs).\n",
    "\n",
    "\n",
    "\n",
    "<!-- --- end exercise --- -->\n",
    "\n",
    "\n",
    "## Discussion exercises\n",
    "\n",
    "\n",
    "\n",
    "<!-- --- begin exercise --- -->\n",
    "\n",
    "## Exercise 5: Choosing your path\n",
    "\n",
    "The potential (relative to a point at infinity) midway between two charges of equal magnitude and opposite sign is zero. Is it possible to bring a test charge from infinity to this midpoint in such a way that no work is done in any part of the displacement? If so, describe how it can be done. If it is not possible, explain why.\n",
    "\n",
    "<!-- --- end exercise --- -->\n",
    "\n",
    "\n",
    "\n",
    "\n",
    "<!-- --- begin exercise --- -->\n",
    "\n",
    "## Exercise 6: Finding the field from the potential\n",
    "\n",
    "If the electric potential at a single point is known, can $\\vec{E}$ at that point be determined? If so, how? If not, why not?\n",
    "\n",
    "<!-- --- end exercise --- -->\n",
    "\n",
    "\n",
    "\n",
    "\n",
    "<!-- --- begin exercise --- -->\n",
    "\n",
    "## Exercise 7: Zero field\n",
    "\n",
    "If $\\vec{E}$ is zero throughout a certain region of space, is the potential necessary also zero in this region? Why or why not? What *can* be said about the potential?\n",
    "\n",
    "<!-- --- end exercise --- -->\n",
    "\n",
    "\n",
    "\n",
    "\n",
    "<!-- --- begin exercise --- -->\n",
    "\n",
    "## Exercise 8: The zero-field path\n",
    "\n",
    "If $\\vec{E}$ is zero everywhere along a certain path the leads from point A to point B, what is the potential difference between those two points? Does this mean that $\\vec{E}$ is zero everywhere along *any* path from A to B? Explain.\n",
    "\n",
    "<!-- --- end exercise --- -->\n",
    "\n",
    "\n",
    "\n",
    "\n",
    "<!-- --- begin exercise --- -->\n",
    "\n",
    "## Exercise 9: Motion in a simple field\n",
    "\n",
    "The figure illustrates the scalar potential, $V(x)$, resulting from some charge configuration. Discuss what possible types of motion a positively and a negatively charged particle can have by comparing with the potential energy of a cart rolling down a hill. Illustrate the motions in an energy diagrams ($U(x)$ for the particle and for the cart).\n",
    "\n",
    "<!-- dom:FIGURE:[fig-electricpotential/simplepotfield.png, width=600 frac=0.6] -->\n",
    "<!-- begin figure -->\n",
    "\n",
    "<p></p>\n",
    "<img src=\"fig-electricpotential/simplepotfield.png\" width=600>\n",
    "\n",
    "<!-- end figure -->\n",
    "\n",
    "\n",
    "<!-- Illustration of the dipole system.  <div id=\"fig:simplepotfield\"></div> -->\n",
    "<!-- --- end exercise --- -->\n",
    "\n",
    "\n",
    "## Tutorials\n",
    "\n",
    "\n",
    "\n",
    "<!-- --- begin exercise --- -->\n",
    "\n",
    "## Exercise 10: Electric fields and electric potential\n",
    "\n",
    "Below is a drawing of electric field vectors to illustrate the electric field. The *length* of the vector is proportional to the magnitude of the electric field. The *direction* of the vector is in the direction of the electric field. The electric field is defined in all points in space; we just can't draw all the vectors.\n",
    "\n",
    "<!-- dom:FIGURE:[fig-electricpotential/potential-ex-fieldinspace-010.png, width=600 frac=0.75] -->\n",
    "<!-- begin figure -->\n",
    "\n",
    "<p></p>\n",
    "<img src=\"fig-electricpotential/potential-ex-fieldinspace-010.png\" width=600>\n",
    "\n",
    "<!-- end figure -->\n",
    "\n",
    "\n",
    "\n",
    "**a)**\n",
    "Suppose the reference point (zero) for the electric potential is at the origin (0cm,0cm). What are the electric potentials at points $a$, $b$, and $c$?\n",
    "\n",
    "$V_a = \\qquad  \\qquad  \\qquad \\qquad V_b= \\qquad \\qquad \\qquad \\qquad V_c = $\n",
    "\n",
    "\n",
    "\n"
   ]
  },
  {
   "cell_type": "markdown",
   "metadata": {},
   "source": [
    "\n",
    "**b)**\n",
    "With the same choice of reference point, plot the electric potential as a function of position along the dotted line in the figure.\n",
    "\n",
    "<!-- dom:FIGURE:[fig-electricpotential/potential-ex-fieldinspace-021.png, width=600 frac=1.0] -->\n",
    "<!-- begin figure -->\n",
    "\n",
    "<p></p>\n",
    "<img src=\"fig-electricpotential/potential-ex-fieldinspace-021.png\" width=600>\n",
    "\n",
    "<!-- end figure -->\n",
    "\n",
    "\n",
    "\n",
    "\n",
    "\n",
    "\n",
    "You put a $+ 50 \\mu \\text{C}$ charge at point $a$ (1cm,1cm), and move it to point $b$ (3cm,1cm) at a constant, slow velocity.\n",
    "\n",
    "**c)**\n",
    "What force vector $(F_x,F_y)$ do you need to apply to keep the velocity constant?\n",
    "\n",
    "\n",
    "\n",
    "\n",
    "\n",
    "**d)**\n",
    "How much work did you do to move the particle?\n",
    "\n",
    "\n",
    "\n",
    "\n",
    "\n",
    "**e)**\n",
    "What is the potential energy difference $U_b - U_a$?\n",
    "\n",
    "\n",
    "\n",
    "\n",
    "\n",
    "**f)**\n",
    "What is the electric potential difference $V_b-V_a$?\n",
    "\n",
    "\n",
    "\n",
    "\n",
    "\n",
    "**g)**\n",
    "What is the relation between the potential energy and the electric potential?\n",
    "\n",
    "\n",
    "\n",
    "\n",
    "\n",
    "\n",
    "<!-- --- end exercise --- -->\n",
    "\n",
    "\n",
    "\n",
    "\n",
    "<!-- --- begin exercise --- -->\n",
    "\n",
    "## Exercise 11: Gradients\n",
    "\n",
    "In this exercise we will practice basic skills to find the scalar potential, interpret gradients in the potential, and find the field from the potential.\n",
    "\n",
    "Two identical charges, $q$, are placed at $(a,0,0)$ and $(-a,0,0)$, where $a$ is a given length.\n",
    "\n",
    "\n",
    "**a)**\n",
    "Find the electrical potential $V(x)$ everywhere along the $x$-axis. Is the potential negative when $x<a$? Is the potential zero at $x=0$? Explain.\n",
    "\n",
    "\n",
    "\n"
   ]
  },
  {
   "cell_type": "markdown",
   "metadata": {},
   "source": [
    "\n",
    "**b)**\n",
    "Plot or sketch the potential along the $x$-axis and discuss the direction of the electric field.\n",
    "\n",
    "\n",
    "\n",
    "\n",
    "\n",
    "**c)**\n",
    "Use the sketch of the potential to draw equipotential points (at a constant spacing in potential).\n",
    "\n",
    "\n",
    "\n",
    "**d)**\n",
    "Find the potential $V(y)$ everywhere along the $y$-axis.\n",
    "\n",
    "\n",
    "\n"
   ]
  },
  {
   "cell_type": "markdown",
   "metadata": {},
   "source": [
    "\n",
    "**e)**\n",
    "Sketch equipotential curves in the $xy$-plane for this system.\n",
    "\n",
    "\n",
    "\n",
    "\n",
    "\n",
    "<!-- --- end exercise --- -->\n",
    "\n",
    "\n",
    "\n",
    "\n",
    "<!-- --- begin exercise --- -->\n",
    "\n",
    "## Exercise 12: Vector calculus\n",
    "\n",
    "*(From Johannes Skaar)*\n",
    "\n",
    "\n",
    "**a)**\n",
    "Several types of line integrals often appear in physics and mathematics. Some of these are:"
   ]
  },
  {
   "cell_type": "markdown",
   "metadata": {},
   "source": [
    "<!-- Equation labels as ordinary links -->\n",
    "<div id=\"_auto53\"></div>\n",
    "\n",
    "$$\n",
    "\\begin{equation}\n",
    "(1) \\; \\int_C F dl \\qquad (2) \\int_C F d \\vec{l} \\qquad (3) \\int_C \\vec{F} dl \\qquad (4) \\int_C \\vec{F} \\cdot d \\vec{l}\n",
    "\\label{_auto53} \\tag{53}\n",
    "\\end{equation}\n",
    "$$"
   ]
  },
  {
   "cell_type": "markdown",
   "metadata": {},
   "source": [
    "Which of these integrals are appropriate for the folloing physical situations?\n",
    "\n",
    "(A) If the mass density of a wire is $F$, what is the total mass of the wire?\n",
    "\n",
    "(B) The work done by a force $\\vec{F}$ when an object is moved along a curve $C$.\n",
    "\n",
    "\n",
    "\n",
    "\n",
    "\n",
    "**b)**\n",
    "Let $\\vec{F}$ and $F$ be constants different from 0 and use the integration paths $C_1$ and $C_2$ from the figure below. In which of case(s) (1)-(4) is the integral along these curves 0? Draw $d \\vec{l}$ for a few points on each curve.\n",
    "\n",
    "\n",
    "\n",
    "\n",
    "\n",
    "<!-- dom:FIGURE:[fig-electricpotential/lineintegralpaths.png, width=600 frac=0.6] -->\n",
    "<!-- begin figure -->\n",
    "\n",
    "<p></p>\n",
    "<img src=\"fig-electricpotential/lineintegralpaths.png\" width=600>\n",
    "\n",
    "<!-- end figure -->\n",
    "\n",
    "\n",
    "**c)**\n",
    "For surface integrals the corresponding integrals are:"
   ]
  },
  {
   "cell_type": "markdown",
   "metadata": {},
   "source": [
    "$$\n",
    "\\begin{equation}\n",
    "(1) \\iint_S F dS \\qquad (2) \\iint_S F d \\vec{S} \\qquad (3) \\iint_S \\vec{F} dS \\qquad (4) \\iint_S \\vec{F} \\cdot d \\vec{S}\n",
    "\\label{}\n",
    "\\end{equation}\n",
    "$$"
   ]
  },
  {
   "cell_type": "markdown",
   "metadata": {},
   "source": [
    "Which integrals become zero? (You can still assume that $\\vec{F}$ and $F$ are constants.) Start by considering a torus and a cone as illustrated in the figure.\n",
    "\n",
    "\n",
    "\n",
    "\n",
    "\n",
    "<!-- dom:FIGURE:[fig-electricpotential/torusandconefigure.png, width=600 frac=0.6] -->\n",
    "<!-- begin figure -->\n",
    "\n",
    "<p></p>\n",
    "<img src=\"fig-electricpotential/torusandconefigure.png\" width=600>\n",
    "\n",
    "<!-- end figure -->\n",
    "\n",
    "\n",
    "**d)**\n",
    "How is the direction of $d\\vec{S}$ defined for the torus? Sketch $d\\vec{S}$ in three points.\n",
    "\n",
    "\n",
    "\n",
    "\n",
    "\n",
    "**e)**\n",
    "Consider the surface $S_1$ defined by the curve $C_1$, in which direction does $d\\vec{S}$ point for $S_1$?\n",
    "\n",
    "\n",
    "\n",
    "\n",
    "\n",
    "<!-- --- end exercise --- -->\n",
    "\n",
    "\n",
    "\n",
    "\n",
    "<!-- --- begin exercise --- -->\n",
    "\n",
    "## Exercise 13: Line charge\n",
    "\n",
    "(We will now address the same problem as last week, but using potential instead of electric field).\n",
    "\n",
    "A rod of length $L$ has a charge $Q$. We place the rod along the $x$-axis with its center at the origin.\n",
    "\n",
    "\n",
    "**a)**\n",
    "We want to calculate the electric potential $V(0,y,0)$ along the $y$-axis. What is the contribution to the potential from the piece of length $dx$ at $x$?\n",
    "\n",
    "\n",
    "\n"
   ]
  },
  {
   "cell_type": "markdown",
   "metadata": {},
   "source": [
    "\n",
    "**b)**\n",
    "Write down an expression for the electric potential $V(0,y,0)$ in terms of an integral. Explain what variable you integrate over.\n",
    "\n",
    "\n",
    "\n"
   ]
  },
  {
   "cell_type": "markdown",
   "metadata": {},
   "source": [
    "\n",
    "**c)**\n",
    "Anne argues that with this integral it is very simple to find the electric field $E_y = - \\partial V/\\partial y$: This is simply what is inside the integral, since derivation is the opposite of integration. Is Anne right? Explain.\n",
    "\n",
    "\n",
    "\n",
    "\n",
    "\n",
    "<!-- --- end exercise --- -->\n",
    "\n",
    "\n",
    "\n",
    "\n",
    "<!-- --- begin exercise --- -->\n",
    "\n",
    "## Exercise 14: Continuous distribution of charges\n",
    "\n",
    "*(From Danny Caballero, MSU)*\n",
    "\n",
    "In this exercise we will see how we use the principle of superposition to find the potential and electric field from a continuous distribution of charges.\n",
    "\n",
    "<!-- First, ensure that the students know how to perform integrals of distributions of charges -->\n",
    "### Part 1: A charged rod\n",
    "\n",
    "We would like to find the electric field from a rod of length $L$ with a uniformly distributed charge $Q$.\n",
    "\n",
    "\n",
    "**a)**\n",
    "Make a drawing of the rod. How would you orient and place the rod in your coordinate system?\n",
    "\n",
    "**b)**\n",
    "Add a small element of length $dl$ to your drawing. What is the charge of this part of the rod?\n",
    "\n",
    "We would like to find the electric field in the plane normal to the rod going through the center of the rod.\n",
    "\n",
    "**c)**\n",
    "What is the contribution from the element $dl$ to the electric field in a distance $r$ from the center of the rod, and in the plane normal to the rod and going through the center of the rod. Use your drawing actively in your argument.\n",
    "\n",
    "**d)**\n",
    "What integral do you need to perform to find the electric field at position $r$? Ensure that you also include the limits of the integral.\n",
    "\n",
    "You may need to use the following formulas:"
   ]
  },
  {
   "cell_type": "markdown",
   "metadata": {},
   "source": [
    "6\n",
    "4\n",
    " \n",
    "<\n",
    "<\n",
    "<\n",
    "!\n",
    "!\n",
    "M\n",
    "A\n",
    "T\n",
    "H\n",
    "_\n",
    "B\n",
    "L\n",
    "O\n",
    "C\n",
    "K"
   ]
  },
  {
   "cell_type": "markdown",
   "metadata": {},
   "source": [
    "<!-- Equation labels as ordinary links -->\n",
    "<div id=\"_auto58\"></div>\n",
    "\n",
    "$$\n",
    "\\begin{equation}\n",
    "\\int \\frac{du}{\\left( a^2 + u^2 \\right)^{1/2} } = \\text{asinh} \\left( \\frac{u}{a} \\right) + C\n",
    "\\label{_auto58} \\tag{58}\n",
    "\\end{equation}\n",
    "$$"
   ]
  },
  {
   "cell_type": "markdown",
   "metadata": {},
   "source": [
    "(The interested student may want to solve these integrals using Sympy)\n",
    "\n",
    "**e)**\n",
    "Find the solution to the definite integral to find the electric field.\n",
    "\n"
   ]
  },
  {
   "cell_type": "markdown",
   "metadata": {},
   "source": [
    "<!-- Second, develop approximate, numerical model -->\n",
    "\n",
    "### Part 2: Numerical integration of the electric field\n",
    "\n",
    "Suppose you have a vertically oriented rod of total charge $Q = +1 \\mu \\text{C}$, centered at the origin with a length of $1 \\text{m}$.\n",
    "\n",
    "**f)**\n",
    "Determine the electric field at the location $(0.1,0,0) \\text{m}$. (*Is your answer a vector? Because it should be*.)\n",
    "\n",
    "This result is only valid at the center of the rod. Let us develop a model to find the electric field anywhere in space. (You can later use the same approach also to find the scalar potential).\n",
    "\n",
    "**g)**\n",
    "Let us represent the uniformly charged rod by a sequence of small pieces, where we represent each piece as a point charge located at the center of that piece. Calculate the electric field at $(0.1,0,0) \\text{m}$ when you divide the rod into 4 pieces. Compare with the exact results.\n",
    "\n",
    "**h)**\n",
    "Let us instead divide the rod into $N$ pieces at locations $\\vec{r}_i$ and charges $q_i$. Find expressions for $\\vec{r}_i$ and $q_i$.\n",
    "\n",
    "**i)**\n",
    "Write a computer program to perform the summation --- corresponding to a numerical integration. Compare the value at $(0.1,0,0) \\text{m}$ with the exact result for various values of $N$. (You can find a sketch of the computer program [Electricfield-IntegrateRod-Student.ipynb](https://jupyterhub.uio.no/) at JupyterHub).\n",
    "\n",
    "**j)**\n",
    "(Advanced and optional) Use the same program to find the electric field on a grid in the $xy$-plane and visualize this grid.\n",
    "\n",
    "<!-- Third, integrate/sum to find potential/field in any spot -->\n",
    "\n",
    "<!-- Fourth, discuss challenges with finding the potential for this particular system when the line is infinite -->\n",
    "\n",
    "<!-- In this exercise you will focus on how to use superposition to find the electric field from a set of point charges, gradually increasing the resolution -->\n",
    "\n",
    "<!-- --- end exercise --- -->\n",
    "\n",
    "\n",
    "## Homework\n",
    "\n",
    "\n",
    "\n",
    "<!-- --- begin exercise --- -->\n",
    "\n",
    "## Exercise 15: Dipole and gradient\n",
    "\n",
    "Two identical charges, $q$, are placed in $(a, 0, 0)$ og $(-a, 0, 0)$, $a>0$.\n",
    "\n",
    "\n",
    "**a)**\n",
    "Implement the Python programs from the text to find the electric potential in the $xy$-plane from the two charges. Illustrate the potential with contour lines.\n",
    "\n"
   ]
  },
  {
   "cell_type": "markdown",
   "metadata": {},
   "source": [
    "\n",
    "**b)**\n",
    "Find the electric field in the $xy$-plane numerically by taking the gradient of the electric potential and illustrate the field with a vector plot. Is the electric field normal to the contour lines?\n",
    "\n"
   ]
  },
  {
   "cell_type": "markdown",
   "metadata": {},
   "source": [
    "\n",
    "**c)**\n",
    "Let us make one of the charges negative, making the system a dipole. Repeat parts  **a** og **b** for this new system.\n",
    "\n",
    "\n",
    "\n",
    "**d)**\n",
    "The vector plots are maybe not so pretty. Plot the same data using streamlines instead. What are the advantages and disadvantages of a streamline plot?\n",
    "\n",
    "\n",
    "\n",
    "<!-- --- end exercise --- -->\n",
    "\n",
    "\n",
    "\n",
    "\n",
    "<!-- --- begin exercise --- -->\n",
    "\n",
    "## Exercise 16: Potential and field above a disk\n",
    "\n",
    "In this exercise we will address the electric field along the $z$-axis above the center of a disk in the $xy$-plane. The disk has radius $a$ and a constant surface charge density $\\rho_s$. \n",
    "\n",
    "<!-- dom:FIGURE: [fig-electricpotential/potential-ex-disk-010.png, width=400 frac=0.35] -->\n",
    "<!-- begin figure -->\n",
    "\n",
    "<p></p>\n",
    "<img src=\"fig-electricpotential/potential-ex-disk-010.png\" width=400>\n",
    "\n",
    "<!-- end figure -->\n",
    "\n",
    "\n",
    "\n",
    "**a)**\n",
    "Find the contribution $\\vec{d}\\mathbf{E}$ to the electric field at a height $z$ above the disk from an area element $\\vec{d}S$. You may assume $z > 0$.\n",
    "\n",
    "<!-- --- begin hint in exercise --- -->\n",
    "\n",
    "**Hint.**\n",
    "It may be useful to work in cylinder coordinates. Remember that the area element in the $r\\phi$-plane when we integrate in cylinder coordinates is $r\\vec{d}r\\vec{d}\\phi$\n",
    "\n",
    "<!-- --- end hint in exercise --- -->\n",
    "\n"
   ]
  },
  {
   "cell_type": "markdown",
   "metadata": {},
   "source": [
    "\n"
   ]
  },
  {
   "cell_type": "markdown",
   "metadata": {},
   "source": [
    "\n",
    "**b)**\n",
    "Find the electric field $\\vec{E}$ from the disk at the height $z$.\n",
    "\n",
    "<!-- --- begin hint in exercise --- -->\n",
    "\n",
    "**Hint.**\n",
    "Integrate over the disk $\\vec{d}q = \\rho_s\\vec{d}S$. It may help to start by introducing a symmetry argument so that you only need to find one of the components of the $\\vec{E}$-field.\n",
    "\n",
    "<!-- --- end hint in exercise --- -->\n",
    "\n"
   ]
  },
  {
   "cell_type": "markdown",
   "metadata": {},
   "source": [
    "\n",
    "**c)**\n",
    "Use the result from the previous exercise to find the electric potential $V$ in the same point.\n",
    "\n"
   ]
  },
  {
   "cell_type": "markdown",
   "metadata": {},
   "source": [
    "\n"
   ]
  },
  {
   "cell_type": "markdown",
   "metadata": {},
   "source": [
    "\n",
    "\n",
    "**d)**\n",
    "Find the electric field $\\vec{E}$ in the limit where $z$ is small (that is $z \\to 0$ from above). Interpret the result.\n",
    "\n",
    "\n",
    "\n"
   ]
  },
  {
   "cell_type": "markdown",
   "metadata": {},
   "source": [
    "\n",
    "**e)**\n",
    "Sketch/plot $|\\vec{E}|$ as a function of $z$ for $z>0$.\n",
    "\n",
    "\n",
    "\n"
   ]
  },
  {
   "cell_type": "markdown",
   "metadata": {},
   "source": [
    "\n",
    "**f)**\n",
    "Show that $\\vec{E}$ approaches the field from a point charge for large $z$.\n",
    "\n",
    "<!-- --- begin hint in exercise --- -->\n",
    "\n",
    "**Hint.**\n",
    "Use the series expansion $(1+x)^a \\approx 1 + ax$ når $x \\ll 1$.\n",
    "\n",
    "<!-- --- end hint in exercise --- -->\n",
    "\n"
   ]
  },
  {
   "cell_type": "markdown",
   "metadata": {},
   "source": [
    "\n",
    "<!-- --- end exercise --- -->\n",
    "\n",
    "\n",
    "\n",
    "\n",
    "<!-- --- begin exercise --- -->\n",
    "\n",
    "## Exercise 17: Plate with hole\n",
    "\n",
    "Find the magnitude of the electric field $|\\vec{E}|$ at a height $z$ along the $z$-axis over an infinitely large, plane surface with a circular hole with radius $a$. The center of the whole is in the origin. The surface has a uniform charge density $\\rho_s$.\n",
    "\n",
    "<!-- dom:FIGURE: [fig-electricpotential/potential-ex-platewithhole-010.png, width=400 frac=0.5] -->\n",
    "<!-- begin figure -->\n",
    "\n",
    "<p></p>\n",
    "<img src=\"fig-electricpotential/potential-ex-platewithhole-010.png\" width=400>\n",
    "\n",
    "<!-- end figure -->\n",
    "\n",
    "\n",
    "<!-- --- begin hint in exercise --- -->\n",
    "\n",
    "**Hint 1.**\n",
    "Superposition\n",
    "\n",
    "<!-- --- end hint in exercise --- -->\n",
    "\n",
    "<!-- --- begin hint in exercise --- -->\n",
    "\n",
    "**Hint 2.**\n",
    "The field over an infinite plate without a hole is the same as the field from an infinite plate in the limit $z \\to 0$.\n",
    "\n",
    "<!-- --- end hint in exercise --- -->\n",
    "\n"
   ]
  },
  {
   "cell_type": "markdown",
   "metadata": {},
   "source": [
    "\n"
   ]
  },
  {
   "cell_type": "markdown",
   "metadata": {},
   "source": [
    "\n",
    "<!-- --- end exercise --- -->\n",
    "\n",
    "\n",
    "\n",
    "\n",
    "<!-- --- begin exercise --- -->\n",
    "\n",
    "## Exercise 18: Dipole field\n",
    "\n",
    "The electric potential at large distances from a dipole $\\vec{p}$ at the origin is"
   ]
  },
  {
   "cell_type": "markdown",
   "metadata": {},
   "source": [
    "<!-- Equation labels as ordinary links -->\n",
    "<div id=\"_auto71\"></div>\n",
    "\n",
    "$$\n",
    "\\begin{equation}\n",
    "V(\\vec{r}) = \\frac{\\vec{p} \\cdot \\vec{r} }{4 \\pi \\epsilon_0 r^3} \\; .\n",
    "\\label{_auto71} \\tag{71}\n",
    "\\end{equation}\n",
    "$$"
   ]
  },
  {
   "cell_type": "markdown",
   "metadata": {},
   "source": [
    "Show that electric field at large distances is:"
   ]
  },
  {
   "cell_type": "markdown",
   "metadata": {},
   "source": [
    "<!-- Equation labels as ordinary links -->\n",
    "<div id=\"_auto72\"></div>\n",
    "\n",
    "$$\n",
    "\\begin{equation}\n",
    "\\vec{E}(\\vec{r}) = \\frac{1}{4 \\pi \\epsilon_0 } \\left( - \\frac{\\vec{p}}{r^3} + \\frac{3 (\\vec{p} \\cdot \\vec{r}) \\vec{r} }{r^5}  \\right) \\; .\n",
    "\\label{_auto72} \\tag{72}\n",
    "\\end{equation}\n",
    "$$"
   ]
  },
  {
   "cell_type": "markdown",
   "metadata": {},
   "source": [
    "\n",
    "<!-- --- end exercise --- -->\n",
    "\n",
    "\n",
    "\n",
    "\n",
    "<!-- --- begin exercise --- -->\n",
    "\n",
    "## Exercise 19: Half spherical shell\n",
    "\n",
    "The figure shows half of a spherical shell of radius $R$ and uniform surface charge density $\\rho_s$.\n",
    "\n",
    "<!-- dom:FIGURE:[fig-electricpotential/potential-ex-halfsphericalshell-010.png, width=600 frac=0.5] -->\n",
    "<!-- begin figure -->\n",
    "\n",
    "<p></p>\n",
    "<img src=\"fig-electricpotential/potential-ex-halfsphericalshell-010.png\" width=600>\n",
    "\n",
    "<!-- end figure -->\n",
    "\n",
    "\n",
    "\n",
    "**a)**\n",
    "Find the electrical potential along the $x$-axis.\n",
    "\n",
    "<!-- --- begin hint in exercise --- -->\n",
    "\n",
    "**Hint 1.**\n",
    "Use that $dq = \\rho_s 2 \\pi a \\, a \\sin \\theta d \\, d \\theta$.\n",
    "\n",
    "<!-- --- end hint in exercise --- -->\n",
    "\n",
    "<!-- --- begin hint in exercise --- -->\n",
    "\n",
    "**Hint 2.**\n",
    "Integrate using Sympy.\n",
    "\n",
    "<!-- --- end hint in exercise --- -->\n",
    "\n",
    "\n",
    "\n"
   ]
  },
  {
   "cell_type": "markdown",
   "metadata": {},
   "source": [
    "\n",
    "**b)**\n",
    "Show that the electrical potential is approximately $V(x) \\simeq Q/(4 \\pi \\epsilon_0)$ when $x \\gg a$, where $Q = 2 \\pi a^2 \\rho_s$.\n",
    "\n"
   ]
  },
  {
   "cell_type": "markdown",
   "metadata": {},
   "source": [
    "\n",
    "**c)**\n",
    "Find the electric field $E_x$ along the $x$-axis for $x>0$.\n",
    "\n",
    "<!-- --- begin hint in exercise --- -->\n",
    "\n",
    "**Hint.**\n",
    "Use Sympy.\n",
    "\n",
    "<!-- --- end hint in exercise --- -->\n",
    "\n",
    "\n",
    "\n"
   ]
  },
  {
   "cell_type": "markdown",
   "metadata": {},
   "source": [
    "\n",
    "<!-- --- end exercise --- -->\n",
    "\n",
    "\n",
    "## Modeling projects\n",
    "\n",
    "\n",
    "\n",
    "<!-- --- begin exercise --- -->\n",
    "\n",
    "## Exercise 20: Studying a charge distribution\n",
    "\n",
    "In this modeling project you will study an electrostatic system of your own choice using the tools we have developed so far. This will most probably feel uncomfortable, because we are used to answer questions, not pose the questions ourselves. However, this project aims to introduce you to how we think about and use physics in practice, and as you would be using physics as a tool in research or development.\n",
    "\n",
    "The goal of this project is to (1) choose a charge distribution of interest, (2) make a simplified model for the charge distribution that you can solve analytically, (3) make a computational approximation to your model, (4) test the computational model with results from your simplified model, and (5) visualize the results from the computational model, and (6) comment on your results, and (7) write a brief report on your whole study. We suggest that you use a Jupyter notebook to develop your project.\n",
    "\n",
    "This project is rather open, so let us provide you with two examples of projects that you may pursue:\n",
    "\n",
    "### Example 1: Charge distribution around a $\\text{CO}_2$ molecule\n",
    "\n",
    "What is the electric field and potential around a $\\text{CO}_2$ molecule? We start by finding a simplified model for the charge distribution of the $\\text{CO}_2$ molecule: We place a charge $2q$ to represent the C in the origin and a charge $-q$ in positions $(-a,0,0)$ and $(a,0,0)$. This system we can solve exactly. We find the potential and field along the $x$-axis analytically and plot the results. Then we find the potential and field in the $xy$-plane, and visualize the results. We study how the electric field decays when $r \\rightarrow \\infty$ by plotting $\\log_{10}(E)$ as a function of $\\log_{10}(x)$ for $x\\gg a$. We write a brief Jupyter notebook describing the results.\n",
    "\n",
    "### Example 2: Inside a charged box\n",
    "\n",
    "What is the electric potential and electric field inside a box with charged surfaces? The full model is in two dimensions as a square box centered in the origin with sides $2L$ and a charge $Q$ uniformly distributed on each of the four sides. First, we simplify the model to consist of four charges, $Q$, placed at the center of each of the four sides. We find the electric potential and field in the center of the box for this system. We also calculate the electric potential and field along the $x$-axis. Then we use 100 charges to model each of the 4 sides (400 charges in total) to calculate the potential and the electric field. We visualize the potential and field in space and compare the solution with the simplified model. Is the model ok along the $x$-axis. Where in the box are the deviations the greatest between the simplified model and the full model? We write a brief Jupyter notebook to describe the study. You can vary this study by e.g. choosing different charges on the various four sides, studying a three-dimensional system and comparing with a two-dimensional system and so on.\n",
    "\n",
    "### Grading rubric\n",
    "\n",
    "To help you understand how this project will be assessed we provide you with a simple rubric that can help you see if you demonstrate the expected competences. You will need to satisfy all 7 points to get the project approved.\n",
    "\n",
    "<table border=\"1\">\n",
    "<thead>\n",
    "<tr><th align=\"center\">       Element       </th> <th align=\"center\">Points (0/1)</th> <th align=\"center\">                                                                                       Competence                                                                                      </th> </tr>\n",
    "</thead>\n",
    "<tbody>\n",
    "<tr><td align=\"left\">   Description              </td> <td align=\"center\">   1               </td> <td align=\"left\">   There is a description of the system both in terms of a physical system, and with all the needed variables defined.                                                                        </td> </tr>\n",
    "<tr><td align=\"left\">   Sketch                   </td> <td align=\"center\">   1               </td> <td align=\"left\">   There is a sketch of the system, with an axis, length and charges shown.                                                                                                                   </td> </tr>\n",
    "<tr><td align=\"left\">   Simplified model         </td> <td align=\"center\">   1               </td> <td align=\"left\">   There is a description of a simplified model. All the positions and charges are described. There are arguments for the approximations used.                                                </td> </tr>\n",
    "<tr><td align=\"left\">   Mathematical solution    </td> <td align=\"center\">   1               </td> <td align=\"left\">   Coulombs law for the field and/or the potential has been used to find the field/potential for the simplified model. The results are plotted.                                               </td> </tr>\n",
    "<tr><td align=\"left\">   Code                     </td> <td align=\"center\">   1               </td> <td align=\"left\">   The full model is solved using a Python program to find the field and potential in space. The field and potential is visualized.                                                           </td> </tr>\n",
    "<tr><td align=\"left\">   Comparison               </td> <td align=\"center\">   1               </td> <td align=\"left\">   The full model is compared with the simplified model in selected points, along selected lines, or in selected limits. Differences and similarities are commented.                          </td> </tr>\n",
    "<tr><td align=\"left\">   Written report           </td> <td align=\"center\">   1               </td> <td align=\"left\">   There is a report that explains the simplified and advanced models with mathematics, programs, plots and visualizations of the fields/potentials. The report may be a Jupyter notebook.    </td> </tr>\n",
    "</tbody>\n",
    "</table>\n",
    "<!-- --- end exercise --- -->"
   ]
  }
 ],
 "metadata": {},
 "nbformat": 4,
 "nbformat_minor": 2
}