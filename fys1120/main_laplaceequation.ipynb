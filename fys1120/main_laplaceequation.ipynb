{
 "cells": [
  {
   "cell_type": "markdown",
   "metadata": {},
   "source": [
    "<!-- dom:TITLE: Laplace equation -->\n",
    "# Laplace equation\n",
    "<!-- dom:AUTHOR: Anders Malthe-Sørenssen Email:malthe@fys.uio.no at Department of Physics, University of Oslo -->\n",
    "<!-- Author: -->  \n",
    "**Anders Malthe-Sørenssen** (email: `malthe@fys.uio.no`), Department of Physics, University of Oslo\n",
    "\n",
    "Date: **Sep 2, 2020**\n",
    "\n",
    "<!-- Externaldocuments: ../nickname1/main_nickname1, ../nickname2/main_nickname2 -->\n",
    "\n",
    "<!-- Common Mako variables and functions -->\n",
    "\n",
    "\n",
    "\n",
    "\n",
    "\n",
    "\n",
    "\n",
    "\n",
    "\n",
    "So far we have found the electric field $\\vec{E}$ from the spatial distribution of charges by either summing or integrating up the contributions to the electric field; by integrating the contributions to the electric potential and then taking the gradient of the potential to find the electric field; or in highly symmetric situations we can use Gauss' law on integral form to relate the electric field to the charge inside a Gauss surface. The integration methods are robust --- they work as long as we know the charge distribution --- but it can be difficult to find the integrals in practice.\n",
    "\n",
    "\n",
    "In these cases is can be useful to reformulate the problem in a different form --- as a differential equation. We have in general found two sets of differential equations for the electric field: Gauss' law on differential form, $\\nabla \\cdot \\vec{E} = \\rho/\\epsilon_0$; and that the curl of the electric field is zero, $\\nabla \\times \\vec{E} = 0$. This gives us a set of partial differential equations that can be solved, but it may again be practically challenging. However, if we introduce the potential $V$ so that $\\vec{E} = - \\nabla V$, these equations can be reformulated in a simpler form because $\\nabla \\cdot \\vec{E} = -\\nabla^2 V = \\rho/\\epsilon_0$ and $\\nabla \\times \\nabla V = 0$ always because the curl or a gradient always is zero. This equation is called *Poisson's equation*. Together with appropriate boundary conditions, solving Poisson's equations gives us the potential which again gives us the electric field. Solving Poisson's equation is therefore equivalent to finding the potential or electric field from an integral over the charges that provides us with new, powerful tools to study electrostatic systems, but it requires new mathematical and numerical methods.\n",
    "\n",
    "In this chapter we will demonstrate how we can solve problems in electrostatics by solving Poisson's equation, we will demonstrate fundamental mathematical properties of the equations such as the uniqueness of solutions given a set of boundary conditions, and we will show how Poisson equation can be used to model complex electrostatic systems.\n",
    "\n",
    "# Motivational example\n",
    "\n",
    "Fig. [fig:laplace-lightningimage01](#fig:laplace-lightningimage01) illustrates a lightning strike. How would we model such a system using the physics we have learned so far? We would need to simplify the system: We could simplify it to a cloud and the ground as illustrated in Fig. [fig:laplace-lightning010](#fig:laplace-lightning010). We assume that the cloud is charged and therefore has a potential $V_1$ relative to the potential $V_0$ at the ground. What then happens during the lightning?\n",
    "\n",
    "<!-- dom:FIGURE:[fig-laplaceequation/laplace-lightningimage01.png, height=400 width=600 frac=0.65] Image of lightning from <https://www.youtube.com/watch>?v=nBYZpsbu9ds. <div id=\"fig:laplace-lightningimage01\"></div> -->\n",
    "<!-- begin figure -->\n",
    "<div id=\"fig:laplace-lightningimage01\"></div>\n",
    "\n",
    "<p>Image of lightning from <https://www.youtube.com/watch>?v=nBYZpsbu9ds.</p>\n",
    "<img src=\"fig-laplaceequation/laplace-lightningimage01.png\" height=400 width=600>\n",
    "\n",
    "<!-- end figure -->\n",
    "\n",
    "\n",
    "<!-- dom:FIGURE:[fig-laplaceequation/laplace-lightning010.png, height=400 width=600 frac=0.9] Real system and model for a lightning strike. <div id=\"fig:laplace-lightning010\"></div> -->\n",
    "<!-- begin figure -->\n",
    "<div id=\"fig:laplace-lightning010\"></div>\n",
    "\n",
    "<p>Real system and model for a lightning strike.</p>\n",
    "<img src=\"fig-laplaceequation/laplace-lightning010.png\" height=400 width=600>\n",
    "\n",
    "<!-- end figure -->\n",
    "\n",
    "\n",
    "\n",
    "We would need to know some additional physics for this: The effect of dielectric breakdown. When the electric field (that is, the potential difference) across a small (dielectric) region exceeds a maximum value, the charges (electrons) are no longer attached (bound), but are ripped from their bound positions, and become free. We call this *dielectric breakdown*. The result is the motion of charges, which we will discuss further down, but also that the potential effectively changes. However, in order to find out if and where there is dielectric breakdown we would need to find the electric field in space, for example by finding the electric potential. How can we find the electric potential everywhyere in space?\n",
    "\n",
    "## Finding the electric potential\n",
    "\n",
    "This is where Poisson's equation provides a solution. In general, to find the potential from a given set of charges, we need to solve the integral:"
   ]
  },
  {
   "cell_type": "markdown",
   "metadata": {},
   "source": [
    "<!-- Equation labels as ordinary links -->\n",
    "<div id=\"_auto1\"></div>\n",
    "\n",
    "$$\n",
    "\\begin{equation}\n",
    "V( \\vec{r}) = \\int_v \\frac{\\rho(\\vec{r}')}{4 \\pi \\epsilon_0 |r-r'|} \\mathrm{d} v' \n",
    "\\label{_auto1} \\tag{1}\n",
    "\\end{equation}\n",
    "$$"
   ]
  },
  {
   "cell_type": "markdown",
   "metadata": {},
   "source": [
    "Alternatively, we would need to find the electric field, which is given from Gauss' law on differential form:"
   ]
  },
  {
   "cell_type": "markdown",
   "metadata": {},
   "source": [
    "<!-- Equation labels as ordinary links -->\n",
    "<div id=\"_auto2\"></div>\n",
    "\n",
    "$$\n",
    "\\begin{equation}\n",
    "\\nabla \\cdot \\vec{D} = \\rho \\; ,\n",
    "\\label{_auto2} \\tag{2}\n",
    "\\end{equation}\n",
    "$$"
   ]
  },
  {
   "cell_type": "markdown",
   "metadata": {},
   "source": [
    "For a linear dielectric $\\vec{D} = \\epsilon \\vec{E}$ so Gauss' law on differential form becomes:"
   ]
  },
  {
   "cell_type": "markdown",
   "metadata": {},
   "source": [
    "<!-- Equation labels as ordinary links -->\n",
    "<div id=\"_auto3\"></div>\n",
    "\n",
    "$$\n",
    "\\begin{equation}\n",
    "\\nabla \\cdot \\vec{D} = \\nabla \\epsilon \\vec{E} = \\rho \\; .\n",
    "\\label{_auto3} \\tag{3}\n",
    "\\end{equation}\n",
    "$$"
   ]
  },
  {
   "cell_type": "markdown",
   "metadata": {},
   "source": [
    "If we assume that $\\epsilon$ is uniform, we can put it outside the differential ($\\nabla$) operator, getting"
   ]
  },
  {
   "cell_type": "markdown",
   "metadata": {},
   "source": [
    "<!-- Equation labels as ordinary links -->\n",
    "<div id=\"_auto4\"></div>\n",
    "\n",
    "$$\n",
    "\\begin{equation}\n",
    "\\epsilon \\nabla \\vec{E} = \\rho \\; \\Rightarrow \\; \\nabla \\cdot \\vec{E} = \\frac{\\rho}{\\epsilon}\n",
    "\\label{_auto4} \\tag{4}\n",
    "\\end{equation}\n",
    "$$"
   ]
  },
  {
   "cell_type": "markdown",
   "metadata": {},
   "source": [
    "We then insert that $\\vec{E} = - \\nabla V$, getting:"
   ]
  },
  {
   "cell_type": "markdown",
   "metadata": {},
   "source": [
    "<!-- Equation labels as ordinary links -->\n",
    "<div id=\"_auto5\"></div>\n",
    "\n",
    "$$\n",
    "\\begin{equation}\n",
    "\\nabla \\cdot \\vec{E} = - \\nabla^2 V = \\frac{\\rho}{\\epsilon} \\; .\n",
    "\\label{_auto5} \\tag{5}\n",
    "\\end{equation}\n",
    "$$"
   ]
  },
  {
   "cell_type": "markdown",
   "metadata": {},
   "source": [
    "We call this equation *Poisson's equation*:\n",
    "\n",
    "\n",
    "**Poisson's equation.**"
   ]
  },
  {
   "cell_type": "markdown",
   "metadata": {},
   "source": [
    "<!-- Equation labels as ordinary links -->\n",
    "<div id=\"_auto6\"></div>\n",
    "\n",
    "$$\n",
    "\\begin{equation}\n",
    "\\nabla^2 V = - \\frac{\\rho}{\\epsilon} \n",
    "\\label{_auto6} \\tag{6}\n",
    "\\end{equation}\n",
    "$$"
   ]
  },
  {
   "cell_type": "markdown",
   "metadata": {},
   "source": [
    "In the special case when $\\rho =0$, we get *Laplace's equation*:\n",
    "\n",
    "\n",
    "**Laplace's equation.**"
   ]
  },
  {
   "cell_type": "markdown",
   "metadata": {},
   "source": [
    "<!-- Equation labels as ordinary links -->\n",
    "<div id=\"_auto7\"></div>\n",
    "\n",
    "$$\n",
    "\\begin{equation}\n",
    "\\nabla^2 V = 0 \n",
    "\\label{_auto7} \\tag{7}\n",
    "\\end{equation}\n",
    "$$"
   ]
  },
  {
   "cell_type": "markdown",
   "metadata": {},
   "source": [
    "Notice that is $\\rho$ is zero everywhere, there will be no electric fields. The idea of Laplace's equation is that there may be plenty of charges elsewhere or at the boundaries of the system --- and these charges set up electric fields --- but there are no free charges inside the system where we want to solve Laplace's equation.\n",
    "\n",
    "In addition to these equations, in order to find $V$, we need to specify the *boundary conditions* for the problem. In order to find the potential in a region $v$, we may for example need the values for the potential on a surface $S$ enclosing $v$. For example, in the one-dimensional case introduced above, we may need to know the values of the potential $V$ at the boundaries. This is indeed why it is called *boundary conditions*. We will later come back to what types of boundary conditions are necessary for the solution to be unique, and what different types of boundary conditions we may have for Poisson's or Laplace's equation.\n",
    "\n",
    "## Example: Laplace's equation in one dimension\n",
    "\n",
    "### Problem\n",
    "\n",
    "*For a system of length $L$ with $V(x=0) = V_0$ and $V(x=L) = V_1$. What is the potential in between when there are no charges in this range and the material is a homogeneous dielectric with a constant $\\epsilon$.*\n",
    "\n",
    "<!-- dom:FIGURE:[fig-laplaceequation/laplace-laplace1d010.png, height=400 width=600 frac=1.0] Illustration of 1d problem. <div id=\"fig:laplace-laplace1d010\"></div> -->\n",
    "<!-- begin figure -->\n",
    "<div id=\"fig:laplace-laplace1d010\"></div>\n",
    "\n",
    "<p>Illustration of 1d problem.</p>\n",
    "<img src=\"fig-laplaceequation/laplace-laplace1d010.png\" height=400 width=600>\n",
    "\n",
    "<!-- end figure -->\n",
    "\n",
    "\n",
    "### Solution\n",
    "\n",
    "The potential is given by Laplace's equation"
   ]
  },
  {
   "cell_type": "markdown",
   "metadata": {},
   "source": [
    "$$\n",
    "\\begin{equation}\n",
    "\\frac{\\partial^2 V}{\\partial x^2} = 0 \\,\n",
    "\\label{}\n",
    "\\end{equation}\n",
    "$$"
   ]
  },
  {
   "cell_type": "markdown",
   "metadata": {},
   "source": [
    "The solution to this equation is $V(x) = A + B x$.\n",
    "\n",
    "The boundary conditions then provides the constants $A$ and $B$. We notice that we need two boundary conditions to specify the problem. (This means that if we only knew that $V(0) = V_0$, we would not be able to find both constants).\n",
    "\n",
    "The boundary conditions gives that $V(0) = A = V_0$ and $V(L) = V_0 + BL = V_1$, and therefore $B = (V_1- V_0)/L$.\n",
    "\n",
    "### Problem\n",
    "\n",
    "What is the potential if the charge distribution is $\\rho(x) =  \\rho_0 \\sin(x/L)$?\n",
    "\n",
    "### Solution\n",
    "\n",
    "In this case, we need to find the potential from Poisson's equation"
   ]
  },
  {
   "cell_type": "markdown",
   "metadata": {},
   "source": [
    "<!-- Equation labels as ordinary links -->\n",
    "<div id=\"_auto8\"></div>\n",
    "\n",
    "$$\n",
    "\\begin{equation}\n",
    "\\frac{\\partial^2 V}{\\partial x^2} = -\\frac{\\rho}{\\epsilon} = -\\frac{\\rho_0}{\\epsilon} \\sin(x/L) \\; .\n",
    "\\label{_auto8} \\tag{8}\n",
    "\\end{equation}\n",
    "$$"
   ]
  },
  {
   "cell_type": "markdown",
   "metadata": {},
   "source": [
    "This equation has the solutions $V(x) = B \\cos(x/L) + C \\sin(x/L) + Dx + E$, which inserted gives"
   ]
  },
  {
   "cell_type": "markdown",
   "metadata": {},
   "source": [
    "<!-- Equation labels as ordinary links -->\n",
    "<div id=\"_auto9\"></div>\n",
    "\n",
    "$$\n",
    "\\begin{equation}\n",
    "\\frac{\\partial^2 V}{\\partial x^2} = -B/L^2 \\cos(x/L) - C/L^2 \\sin(x/L) = -\\frac{ \\rho_0}{\\epsilon} \\sin(x/L) \\; ,\n",
    "\\label{_auto9} \\tag{9}\n",
    "\\end{equation}\n",
    "$$"
   ]
  },
  {
   "cell_type": "markdown",
   "metadata": {},
   "source": [
    "where we see that $B = 0$ and $-C/ L^2 = -\\rho_0 /\\epsilon$, that is, $C = \\rho_0 L^2/\\epsilon$. The two constants $D$ and $E$ must be determined from the boundary conditions.\n",
    "\n",
    "# Laplace's equation and other differential equations\n",
    "\n",
    "## Laplace's equation vs the equations of motion\n",
    "\n",
    "You already know a differential equation that may look similar to Laplace's equation. When you solve Newton's law for motion for a time-varying external force $F(t) = m f(t)$:"
   ]
  },
  {
   "cell_type": "markdown",
   "metadata": {},
   "source": [
    "<!-- Equation labels as ordinary links -->\n",
    "<div id=\"_auto10\"></div>\n",
    "\n",
    "$$\n",
    "\\begin{equation}\n",
    "\\frac{d^2x}{dt^2} = f(t) \\; , \\, x(t_0) = x_0 \\; , \\; \\frac{dx}{dt}(t_0) = v_0 \\; .\n",
    "\\label{_auto10} \\tag{10}\n",
    "\\end{equation}\n",
    "$$"
   ]
  },
  {
   "cell_type": "markdown",
   "metadata": {},
   "source": [
    "First, we notice that this equation looks similar to Laplace's equation in one dimension:"
   ]
  },
  {
   "cell_type": "markdown",
   "metadata": {},
   "source": [
    "<!-- Equation labels as ordinary links -->\n",
    "<div id=\"_auto11\"></div>\n",
    "\n",
    "$$\n",
    "\\begin{equation}\n",
    "\\frac{d^2V}{dx^2} = \\rho(x) \\; , \\; V(a) = V_a \\; , \\; V(b) = V_b \\; .\n",
    "\\label{_auto11} \\tag{11}\n",
    "\\end{equation}\n",
    "$$"
   ]
  },
  {
   "cell_type": "markdown",
   "metadata": {},
   "source": [
    "You may therefore be tempted to use some of the techniques you already know for one-dimensional equations of motion. However, there are important differences. One difference may be in the boundary conditions. For Newton's equation we usually have an *initial value* problem. We know $x$ and its derivative at a given time $x(t_0) = x_0$ and $x'(t_0) = v_0$. For Laplace's equation we often have a boundary value problem, where we know the value of $V(x)$ for two different values of $x$, e.g. $V(a) = V_a$ and $V(b) = V_b$. This becomes particularly important for numerical solution methods. For an initial value problem we can simply integrate forward in time using a numerical, iterative scheme. However, for a boundary value problem, we cannot do this, since we need to ensure that we end up at a particular value $V(b) = V_b$. Thus we must use different numerical methods. Finally, Laplace's equation is generalized to a partial differential equation in higher dimensions, and Newton's equations do not have a corresponding generalization. We can therefore use some intuition from our previos experience, but we also need to build new intuition about partial differential equations and their solution methods.\n",
    "\n",
    "## Why is Laplace's equation so common?\n",
    "\n",
    "You may not yet know this, but Laplace's equation is one of these equations that you will meet again and again in physics and other disciplines. Indeed, it is such a beautifully simple equation, $\\nabla^2 V = 0$, which makes it mathematically interesting in itself. But the equation is also of fundamental importance in physics. One situation where Laplace's equation appear are in variations of the diffusion equation. The time development of a concentration field, $c(\\vec{r};t)$, or a temperature field, $T(\\vec{r};t)$ is given by the diffusion equation"
   ]
  },
  {
   "cell_type": "markdown",
   "metadata": {},
   "source": [
    "<!-- Equation labels as ordinary links -->\n",
    "<div id=\"_auto12\"></div>\n",
    "\n",
    "$$\n",
    "\\begin{equation}\n",
    "\\frac{\\partial c}{\\partial t} = D \\nabla^2 c \\; \\text{ or } \\; \\frac{\\partial T}{\\partial t} = \\alpha \\nabla^2 T \\; .\n",
    "\\label{_auto12} \\tag{12}\n",
    "\\end{equation}\n",
    "$$"
   ]
  },
  {
   "cell_type": "markdown",
   "metadata": {},
   "source": [
    "where $D$ is called the diffusivity and $\\alpha$ the thermal diffusivity. These equations are called the *diffusion equation* and the *heat equation*. In the *stationary state*, that is when the time derivative is zero, this equation becomes Laplace's equation. Thus many types of transport equations result in Laplace's equation in the stationary state. (We will later see that this is also the case in electrostatics).\n",
    "\n",
    "\n",
    "# Boundary conditions\n",
    "\n",
    "The solution of Laplace's or Poisson's equations depends on the boundary conditions, but what kind of boundary conditions do we need to find a solution? This requires answers to several questions: Is there a unique solution to the equations given a set of boundary conditions? And what kinds of boundary conditions are sufficient to ensure a unique solution? First, we will provide a proof of the uniqueness of the solution for a particular type of boundary conditions, and then we will discuss other types of boundary conditions.\n",
    "\n",
    "## Existence and uniqueness\n",
    "\n",
    "We can find the electric field by solving Laplace's (or Poisson's) equation to find the potential and then find the electric field from the potential. But how do we know if a solution to Laplace's or Poisson's equation even *exist*? And if it exists, how do we know that it is *unique*?\n",
    "\n",
    "**Existence.**\n",
    "\n",
    "First, we will simply borrow a result from mathematics: A solution to Poisson's and Laplace's equation exists.\n",
    "\n",
    "\n",
    "\n",
    "If we find a solution, how do we know that it is the right or the only solution? For this we need to demonstrate uniqueness of the solution. We will do this in two steps. First, we will show that a function $V$ that satisfies Laplace's equation in a region $v$, then $V$ does not have any extrema on the inside of $v$: all the extreme are on the boundary, $S$. Second, we will use this to demonstrate the the solution to Laplace's equation in a volume $v$ is uniquely determined if the potential $V$ is specified on the boundary surface $S$.\n",
    "\n",
    "### The extremes of $V$ are on the boundaries\n",
    "\n",
    "Let us assume that $V$ has a maximum (minimum) in a point inside $v$. This implies that $V$ will decrease (increase) away from this point, which again implies that the gradient $\\nabla V$ must point in towards (out from) the point. The electric field $\\vec{E} = - \\nabla V$ must therefore point out from (in towards) the point. Gauss' law then implies that there must be a positive (negative) free charge in this point. But this cannot be true for Laplace's equation, since $\\rho = 0$ in the region $v$. Consequently, $V$ does not have any local maxima (or minima) inside $v$.\n",
    "\n",
    "### The value of $V$ is the average of the surrounding values\n",
    "\n",
    "This result is a special case: The value of $V$ at a point $\\vec{r}$ is the average value of $V$ over a spherical surface or radius $R$ around $\\vec{r}$. We can prove this by first proving that this is the case for a single point charge outside the sphere, and therefore that it is the case for any charge distribution which is the sum of single point charges. For a single point charge $q$ at a distance $z$ from the center of a sphere of radius $R$, to potential at a point $\\vec{r}'$ on the surface of the sphere is"
   ]
  },
  {
   "cell_type": "markdown",
   "metadata": {},
   "source": [
    "<!-- Equation labels as ordinary links -->\n",
    "<div id=\"_auto13\"></div>\n",
    "\n",
    "$$\n",
    "\\begin{equation}\n",
    "V = \\frac{q}{4 \\pi \\epsilon_0 |z \\mathbf{\\hat{z}} - \\vec{r}|} \\; ,\n",
    "\\label{_auto13} \\tag{13}\n",
    "\\end{equation}\n",
    "$$"
   ]
  },
  {
   "cell_type": "markdown",
   "metadata": {},
   "source": [
    "where $|z \\mathbf{\\hat{z}} - \\vec{r}| = z^2 + R^2 - 2 z R \\cos \\theta$, where $\\theta$ is the angle between the $z$-axis and the point $\\vec{r}'$. A surface element $\\mathrm{d} S$ of an element of thickness $\\mathrm{d} \\theta$ is $\\mathrm{d} S = 2 \\pi R \\sin \\theta  \\, R \\theta \\mathrm{d} \\theta$ and the total area of the sphere is $4 \\pi R^2$. The average of $V$ over the sphere is therefore:"
   ]
  },
  {
   "cell_type": "markdown",
   "metadata": {},
   "source": [
    "$$\n",
    "\\begin{eqnarray}\n",
    "V_{\\text{avg}} &=& \\frac{1}{4 \\pi R^2} \\int_S \\frac{q}{4 \\pi \\epsilon_0 ( z^2 + R^2 - 2 z R \\cos \\theta)^{1/2} } \\mathrm{d} S \\\\ \n",
    "&=& \\frac{q}{4 \\pi R^2 4 \\pi \\epsilon_0} \\int \\frac{R^2\\sin\\theta \\mathrm{d} \\theta}{( z^2 + R^2 - 2 z R \\cos \\theta)^{1/2} } \\\\ \n",
    "&=& \\frac{q}{4 \\pi \\epsilon_0} \\frac{1}{2zR} \\left( ( z + R) - (z - R) \\right) \\\\ \n",
    "&=& \\frac{q}{4 \\pi \\epsilon_0 z} \n",
    "\\end{eqnarray}\n",
    "$$"
   ]
  },
  {
   "cell_type": "markdown",
   "metadata": {},
   "source": [
    "We recognize this as the potential from a single point charge $q$ at the center of the sphere. This is also not surprising at all, because the integral is the same as we would find for the potential of a uniform charge $q$ on the surface in a point at a distance $z$ from the center of the sphere, and in this case we know that the electric field from a uniformly charged sphere is the same as the potential from a single point charge at the center of the sphere, when the point is outside the sphere (if it is inside the sphere, the potential is zero).\n",
    "\n",
    "This must therefore also be true for the superposition of any set of charges outside the sphere. We have therefore proved that the potential in a point $\\vec{r}$ is the average of the potentials over a sphere centered in $\\vec{r}$. This implies that $V$ cannot have any local maxima or minima inside a region, they must occur at the boundaries. Because if $V$ had a maximum (or a minimum) in a point $\\vec{r}$, it would be possible to find a sphere around $\\vec{r}$ so that all the points on the sphere would be smaller than (or larger) than the value at $\\vec{r}$ --- this is what is means to be a local maximum/minimum.\n",
    "\n",
    "### Averaging property of $V$\n",
    "\n",
    "We also notice this *averaging property* of $V$: $V$ in a point is the average of the values on a sphere around that point. We will see that this is also the case for Laplace's equation on discrete form and forms the basis for a method to solve Laplace's equation --- the method of relaxation.\n",
    "\n",
    "### Laplace's equation has a unique solution\n",
    "\n",
    "We can use this to prove that Laplace's equation has a unique solution in $v$ given that the values of $V$ on the boundaries are specified, $V(S)$. Let us assume that there are *two* solutions to Laplace's equation, $V_1$ and $V_2$, that both satisfy Laplace's equation in $v$. We then define $V = V_1 - V_2$. If the two solutions $V_1$ and $V_2$ are identical at the boundaries, we notice that $V$ must be zero at the boundaries. Because $V$ is a solution to Laplace's equation it cannot have a maximum or a minimum at the boundary, hence $V=0$ in the whole volume $v$, and we conclude that $V_1 = V_2$. The solution must therefore be unique. This implies that is does not matter how we find a solution: If we find a solution that satisfies the boundary conditions, then the solution is *the* solution, the unique solution to the problem.\n",
    "\n",
    "## Different types of boundary conditions\n",
    "\n",
    "### Dirichlet boundary conditions\n",
    "\n",
    "The typical boundary condition for Poisson's equation is to specify the value of the potential at the boundary. This type of boundary condition is called a *Dirichlet boundary condition*. Boundaries can be either the external boundaries or internal boundaries. Fig. [fig:laplace-boundary010](#fig:laplace-boundary010) illustrates boundary conditions for a one dimensional cases and a two-dimensional case. Dirichlet boundary condition here correspond to specifying the value of the potential at specific positions $V(x_i) = V_i$\n",
    "\n",
    "\n",
    "### von Neumann boundary conditions\n",
    "\n",
    "Another type of boundary condition is to specify not the value of $V$, but instead the derivative of $V$, $\\partial V/\\partial n$, in a given direction $n$, typically normal to the boundary. This type of boundary condition is called *von Neumann boundary conditions*. In the one-dimensional case, von Neumann boundary conditions corresponds to specifying $\\partial V/\\partial x$ at the boundaries, which corresponds to specifying the electric field at the boundaries, because $E_x = - \\partial V/\\partial x$.\n",
    "\n",
    "The same interpretation is valid in higher dimensions, where we interpret $\\partial V/ \\partial n$ as the gradient in the direction along $n$, which again is related to the electric field. A common type of von Neumann boundary conditions, is that the derivative is zero at the boundaries. In the case of the diffusion equation, we interpret von Neumann boundary conditions as the flux into the system at the boundaries. In the case of the electric potential, we can also interpret the von Neumann condition as the flux --- the flux of the electric field in the direction of $n$: $\\vec{E} \\cdot \\mathbf{\\hat{n}}$, across a small surface area of size unity.\n",
    "\n",
    "\n",
    "<!-- dom:FIGURE:[fig-laplaceequation/laplace-boundary010.png, height=400 width=600 frac=1.0] Illustration of the boundary conditions. FIX THIS FIGURE <div id=\"fig:laplace-boundary010\"></div> -->\n",
    "<!-- begin figure -->\n",
    "<div id=\"fig:laplace-boundary010\"></div>\n",
    "\n",
    "<p>Illustration of the boundary conditions. FIX THIS FIGURE</p>\n",
    "<img src=\"fig-laplaceequation/laplace-boundary010.png\" height=400 width=600>\n",
    "\n",
    "<!-- end figure -->\n",
    "\n",
    "\n",
    "\n",
    "# Poisson's equation in various coordinate systems\n",
    "\n",
    "For your convenience, we provide Poisson's equation, $\\nabla^2 V = - \\rho/\\epsilon$, in various coordinate systems:\n",
    "\n",
    "## Cartesian coordinates\n",
    "\n",
    "In Cartesian coordinates Poisson's equation is:"
   ]
  },
  {
   "cell_type": "markdown",
   "metadata": {},
   "source": [
    "<!-- Equation labels as ordinary links -->\n",
    "<div id=\"_auto14\"></div>\n",
    "\n",
    "$$\n",
    "\\begin{equation}\n",
    "\\nabla^2 V = \\frac{\\partial^2 V}{\\partial x^2} + \\frac{\\partial^2 V}{\\partial y^2}\n",
    " + \\frac{\\partial^2 V}{\\partial z^2} = - \\rho(x,y,z)/\\epsilon \\; .\n",
    "\\label{_auto14} \\tag{14}\n",
    "\\end{equation}\n",
    "$$"
   ]
  },
  {
   "cell_type": "markdown",
   "metadata": {},
   "source": [
    "## Cylindrical coordinates\n",
    "\n",
    "In cylindrical coordinates we describe a position using the cylindrical radius $r$, the azimuthal angle $\\phi$ around the $z$-axis (measured with $\\phi = 0$ at the $x$-axis), and the $z$-coordinate, $z$: $V = V(r,\\phi,z)$. The $\\nabla^2$ operator applied to $V$ in cylindrical coordinates is:"
   ]
  },
  {
   "cell_type": "markdown",
   "metadata": {},
   "source": [
    "<!-- Equation labels as ordinary links -->\n",
    "<div id=\"_auto15\"></div>\n",
    "\n",
    "$$\n",
    "\\begin{equation}\n",
    "\\nabla^2 V = \\frac{1}{r} \\frac{\\partial}{\\partial r} \\left( r \\frac{\\partial V}{\\partial r} \\right) + \\frac{1}{r^2} \\frac{\\partial^2 V}{\\partial \\phi^2} + \\frac{\\partial^2 V}{\\partial z^2} = - \\rho(r,\\phi,z)/\\epsilon \\; .\n",
    "\\label{_auto15} \\tag{15}\n",
    "\\end{equation}\n",
    "$$"
   ]
  },
  {
   "cell_type": "markdown",
   "metadata": {},
   "source": [
    "## Spherical coordinates\n",
    "In spherical coordinates we describe a position using the spherical radius $r$, the azimuthal angle $\\theta$ from the $x$-axis, and the angle $\\phi$ with the $z$-axis: $V = V(r,\\theta, \\phi)$. The $\\nabla^2$ operator applied to $V$ in spherical coordinates is:"
   ]
  },
  {
   "cell_type": "markdown",
   "metadata": {},
   "source": [
    "<!-- Equation labels as ordinary links -->\n",
    "<div id=\"_auto16\"></div>\n",
    "\n",
    "$$\n",
    "\\begin{equation}\n",
    "\\nabla^2 V = \\frac{1}{r^2} \\frac{\\partial }{\\partial r} \\left( r^2 \\frac{\\partial V}{\\partial r} \\right) + \\frac{1}{r^2 \\sin\\theta} \\frac{\\partial}{\\partial \\theta} \\left( \\sin \\theta \\frac{\\partial V}{\\partial \\theta}\\right) + \\frac{1}{r^2 \\sin^2 \\theta} \\frac{\\partial^2 V}{\\partial \\phi^2} \\; .\n",
    "\\label{_auto16} \\tag{16}\n",
    "\\end{equation}\n",
    "$$"
   ]
  },
  {
   "cell_type": "markdown",
   "metadata": {},
   "source": [
    "## Choosing the right version of Poisson's equation\n",
    "\n",
    "How do we know which version of Poisson's equation to use? This follows from the symmetry of the boundary conditions. If the boundaries are specified with cylindrical symmetry, use cylindrical coordinates. If boundary conditions have spherical symmetry use spherical coordinates.\n",
    "\n",
    "## Example: Cylindrical system\n",
    "\n",
    "### Problem\n",
    "\n",
    "A cylindrical system consists of two concentric cylindrical surfaces with radius $a$ and $b$. Assume that the potential at $r=a$ is $V_a$ and at $r=b$ is $V_b$. There are no free charges for $a<r<b$. Find the potential for $a<r<b$.\n",
    "\n",
    "### Solution\n",
    "\n",
    "We recognize that the system has cylindrical symmetry, and we expect $V = V(r)$, so that there is no $\\phi$ or $z$ dependence. Because there are no free charges between the cylinder surfaces, the system must obey Laplace's equation in this region. We use Laplace's equation in cylindrical coordinates, but only include the $r$-derivative:"
   ]
  },
  {
   "cell_type": "markdown",
   "metadata": {},
   "source": [
    "<!-- Equation labels as ordinary links -->\n",
    "<div id=\"_auto17\"></div>\n",
    "\n",
    "$$\n",
    "\\begin{equation}\n",
    "\\nabla^2 V = \\frac{1}{r} \\frac{\\partial}{\\partial r} \\left( r \\frac{\\partial V}{\\partial r} \\right) = 0 \n",
    "\\label{_auto17} \\tag{17}\n",
    "\\end{equation}\n",
    "$$"
   ]
  },
  {
   "cell_type": "markdown",
   "metadata": {},
   "source": [
    "For $r>a>0$, we multiply by $r$, getting"
   ]
  },
  {
   "cell_type": "markdown",
   "metadata": {},
   "source": [
    "<!-- Equation labels as ordinary links -->\n",
    "<div id=\"_auto18\"></div>\n",
    "\n",
    "$$\n",
    "\\begin{equation}\n",
    "\\frac{\\partial}{\\partial r} \\left( r \\frac{\\partial V}{\\partial r} \\right) = 0 \n",
    "\\label{_auto18} \\tag{18}\n",
    "\\end{equation}\n",
    "$$"
   ]
  },
  {
   "cell_type": "markdown",
   "metadata": {},
   "source": [
    "This means that what is inside the paranthesis must be a constant, that is,"
   ]
  },
  {
   "cell_type": "markdown",
   "metadata": {},
   "source": [
    "<!-- Equation labels as ordinary links -->\n",
    "<div id=\"_auto19\"></div>\n",
    "\n",
    "$$\n",
    "\\begin{equation}\n",
    "r \\frac{\\partial V}{\\partial r} = A \\; \\Rightarrow \\; \\frac{\\partial V}{\\partial r} = \\frac{A}{r}\n",
    "\\label{_auto19} \\tag{19}\n",
    "\\end{equation}\n",
    "$$"
   ]
  },
  {
   "cell_type": "markdown",
   "metadata": {},
   "source": [
    "This means that $V = A \\ln r + B$. We determine the constants $A$ and $B$ from the boundary conditions $V_a = A\\ln a + B$ and $V_b = A \\ln b + B$.\n",
    "We subtract the equations, getting $V_a - V_b = A (\\ln a - \\ln b) = V \\ln (a/b)$ and therefore $A = (V_a - V_b)/\\ln(a/b)$. We find $B$ from $V(a) = V_a = A \\ln a + B$, which gives us $B = V_a - A \\ln a = V_a - \\ln a \\,  (V_a - V_b)/\\ln(a/b)$.\n",
    "\n",
    "# Numerical solutions: Finite difference methods\n",
    "\n",
    "Generally, it is difficult to find analytical solutions to Poisson's equations in two or three dimension unless the system has a very clear symmetry. When we cannot find an analytical solution, we may instead use a numerical method. There are numerous numerical methods to solve Poisson's equation spanning from simple methods, such as Finite Difference method, to advanced methods such as finite element methods. Here, we will focus on a very simple, but inefficient, solution method that also provides insight into the physics of the problem.\n",
    "\n",
    "## Discrete lattice\n",
    "\n",
    "We introduce a method to solve Laplace's equation, but the same approach may be used to solve Poisson's equation. We would like to solve the equation"
   ]
  },
  {
   "cell_type": "markdown",
   "metadata": {},
   "source": [
    "<!-- Equation labels as ordinary links -->\n",
    "<div id=\"_auto20\"></div>\n",
    "\n",
    "$$\n",
    "\\begin{equation}\n",
    "\\nabla^2 V = 0\n",
    "\\label{_auto20} \\tag{20}\n",
    "\\end{equation}\n",
    "$$"
   ]
  },
  {
   "cell_type": "markdown",
   "metadata": {},
   "source": [
    "with a given set of boundary conditions. We will solve this on a *discrete lattice*. That is, we will find the solution at lattice positions $(x_i,y_i) = (i \\Delta x, j \\Delta y)$ as illustrated in Fig. [fig:laplace-laplace2d020](#fig:laplace-laplace2d020). \n",
    "\n",
    "<!-- dom:FIGURE:[fig-laplaceequation/laplace-laplace2d020.png, height=400 width=600 frac=1.0] Illustration of the discretized grid. <div id=\"fig:laplace-laplace2d020\"></div> -->\n",
    "<!-- begin figure -->\n",
    "<div id=\"fig:laplace-laplace2d020\"></div>\n",
    "\n",
    "<p>Illustration of the discretized grid.</p>\n",
    "<img src=\"fig-laplaceequation/laplace-laplace2d020.png\" height=400 width=600>\n",
    "\n",
    "<!-- end figure -->\n",
    "\n",
    "\n",
    "## Discretizing the equation on and square/cubic lattice\n",
    "\n",
    "We can discretize the equation on this lattice by first finding the discrete derivative and then taking the deriative once more. This is usually done in on what is called a staggered grid: We find the derivative at in-between positions $x_i + \\Delta x/2$ and $x_i - \\Delta x/2$, and then use this to find the second derivative.\n",
    "\n",
    "The derivative at $x_i + \\Delta x/2$ is approximately:"
   ]
  },
  {
   "cell_type": "markdown",
   "metadata": {},
   "source": [
    "<!-- Equation labels as ordinary links -->\n",
    "<div id=\"_auto21\"></div>\n",
    "\n",
    "$$\n",
    "\\begin{equation}\n",
    "\\frac{\\partial V}{\\partial x} \\left( x_i + \\Delta x/2 \\right) \\simeq \\frac{V(x_i+ \\Delta x,y_i) - V(x_i,y_i)}{\\Delta x} \\; ,\n",
    "\\label{_auto21} \\tag{21}\n",
    "\\end{equation}\n",
    "$$"
   ]
  },
  {
   "cell_type": "markdown",
   "metadata": {},
   "source": [
    "and similarly"
   ]
  },
  {
   "cell_type": "markdown",
   "metadata": {},
   "source": [
    "<!-- Equation labels as ordinary links -->\n",
    "<div id=\"_auto22\"></div>\n",
    "\n",
    "$$\n",
    "\\begin{equation}\n",
    "\\frac{\\partial V}{\\partial x} \\left( x_i - \\Delta x/2,y_i \\right) \\simeq \\frac{V(x_i,y_i) - V(x_i-\\Delta x/2, y_i)}{\\Delta x} \\; ,\n",
    "\\label{_auto22} \\tag{22}\n",
    "\\end{equation}\n",
    "$$"
   ]
  },
  {
   "cell_type": "markdown",
   "metadata": {},
   "source": [
    "The second derivative in $(x_i,y_i)$ is then:"
   ]
  },
  {
   "cell_type": "markdown",
   "metadata": {},
   "source": [
    "<!-- Equation labels as ordinary links -->\n",
    "<div id=\"_auto23\"></div>\n",
    "\n",
    "$$\n",
    "\\begin{equation}\n",
    "\\frac{\\partial^2 V}{\\partial x^2}  \\simeq \\frac{ \\frac{\\partial V}{\\partial x}\\left( x_i + \\Delta x/2,y_i \\right) - \\frac{\\partial V}{\\partial x} \\left( x_i - \\Delta x/2,y_i \\right) }{\\Delta x} \\; ,\n",
    "\\label{_auto23} \\tag{23}\n",
    "\\end{equation}\n",
    "$$"
   ]
  },
  {
   "cell_type": "markdown",
   "metadata": {},
   "source": [
    "and similarly for the $y$-direction:"
   ]
  },
  {
   "cell_type": "markdown",
   "metadata": {},
   "source": [
    "<!-- Equation labels as ordinary links -->\n",
    "<div id=\"_auto24\"></div>\n",
    "\n",
    "$$\n",
    "\\begin{equation}\n",
    "\\frac{\\partial^2 V}{\\partial y^2}  \\simeq \\frac{ \\frac{\\partial V}{\\partial y}\\left( x_i ,y_i+ \\Delta y/2 \\right) - \\frac{\\partial V}{\\partial y} \\left( x_i,y_i  - \\Delta y/2\\right) } {\\Delta y} \\; ,\n",
    "\\label{_auto24} \\tag{24}\n",
    "\\end{equation}\n",
    "$$"
   ]
  },
  {
   "cell_type": "markdown",
   "metadata": {},
   "source": [
    "We can simplify the notation by introducing $V(i \\Delta x, j \\Delta x) = V_{i,j}$ when $\\Delta x = \\Delta y$. We then get that"
   ]
  },
  {
   "cell_type": "markdown",
   "metadata": {},
   "source": [
    "<!-- Equation labels as ordinary links -->\n",
    "<div id=\"_auto25\"></div>\n",
    "\n",
    "$$\n",
    "\\begin{equation}\n",
    "\\frac{\\partial^2 V}{\\partial x^2} + \\frac{\\partial^2 V}{\\partial y^2} =\n",
    "V_{i+1,j} + V_{i-1,j} + V_{i,j+1} + V_{i,j-1} - 4 V_{i,j} = 0 \\; .\n",
    "\\label{_auto25} \\tag{25}\n",
    "\\end{equation}\n",
    "$$"
   ]
  },
  {
   "cell_type": "markdown",
   "metadata": {},
   "source": [
    "We can solve for $V_{i,j}$, getting"
   ]
  },
  {
   "cell_type": "markdown",
   "metadata": {},
   "source": [
    "<!-- Equation labels as ordinary links -->\n",
    "<div id=\"_auto26\"></div>\n",
    "\n",
    "$$\n",
    "\\begin{equation}\n",
    "V_{i,j} = \\frac{1}{4} \\left( V_{i+1,j} + V_{i-1,j} + V_{i,j+1} + V_{i,j-1} \\right) \\; .\n",
    "\\label{_auto26} \\tag{26}\n",
    "\\end{equation}\n",
    "$$"
   ]
  },
  {
   "cell_type": "markdown",
   "metadata": {},
   "source": [
    "Notice that this looks like a local average. The solution is such that the value in each point is the average of the values at the nearest neighbor around it. We therefore expect the solution to be very smooth. \n",
    "\n",
    "This is a linear system of equations, which must be supplemented by the boundary conditions. Here, we will specify the boundary conditions by Dirichlet boundary conditions through a function $B(x,y)$ on a boundary $S$. The boundary conditions are that $V(x,y) = B(x,y)$ for all points $(x,y)$ on the boundary $S$.\n",
    "\n",
    "## Solving the discretized equations using Jacobi iterations\n",
    "\n",
    "\n",
    "There are various numerical schemes to solve these sets of equations. First, we will solve this system of equations using a simple, iterative scheme (which is an inefficient method to solve the system of equations, but the method is easy to understand) called Jacobi iterations. We see that in the *final solution* for each point $(x_i,y_i)$, the potential is the average of the surrounding potentials. Our strategy is therefore the following: If we iterate this average many times, we will slowly smooth things out and converge towards a solution.\n",
    "\n",
    "This suggests the following method:\n",
    "\n",
    "1. Initiatlize $V_{i,j}$.\n",
    "\n",
    "2. On the boundary we set $V_{i,j} = B_{i,j}$, that is, equal to the boundary condition $B(x,y)$.\n",
    "\n",
    "3. For each point in the interior of the volume $v$, calculate new potentials as the average of the surrounding potentials. Repeat until it converges (sufficiently well).\n",
    "\n",
    "## Numerical implementation\n",
    "\n",
    "First, we make a function to solve the equation using Jacobi iterations. We start by importing necessary libraries:"
   ]
  },
  {
   "cell_type": "code",
   "execution_count": 1,
   "metadata": {
    "collapsed": false
   },
   "outputs": [],
   "source": [
    "%matplotlib inline\n",
    "\n",
    "import numpy as np\n",
    "import matplotlib.pyplot as plt\n",
    "from numba import jit"
   ]
  },
  {
   "cell_type": "markdown",
   "metadata": {},
   "source": [
    "The last part, `numba`, is a library that is used to accelerate loops in functions. Here, it is simply used as a method to speed the calculation up by orders of magnitude.\n",
    "\n",
    "Then we write a function using the algorithm above:"
   ]
  },
  {
   "cell_type": "code",
   "execution_count": 2,
   "metadata": {
    "collapsed": false
   },
   "outputs": [],
   "source": [
    "@jit\n",
    "def solvepoisson(b,nrep):\n",
    "    # b = boundary conditions, =NaN where we will calculate the values\n",
    "    # nrep = number of iterations\n",
    "    # returns potential on the same grid as b\n",
    "    V = np.copy(b)\n",
    "    for i in range(len(V.flat)):\n",
    "        if (np.isnan(b.flat[i])):\n",
    "            V.flat[i] = 0.0\n",
    "    Vnew = np.copy(V) # See comment in text below\n",
    "    Lx = b.shape[0] # x-size of b matrix\n",
    "    Ly = b.shape[1] # y-size of b matrix\n",
    "    for n in range(nrep):\n",
    "        for ix in range(1,Lx-1):\n",
    "\t    for iy in range(1,Ly-1):\n",
    "\t        Vnew[ix,iy] = (V[ix-1,iy]+V[ix+1,iy]+V[ix,iy-1]+V[ix,iy+1])/4\n",
    "\tV,Vnew = Vnew,V # Swap points to arrays V and Vnew\n",
    "    return V"
   ]
  },
  {
   "cell_type": "markdown",
   "metadata": {},
   "source": [
    "Why do we introduce the new array `znew` and not only update `z` in each step? If we did this, we would gradually change `z` as we were moving through the loops, and we would no longer use the values in the previous step to calculate the next step, instead we would use some of the values from the old step and some values from the new step. This would become a mess and would not correspond to the algorithm presented above. Also notice the use of `nan` in the array `b`, which represents the boundary conditions. In the positions where `b` contains a value, this is the boundary condition in this point, whereas in the positions where `b` does not contains any numerical value, where it is set to `nan`, there are no boundary conditions. (This method is improved below to also work for internal boundary conditions. Here, it only works for boudary conditions at the external boundaries, and all the values at the external boundaries must be set).\n",
    "\n",
    "## Defining boundary conditions\n",
    "\n",
    "We are now ready to use this function to find the potential for a given set of boundary conditions. Let us start with a square system that is $40 \\times 40$ units, where the values at the external boundaries are given. For example, let us assume that $B(x,0) = 1$ and that $B(x,L) = B(0,y) = B(L,y) = 0$. We set up this problem"
   ]
  },
  {
   "cell_type": "code",
   "execution_count": 3,
   "metadata": {
    "collapsed": false
   },
   "outputs": [],
   "source": [
    "L = 40\n",
    "b = np.zeros((L,L),float)\n",
    "b[:] = np.float('nan')\n",
    "\n",
    "b[0,:] = 0.0\n",
    "b[L-1,:] = 0.0\n",
    "b[:,0] = 1.0\n",
    "b[:,L-1] = 0.0\n",
    "\n",
    "plt.imshow(b)\n",
    "plt.colorbar()"
   ]
  },
  {
   "cell_type": "markdown",
   "metadata": {},
   "source": [
    "This shows the boundary conditions as shown in Fig. [fig:laplace-solve2d-010](#fig:laplace-solve2d-010)a.\n",
    "\n",
    "<!-- dom:FIGURE:[fig-laplaceequation/laplace-solve2d-010.png, height=400 width=600 frac=1.0] (a) Illustration of the boundary conditions $B(x,y)$ shown with a color-scale. The colors indicate where $B(x,y)$ is defined. White indicates values where `B = nan`. These are the values where we will find the potential. (b) Plot of the resulting potential $V(x,y)$. <div id=\"fig:laplace-solve2d-010\"></div> -->\n",
    "<!-- begin figure -->\n",
    "<div id=\"fig:laplace-solve2d-010\"></div>\n",
    "\n",
    "<p>(a) Illustration of the boundary conditions $B(x,y)$ shown with a color-scale. The colors indicate where $B(x,y)$ is defined. White indicates values where <code>B = nan</code>. These are the values where we will find the potential. (b) Plot of the resulting potential $V(x,y)$.</p>\n",
    "<img src=\"fig-laplaceequation/laplace-solve2d-010.png\" height=400 width=600>\n",
    "\n",
    "<!-- end figure -->\n",
    "\n",
    "\n",
    "## Finding the potential\n",
    "\n",
    "We can then apply Jacobi's method to find the potential $V(x,y)$ with the given boundary conditions $B(x,y)$."
   ]
  },
  {
   "cell_type": "code",
   "execution_count": 4,
   "metadata": {
    "collapsed": false
   },
   "outputs": [],
   "source": [
    "nrep = 2000\n",
    "s = solvepoisson(b,nrep)\n",
    "plt.imshow(s)\n",
    "plt.colorbar()"
   ]
  },
  {
   "cell_type": "markdown",
   "metadata": {},
   "source": [
    "The resulting visualization of $V(x,y)$ is shown in Fig. [fig:laplace-solve2d-010](#fig:laplace-solve2d-010)b.\n",
    "\n",
    "## Finding the electric field\n",
    "\n",
    "When we have found the potential, we are ready to also calculate the electric field using $\\vec{E} = - \\nabla V$. This is implemented using the `gradient`-function. Notice the reversal of the coordinates because the first index in an array is the $y$-direction in Python, as we saw previously."
   ]
  },
  {
   "cell_type": "code",
   "execution_count": 5,
   "metadata": {
    "collapsed": false
   },
   "outputs": [],
   "source": [
    "plt.contourf(s)\n",
    "Ey,Ex = np.gradient(-s)\n",
    "x = np.linspace(0,L-1,L)\n",
    "y = np.linspace(0,L-1,L)\n",
    "plt.streamplot(x,y,Ex,Ey,linewidth=1,density=1,arrowstyle='->',arrowsize=1.5)\n",
    "plt.axis('equal')"
   ]
  },
  {
   "cell_type": "markdown",
   "metadata": {},
   "source": [
    "The resulting plot is shown in Fig. [fig:laplace-solve2d-020](#fig:laplace-solve2d-020).\n",
    "\n",
    "<!-- dom:FIGURE:[fig-laplaceequation/laplace-solve2d-020.png, height=400 width=600 frac=0.5] Plot of $V(x,y)$ and illustration of the electric field $\\vec{E}$. <div id=\"fig:laplace-solve2d-020\"></div> -->\n",
    "<!-- begin figure -->\n",
    "<div id=\"fig:laplace-solve2d-020\"></div>\n",
    "\n",
    "<p>Plot of $V(x,y)$ and illustration of the electric field $\\vec{E}$.</p>\n",
    "<img src=\"fig-laplaceequation/laplace-solve2d-020.png\" height=400 width=600>\n",
    "\n",
    "<!-- end figure -->\n",
    "\n",
    "\n",
    "## Adding complexity\n",
    "We can then add more complex boundaries, for example with oscillating values of the potential at the boundaries as in the follow script:"
   ]
  },
  {
   "cell_type": "markdown",
   "metadata": {},
   "source": [
    "        # Let us try some more exciting boundary conditions\n",
    "        L = 100\n",
    "        z = np.zeros((L,L),float)\n",
    "        b = np.copy(z)\n",
    "        b[:] = np.float('nan')\n",
    "        \n",
    "        b[0,:] = 0.0\n",
    "        b[L-1,:] = 0.0\n",
    "        x = np.arange(0,L)\n",
    "        b[:,0] = np.sin(2*2*np.pi*x/L)\n",
    "        b[:,L-1] = np.cos(2*2*np.pi*x/L)\n",
    "        \n",
    "        plt.figure(figsize = (16,8))\n",
    "        plt.subplot(1,2,1)\n",
    "        plt.imshow(b)\n",
    "        \n",
    "        nrep = 100000\n",
    "        s = solvepoisson(b,nrep)\n",
    "        plt.subplot(1,2,2)\n",
    "        plt.imshow(s)\n",
    "        plt.colorbar()\n"
   ]
  },
  {
   "cell_type": "markdown",
   "metadata": {},
   "source": [
    "The resulting plot is shown in Fig. [fig:laplace-solve2d-030](#fig:laplace-solve2d-030).\n",
    "\n",
    "<!-- dom:FIGURE:[fig-laplaceequation/laplace-solve2d-030.png, height=400 width=600 frac=1.0] Plot of $B(x,y)$ (a) and $V(x,y)$ (b). <div id=\"fig:laplace-solve2d-030\"></div> -->\n",
    "<!-- begin figure -->\n",
    "<div id=\"fig:laplace-solve2d-030\"></div>\n",
    "\n",
    "<p>Plot of $B(x,y)$ (a) and $V(x,y)$ (b).</p>\n",
    "<img src=\"fig-laplaceequation/laplace-solve2d-030.png\" height=400 width=600>\n",
    "\n",
    "<!-- end figure -->\n",
    "\n",
    "\n",
    "## More robust solution method\n",
    "\n",
    "The solution method provided above only works when we specify the boundary condition on all the external boundaries. What is we would like to only specify the potential at certain points inside the lattice, and not at the boundaries. Strickly, we would then need to have an infinite system, but this is not realistic in a numerical calculation. Instead, we can introduce a different type of boundary condition at the external boundaries - a Neumann boundary condition specifying the derivative $\\partial V/\\partial x$ or $\\partial V/\\partial y$ at the boundary. If we specify that the derivative is zero, this means that the potential is flattening out, but we do not specify at which value. We take this to represent that the potential becomes constant far away, but we need to be careful and check our interpretation afterward.\n",
    "\n",
    "We rewrite `solvepoisson` to be more robust:"
   ]
  },
  {
   "cell_type": "code",
   "execution_count": 6,
   "metadata": {
    "collapsed": false
   },
   "outputs": [],
   "source": [
    "@jit\n",
    "def solvepoisson(b,nrep):\n",
    "    # b = boundary conditions\n",
    "    # nrep = number of iterations\n",
    "    # returns potentials\n",
    "    V = np.copy(b)\n",
    "    for i in range(len(V.flat)):\n",
    "        if (np.isnan(b.flat[i])):\n",
    "            V.flat[i] = 0.0\n",
    "    Vnew = np.copy(V)\n",
    "    Lx = b.shape[0]\n",
    "    Ly = b.shape[1]\n",
    "    for n in range(nrep):\n",
    "        for ix in range(Lx):\n",
    "            for iy in range(Ly):\n",
    "                ncount = 0.0\n",
    "                pot = 0.0\n",
    "                if (np.isnan(b[ix,iy])):\n",
    "                    if (ix>0):\n",
    "                        ncount = ncount + 1.0\n",
    "                        pot = pot + V[ix-1,iy]\n",
    "                    if (ix<Lx-1):\n",
    "                        ncount = ncount + 1.0\n",
    "                        pot = pot + V[ix+1,iy]\n",
    "                    if (iy>0):\n",
    "                        ncount = ncount + 1.0\n",
    "                        pot = pot + V[ix,iy-1]\n",
    "                    if (iy<Ly-1):\n",
    "                        ncount = ncount + 1.0\n",
    "                        pot = pot + V[ix,iy+1]\n",
    "                    Vnew[ix,iy] = pot/ncount\n",
    "                else:\n",
    "                    Vnew[ix,iy]=V[ix,iy]\n",
    "        V, Vnew = Vnew, V # Swap pointers to arrays\n",
    "    return V"
   ]
  },
  {
   "cell_type": "markdown",
   "metadata": {},
   "source": [
    "Notice here the use of the `if (np.isnan(b[ix,iy])):` command, which ensures that it is only where `b` is equal to `nan` that new values are calculated in each step. In positions where `b` is not equal to `nan`, the boundary conditions values are used instead.\n",
    "\n",
    "Another fine detail of this implementation is what happens at an external boundary point if a Dirichlet boundary condition (a value for $V$) is not specified. In this case, a von Neumann boundary condition with zero derivative is used instead. (We leave this as an exercise).\n",
    "\n",
    "This allows us to address different types of geometries. Such as this case with two finite planes with given potentials."
   ]
  },
  {
   "cell_type": "code",
   "execution_count": 7,
   "metadata": {
    "collapsed": false
   },
   "outputs": [],
   "source": [
    "L = 100\n",
    "b = np.zeros((L,L),float)\n",
    "b[:] = np.float('nan')\n",
    "\n",
    "# Finite length capacitor\n",
    "L14 = np.int(L/4)\n",
    "L34 = 3*L14\n",
    "b[L14:L34,L14]=1.0\n",
    "b[L14:L34,L-L14]=-1.0\n",
    "\n",
    "plt.subplot(1,2,1)\n",
    "plt.imshow(b)\n",
    "plt.colorbar()\n",
    "plt.subplot(1,2,2)\n",
    "nrep = 100000\n",
    "s = solvepoisson(b,nrep)\n",
    "plt.imshow(s)\n",
    "plt.colorbar()"
   ]
  },
  {
   "cell_type": "markdown",
   "metadata": {},
   "source": [
    "The resulting plots are shown in Fig. [fig:laplace-solve2d-capacitor-010](#fig:laplace-solve2d-capacitor-010). This method is robust and can be used to model many types of systems in detail.\n",
    "\n",
    "<!-- dom:FIGURE:[fig-laplaceequation/laplace-solve2d-capacitor-010.png, height=400 width=600 frac=1.0] Plot of $V(x,y)$ (a) and $\\vec{E}(x,y)$ (b). <div id=\"fig:laplace-solve2d-capacitor-010\"></div> -->\n",
    "<!-- begin figure -->\n",
    "<div id=\"fig:laplace-solve2d-capacitor-010\"></div>\n",
    "\n",
    "<p>Plot of $V(x,y)$ (a) and $\\vec{E}(x,y)$ (b).</p>\n",
    "<img src=\"fig-laplaceequation/laplace-solve2d-capacitor-010.png\" height=400 width=600>\n",
    "\n",
    "<!-- end figure -->\n",
    "\n",
    "\n",
    "## Dielectrics\n",
    "\n",
    "How would we need to modify the methods to model systems where the dielectric properties vary in space, that is, where $\\epsilon = \\epsilon(x,y)$ for a two-dimensional system?\n",
    "\n",
    "\n",
    "In this case, we need to re-evaluate how we derived Poisson's equation. We start from Gauss' law on differential form $\\nabla \\cdot \\vec{D} = \\rho$ and then use that $\\vec{D} = \\epsilon(\\vec{r}) \\vec{E}(\\vec{r})$ and that $\\vec{E} = - \\nabla V$, getting:"
   ]
  },
  {
   "cell_type": "markdown",
   "metadata": {},
   "source": [
    "<!-- Equation labels as ordinary links -->\n",
    "<div id=\"_auto27\"></div>\n",
    "\n",
    "$$\n",
    "\\begin{equation}\n",
    "\\nabla \\cdot \\vec{D} = \\nabla \\cdot (\\epsilon \\vec{E} ) = \\nabla \\cdot ( \\epsilon (- \\nabla V)) = - \\nabla \\cdot \\epsilon \\nabla V \\; .\n",
    "\\label{_auto27} \\tag{27}\n",
    "\\end{equation}\n",
    "$$"
   ]
  },
  {
   "cell_type": "markdown",
   "metadata": {},
   "source": [
    "We can discretize this equation independently in the $x$ and $y$ directions. For the $x$-components, we get:"
   ]
  },
  {
   "cell_type": "markdown",
   "metadata": {},
   "source": [
    "<!-- Equation labels as ordinary links -->\n",
    "<div id=\"_auto28\"></div>\n",
    "\n",
    "$$\n",
    "\\begin{equation}\n",
    "\\frac{\\partial }{\\partial x} \\epsilon \\frac{\\partial V}{\\partial x} \\; .\n",
    "\\label{_auto28} \\tag{28}\n",
    "\\end{equation}\n",
    "$$"
   ]
  },
  {
   "cell_type": "markdown",
   "metadata": {},
   "source": [
    "We use the *staggered* approach introduced above, and calculate $\\partial V/\\partial x$ at $x_i + \\Delta x/2$:"
   ]
  },
  {
   "cell_type": "markdown",
   "metadata": {},
   "source": [
    "<!-- Equation labels as ordinary links -->\n",
    "<div id=\"_auto29\"></div>\n",
    "\n",
    "$$\n",
    "\\begin{equation}\n",
    "\\left( \\epsilon\\frac{\\partial V}{\\partial x} \\right) (x_i + \\Delta x/2) \\simeq \\epsilon(x_i+\\Delta x/2,y_i) \\frac{V(x_i + \\Delta x,y_i)-V(x_i,y_i)}{\\Delta x} \\; ,\n",
    "\\label{_auto29} \\tag{29}\n",
    "\\end{equation}\n",
    "$$"
   ]
  },
  {
   "cell_type": "markdown",
   "metadata": {},
   "source": [
    "and similarly"
   ]
  },
  {
   "cell_type": "markdown",
   "metadata": {},
   "source": [
    "<!-- Equation labels as ordinary links -->\n",
    "<div id=\"_auto30\"></div>\n",
    "\n",
    "$$\n",
    "\\begin{equation}\n",
    "\\left( \\epsilon\\frac{\\partial V}{\\partial x} \\right) (x_i - \\Delta x/2) \\simeq \\epsilon(x_i-\\Delta x/2,y_i) \\frac{V(x_i,y_i) - V( x_i - \\Delta x,y_i)}{\\Delta x} \\; .\n",
    "\\label{_auto30} \\tag{30}\n",
    "\\end{equation}\n",
    "$$"
   ]
  },
  {
   "cell_type": "markdown",
   "metadata": {},
   "source": [
    "We introduce the notation $V(i \\Delta x, j \\Delta x ) = V_{i,j}$ and $\\epsilon(x_i + \\Delta x/2,y_i) = \\epsilon_{i+\\frac{1}{2},j}$ and approximate the $x$-component of $\\nabla \\cdot \\epsilon \\nabla V$ as"
   ]
  },
  {
   "cell_type": "markdown",
   "metadata": {},
   "source": [
    "<!-- Equation labels as ordinary links -->\n",
    "<div id=\"_auto31\"></div>\n",
    "\n",
    "$$\n",
    "\\begin{equation}\n",
    "\\frac{\\partial}{\\partial x}\\epsilon \\frac{\\partial V}{\\partial x} \\simeq\n",
    "\\frac{ \\epsilon_{i+\\frac{1}{2},j} \\frac{V_{i+1,j}-V_{i,j}}{\\Delta x} - \\epsilon_{i-\\frac{1}{2},j} \\frac{V_{i,j} - V_{i-1,j}}{\\Delta x} }{\\Delta x} \\; .\n",
    "\\label{_auto31} \\tag{31}\n",
    "\\end{equation}\n",
    "$$"
   ]
  },
  {
   "cell_type": "markdown",
   "metadata": {},
   "source": [
    "This means that Laplace's equation, $\\nabla \\cdot \\epsilon \\nabla V = 0$, becomes:"
   ]
  },
  {
   "cell_type": "markdown",
   "metadata": {},
   "source": [
    "$$\n",
    "\\begin{eqnarray}\n",
    "\\epsilon_{i+\\frac{1}{2},j} \\left( V_{i+1,j}-V_{i,j} \\right) -  \\epsilon_{i-\\frac{1}{2},j} \\left( V_{i,j} - V_{i-1,j} \\right) &+& \\\\ \n",
    "\\epsilon_{i,j+\\frac{1}{2}} \\left( V_{i,j+1}-V_{i,j} \\right) -  \\epsilon_{i,j-\\frac{1}{2}} \\left( V_{i,j} - V_{i,j-1} \\right) &=& 0\n",
    "\\end{eqnarray}\n",
    "$$"
   ]
  },
  {
   "cell_type": "markdown",
   "metadata": {},
   "source": [
    "We solve for $V_{i,j}$, getting:"
   ]
  },
  {
   "cell_type": "markdown",
   "metadata": {},
   "source": [
    "<!-- Equation labels as ordinary links -->\n",
    "<div id=\"_auto32\"></div>\n",
    "\n",
    "$$\n",
    "\\begin{equation}\n",
    "V_{i,j} = \\frac{1}{4\\bar{\\epsilon}_{i,j}} \\left(\n",
    "  \\epsilon_{i+\\frac{1}{2},j} V_{i+1,j}\n",
    "+ \\epsilon_{i-\\frac{1}{2},j} V_{i-1,j}\n",
    "+ \\epsilon_{i,j+\\frac{1}{2}} V_{i,j+1}\n",
    "+  \\epsilon_{i,j-\\frac{1}{2}} V_{i,j-1} \\right) \n",
    "\\label{_auto32} \\tag{32}\n",
    "\\end{equation}\n",
    "$$"
   ]
  },
  {
   "cell_type": "markdown",
   "metadata": {},
   "source": [
    "where"
   ]
  },
  {
   "cell_type": "markdown",
   "metadata": {},
   "source": [
    "<!-- Equation labels as ordinary links -->\n",
    "<div id=\"_auto33\"></div>\n",
    "\n",
    "$$\n",
    "\\begin{equation}\n",
    "\\bar{\\epsilon}_{i,j} = \\frac{1}{4} \\left(  \\epsilon_{i+\\frac{1}{2},j}\n",
    "+ \\epsilon_{i-\\frac{1}{2},j} + \\epsilon_{i,j+\\frac{1}{2}} + \n",
    "\\epsilon_{i,j-\\frac{1}{2}} \\right) \n",
    "\\label{_auto33} \\tag{33}\n",
    "\\end{equation}\n",
    "$$"
   ]
  },
  {
   "cell_type": "markdown",
   "metadata": {},
   "source": [
    "We can now use exactly the same procedure to solve these equations as we developed previously --- for example Jacobi iterations as introduced above, we only need to include the values of the dielectric constant $\\epsilon$ at the staggered grid positions.\n",
    "\n",
    "# Modeling: Lightning\n",
    "\n",
    "We now have the tools to start addressing lightning using our simplified model. We start by assuming that the top of our system represents a cloud with a potential $V_1$ and that the bottom represents the ground with a potential $V_0$. We now have the tools to calculate the potential $V(x,y)$ everywhere in the air using the numerical model. For simplicity we will scale the system so that the potential is $V_1 = 0$ at $B(x,L)$, because this corresponds to the top of the screen when we visualize the system in Python. (Python by default prints (0,0) in the top left corner of an image) and then we will assume that $V_0 = 1$ at $B(x,0)$. \n",
    "\n",
    "How can we introduce a lightning in this case? We need a model for what happens during a lightning. We will assume that lightning propagates due to dielectric breakdown: Lightning propagates into regions of air and that cells where the potential difference is the largest, that is where the electric field is the largest, are most likely to have a dielectric breakdown. In addition, we will assume that the dielectric breakdown only can occur one cell at a time, starting from the cell with zero potential. Whenever a cell experiences a dielectric breakdown we will set the potential to be zero at this cell as well, because the cell becomes a good conductor due to the breakdown, so that the potential effectively is the same. (We will see in the next chapter that the potential is the same in a conductor, otherwise charges will flow until the potential is the same).\n",
    "\n",
    "How do we implement this in practice? We introduce a matrix `zeroneighbor`, which is `NaN` only in the points that are neighbors to a place where the potential is zero. This means that the lightning can only grow into cells where `zeroneighbor` is `NaN`. We then introduce a probability for the breakdown. We assume that sites with higher potential (difference, but since it is relative to a potential of zero, the difference is equal to the value in the cell) has a higher probability to experience dielectric breakdown. We assume that the probability is $P_i = c_i V_i^{\\eta}$, for a cell $I$ to break down, where $V_i$ is the potential (difference compared to zero). $\\eta$ is a parameter, which here is set to $\\eta = 1$, that is, the probability is proportional to the potential difference. We introduce randomness by selecting the value $c_i$ to be a number uniformly distributed between 0 and 1. The cell with the highest value of $P_i$ breaks down. When the cell breaks down, wechange the boundary conditions for Laplace's equation, since the boundaries are changed: The cell gets a potential $V_i = 0$. And we must also update `zeroneighbor` to ensure that the neighbor of the new cells also become possible new cells for the lightning to propagate into.\n",
    "\n",
    "This is all implemented in the following code."
   ]
  },
  {
   "cell_type": "code",
   "execution_count": 8,
   "metadata": {
    "collapsed": false
   },
   "outputs": [],
   "source": [
    "# First, we set up the boundary conditions\n",
    "Lx = 100\n",
    "Ly = 100\n",
    "z = np.zeros((Lx,Ly),float)\n",
    "b = np.copy(z)\n",
    "c = np.copy(z)\n",
    "b[:] = np.float('nan')\n",
    "\n",
    "# Where is the potential 1.0?\n",
    "b[:,0] = 1.0\n",
    "\n",
    "# Where is the potential 0.0?\n",
    "b[:,Ly-1]=0.0\n",
    "\n",
    "# For the lightning simulations, we will only allow the lightning\n",
    "# to propagate into positions that are adjacent to where the \n",
    "# potential is 0.0. We therefore create a matrix that is 0.0 everywhere\n",
    "# except at the sites that are neighbors to where b (the boundary value potential)\n",
    "# is zero\n",
    "zeroneighbor = np.copy(z)\n",
    "zeroneighbor[:] = 0.0\n",
    "zeroneighbor[:,Ly-2] = np.float('nan')\n",
    "\n",
    "nrep = 10000 # Number of jacobi steps\n",
    "eta = 1.0\n",
    "ymin = Ly-1\n",
    "ns = 0\n",
    "while (ymin>0):\n",
    "    # First find potential\n",
    "    s = solvepoisson(b,nrep)\n",
    "    # Probabilities depend on potential to power eta\n",
    "    sprob = s**eta\n",
    "    # We multiply with random number, uniform between 0 and 1\n",
    "    sprob = sprob*np.random.uniform(0,1,(Lx,Ly))*np.isnan(zeroneighbor) \n",
    "    # Multiply with isnan(zeroneighbor) to ensure only 'nan' points can be chosen\n",
    "    [ix,iy] = np.unravel_index(np.argmax(sprob,axis=None),sprob.shape)\n",
    "    # Update boundary conditions\n",
    "    b[ix,iy] = 0.0\n",
    "    # Update neighbor positions\n",
    "    if (ix>0):\n",
    "        zeroneighbor[ix-1,iy]=np.float('nan')\n",
    "    if (ix<Lx-1):\n",
    "        zeroneighbor[ix+1,iy]=np.float('nan')\n",
    "    if (iy>0):\n",
    "        zeroneighbor[ix,iy-1]=np.float('nan')\n",
    "    if (iy<Ly-1):\n",
    "        zeroneighbor[ix,iy+1]=np.float('nan')  \n",
    "    ns = ns + 1\n",
    "    c[ix,iy] = ns\n",
    "plt.figure(figsize=(16, 4))\n",
    "plt.subplot(1,2,1)\n",
    "plt.imshow(c.T)\n",
    "plt.colorbar()\n",
    "plt.subplot(1,2,2)\n",
    "plt.imshow(s.T)\n",
    "plt.colorbar()"
   ]
  },
  {
   "cell_type": "markdown",
   "metadata": {},
   "source": [
    "Notice the use of the variable `ns` to color the lightning in the sequence in which it grew. The first cells that broken down have low values and the last have high values. The resulting simulation is shown in Fig. [fig:laplace-lightning-010](#fig:laplace-lightning-010). Since the process has randomness, a new simulation will generate a new lightning.\n",
    "\n",
    "I encourage you to play with this model to try to understand the conditions for various phenomena in lightnings.\n",
    "\n",
    "<!-- dom:FIGURE:[fig-laplaceequation/laplace-lightning-010.png, height=400 width=600 frac=1.0] Plot of (a) `ns` (b) $V(x,y)$. <div id=\"fig:laplace-lightning-010\"></div> -->\n",
    "<!-- begin figure -->\n",
    "<div id=\"fig:laplace-lightning-010\"></div>\n",
    "\n",
    "<p>Plot of (a) <code>ns</code> (b) $V(x,y)$.</p>\n",
    "<img src=\"fig-laplaceequation/laplace-lightning-010.png\" height=400 width=600>\n",
    "\n",
    "<!-- end figure -->\n",
    "\n",
    "\n",
    "# Modeling: Water droplet in electric field\n",
    "\n",
    "We will use our theory to explore what happens to a water droplet in an electric field. When we model a system such as this, we have to be precise and we have to determine what types of approximations we want to make.\n",
    "\n",
    "First, what do we mean by a water droplet? We assume that the droplet is round --- spherical --- with radius $a$. We will also assume that it does not change its shape. (We may want to modify this assumption, if we are adventurous). What is the difference between water and vacuum? You may think that water is a conductor, but clean water is generally not a conductor but instead a dielectric with dielectric constant $\\epsilon_r = 82$. If the water contains ions, it may indeed be conducting, but here we assume that it is a dielectric.\n",
    "\n",
    "Our model of is therefore a sphere of radius $a$ with dielectric constant $\\epsilon_r$. The droplet is placed in a uniform field. For simplicity, we place the uniform field along the $x$-axis. Our plan is to solve Laplace's equation numerically and analytically to find the potential $V$, and then find the electric field from the potential, $\\vec{E} = - \\nabla V$.\n",
    "\n",
    "We will find the electric field everywhere in this system in two ways: First by solving Laplace's equation numerically, and then by solving Laplace's equation analytically.\n",
    "\n",
    "## Numerical solution\n",
    "\n",
    "We model the system on a $L \\times L$ lattice and want to find $V(x,y) = V(i \\Delta x, j \\Delta x) = V_{i,j}$ for $i,j = 0,1,\\ldots, L-1$ by solving Laplace's equation numerically. But how do we set up an external, uniform electric field? We know there is a uniform field between two plates. Therefore, we put one plate at $i = 0$ with potential $V_0$ and one plate at $i = L-1$ with potential $V_1$. The field will point from $i=0$ to $i=L-1$ is $V_0 > V_1$. We introduce a unit $V_0$ for the potential and set $V_{0,j} = V_0$ and $V_{L-1,j} = -V_0$. For simplicity, we measure all potentials in units of $V_0$ so that $V_{0,j} = 1$ and $V_{L-1,j} = -1$.\n",
    "\n",
    "How can we model the sphere? First, we simplify the system and only study a two-dimensional slice through the center of the sphere --- a thin disk. (We expect the electric field to be entirely in this plane for all points in the plane, also in the full three-dimensional case). This disk has radius $a$ and is placed in the origin of our coordinate system at $i,j = L/2,L/2$.\n",
    "\n",
    "We will now need to implement Laplace's equation with non-uniform dielectric constant $\\epsilon$: $\\nabla \\cdot \\epsilon \\nabla = 0$, where we introduce $\\epsilon = \\epsilon_r \\epsilon_0$. However, $\\epsilon_0$ is uniform, so the equation becomes $\\nabla \\cdot \\epsilon_r \\nabla V = 0$, where $V$ is measured in units of $V_0$. In addition, we measure lengths in units of $\\Delta x$.\n",
    "\n",
    "For each point $i,j$ we define $\\epsilon_{r,i,j}(r)$, which depends on the distance $r$ from the origin. When $r<a$, $\\epsilon_{r,i,j} = 82$, whereas for $r \\le a$, $\\epsilon_{r,i,j} = 1$.\n",
    "\n",
    "### Modified Python code\n",
    "\n",
    "We modify the python code to include that $\\epsilon_r$ varies in space. We find $\\epsilon_{r,i+1/2,j}$ as the average of the values at $i,j$ and $i+1,j$: $\\epsilon_{r,i+1/2,j} = (\\epsilon_{r,i,j} + \\epsilon_{r,i+1,j})/2$. We also include periodic boundary condition{s in both directions to avoid edge effects. Periodic boundary conditions corresponds to solving the problem on top of a cylinder, so that $V_{L,j} = V_{0,j}$ and $V_{-1,j} = V_{L-1,j}$ (and similarly in the $y$-direction).\n",
    "\n",
    "The new function to solve Laplace's equation is now:"
   ]
  },
  {
   "cell_type": "code",
   "execution_count": 9,
   "metadata": {
    "collapsed": false
   },
   "outputs": [],
   "source": [
    "import numpy as np\n",
    "import matplotlib.pyplot as plt\n",
    "import numba\n",
    "@numba.jit(cache=True)\n",
    "def solvepoissonperiodic(b,epsi,nrep):\n",
    "    \"\"\" b = boundary conditions\n",
    "    epsi = epsilon (same size as b)\n",
    "    nrep = number of iterations\n",
    "    returns potentials \"\"\"\n",
    "    V = np.copy(b)\n",
    "    for i in range(len(V.flat)):\n",
    "        if (np.isnan(b.flat[i])):\n",
    "            V.flat[i] = 0.0\n",
    "    Vnew = np.copy(V)\n",
    "    Lx = b.shape[0]\n",
    "    Ly = b.shape[1]\n",
    "    for n in range(nrep):\n",
    "        for ix in range(Lx):\n",
    "            for iy in range(Ly):\n",
    "                etot = 0.0\n",
    "                pot = 0.0\n",
    "                if (np.isnan(b[ix,iy])):\n",
    "                    ix1 = ix-1\n",
    "                    if (ix1<0):\n",
    "                        ix1 = L-1\n",
    "                    epsilon = (epsi[ix1,iy]+epsi[ix,iy])/2\n",
    "                    etot = etot + epsilon\n",
    "                    pot = pot + epsilon*V[ix1,iy]\n",
    "                    ix1 = ix+1\n",
    "                    if (ix1>Lx-1):\n",
    "                        ix1 = 0\n",
    "                    epsilon = (epsi[ix1,iy]+epsi[ix,iy])/2\n",
    "                    etot = etot + epsilon\n",
    "                    pot = pot + epsilon*V[ix1,iy]\n",
    "                    iy1 = iy-1\n",
    "                    if (iy1<0):\n",
    "                        iy1 = L-1\n",
    "                    epsilon = (epsi[ix,iy1]+epsi[ix,iy])/2\n",
    "                    etot = etot + epsilon\n",
    "                    pot = pot + epsilon*V[ix,iy1]\n",
    "                    iy1 = iy+1\n",
    "                    if (iy1>L-1):\n",
    "                        iy1 = 0\n",
    "                    epsilon = (epsi[ix,iy1]+epsi[ix,iy])/2\n",
    "                    etot = etot + epsilon\n",
    "                    pot = pot + epsilon*V[ix,iy1]\n",
    "                    Vnew[ix,iy] = pot/etot\n",
    "                else:\n",
    "                    Vnew[ix,iy]=V[ix,iy]\n",
    "        V, Vnew = Vnew, V # Swap pointers to arrays\n",
    "    return V"
   ]
  },
  {
   "cell_type": "markdown",
   "metadata": {},
   "source": [
    "And we set up and run the program using:"
   ]
  },
  {
   "cell_type": "markdown",
   "metadata": {},
   "source": [
    "1\n",
    "0\n",
    " \n",
    "<\n",
    "<\n",
    "<\n",
    "!\n",
    "!\n",
    "C\n",
    "O\n",
    "D\n",
    "E\n",
    "_\n",
    "B\n",
    "L\n",
    "O\n",
    "C\n",
    "K\n",
    " \n",
    " \n",
    "p\n",
    "y\n",
    "p\n",
    "r\n",
    "o"
   ]
  },
  {
   "cell_type": "code",
   "execution_count": 10,
   "metadata": {
    "collapsed": false
   },
   "outputs": [],
   "source": [
    "nrep = 100000\n",
    "s = solvepoisson(b,e,nrep)\n",
    "plt.subplot(1,2,1)\n",
    "plt.imshow(s)\n",
    "plt.colorbar()\n",
    "plt.subplot(1,2,2)\n",
    "Ey,Ex = np.gradient(-s)\n",
    "x = np.linspace(0,L-1,L)\n",
    "y = np.linspace(0,L-1,L)\n",
    "Emag = Ey*Ey + Ex*Ex\n",
    "plt.contourf(Emag)\n",
    "plt.streamplot(x,y, Ex, Ey,density=1,arrowstyle='->',arrowsize=1.5)\n",
    "plt.colorbar()"
   ]
  },
  {
   "cell_type": "markdown",
   "metadata": {},
   "source": [
    "The resulting figures are shown in Fig. [fig:laplace-waterdroplet-020](#fig:laplace-waterdroplet-020)\n",
    "\n",
    "<!-- dom:FIGURE:[fig-laplaceequation/laplace-waterdroplet-020.png, width=600 frac=1.0] Plot of (a) $V(x,y)$ and (b) the magnitude of the electric field and stream lines. <div id=\"fig:laplace-waterdroplet-020\"></div> -->\n",
    "<!-- begin figure -->\n",
    "<div id=\"fig:laplace-waterdroplet-020\"></div>\n",
    "\n",
    "<p>Plot of (a) $V(x,y)$ and (b) the magnitude of the electric field and stream lines.</p>\n",
    "<img src=\"fig-laplaceequation/laplace-waterdroplet-020.png\" width=600>\n",
    "\n",
    "<!-- end figure -->\n",
    "\n",
    "\n",
    "### Discussion of numerical results\n",
    "\n",
    "The resulting electric field looks like it is almost constant within the disk and that the numerical value of the electric field is much smaller. We indeed expect the magnitude of the field to be much smaller. We know that for a dielectric plate in an external field, the field inside the disk is reduced to $1/\\epsilon_r$ of the uniform field. We expect a similar effect here, although we need to study in detail how much the field is reduced. Fig. [fig:laplace-waterdroplet-030](#fig:laplace-waterdroplet-030) shows plots of $E_x(x,L/2)/\\min(E_x(x,L/2))$, which clearly shows that the field is approximately uniform far from the droplet and inside the droplet, and that the field falls significantly inside the droplet. Let us now see if we also can develop an analytical theory for this particular problem.\n",
    "\n",
    "<!-- dom:FIGURE:[fig-laplaceequation/laplace-waterdroplet-030.png, width=600 frac=0.95] Plot of $E_x(x,L/2)$ through the center of the sphere. <div id=\"fig:laplace-waterdroplet-030\"></div> -->\n",
    "<!-- begin figure -->\n",
    "<div id=\"fig:laplace-waterdroplet-030\"></div>\n",
    "\n",
    "<p>Plot of $E_x(x,L/2)$ through the center of the sphere.</p>\n",
    "<img src=\"fig-laplaceequation/laplace-waterdroplet-030.png\" width=600>\n",
    "\n",
    "<!-- end figure -->\n",
    "\n",
    "\n",
    "\n",
    "<!-- Can we also estimate the bound surface charge density of this system? -->\n",
    "\n",
    "## Analytical solution: Spherical coordinates\n",
    "\n",
    "We want to solve Laplace's equation for this system. We choose spherical coordinates with the $z$-axis along the external field $\\vec{E}_0 = E_0 \\mathbf{\\hat{z}}$. We measure position using $r, \\theta$ and see that $x = r \\cos \\theta$ as illustrated in Fig. [fig:laplace-waterdroplet-100](#fig:laplace-waterdroplet-100). The boundary conditions for Laplace's equation are that that potential is continuous at $r = a$: $V_1(a) = V_2(a)$, where $1$ is on the inside and 2 is on the outside.  Because there are no free charges in the system, the normal component of the displacement field is also continuous across the boundary at $r =a$. The electric fields are therefore discontinuous and $D_1 = \\epsilon_1 E_1 = \\epsilon_2 E_2 = D_2$. This implies that $\\epsilon_r \\partial V_1/\\partial r = \\partial V_2/ \\partial r$. And far away from the sphere, we expect the system to have an electric field $E_0 \\mathbf{\\hat{z}}$ so that $V = -E_0 z = -E_0 r \\cos \\theta$. \n",
    "\n",
    "<!-- dom:FIGURE:[fig-laplaceequation/laplace-waterdroplet-100.png, width=600 frac=0.5] Illustration of the coordinate system used for the analytical calculation. <div id=\"fig:laplace-waterdroplet-100\"></div> -->\n",
    "<!-- begin figure -->\n",
    "<div id=\"fig:laplace-waterdroplet-100\"></div>\n",
    "\n",
    "<p>Illustration of the coordinate system used for the analytical calculation.</p>\n",
    "<img src=\"fig-laplaceequation/laplace-waterdroplet-100.png\" width=600>\n",
    "\n",
    "<!-- end figure -->\n",
    "\n",
    "\n",
    "We must therefore find solutions to Laplace's equation that are proportional to $\\cos \\theta$. There are only two possible functions that are solutions to Laplace's equation in spherical coordinates that are proportional to $\\cos \\theta$: $V = C r \\cos \\theta$ and $V = (C'/r^2) \\cos \\theta$ (check for yourself that these are solutions to Laplace's equation in spherical coordinates) [^laplace-footnote-010] . \n",
    "\n",
    "[^laplace-footnote-010]: In the case of azimuthal symmetry, the general solutions to Laplace equation' in spherical coordinates are given as $V(r,\\theta) = \\left( A_l r^l + B_l/r^{l+1} \\right) P_l (\\cos \\theta)$, where $P_l(x)$ are Legendre polynomials, which can be defined by Rodrigues formula $P_l(x) = 1/(2^l l!) \\left( d/dx \\right)^l (x^2 - 1)^l$. The first few are $P_0(x) = 1$, $P_1(x) = x$, $P_2(x) = (3x^2 - 1)/2$. The general solution is a sum over all possible values of $l$: $V(r, \\theta) = \\sum_{l=0}^{\\infty} \\left( A_l r^l + B_l/r^{l+1} \\right) P_l (\\cos \\theta)$.\n",
    "\n",
    "We use this to find an analytical solution to Laplace's equation in spherical coordinates which is consistent with the boundary conditions. To fit to the far-away field $\\vec{E}_0$, the potential must have the form"
   ]
  },
  {
   "cell_type": "markdown",
   "metadata": {},
   "source": [
    "<!-- Equation labels as ordinary links -->\n",
    "<div id=\"_auto34\"></div>\n",
    "\n",
    "$$\n",
    "\\begin{equation}\n",
    "V_2 = - E_0 r \\cos \\theta + \\frac{B}{r^2} \\cos \\theta \\; .\n",
    "\\label{_auto34} \\tag{34}\n",
    "\\end{equation}\n",
    "$$"
   ]
  },
  {
   "cell_type": "markdown",
   "metadata": {},
   "source": [
    "We assume that the field is uniform inside the droplet, as observed in the numerical simultion. (We can show that this is true by using the full solution to Laplace's equation in spherical coordinates). This means that $V_1 = C r \\cos \\theta$. We use boundary conditions to find the unknowns, but drop the $\\cos \\theta$ term, since this is present in all the expressions: We see that $V_1(a) = C a = V_2(a) = - E_0 a + (B/a^2) $. Also, we use that $\\partial V_2/\\partial r =  (-E_0  - 2 B/a^3 ) = \\epsilon_r \\partial V_1 / \\partial r = \\epsilon_r C$. We solve for $B$ and $C$ and find that:"
   ]
  },
  {
   "cell_type": "markdown",
   "metadata": {},
   "source": [
    "<!-- Equation labels as ordinary links -->\n",
    "<div id=\"_auto35\"></div>\n",
    "\n",
    "$$\n",
    "\\begin{equation}\n",
    "C =  -\\frac{3 E_0}{\\epsilon_r + 2} \\; ,\n",
    "\\label{_auto35} \\tag{35}\n",
    "\\end{equation}\n",
    "$$"
   ]
  },
  {
   "cell_type": "markdown",
   "metadata": {},
   "source": [
    "and therefore $V_1 = - \\frac{3E_0}{\\epsilon_r + 2} r\\cos \\theta$ and"
   ]
  },
  {
   "cell_type": "markdown",
   "metadata": {},
   "source": [
    "<!-- Equation labels as ordinary links -->\n",
    "<div id=\"_auto36\"></div>\n",
    "\n",
    "$$\n",
    "\\begin{equation}\n",
    "\\vec{E}_1 = \\frac{3}{\\epsilon_r + 2} \\vec{E}_0 \\; .\n",
    "\\label{_auto36} \\tag{36}\n",
    "\\end{equation}\n",
    "$$"
   ]
  },
  {
   "cell_type": "markdown",
   "metadata": {},
   "source": [
    "inside the water droplet.\n",
    "\n",
    "Outside the water droplet, we find that $B = (\\epsilon_r -1)/(\\epsilon_r + 2) a^3 E_0$ and"
   ]
  },
  {
   "cell_type": "markdown",
   "metadata": {},
   "source": [
    "<!-- Equation labels as ordinary links -->\n",
    "<div id=\"_auto37\"></div>\n",
    "\n",
    "$$\n",
    "\\begin{equation}\n",
    "V_2 (r,\\cos \\theta) = - E_0 r \\cos \\theta + \\frac{\\epsilon_r -1}{\\epsilon_r + 2} \\frac{a^3}{r^2} E_0 \\cos \\theta \\; .\n",
    "\\label{_auto37} \\tag{37}\n",
    "\\end{equation}\n",
    "$$"
   ]
  },
  {
   "cell_type": "markdown",
   "metadata": {},
   "source": [
    "The electric field outside the droplet is then $\\vec{E}_1 = (\\partial V/\\partial r) \\mathbf{\\hat{r}} + (1/r) \\partial V/\\partial \\theta \\hat{\\vec{\\theta}}$:"
   ]
  },
  {
   "cell_type": "markdown",
   "metadata": {},
   "source": [
    "<!-- Equation labels as ordinary links -->\n",
    "<div id=\"_auto38\"></div>\n",
    "\n",
    "$$\n",
    "\\begin{equation}\n",
    "\\vec{E}_2 = \\vec{E_0} + 2  E_0 \\frac{\\epsilon_r -1}{\\epsilon_r + 2}\\frac{a^3}{r^3}\\cos \\theta \\mathbf{\\hat{r}} + E_0 \\frac{\\epsilon_r -1}{\\epsilon_r + 2} \\frac{a^3}{r^3} \\sin \\theta \\,  \\hat{\\vec{\\theta}} \\; .\n",
    "\\label{_auto38} \\tag{38}\n",
    "\\end{equation}\n",
    "$$"
   ]
  },
  {
   "cell_type": "markdown",
   "metadata": {},
   "source": [
    "We can compare these exact results with the numerical results we found above. In Fig. [fig:laplace-waterdroplet-110](#fig:laplace-waterdroplet-110) we plot both the numerical and the analytical results. We plot the electric field in terms of $E_0$, which in the numerical case is $\\Delta V/\\Delta L = 1-(-1)/200$. Notice in the magnification that there is a significant mismatch between the numerical and the analytical results. You may be tempted to believe this is due to a problem with the numerical solution. And it is. But in a fundamental way. Numerically we have solved the two-dimensional problem, which is for a cylindrical system, but analytically we have solved for a spherical system. These systems are very different! We would see this if we plotted the functional shape of $E(r)$ as well.\n",
    "\n",
    "<!-- dom:FIGURE:[fig-laplaceequation/laplace-waterdroplet-110.png, width=600 frac=0.95] Plot of the electric field $E_x(x)$ for the numerical simulations and the analytical solution in spherical coordinates. <div id=\"fig:laplace-waterdroplet-110\"></div> -->\n",
    "<!-- begin figure -->\n",
    "<div id=\"fig:laplace-waterdroplet-110\"></div>\n",
    "\n",
    "<p>Plot of the electric field $E_x(x)$ for the numerical simulations and the analytical solution in spherical coordinates.</p>\n",
    "<img src=\"fig-laplaceequation/laplace-waterdroplet-110.png\" width=600>\n",
    "\n",
    "<!-- end figure -->\n",
    "\n",
    "\n",
    "If we instead solve the system in cylindrical coordinates with no variation in the $z$-direction. In this case, the solutions are"
   ]
  },
  {
   "cell_type": "markdown",
   "metadata": {},
   "source": [
    "$$\n",
    "\\begin{eqnarray}\n",
    "V_1 &=& - \\frac{2 E_0}{\\epsilon_r + 1} r\\cos \\phi \\\\ \n",
    "V_2 &=& \\frac{\\epsilon_r - 1}{\\epsilon_r + 1} \\frac{a^2 E_0}{r} \\cos \\phi - E_0 r \\cos \\phi\n",
    "\\; .\n",
    "\\end{eqnarray}\n",
    "$$"
   ]
  },
  {
   "cell_type": "markdown",
   "metadata": {},
   "source": [
    "and the electric field inside the disk is:"
   ]
  },
  {
   "cell_type": "markdown",
   "metadata": {},
   "source": [
    "<!-- Equation labels as ordinary links -->\n",
    "<div id=\"_auto39\"></div>\n",
    "\n",
    "$$\n",
    "\\begin{equation}\n",
    "\\vec{E}_1 = \\frac{2}{\\epsilon_r + 1} \\vec{E}_0 \\; .\n",
    "\\label{_auto39} \\tag{39}\n",
    "\\end{equation}\n",
    "$$"
   ]
  },
  {
   "cell_type": "markdown",
   "metadata": {},
   "source": [
    "In Fig. [fig:laplace-waterdroplet-120](#fig:laplace-waterdroplet-120) we compare this with the numerical results, and we see that the match now is very good. Let this serve as a warning --- be careful with your how you interpret your two-dimensional simulation in three dimension. In this case, we were really interested in a water droplet, which is round, that is, spherical. We should therefore really have redone the simulations, but in three dimensions.\n",
    "\n",
    "<!-- dom:FIGURE:[fig-laplaceequation/laplace-waterdroplet-120.png, width=600 frac=0.95] Plot of the electric field $E_x(x)$ for the numerical simulations and the analytical solution in clindrical coordinates. <div id=\"fig:laplace-waterdroplet-120\"></div> -->\n",
    "<!-- begin figure -->\n",
    "<div id=\"fig:laplace-waterdroplet-120\"></div>\n",
    "\n",
    "<p>Plot of the electric field $E_x(x)$ for the numerical simulations and the analytical solution in clindrical coordinates.</p>\n",
    "<img src=\"fig-laplaceequation/laplace-waterdroplet-120.png\" width=600>\n",
    "\n",
    "<!-- end figure -->\n",
    "\n",
    "\n",
    "## Electric field from water droplet\n",
    "\n",
    "The electrical potential from the spherical droplet outside the droplet has the shape:"
   ]
  },
  {
   "cell_type": "markdown",
   "metadata": {},
   "source": [
    "<!-- Equation labels as ordinary links -->\n",
    "<div id=\"_auto40\"></div>\n",
    "\n",
    "$$\n",
    "\\begin{equation}\n",
    "V_2 (r,\\cos \\theta) = - E_0 r \\cos \\theta + \\frac{\\epsilon_r -1}{\\epsilon_r + 2} \\frac{a^3}{r^2} E_0 \\cos \\theta \\; .\n",
    "\\label{_auto40} \\tag{40}\n",
    "\\end{equation}\n",
    "$$"
   ]
  },
  {
   "cell_type": "markdown",
   "metadata": {},
   "source": [
    "We recognize the far-field component as due to the constant potential. We also recognize the $(1/r^2)\\cos\\theta$-potential term as the potential from a dipole:"
   ]
  },
  {
   "cell_type": "markdown",
   "metadata": {},
   "source": [
    "<!-- Equation labels as ordinary links -->\n",
    "<div id=\"_auto41\"></div>\n",
    "\n",
    "$$\n",
    "\\begin{equation}\n",
    "V_{DP} = \\frac{1}{4 \\pi \\epsilon_0}\\frac{\\vec{r}\\cdot \\vec{p}}{r^3} = \\frac{p \\cos \\theta}{4 \\pi \\epsilon_0 r^2}\n",
    "\\label{_auto41} \\tag{41}\n",
    "\\end{equation}\n",
    "$$"
   ]
  },
  {
   "cell_type": "markdown",
   "metadata": {},
   "source": [
    "This means that water droplet behaves as a dipole with dipole moment:"
   ]
  },
  {
   "cell_type": "markdown",
   "metadata": {},
   "source": [
    "<!-- Equation labels as ordinary links -->\n",
    "<div id=\"_auto42\"></div>\n",
    "\n",
    "$$\n",
    "\\begin{equation}\n",
    "p = 4 \\pi \\epsilon_0 \\frac{\\epsilon_r - 1}{\\epsilon_r + 2} a^3 E_0 \\; ,\n",
    "\\label{_auto42} \\tag{42}\n",
    "\\end{equation}\n",
    "$$"
   ]
  },
  {
   "cell_type": "markdown",
   "metadata": {},
   "source": [
    "The strength of the dipole increases linearly with $E_0$. In addition, we see that increases with $a^3 = V/(4 \\pi /3)$. Therefore, we also notice that the strength of the dipole is proportional to the volume of the water droplet.\n",
    "\n",
    "## Bubble inside water?\n",
    "\n",
    "What do you think would happen in the reverse situation, where there is a bubble inside a water body with an external uniform electric field? You can use exactly the same method to address this, but we need to realize that $\\epsilon_r = \\epsilon_1/\\epsilon_2$. In the case of a water droplet, we see that $\\epsilon_r = 80$, but in the case of a bubble in water, we get $\\epsilon_r = 1/80$.\n",
    "\n",
    "What are the consequences of this? For the water droplet, the electric field inside the droplet is decreased, but for the bubble in water, the electric field inside the bubble is increased compared to the external field.\n",
    "\n",
    "Finally, we also observe that when $\\epsilon_1/\\epsilon_2 \\rightarrow \\infty$, we get $p = 4 \\pi \\epsilon_0 a^3 E_0$, which as we will see later also is the effective dipole moment of a metal sphere in vacuum.\n",
    "\n",
    "# Numerical solutions: Implicit methods\n",
    "\n",
    "Above we introduced the method of Jacobi iterations to find an approximative solution to Laplace's equation for the two-dimensional boundary value problem. This is just one of many methods to solve Laplace's equation in general and the discretized version of Laplace's equation in particular. There are also other strategies such as finite element methods and machine learning methods. Here, we will generalize the solution methods for the discretized equations and discuss their properties.\n",
    "\n",
    "We found that in two dimensions Laplace's equation is discretized to:"
   ]
  },
  {
   "cell_type": "markdown",
   "metadata": {},
   "source": [
    "<!-- Equation labels as ordinary links -->\n",
    "<div id=\"eq:laplace-implicit-010\"></div>\n",
    "\n",
    "$$\n",
    "\\begin{equation}\n",
    "\\frac{\\partial^2 V}{\\partial x^2} + \\frac{\\partial^2 V}{\\partial y^2} =\n",
    "V_{i+1,j} + V_{i-1,j} + V_{i,j+1} + V_{i,j-1} - 4 V_{i,j} = 0 \\; .\n",
    "\\label{eq:laplace-implicit-010} \\tag{43}\n",
    "\\end{equation}\n",
    "$$"
   ]
  },
  {
   "cell_type": "markdown",
   "metadata": {},
   "source": [
    "where boundary conditions can be in the form of specified values of $V(x,y)$ on a boundary $S$. Finding a *solution* to this discretized version of Laplace's equation means to find values $V_{i,j}$ that satisfies both ([43](#eq:laplace-implicit-010)) and the boundary conditions. The method of Jacobi iterations provides an *approximative* solution. We did not find the values $V_{i,j}$ that exactly satisfied ([43](#eq:laplace-implicit-010)), but values that were sufficiently near the exact solution. Let us be more precise by following the approach introduced in [[Ida2015]](#Ida2015), where we look at a small lattice in order to enumerate the problem exactly.\n",
    "\n",
    "## Description of the system\n",
    "\n",
    "We address the electric potential $V(x,y)$ on a quadratic system of length $L \\times L$ with boundary conditions $V=0$ on the lines $x=0$, $y=0$ and $x=L$ and $V = V_0$ on the line $y=L$. The system is discretized using a $N \\times N$ elements sqaure lattice with spacing $\\Delta x = L/N$ so that $V_{i,j} = V(i \\Delta x, j \\Delta x)$, where $i$ and $j$ run from $0$ to $N-1$. This system is illustrated in Fig. [fig:laplace-implicit-010](#fig:laplace-implicit-010) with the detailed enumaration for $N = 6$. For this system, there are 16 internal points, where we need to find the values for $V_{i,j}$ from ([43](#eq:laplace-implicit-010)), and there are 20 boundary values that are given.\n",
    "\n",
    "<!-- dom:FIGURE:[fig-laplaceequation/laplace-implicit-010.png, width=600 frac=0.55] Illustration of an $6 \\times 6$ system of points for the solution of $V(x,y)$ on the lattice $V_{i,j}$. Boundary nodes are illustrated in red and internal nodes are illustrated in black. <div id=\"fig:laplace-implicit-010\"></div> -->\n",
    "<!-- begin figure -->\n",
    "<div id=\"fig:laplace-implicit-010\"></div>\n",
    "\n",
    "<p>Illustration of an $6 \\times 6$ system of points for the solution of $V(x,y)$ on the lattice $V_{i,j}$. Boundary nodes are illustrated in red and internal nodes are illustrated in black.</p>\n",
    "<img src=\"fig-laplaceequation/laplace-implicit-010.png\" width=600>\n",
    "\n",
    "<!-- end figure -->\n",
    "\n",
    "\n",
    "## Equations for the unknown values of $V_{i,j}$\n",
    "\n",
    "Each value of $V_{i,j}$ are determined from  ([43](#eq:laplace-implicit-010)). For point that do not have any boundary values as its nearest neighbors, such as for $(2,3)$, the equation is"
   ]
  },
  {
   "cell_type": "markdown",
   "metadata": {},
   "source": [
    "<!-- Equation labels as ordinary links -->\n",
    "<div id=\"_auto43\"></div>\n",
    "\n",
    "$$\n",
    "\\begin{equation}\n",
    "V_{3,3} + V_{1,3} + V_{2,4} + V_{2,2} - 4 V_{2,3} = 0 \\; ,\n",
    "\\label{_auto43} \\tag{44}\n",
    "\\end{equation}\n",
    "$$"
   ]
  },
  {
   "cell_type": "markdown",
   "metadata": {},
   "source": [
    "where all the values $V_{i,j}$ are unknowns. However, for points that are near the boundary, such as for $(1,3)$, the equation still have the same form:"
   ]
  },
  {
   "cell_type": "markdown",
   "metadata": {},
   "source": [
    "<!-- Equation labels as ordinary links -->\n",
    "<div id=\"_auto44\"></div>\n",
    "\n",
    "$$\n",
    "\\begin{equation}\n",
    "V_{2,3} + V_{0,3} + V_{1,4} + V_{1,2} - 4 V_{1,3} = 0 \\; ,\n",
    "\\label{_auto44} \\tag{45}\n",
    "\\end{equation}\n",
    "$$"
   ]
  },
  {
   "cell_type": "markdown",
   "metadata": {},
   "source": [
    "but we replace $V_{0,3}$ with its boundary value $B_{0,3}$, which is a given constant:"
   ]
  },
  {
   "cell_type": "markdown",
   "metadata": {},
   "source": [
    "<!-- Equation labels as ordinary links -->\n",
    "<div id=\"_auto45\"></div>\n",
    "\n",
    "$$\n",
    "\\begin{equation}\n",
    "V_{2,3} + B_{0,3} + V_{1,4} + V_{1,2} - 4 V_{1,3} = 0 \\; ,\n",
    "\\label{_auto45} \\tag{46}\n",
    "\\end{equation}\n",
    "$$"
   ]
  },
  {
   "cell_type": "markdown",
   "metadata": {},
   "source": [
    "We get one such linear equation for each of the 16 internal points: 16 equations in total and 16 unknown values of $V_{i,j}$. We therefore have a set of linear equations that we need to solve to find the solution. These equations can be solved using an approximative method, such as Jacobi iterations, or with an exact method, such as Gaussian elimination.\n",
    "\n",
    "## Enumeration\n",
    "\n",
    "However, if we are to write all 16 linear equations, it is better to introduce a new enumeration scheme for the points, where we use a single index $n$ for each point $(i,j)$. Here, we use the scheme: $n = (j-1)(N-2)+(i-1)$ so that $n = 0,1, \\ldots, 15$. This scheme is illustrated in Fig. [fig:laplace-implicit-010](#fig:laplace-implicit-010). We also change the sign of the equation to simplify the notation. For point $(2,3)$ we get:"
   ]
  },
  {
   "cell_type": "markdown",
   "metadata": {},
   "source": [
    "<!-- Equation labels as ordinary links -->\n",
    "<div id=\"_auto46\"></div>\n",
    "\n",
    "$$\n",
    "\\begin{equation}\n",
    "V_{3,3} + V_{1,3} + V_{2,4} + V_{2,2} - 4 V_{2,3} = 0 \\; \\rightarrow \\;\n",
    "-V_{10} - V_{8} - V_{13} - V_{5} + 4 V_{9} = 0 \\; . \n",
    "\\label{_auto46} \\tag{47}\n",
    "\\end{equation}\n",
    "$$"
   ]
  },
  {
   "cell_type": "markdown",
   "metadata": {},
   "source": [
    "and for point $(1,3)$ the equation becomes:"
   ]
  },
  {
   "cell_type": "markdown",
   "metadata": {},
   "source": [
    "<!-- Equation labels as ordinary links -->\n",
    "<div id=\"_auto47\"></div>\n",
    "\n",
    "$$\n",
    "\\begin{equation}\n",
    "V_{2,3} + B_{0,3} + V_{1,4} + V_{1,2} - 4 V_{1,3} = 0 \\; \\rightarrow \\;\n",
    "-V_{9} - B_{0,3} - V_{12} - V_{4} + 4 V_{8}= 0 \\; ,\n",
    "\\label{_auto47} \\tag{48}\n",
    "\\end{equation}\n",
    "$$"
   ]
  },
  {
   "cell_type": "markdown",
   "metadata": {},
   "source": [
    "where we notice that we need to keep track of the boundary value $B_{0,3}$. We can rewrite this on standard form for linear equations, where the constants are on the right hand side:"
   ]
  },
  {
   "cell_type": "markdown",
   "metadata": {},
   "source": [
    "<!-- Equation labels as ordinary links -->\n",
    "<div id=\"_auto48\"></div>\n",
    "\n",
    "$$\n",
    "\\begin{equation}\n",
    "-V_{9} - V_{12} - V_{4} + 4 V_{8} = B_{0,3}  \\; ,\n",
    "\\label{_auto48} \\tag{49}\n",
    "\\end{equation}\n",
    "$$"
   ]
  },
  {
   "cell_type": "markdown",
   "metadata": {},
   "source": [
    "## System of equations\n",
    "\n",
    "We write down all the 16 equations for the internal points. On matrix form this gives us the following system of equations:"
   ]
  },
  {
   "cell_type": "markdown",
   "metadata": {},
   "source": [
    "$$\n",
    "\\left[ \\begin{array}{cccccccccccccccc}\n",
    " 4 & -1 &  0 &  0 & -1 &  0 &  0 &  0 &  0 &  0 &  0 &  0 &  0 &  0 &  0 &  0 \\\\ \n",
    "-1 &  4 & -1 &  0 &  0 & -1 &  0 &  0 &  0 &  0 &  0 &  0 &  0 &  0 &  0 &  0 \\\\ \n",
    " 0 & -1 &  4 & -1 &  0 &  0 & -1 &  0 &  0 &  0 &  0 &  0 &  0 &  0 &  0 &  0 \\\\ \n",
    " 0 &  0 & -1 &  4 &  0 &  0 &  0 & -1 &  0 &  0 &  0 &  0 &  0 &  0 &  0 &  0 \\\\ \n",
    "-1 &  0 &  0 &  0 &  4 & -1 &  0 &  0 & -1 &  0 &  0 &  0 &  0 &  0 &  0 &  0 \\\\ \n",
    " 0 & -1 &  0 &  0 & -1 &  4 & -1 &  0 &  0 & -1 &  0 &  0 &  0 &  0 &  0 &  0 \\\\ \n",
    " 0 &  0 & -1 &  0 &  0 & -1 &  4 & -1 &  0 &  0 & -1 &  0 &  0 &  0 &  0 &  0 \\\\ \n",
    " 0 &  0 &  0 & -1 &  0 &  0 & -1 &  4 &  0 &  0 &  0 & -1 &  0 &  0 &  0 &  0 \\\\ \n",
    " 0 &  0 &  0 &  0 & -1 &  0 &  0 &  0 &  4 & -1 &  0 &  0 & -1 &  0 &  0 &  0 \\\\ \n",
    " 0 &  0 &  0 &  0 &  0 & -1 &  0 &  0 & -1 &  4 & -1 &  0 &  0 & -1 &  0 &  0 \\\\ \n",
    " 0 &  0 &  0 &  0 &  0 &  0 & -1 &  0 &  0 & -1 &  4 & -1 &  0 &  0 & -1 &  0 \\\\ \n",
    " 0 &  0 &  0 &  0 &  0 &  0 &  0 & -1 &  0 &  0 & -1 &  4 &  0 &  0 &  0 & -1 \\\\ \n",
    " 0 &  0 &  0 &  0 &  0 &  0 &  0 &  0 & -1 &  0 &  0 &  0 &  4 & -1 &  0 &  0 \\\\ \n",
    " 0 &  0 &  0 &  0 &  0 &  0 &  0 &  0 &  0 & -1 &  0 &  0 & -1 &  4 & -1 &  0 \\\\ \n",
    " 0 &  0 &  0 &  0 &  0 &  0 &  0 &  0 &  0 &  0 & -1 &  0 &  0 & -1 &  4 & -1 \\\\ \n",
    " 0 &  0 &  0 &  0 &  0 &  0 &  0 &  0 &  0 &  0 &  0 & -1 &  0 &  0 & -1 &  4\n",
    " \\end{array} \\right]\n",
    "\\left[ \\begin{array}{c}\n",
    "V_{0} \\\\ \n",
    "V_{1} \\\\ \n",
    "V_{2} \\\\ \n",
    "V_{3} \\\\ \n",
    "V_{4} \\\\ \n",
    "V_{5} \\\\ \n",
    "V_{6} \\\\ \n",
    "V_{7} \\\\ \n",
    "V_{8} \\\\ \n",
    "V_{9} \\\\ \n",
    "V_{10} \\\\ \n",
    "V_{11} \\\\ \n",
    "V_{12} \\\\ \n",
    "V_{13} \\\\ \n",
    "V_{14} \\\\ \n",
    "V_{15}\n",
    "\\end{array} \\right]\n",
    "=\n",
    "\\left[ \\begin{array}{c}\n",
    "B_{0,1} + B_{1,0} \\\\ \n",
    "B_{2,0} \\\\ \n",
    "B_{3,0} \\\\ \n",
    "B_{4,0} + B_{5,1} \\\\ \n",
    "B_{0,2} \\\\ \n",
    "0 \\\\ \n",
    "0 \\\\ \n",
    "B_{5,2} \\\\ \n",
    "B_{0,3} \\\\ \n",
    "0 \\\\ \n",
    "0 \\\\ \n",
    "B_{5,3} \\\\ \n",
    "B_{0,4} + B_{1,5} \\\\ \n",
    "B_{2,5} \\\\ \n",
    "B_{3,5} \\\\ \n",
    "B_{5,4} + B_{4,5}\n",
    "\\end{array} \\right]\n",
    "$$"
   ]
  },
  {
   "cell_type": "markdown",
   "metadata": {},
   "source": [
    "This is a matrix equation on the form $A x = B$, where the unknow $x$ here is the potentials, $V$. Notice how you can read out the form of the equation from this matrix. You see that there is a $4$ on the diagonal (this would be 2 in one dimension and 6 in three dimensions), which corresponds to the $ 4 V_i$ in the equation. You also see that there is a $-1$ for each of the nearest neighbors: These are the $-1$ that are next to the 4 on the diagonal: $-V_{i+1,j}$ etc. These are replaced by zeros for some of the rows --- for the nodes that are next to a boundary. Then there are $-1$'s that are offset by two zeros. These correspond to the nodes that are on the row above or below the current row. The number of positions they are offset from the diagonal (with value 4) correspond to the number of nodes in a row. See for yourself that the values in the matrix makes sense when you compare with Fig. [fig:laplace-implicit-010](#fig:laplace-implicit-010).\n",
    "\n",
    "## Implicit numerical solution\n",
    "\n",
    "We now have a system of linear equations that we can solve with any solution method that is efficient and precise. There are many tools in Python to help you solve such systems of linear equations. Here, we will set up the equations and solve them with a simple tool.\n",
    "\n",
    "### Setting up the matrices\n",
    "\n",
    "We now generate the matrix $A_{n,m}$ and the vector $B_n$ by inserting the relevant values for each $(i,j)$. However, we have to remember that Python uses the inverse numbering of the indexes so that the first index is the $y$-coordinate (the row) and the second index is the $x$-coordinate (the column). We look through each point $(i,j)$ and insert a $4$ at the corresponding $A_{n,n}$. We then insert a $-1$ for each neighbor $(i+1,j)$, $(i-1,j)$, $(i,j+1)$ and $(i,j-1)$ at the corresponding position in $A$, unless they are part of the boundary, in which case we instead add the boundary value to the $B$-vector. We write a function to set up the system of equations, solve the system, and put the values back into an array that includes both the internal and the boundary values for $V$:"
   ]
  },
  {
   "cell_type": "code",
   "execution_count": 11,
   "metadata": {
    "collapsed": false
   },
   "outputs": [],
   "source": [
    "def poissonimplicit(b):\n",
    "    N = b.shape[0]\n",
    "    # Setting up system of equations\n",
    "    LM = (N-2)*(N-2)\n",
    "    A = np.zeros((LM,LM),float)\n",
    "    B = np.zeros((LM),float)\n",
    "    for j in range(1,N-1):\n",
    "        for i in range(1,N-1):\n",
    "            # 4Vi,j-Vi+1,j-Vi-1,j-Vi,j+1-Vi,j-1\n",
    "            n = (j-1)*(N-2) + (i-1)\n",
    "            #print(\"ix,iy = \",i,j,\", n = \",n)\n",
    "            A[n,n] = 4 # Diagonal\n",
    "            if (i>1):\n",
    "                A[n,n-1] = -1\n",
    "            else:\n",
    "                B[n] = B[n] + b[j,i-1]\n",
    "            if (i<N-2):\n",
    "                A[n,n+1] = -1\n",
    "            else:\n",
    "                B[n] = B[n] + b[j,i+1]\n",
    "            if (j>1):\n",
    "                A[n,n-(N-2)] = -1\n",
    "            else:\n",
    "                B[n] = B[n] + b[j-1,i]\n",
    "            if (j<N-2):\n",
    "                A[n,n+(N-2)] = -1\n",
    "            else:\n",
    "                B[n] = B[n] + b[j+1,i]\n",
    "    x = np.linalg.solve(A,B)\n",
    "    # Generate full V matrix\n",
    "    V = np.zeros((N,N),float)\n",
    "    for j in range(0,N):\n",
    "        for i in range(0,N):\n",
    "            if (i<1)or(i>=N-1)or(j<1)or(j>=N-1):\n",
    "                V[j,i] = b[j,i]\n",
    "            else:\n",
    "                n = (j-1)*(N-2) + (i-1)\n",
    "                V[j,i] = x[n]    \n",
    "    return V"
   ]
  },
  {
   "cell_type": "markdown",
   "metadata": {},
   "source": [
    "We then set up the boundary condition in the array `b` and solve the system:"
   ]
  },
  {
   "cell_type": "code",
   "execution_count": 12,
   "metadata": {
    "collapsed": false
   },
   "outputs": [],
   "source": [
    "# Setting up the boundaries\n",
    "N = 6\n",
    "b = np.zeros((N,N),float)\n",
    "b[:,0] = 0.0\n",
    "b[:,N-1] = 0.0\n",
    "b[0,:] = 0.0\n",
    "b[N-1,:] = 1.0\n",
    "# Solve the boundary value problem\n",
    "V = poissonimplicit(b)\n",
    "# Plot the result\n",
    "plt.contourf(V)"
   ]
  },
  {
   "cell_type": "markdown",
   "metadata": {},
   "source": [
    "The resulting plot is shown in Fig. [fig:laplace-implicit-020](#fig:laplace-implicit-020). Notice that this is an exact solution of the linear system of equations, which is an approximation to Laplace's equation. Itt is not necessarily an exact solution to Laplace's equation! (For this particular problem we can find the exact solution to Laplace's equation and compare with the numerical solution. We will leave this as an exercise.)\n",
    "\n",
    "<!-- dom:FIGURE:[fig-laplaceequation/laplace-implicit-020.png, width=600 frac=1.0] Plot of $V(x,y)$ for the implicit solution of Laplace's equation for $N=6$ (left) and $N=100$ (right). <div id=\"fig:laplace-implicit-020\"></div> -->\n",
    "<!-- begin figure -->\n",
    "<div id=\"fig:laplace-implicit-020\"></div>\n",
    "\n",
    "<p>Plot of $V(x,y)$ for the implicit solution of Laplace's equation for $N=6$ (left) and $N=100$ (right).</p>\n",
    "<img src=\"fig-laplaceequation/laplace-implicit-020.png\" width=600>\n",
    "\n",
    "<!-- end figure -->\n",
    "\n",
    "\n",
    "### Improved implementation\n",
    "\n",
    "The implementation we have provided here is simple and naive and is meant to be pedagogical and not efficient, however, it does work well up to system of $N$ of a few hundred. If you try a high resolution (a large value of $N$) you will notice that the matrix $A$ mostly will contain zeros. We call such matrices *sparse*. There are more efficient methods to set up and solve sparce matrices in Python. In order to make the solution method efficient you will both need to implement this as a sparse matrix and you may need to be more careful in how you choose solution methods for solving the system of linear equations. We will discuss this in an exercise.\n",
    "\n",
    "\n",
    "\n",
    "# Numerical solutions: Machine learning methods\n",
    "\n",
    "So far we have attempted to solve Laplace's equation by finding values of $V(x,y)$ on a lattice in such a way that the discretized version of Laplace's equation is satisfied on the lattice. Let us try a completely different approach: Let us describe $V(x,y)$ by a large set of parameters $w_j$: $V(x,y;w_j)$, and then we will try to choose values of $w_j$ so that $V(x,y;w_j)$ is a solution to Laplace's equation and satisfies all the boundary conditions. This is a very different approach to the finite difference scheme. In general, we do not expect to choose the parameters so that the function fits exactly, we will instead try to minimize the deviation from a solution that satisfies both the differential equation and the boundary conditions. To do this, we will use a neural network to reprensent the function $V(x,y;w_j)$, where the parameters are the weights and biases in the neural network. And we will use methods from machine learning to find a good set of parameters. This provides us with a continuous solution --- a solution for any point in the volume we are solving Laplace's equation. This example was inspired by an example by [Diogo Ferreira](https://towardsdatascience.com/how-to-solve-an-ode-with-a-neural-network-917d11918932).\n",
    "\n",
    "## Model formulation\n",
    "\n",
    "We want to develop a method to solve Laplace equation to find the potential $V(x,y)$:"
   ]
  },
  {
   "cell_type": "markdown",
   "metadata": {},
   "source": [
    "<!-- Equation labels as ordinary links -->\n",
    "<div id=\"_auto49\"></div>\n",
    "\n",
    "$$\n",
    "\\begin{equation}\n",
    "\\frac{\\partial^2 V}{\\partial x^2} + \\frac{\\partial^2 V }{\\partial y^2} = 0\n",
    "\\label{_auto49} \\tag{50}\n",
    "\\end{equation}\n",
    "$$"
   ]
  },
  {
   "cell_type": "markdown",
   "metadata": {},
   "source": [
    "in a region $0 \\le x \\le a$, $0 \\le y \\le b$ with a given set of boundary conditions.\n",
    "\n",
    "The idea is that we will represent the potential $V(x,y)$ with a neural network. The neural network has a set of parameters consisting of weights $w_{ij}$ and biases $b_{ij}$ that describe the potential. With sufficiently many parameters, it can be shown that a neural network can represent any function.\n",
    "\n",
    "We will then determine the parameters so that this function is an (approximate) solution to the differential equation and the boundary conditions. We can improve the approximation by increasing the size of the network and by improving the choice of parameters.\n",
    "\n",
    "### One-dimensional potential\n",
    "\n",
    "First, let us see how we can describe a one dimensional potential, $V(x)$, by a neural network. The neural network is a function that takes an input parameter, $x$, transforms this into a set of internal variables, $h_i$, the hidden nodes, and then finally, transform the $h_i$ into the output, $V(x)$.\n",
    "\n",
    "Each hidden value $h_i$ is determined by the weight $w_{x,i}$ of the connection between $x$ and the hidden parameter $i$ and the bias of the connection $b_{0i}$ through the following relation"
   ]
  },
  {
   "cell_type": "markdown",
   "metadata": {},
   "source": [
    "<!-- Equation labels as ordinary links -->\n",
    "<div id=\"_auto50\"></div>\n",
    "\n",
    "$$\n",
    "\\begin{equation}\n",
    "h_i = g(w_{x,i}x + b_{0i})  \\; .\n",
    "\\label{_auto50} \\tag{51}\n",
    "\\end{equation}\n",
    "$$"
   ]
  },
  {
   "cell_type": "markdown",
   "metadata": {},
   "source": [
    "where the function $g(u)$ is called the activation function. Here, we will use a hyperbolic tangent for the activation function, $g(u) = \\tanh (u)$.\n",
    "\n",
    "The output, $V(x)$, is found by summing all the hidden values, again adding weights and biases:"
   ]
  },
  {
   "cell_type": "markdown",
   "metadata": {},
   "source": [
    "<!-- Equation labels as ordinary links -->\n",
    "<div id=\"_auto51\"></div>\n",
    "\n",
    "$$\n",
    "\\begin{equation}\n",
    "V(x) = \\sum_i w_{1i} h_i + b_{1i} \n",
    "\\label{_auto51} \\tag{52}\n",
    "\\end{equation}\n",
    "$$"
   ]
  },
  {
   "cell_type": "markdown",
   "metadata": {},
   "source": [
    "where we have used the notation $w_{1i}$ for the weights that are added to the hidden values and $b_{1i}$ to the biases added to the hidden values. In some cases we may also apply the transfer function, but here we simply use the weighted sum of the hidden parameters in what is called the *hidden layer*.\n",
    "\n",
    "\n",
    "Networks may consist of one of several such hidden layers. A network with several hidden layers is called a *deep neural network*. Here, we will only use a single hidden layer.\n",
    "\n",
    "The function $V(\\{w,b\\};x)$ is a function of all the parameters $\\{w_{x,i},w_{1i},b_{ij}\\}$ needed to determine the function. The goal is to determine the parameters so that this function satisfies the differential equation and the boundary conditions.\n",
    "\n",
    "### Two-dimensional potential\n",
    "\n",
    "How can we extend this to two dimension? In this case, we have two inputs to each hidden parameter $h_i$, one from $x$ and one from $y$ with weights $w_{x,ij}$ and $w_{y,ij}$ respectively. Otherwise, the description is the same. We only include one bias per hidden parameter, $h_i$. We sum the inputs and apply the transfer function to get the hidden parameter, $h_i$:"
   ]
  },
  {
   "cell_type": "markdown",
   "metadata": {},
   "source": [
    "<!-- Equation labels as ordinary links -->\n",
    "<div id=\"_auto52\"></div>\n",
    "\n",
    "$$\n",
    "\\begin{equation}\n",
    "h_i = g(w_{x,0i}x + w_{y,0i}y+ b_{0i}) \\; ,\n",
    "\\label{_auto52} \\tag{53}\n",
    "\\end{equation}\n",
    "$$"
   ]
  },
  {
   "cell_type": "markdown",
   "metadata": {},
   "source": [
    "and we then sum all the hidden parameters to find the output value:"
   ]
  },
  {
   "cell_type": "markdown",
   "metadata": {},
   "source": [
    "<!-- Equation labels as ordinary links -->\n",
    "<div id=\"_auto53\"></div>\n",
    "\n",
    "$$\n",
    "\\begin{equation}\n",
    "V(x,y) = \\sum_i w_{1i}h_i + b_{1i} \\; .\n",
    "\\label{_auto53} \\tag{54}\n",
    "\\end{equation}\n",
    "$$"
   ]
  },
  {
   "cell_type": "markdown",
   "metadata": {},
   "source": [
    "Again, we need to find the parameters that make this function satisfy the differential equation and the boundary conditions. (And again we do not apply the transfer function $g(u)$, but only include the sum).\n",
    "\n",
    "### Satisfying the differential equation\n",
    "\n",
    "How can we ensure that this function satisfies the differential equation? We can insert it into the differential equation $\\nabla^2 V = 0$. That is, we can calculate $\\nabla^2 V-0$ and choose parameters that make this as small as possible (as close to zero as possible) .\n",
    "\n",
    "We do this by looking at the square of the value of $\\nabla^2 V-0$, and we call this the loss, $L(\\{w,b\\})$:"
   ]
  },
  {
   "cell_type": "markdown",
   "metadata": {},
   "source": [
    "<!-- Equation labels as ordinary links -->\n",
    "<div id=\"_auto54\"></div>\n",
    "\n",
    "$$\n",
    "\\begin{equation}\n",
    "L(\\{w,b\\}) = \\left( \\nabla^2 V -0 \\right)^2 \\; .\n",
    "\\label{_auto54} \\tag{55}\n",
    "\\end{equation}\n",
    "$$"
   ]
  },
  {
   "cell_type": "markdown",
   "metadata": {},
   "source": [
    "Notice that the loss is a function of the parameters $\\{w,b\\}$ of the neural network.\n",
    "\n",
    "In addition, the function should satisfy the boundary conditions. We do this by also including the boundary conditions in the loss function. For example, if we have the boundary condition $V(0,y) = V_0$, we need to include this at a set of points $y_i$ at the boundary, and include the average of the square deviations, averaged over the points $y_i$:"
   ]
  },
  {
   "cell_type": "markdown",
   "metadata": {},
   "source": [
    "<!-- Equation labels as ordinary links -->\n",
    "<div id=\"_auto55\"></div>\n",
    "\n",
    "$$\n",
    "\\begin{equation}\n",
    "L(\\{w,b\\}) = \\left( \\nabla^2 V -0 \\right)^2 + \\langle \\left( V(0,y_i) - V_0 \\right)^2\\rangle \\; .\n",
    "\\label{_auto55} \\tag{56}\n",
    "\\end{equation}\n",
    "$$"
   ]
  },
  {
   "cell_type": "markdown",
   "metadata": {},
   "source": [
    "Similarly, we must include the values on the other boundaries. In this particular case we would like to use the boundary conditions $V(x,0) = \\sin(x)$, $V(0,y) = 0$, $V(a,0) = 0$, $V(0,b) = 0$.\n",
    "\n",
    "This gives us the loss function:"
   ]
  },
  {
   "cell_type": "markdown",
   "metadata": {},
   "source": [
    "$$\n",
    "\\begin{eqnarray}\n",
    "L(\\{w,b\\}) &=& \\left( \\nabla^2 V -0  \\right)^2 + \\langle \\left( V(x_i,0) - \\sin(x_i) \\right)^2\\rangle \\\\ \n",
    "&+& \\langle \\left( V(0,y_i) - 0 \\right)^2\\rangle + \\langle \\left( V(a,y_i) - 0 \\right)^2\\rangle \\\\ \n",
    "&+& \\langle \\left( V(x_i,b) - 0 \\right)^2\\rangle \\; .\n",
    "\\end{eqnarray}\n",
    "$$"
   ]
  },
  {
   "cell_type": "markdown",
   "metadata": {},
   "source": [
    "Now, the task is to find the set of parameters $\\{w,b\\}=\\{w_{x,i},w_{y,i},w_{ij},b_{ij}\\}$ that makes $L(\\{w,b\\})$ as small as possible. We have therefore changed the problem of solving the differential equation to a minimization problem.\n",
    "\n",
    "## Initiating the neural network\n",
    "\n",
    "We initiate the neural network by defining the function `V`, which will correspond to the potential $V$. We introduce the neural network through this function. All the weights are placed in one array, `params`."
   ]
  },
  {
   "cell_type": "code",
   "execution_count": 13,
   "metadata": {
    "collapsed": false
   },
   "outputs": [],
   "source": [
    "# Import necessary libraries\n",
    "import jax.numpy as np\n",
    "import matplotlib.pyplot as plt\n",
    "from jax.experimental import optimizers\n",
    "from jax import jit\n",
    "# We set up the neural network with n nodes in the hidden layer\n",
    "n = 100\n",
    "def V(params, x, y):\n",
    "    w0 = params[:n]\n",
    "    b0 = params[n:2*n]\n",
    "    w1 = params[2*n:3*n]\n",
    "    w2 = params[3*n:4*n]\n",
    "    b1 = params[4*n]\n",
    "    hidden = np.tanh(x*w0 + y*w1 + b0)\n",
    "    output = np.sum(hidden*w2) + b1\n",
    "    return output"
   ]
  },
  {
   "cell_type": "markdown",
   "metadata": {},
   "source": [
    "We apply `grad` to find the derivatives of `V` with respect to  the second and third parameter, which corresponds to $x$ and $y$. (Notice the use of Python numbering, so that `params` is number 0). This function is provided by `jax` and is very fast and accelerated by a GPU or a TPU if you have this on your machine."
   ]
  },
  {
   "cell_type": "code",
   "execution_count": 14,
   "metadata": {
    "collapsed": false
   },
   "outputs": [],
   "source": [
    "from jax import grad\n",
    "# Then we define the derivative of f\n",
    "dVdx = grad(V, 1)\n",
    "dVdy = grad(V, 2)\n",
    "ddVddx = grad(dVdx, 1)\n",
    "ddVddy = grad(dVdy, 2)"
   ]
  },
  {
   "cell_type": "markdown",
   "metadata": {},
   "source": [
    "In order to use these later, we need them to be vectorized so that they can work on a whole vector in a fast way. This is done using the `vmap` function which is part of `jax`."
   ]
  },
  {
   "cell_type": "code",
   "execution_count": 15,
   "metadata": {
    "collapsed": false
   },
   "outputs": [],
   "source": [
    "from jax import vmap\n",
    "# And the vectorized versions\n",
    "V_vect = vmap(V, (None, 0, 0))\n",
    "dVdx_vect = vmap(dVdx, (None, 0, 0))\n",
    "dVdy_vect = vmap(dVdy, (None, 0, 0))\n",
    "ddVddx_vect = vmap(ddVddx, (None, 0, 0))\n",
    "ddVddy_vect = vmap(ddVddy, (None, 0, 0))"
   ]
  },
  {
   "cell_type": "markdown",
   "metadata": {},
   "source": [
    "We select all the initial weights of the neural network to be random numbers. Here, we choose them from a normal distribution (but it is not important exactly how we choose them, although they should not all be zero initially). Notice that we use the built-in `random` function from `jax` and not from `numpy`."
   ]
  },
  {
   "cell_type": "code",
   "execution_count": 16,
   "metadata": {
    "collapsed": false
   },
   "outputs": [],
   "source": [
    "# We define initial weights of the neural net\n",
    "# Random weights with normal distribution\n",
    "from jax import random\n",
    "key = random.PRNGKey(0)\n",
    "params = random.normal(key, shape=(4*n+1,))"
   ]
  },
  {
   "cell_type": "markdown",
   "metadata": {},
   "source": [
    "## Loss function\n",
    "\n",
    "When we calculate the loss function $L$, we cannot calculate the differential equation everywhere. Instead, we choose a set of points $(x_i,y_i)$ where we calculate the differential equation, and then we find\n",
    "When we calculate the loss function $L$, we cannot calculate the differential equation everywhere. Instead, we choose a set of points $(x_i,y_i)$ where we calculate the differential equation, and then we find"
   ]
  },
  {
   "cell_type": "markdown",
   "metadata": {},
   "source": [
    "<!-- Equation labels as ordinary links -->\n",
    "<div id=\"_auto56\"></div>\n",
    "\n",
    "$$\n",
    "\\begin{equation}\n",
    "\\left( \\nabla^2 V -0 \\right)^2 = \\langle \\left( \\nabla^2 V(x_i,y_i) -0 \\right)^2 \\rangle \\; ,\n",
    "\\label{_auto56} \\tag{57}\n",
    "\\end{equation}\n",
    "$$"
   ]
  },
  {
   "cell_type": "markdown",
   "metadata": {},
   "source": [
    "where the average is over all the points $(x_i,y_i)$. We can choose these points in any way we like. We may choose them to be on a lattice, or we may choose them to be random points on the interval of $x$ and $y$ that we are addressing. Here we choose them randomly in the region $0 \\le x \\le \\pi$ and $0 \\le y \\le \\pi$."
   ]
  },
  {
   "cell_type": "code",
   "execution_count": 17,
   "metadata": {
    "collapsed": false
   },
   "outputs": [],
   "source": [
    "import jax.ops\n",
    "inputs = np.pi*random.uniform(key, shape=(1000, 2))\n",
    "inputs = jax.ops.index_update(inputs, jax.ops.index[:,0], \\\n",
    "           np.pi*random.uniform(key, shape=(1000,)))"
   ]
  },
  {
   "cell_type": "markdown",
   "metadata": {},
   "source": [
    "## Boundary conditions\n",
    "\n",
    "Similarly, we need to define the boundary conditions. We do this on a set of points on the boundaries. We introduce arrays for the points $x_i$ and $y_i$ along the $x$ and the $y$ axis:"
   ]
  },
  {
   "cell_type": "code",
   "execution_count": 18,
   "metadata": {
    "collapsed": false
   },
   "outputs": [],
   "source": [
    "# We define the grid used for the boundary conditions\n",
    "nx = 31 \n",
    "ny = 31\n",
    "x = np.linspace(0, np.pi, num=nx)\n",
    "y = np.linspace(0, np.pi, num=ny)"
   ]
  },
  {
   "cell_type": "markdown",
   "metadata": {},
   "source": [
    "And then we introduce the boundary conditions. Here, we need to find the values for $V(x,0)$, where is should be set to $V(x,0) = \\sin(x)$:"
   ]
  },
  {
   "cell_type": "code",
   "execution_count": 19,
   "metadata": {
    "collapsed": false
   },
   "outputs": [],
   "source": [
    "# Define boundary conditions\n",
    "def boundary_values_1(x, y):\n",
    "    return np.sin(x)\n",
    "\n",
    "boundary_condition_1 = np.zeros(nx)\n",
    "boundary_condition_1 = jax.ops.index_add(boundary_condition_1, \\\n",
    "   jax.ops.index[:], boundary_values_1(x, 0.0))\n",
    "\n",
    "# We check that this looks right by plotting the values\n",
    "plt.plot(boundary_condition_1)"
   ]
  },
  {
   "cell_type": "markdown",
   "metadata": {},
   "source": [
    "The resulting plot is show in Fig. [fig:laplace-ml-010](#fig:laplace-ml-010).\n",
    "\n",
    "<!-- dom:FIGURE:[fig-laplaceequation/laplace-ml-010.png, width=600 frac=0.65] Plot of the boundary conditions along one of the axis. The values along the other axis are zero. <div id=\"fig:laplace-ml-010\"></div> -->\n",
    "<!-- begin figure -->\n",
    "<div id=\"fig:laplace-ml-010\"></div>\n",
    "\n",
    "<p>Plot of the boundary conditions along one of the axis. The values along the other axis are zero.</p>\n",
    "<img src=\"fig-laplaceequation/laplace-ml-010.png\" width=600>\n",
    "\n",
    "<!-- end figure -->\n",
    "\n",
    "\n",
    "## Loss function\n",
    "\n",
    "Then, we introduce the loss function:"
   ]
  },
  {
   "cell_type": "markdown",
   "metadata": {},
   "source": [
    "$$\n",
    "\\begin{eqnarray}\n",
    "L &=& \\langle \\left( \\nabla^2 V(x_i,y_i) -0  \\right)^2 \\rangle + \\langle \\left( V(x_i,0) - \\sin(x_i) \\right)^2\\rangle \\\\ \n",
    "&+& \\langle \\left( V(0,y_i) - 0 \\right)^2\\rangle + \\langle \\left( V(a,y_i) - 0 \\right)^2\\rangle \\\\ \n",
    "&+& \\langle \\left( V(x_i,b) - 0 \\right)^2\\rangle \\; .\n",
    "\\end{eqnarray}\n",
    "$$"
   ]
  },
  {
   "cell_type": "code",
   "execution_count": 20,
   "metadata": {
    "collapsed": false
   },
   "outputs": [],
   "source": [
    "# Define loss function\n",
    "@jit\n",
    "def loss(params, inputs):\n",
    "    ix = inputs[:,0]\n",
    "    iy = inputs[:,1]\n",
    "    eq = ddVddx_vect(params, ix, iy)+ ddVddy_vect(params, ix, iy)\n",
    "\n",
    "    bc1 = V_vect(params, x, y[0]*np.ones(nx)) - boundary_condition_1\n",
    "    bc3 = V_vect(params, x[0]*np.ones(ny), y)\n",
    "    bc2 = V_vect(params, x[-1]*np.ones(ny), y)\n",
    "    bc4 = V_vect(params, x, y[-1]*np.ones(nx))\n",
    "    return np.mean(eq**2) + np.mean(bc1**2) + np.mean(bc2**2) + \\\n",
    "        np.mean(bc3**2) + np.mean(bc4**2)"
   ]
  },
  {
   "cell_type": "markdown",
   "metadata": {},
   "source": [
    "## Minimizing the loss function\n",
    "\n",
    "The final part of the method is then to introduce a method to minimize the loss function. Here we will use a simple method called gradient decent. This is a very simple method, but we include it here to demonstrate that rather simple methods work. You may want to replace this with a more advanced method from one of the many machine learning libraries in Python. (We use `jit` to ensure functions are compiled *just in time* during the minimization. This speeds the calculation up significantly)."
   ]
  },
  {
   "cell_type": "code",
   "execution_count": 21,
   "metadata": {
    "collapsed": false
   },
   "outputs": [],
   "source": [
    "# Learning\n",
    "epochs = 10000\n",
    "learning_rate = 0.001\n",
    "momentum = 0.99\n",
    "velocity = 0.\n",
    "\n",
    "grad_loss = jit(grad(loss, 0))\n",
    "\n",
    "for epoch in range(epochs):\n",
    "    if epoch % 1000 == 0:\n",
    "        print('epoch: %3d loss: %.6f' % (epoch, loss(params, inputs)))\n",
    "    gradient = grad_loss(params + momentum*velocity, inputs)\n",
    "    velocity = momentum*velocity - learning_rate*gradient\n",
    "    params += velocity"
   ]
  },
  {
   "cell_type": "markdown",
   "metadata": {},
   "source": [
    "If the loss $L$ is converging towards zero, we have found a good solution and we are ready to visualize. (If you try to fiddle with the parameters, I advice you to only change `learning_rate` and the number of minimization steps, `epochs`. If you get a `nan` for the loss, you typically need to reduce the `learning_rate`.) If you have a background in phyics, you may see how the choice of names for the variables corresponds to what happens if you relax (move) a system along with the direction of its gradients."
   ]
  },
  {
   "cell_type": "code",
   "execution_count": 22,
   "metadata": {
    "collapsed": false
   },
   "outputs": [],
   "source": [
    "# We visualize V(x,y) on a grid spanned by the points x,y from boundary conditions\n",
    "xv, yv = np.meshgrid(x, y)\n",
    "import numpy as np\n",
    "solution = np.zeros((nx, ny))\n",
    "for i, ix in enumerate(x):\n",
    "    for j, iy in enumerate(y):\n",
    "        solution[j,i] = V(params, ix, iy)\n",
    "\n",
    "# We plot in 3d. The figure can be rotated if plotted outside of the notebook\n",
    "# This is why we use %matplotlib above\n",
    "from mpl_toolkits.mplot3d import axes3d\n",
    "import matplotlib.pyplot as plt\n",
    "\n",
    "fig = plt.figure()\n",
    "ax = fig.add_subplot(111, projection='3d')\n",
    "\n",
    "X, Y = np.meshgrid(x, y)\n",
    "# Plot a basic wireframe.\n",
    "ax.plot_wireframe(X, Y, solution, color=\"black\")"
   ]
  },
  {
   "cell_type": "markdown",
   "metadata": {},
   "source": [
    "The resulting plot is show in Fig. [fig:laplace-ml-020](#fig:laplace-ml-020).\n",
    "\n",
    "<!-- dom:FIGURE:[fig-laplaceequation/laplace-ml-020.png, width=600 frac=0.85] Plot of the solution to Laplace equation in two dimensions using machine learning. <div id=\"fig:laplace-ml-020\"></div> -->\n",
    "<!-- begin figure -->\n",
    "<div id=\"fig:laplace-ml-020\"></div>\n",
    "\n",
    "<p>Plot of the solution to Laplace equation in two dimensions using machine learning.</p>\n",
    "<img src=\"fig-laplaceequation/laplace-ml-020.png\" width=600>\n",
    "\n",
    "<!-- end figure -->\n",
    "\n",
    "\n",
    "\n",
    "\n",
    "\n",
    "# Summary\n",
    "\n",
    "**Poisson's equation** can be used to find the electric potential in a volume with a given charge density $\\rho$: $\\nabla^2 V = - \\rho/\\epsilon_0$.\n",
    "\n",
    "**Laplace's equation** can be used to find the electric potential in a volume with zero charge density: $\\nabla^2 V = 0$.\n",
    "\n",
    "Laplace's and Poisson's equations have a unique solution on a volume $v$ if the boundary conditions on the surface enclosing $v$ are given.\n",
    "\n",
    "**Dirichlet boundary conditions** provide a given value for the potential at the boundaries. **von Neumann boundary condition** provide a given value for the gradient of the potential at the boundaries.\n",
    "\n",
    "We have now estabilshed several methods to relate the charge density $\\rho$, the electric field $\\vec{E}$ and the electric potential $V$:"
   ]
  },
  {
   "cell_type": "markdown",
   "metadata": {},
   "source": [
    "$$\n",
    "\\begin{eqnarray*}\n",
    "\\rho_v &\\rightarrow& \\vec{E} \\; : \\quad \\vec{E} = \\frac{1}{4 \\pi \\epsilon_0} \\int_v \\frac{\\rho_v \\vec{R}}{R^2} \\mathrm{d} v'  \\\\ \n",
    "\\vec{E} &\\rightarrow& \\rho_v \\; : \\quad \\nabla \\cdot \\vec{E} = \\rho/\\epsilon_0  \\quad ( \\nabla \\times \\vec{E} = 0 ) \\\\ \n",
    "\\rho_v &\\rightarrow& V \\; : \\quad V = \\frac{1}{4 \\pi \\epsilon_0} \\int_v \\frac{\\rho_v}{R} \\mathrm{d} v' \\\\ \n",
    "V &\\rightarrow& \\rho_v \\; : \\quad \\nabla^2 V = - \\rho_v / \\epsilon_0 \\\\ \n",
    "V &\\rightarrow& \\vec{E} \\; : \\quad \\vec{E} = - \\nabla V \\\\ \n",
    "\\vec{E} &\\rightarrow& V \\; : \\quad V = - \\int_C \\vec{E} \\cdot \\mathrm{d} \\vec{l}\n",
    "\\end{eqnarray*}\n",
    "$$"
   ]
  },
  {
   "cell_type": "markdown",
   "metadata": {},
   "source": [
    "# Exercises\n",
    "\n",
    "\n",
    "\n",
    "## Test yourself\n",
    "\n",
    "\n",
    "\n",
    "\n",
    "<!-- --- begin exercise --- -->\n",
    "\n",
    "## Exercise 1: Laplace operator\n",
    "\n",
    "Which of the following scalar potentials are or can be solutions to Laplace's equation and Poisson's equation?\n",
    "\n",
    "\n",
    "**a)**\n",
    "$V(x) = ax + b$\n",
    "\n",
    "\n",
    "\n",
    "\n",
    "\n",
    "**b)**\n",
    "$V(x) = A \\sin \\omega x$\n",
    "\n",
    "\n",
    "\n",
    "\n",
    "\n",
    "**c)**\n",
    "$V(x) = c$\n",
    "\n",
    "\n",
    "\n",
    "\n",
    "\n",
    "**d)**\n",
    "$V(x,y) = Ax + By$\n",
    "\n",
    "\n",
    "\n",
    "\n",
    "\n",
    "**e)**\n",
    "$V(r,\\theta,\\phi) = a/r + b$\n",
    "\n"
   ]
  },
  {
   "cell_type": "markdown",
   "metadata": {},
   "source": [
    "\n",
    "**f)**\n",
    "$V(x,y) = ax^2y$\n",
    "\n",
    "\n",
    "\n",
    "\n",
    "\n",
    "\n",
    "\n",
    "<!-- --- end exercise --- -->\n",
    "\n",
    "\n",
    "## Discussion exercises\n",
    "\n",
    "\n",
    "\n",
    "\n",
    "<!-- --- begin exercise --- -->\n",
    "\n",
    "## Exercise 2: Laplace operator\n",
    "\n",
    "In one dimension, a linear curve is a solution to Laplace equation. Are there any other solutions that are not linear? In two dimensions, a plane may also be a solution to the Laplace equation. Are there any other solutions and what would that depend on?\n",
    "\n",
    "\n",
    "<!-- . -->\n",
    "<!-- --- end exercise --- -->\n",
    "\n",
    "\n",
    "\n",
    "\n",
    "<!-- --- begin exercise --- -->\n",
    "\n",
    "## Exercise 3: Discontinous potential\n",
    "\n",
    "Is it possible to have a discontinuous potential? Provide examples or arguments for why it is not possible. (Hint: $\\vec{E} = - \\nabla V$).\n",
    "\n",
    "<!-- --- end exercise --- -->\n",
    "\n",
    "\n",
    "## Tutorials\n",
    "\n",
    "\n",
    "\n",
    "<!-- --- begin exercise --- -->\n",
    "\n",
    "## Exercise 4: Spatial variation of potentials (Laplace equation)\n",
    "\n",
    "We will study a system in the $xy$-plane. At $x=0$ and $x=L$ the scalar potential is $V_0 = 0$. The volume charge density between $x=0$ and $x=L$ is zero, and the dielectric constant is $\\epsilon$.\n",
    "\n",
    "\n",
    "**a)**\n",
    "Make a sketch of the system. What quantities is it useful to include in the sketch?\n",
    "\n",
    "**b)**\n",
    "What is the scalar potential potential in the region between $x=0$ and $x=L$? Be very precise in how you determine this and what assumptions you make. What is the electric field in this region?\n",
    "\n",
    "\n",
    "\n",
    "\n",
    "\n",
    "We now introduce a new feature in the system: The potential at $x=L/2$ is $V_1>V_0$. The volume charge density is still zero, and the dielectric constant is $\\epsilon$.\n",
    "\n",
    "**c)**\n",
    "Update your drawing to reflect this.\n",
    "\n",
    "**d)**\n",
    "Find the scalar potential $V(x,y)$ everywhere between $x=0$ and $x=L$. What is the electric field?\n",
    "\n",
    "\n",
    "\n",
    "\n",
    "\n",
    "**e)**\n",
    "What kind of system could this situation represent?\n",
    "\n",
    "\n",
    "\n",
    "**f)**\n",
    "What is the surface charge density on the surfaces at $x=0$, and $x=L$. Discuss what happens at $x=L/2$.\n",
    "\n",
    "\n",
    "\n",
    "\n",
    "\n",
    "<!-- --- end exercise --- -->\n",
    "\n",
    "\n",
    "\n",
    "\n",
    "<!-- --- begin exercise --- -->\n",
    "\n",
    "## Exercise 5: Surface charges\n",
    "\n",
    "Consider a sphere with radius $a$ with a charge $Q$ uniformly distributed on its surface.\n",
    "\n",
    "\n",
    "**a)**\n",
    "What is the electric field as a function of $r$? (Find the behavior for both $r<a$ and $r>a$)\n",
    "\n",
    "\n",
    "\n",
    "\n",
    "\n",
    "**b)**\n",
    "What is the scalar potential, $V(r)$.\n",
    "\n",
    "\n",
    "\n",
    "\n",
    "\n",
    "**c)**\n",
    "Does $V(r)$ satisfy Laplace equation? (Where does it/does it not satisfy the equation).\n",
    "\n"
   ]
  },
  {
   "cell_type": "markdown",
   "metadata": {},
   "source": [
    "\n",
    "**d)**\n",
    "Use your result for $E$ to find the surface charge at $r=a$.\n",
    "\n",
    "\n",
    "\n",
    "\n",
    "\n",
    "<!-- --- end exercise --- -->\n",
    "\n",
    "\n",
    "\n",
    "\n",
    "<!-- --- begin exercise --- -->\n",
    "\n",
    "## Exercise 6: Laplace equation in two dimensions\n",
    "\n",
    "The Python programs provided in the text provides skeleton programs to solve Laplace's equation on a rectangular area with a given set of Dirichlet boundary conditions on the boudary $S$, $V(S)$.\n",
    "\n",
    "\n",
    "**a)**\n",
    "Apply the program to the test case where $V(x=0,y)=0$ and $V(x=L,y)=V_1$. How can you check that the results are correct? Find the exact solution and compare with the numerical results.\n",
    "\n",
    "**b)**\n",
    "Use the program to find $V$ and $\\vec{E}$ for the case when $V=0$ for $x=0$ and $x=L$, and $V=V_1$ for $y=0$ and $y=L$. Discuss the potential and field you get. Does it correspond to your intuition?\n",
    "\n",
    "**c)**\n",
    "Use the program to explore a situation of choice. Predict what you will get first, and then run the program to test your intuition.\n",
    "\n",
    "<!-- --- end exercise --- -->\n",
    "\n",
    "\n",
    "## Homework\n",
    "\n",
    "\n",
    "\n",
    "<!-- --- begin exercise --- -->\n",
    "\n",
    "## Exercise 7: Charge distribution between metal plates\n",
    "<div id=\"ex:laplace-plates\"></div>\n",
    "\n",
    "Two plane metal plated with a spacing of $d=1$ cm have a uniformly distributed volume charge density $\\rho_v = -10^{-5}\\text{ C/m}^3$ in the area between them. The medium between the plates have relative permittivity $\\epsilon_r=1$. One plate is grounded ($V=0$) while to other plate is at a potential $V_0 = 10$ V.\n",
    "\n",
    "<!-- dom:FIGURE: [fig-laplaceequation/laplace-ex-plates-010.png, width=600 frac=0.5] -->\n",
    "<!-- begin figure -->\n",
    "\n",
    "<p></p>\n",
    "<img src=\"fig-laplaceequation/laplace-ex-plates-010.png\" width=600>\n",
    "\n",
    "<!-- end figure -->\n",
    "\n",
    "\n",
    "\n",
    "**a)**\n",
    "Find the electric potential between the plates as a function of $x$ when we assume that the plates have infinite extent.\n",
    "\n",
    "<!-- --- begin hint in exercise --- -->\n",
    "\n",
    "**Hint.**\n",
    "Poisson's equation gives a second order differential equation in one variable. Solve this equation with boundary conditions $V(0) = V_0$ and $V(d) = 0$.\n",
    "\n",
    "<!-- --- end hint in exercise --- -->\n",
    "\n",
    "\n",
    "\n"
   ]
  },
  {
   "cell_type": "markdown",
   "metadata": {},
   "source": [
    "\n",
    "**b)**\n",
    "Find the electric field as a function of $x$.\n",
    "\n",
    "\n",
    "\n"
   ]
  },
  {
   "cell_type": "markdown",
   "metadata": {},
   "source": [
    "\n",
    "**c)**\n",
    "For which value of $x$ does the potential have a minimum? Find $V_{\\text{min}}$.\n",
    "\n",
    "\n",
    "\n"
   ]
  },
  {
   "cell_type": "markdown",
   "metadata": {},
   "source": [
    "\n",
    "**d)**\n",
    "Sketch the potential $V(x)$, and the $x$-component of the electric field as a function of $x$.\n",
    "\n",
    "\n",
    "\n",
    "\n",
    "<!-- --- end exercise --- -->\n",
    "\n",
    "\n",
    "\n",
    "\n",
    "<!-- --- begin exercise --- -->\n",
    "\n",
    "## Exercise 8: Poisson's equation in one dimension\n",
    "\n",
    "Poisson's equation is"
   ]
  },
  {
   "cell_type": "markdown",
   "metadata": {},
   "source": [
    "<!-- Equation labels as ordinary links -->\n",
    "<div id=\"_auto68\"></div>\n",
    "\n",
    "$$\n",
    "\\begin{equation}\n",
    "\\nabla^2 V = -\\frac{\\rho}{\\epsilon} \\; .\n",
    "\\label{_auto68} \\tag{69}\n",
    "\\end{equation}\n",
    "$$"
   ]
  },
  {
   "cell_type": "markdown",
   "metadata": {},
   "source": [
    "and is valid in this form when the permittivity does not vary over the area we solve the equation.\n",
    "\n",
    "\n",
    "We can solve Poisson's equation for example using finite differences by approximating the second derivative of the potential as:"
   ]
  },
  {
   "cell_type": "markdown",
   "metadata": {},
   "source": [
    "<!-- Equation labels as ordinary links -->\n",
    "<div id=\"_auto69\"></div>\n",
    "\n",
    "$$\n",
    "\\begin{equation}\n",
    "\\frac{\\mathrm{d}^2 V_i}{\\mathrm{d} x^2} \\approx \\frac{V_{i+1}-2V_i + V_{i-1}}{\\Delta x^2}\n",
    "\\label{_auto69} \\tag{70}\n",
    "\\end{equation}\n",
    "$$"
   ]
  },
  {
   "cell_type": "markdown",
   "metadata": {},
   "source": [
    "where $V_i$ is $V(x_i)$, and we evaluate $V$ in discrete points $x_i$. \n",
    "\n",
    "We see from the form of the finite difference approximation that we cannot solve the equation by forward interation, as we do when we integrate the equations of motion using Forward Euler or Euler-Cromer's method. If we had started on the left side and tried to find $V_{i+1}$ from $V_i$ and $V_{i-1}$, we would not necessarily reached the correct boundary condition on the right hand side. Similarly, if we started on the right hand side, we would not have reached the correct boundary condition on the left hand side.\n",
    "\n",
    "The solution is to use an *implicit* solver. We can do this by posing the complete set of equations as a matrix equation and solving this matrix equation by inverting the matrix."
   ]
  },
  {
   "cell_type": "markdown",
   "metadata": {},
   "source": [
    "$$\n",
    "\\begin{eqnarray}\n",
    "A \\overrightarrow{V} && = \\frac{\\overrightarrow{\\rho}}{\\epsilon} \\\\ \n",
    "\\overrightarrow{V} &=& A^{-1} \\overrightarrow{\\rho}\n",
    "\\end{eqnarray}\n",
    "$$"
   ]
  },
  {
   "cell_type": "markdown",
   "metadata": {},
   "source": [
    "Where $A$ is a matrix and $\\overrightarrow{V}$ and $\\overrightarrow{\\rho}$ are column vectors.\n",
    "\n",
    "\n",
    "**a)**\n",
    "Construct the matrix $A$ so that $A\\overrightarrow{V} = \\frac{1}{\\epsilon}\\overrightarrow{\\rho}$, where $\\overrightarrow{V}$ and $\\overrightarrow{\\rho}$ now are column vectors that contain the values of respectively $V$ and $\\rho$ in discrete points. For now ignore what happens at the boundaries of the region of solution.\n",
    "\n"
   ]
  },
  {
   "cell_type": "markdown",
   "metadata": {},
   "source": [
    "\n"
   ]
  },
  {
   "cell_type": "markdown",
   "metadata": {},
   "source": [
    "\n",
    "We need to make an additional consideration when it comes to the boundary values. When we multiply the matrix with $V$, the resulting boundary values we get for $\\rho$ will not reflect the elements outside the diagonal, as is the case for the elements inside $\\rho$.\n",
    "\n",
    "**b)**\n",
    "Modify the first and the last element in $\\rho$ so that you can choose a specific potential value on the boundary of the region (Dirichlet boundary conditions).\n",
    "\n"
   ]
  },
  {
   "cell_type": "markdown",
   "metadata": {},
   "source": [
    "\n",
    "**c)**\n",
    "Write a program that takes the boundary conditions and the charge distribiotion as inputs, and return the potential. Test the program for the charge distribution from [Exercise 7: Charge distribution between metal plates](#ex:laplace-plates).\n",
    "\n"
   ]
  },
  {
   "cell_type": "markdown",
   "metadata": {},
   "source": [
    "\n",
    "<!-- --- end exercise --- -->\n",
    "\n",
    "\n",
    "\n",
    "\n",
    "<!-- --- begin exercise --- -->\n",
    "\n",
    "## Exercise 9: Poisson's Equation\n",
    "\n",
    "*(By Sigurd Sørlie Rustad)*\n",
    "\n",
    "In this exesrcise we will look at Poisson's Equation.\n",
    "\n",
    "\n",
    "**a)**\n",
    "Using Gauss' Law, derive Poisson's Equation."
   ]
  },
  {
   "cell_type": "markdown",
   "metadata": {},
   "source": [
    "<!-- Equation labels as ordinary links -->\n",
    "<div id=\"_auto73\"></div>\n",
    "\n",
    "$$\n",
    "\\begin{equation}\n",
    "\\nabla^2 V = -\\frac{\\rho _v}{\\epsilon} \\; .\n",
    "\\label{_auto73} \\tag{74}\n",
    "\\end{equation}\n",
    "$$"
   ]
  },
  {
   "cell_type": "markdown",
   "metadata": {},
   "source": [
    "\n",
    "**b)**\n",
    "Consider a sylinder with height $h=1\\text{m}$ and radius $r=1\\text{m}$. The inside of the sylinder is hollow, and the walls are very thin. Use Poisson's Equation to find the electric potential on the walls of the sylinder. The bottom of the sylinder has electric potential $V=10\\rm{V}$, and the top of the sylinder has zero potential. The sylinder is electrically neutral.\n",
    "\n",
    "<!-- --- begin hint in exercise --- -->\n",
    "\n",
    "**Hint.**\n",
    "If you fold the sylinder out you get a square.\n",
    "\n",
    "<!-- --- end hint in exercise --- -->\n",
    "\n",
    "\n",
    "\n"
   ]
  },
  {
   "cell_type": "markdown",
   "metadata": {},
   "source": [
    "\n",
    "**c)**\n",
    "Find a difference equation that approximates the solution Poisson's equation, in one dimension.\n",
    "\n",
    "<!-- --- begin hint in exercise --- -->\n",
    "\n",
    "**Hint.**\n",
    "Use the approximation"
   ]
  },
  {
   "cell_type": "markdown",
   "metadata": {},
   "source": [
    "<!-- Equation labels as ordinary links -->\n",
    "<div id=\"_auto77\"></div>\n",
    "\n",
    "$$\n",
    "\\begin{equation}\n",
    "\\frac{\\mathrm{d} V_n}{ \\mathrm{d} x} \\approx \\frac{V_{n+1}-V_n}{\\Delta x}\n",
    "\\label{_auto77} \\tag{78}\n",
    "\\end{equation}\n",
    "$$"
   ]
  },
  {
   "cell_type": "markdown",
   "metadata": {},
   "source": [
    "<!-- --- end hint in exercise --- -->\n",
    "\n"
   ]
  },
  {
   "cell_type": "markdown",
   "metadata": {},
   "source": [
    "\n",
    "**d)**\n",
    "Imagine that we do not know the theoretical solution. We then need to find it numerically. Use the difference equation over to solve Poisson's equation numerically for the cylinder.\n",
    "\n",
    "<!-- --- begin hint in exercise --- -->\n",
    "\n",
    "**Hint 1.**\n",
    "Notice that you only know the top and bottom conditions. You need to test for differen initial conditions until you find a solution that fits.\n",
    "\n",
    "<!-- --- end hint in exercise --- -->\n",
    "\n",
    "<!-- --- begin hint in exercise --- -->\n",
    "\n",
    "**Hint 2.**\n",
    "To test the initial conditions, you need to compare your result (with the tested initial conditions) with the potential at the bottom of the sylinder (that you know).\n",
    "\n",
    "<!-- --- end hint in exercise --- -->\n",
    "\n",
    "<!-- --- begin hint in exercise --- -->\n",
    "\n",
    "**Hint 3.**\n",
    "A good testing range is $V_{n+1} \\in [10\\text{V}, 8\\text{V}]$.\n",
    "\n",
    "<!-- --- end hint in exercise --- -->\n",
    "\n"
   ]
  },
  {
   "cell_type": "markdown",
   "metadata": {},
   "source": [
    "\n",
    "<!-- --- end exercise --- -->\n",
    "\n",
    "\n",
    "\n",
    "\n",
    "<!-- --- begin exercise --- -->\n",
    "\n",
    "## Exercise 10: Potential\n",
    "\n",
    "In this exercise we will address a one-dimensional system with charge density $\\rho(x)$. Assume tha that the electric potential is $V(0)=0$ in the point $x=0$ and $V(L) = V_0$ in the point $x=L$.\n",
    "\n",
    "\n",
    "**a)**\n",
    "Find the electric potential on the interval $0<x<L$ when $\\rho(x) = 0$.\n",
    "\n",
    "\n",
    "\n"
   ]
  },
  {
   "cell_type": "markdown",
   "metadata": {},
   "source": [
    "\n",
    "**b)**\n",
    "Find the electric potential on the interval $0<x<L$ when $\\rho(x) = \\rho_0$, which is a constant.\n",
    "\n",
    "\n",
    "\n"
   ]
  },
  {
   "cell_type": "markdown",
   "metadata": {},
   "source": [
    "\n",
    "<!-- --- end exercise --- -->\n",
    "\n",
    "\n",
    "## Modeling projects\n",
    "\n",
    "\n",
    "\n",
    "<!-- --- begin exercise --- -->\n",
    "\n",
    "## Exercise 11: Dielectric breakdown in periodic geometries\n",
    "\n",
    "You are building a small electrical component that has an irregular surface structure. Three such structures are shown in the figure. You will apply a huge voltage across the gap - between surfaces A and B - and you worry that you may get dielectric breakdown.\n",
    "\n",
    "<!-- dom:FIGURE:[fig-laplaceequation/laplace-ex-modelbreakdown-010.png, width=600 frac=1.0] -->\n",
    "<!-- begin figure -->\n",
    "\n",
    "<p></p>\n",
    "<img src=\"fig-laplaceequation/laplace-ex-modelbreakdown-010.png\" width=600>\n",
    "\n",
    "<!-- end figure -->\n",
    "\n",
    "\n",
    "Your plan is to use the program that we have developed to find the potential:"
   ]
  },
  {
   "cell_type": "code",
   "execution_count": 25,
   "metadata": {
    "collapsed": false
   },
   "outputs": [],
   "source": [
    "import numpy as np\n",
    "import numba\n",
    "@numba.jit(cache=True)\n",
    "def solvepoissonperiodic(b,nrep):\n",
    "    \"\"\" b = boundary conditions\n",
    "    nrep = number of iterations\n",
    "    returns potentials \"\"\"\n",
    "    V = np.copy(b)\n",
    "    for i in range(len(V.flat)):\n",
    "        if (np.isnan(b.flat[i])):\n",
    "            V.flat[i] = 0.0\n",
    "    Vnew = np.copy(V)\n",
    "    Lx = b.shape[0]\n",
    "    Ly = b.shape[1]\n",
    "    for n in range(nrep):\n",
    "        for ix in range(Lx):\n",
    "            for iy in range(Ly):\n",
    "                etot = 0.0\n",
    "                pot = 0.0\n",
    "                if (np.isnan(b[ix,iy])):\n",
    "                    if (ix>0):\n",
    "                        etot = etot + 1\n",
    "                        pot = pot + V[ix-1,iy]\n",
    "                    if (ix<Lx-1):\n",
    "                        etot = etot + 1\n",
    "                        pot = pot + V[ix+1,iy]\n",
    "                    iy1 = iy-1\n",
    "                    if (iy1<0):\n",
    "                        iy1 = Ly-1\n",
    "                    etot = etot + 1\n",
    "                    pot = pot + V[ix,iy1]\n",
    "                    iy1 = iy+1\n",
    "                    if (iy1>Ly-1):\n",
    "                        iy1 = 0\n",
    "                    etot = etot + 1\n",
    "                    pot = pot + V[ix,iy1]\n",
    "\t\t    \n",
    "                    Vnew[ix,iy] = pot/etot\n",
    "                else:\n",
    "                    Vnew[ix,iy]=V[ix,iy]\n",
    "        V, Vnew = Vnew, V # Swap pointers to arrays\n",
    "    return V"
   ]
  },
  {
   "cell_type": "markdown",
   "metadata": {},
   "source": [
    "<!--  -->\n",
    "to explore the electric field (the difference in potential between two neighboring points). We expect the dielectric material to break down first where the electric field is the largest.\n",
    "\n",
    "You can specify the structure in the `b`-array and then calculate the electric potential and field. For example, you can specify a cosine-shaped surface in the following way:\n",
    "<!--  -->"
   ]
  },
  {
   "cell_type": "code",
   "execution_count": 26,
   "metadata": {
    "collapsed": false
   },
   "outputs": [],
   "source": [
    "# Make more complicated system\n",
    "L = 200\n",
    "b = np.zeros((L,L),float)\n",
    "b[:] = np.float('nan')\n",
    "b[L-1,:]=-1.0\n",
    "A = 30\n",
    "P = 1.0\n",
    "for iy in range(L):\n",
    "    h = int(5+A - A*np.cos(iy/L*2*np.pi*P))\n",
    "    b[0:h,iy] = 1.0\n",
    "plt.imshow(b)"
   ]
  },
  {
   "cell_type": "markdown",
   "metadata": {},
   "source": [
    "<!--  -->\n",
    "Notice that the $x$ and $y$ axes are interchanged when the system is visualized, so that what is along the horizontal axis is the second index in the arrays.\n",
    "\n",
    "\n",
    "**a)**\n",
    "Study the three suggested structures to see which one would be best for this purpose.\n",
    "\n"
   ]
  },
  {
   "cell_type": "markdown",
   "metadata": {},
   "source": [
    "\n",
    "**b)**\n",
    "Explore how the resolution (`L`) and discreteness of the simulation affects the results. (Remember  to include the lattice spacing $\\Delta x$ when you calculate the electric field correctly: $E_{x,i,j} = (V_{i+1,j} - V_{i,j})/\\Delta x$ ). Can we use this type of modelling to answer this type of question?\n",
    "\n",
    "**c)**\n",
    "Extra challenge: Explore how your results would change if you tilted the lattice by 45 degrees for the sawtooth pattern? Select the angle of the sawtooth pattern to be 45 degrees, so that it aligns with the modeling lattice, and the size of the simulation box appropriately.\n",
    "\n",
    "\n",
    "<!-- --- end exercise --- -->\n",
    "\n",
    "\n",
    "# References\n",
    "\n",
    "1. <div id=\"Ida2015\"></div> **N. Ida**. \n",
    "    *Engineering Electromagnetics*,\n",
    "    Springer,\n",
    "    2015."
   ]
  }
 ],
 "metadata": {},
 "nbformat": 4,
 "nbformat_minor": 2
}