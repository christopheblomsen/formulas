{
 "cells": [
  {
   "cell_type": "markdown",
   "metadata": {},
   "source": [
    "# Induktans uke 11"
   ]
  },
  {
   "cell_type": "markdown",
   "metadata": {},
   "source": [
    "Forelsening: https://uio-ccse.github.io/fys1120/learningmaterial/._week11-path002.html \\\n",
    "Jupyterfil: https://github.com/christopheblomsen/formulas/blob/master/fys1120/main_inductance.ipynb"
   ]
  },
  {
   "cell_type": "markdown",
   "metadata": {},
   "source": [
    "# Kretser del 2 uke 12"
   ]
  },
  {
   "cell_type": "markdown",
   "metadata": {},
   "source": [
    "Forelsening: https://uio-ccse.github.io/fys1120/learningmaterial/._week12-path002.html \\\n",
    "Jupyterfil: https://github.com/christopheblomsen/formulas/blob/master/fys1120/main_circuits2.ipynb"
   ]
  },
  {
   "cell_type": "markdown",
   "metadata": {},
   "source": [
    "# Maxwells likninger uke 13"
   ]
  },
  {
   "cell_type": "markdown",
   "metadata": {},
   "source": [
    "Forelsening: https://uio-ccse.github.io/fys1120/learningmaterial/._week13-path001.html \\\n",
    "Jupyterfil: https://github.com/christopheblomsen/formulas/blob/master/fys1120/main_maxwell.ipynb"
   ]
  }
 ],
 "metadata": {
  "kernelspec": {
   "display_name": "Python 3",
   "language": "python",
   "name": "python3"
  },
  "language_info": {
   "codemirror_mode": {
    "name": "ipython",
    "version": 3
   },
   "file_extension": ".py",
   "mimetype": "text/x-python",
   "name": "python",
   "nbconvert_exporter": "python",
   "pygments_lexer": "ipython3",
   "version": "3.7.6"
  }
 },
 "nbformat": 4,
 "nbformat_minor": 4
}
