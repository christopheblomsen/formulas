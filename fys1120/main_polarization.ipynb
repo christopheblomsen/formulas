{
 "cells": [
  {
   "cell_type": "markdown",
   "metadata": {},
   "source": [
    "<!-- dom:TITLE: Polarization -->\n",
    "# Polarization\n",
    "<!-- dom:AUTHOR: Anders Malthe-Sorenssen at Department of Physics, University of OsloFuture eBook Solutions Ltd. -->\n",
    "<!-- Author: -->  \n",
    "**Anders Malthe-Sorenssen**, Department of Physics, University of OsloFuture eBook Solutions Ltd.\n",
    "\n",
    "Date: **Aug 24, 2020**\n",
    "\n",
    "<!-- Externaldocuments: ../nickname1/main_nickname1, ../nickname2/main_nickname2 -->\n",
    "\n",
    "<!-- Common Mako variables and functions -->\n",
    "\n",
    "\n",
    "\n",
    "\n",
    "\n",
    "\n",
    "\n",
    "\n",
    "\n",
    "So far we have only addressed the electric field in a vacuum. What happens with the electric field inside a material such as water, a ceramic, or a metal? We will start by addressing how the electric field behaves inside an insulator and then later discuss the electric field inside a conductor. Inside an insulator, the charges are bound. An imposed electric field will displace the bound charges small distances, causing many small dipoles to be formed. These dipoles can be described as a distribution of bound charges, which will induce an electric field, which in turn will change the total electric field in the material. We will introduce the polarization vector, $\\vec{P}$ to describe the average effect of the dipoles, the spatial distribution of bound volume charges, $\\rho_{b,v}(\\vec{r})$ and surface charges $\\rho_{b,s}(\\vec{r})$, and the displacement field $\\vec{D}$. We will demonstrate that we can introduce a modified version of Gauss' law for $\\vec{D}$ that only depends on the free and not the bound charges. This provides us with a set of tools to extend our electrostatic theory to dielectric materials.\n",
    "\n",
    "# Dielectrics\n",
    "\n",
    "A dielectric or an insulator is a material with very litte free charges such as (pure) water, a ceramic, plastics, or glass. We discern between two types of dielectric: *polar* and *non-polar* as illustrated in Fig. [fig:polarization-nonpolar-010](#fig:polarization-nonpolar-010). Polar systems consist of many small, permanent dipoles such as water molecules, that align with an external electric field, whereas a non-polar system consist of many small atoms with charge distributions that are displaced by an imposed electric field. What are the effects of these alignments or displacements?\n",
    "\n",
    "## Non-polar dielectrics\n",
    "\n",
    "\n",
    "In a non-polar dielectric without any electric field, the electrons are distributed symmetrically around the positive charges, so that there are no net dipoles. However, if we apply an external electric field, the electron clouds around atoms or molecules tend to be displaced: The negative electron cloud will be displaced in a direction opposite the electric field, whereas the positive nucleus is displaced in the opposite direction. The net result is illustrated in Fig. [fig:polarization-nonpolar-010](#fig:polarization-nonpolar-010). An equilibrium will form between the electric field pulling the electrons and the nucleus apart and the attractive forces between the negative electrons and the positive nucleus drawing them back together. As a result, each atom becomes a small dipole because of a small displacement of the electron cloud around the atom. The stronger the field, the more the electron cloud will be displaced, and the stronger is each dipole. We expect the induced dipole moment $\\vec{p}$ of an individual atom to be proportional to the electric field:"
   ]
  },
  {
   "cell_type": "markdown",
   "metadata": {},
   "source": [
    "$$\n",
    "\\begin{equation}\n",
    "\\vec{p} = \\alpha \\vec{E} \\; ,\n",
    "\\label{}\n",
    "\\end{equation}\n",
    "$$"
   ]
  },
  {
   "cell_type": "markdown",
   "metadata": {},
   "source": [
    "where $\\alpha$ is called the *atomic polarizabiltiy*. The value of $\\alpha$ depends on details in the structure of the atoms or the configuration they are in (in a molecule, a crystal, etc). However, if the electric field is too strong, the atom will be pulled completely apart, ionizing it, such as in a lightning. The free ions and electrons then become a conducting material. (For systems consisting of molecules or crystals, the situation is a bit more complicated as they may polarize more easily in some directions than in order. This may lead to a more complicated relationship between the effective polarization vector $\\vec{p}$ and the electric field described by a polarization tensor.)\n",
    "\n",
    "<!-- dom:FIGURE:[fig-polarization/polarization-nonpolar-010.png, height=400 width=600 frac=0.7] Illustration of the polarization of a non-polar and a polar material. <div id=\"fig:polarization-nonpolar-010\"></div> -->\n",
    "<!-- begin figure -->\n",
    "<div id=\"fig:polarization-nonpolar-010\"></div>\n",
    "\n",
    "<p>Illustration of the polarization of a non-polar and a polar material.</p>\n",
    "<img src=\"fig-polarization/polarization-nonpolar-010.png\" height=400 width=600>\n",
    "\n",
    "<!-- end figure -->\n",
    "\n",
    "\n",
    "## Example: Simple model for atomic polarizability\n",
    "\n",
    "As part of our modeling approach, let us see how we can make a simplified model for atomic polarizability. We model an atom as a nucleus with charge $q$ and the surrounding electronic cloud as a uniform, spherical distribution of charge with radius $a$ and total charge $-q$. When the atom is put in an external electric field $E_0$, the nucleus and the electron cloud are displaced a distance $d$, which we assume is (much) smaller than $a$. We recall, that the electric field at a distance $r$ from the center inside a uniform, spherical charge distribution is $E_r(r) = q r/(4 \\pi \\epsilon_0 a^3)$. In equilibrium, the force at a distance $d$ between the nucleus and the electric cloud must be equal to $E_0$, so that $E_0 = qr/(4 \\pi \\epsilon_0)$, which means that $p = qd = (4 \\pi \\epsilon_0 a^3) E_0 = \\alpha E_0$ so that $\\alpha = 4 \\pi \\epsilon_0 a^3$. It turns out that this model is within a factor four for many simple atoms.\n",
    "\n",
    "## Polar dielectric\n",
    "\n",
    "In a polar dielectric the electrons are distributed relative to the positive charges so that molecules behave as individual dipoles. An example is water. Each water molecule is a small dipole with a dipole moment $\\vec{p}$ that points from the oxygen atom towards the midpoint between the hydrogen atoms. If a polar dielectric is subject to an external electric field, there will be no net force on the dipoles, but the dipole molecules will tend to orient in the electric field with the positive part of the dipole pointing in the direction of the local field. Without an applied electric field, the dipoles will point in random directions, with no net effect, but with an applied electric field, the dipoles will tend to align with the field. The stronger the field, the stronger will be the alignment and the stronger the net dipoles.\n",
    "\n",
    "Let us address in detail what happens when a molecule such as a water molecule is placed in an electric field $\\vec{E}$. We model the water as a two-charge dipole with a charge $q$ in a position $\\vec{d}/2$ relative to the center of the atom, in the middle between the hydrogen atoms, and a charge $-q$ at the oxygen atom at a position $-\\vec{d}/2$. If the field is uniform, the net force from the field is $q \\vec{E} - q \\vec{E} = 0$. However, the torque around the center of the molecule will be"
   ]
  },
  {
   "cell_type": "markdown",
   "metadata": {},
   "source": [
    "<!-- Equation labels as ordinary links -->\n",
    "<div id=\"_auto1\"></div>\n",
    "\n",
    "$$\n",
    "\\begin{equation}\n",
    "\\vec{\\tau} = \\vec{d}/2 \\times q \\vec{E} + (-\\vec{d}/2) \\times -q \\vec{E} = q\\vec{d} \\times \\vec{E} \\; .\n",
    "\\label{_auto1} \\tag{1}\n",
    "\\end{equation}\n",
    "$$"
   ]
  },
  {
   "cell_type": "markdown",
   "metadata": {},
   "source": [
    "We replace $\\vec{p} = q\\vec{d}$ so that"
   ]
  },
  {
   "cell_type": "markdown",
   "metadata": {},
   "source": [
    "<!-- Equation labels as ordinary links -->\n",
    "<div id=\"_auto2\"></div>\n",
    "\n",
    "$$\n",
    "\\begin{equation}\n",
    "\\vec{\\tau} = \\vec{p} \\times \\vec{E} \\; .\n",
    "\\label{_auto2} \\tag{2}\n",
    "\\end{equation}\n",
    "$$"
   ]
  },
  {
   "cell_type": "markdown",
   "metadata": {},
   "source": [
    "We see that this will make the molecule rotate so that the dipole moment will align with the electric field.\n",
    "\n",
    "## Polarization\n",
    "\n",
    " $}\n",
    "\n",
    "The reponse of both a polar and a non-polar dielectric due to an external field is the formation of a net set of dipoles that point more or less in the direction of the electric field. We say that the material becomes *polarized*. We describe the effect by the *polarization* $\\vec{P}$, which is the dipole moment per unit volume. The sum of the dipole moments of all the dipoles (with index $i$) in a small volume element $\\mathrm{d} v$ is then:"
   ]
  },
  {
   "cell_type": "markdown",
   "metadata": {},
   "source": [
    "<!-- Equation labels as ordinary links -->\n",
    "<div id=\"_auto3\"></div>\n",
    "\n",
    "$$\n",
    "\\begin{equation}\n",
    "\\vec{P} \\mathrm{d} v = \\sum_{i \\text{ in } \\mathrm{d} v} \\vec{p}_i = N_v \\frac{1}{N_v}\\sum_{i \\text{ in } \\mathrm{d} v} \\vec{p}_i = N_v \\langle \\vec{p}\\rangle\\; ,\n",
    "\\label{_auto3} \\tag{3}\n",
    "\\end{equation}\n",
    "$$"
   ]
  },
  {
   "cell_type": "markdown",
   "metadata": {},
   "source": [
    "where $N_v$ is the number of dipoles in the element $\\mathrm{d} v$ and $\\langle \\vec{p} \\rangle$ is the average dipole moment in the volume $\\mathrm{d} v$.\n",
    "\n",
    "### The polarization vector depends on total field\n",
    "\n",
    "The mechanisms we have described for polarization implies that the polarization vector in a point $\\vec{r}$ will depend on the electric field in this point. We write this the following way: $\\vec{P}(\\vec{E})$. The polarization vector is a function of the (local) electric field. Notice that the polarization is a function of the *total* electric field. Notice that it is the total field - including the field set up by all the dipoles in the material. This may initially seem a bit counterintuitive. The polarization is a function of the total electric field, but the polarization will also affect the electric field, which again will affect the polarization. We often call such relationships, or equations, self-consistent solutions. Mathematically, it is not difficult to set up such as relation, and we also understand the physics of this process: The polarization is due to the electric field that affects the atoms/molecules, and this electric field must be the total electric field, including the field set up by the displacement of the molecules themselves.\n",
    "\n",
    "\n",
    "### Linear dielectrics\n",
    "\n",
    "We saw that for a single atom the polarization was aligned with the electric field $\\vec{p} = \\alpha \\vec{E}$ and for polar dielectrics we also expect the effective polarization to be aligned with the electric field. Materials that have this property also on the macroscopic scale are called *linear dielectrics*. We characterize a linear dielectric by the electric susceptibility $\\chi_e$:"
   ]
  },
  {
   "cell_type": "markdown",
   "metadata": {},
   "source": [
    "<!-- Equation labels as ordinary links -->\n",
    "<div id=\"_auto4\"></div>\n",
    "\n",
    "$$\n",
    "\\begin{equation}\n",
    "\\boxed{\\vec{P} = \\chi_e \\epsilon_0 \\vec{E} } \\,\n",
    "\\label{_auto4} \\tag{4}\n",
    "\\end{equation}\n",
    "$$"
   ]
  },
  {
   "cell_type": "markdown",
   "metadata": {},
   "source": [
    "The electric susceptibility is unitless. In vacuum $\\chi_e = 0$ and in air $\\chi_e \\simeq 0$. Many materials are linear dielectrics, but not all. We previously mentioned that some molecules may have an anisotropic displacement of the charges when in an electric field, and similar effects may occur in a crystal, where the electron cloud may be more easily displaced in some directions. These effects may imply that the dielectric is anisotropic or non-linear. Most materials we will discuss in this text are linear dilectrics.\n",
    "\n",
    "\n",
    "\n",
    "# Bound charges\n",
    "\n",
    "\n",
    "We have now argued that the effect of an applied field on a dielectric material is a reorientation of permanent dipoles (for a polar dielectric), or a local displacement of the electron cloud to create dipoles (non-polar dielectric). While there are no free charges in the material, the small induced or aligned dipoles will lead to a distribution of charges in the dielectric material. We call these charges *bound charges*, because they are bound to the atoms or molecules and are not free to move around. Our plan is to relate the polarization $\\vec{P}$ to a density of bound volume and surface charges. We can then use this distribution of charges to calculate the electric field due to the bound charges, that is, the electric field due to the polarization.\n",
    "\n",
    "Fig. [fig:polarization-boundcharge-010](#fig:polarization-boundcharge-010) illustrates the alignment of dipoles that make up the polarization $\\vec{P}$ inside a dielectric material. There are no net charges inside the volume, only the bound charges. Each small dipole in itself does not contribute with any net charge --- it has a positive and a negative end, with equal and opposite charges. However, if we look at a part of the system, such as the part inside the volume in Fig. [fig:polarization-boundcharge-010](#fig:polarization-boundcharge-010)a, then the bounding surface intersects some of the dipoles so that one side of the dipole is inside the volume and one side is outside the volume. This will lead to sets of net charges on the inside (and outside) of the surface. \n",
    "\n",
    "<!-- dom:FIGURE:[fig-polarization/polarization-boundcharge-010.png, height=400 width=600 frac=1.0] Illustration of the bound charges inside a volume $v$ (a) and a small volume element $dv$ (b,c). <div id=\"fig:polarization-boundcharge-010\"></div> -->\n",
    "<!-- begin figure -->\n",
    "<div id=\"fig:polarization-boundcharge-010\"></div>\n",
    "\n",
    "<p>Illustration of the bound charges inside a volume $v$ (a) and a small volume element $dv$ (b,c).</p>\n",
    "<img src=\"fig-polarization/polarization-boundcharge-010.png\" height=400 width=600>\n",
    "\n",
    "<!-- end figure -->\n",
    "\n",
    "\n",
    "### Bound charge within a volume\n",
    "\n",
    "How much net bound charge is within the volume near the surface? We look at a small surface element $d \\vec{S}$ with surface normal $\\hat{\\vec{n}}$ as illustrated in Fig. [fig:polarization-boundcharge-010](#fig:polarization-boundcharge-010)c. In this point, the polarization vector is $\\vec{P}$. We assume that the polarization is due to small dipoles with dipole moment $\\vec{p} = Q\\vec{d}$. We see that only dipoles that cross the surface contribute to the bound charge within the volume. Dipoles that are completely within the volume do not contribute to the net charge inside the volume since both the negative and the positive charges in the dipole are inside the volume and the *net* contribution is therefore zero. However, dipoles that cross the surface contribute to the net charge because only one part of the dipole is inside the volume. We see that all dipoles that are within a range $d \\cos \\theta = \\vec{d} \\cdot \\hat{\\vec{n}}$ cross the surface and hence contribute to the net bound charge inside the volume. In the figure, each dipole contributes with a charge $-Q$ to the bound charge. If $N_v$ is the number of dipoles per unit volume, then the number of dipoles in a volume $\\mathrm{d} v = d \\cos \\theta \\mathrm{d} S$ is $N_v \\mathrm{d} v$. We can rewrite this as"
   ]
  },
  {
   "cell_type": "markdown",
   "metadata": {},
   "source": [
    "<!-- Equation labels as ordinary links -->\n",
    "<div id=\"_auto5\"></div>\n",
    "\n",
    "$$\n",
    "\\begin{equation}\n",
    "N_v \\mathrm{d} v = N_v d \\cos \\theta \\mathrm{d} S = N_v \\vec{d} \\cdot \\hat{\\vec{n}} \\mathrm{d} S = N_v \\vec{d} \\cdot \\mathrm{d} \\vec{S} \\; ,\n",
    "\\label{_auto5} \\tag{5}\n",
    "\\end{equation}\n",
    "$$"
   ]
  },
  {
   "cell_type": "markdown",
   "metadata": {},
   "source": [
    "The contributions from these dipoles to the bound charge $\\mathrm{d} Q_b$ in the volume $\\mathrm{d} v$ is then"
   ]
  },
  {
   "cell_type": "markdown",
   "metadata": {},
   "source": [
    "$$\n",
    "\\begin{eqnarray}\n",
    "\\mathrm{d} Q_b &=& (-Q) N_v \\mathrm{d} v = - Q N_v \\vec{d} \\cdot \\mathrm{d} \\vec{S} = -N_v (Q \\vec{d}) \\cdot \\mathrm{d} \\vec{S} \\\\ \n",
    "&=& - N_v \\vec{p} \\cdot \\mathrm{d} \\vec{S} = - \\vec{P} \\cdot \\mathrm{d} \\vec{S} \\; ,\n",
    "\\end{eqnarray}\n",
    "where we have used that $p = Q\\vec{d}$ and that $N_v \\mathrm{d} v \\vec{p} = \\vec{P} \\mathrm{d} v$ and therefore that $N \\vec{p} = \\vec{P}$.\n",
    "$$"
   ]
  },
  {
   "cell_type": "markdown",
   "metadata": {},
   "source": [
    "In order to find the net bound charge from the whole surface, we integral over the surface:"
   ]
  },
  {
   "cell_type": "markdown",
   "metadata": {},
   "source": [
    "<!-- Equation labels as ordinary links -->\n",
    "<div id=\"eq:polarization-bound-010\"></div>\n",
    "\n",
    "$$\n",
    "\\begin{equation}\n",
    "\\boxed{ Q_b = -\\oint_S \\vec{P} \\cdot \\mathrm{d} \\vec{S} } \\; .\n",
    "\\label{eq:polarization-bound-010} \\tag{6}\n",
    "\\end{equation}\n",
    "$$"
   ]
  },
  {
   "cell_type": "markdown",
   "metadata": {},
   "source": [
    "We call this the *bound charge* because this charge is bound to the material. It is not free to move. And it is a charge that appears due to the application of an external electric field. Without an electric field, there will be no bound charge.\n",
    "\n",
    "### Bound charge density\n",
    "\n",
    "In ([6](#eq:polarization-bound-010)) we found the total bound charge $Q_b$ in a volume $v$ enclosed by the surface $S$. We can rewrite this in terms of the volume charge density of the bound charge $\\rho_{v,b}$:"
   ]
  },
  {
   "cell_type": "markdown",
   "metadata": {},
   "source": [
    "<!-- Equation labels as ordinary links -->\n",
    "<div id=\"_auto6\"></div>\n",
    "\n",
    "$$\n",
    "\\begin{equation}\n",
    "Q_b = - \\int_S \\vec{P} \\cdot \\mathrm{d} \\vec{S} = \\int_v \\rho_{v,b} \\mathrm{d} v \\; .\n",
    "\\label{_auto6} \\tag{7}\n",
    "\\end{equation}\n",
    "$$"
   ]
  },
  {
   "cell_type": "markdown",
   "metadata": {},
   "source": [
    "We can apply the divergence theorem to this surface integral, getting"
   ]
  },
  {
   "cell_type": "markdown",
   "metadata": {},
   "source": [
    "<!-- Equation labels as ordinary links -->\n",
    "<div id=\"_auto7\"></div>\n",
    "\n",
    "$$\n",
    "\\begin{equation}\n",
    "Q_b = -\\int_v \\nabla \\cdot \\vec{P}\\rho_{v,b} \\mathrm{d} v = \\int_v \\rho_{v,b} \\mathrm{d} v \\; .\n",
    "\\label{_auto7} \\tag{8}\n",
    "\\end{equation}\n",
    "$$"
   ]
  },
  {
   "cell_type": "markdown",
   "metadata": {},
   "source": [
    "This is valid for any surface $S$ enclosing a volume $v$, and therefore the arguments of the integrals must also be equal:"
   ]
  },
  {
   "cell_type": "markdown",
   "metadata": {},
   "source": [
    "<!-- Equation labels as ordinary links -->\n",
    "<div id=\"_auto8\"></div>\n",
    "\n",
    "$$\n",
    "\\begin{equation}\n",
    "- \\nabla \\cdot \\vec{P} = \\rho_{v,b} \\; .\n",
    "\\label{_auto8} \\tag{9}\n",
    "\\end{equation}\n",
    "$$"
   ]
  },
  {
   "cell_type": "markdown",
   "metadata": {},
   "source": [
    "This implies that in a region where the polarization $\\vec{P}$ is uniform, the divergence is zero, and hence the volume density of bound charges is zero, $\\rho_{v,b} = 0$.\n",
    "\n",
    "## Surface charge density\n",
    "\n",
    "What is the surface charge density on the interface of a dielectric, that is, on the boundary between a dielectric and vacuum? We look at a small volume $\\Delta v$ of height $\\Delta h$ and area $\\Delta S$ as illustrated in Fig. [fig:polarization-surfacecharge-010](#fig:polarization-surfacecharge-010). We assume that there is a surface charge density of bound charge, $\\rho_{s,b}$, on the interface surface so that the bound charge inside the volume $\\Delta v$ is $\\Delta Q_b = \\rho_{s,b} \\Delta S$. From ([6](#eq:polarization-bound-010)) we know that the bound charge inside the volume is also given as the integral of $\\vec{P}$ over the enclosing surface $S$:"
   ]
  },
  {
   "cell_type": "markdown",
   "metadata": {},
   "source": [
    "<!-- Equation labels as ordinary links -->\n",
    "<div id=\"_auto9\"></div>\n",
    "\n",
    "$$\n",
    "\\begin{equation}\n",
    "\\Delta Q_b = \\rho_{s,b} \\Delta S =  - \\oint_S \\vec{P} \\cdot \\mathrm{d} \\, \\vec{S} \n",
    "\\label{_auto9} \\tag{10}\n",
    "\\end{equation}\n",
    "$$"
   ]
  },
  {
   "cell_type": "markdown",
   "metadata": {},
   "source": [
    "As $\\Delta h \\rightarrow 0$ the contributions to the integral from the side walls of the cylinder goes to zero. In vacuum, there is no dielectric, and the polarization vector $\\vec{P}$ is zero. We are therefore left with the contribution to the integral from the surface inside the dielectic. This surface points into the dielectric away from the interface, thus the surface element is $\\Delta \\vec{S} = - \\Delta S \\hat{\\vec{n}}$. The integral is therefore approximately:"
   ]
  },
  {
   "cell_type": "markdown",
   "metadata": {},
   "source": [
    "<!-- Equation labels as ordinary links -->\n",
    "<div id=\"_auto10\"></div>\n",
    "\n",
    "$$\n",
    "\\begin{equation}\n",
    "\\rho_{s,b} \\Delta S = - \\oint_S \\vec{P} \\cdot \\mathrm{d} \\, \\vec{S} = - \\vec{P} \\cdot \\Delta \\vec{S} = \\vec{P} \\cdot \\hat{\\vec{n}} \\Delta S\n",
    "\\label{_auto10} \\tag{11}\n",
    "\\end{equation}\n",
    "$$"
   ]
  },
  {
   "cell_type": "markdown",
   "metadata": {},
   "source": [
    "and therefore we have found that the surface charge density of bound charge is"
   ]
  },
  {
   "cell_type": "markdown",
   "metadata": {},
   "source": [
    "<!-- Equation labels as ordinary links -->\n",
    "<div id=\"_auto11\"></div>\n",
    "\n",
    "$$\n",
    "\\begin{equation}\n",
    "\\boxed{ \\rho_{s,b} = \\vec{P} \\cdot \\mathbf{\\hat{n}} }\n",
    "\\label{_auto11} \\tag{12}\n",
    "\\end{equation}\n",
    "$$"
   ]
  },
  {
   "cell_type": "markdown",
   "metadata": {},
   "source": [
    "<!-- dom:FIGURE:[fig-polarization/polarization-surfacecharge-010.png, width=600 frac=0.75] Illustration of the bound charges inside a volume $v$ (a) and a small volume element $dv$ (b,c). <div id=\"fig:polarization-surfacecharge-010\"></div> -->\n",
    "<!-- begin figure -->\n",
    "<div id=\"fig:polarization-surfacecharge-010\"></div>\n",
    "\n",
    "<p>Illustration of the bound charges inside a volume $v$ (a) and a small volume element $dv$ (b,c).</p>\n",
    "<img src=\"fig-polarization/polarization-surfacecharge-010.png\" width=600>\n",
    "\n",
    "<!-- end figure -->\n",
    "\n",
    "\n",
    "\n",
    "<!-- ----------------- -->\n",
    "<!-- Physical picture of bound charges -->\n",
    "<!-- one dimensional strip of dipoles. One plus charge left at one end and one minus at the other. -->\n",
    "<!-- Similar to taking one electric from one end to the other - although this is not what happened. -->\n",
    "\n",
    "<!-- Griffith pg 176-178 -->\n",
    "\n",
    "# Finding the electric field from polarization\n",
    "\n",
    "We have now seen than when dielectric materials are subject to electric fields, they will become polarized with a polarization $\\vec{P}$. If we know the polarization, we can use this to find the density of bound charges. The volume density of bound charge, $\\rho_{v,b} = - \\nabla \\cdot \\vec{P}$, and the surface density of bound charge at an interface between the dielectric and vacuum (or air) is $\\rho_{s,b} = \\vec{P} \\cdot \\mathbf{\\hat{n}}$, where $\\mathbf{\\hat{n}}$ is the surface normal pointing from the dielectric into to vacuum/air. We can then calculate the electric field $\\vec{E}$ and the electric potential $V$ from the charge densities by integrating Coulomb's law on the appropriate form as we have learned to do previously.\n",
    "\n",
    "## Example: Infinite polarized slab\n",
    "\n",
    "*An infinte dielectric slab of thickness $d$ in has a uniform polarization $\\vec{P}$ in the direction normal to the slab surface. Find the bound surface charge densities and the electric field in the slab.*\n",
    "\n",
    "Fig. [fig:polarization-infiniteslab-010](#fig:polarization-infiniteslab-010)a illustrates the geometry of the system. We choose the $x$-direction along $\\vec{P}$, so that $\\vec{P} = P \\mathbf{\\hat{x}}$. Because the polarization is uniform inside the slab, we know that $\\rho_{v,b} = \\nabla \\cdot \\vec{P} = 0$ inside the slab. However, there may still be a surface charge density. For surface $S_1$, the surface normal is $\\mathbf{\\hat{n}}_1 = \\mathbf{\\hat{x}}$. We find the surface charge density from $\\rho_{s,b} = \\vec{P} \\cdot \\mathbf{\\hat{n}}_1 = P$. Similarly, for surface $S_2$ we have $\\mathbf{\\hat{n}}_2 = -\\mathbf{\\hat{x}}$ and $\\vec{P} \\cdot \\mathbf{\\hat{n}}_2 = P \\mathbf{\\hat{x}} \\cdot -\\mathbf{\\hat{x}} = -P = - \\rho_{s,b}$.\n",
    "\n",
    "We can then use the surface charge densities to find the electric field. For a surface charge density $\\rho_s$ on an infinite surface, we recall that the electric field only has a component normal to the surface, $\\vec{E} = E_x(x) \\mathbf{\\hat{x}}$, and that the field is mirror symmetric around the surface: $E_x(x) = -E_x(-x)$. We find the electric field from Gauss' law on a cylindrical Gauss ==surface as illustrated in Fig. [fig:polarization-infiniteslab-010](#fig:polarization-infiniteslab-010)b. Only the cylinder end surfaces $\\Delta S$ contribute to the flux $\\Phi = 2 E_x \\Delta S = \\rho_s \\Delta_S/\\epsilon_0$ and therefore $E_x = \\rho_s/(2 \\epsilon_0)$.\n",
    "\n",
    "We find the electric field from the superposition of the field from the two bound surface charge densities $\\rho_{s,b}$ and $-\\rho_{s,b}$. We find that for $x>d/2$, the net field is $E_x = \\rho_s/(2 \\epsilon_0) - \\rho_s/(2 \\epsilon_0) = 0$. For $-d/2 < x < d/2$, the net field is $E_x = - \\rho_s/(2 \\epsilon_0) - \\rho_s/(2 \\epsilon_0) = - \\rho_s/\\epsilon_0 = - P/\\epsilon_0$. For $x<-d/2$, the two contributions cancel, $E_x = -\\rho_s/(2 \\epsilon_0) + \\rho_s/(2 \\epsilon_0) = 0$. The electric field (from the polarization $\\vec{P}$) is therefore $\\vec{E} = -P \\mathbf{\\hat{x}}$ inside the slab. \n",
    "\n",
    "<!-- dom:FIGURE:[fig-polarization/polarization-infiniteslab-010.png, width=600 frac=0.85] Illustration of an infinite dielectric slab of thickness $d$ with a uniform polarization $\\vec{P}$.  <div id=\"fig:polarization-infiniteslab-010\"></div> -->\n",
    "<!-- begin figure -->\n",
    "<div id=\"fig:polarization-infiniteslab-010\"></div>\n",
    "\n",
    "<p>Illustration of an infinite dielectric slab of thickness $d$ with a uniform polarization $\\vec{P}$.</p>\n",
    "<img src=\"fig-polarization/polarization-infiniteslab-010.png\" width=600>\n",
    "\n",
    "<!-- end figure -->\n",
    "\n",
    "\n",
    "<!--  -->\n",
    "<!-- Possible example: Uniformly polarized dielectric sphere - Notaros -->\n",
    "<!--  -->\n",
    "\n",
    "\n",
    "<!--  -->\n",
    "<!-- Possible numerical example: Given P, find rho, from rho find E -->\n",
    "<!--  -->\n",
    "\n",
    "\n",
    "\n",
    "# Generalized Gauss' law\n",
    "\n",
    "We have now seen that the polarization $\\vec{P}$ depends on the electric field, where for linear dielectric media $\\vec{P} = \\chi_e \\epsilon_0 \\vec{E}$, and that we can find the bound charges from the polarization. How can we put all of this in a common framework? We can do this be rewriting Gauss law to include the bound charges due to polarization in addition to the free charges, and then use the same methods we developed previously to find the electric field.\n",
    "\n",
    "Gauss law states that"
   ]
  },
  {
   "cell_type": "markdown",
   "metadata": {},
   "source": [
    "<!-- Equation labels as ordinary links -->\n",
    "<div id=\"_auto12\"></div>\n",
    "\n",
    "$$\n",
    "\\begin{equation}\n",
    "\\oint_S \\vec{E} \\cdot \\mathrm{d} \\vec{S} = \\frac{Q_{\\text{in}}}{\\epsilon_0} =\n",
    "\\frac{Q_f + Q_b}{\\epsilon_0}\\; .\n",
    "\\label{_auto12} \\tag{13}\n",
    "\\end{equation}\n",
    "$$"
   ]
  },
  {
   "cell_type": "markdown",
   "metadata": {},
   "source": [
    "where $Q_{\\text{in}}$ is the total charge inside the volume, which is the sum of the free charges and the bound charges. What are the free charges? We use the word *free charge* to specify the charges we discussed in previous chapter and contrast these charges from the *bound* charges that are due to polarization of a dielectric material. We would like to have a version of Gauss law that only includes the free charges, which are the ones that we know where are without solving an equation for the polarization. We rewrite Gauss' law by replacing the bound charges $Q_b$ with the integral over the polarization:"
   ]
  },
  {
   "cell_type": "markdown",
   "metadata": {},
   "source": [
    "<!-- Equation labels as ordinary links -->\n",
    "<div id=\"_auto13\"></div>\n",
    "\n",
    "$$\n",
    "\\begin{equation}\n",
    "Q_b = - \\oint_S \\vec{P} \\cdot \\mathrm{d} \\vec{S} \\; .\n",
    "\\label{_auto13} \\tag{14}\n",
    "\\end{equation}\n",
    "$$"
   ]
  },
  {
   "cell_type": "markdown",
   "metadata": {},
   "source": [
    "getting"
   ]
  },
  {
   "cell_type": "markdown",
   "metadata": {},
   "source": [
    "<!-- Equation labels as ordinary links -->\n",
    "<div id=\"_auto14\"></div>\n",
    "\n",
    "$$\n",
    "\\begin{equation}\n",
    "\\epsilon_0 \\oint_S \\vec{E} \\cdot \\mathrm{d} \\vec{S} = Q_f - \\oint_S \\vec{P} \\cdot d \\vec{S} \\; .\n",
    "\\label{_auto14} \\tag{15}\n",
    "\\end{equation}\n",
    "$$"
   ]
  },
  {
   "cell_type": "markdown",
   "metadata": {},
   "source": [
    "We rewrite so that only the free charge is on the right-hand side:"
   ]
  },
  {
   "cell_type": "markdown",
   "metadata": {},
   "source": [
    "<!-- Equation labels as ordinary links -->\n",
    "<div id=\"_auto15\"></div>\n",
    "\n",
    "$$\n",
    "\\begin{equation}\n",
    "\\oint_S \\left( \\epsilon_0 \\vec{E} + \\vec{P} \\right) \\cdot d \\vec{S} = Q_f \\; .\n",
    "\\label{_auto15} \\tag{16}\n",
    "\\end{equation}\n",
    "$$"
   ]
  },
  {
   "cell_type": "markdown",
   "metadata": {},
   "source": [
    "$} $-field}\n",
    "\n",
    "### Displacement field\n",
    "\n",
    "We therefore introduce a new quantity, the *displacement field* or simply the $\\vec{D}$-field:"
   ]
  },
  {
   "cell_type": "markdown",
   "metadata": {},
   "source": [
    "<!-- Equation labels as ordinary links -->\n",
    "<div id=\"_auto16\"></div>\n",
    "\n",
    "$$\n",
    "\\begin{equation}\n",
    "\\boxed{\\vec{D} = \\epsilon_0 \\vec{E} + \\vec{P} \\; . }\n",
    "\\label{_auto16} \\tag{17}\n",
    "\\end{equation}\n",
    "$$"
   ]
  },
  {
   "cell_type": "markdown",
   "metadata": {},
   "source": [
    "Gauss' law in a dielectric material then becomes:"
   ]
  },
  {
   "cell_type": "markdown",
   "metadata": {},
   "source": [
    "<!-- Equation labels as ordinary links -->\n",
    "<div id=\"_auto17\"></div>\n",
    "\n",
    "$$\n",
    "\\begin{equation}\n",
    "\\boxed{ \\oint_S \\vec{D} \\cdot \\mathrm{d} \\vec{S} = Q_{\\text{\\text{free in }} S} \\; .}\n",
    "\\label{_auto17} \\tag{18}\n",
    "\\end{equation}\n",
    "$$"
   ]
  },
  {
   "cell_type": "markdown",
   "metadata": {},
   "source": [
    "### Linearly polarizable media\n",
    "\n",
    "For linearly polarizable media $\\vec{P} = \\epsilon_0 \\chi_e \\vec{E}$. For such a medium we get"
   ]
  },
  {
   "cell_type": "markdown",
   "metadata": {},
   "source": [
    "<!-- Equation labels as ordinary links -->\n",
    "<div id=\"_auto18\"></div>\n",
    "\n",
    "$$\n",
    "\\begin{equation}\n",
    "\\vec{D} = \\epsilon_0 \\vec{E} + \\vec{P} = \\epsilon_0 \\vec{E} + \\epsilon_0 \\chi_e \\vec{E} = \\epsilon_0 \\left( 1 + \\chi_e \\right) \\vec{E} = \\epsilon_r \\epsilon_0 \\vec{E} = \\epsilon \\vec{E} \\; ,\n",
    "\\label{_auto18} \\tag{19}\n",
    "\\end{equation}\n",
    "$$"
   ]
  },
  {
   "cell_type": "markdown",
   "metadata": {},
   "source": [
    "where $\\epsilon_r = (1 + \\chi_e)$ is called the *relative permittivity* and $\\epsilon = \\epsilon_r \\epsilon_0$ is called the *absolute permittivity* or simply the permittivity.\n",
    "\n",
    "In general, a material is *linearly polarizable* if the relation between $\\vec{P}$ and $\\vec{E}$ is linear. If the material is also *isotropic*, the relation does not depend on the direction $\\vec{E}$ and $\\chi_e$ and $\\epsilon_r$ are scalars. If $\\chi_e$ does not depend on the position in space we say that the medium is *homogeneous*.\n",
    "\n",
    "\n",
    "### Effect of dielectric on the electric field\n",
    "\n",
    "A distribution of free charges set up an electric field $\\vec{E}$ in vacuum. If we replace the vacuum with a dieletric material with relative permittivity $\\epsilon_r$, what happens to the electric field inside the dielectric? We notice that $\\vec{D}$ only depends on the free charges. The $\\vec{D}$-field is therefore the same in both situations. However, the electric field will be $\\vec{E} = \\vec{D}/(\\epsilon_r \\epsilon_0)$ in the dielectric. This is a factor $1/\\epsilon_r$ smaller than in vacuum.\n",
    "\n",
    "### Typical values of $\\epsilon_r$\n",
    "\n",
    "Typical examples of linear, isotropic media are water, air, gases, and glass. (Crystals are often anisotropic). The relative permittivity of water is 81. Electric fields are therefore reduced by a factor 81 in water compared to in vacuum. You can find the relative permittivity of many materials in physical tables.\n",
    "\n",
    "\n",
    "<table border=\"1\">\n",
    "<thead>\n",
    "<tr><th align=\"center\">Material</th> <th align=\"center\">$\\epsilon_r$</th> <th align=\"center\"> Material</th> <th align=\"center\">$\\epsilon_r$</th> </tr>\n",
    "</thead>\n",
    "<tbody>\n",
    "<tr><td align=\"center\">   Vaccum      </td> <td align=\"center\">   1               </td> <td align=\"center\">   Quartz       </td> <td align=\"center\">   5               </td> </tr>\n",
    "<tr><td align=\"center\">   Air         </td> <td align=\"center\">   1.0005          </td> <td align=\"center\">   Diamond      </td> <td align=\"center\">   5-6             </td> </tr>\n",
    "<tr><td align=\"center\">   Paper       </td> <td align=\"center\">   1.3-3           </td> <td align=\"center\">   Wet soil     </td> <td align=\"center\">   5-15            </td> </tr>\n",
    "<tr><td align=\"center\">   Wood        </td> <td align=\"center\">   2-5             </td> <td align=\"center\">   Mica         </td> <td align=\"center\">   5.4             </td> </tr>\n",
    "<tr><td align=\"center\">   Dry soil    </td> <td align=\"center\">   2-6             </td> <td align=\"center\">   Porcelain    </td> <td align=\"center\">   6               </td> </tr>\n",
    "<tr><td align=\"center\">   Oil         </td> <td align=\"center\">   2.3             </td> <td align=\"center\">   Glycerin     </td> <td align=\"center\">   50              </td> </tr>\n",
    "<tr><td align=\"center\">   Rubber      </td> <td align=\"center\">   2.4-4           </td> <td align=\"center\">   Water        </td> <td align=\"center\">   81              </td> </tr>\n",
    "<tr><td align=\"center\">   Glass       </td> <td align=\"center\">   4-10            </td> <td align=\"center\">   BaTiO$_3$    </td> <td align=\"center\">   1200            </td> </tr>\n",
    "</tbody>\n",
    "</table>\n",
    "<!-- Data from Notaros -->\n",
    "\n",
    "## Gauss' law on differential form\n",
    "\n",
    "Gauss' law can be rewritten on differential form using the divergence theorem:"
   ]
  },
  {
   "cell_type": "markdown",
   "metadata": {},
   "source": [
    "<!-- Equation labels as ordinary links -->\n",
    "<div id=\"_auto19\"></div>\n",
    "\n",
    "$$\n",
    "\\begin{equation}\n",
    "\\oint_S \\vec{D} \\cdot \\mathrm{d} \\vec{S} = \\int_v \\nabla \\cdot \\vec{D} \\mathrm{d} v  = Q_{in} = \\int_v \\rho_{\\text{free}} \\mathrm{d} v\n",
    "\\label{_auto19} \\tag{20}\n",
    "\\end{equation}\n",
    "$$"
   ]
  },
  {
   "cell_type": "markdown",
   "metadata": {},
   "source": [
    "and therefore we get Gauss' law on differential form:"
   ]
  },
  {
   "cell_type": "markdown",
   "metadata": {},
   "source": [
    "<!-- Equation labels as ordinary links -->\n",
    "<div id=\"_auto20\"></div>\n",
    "\n",
    "$$\n",
    "\\begin{equation}\n",
    "\\boxed{\\nabla \\cdot\\vec{D} = \\rho_{\\text{free}} }\n",
    "\\label{_auto20} \\tag{21}\n",
    "\\end{equation}\n",
    "$$"
   ]
  },
  {
   "cell_type": "markdown",
   "metadata": {},
   "source": [
    "It is common just to use $\\rho$ for the free charges.\n",
    "\n",
    "### There is no Coulomb's law for $\\vec{D}$\n",
    "\n",
    "Notice that even if Gauss' law for the displacement field $\\vec{D}$ looks very similar to Gauss law for the electric field --- you simply have to replace the total charge $\\rho$ with the free charges $\\rho_f$. However, it is in general not possible to find the displacement field by integrating the free charge density in space, as we did for the electric field. This is because the diverge alone is not sufficient to determine the field --- you also need to know the curl of the field. For the electric field, the curl is zero, but the curl of the displacement field is not always zero. The curl of the displacement field is"
   ]
  },
  {
   "cell_type": "markdown",
   "metadata": {},
   "source": [
    "<!-- Equation labels as ordinary links -->\n",
    "<div id=\"_auto21\"></div>\n",
    "\n",
    "$$\n",
    "\\begin{equation}\n",
    "\\nabla \\times \\vec{D} = \\epsilon_0 \\left( \\nabla \\times \\vec{E}\\right) + \\left( \\nabla \\times \\vec{P} \\right) = \\nabla \\times \\vec{P} \\; .\n",
    "\\label{_auto21} \\tag{22}\n",
    "\\end{equation}\n",
    "$$"
   ]
  },
  {
   "cell_type": "markdown",
   "metadata": {},
   "source": [
    "and the curl of $\\vec{P}$ is not in general zero. This means that there is in general also no potential for $\\vec{D}$ because $\\nabla \\times \\vec{D}$ is not in general zero.\n",
    "\n",
    "**Method: Using Gauss' law to find the electric field for linear dielectrics.**\n",
    "\n",
    "\n",
    "We should now update our method of applying Gauss' law to the general case with linear dielectric materials:\n",
    "\n",
    " * Find a set of surfaces that enclose a volume such that $\\vec{D} \\cdot \\mathbf{\\hat{n}}$ is constant on each such surface element. (It may be zero on some of the surfaces --- zero is a constant!) For linear dielectrics you may use your physics knowledge of the symmetries of $\\vec{E}$, because $\\vec{D} = \\epsilon \\vec{E}$.\n",
    "\n",
    " * This often requires that you find a simplfied description of the field in a chosen coordinate system, such as $\\vec{D} = D_r(r) \\mathbf{\\hat{r}}$.\n",
    "\n",
    " * Find the flux integral.\n",
    "\n",
    " * Use Gauss' law to find the displacement field as a function of charge and position.\n",
    "\n",
    " * Find the electric field from $\\vec{E} = \\vec{D}/\\epsilon$.\n",
    "\n",
    " * Notice that the surface does not have to enclose all the charges --- it is allowed and indeed often necessary to chose a surface that contains only some of the charges. However, the electric field must be a constant on the surfaces you have chosen.\n",
    "\n",
    "\n",
    "\n",
    "## Dielectric breakdown\n",
    "\n",
    "\n",
    "Materials are dielectric only up to a given field strength. From the models we proposed above, it is clear that if the electric field becomes too large, the electron cloud will be pulled completely away from the positive charges in the nucleus, ionizing the material. This leads to the formation of free charges, and the material becomes an conductor. In many cases this gives a channel of ionized electrons which is often seen as a lightning. For air this happens for fields that are larger than $E \\ge 3 \\cdot 10^6 \\text{V/m}$. This limit is called the *dielectric strength*, $E_c$. We will look at dielectric breakdown in detail later when we address lightning strikes.\n",
    "\n",
    "<table border=\"1\">\n",
    "<thead>\n",
    "<tr><th align=\"center\"> Material</th> <th align=\"center\">$E_{c}$ (MV/m)</th> <th align=\"center\">  Material  </th> <th align=\"center\">$E_c$ (MV/m)</th> </tr>\n",
    "</thead>\n",
    "<tbody>\n",
    "<tr><td align=\"center\">   Air          </td> <td align=\"center\">   3                 </td> <td align=\"center\">   Glass           </td> <td align=\"center\">   30              </td> </tr>\n",
    "<tr><td align=\"center\">   Wood         </td> <td align=\"center\">   10                </td> <td align=\"center\">   Silicon (Si)    </td> <td align=\"center\">   30              </td> </tr>\n",
    "<tr><td align=\"center\">   Porcelain    </td> <td align=\"center\">   11                </td> <td align=\"center\">   Mica            </td> <td align=\"center\">   200             </td> </tr>\n",
    "<tr><td align=\"center\">   Paper        </td> <td align=\"center\">   15                </td> <td align=\"center\">   Fused quartz    </td> <td align=\"center\">   1000            </td> </tr>\n",
    "<tr><td align=\"center\">   Rubber       </td> <td align=\"center\">   25                </td> <td align=\"center\">   Si$_3$N$_4$     </td> <td align=\"center\">   1000            </td> </tr>\n",
    "</tbody>\n",
    "</table>\n",
    "<!-- Data from Notaros -->\n",
    "\n",
    "## Example: Point charge in a dielectric medium\n",
    "*Find the electric field from a point charge $Q$ in the origin in a linear, isotropic dielectric material with permittivity $\\epsilon$.*\n",
    "\n",
    "We apply the same approach as we did for Gauss' law for a single charge. Because $\\vec{D} = \\epsilon \\vec{E}$, we can assume that the $\\vec{D}$-field has the same symmetries as the $\\vec{E}$-field. We use Gauss' law on a sphere with radius $r$, we get that"
   ]
  },
  {
   "cell_type": "markdown",
   "metadata": {},
   "source": [
    "<!-- Equation labels as ordinary links -->\n",
    "<div id=\"_auto22\"></div>\n",
    "\n",
    "$$\n",
    "\\begin{equation}\n",
    "\\oint_S \\vec{D} \\cdot \\mathrm{d} \\vec{S} = D 4 \\pi r^2 = Q \\; ,\n",
    "\\label{_auto22} \\tag{23}\n",
    "\\end{equation}\n",
    "$$"
   ]
  },
  {
   "cell_type": "markdown",
   "metadata": {},
   "source": [
    "which gives that"
   ]
  },
  {
   "cell_type": "markdown",
   "metadata": {},
   "source": [
    "<!-- Equation labels as ordinary links -->\n",
    "<div id=\"_auto23\"></div>\n",
    "\n",
    "$$\n",
    "\\begin{equation}\n",
    "\\vec{E} = \\frac{D}{\\epsilon} = \\frac{Q}{4 \\pi \\epsilon r^2}\\hat{\\vec{r}} \\; .\n",
    "\\label{_auto23} \\tag{24}\n",
    "\\end{equation}\n",
    "$$"
   ]
  },
  {
   "cell_type": "markdown",
   "metadata": {},
   "source": [
    "What if the dielectric medium only stretches out a distance $a$? In that case, the electric field is given with the expression above for $r<a$. When $r>a$ the field is the same as for a point charge in vacuum, that is,"
   ]
  },
  {
   "cell_type": "markdown",
   "metadata": {},
   "source": [
    "<!-- Equation labels as ordinary links -->\n",
    "<div id=\"_auto24\"></div>\n",
    "\n",
    "$$\n",
    "\\begin{equation}\n",
    "\\vec{E} = \\left\\{ \\begin{array}{cc}\n",
    "\\frac{Q}{4 \\pi \\epsilon r^2}\\hat{\\vec{r}} & \\quad r<a \\\\ \n",
    "\\frac{Q}{4 \\pi \\epsilon_o r^2}\\hat{\\vec{r}} & \\quad r>a\n",
    "\\end{array} \\right.\n",
    "\\label{_auto24} \\tag{25}\n",
    "\\end{equation}\n",
    "$$"
   ]
  },
  {
   "cell_type": "markdown",
   "metadata": {},
   "source": [
    "What happens at the boundary between the two regions? We expect that there will be surface charges on the outside of the spherical surface at $r=a$. These charges will reduce the field inside the sphere. \n",
    "\n",
    "## Example: Bound surface charge on a spherical dielectric\n",
    "\n",
    "*What is the bound surface charge density on the outer interface of a spherical dielectric of radius $a$ and dielectric constant $\\epsilon$ with a single charge $q$ at the center?*\n",
    "\n",
    "For $r<a$ the electric field is $\\vec{E} = Q/(4 \\pi \\epsilon r^2) \\mathbf{\\hat{r}} $. We know that that polarization is related to $\\vec{E}$ through $\\epsilon_0 \\vec{E} + \\vec{P} = \\epsilon_0 \\epsilon_r \\vec{E}$, which gives $\\vec{P} = \\epsilon_0(\\epsilon_r -1)\\vec{E}$.\n",
    "We can therefore find the surface charge density when $r\\rightarrow a$ as"
   ]
  },
  {
   "cell_type": "markdown",
   "metadata": {},
   "source": [
    "<!-- Equation labels as ordinary links -->\n",
    "<div id=\"_auto25\"></div>\n",
    "\n",
    "$$\n",
    "\\begin{equation}\n",
    "\\rho_S = \\vec{P} \\cdot \\hat{\\vec{n}} = \\epsilon_0 (\\epsilon_r - 1)E = \\epsilon_0 (\\epsilon_r - 1)\\frac{Q}{4 \\pi \\epsilon_0 \\epsilon_r a^2} = \\frac{(\\epsilon_r - 1)}{\\epsilon_r}\\frac{Q}{4 \\pi a^2} \\;.  \n",
    "\\label{_auto25} \\tag{26}\n",
    "\\end{equation}\n",
    "$$"
   ]
  },
  {
   "cell_type": "markdown",
   "metadata": {},
   "source": [
    "**Method: Find the bound charges in a linear dielectric.**\n",
    "\n",
    "\n",
    "If we have found $\\vec{D}$, we can also find both the electric field $\\vec{E} = \\vec{D}/\\epsilon$ and the polarization $\\vec{P} = (\\epsilon - \\epsilon_0) \\vec{E}$. We can then use this to find the bound volume charge density from $\\rho_{v,b} = - \\nabla \\cdot \\vec{P}$ and the bound surface charge densities from $\\rho_{s,b} = \\vec{P} \\cdot \\mathbf{\\hat{n}}$, where $\\mathbf{\\hat{n}}$ is the normal vector on the interfacial surfaces.\n",
    "\n",
    "\n",
    "\n",
    "## Example: Coaxial cable filled with a dielectric medium\n",
    "\n",
    "*Find the electric field inside and outside a coaxial cable with inner radius $a$ with charge density $\\rho$, and outer radii $b$ and $c$ with charge density $-\\rho$, filled with a dielectric with permittivity $\\epsilon$ in the region between the inner and the outer radius.*\n",
    "\n",
    "The system is illustrated in Fig. [fig:polarization-coaxial-010](#fig:polarization-coaxial-010).\n",
    "\n",
    "<!-- dom:FIGURE:[fig-polarization/polarization-coaxial-010.png, width=600 frac=0.75] Illustration of a coaxial cable. <div id=\"fig:polarization-coaxial-010\"></div> -->\n",
    "<!-- begin figure -->\n",
    "<div id=\"fig:polarization-coaxial-010\"></div>\n",
    "\n",
    "<p>Illustration of a coaxial cable.</p>\n",
    "<img src=\"fig-polarization/polarization-coaxial-010.png\" width=600>\n",
    "\n",
    "<!-- end figure -->\n",
    "\n",
    "\n",
    "We plan to use Gauss' law on integral form. We notice that the systsem has cylindrical symmetry. We use a cylinder surface with radius $r$ and length $L$. We assume that material from $0<r<a$ has permittivity $\\epsilon_0$, that the material from $a<r<b$ has permittivity $\\epsilon$, and that the material from $b<r$ has permittivity $\\epsilon_0$.\n",
    "\n",
    "We assume that the $\\vec{E}$- and $\\vec{D}$-fields only have radial components. The flux through the top and bottom surfaces in a cylinder of length $L$ will therefore be zero, since the field will be normal to the surface normal here. Gauss' law therefore gives"
   ]
  },
  {
   "cell_type": "markdown",
   "metadata": {},
   "source": [
    "$$\n",
    "\\begin{equation}\n",
    "\\oint_S \\vec{D} \\cdot \\mathrm{d} \\vec{S} = 2 \\pi r  L D = Q\n",
    "\\label{}\n",
    "\\end{equation}\n",
    "$$"
   ]
  },
  {
   "cell_type": "markdown",
   "metadata": {},
   "source": [
    "We then study the regions separately:\n",
    "\n",
    "### When $r<a$\n",
    "\n",
    "When $r<a$, the charge is the charge inside the Gauss surface of radius $r$. In this range, the charge density is $\\rho$ so that the charge inside a cylinder of radius $r$ is $Q = \\pi r^2 L \\rho$. We therefore find"
   ]
  },
  {
   "cell_type": "markdown",
   "metadata": {},
   "source": [
    "<!-- Equation labels as ordinary links -->\n",
    "<div id=\"_auto26\"></div>\n",
    "\n",
    "$$\n",
    "\\begin{equation}\n",
    "2 \\pi r L D = \\pi r^2 L \\rho \\, \\Rightarrow \\, D = \\frac{1}{2} \\rho r\n",
    "\\label{_auto26} \\tag{27}\n",
    "\\end{equation}\n",
    "$$"
   ]
  },
  {
   "cell_type": "markdown",
   "metadata": {},
   "source": [
    "We use that $\\vec{E} = \\vec{D}/\\epsilon_0$, giving"
   ]
  },
  {
   "cell_type": "markdown",
   "metadata": {},
   "source": [
    "<!-- Equation labels as ordinary links -->\n",
    "<div id=\"_auto27\"></div>\n",
    "\n",
    "$$\n",
    "\\begin{equation}\n",
    "E = \\frac{1}{2 \\epsilon_0} \\rho r\n",
    "\\label{_auto27} \\tag{28}\n",
    "\\end{equation}\n",
    "$$"
   ]
  },
  {
   "cell_type": "markdown",
   "metadata": {},
   "source": [
    "### When $a<r<b$\n",
    "\n",
    "When $a<r<b$, the charge inside is the charge in the inner cylinder, $Q = \\pi a^2 L \\rho$. We therefore find"
   ]
  },
  {
   "cell_type": "markdown",
   "metadata": {},
   "source": [
    "<!-- Equation labels as ordinary links -->\n",
    "<div id=\"_auto28\"></div>\n",
    "\n",
    "$$\n",
    "\\begin{equation}\n",
    "2 \\pi r L D = \\pi a^2 L \\rho \\, \\Rightarrow \\, D = \\frac{\\rho r}{2 a^2} \\, \\, E = \\frac{\\rho r}{2 \\epsilon a^2} \\; . \n",
    "\\label{_auto28} \\tag{29}\n",
    "\\end{equation}\n",
    "$$"
   ]
  },
  {
   "cell_type": "markdown",
   "metadata": {},
   "source": [
    "### When $b<r<c$\n",
    "\n",
    "When $b<r<c$, the charge inside is the charge in the inner cylinder plus the part of the outer cylinder that is inside the Gauss surface at $r$:"
   ]
  },
  {
   "cell_type": "markdown",
   "metadata": {},
   "source": [
    "<!-- Equation labels as ordinary links -->\n",
    "<div id=\"_auto29\"></div>\n",
    "\n",
    "$$\n",
    "\\begin{equation}\n",
    "Q = \\pi a^2 L \\rho + \\pi (r^2 - b^2) (-\\rho) L \\; .\n",
    "\\label{_auto29} \\tag{30}\n",
    "\\end{equation}\n",
    "$$"
   ]
  },
  {
   "cell_type": "markdown",
   "metadata": {},
   "source": [
    "This gives that for the field:"
   ]
  },
  {
   "cell_type": "markdown",
   "metadata": {},
   "source": [
    "<!-- Equation labels as ordinary links -->\n",
    "<div id=\"_auto30\"></div>\n",
    "\n",
    "$$\n",
    "\\begin{equation}\n",
    "2 \\pi r L D = \\pi a^2 L \\rho - \\pi r^2 \\rho L + \\pi b^2 \\rho L \\, \\Rightarrow \\, D = \\frac{\\pi \\rho}{2r}\\left(a^2 + b^2 - r^2 \\right) \\; .\n",
    "\\label{_auto30} \\tag{31}\n",
    "\\end{equation}\n",
    "$$"
   ]
  },
  {
   "cell_type": "markdown",
   "metadata": {},
   "source": [
    "and similarly for the electric field:"
   ]
  },
  {
   "cell_type": "markdown",
   "metadata": {},
   "source": [
    "<!-- Equation labels as ordinary links -->\n",
    "<div id=\"_auto31\"></div>\n",
    "\n",
    "$$\n",
    "\\begin{equation}\n",
    "E = \\frac{\\pi \\rho}{2 \\epsilon_0 r}\\left(a^2 + b^2 - r^2 \\right)\n",
    "\\label{_auto31} \\tag{32}\n",
    "\\end{equation}\n",
    "$$"
   ]
  },
  {
   "cell_type": "markdown",
   "metadata": {},
   "source": [
    "### When $c<r$\n",
    "\n",
    "When $c<r$ the charge inside is the charge in the inner and the outer cylinder: $Q = \\pi a^2 L \\rho - \\pi (c^2 - b^2) L \\rho$. If this is non-zero, there will be a field outside the cylinder. If the charge densities and thickness is such that the net charge is zero, there will not be any field outside the outer cylinder. The field outside the cylinder will be"
   ]
  },
  {
   "cell_type": "markdown",
   "metadata": {},
   "source": [
    "$$\n",
    "\\begin{equation}\n",
    "D = \\frac{\\rho}{2 r} \\left( a^2 + b^2 - c^2 \\right) \\; , \\; E =  \\frac{\\rho}{2 \\epsilon_0 r} \\left( a^2 + b^2 - c^2 \\right) \\; . \n",
    "\\label{}\n",
    "\\end{equation}\n",
    "$$"
   ]
  },
  {
   "cell_type": "markdown",
   "metadata": {},
   "source": [
    "### What value of $\\epsilon$ to use\n",
    "\n",
    "Notice that the value of $\\epsilon$ that is used for the conversion between $\\vec{D}$ and $\\vec{E}$ is the local value. For a Gauss surface, this means that it is the value *at* the surface, not the value inside the surface.\n",
    "\n",
    "# Boundary conditions for $\\vec{E}$ and $\\vec{D}$\n",
    "\n",
    "What happens on the interface between two (dielectric) media, such as the interface between a plastic and air, or between water and your skin?\n",
    "\n",
    "We know the electric field $\\vec{E}$ and the displacement $\\vec{D}$ on one side of the interface, what is it on the other side? The situation is illustrated in Fig. [fig:polarization-boundaryconditions-010](#fig:polarization-boundaryconditions-010).\n",
    "\n",
    "<!-- dom:FIGURE:[fig-polarization/polarization-boundaryconditions-010.png, width=600 frac=1.0] Illustration of the boundary conditions for the $\\vec{E}$ and $\\vec{D}$ fields. <div id=\"fig:polarization-boundaryconditions-010\"></div> -->\n",
    "<!-- begin figure -->\n",
    "<div id=\"fig:polarization-boundaryconditions-010\"></div>\n",
    "\n",
    "<p>Illustration of the boundary conditions for the $\\vec{E}$ and $\\vec{D}$ fields.</p>\n",
    "<img src=\"fig-polarization/polarization-boundaryconditions-010.png\" width=600>\n",
    "\n",
    "<!-- end figure -->\n",
    "\n",
    "\n",
    "## Tangential boundary condition\n",
    "Strategy: Use that the line integral of $\\vec{E}$ over a closed loop is zero to related the field on one side to the other.\n",
    "\n",
    "We construct an integration loop $C$ with a very small width $\\Delta w$ as illustrated in the figure. Even if there is a surface charge density $\\sigma_s$ on the surface, the integral around a closed loop is zero. This is also valid across an interface."
   ]
  },
  {
   "cell_type": "markdown",
   "metadata": {},
   "source": [
    "<!-- Equation labels as ordinary links -->\n",
    "<div id=\"_auto32\"></div>\n",
    "\n",
    "$$\n",
    "\\begin{equation}\n",
    "\\vec{E}_1 \\cdot d \\vec{l} + \\vec{E}_2 \\cdot (-d \\vec{l}) = 0\n",
    "\\label{_auto32} \\tag{33}\n",
    "\\end{equation}\n",
    "$$"
   ]
  },
  {
   "cell_type": "markdown",
   "metadata": {},
   "source": [
    "Since $d \\vec{l}$ is tangential to the surface, this means that the tangential components are equal:"
   ]
  },
  {
   "cell_type": "markdown",
   "metadata": {},
   "source": [
    "<!-- Equation labels as ordinary links -->\n",
    "<div id=\"_auto33\"></div>\n",
    "\n",
    "$$\n",
    "\\begin{equation}\n",
    "\\boxed{E_{1t} = E_{2t}}\n",
    "\\label{_auto33} \\tag{34}\n",
    "\\end{equation}\n",
    "$$"
   ]
  },
  {
   "cell_type": "markdown",
   "metadata": {},
   "source": [
    "## Normal coundary condition\n",
    "\n",
    "Strategy: Use Gauss' law to relate the normal component of the field on each side of the interface to the charge on the interface.\n",
    "\n",
    "We construct an integration cylinder $S$ of width $\\Delta w$ and area $\\Delta S$. We apply Gauss' law for dielectrics, getting"
   ]
  },
  {
   "cell_type": "markdown",
   "metadata": {},
   "source": [
    "$$\n",
    "\\begin{equation}\n",
    "\\oint_S \\vec{D} \\cdot \\mathrm{d} \\vec{S} = \\vec{D}_1 \\cdot \\hat{n} \\Delta S + \\vec{D}_2 \\cdot (- \\hat{n} ) \\Delta S = q = \\sigma_s \\Delta S \\; ,\n",
    "\\label{}\n",
    "\\end{equation}\n",
    "$$"
   ]
  },
  {
   "cell_type": "markdown",
   "metadata": {},
   "source": [
    "where we have assumed the as $\\Delta w$ becomes small, this contribution is negligible, and that $\\hat{n}$ is a normal vector to the surface. The result is that the normal components of $\\vec{D}$ is related to the surface charge density:"
   ]
  },
  {
   "cell_type": "markdown",
   "metadata": {},
   "source": [
    "<!-- Equation labels as ordinary links -->\n",
    "<div id=\"_auto34\"></div>\n",
    "\n",
    "$$\n",
    "\\begin{equation}\n",
    "\\boxed{D_{1n} - D_{2n} = \\sigma_s} \\; .\n",
    "\\label{_auto34} \\tag{35}\n",
    "\\end{equation}\n",
    "$$"
   ]
  },
  {
   "cell_type": "markdown",
   "metadata": {},
   "source": [
    "### Two dielectric media\n",
    "\n",
    "If both media are dielectric, there are no free surface charges (it is only the free charges that are included in Gauss' law for $\\vec{D}$), and the normal components of $\\vec{D}$ are equal across the surface: $D_{1n} = D_{2n}$. This is the case for a point charge in a dielectric medium. There is no change in $\\vec{D}$ across the boundary, but there is a change in $\\vec{E}$ as we found in the discussion on boundary conditions for $\\vec{P}$ above.\n",
    "\n",
    "## Example: Cavities in a dielectric\n",
    "\n",
    "A linear dielectric has an electric field $\\vec{E} = E_0 \\hat{z}$ and a displacement field $\\vec{D} = \\epsilon \\vec{E}$. The dielectric has (a) a thin cylindrical hole  or (b) a wide, short cylinderical hole directed along the field. What are the fields inside the holes (cavities)?\n",
    "\n",
    "For a long, thin cylinder directed along $\\vec{E}$, boundary conditions on the side of the cylinder states that the tangential fields must be the same on the inside and outside of the cylinder. Because the electric field only has a tangenetial component here, the field inside the cylinder is the same as the field in the dielectric: $\\vec{E}_1 = \\vec{E}$.\n",
    "\n",
    "For a wide, short cylinder directed along $\\vec{E}$, the boundary conditions states that $D_{1n} = D_{2n}$, and therefore that $\\epsilon_0 E_1 = \\epsilon E_0$, and $E_1 = E_0 (\\epsilon/\\epsilon_0)$. If the dielectric is water and the hole is a dilute gas, then the field inside the cylinder is about $1/80$ of the field in the water.\n",
    "\n",
    "# Exercises\n",
    "\n",
    "## Test yourself\n",
    "\n",
    "\n",
    "\n",
    "<!-- --- begin exercise --- -->\n",
    "\n",
    "## Exercise 1: Torque on dipole\n",
    "\n",
    "A dipole with two charges $-Q$ and $Q$ a distance $d$ apart is in a field $\\vec{E} = E_0 \\mathbf{\\hat{y}}$.\n",
    "\n",
    "\n",
    "**a)**\n",
    "What orientations of the dipole gives zero torque around its center?\n",
    "\n",
    "\n",
    "\n",
    "\n",
    "\n",
    "**b)**\n",
    "What orientations give the maximum torque?\n",
    "\n",
    "\n",
    "\n",
    "\n",
    "\n",
    "**c)**\n",
    "Does it matter where the center of the dipole is located?\n",
    "\n",
    "\n",
    "\n",
    "\n",
    "\n",
    "<!-- --- end exercise --- -->\n",
    "\n",
    "\n",
    "\n",
    "\n",
    "<!-- --- begin exercise --- -->\n",
    "\n",
    "## Exercise 2: Bound charges\n",
    "\n",
    "A dielectric sphere with radius $a$ has a uniform polarization $\\vec{P} = P \\mathbf{\\hat{z}}$.\n",
    "\n",
    "\n",
    "**a)**\n",
    "What is the bound volume charge density inside the sphere?\n",
    "\n",
    "\n",
    "\n",
    "\n",
    "\n",
    "**b)**\n",
    "Sketch the bound surface charge density $\\rho_{s,b}(\\theta)$ on the surface of the sphere as a function of the angle $\\theta$ in the $xz$-plane.\n",
    "\n",
    "\n",
    "\n",
    "\n",
    "\n",
    "**c)**\n",
    "What is the net bound charge on the whole sphere?\n",
    "\n",
    "\n",
    "\n",
    "\n",
    "\n",
    "<!-- --- end exercise --- -->\n",
    "\n",
    "\n",
    "\n",
    "\n",
    "<!-- --- begin exercise --- -->\n",
    "\n",
    "## Exercise 3: Charge in dielectric\n",
    "\n",
    "A charge $q$ is placed in the origin in (1) vacuum and (2) an infinite, isotropic, linear dielectric.\n",
    "\n",
    "\n",
    "**a)**\n",
    "Is the displacement field at a distance $a$ from the charge larger, equal, or smaller in case (1) than in case (2)?\n",
    "\n",
    "\n",
    "\n"
   ]
  },
  {
   "cell_type": "markdown",
   "metadata": {},
   "source": [
    "\n",
    "**b)**\n",
    "Is the electric field at a distance $a$ from the charge larger, equal, or smaller in case (1) than in case (2)?\n",
    "\n",
    "\n",
    "\n",
    "\n",
    "\n",
    "**c)**\n",
    "Is the polarization at a distance $a$ from the charge larger, equal, or smaller in case (1) than in case (2)?\n",
    "\n",
    "\n",
    "\n",
    "\n",
    "\n",
    "<!-- --- end exercise --- -->\n",
    "\n",
    "\n",
    "\n",
    "\n",
    "<!-- --- begin exercise --- -->\n",
    "\n",
    "## Exercise 4: Charge in hole\n",
    "\n",
    "A charge $q$ is placed in the origin in the center of a spherical empty hole (vacuum) or radius $a$ surrounded by an infinite, isotropic, linear dielectric.\n",
    "\n",
    "\n",
    "**a)**\n",
    "What is the electric field as a function of $r$, the distance to the charge, in the hole?\n",
    "\n",
    "\n",
    "\n",
    "\n",
    "\n",
    "**b)**\n",
    "What is the displacement field as a function of $r$, the distance to the charge, in the hole?\n",
    "\n",
    "\n",
    "\n"
   ]
  },
  {
   "cell_type": "markdown",
   "metadata": {},
   "source": [
    "\n",
    "**c)**\n",
    "What is the displacement field as a function of $r$ outside the hole? Sketch the displacement field from $r<a$ to $r>a$.\n",
    "\n",
    "\n",
    "\n",
    "\n",
    "\n",
    "**d)**\n",
    "What is the electric field as a function of $r$ outside the hole? Sketch the electric field from $r<a$ to $r>a$.\n",
    "\n",
    "\n",
    "\n",
    "\n",
    "\n",
    "<!-- --- end exercise --- -->\n",
    "\n",
    "\n",
    "\n",
    "\n",
    "<!-- --- begin exercise --- -->\n",
    "\n",
    "## Exercise 5: Continuity\n",
    "\n",
    "The figure illustrates a system consisting of an inifinite slab of a dielectric with dielectric constant $\\epsilon$ in vacumm. There are surface charge densities $\\rho_s$ and $-\\rho_s$ on the two surfaces.\n",
    "\n",
    "<!-- dom:FIGURE:[fig-polarization/polarization-ex-testcontinuity.gif, width=600 frac=0.6] -->\n",
    "<!-- begin figure -->\n",
    "\n",
    "<p></p>\n",
    "<img src=\"fig-polarization/polarization-ex-testcontinuity.gif\" width=600>\n",
    "\n",
    "<!-- end figure -->\n",
    "\n",
    "\n",
    "\n",
    "**a)**\n",
    "Sketch the free and bound surface charge densities in the system.\n",
    "\n",
    "\n",
    "\n",
    "\n",
    "\n",
    "**b)**\n",
    "Sketch the $\\vec{D}$-field in the system.\n",
    "\n",
    "\n",
    "\n",
    "\n",
    "\n",
    "**c)**\n",
    "Sketch the $\\vec{E}$-field in the system.\n",
    "\n",
    "\n",
    "\n",
    "\n",
    "\n",
    "\n",
    "\n",
    "<!-- --- end exercise --- -->\n",
    "\n",
    "\n",
    "## Discussion exercises\n",
    "\n",
    "\n",
    "\n",
    "\n",
    "<!-- --- begin exercise --- -->\n",
    "\n",
    "## Exercise 6: Temperature dependence\n",
    "\n",
    "Water is polarized when subject to an electric field. Do you think the polarization increases or decreases if you increase the temperature. Explain your reasoning.\n",
    "\n",
    "<!-- --- end exercise --- -->\n",
    "\n",
    "\n",
    "\n",
    "\n",
    "<!-- --- begin exercise --- -->\n",
    "\n",
    "## Exercise 7: Continuous change\n",
    "\n",
    "Does the scalar potential and the electric field always change continuous across boundaries? Argue that they change continuously or find examples where they do not.\n",
    "\n",
    "<!-- --- end exercise --- -->\n",
    "\n",
    "\n",
    "\n",
    "\n",
    "<!-- --- begin exercise --- -->\n",
    "\n",
    "## Exercise 8: Continuity of fields\n",
    "\n",
    "A charge $q$ lies in the origin and is enclosed by a spherically shaped dielectrical material of radius $a$, permittivity $\\epsilon$ and its center in the origin. Are the electrical fields ($\\vec{E}$ and $\\vec{D}$) continuous across the interface from the sphere to the vacuum outside? Explain your reasoning.\n",
    "\n",
    "<!-- --- end exercise --- -->\n",
    "\n",
    "\n",
    "## Tutorials\n",
    "\n",
    "<!-- This tutorial is well suited to be used in class -->\n",
    "\n",
    "\n",
    "<!-- --- begin exercise --- -->\n",
    "\n",
    "## Exercise 9: Dielectric plate in uniform field\n",
    "\n",
    "We will now build intuition and skills by addressing a particular situation in detail and develop a model for the distribution, the polarization, the electric field and the displacement field in the system.\n",
    "\n",
    "We start with a system consisting of empty space with a uniform electric field $\\vec{E}_0 = E_0 \\mathbf{\\hat{y}}$.\n",
    "\n",
    "\n",
    "**a)**\n",
    "What kind of charge distribution may be the cause of such a field? What assumptions would you then need to make about the system?\n",
    "\n",
    "\n",
    "\n",
    "We then place an infinitely long linearly dielectric plate of thickness $d$ and dielectric constant $\\epsilon$ in the $xz$-plane. We will now try to find the electric field, the distribution of bound charges, and the polarization everywhere.\n",
    "\n",
    "**b)**\n",
    "Draw the plane into a coordinate system and specify where the top and the bottom of the plane are in the coordinate system.\n",
    "\n",
    "\n",
    "\n",
    "\n",
    "\n",
    "**c)**\n",
    "Make a sketch of the behavior of bound dipoles when the dielectric is placed into the uniform electric field. What are the consequences for the net bound charge in the system? Explain the sign of the bound charges on the interfaces between the plate and the vacuum.\n",
    "\n",
    "\n",
    "\n",
    "\n",
    "\n",
    "**d)**\n",
    "You co-student John states that this problem is simple to solve. The polarization inside the plate is simply $\\vec{P} = \\chi_e \\epsilon_0 \\vec{E}_0$. Do you agree with him? Explain your reasoning.\n",
    "\n",
    "\n",
    "\n",
    "\n",
    "\n",
    "We will now solve the problem in two different ways. In method 1, we ill assume a given surface density of bound charges, use this to find the electric field due to the charges, then find the polarization, and finally find a self-consistent solution so that the polarization due to the total field is consistent with the charge density related to the polarization. In method 2, we will use the displacement field approach to solve the same problem.\n",
    "\n",
    "### Method 1: Starting from the bound charges\n",
    "\n",
    "**e)**\n",
    "Assume that there is a bound surface charge $\\rho_{s,b}$ on the top surface and a bound charge $-\\rho_{s,b}$ on the bottom surface. What is the electric field due to these charge densities? What is the total electric field?\n",
    "\n",
    "\n",
    "\n"
   ]
  },
  {
   "cell_type": "markdown",
   "metadata": {},
   "source": [
    "\n",
    "**f)**\n",
    "What is the polarization, $\\vec{P}$, for this total electric field?\n",
    "\n",
    "\n",
    "\n",
    "\n",
    "\n",
    "**g)**\n",
    "Find the charge density on the top surface from the polarization and use this to find an equation for $\\rho_{s,b}$. Solve this equation and find expressions for $\\vec{P}$ and $\\vec{E}_T$.\n",
    "\n",
    "\n",
    "\n"
   ]
  },
  {
   "cell_type": "markdown",
   "metadata": {},
   "source": [
    "\n",
    "### Method 2: Using the displacement field\n",
    "\n",
    "While method 1 provides us with insight into the physics of the problem, the methods is rather cumbersome. Let us now instead use the displacement field to solve the same problem.\n",
    "\n",
    "**h)**\n",
    "What is the displacement field, $\\vec{D}$, outside the dielectric?\n",
    "\n",
    "\n",
    "\n",
    "\n",
    "\n",
    "**i)**\n",
    "What are the boundary conditions at the interface between the dielectric and the vacuum outside?\n",
    "\n",
    "\n",
    "\n",
    "\n",
    "\n",
    "**j)**\n",
    "Show that $E_T = (\\epsilon_0/\\epsilon) E_0$.\n",
    "\n",
    "\n",
    "\n",
    "<!--  -->\n",
    "<!-- --- end exercise --- -->\n",
    "\n",
    "\n",
    "\n",
    "\n",
    "<!-- --- begin exercise --- -->\n",
    "\n",
    "## Exercise 10: Overlapping clouds of charge and polarization\n",
    "\n",
    "*(Adapted from Steven Pollock)*\n",
    "\n",
    "\n",
    "\n",
    "We will now use a similar approach to calculate the polarization and the effective field in a medium due to polarization.\n",
    "\n",
    "\n",
    "**a)**\n",
    "For an infinite $xy$-plane at $z=0$ with a surface charge density $\\sigma$, use Gauss' law to find the electric field at a position $z$ both for $z>0$ and for $z<0$.\n",
    "\n",
    "\n",
    "\n",
    "\n",
    "\n",
    "\n",
    "\n",
    "Let us now address a slab of plastic which is large in the $xy$-plane and of a thickness $h$ in the $z$-direction. We assume that the inside of the plastic slab consists of a positive ($\\rho_0$) and a negative ($-\\rho_0$) charge density. The charge densities overlap and hence cancel when there is no electric field in the interior. If a uniform electric field $\\vec{E} = E \\hat{z}$ is acting inside the material, the two charge densities are shifted a distance $\\Delta z$.\n",
    "\n",
    "**b)**\n",
    "What is the charge density on the top (large $z$) and bottom (small $z$) of the slab when it is in an electric field $\\vec{E} = E \\hat{z}$? Make a sketch to illustrate the physical process.\n",
    "\n",
    "\n",
    "\n",
    "\n",
    "\n",
    "\n",
    "\n",
    "**c)**\n",
    "What is the induced electric field, $E_i$, inside the slab due to these induced surface charge densities? ($E_i$ is the field from the induced charges, not the total electric field).\n",
    "\n",
    "\n",
    "\n",
    "\n",
    "\n",
    "\n",
    "\n",
    "**d)**\n",
    "Assume that the displacement $\\Delta z$ of the charge densities is proportional to the total local electric field, $\\Delta z = c E_{tot}$, where $c$ is a constant. Find an expression for the induced field inside the slab, $E_i$, as a function of the total electric field, $E_{tot}$, inside the slab.\n",
    "\n",
    "\n",
    "\n",
    "\n",
    "\n",
    "\n",
    "\n",
    "**e)**\n",
    "What is the total electric field inside the slab if the slab is placed in an external field $\\vec{E}_0 = E_0 \\hat{z}$.\n",
    "\n",
    "\n",
    "\n",
    "\n",
    "\n",
    "**f)**\n",
    "You can assume that the external field $\\vec{E}_0$ is the field set up by what we would call external/free charges. Can you relate your result to the general relation $\\vec{D} = \\epsilon_0 \\vec{E} + \\vec{P}$? (For a linear dielectric $\\vec{P} = \\epsilon_0 \\xi_e \\vec{E}$).\n",
    "\n",
    "\n",
    "<!-- --- end exercise --- -->\n",
    "\n",
    "\n",
    "## Homework\n",
    "\n",
    "\n",
    "\n",
    "<!-- --- begin exercise --- -->\n",
    "\n",
    "## Exercise 11: Polarized cube\n",
    "\n",
    "A dielectric cube with sides of length $a$ and dielectric constant $\\epsilon$ is placed in the first octant with a corner in the origin. There is vacuum outside the cube.\n",
    "\n",
    "\n",
    "**a)**\n",
    "Assume that the cube has a uniform polarization $\\vec{P} = P_0 \\mathbf{\\hat{x}}$. What is the density of bound charges inside the cube? And on the sides?\n",
    "\n",
    "\n",
    "\n",
    "\n",
    "\n",
    "**b)**\n",
    "Assume that the cube has a polarization $\\vec{P}(x,y,z) = P_0 xy/a^2 \\mathbf{\\hat{x}}$. What is the distribtion of bound charges in and on the cube now?\n",
    "\n",
    "\n",
    "\n"
   ]
  },
  {
   "cell_type": "markdown",
   "metadata": {},
   "source": [
    "\n",
    "<!-- --- end exercise --- -->\n",
    "\n",
    "\n",
    "\n",
    "\n",
    "<!-- --- begin exercise --- -->\n",
    "\n",
    "## Exercise 12: Long cylinder\n",
    "\n",
    "An infinitely long cylinder of radius $a$ and dielectric constant $\\epsilon$ has a uniform volume charge density $\\rho$ and is placed in air.\n",
    "\n",
    "\n",
    "**a)**\n",
    "Find the electric field inside and outside the cylinder.\n",
    "\n",
    "\n",
    "\n"
   ]
  },
  {
   "cell_type": "markdown",
   "metadata": {},
   "source": [
    "\n",
    "**b)**\n",
    "Find the bound charge on the cylinder.\n",
    "\n",
    "\n",
    "\n"
   ]
  },
  {
   "cell_type": "markdown",
   "metadata": {},
   "source": [
    "\n",
    "<!-- --- end exercise --- -->\n",
    "\n",
    "\n",
    "\n",
    "\n",
    "<!-- --- begin exercise --- -->\n",
    "\n",
    "## Exercise 13: Hollow sphere\n",
    "\n",
    "A hollow spherical shell of inner radius $a$, outer radius $b$ and dielectric constant $\\rho$ surrounds a uniformly charged sphere of radius $a$.\n",
    "\n",
    "\n",
    "**a)**\n",
    "Find the displacement field $\\vec{D}$.\n",
    "\n",
    "\n",
    "\n"
   ]
  },
  {
   "cell_type": "markdown",
   "metadata": {},
   "source": [
    "\n",
    "**b)**\n",
    "Find the electric field $\\vec{E}$.\n",
    "\n",
    "\n",
    "\n",
    "\n",
    "\n",
    "**c)**\n",
    "Find the bound volume charge density.\n",
    "\n",
    "\n",
    "\n"
   ]
  },
  {
   "cell_type": "markdown",
   "metadata": {},
   "source": [
    "\n",
    "\n",
    "\n",
    "\n",
    "<!-- --- end exercise --- -->\n",
    "\n",
    "\n",
    "# References"
   ]
  }
 ],
 "metadata": {
  "kernelspec": {
   "display_name": "Python 3",
   "language": "python",
   "name": "python3"
  },
  "language_info": {
   "codemirror_mode": {
    "name": "ipython",
    "version": 3
   },
   "file_extension": ".py",
   "mimetype": "text/x-python",
   "name": "python",
   "nbconvert_exporter": "python",
   "pygments_lexer": "ipython3",
   "version": "3.7.6"
  }
 },
 "nbformat": 4,
 "nbformat_minor": 2
}
